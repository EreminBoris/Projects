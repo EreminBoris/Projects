{
 "cells": [
  {
   "cell_type": "markdown",
   "metadata": {},
   "source": [
    "**Описание проекта**\n",
    "\n",
    "    Вы работаете в стартапе, который продаёт продукты питания. Нужно разобраться, как ведут себя пользователи вашего мобильного приложения. \n",
    "    Изучите воронку продаж. Узнайте, как пользователи доходят до покупки. Сколько пользователей доходит до покупки, а сколько — «застревает» на предыдущих шагах? На каких именно?\n",
    "    После этого исследуйте результаты A/A/B-эксперимента. Дизайнеры захотели поменять шрифты во всём приложении, а менеджеры испугались, что пользователям будет непривычно. Договорились принять решение по результатам A/A/B-теста. Пользователей разбили на 3 группы: 2 контрольные со старыми шрифтами и одну экспериментальную — с новыми. Выясните, какой шрифт лучше.\n",
    "    Создание двух групп A вместо одной имеет определённые преимущества. Если две контрольные группы окажутся равны, вы можете быть уверены в точности проведенного тестирования. Если же между значениями A и A будут существенные различия, это поможет обнаружить факторы, которые привели к искажению результатов. Сравнение контрольных групп также помогает понять, сколько времени и данных потребуется для дальнейших тестов.\n",
    "    В случае общей аналитики и A/A/B-эксперимента работайте с одними и теми же данными. В реальных проектах всегда идут эксперименты. Аналитики исследуют качество работы приложения по общим данным, не учитывая принадлежность пользователей к экспериментам."
   ]
  },
  {
   "cell_type": "markdown",
   "metadata": {},
   "source": [
    "**Описание данных**\n",
    "\n",
    "Каждая запись в логе — это действие пользователя, или событие. \n",
    "    \n",
    "    EventName — название события;\n",
    "    DeviceIDHash — уникальный идентификатор пользователя;\n",
    "    EventTimestamp — время события;\n",
    "    ExpId — номер эксперимента: 246 и 247 — контрольные группы, а 248 — экспериментальная."
   ]
  },
  {
   "cell_type": "code",
   "execution_count": 1,
   "metadata": {},
   "outputs": [],
   "source": [
    "import pandas as pd\n",
    "import seaborn as sns\n",
    "import numpy as np\n",
    "import matplotlib.pyplot as plt\n",
    "import plotly.express as px\n",
    "import math as mth\n",
    "from scipy import stats as st"
   ]
  },
  {
   "cell_type": "markdown",
   "metadata": {},
   "source": [
    "## Подготовка данных ##"
   ]
  },
  {
   "cell_type": "code",
   "execution_count": 2,
   "metadata": {},
   "outputs": [],
   "source": [
    "data = pd.read_csv('/datasets/logs_exp.csv', sep='\\t')"
   ]
  },
  {
   "cell_type": "code",
   "execution_count": 3,
   "metadata": {},
   "outputs": [
    {
     "data": {
      "text/html": [
       "<div>\n",
       "<style scoped>\n",
       "    .dataframe tbody tr th:only-of-type {\n",
       "        vertical-align: middle;\n",
       "    }\n",
       "\n",
       "    .dataframe tbody tr th {\n",
       "        vertical-align: top;\n",
       "    }\n",
       "\n",
       "    .dataframe thead th {\n",
       "        text-align: right;\n",
       "    }\n",
       "</style>\n",
       "<table border=\"1\" class=\"dataframe\">\n",
       "  <thead>\n",
       "    <tr style=\"text-align: right;\">\n",
       "      <th></th>\n",
       "      <th>EventName</th>\n",
       "      <th>DeviceIDHash</th>\n",
       "      <th>EventTimestamp</th>\n",
       "      <th>ExpId</th>\n",
       "    </tr>\n",
       "  </thead>\n",
       "  <tbody>\n",
       "    <tr>\n",
       "      <th>0</th>\n",
       "      <td>MainScreenAppear</td>\n",
       "      <td>4575588528974610257</td>\n",
       "      <td>1564029816</td>\n",
       "      <td>246</td>\n",
       "    </tr>\n",
       "    <tr>\n",
       "      <th>1</th>\n",
       "      <td>MainScreenAppear</td>\n",
       "      <td>7416695313311560658</td>\n",
       "      <td>1564053102</td>\n",
       "      <td>246</td>\n",
       "    </tr>\n",
       "    <tr>\n",
       "      <th>2</th>\n",
       "      <td>PaymentScreenSuccessful</td>\n",
       "      <td>3518123091307005509</td>\n",
       "      <td>1564054127</td>\n",
       "      <td>248</td>\n",
       "    </tr>\n",
       "    <tr>\n",
       "      <th>3</th>\n",
       "      <td>CartScreenAppear</td>\n",
       "      <td>3518123091307005509</td>\n",
       "      <td>1564054127</td>\n",
       "      <td>248</td>\n",
       "    </tr>\n",
       "    <tr>\n",
       "      <th>4</th>\n",
       "      <td>PaymentScreenSuccessful</td>\n",
       "      <td>6217807653094995999</td>\n",
       "      <td>1564055322</td>\n",
       "      <td>248</td>\n",
       "    </tr>\n",
       "    <tr>\n",
       "      <th>...</th>\n",
       "      <td>...</td>\n",
       "      <td>...</td>\n",
       "      <td>...</td>\n",
       "      <td>...</td>\n",
       "    </tr>\n",
       "    <tr>\n",
       "      <th>244121</th>\n",
       "      <td>MainScreenAppear</td>\n",
       "      <td>4599628364049201812</td>\n",
       "      <td>1565212345</td>\n",
       "      <td>247</td>\n",
       "    </tr>\n",
       "    <tr>\n",
       "      <th>244122</th>\n",
       "      <td>MainScreenAppear</td>\n",
       "      <td>5849806612437486590</td>\n",
       "      <td>1565212439</td>\n",
       "      <td>246</td>\n",
       "    </tr>\n",
       "    <tr>\n",
       "      <th>244123</th>\n",
       "      <td>MainScreenAppear</td>\n",
       "      <td>5746969938801999050</td>\n",
       "      <td>1565212483</td>\n",
       "      <td>246</td>\n",
       "    </tr>\n",
       "    <tr>\n",
       "      <th>244124</th>\n",
       "      <td>MainScreenAppear</td>\n",
       "      <td>5746969938801999050</td>\n",
       "      <td>1565212498</td>\n",
       "      <td>246</td>\n",
       "    </tr>\n",
       "    <tr>\n",
       "      <th>244125</th>\n",
       "      <td>OffersScreenAppear</td>\n",
       "      <td>5746969938801999050</td>\n",
       "      <td>1565212517</td>\n",
       "      <td>246</td>\n",
       "    </tr>\n",
       "  </tbody>\n",
       "</table>\n",
       "<p>244126 rows × 4 columns</p>\n",
       "</div>"
      ],
      "text/plain": [
       "                      EventName         DeviceIDHash  EventTimestamp  ExpId\n",
       "0              MainScreenAppear  4575588528974610257      1564029816    246\n",
       "1              MainScreenAppear  7416695313311560658      1564053102    246\n",
       "2       PaymentScreenSuccessful  3518123091307005509      1564054127    248\n",
       "3              CartScreenAppear  3518123091307005509      1564054127    248\n",
       "4       PaymentScreenSuccessful  6217807653094995999      1564055322    248\n",
       "...                         ...                  ...             ...    ...\n",
       "244121         MainScreenAppear  4599628364049201812      1565212345    247\n",
       "244122         MainScreenAppear  5849806612437486590      1565212439    246\n",
       "244123         MainScreenAppear  5746969938801999050      1565212483    246\n",
       "244124         MainScreenAppear  5746969938801999050      1565212498    246\n",
       "244125       OffersScreenAppear  5746969938801999050      1565212517    246\n",
       "\n",
       "[244126 rows x 4 columns]"
      ]
     },
     "execution_count": 3,
     "metadata": {},
     "output_type": "execute_result"
    }
   ],
   "source": [
    "data"
   ]
  },
  {
   "cell_type": "code",
   "execution_count": 4,
   "metadata": {},
   "outputs": [],
   "source": [
    "data.columns = ['event_name', 'user_id', 'event_timestamp', 'exp_id']"
   ]
  },
  {
   "cell_type": "markdown",
   "metadata": {},
   "source": [
    "**Измененное описание данных**\n",
    "\n",
    "Каждая запись в логе — это действие пользователя, или событие. \n",
    "    \n",
    "    event_name — название события;\n",
    "    user_id — уникальный идентификатор пользователя;\n",
    "    event_timestamp — время события;\n",
    "    exp_id — номер эксперимента: 246 и 247 — контрольные группы, а 248 — экспериментальная."
   ]
  },
  {
   "cell_type": "code",
   "execution_count": 5,
   "metadata": {},
   "outputs": [
    {
     "data": {
      "text/html": [
       "<div>\n",
       "<style scoped>\n",
       "    .dataframe tbody tr th:only-of-type {\n",
       "        vertical-align: middle;\n",
       "    }\n",
       "\n",
       "    .dataframe tbody tr th {\n",
       "        vertical-align: top;\n",
       "    }\n",
       "\n",
       "    .dataframe thead th {\n",
       "        text-align: right;\n",
       "    }\n",
       "</style>\n",
       "<table border=\"1\" class=\"dataframe\">\n",
       "  <thead>\n",
       "    <tr style=\"text-align: right;\">\n",
       "      <th></th>\n",
       "      <th>event_name</th>\n",
       "      <th>user_id</th>\n",
       "      <th>event_timestamp</th>\n",
       "      <th>exp_id</th>\n",
       "    </tr>\n",
       "  </thead>\n",
       "  <tbody>\n",
       "    <tr>\n",
       "      <th>0</th>\n",
       "      <td>MainScreenAppear</td>\n",
       "      <td>4575588528974610257</td>\n",
       "      <td>1564029816</td>\n",
       "      <td>246</td>\n",
       "    </tr>\n",
       "    <tr>\n",
       "      <th>1</th>\n",
       "      <td>MainScreenAppear</td>\n",
       "      <td>7416695313311560658</td>\n",
       "      <td>1564053102</td>\n",
       "      <td>246</td>\n",
       "    </tr>\n",
       "    <tr>\n",
       "      <th>2</th>\n",
       "      <td>PaymentScreenSuccessful</td>\n",
       "      <td>3518123091307005509</td>\n",
       "      <td>1564054127</td>\n",
       "      <td>248</td>\n",
       "    </tr>\n",
       "    <tr>\n",
       "      <th>3</th>\n",
       "      <td>CartScreenAppear</td>\n",
       "      <td>3518123091307005509</td>\n",
       "      <td>1564054127</td>\n",
       "      <td>248</td>\n",
       "    </tr>\n",
       "    <tr>\n",
       "      <th>4</th>\n",
       "      <td>PaymentScreenSuccessful</td>\n",
       "      <td>6217807653094995999</td>\n",
       "      <td>1564055322</td>\n",
       "      <td>248</td>\n",
       "    </tr>\n",
       "    <tr>\n",
       "      <th>...</th>\n",
       "      <td>...</td>\n",
       "      <td>...</td>\n",
       "      <td>...</td>\n",
       "      <td>...</td>\n",
       "    </tr>\n",
       "    <tr>\n",
       "      <th>244121</th>\n",
       "      <td>MainScreenAppear</td>\n",
       "      <td>4599628364049201812</td>\n",
       "      <td>1565212345</td>\n",
       "      <td>247</td>\n",
       "    </tr>\n",
       "    <tr>\n",
       "      <th>244122</th>\n",
       "      <td>MainScreenAppear</td>\n",
       "      <td>5849806612437486590</td>\n",
       "      <td>1565212439</td>\n",
       "      <td>246</td>\n",
       "    </tr>\n",
       "    <tr>\n",
       "      <th>244123</th>\n",
       "      <td>MainScreenAppear</td>\n",
       "      <td>5746969938801999050</td>\n",
       "      <td>1565212483</td>\n",
       "      <td>246</td>\n",
       "    </tr>\n",
       "    <tr>\n",
       "      <th>244124</th>\n",
       "      <td>MainScreenAppear</td>\n",
       "      <td>5746969938801999050</td>\n",
       "      <td>1565212498</td>\n",
       "      <td>246</td>\n",
       "    </tr>\n",
       "    <tr>\n",
       "      <th>244125</th>\n",
       "      <td>OffersScreenAppear</td>\n",
       "      <td>5746969938801999050</td>\n",
       "      <td>1565212517</td>\n",
       "      <td>246</td>\n",
       "    </tr>\n",
       "  </tbody>\n",
       "</table>\n",
       "<p>244126 rows × 4 columns</p>\n",
       "</div>"
      ],
      "text/plain": [
       "                     event_name              user_id  event_timestamp  exp_id\n",
       "0              MainScreenAppear  4575588528974610257       1564029816     246\n",
       "1              MainScreenAppear  7416695313311560658       1564053102     246\n",
       "2       PaymentScreenSuccessful  3518123091307005509       1564054127     248\n",
       "3              CartScreenAppear  3518123091307005509       1564054127     248\n",
       "4       PaymentScreenSuccessful  6217807653094995999       1564055322     248\n",
       "...                         ...                  ...              ...     ...\n",
       "244121         MainScreenAppear  4599628364049201812       1565212345     247\n",
       "244122         MainScreenAppear  5849806612437486590       1565212439     246\n",
       "244123         MainScreenAppear  5746969938801999050       1565212483     246\n",
       "244124         MainScreenAppear  5746969938801999050       1565212498     246\n",
       "244125       OffersScreenAppear  5746969938801999050       1565212517     246\n",
       "\n",
       "[244126 rows x 4 columns]"
      ]
     },
     "execution_count": 5,
     "metadata": {},
     "output_type": "execute_result"
    }
   ],
   "source": [
    "data"
   ]
  },
  {
   "cell_type": "markdown",
   "metadata": {},
   "source": [
    "**Пропуски**"
   ]
  },
  {
   "cell_type": "code",
   "execution_count": 6,
   "metadata": {
    "scrolled": true
   },
   "outputs": [
    {
     "data": {
      "text/plain": [
       "event_name         0\n",
       "user_id            0\n",
       "event_timestamp    0\n",
       "exp_id             0\n",
       "dtype: int64"
      ]
     },
     "execution_count": 6,
     "metadata": {},
     "output_type": "execute_result"
    }
   ],
   "source": [
    "data.isna().sum()"
   ]
  },
  {
   "cell_type": "markdown",
   "metadata": {},
   "source": [
    "**Форматы**"
   ]
  },
  {
   "cell_type": "code",
   "execution_count": 7,
   "metadata": {},
   "outputs": [
    {
     "name": "stdout",
     "output_type": "stream",
     "text": [
      "<class 'pandas.core.frame.DataFrame'>\n",
      "RangeIndex: 244126 entries, 0 to 244125\n",
      "Data columns (total 4 columns):\n",
      " #   Column           Non-Null Count   Dtype \n",
      "---  ------           --------------   ----- \n",
      " 0   event_name       244126 non-null  object\n",
      " 1   user_id          244126 non-null  int64 \n",
      " 2   event_timestamp  244126 non-null  int64 \n",
      " 3   exp_id           244126 non-null  int64 \n",
      "dtypes: int64(3), object(1)\n",
      "memory usage: 7.5+ MB\n"
     ]
    }
   ],
   "source": [
    "data.info()"
   ]
  },
  {
   "cell_type": "code",
   "execution_count": 8,
   "metadata": {},
   "outputs": [],
   "source": [
    "data['datetime'] = pd.to_datetime(data['event_timestamp'], unit='s')"
   ]
  },
  {
   "cell_type": "code",
   "execution_count": 9,
   "metadata": {},
   "outputs": [
    {
     "data": {
      "text/html": [
       "<div>\n",
       "<style scoped>\n",
       "    .dataframe tbody tr th:only-of-type {\n",
       "        vertical-align: middle;\n",
       "    }\n",
       "\n",
       "    .dataframe tbody tr th {\n",
       "        vertical-align: top;\n",
       "    }\n",
       "\n",
       "    .dataframe thead th {\n",
       "        text-align: right;\n",
       "    }\n",
       "</style>\n",
       "<table border=\"1\" class=\"dataframe\">\n",
       "  <thead>\n",
       "    <tr style=\"text-align: right;\">\n",
       "      <th></th>\n",
       "      <th>event_name</th>\n",
       "      <th>user_id</th>\n",
       "      <th>event_timestamp</th>\n",
       "      <th>exp_id</th>\n",
       "      <th>datetime</th>\n",
       "    </tr>\n",
       "  </thead>\n",
       "  <tbody>\n",
       "    <tr>\n",
       "      <th>0</th>\n",
       "      <td>MainScreenAppear</td>\n",
       "      <td>4575588528974610257</td>\n",
       "      <td>1564029816</td>\n",
       "      <td>246</td>\n",
       "      <td>2019-07-25 04:43:36</td>\n",
       "    </tr>\n",
       "    <tr>\n",
       "      <th>1</th>\n",
       "      <td>MainScreenAppear</td>\n",
       "      <td>7416695313311560658</td>\n",
       "      <td>1564053102</td>\n",
       "      <td>246</td>\n",
       "      <td>2019-07-25 11:11:42</td>\n",
       "    </tr>\n",
       "    <tr>\n",
       "      <th>2</th>\n",
       "      <td>PaymentScreenSuccessful</td>\n",
       "      <td>3518123091307005509</td>\n",
       "      <td>1564054127</td>\n",
       "      <td>248</td>\n",
       "      <td>2019-07-25 11:28:47</td>\n",
       "    </tr>\n",
       "    <tr>\n",
       "      <th>3</th>\n",
       "      <td>CartScreenAppear</td>\n",
       "      <td>3518123091307005509</td>\n",
       "      <td>1564054127</td>\n",
       "      <td>248</td>\n",
       "      <td>2019-07-25 11:28:47</td>\n",
       "    </tr>\n",
       "    <tr>\n",
       "      <th>4</th>\n",
       "      <td>PaymentScreenSuccessful</td>\n",
       "      <td>6217807653094995999</td>\n",
       "      <td>1564055322</td>\n",
       "      <td>248</td>\n",
       "      <td>2019-07-25 11:48:42</td>\n",
       "    </tr>\n",
       "    <tr>\n",
       "      <th>...</th>\n",
       "      <td>...</td>\n",
       "      <td>...</td>\n",
       "      <td>...</td>\n",
       "      <td>...</td>\n",
       "      <td>...</td>\n",
       "    </tr>\n",
       "    <tr>\n",
       "      <th>244121</th>\n",
       "      <td>MainScreenAppear</td>\n",
       "      <td>4599628364049201812</td>\n",
       "      <td>1565212345</td>\n",
       "      <td>247</td>\n",
       "      <td>2019-08-07 21:12:25</td>\n",
       "    </tr>\n",
       "    <tr>\n",
       "      <th>244122</th>\n",
       "      <td>MainScreenAppear</td>\n",
       "      <td>5849806612437486590</td>\n",
       "      <td>1565212439</td>\n",
       "      <td>246</td>\n",
       "      <td>2019-08-07 21:13:59</td>\n",
       "    </tr>\n",
       "    <tr>\n",
       "      <th>244123</th>\n",
       "      <td>MainScreenAppear</td>\n",
       "      <td>5746969938801999050</td>\n",
       "      <td>1565212483</td>\n",
       "      <td>246</td>\n",
       "      <td>2019-08-07 21:14:43</td>\n",
       "    </tr>\n",
       "    <tr>\n",
       "      <th>244124</th>\n",
       "      <td>MainScreenAppear</td>\n",
       "      <td>5746969938801999050</td>\n",
       "      <td>1565212498</td>\n",
       "      <td>246</td>\n",
       "      <td>2019-08-07 21:14:58</td>\n",
       "    </tr>\n",
       "    <tr>\n",
       "      <th>244125</th>\n",
       "      <td>OffersScreenAppear</td>\n",
       "      <td>5746969938801999050</td>\n",
       "      <td>1565212517</td>\n",
       "      <td>246</td>\n",
       "      <td>2019-08-07 21:15:17</td>\n",
       "    </tr>\n",
       "  </tbody>\n",
       "</table>\n",
       "<p>244126 rows × 5 columns</p>\n",
       "</div>"
      ],
      "text/plain": [
       "                     event_name              user_id  event_timestamp  exp_id  \\\n",
       "0              MainScreenAppear  4575588528974610257       1564029816     246   \n",
       "1              MainScreenAppear  7416695313311560658       1564053102     246   \n",
       "2       PaymentScreenSuccessful  3518123091307005509       1564054127     248   \n",
       "3              CartScreenAppear  3518123091307005509       1564054127     248   \n",
       "4       PaymentScreenSuccessful  6217807653094995999       1564055322     248   \n",
       "...                         ...                  ...              ...     ...   \n",
       "244121         MainScreenAppear  4599628364049201812       1565212345     247   \n",
       "244122         MainScreenAppear  5849806612437486590       1565212439     246   \n",
       "244123         MainScreenAppear  5746969938801999050       1565212483     246   \n",
       "244124         MainScreenAppear  5746969938801999050       1565212498     246   \n",
       "244125       OffersScreenAppear  5746969938801999050       1565212517     246   \n",
       "\n",
       "                  datetime  \n",
       "0      2019-07-25 04:43:36  \n",
       "1      2019-07-25 11:11:42  \n",
       "2      2019-07-25 11:28:47  \n",
       "3      2019-07-25 11:28:47  \n",
       "4      2019-07-25 11:48:42  \n",
       "...                    ...  \n",
       "244121 2019-08-07 21:12:25  \n",
       "244122 2019-08-07 21:13:59  \n",
       "244123 2019-08-07 21:14:43  \n",
       "244124 2019-08-07 21:14:58  \n",
       "244125 2019-08-07 21:15:17  \n",
       "\n",
       "[244126 rows x 5 columns]"
      ]
     },
     "execution_count": 9,
     "metadata": {},
     "output_type": "execute_result"
    }
   ],
   "source": [
    "data"
   ]
  },
  {
   "cell_type": "code",
   "execution_count": 10,
   "metadata": {},
   "outputs": [],
   "source": [
    "data['date'] = data['datetime'].dt.date"
   ]
  },
  {
   "cell_type": "code",
   "execution_count": 11,
   "metadata": {},
   "outputs": [
    {
     "data": {
      "text/html": [
       "<div>\n",
       "<style scoped>\n",
       "    .dataframe tbody tr th:only-of-type {\n",
       "        vertical-align: middle;\n",
       "    }\n",
       "\n",
       "    .dataframe tbody tr th {\n",
       "        vertical-align: top;\n",
       "    }\n",
       "\n",
       "    .dataframe thead th {\n",
       "        text-align: right;\n",
       "    }\n",
       "</style>\n",
       "<table border=\"1\" class=\"dataframe\">\n",
       "  <thead>\n",
       "    <tr style=\"text-align: right;\">\n",
       "      <th></th>\n",
       "      <th>event_name</th>\n",
       "      <th>user_id</th>\n",
       "      <th>event_timestamp</th>\n",
       "      <th>exp_id</th>\n",
       "      <th>datetime</th>\n",
       "      <th>date</th>\n",
       "    </tr>\n",
       "  </thead>\n",
       "  <tbody>\n",
       "    <tr>\n",
       "      <th>0</th>\n",
       "      <td>MainScreenAppear</td>\n",
       "      <td>4575588528974610257</td>\n",
       "      <td>1564029816</td>\n",
       "      <td>246</td>\n",
       "      <td>2019-07-25 04:43:36</td>\n",
       "      <td>2019-07-25</td>\n",
       "    </tr>\n",
       "    <tr>\n",
       "      <th>1</th>\n",
       "      <td>MainScreenAppear</td>\n",
       "      <td>7416695313311560658</td>\n",
       "      <td>1564053102</td>\n",
       "      <td>246</td>\n",
       "      <td>2019-07-25 11:11:42</td>\n",
       "      <td>2019-07-25</td>\n",
       "    </tr>\n",
       "    <tr>\n",
       "      <th>2</th>\n",
       "      <td>PaymentScreenSuccessful</td>\n",
       "      <td>3518123091307005509</td>\n",
       "      <td>1564054127</td>\n",
       "      <td>248</td>\n",
       "      <td>2019-07-25 11:28:47</td>\n",
       "      <td>2019-07-25</td>\n",
       "    </tr>\n",
       "    <tr>\n",
       "      <th>3</th>\n",
       "      <td>CartScreenAppear</td>\n",
       "      <td>3518123091307005509</td>\n",
       "      <td>1564054127</td>\n",
       "      <td>248</td>\n",
       "      <td>2019-07-25 11:28:47</td>\n",
       "      <td>2019-07-25</td>\n",
       "    </tr>\n",
       "    <tr>\n",
       "      <th>4</th>\n",
       "      <td>PaymentScreenSuccessful</td>\n",
       "      <td>6217807653094995999</td>\n",
       "      <td>1564055322</td>\n",
       "      <td>248</td>\n",
       "      <td>2019-07-25 11:48:42</td>\n",
       "      <td>2019-07-25</td>\n",
       "    </tr>\n",
       "    <tr>\n",
       "      <th>...</th>\n",
       "      <td>...</td>\n",
       "      <td>...</td>\n",
       "      <td>...</td>\n",
       "      <td>...</td>\n",
       "      <td>...</td>\n",
       "      <td>...</td>\n",
       "    </tr>\n",
       "    <tr>\n",
       "      <th>244121</th>\n",
       "      <td>MainScreenAppear</td>\n",
       "      <td>4599628364049201812</td>\n",
       "      <td>1565212345</td>\n",
       "      <td>247</td>\n",
       "      <td>2019-08-07 21:12:25</td>\n",
       "      <td>2019-08-07</td>\n",
       "    </tr>\n",
       "    <tr>\n",
       "      <th>244122</th>\n",
       "      <td>MainScreenAppear</td>\n",
       "      <td>5849806612437486590</td>\n",
       "      <td>1565212439</td>\n",
       "      <td>246</td>\n",
       "      <td>2019-08-07 21:13:59</td>\n",
       "      <td>2019-08-07</td>\n",
       "    </tr>\n",
       "    <tr>\n",
       "      <th>244123</th>\n",
       "      <td>MainScreenAppear</td>\n",
       "      <td>5746969938801999050</td>\n",
       "      <td>1565212483</td>\n",
       "      <td>246</td>\n",
       "      <td>2019-08-07 21:14:43</td>\n",
       "      <td>2019-08-07</td>\n",
       "    </tr>\n",
       "    <tr>\n",
       "      <th>244124</th>\n",
       "      <td>MainScreenAppear</td>\n",
       "      <td>5746969938801999050</td>\n",
       "      <td>1565212498</td>\n",
       "      <td>246</td>\n",
       "      <td>2019-08-07 21:14:58</td>\n",
       "      <td>2019-08-07</td>\n",
       "    </tr>\n",
       "    <tr>\n",
       "      <th>244125</th>\n",
       "      <td>OffersScreenAppear</td>\n",
       "      <td>5746969938801999050</td>\n",
       "      <td>1565212517</td>\n",
       "      <td>246</td>\n",
       "      <td>2019-08-07 21:15:17</td>\n",
       "      <td>2019-08-07</td>\n",
       "    </tr>\n",
       "  </tbody>\n",
       "</table>\n",
       "<p>244126 rows × 6 columns</p>\n",
       "</div>"
      ],
      "text/plain": [
       "                     event_name              user_id  event_timestamp  exp_id  \\\n",
       "0              MainScreenAppear  4575588528974610257       1564029816     246   \n",
       "1              MainScreenAppear  7416695313311560658       1564053102     246   \n",
       "2       PaymentScreenSuccessful  3518123091307005509       1564054127     248   \n",
       "3              CartScreenAppear  3518123091307005509       1564054127     248   \n",
       "4       PaymentScreenSuccessful  6217807653094995999       1564055322     248   \n",
       "...                         ...                  ...              ...     ...   \n",
       "244121         MainScreenAppear  4599628364049201812       1565212345     247   \n",
       "244122         MainScreenAppear  5849806612437486590       1565212439     246   \n",
       "244123         MainScreenAppear  5746969938801999050       1565212483     246   \n",
       "244124         MainScreenAppear  5746969938801999050       1565212498     246   \n",
       "244125       OffersScreenAppear  5746969938801999050       1565212517     246   \n",
       "\n",
       "                  datetime        date  \n",
       "0      2019-07-25 04:43:36  2019-07-25  \n",
       "1      2019-07-25 11:11:42  2019-07-25  \n",
       "2      2019-07-25 11:28:47  2019-07-25  \n",
       "3      2019-07-25 11:28:47  2019-07-25  \n",
       "4      2019-07-25 11:48:42  2019-07-25  \n",
       "...                    ...         ...  \n",
       "244121 2019-08-07 21:12:25  2019-08-07  \n",
       "244122 2019-08-07 21:13:59  2019-08-07  \n",
       "244123 2019-08-07 21:14:43  2019-08-07  \n",
       "244124 2019-08-07 21:14:58  2019-08-07  \n",
       "244125 2019-08-07 21:15:17  2019-08-07  \n",
       "\n",
       "[244126 rows x 6 columns]"
      ]
     },
     "execution_count": 11,
     "metadata": {},
     "output_type": "execute_result"
    }
   ],
   "source": [
    "data"
   ]
  },
  {
   "cell_type": "code",
   "execution_count": 12,
   "metadata": {},
   "outputs": [
    {
     "name": "stdout",
     "output_type": "stream",
     "text": [
      "<class 'pandas.core.frame.DataFrame'>\n",
      "RangeIndex: 244126 entries, 0 to 244125\n",
      "Data columns (total 6 columns):\n",
      " #   Column           Non-Null Count   Dtype         \n",
      "---  ------           --------------   -----         \n",
      " 0   event_name       244126 non-null  object        \n",
      " 1   user_id          244126 non-null  int64         \n",
      " 2   event_timestamp  244126 non-null  int64         \n",
      " 3   exp_id           244126 non-null  int64         \n",
      " 4   datetime         244126 non-null  datetime64[ns]\n",
      " 5   date             244126 non-null  object        \n",
      "dtypes: datetime64[ns](1), int64(3), object(2)\n",
      "memory usage: 11.2+ MB\n"
     ]
    }
   ],
   "source": [
    "data.info()"
   ]
  },
  {
   "cell_type": "code",
   "execution_count": 13,
   "metadata": {},
   "outputs": [
    {
     "name": "stdout",
     "output_type": "stream",
     "text": [
      "<class 'pandas.core.frame.DataFrame'>\n",
      "RangeIndex: 244126 entries, 0 to 244125\n",
      "Data columns (total 6 columns):\n",
      " #   Column           Non-Null Count   Dtype         \n",
      "---  ------           --------------   -----         \n",
      " 0   event_name       244126 non-null  object        \n",
      " 1   user_id          244126 non-null  int64         \n",
      " 2   event_timestamp  244126 non-null  int64         \n",
      " 3   exp_id           244126 non-null  int64         \n",
      " 4   datetime         244126 non-null  datetime64[ns]\n",
      " 5   date             244126 non-null  datetime64[ns]\n",
      "dtypes: datetime64[ns](2), int64(3), object(1)\n",
      "memory usage: 11.2+ MB\n"
     ]
    }
   ],
   "source": [
    "data['date'] = data['date'].astype('datetime64')\n",
    "data.info()"
   ]
  },
  {
   "cell_type": "markdown",
   "metadata": {},
   "source": [
    "**Дубликаты**"
   ]
  },
  {
   "cell_type": "code",
   "execution_count": 14,
   "metadata": {},
   "outputs": [
    {
     "data": {
      "text/plain": [
       "413"
      ]
     },
     "execution_count": 14,
     "metadata": {},
     "output_type": "execute_result"
    }
   ],
   "source": [
    "data.duplicated().sum()"
   ]
  },
  {
   "cell_type": "code",
   "execution_count": 15,
   "metadata": {},
   "outputs": [
    {
     "data": {
      "text/plain": [
       "0"
      ]
     },
     "execution_count": 15,
     "metadata": {},
     "output_type": "execute_result"
    }
   ],
   "source": [
    "data = data.drop_duplicates()\n",
    "data.duplicated().sum()"
   ]
  },
  {
   "cell_type": "code",
   "execution_count": 16,
   "metadata": {},
   "outputs": [],
   "source": [
    "data = data.reset_index(drop=True)"
   ]
  },
  {
   "cell_type": "markdown",
   "metadata": {},
   "source": [
    "**Таблица готова для анализа**"
   ]
  },
  {
   "cell_type": "markdown",
   "metadata": {},
   "source": [
    "## Изучение и проверка данных ##"
   ]
  },
  {
   "cell_type": "markdown",
   "metadata": {},
   "source": [
    "Кол-во событий в логе"
   ]
  },
  {
   "cell_type": "code",
   "execution_count": 17,
   "metadata": {},
   "outputs": [
    {
     "data": {
      "text/plain": [
       "MainScreenAppear           119101\n",
       "OffersScreenAppear          46808\n",
       "CartScreenAppear            42668\n",
       "PaymentScreenSuccessful     34118\n",
       "Tutorial                     1018\n",
       "Name: event_name, dtype: int64"
      ]
     },
     "execution_count": 17,
     "metadata": {},
     "output_type": "execute_result"
    }
   ],
   "source": [
    "data['event_name'].value_counts()"
   ]
  },
  {
   "cell_type": "markdown",
   "metadata": {},
   "source": [
    "**кол-во уникальных событий:**"
   ]
  },
  {
   "cell_type": "code",
   "execution_count": 18,
   "metadata": {},
   "outputs": [
    {
     "data": {
      "text/plain": [
       "5"
      ]
     },
     "execution_count": 18,
     "metadata": {},
     "output_type": "execute_result"
    }
   ],
   "source": [
    "unique_event = data['event_name'].nunique()\n",
    "unique_event"
   ]
  },
  {
   "cell_type": "markdown",
   "metadata": {},
   "source": [
    "**общее кол-во событий:**"
   ]
  },
  {
   "cell_type": "code",
   "execution_count": 19,
   "metadata": {},
   "outputs": [
    {
     "data": {
      "text/plain": [
       "243713"
      ]
     },
     "execution_count": 19,
     "metadata": {},
     "output_type": "execute_result"
    }
   ],
   "source": [
    "data['event_name'].count()"
   ]
  },
  {
   "cell_type": "markdown",
   "metadata": {},
   "source": [
    "**кол-во пользователей:**"
   ]
  },
  {
   "cell_type": "code",
   "execution_count": 20,
   "metadata": {},
   "outputs": [
    {
     "data": {
      "text/plain": [
       "7551"
      ]
     },
     "execution_count": 20,
     "metadata": {},
     "output_type": "execute_result"
    }
   ],
   "source": [
    "data['user_id'].nunique()"
   ]
  },
  {
   "cell_type": "markdown",
   "metadata": {},
   "source": [
    "**Cреднее кол-во событий ,приходящихся на пользователя:**"
   ]
  },
  {
   "cell_type": "code",
   "execution_count": 21,
   "metadata": {},
   "outputs": [
    {
     "data": {
      "text/plain": [
       "32.27559263673685"
      ]
     },
     "execution_count": 21,
     "metadata": {},
     "output_type": "execute_result"
    }
   ],
   "source": [
    "data['event_name'].count()/data['user_id'].nunique()"
   ]
  },
  {
   "cell_type": "code",
   "execution_count": 76,
   "metadata": {},
   "outputs": [
    {
     "data": {
      "image/png": "[encoded data removed]",
      "text/plain": [
       "<Figure size 720x288 with 1 Axes>"
      ]
     },
     "metadata": {
      "needs_background": "light"
     },
     "output_type": "display_data"
    }
   ],
   "source": [
    "plt.figure(figsize=(10,4))\n",
    "plt.hist(data['event_name'], bins=20);\n"
   ]
  },
  {
   "cell_type": "markdown",
   "metadata": {},
   "source": [
    "**Распределение данных по времени:**"
   ]
  },
  {
   "cell_type": "code",
   "execution_count": 23,
   "metadata": {},
   "outputs": [
    {
     "name": "stdout",
     "output_type": "stream",
     "text": [
      "Начало периода: 2019-07-25 00:00:00\n",
      "Конец периода: 2019-08-07 00:00:00\n"
     ]
    }
   ],
   "source": [
    "print('Начало периода:', data['date'].min())\n",
    "print('Конец периода:', data['date'].max())\n"
   ]
  },
  {
   "cell_type": "code",
   "execution_count": 24,
   "metadata": {},
   "outputs": [
    {
     "name": "stdout",
     "output_type": "stream",
     "text": [
      "Период: 13 days 00:00:00\n"
     ]
    }
   ],
   "source": [
    "print('Период:', data['date'].max() - data['date'].min())"
   ]
  },
  {
   "cell_type": "markdown",
   "metadata": {},
   "source": [
    "Нам предоставленны данные за 13ти дневный период."
   ]
  },
  {
   "cell_type": "code",
   "execution_count": 25,
   "metadata": {},
   "outputs": [
    {
     "data": {
      "text/html": [
       "<div>\n",
       "<style scoped>\n",
       "    .dataframe tbody tr th:only-of-type {\n",
       "        vertical-align: middle;\n",
       "    }\n",
       "\n",
       "    .dataframe tbody tr th {\n",
       "        vertical-align: top;\n",
       "    }\n",
       "\n",
       "    .dataframe thead th {\n",
       "        text-align: right;\n",
       "    }\n",
       "</style>\n",
       "<table border=\"1\" class=\"dataframe\">\n",
       "  <thead>\n",
       "    <tr style=\"text-align: right;\">\n",
       "      <th></th>\n",
       "      <th>event_name</th>\n",
       "    </tr>\n",
       "    <tr>\n",
       "      <th>date</th>\n",
       "      <th></th>\n",
       "    </tr>\n",
       "  </thead>\n",
       "  <tbody>\n",
       "    <tr>\n",
       "      <th>2019-07-25</th>\n",
       "      <td>9</td>\n",
       "    </tr>\n",
       "    <tr>\n",
       "      <th>2019-07-26</th>\n",
       "      <td>31</td>\n",
       "    </tr>\n",
       "    <tr>\n",
       "      <th>2019-07-27</th>\n",
       "      <td>55</td>\n",
       "    </tr>\n",
       "    <tr>\n",
       "      <th>2019-07-28</th>\n",
       "      <td>105</td>\n",
       "    </tr>\n",
       "    <tr>\n",
       "      <th>2019-07-29</th>\n",
       "      <td>184</td>\n",
       "    </tr>\n",
       "    <tr>\n",
       "      <th>2019-07-30</th>\n",
       "      <td>412</td>\n",
       "    </tr>\n",
       "    <tr>\n",
       "      <th>2019-07-31</th>\n",
       "      <td>2030</td>\n",
       "    </tr>\n",
       "    <tr>\n",
       "      <th>2019-08-01</th>\n",
       "      <td>36141</td>\n",
       "    </tr>\n",
       "    <tr>\n",
       "      <th>2019-08-02</th>\n",
       "      <td>35554</td>\n",
       "    </tr>\n",
       "    <tr>\n",
       "      <th>2019-08-03</th>\n",
       "      <td>33282</td>\n",
       "    </tr>\n",
       "    <tr>\n",
       "      <th>2019-08-04</th>\n",
       "      <td>32968</td>\n",
       "    </tr>\n",
       "    <tr>\n",
       "      <th>2019-08-05</th>\n",
       "      <td>36058</td>\n",
       "    </tr>\n",
       "    <tr>\n",
       "      <th>2019-08-06</th>\n",
       "      <td>35788</td>\n",
       "    </tr>\n",
       "    <tr>\n",
       "      <th>2019-08-07</th>\n",
       "      <td>31096</td>\n",
       "    </tr>\n",
       "  </tbody>\n",
       "</table>\n",
       "</div>"
      ],
      "text/plain": [
       "            event_name\n",
       "date                  \n",
       "2019-07-25           9\n",
       "2019-07-26          31\n",
       "2019-07-27          55\n",
       "2019-07-28         105\n",
       "2019-07-29         184\n",
       "2019-07-30         412\n",
       "2019-07-31        2030\n",
       "2019-08-01       36141\n",
       "2019-08-02       35554\n",
       "2019-08-03       33282\n",
       "2019-08-04       32968\n",
       "2019-08-05       36058\n",
       "2019-08-06       35788\n",
       "2019-08-07       31096"
      ]
     },
     "execution_count": 25,
     "metadata": {},
     "output_type": "execute_result"
    }
   ],
   "source": [
    "pd.pivot_table(data,index='date', values='event_name', aggfunc='count')"
   ]
  },
  {
   "cell_type": "code",
   "execution_count": 51,
   "metadata": {},
   "outputs": [
    {
     "data": {
      "image/png": "[encoded data removed]",
      "text/plain": [
       "<Figure size 1152x432 with 1 Axes>"
      ]
     },
     "metadata": {
      "needs_background": "light"
     },
     "output_type": "display_data"
    }
   ],
   "source": [
    "plt.figure(figsize=(16,6))\n",
    "plt.hist(data['datetime'], bins=14*24);"
   ]
  },
  {
   "cell_type": "markdown",
   "metadata": {},
   "source": [
    "Исходя из графика, можно сделать вывод, что данные распределенны неравномерно и большая часть активности происходила в последнюю неделю, по этому отсекаю данные до 1 августа."
   ]
  },
  {
   "cell_type": "code",
   "execution_count": 27,
   "metadata": {},
   "outputs": [
    {
     "data": {
      "text/plain": [
       "Timestamp('2019-07-25 00:00:00')"
      ]
     },
     "execution_count": 27,
     "metadata": {},
     "output_type": "execute_result"
    }
   ],
   "source": [
    "new_data = data[data['date']> '2019-07-31'].reset_index(drop=True)\n",
    "data['date'].min()"
   ]
  },
  {
   "cell_type": "markdown",
   "metadata": {},
   "source": [
    "Чтобы  анализ был объективен необходимо учитывать события с 1 августа, так как события за июль имеют низкую активность."
   ]
  },
  {
   "cell_type": "markdown",
   "metadata": {},
   "source": [
    " **Кол-во событий и пользователей,которые были потеряны, отбросив старые данные**"
   ]
  },
  {
   "cell_type": "code",
   "execution_count": 28,
   "metadata": {},
   "outputs": [
    {
     "name": "stdout",
     "output_type": "stream",
     "text": [
      "Кол-во потерянных пользователей: 17\n",
      "Кол-во потерянных событий: 2826\n"
     ]
    }
   ],
   "source": [
    "print('Кол-во потерянных пользователей:', data['user_id'].nunique()- new_data['user_id'].nunique())\n",
    "print('Кол-во потерянных событий:', data['event_name'].count()- new_data['event_name'].count())"
   ]
  },
  {
   "cell_type": "code",
   "execution_count": 79,
   "metadata": {},
   "outputs": [
    {
     "data": {
      "text/plain": [
       "0.22513574361011784"
      ]
     },
     "execution_count": 79,
     "metadata": {},
     "output_type": "execute_result"
    }
   ],
   "source": [
    "(data['user_id'].nunique()- new_data['user_id'].nunique())/data['user_id'].nunique()*100"
   ]
  },
  {
   "cell_type": "code",
   "execution_count": 80,
   "metadata": {},
   "outputs": [
    {
     "data": {
      "text/plain": [
       "1.159560630741897"
      ]
     },
     "execution_count": 80,
     "metadata": {},
     "output_type": "execute_result"
    }
   ],
   "source": [
    "(data['event_name'].count()- new_data['event_name'].count())/data['event_name'].count()*100"
   ]
  },
  {
   "cell_type": "markdown",
   "metadata": {},
   "source": [
    "**Проверим кол-во представителей разных групп**"
   ]
  },
  {
   "cell_type": "code",
   "execution_count": 31,
   "metadata": {},
   "outputs": [
    {
     "data": {
      "text/plain": [
       "248    84563\n",
       "246    79302\n",
       "247    77022\n",
       "Name: exp_id, dtype: int64"
      ]
     },
     "execution_count": 31,
     "metadata": {},
     "output_type": "execute_result"
    }
   ],
   "source": [
    "new_data['exp_id'].value_counts()"
   ]
  },
  {
   "cell_type": "markdown",
   "metadata": {},
   "source": [
    "Отлично, тестирование можно будет проводить!"
   ]
  },
  {
   "cell_type": "markdown",
   "metadata": {},
   "source": [
    "## Изучение воронки событий ##"
   ]
  },
  {
   "cell_type": "markdown",
   "metadata": {},
   "source": [
    "**Количество событий логах, как часто они встречаются**"
   ]
  },
  {
   "cell_type": "code",
   "execution_count": 32,
   "metadata": {},
   "outputs": [
    {
     "data": {
      "text/plain": [
       "event_name\n",
       "MainScreenAppear           117328\n",
       "OffersScreenAppear          46333\n",
       "CartScreenAppear            42303\n",
       "PaymentScreenSuccessful     33918\n",
       "Tutorial                     1005\n",
       "Name: event_name, dtype: int64"
      ]
     },
     "execution_count": 32,
     "metadata": {},
     "output_type": "execute_result"
    }
   ],
   "source": [
    "new_data.groupby('event_name')['event_name'].count().sort_values(ascending=False)"
   ]
  },
  {
   "cell_type": "markdown",
   "metadata": {},
   "source": [
    "**кол-во пользователей, совершавших каждое из этих событий:**"
   ]
  },
  {
   "cell_type": "code",
   "execution_count": 33,
   "metadata": {},
   "outputs": [
    {
     "data": {
      "text/html": [
       "<div>\n",
       "<style scoped>\n",
       "    .dataframe tbody tr th:only-of-type {\n",
       "        vertical-align: middle;\n",
       "    }\n",
       "\n",
       "    .dataframe tbody tr th {\n",
       "        vertical-align: top;\n",
       "    }\n",
       "\n",
       "    .dataframe thead th {\n",
       "        text-align: right;\n",
       "    }\n",
       "</style>\n",
       "<table border=\"1\" class=\"dataframe\">\n",
       "  <thead>\n",
       "    <tr style=\"text-align: right;\">\n",
       "      <th></th>\n",
       "      <th>user_id</th>\n",
       "    </tr>\n",
       "    <tr>\n",
       "      <th>event_name</th>\n",
       "      <th></th>\n",
       "    </tr>\n",
       "  </thead>\n",
       "  <tbody>\n",
       "    <tr>\n",
       "      <th>MainScreenAppear</th>\n",
       "      <td>7419</td>\n",
       "    </tr>\n",
       "    <tr>\n",
       "      <th>OffersScreenAppear</th>\n",
       "      <td>4593</td>\n",
       "    </tr>\n",
       "    <tr>\n",
       "      <th>CartScreenAppear</th>\n",
       "      <td>3734</td>\n",
       "    </tr>\n",
       "    <tr>\n",
       "      <th>PaymentScreenSuccessful</th>\n",
       "      <td>3539</td>\n",
       "    </tr>\n",
       "    <tr>\n",
       "      <th>Tutorial</th>\n",
       "      <td>840</td>\n",
       "    </tr>\n",
       "  </tbody>\n",
       "</table>\n",
       "</div>"
      ],
      "text/plain": [
       "                         user_id\n",
       "event_name                      \n",
       "MainScreenAppear            7419\n",
       "OffersScreenAppear          4593\n",
       "CartScreenAppear            3734\n",
       "PaymentScreenSuccessful     3539\n",
       "Tutorial                     840"
      ]
     },
     "execution_count": 33,
     "metadata": {},
     "output_type": "execute_result"
    }
   ],
   "source": [
    "cnt_user = pd.pivot_table(new_data, index='event_name',values='user_id',aggfunc='nunique').sort_values(by='user_id', ascending=False)\n",
    "cnt_user"
   ]
  },
  {
   "cell_type": "markdown",
   "metadata": {},
   "source": [
    "Доля пользователей, которые хоть раз совершали событие:"
   ]
  },
  {
   "cell_type": "code",
   "execution_count": 34,
   "metadata": {},
   "outputs": [
    {
     "data": {
      "text/html": [
       "<div>\n",
       "<style scoped>\n",
       "    .dataframe tbody tr th:only-of-type {\n",
       "        vertical-align: middle;\n",
       "    }\n",
       "\n",
       "    .dataframe tbody tr th {\n",
       "        vertical-align: top;\n",
       "    }\n",
       "\n",
       "    .dataframe thead th {\n",
       "        text-align: right;\n",
       "    }\n",
       "</style>\n",
       "<table border=\"1\" class=\"dataframe\">\n",
       "  <thead>\n",
       "    <tr style=\"text-align: right;\">\n",
       "      <th></th>\n",
       "      <th>user_id</th>\n",
       "    </tr>\n",
       "    <tr>\n",
       "      <th>event_name</th>\n",
       "      <th></th>\n",
       "    </tr>\n",
       "  </thead>\n",
       "  <tbody>\n",
       "    <tr>\n",
       "      <th>MainScreenAppear</th>\n",
       "      <td>117328</td>\n",
       "    </tr>\n",
       "    <tr>\n",
       "      <th>OffersScreenAppear</th>\n",
       "      <td>46333</td>\n",
       "    </tr>\n",
       "    <tr>\n",
       "      <th>CartScreenAppear</th>\n",
       "      <td>42303</td>\n",
       "    </tr>\n",
       "    <tr>\n",
       "      <th>PaymentScreenSuccessful</th>\n",
       "      <td>33918</td>\n",
       "    </tr>\n",
       "    <tr>\n",
       "      <th>Tutorial</th>\n",
       "      <td>1005</td>\n",
       "    </tr>\n",
       "  </tbody>\n",
       "</table>\n",
       "</div>"
      ],
      "text/plain": [
       "                         user_id\n",
       "event_name                      \n",
       "MainScreenAppear          117328\n",
       "OffersScreenAppear         46333\n",
       "CartScreenAppear           42303\n",
       "PaymentScreenSuccessful    33918\n",
       "Tutorial                    1005"
      ]
     },
     "execution_count": 34,
     "metadata": {},
     "output_type": "execute_result"
    }
   ],
   "source": [
    "total_user =  pd.pivot_table(new_data, index='event_name',values='user_id',aggfunc='count').sort_values(by='user_id', ascending=False)\n",
    "total_user"
   ]
  },
  {
   "cell_type": "code",
   "execution_count": 35,
   "metadata": {},
   "outputs": [
    {
     "data": {
      "text/plain": [
       "event_name\n",
       "MainScreenAppear           98.473586\n",
       "OffersScreenAppear         60.963632\n",
       "CartScreenAppear           49.561986\n",
       "PaymentScreenSuccessful    46.973719\n",
       "Tutorial                   11.149456\n",
       "Name: user_id, dtype: float64"
      ]
     },
     "execution_count": 35,
     "metadata": {},
     "output_type": "execute_result"
    }
   ],
   "source": [
    "cnt_user['user_id']/new_data['user_id'].nunique()*100"
   ]
  },
  {
   "cell_type": "markdown",
   "metadata": {},
   "source": [
    "**Порядок событий**"
   ]
  },
  {
   "cell_type": "markdown",
   "metadata": {},
   "source": [
    "    MainScreenAppear - появление главного экрана\n",
    "    OffersScreenAppear - появление предложения на экране\n",
    "    CartScreenAppear - появление экрана корзины\n",
    "    PaymentScreenSuccessful - появиление экрана Платеж Успешен\n",
    "    Tutorial - руководство"
   ]
  },
  {
   "cell_type": "markdown",
   "metadata": {},
   "source": [
    "Все события входят в структурированную цепочку, кроме `Tutorial`. Думаю, что чтение руководства не популярное занятие и его можно не учитывать в воронке."
   ]
  },
  {
   "cell_type": "markdown",
   "metadata": {},
   "source": [
    "Какая доля пользователей проходит на следующий шаг воронки: "
   ]
  },
  {
   "cell_type": "code",
   "execution_count": 36,
   "metadata": {},
   "outputs": [
    {
     "data": {
      "text/html": [
       "<div>\n",
       "<style scoped>\n",
       "    .dataframe tbody tr th:only-of-type {\n",
       "        vertical-align: middle;\n",
       "    }\n",
       "\n",
       "    .dataframe tbody tr th {\n",
       "        vertical-align: top;\n",
       "    }\n",
       "\n",
       "    .dataframe thead th {\n",
       "        text-align: right;\n",
       "    }\n",
       "</style>\n",
       "<table border=\"1\" class=\"dataframe\">\n",
       "  <thead>\n",
       "    <tr style=\"text-align: right;\">\n",
       "      <th></th>\n",
       "      <th>user_id</th>\n",
       "    </tr>\n",
       "    <tr>\n",
       "      <th>event_name</th>\n",
       "      <th></th>\n",
       "    </tr>\n",
       "  </thead>\n",
       "  <tbody>\n",
       "    <tr>\n",
       "      <th>MainScreenAppear</th>\n",
       "      <td>7419</td>\n",
       "    </tr>\n",
       "    <tr>\n",
       "      <th>OffersScreenAppear</th>\n",
       "      <td>4593</td>\n",
       "    </tr>\n",
       "    <tr>\n",
       "      <th>CartScreenAppear</th>\n",
       "      <td>3734</td>\n",
       "    </tr>\n",
       "    <tr>\n",
       "      <th>PaymentScreenSuccessful</th>\n",
       "      <td>3539</td>\n",
       "    </tr>\n",
       "    <tr>\n",
       "      <th>Tutorial</th>\n",
       "      <td>840</td>\n",
       "    </tr>\n",
       "  </tbody>\n",
       "</table>\n",
       "</div>"
      ],
      "text/plain": [
       "                         user_id\n",
       "event_name                      \n",
       "MainScreenAppear            7419\n",
       "OffersScreenAppear          4593\n",
       "CartScreenAppear            3734\n",
       "PaymentScreenSuccessful     3539\n",
       "Tutorial                     840"
      ]
     },
     "execution_count": 36,
     "metadata": {},
     "output_type": "execute_result"
    }
   ],
   "source": [
    "cnt_user"
   ]
  },
  {
   "cell_type": "code",
   "execution_count": 37,
   "metadata": {},
   "outputs": [
    {
     "data": {
      "text/html": [
       "<div>\n",
       "<style scoped>\n",
       "    .dataframe tbody tr th:only-of-type {\n",
       "        vertical-align: middle;\n",
       "    }\n",
       "\n",
       "    .dataframe tbody tr th {\n",
       "        vertical-align: top;\n",
       "    }\n",
       "\n",
       "    .dataframe thead th {\n",
       "        text-align: right;\n",
       "    }\n",
       "</style>\n",
       "<table border=\"1\" class=\"dataframe\">\n",
       "  <thead>\n",
       "    <tr style=\"text-align: right;\">\n",
       "      <th></th>\n",
       "      <th>user_id</th>\n",
       "      <th>procent</th>\n",
       "    </tr>\n",
       "    <tr>\n",
       "      <th>event_name</th>\n",
       "      <th></th>\n",
       "      <th></th>\n",
       "    </tr>\n",
       "  </thead>\n",
       "  <tbody>\n",
       "    <tr>\n",
       "      <th>MainScreenAppear</th>\n",
       "      <td>7419</td>\n",
       "      <td>100.0</td>\n",
       "    </tr>\n",
       "    <tr>\n",
       "      <th>OffersScreenAppear</th>\n",
       "      <td>4593</td>\n",
       "      <td>61.9</td>\n",
       "    </tr>\n",
       "    <tr>\n",
       "      <th>CartScreenAppear</th>\n",
       "      <td>3734</td>\n",
       "      <td>81.3</td>\n",
       "    </tr>\n",
       "    <tr>\n",
       "      <th>PaymentScreenSuccessful</th>\n",
       "      <td>3539</td>\n",
       "      <td>94.8</td>\n",
       "    </tr>\n",
       "    <tr>\n",
       "      <th>Tutorial</th>\n",
       "      <td>840</td>\n",
       "      <td>23.7</td>\n",
       "    </tr>\n",
       "  </tbody>\n",
       "</table>\n",
       "</div>"
      ],
      "text/plain": [
       "                         user_id  procent\n",
       "event_name                               \n",
       "MainScreenAppear            7419    100.0\n",
       "OffersScreenAppear          4593     61.9\n",
       "CartScreenAppear            3734     81.3\n",
       "PaymentScreenSuccessful     3539     94.8\n",
       "Tutorial                     840     23.7"
      ]
     },
     "execution_count": 37,
     "metadata": {},
     "output_type": "execute_result"
    }
   ],
   "source": [
    "prev_users = cnt_user['user_id'][0]\n",
    "for i in cnt_user.index:\n",
    "    cnt_user.loc[i,'procent'] = (cnt_user.loc[i,'user_id'] / prev_users * 100).round(1)\n",
    "    prev_users = cnt_user.loc[i,'user_id']\n",
    "cnt_user"
   ]
  },
  {
   "cell_type": "markdown",
   "metadata": {},
   "source": [
    "Больше всего пользователей теряются после появления гавного экрана. Что то может их отталкивать от дальнейшего действия в приложении, это может быть что угодно , от неудобного интерфейса до всплывающего банера. Для увеличения продаж, необходимо проработать данный вопрос!"
   ]
  },
  {
   "cell_type": "code",
   "execution_count": 39,
   "metadata": {},
   "outputs": [
    {
     "name": "stdout",
     "output_type": "stream",
     "text": [
      "Доля пользователей дошедших с первого до последнего шага: 47.7 %\n"
     ]
    }
   ],
   "source": [
    "print('Доля пользователей дошедших с первого до последнего шага:',(cnt_user['user_id'][3]/cnt_user['user_id'][0]*100).round(1),'%')"
   ]
  },
  {
   "cell_type": "code",
   "execution_count": 98,
   "metadata": {},
   "outputs": [
    {
     "ename": "KeyError",
     "evalue": "'event_name'",
     "output_type": "error",
     "traceback": [
      "\u001b[0;31m---------------------------------------------------------------------------\u001b[0m",
      "\u001b[0;31mKeyError\u001b[0m                                  Traceback (most recent call last)",
      "\u001b[0;32m/opt/conda/lib/python3.9/site-packages/pandas/core/indexes/base.py\u001b[0m in \u001b[0;36mget_loc\u001b[0;34m(self, key, method, tolerance)\u001b[0m\n\u001b[1;32m   3079\u001b[0m             \u001b[0;32mtry\u001b[0m\u001b[0;34m:\u001b[0m\u001b[0;34m\u001b[0m\u001b[0;34m\u001b[0m\u001b[0m\n\u001b[0;32m-> 3080\u001b[0;31m                 \u001b[0;32mreturn\u001b[0m \u001b[0mself\u001b[0m\u001b[0;34m.\u001b[0m\u001b[0m_engine\u001b[0m\u001b[0;34m.\u001b[0m\u001b[0mget_loc\u001b[0m\u001b[0;34m(\u001b[0m\u001b[0mcasted_key\u001b[0m\u001b[0;34m)\u001b[0m\u001b[0;34m\u001b[0m\u001b[0;34m\u001b[0m\u001b[0m\n\u001b[0m\u001b[1;32m   3081\u001b[0m             \u001b[0;32mexcept\u001b[0m \u001b[0mKeyError\u001b[0m \u001b[0;32mas\u001b[0m \u001b[0merr\u001b[0m\u001b[0;34m:\u001b[0m\u001b[0;34m\u001b[0m\u001b[0;34m\u001b[0m\u001b[0m\n",
      "\u001b[0;32mpandas/_libs/index.pyx\u001b[0m in \u001b[0;36mpandas._libs.index.IndexEngine.get_loc\u001b[0;34m()\u001b[0m\n",
      "\u001b[0;32mpandas/_libs/index.pyx\u001b[0m in \u001b[0;36mpandas._libs.index.IndexEngine.get_loc\u001b[0;34m()\u001b[0m\n",
      "\u001b[0;32mpandas/_libs/hashtable_class_helper.pxi\u001b[0m in \u001b[0;36mpandas._libs.hashtable.PyObjectHashTable.get_item\u001b[0;34m()\u001b[0m\n",
      "\u001b[0;32mpandas/_libs/hashtable_class_helper.pxi\u001b[0m in \u001b[0;36mpandas._libs.hashtable.PyObjectHashTable.get_item\u001b[0;34m()\u001b[0m\n",
      "\u001b[0;31mKeyError\u001b[0m: 'event_name'",
      "\nThe above exception was the direct cause of the following exception:\n",
      "\u001b[0;31mKeyError\u001b[0m                                  Traceback (most recent call last)",
      "\u001b[0;32m/tmp/ipykernel_63/2607622410.py\u001b[0m in \u001b[0;36m<module>\u001b[0;34m\u001b[0m\n\u001b[0;32m----> 1\u001b[0;31m \u001b[0mcnt_user\u001b[0m\u001b[0;34m[\u001b[0m\u001b[0;34m'event_name'\u001b[0m\u001b[0;34m]\u001b[0m\u001b[0;34m\u001b[0m\u001b[0;34m\u001b[0m\u001b[0m\n\u001b[0m",
      "\u001b[0;32m/opt/conda/lib/python3.9/site-packages/pandas/core/frame.py\u001b[0m in \u001b[0;36m__getitem__\u001b[0;34m(self, key)\u001b[0m\n\u001b[1;32m   3022\u001b[0m             \u001b[0;32mif\u001b[0m \u001b[0mself\u001b[0m\u001b[0;34m.\u001b[0m\u001b[0mcolumns\u001b[0m\u001b[0;34m.\u001b[0m\u001b[0mnlevels\u001b[0m \u001b[0;34m>\u001b[0m \u001b[0;36m1\u001b[0m\u001b[0;34m:\u001b[0m\u001b[0;34m\u001b[0m\u001b[0;34m\u001b[0m\u001b[0m\n\u001b[1;32m   3023\u001b[0m                 \u001b[0;32mreturn\u001b[0m \u001b[0mself\u001b[0m\u001b[0;34m.\u001b[0m\u001b[0m_getitem_multilevel\u001b[0m\u001b[0;34m(\u001b[0m\u001b[0mkey\u001b[0m\u001b[0;34m)\u001b[0m\u001b[0;34m\u001b[0m\u001b[0;34m\u001b[0m\u001b[0m\n\u001b[0;32m-> 3024\u001b[0;31m             \u001b[0mindexer\u001b[0m \u001b[0;34m=\u001b[0m \u001b[0mself\u001b[0m\u001b[0;34m.\u001b[0m\u001b[0mcolumns\u001b[0m\u001b[0;34m.\u001b[0m\u001b[0mget_loc\u001b[0m\u001b[0;34m(\u001b[0m\u001b[0mkey\u001b[0m\u001b[0;34m)\u001b[0m\u001b[0;34m\u001b[0m\u001b[0;34m\u001b[0m\u001b[0m\n\u001b[0m\u001b[1;32m   3025\u001b[0m             \u001b[0;32mif\u001b[0m \u001b[0mis_integer\u001b[0m\u001b[0;34m(\u001b[0m\u001b[0mindexer\u001b[0m\u001b[0;34m)\u001b[0m\u001b[0;34m:\u001b[0m\u001b[0;34m\u001b[0m\u001b[0;34m\u001b[0m\u001b[0m\n\u001b[1;32m   3026\u001b[0m                 \u001b[0mindexer\u001b[0m \u001b[0;34m=\u001b[0m \u001b[0;34m[\u001b[0m\u001b[0mindexer\u001b[0m\u001b[0;34m]\u001b[0m\u001b[0;34m\u001b[0m\u001b[0;34m\u001b[0m\u001b[0m\n",
      "\u001b[0;32m/opt/conda/lib/python3.9/site-packages/pandas/core/indexes/base.py\u001b[0m in \u001b[0;36mget_loc\u001b[0;34m(self, key, method, tolerance)\u001b[0m\n\u001b[1;32m   3080\u001b[0m                 \u001b[0;32mreturn\u001b[0m \u001b[0mself\u001b[0m\u001b[0;34m.\u001b[0m\u001b[0m_engine\u001b[0m\u001b[0;34m.\u001b[0m\u001b[0mget_loc\u001b[0m\u001b[0;34m(\u001b[0m\u001b[0mcasted_key\u001b[0m\u001b[0;34m)\u001b[0m\u001b[0;34m\u001b[0m\u001b[0;34m\u001b[0m\u001b[0m\n\u001b[1;32m   3081\u001b[0m             \u001b[0;32mexcept\u001b[0m \u001b[0mKeyError\u001b[0m \u001b[0;32mas\u001b[0m \u001b[0merr\u001b[0m\u001b[0;34m:\u001b[0m\u001b[0;34m\u001b[0m\u001b[0;34m\u001b[0m\u001b[0m\n\u001b[0;32m-> 3082\u001b[0;31m                 \u001b[0;32mraise\u001b[0m \u001b[0mKeyError\u001b[0m\u001b[0;34m(\u001b[0m\u001b[0mkey\u001b[0m\u001b[0;34m)\u001b[0m \u001b[0;32mfrom\u001b[0m \u001b[0merr\u001b[0m\u001b[0;34m\u001b[0m\u001b[0;34m\u001b[0m\u001b[0m\n\u001b[0m\u001b[1;32m   3083\u001b[0m \u001b[0;34m\u001b[0m\u001b[0m\n\u001b[1;32m   3084\u001b[0m         \u001b[0;32mif\u001b[0m \u001b[0mtolerance\u001b[0m \u001b[0;32mis\u001b[0m \u001b[0;32mnot\u001b[0m \u001b[0;32mNone\u001b[0m\u001b[0;34m:\u001b[0m\u001b[0;34m\u001b[0m\u001b[0;34m\u001b[0m\u001b[0m\n",
      "\u001b[0;31mKeyError\u001b[0m: 'event_name'"
     ]
    }
   ],
   "source": []
  },
  {
   "cell_type": "markdown",
   "metadata": {},
   "source": [
    "## Изучите результаты эксперимента ##"
   ]
  },
  {
   "cell_type": "markdown",
   "metadata": {},
   "source": [
    "Кол-во пользователей в группах:\n"
   ]
  },
  {
   "cell_type": "code",
   "execution_count": 40,
   "metadata": {},
   "outputs": [
    {
     "data": {
      "text/plain": [
       "exp_id\n",
       "246        2484\n",
       "247        2513\n",
       "248        2537\n",
       "246+247    4997\n",
       "Name: user_id, dtype: int64"
      ]
     },
     "execution_count": 40,
     "metadata": {},
     "output_type": "execute_result"
    }
   ],
   "source": [
    "user_group = new_data.groupby('exp_id')['user_id'].nunique()\n",
    "user_group['246+247'] = user_group[246] + user_group[247]\n",
    "user_group"
   ]
  },
  {
   "cell_type": "markdown",
   "metadata": {},
   "source": [
    "пользователей в группах примерно равное кол-во, это хоршо для чистоты эксперемента"
   ]
  },
  {
   "cell_type": "markdown",
   "metadata": {},
   "source": [
    "**Проверить корректности всех механизмов и расчётов**"
   ]
  },
  {
   "cell_type": "markdown",
   "metadata": {},
   "source": [
    "Сначала сторим таблицу распределения событий среди участников групп"
   ]
  },
  {
   "cell_type": "code",
   "execution_count": 42,
   "metadata": {},
   "outputs": [
    {
     "data": {
      "text/html": [
       "<div>\n",
       "<style scoped>\n",
       "    .dataframe tbody tr th:only-of-type {\n",
       "        vertical-align: middle;\n",
       "    }\n",
       "\n",
       "    .dataframe tbody tr th {\n",
       "        vertical-align: top;\n",
       "    }\n",
       "\n",
       "    .dataframe thead th {\n",
       "        text-align: right;\n",
       "    }\n",
       "</style>\n",
       "<table border=\"1\" class=\"dataframe\">\n",
       "  <thead>\n",
       "    <tr style=\"text-align: right;\">\n",
       "      <th>exp_id</th>\n",
       "      <th>event_name</th>\n",
       "      <th>246</th>\n",
       "      <th>247</th>\n",
       "      <th>248</th>\n",
       "      <th>246+247</th>\n",
       "      <th>total</th>\n",
       "    </tr>\n",
       "  </thead>\n",
       "  <tbody>\n",
       "    <tr>\n",
       "      <th>0</th>\n",
       "      <td>MainScreenAppear</td>\n",
       "      <td>2450</td>\n",
       "      <td>2476</td>\n",
       "      <td>2493</td>\n",
       "      <td>4926</td>\n",
       "      <td>7419</td>\n",
       "    </tr>\n",
       "    <tr>\n",
       "      <th>1</th>\n",
       "      <td>OffersScreenAppear</td>\n",
       "      <td>1542</td>\n",
       "      <td>1520</td>\n",
       "      <td>1531</td>\n",
       "      <td>3062</td>\n",
       "      <td>4593</td>\n",
       "    </tr>\n",
       "    <tr>\n",
       "      <th>2</th>\n",
       "      <td>CartScreenAppear</td>\n",
       "      <td>1266</td>\n",
       "      <td>1238</td>\n",
       "      <td>1230</td>\n",
       "      <td>2504</td>\n",
       "      <td>3734</td>\n",
       "    </tr>\n",
       "    <tr>\n",
       "      <th>3</th>\n",
       "      <td>PaymentScreenSuccessful</td>\n",
       "      <td>1200</td>\n",
       "      <td>1158</td>\n",
       "      <td>1181</td>\n",
       "      <td>2358</td>\n",
       "      <td>3539</td>\n",
       "    </tr>\n",
       "  </tbody>\n",
       "</table>\n",
       "</div>"
      ],
      "text/plain": [
       "exp_id               event_name   246   247   248  246+247  total\n",
       "0              MainScreenAppear  2450  2476  2493     4926   7419\n",
       "1            OffersScreenAppear  1542  1520  1531     3062   4593\n",
       "2              CartScreenAppear  1266  1238  1230     2504   3734\n",
       "3       PaymentScreenSuccessful  1200  1158  1181     2358   3539"
      ]
     },
     "execution_count": 42,
     "metadata": {},
     "output_type": "execute_result"
    }
   ],
   "source": [
    "event_group_test = new_data[new_data['event_name']!='Tutorial'].pivot_table(\n",
    "    index='event_name', \n",
    "    columns='exp_id', \n",
    "    values='user_id',\n",
    "    aggfunc='nunique').sort_values(by=246, ascending=False)\n",
    "\n",
    "event_group_test = event_group_test.reset_index()\n",
    "event_group_test['246+247'] = event_group_test[246] + event_group_test[247]\n",
    "event_group_test['total'] = event_group_test['246+247'] + event_group_test[248]\n",
    "event_group_test\n"
   ]
  },
  {
   "cell_type": "markdown",
   "metadata": {},
   "source": [
    "**Находят ли статистические критерии разницу между выборками 246 и 247.**"
   ]
  },
  {
   "cell_type": "markdown",
   "metadata": {},
   "source": [
    "    Нулевая гепотеза: между группами нет значимой разницы\n",
    "    Альтернативная гипотеза : между группами есть значимая разница"
   ]
  },
  {
   "cell_type": "code",
   "execution_count": 43,
   "metadata": {},
   "outputs": [
    {
     "name": "stdout",
     "output_type": "stream",
     "text": [
      "MainScreenAppear p-значение: 0.7570597232046099\n",
      "Не получилось отвергнуть нулевую гипотезу\n",
      "0.7570597232046099 \n",
      "OffersScreenAppear p-значение: 0.2480954578522181\n",
      "Не получилось отвергнуть нулевую гипотезу\n",
      "0.2480954578522181 \n",
      "CartScreenAppear p-значение: 0.22883372237997213\n",
      "Не получилось отвергнуть нулевую гипотезу\n",
      "0.22883372237997213 \n",
      "PaymentScreenSuccessful p-значение: 0.11456679313141849\n",
      "Не получилось отвергнуть нулевую гипотезу\n",
      "0.11456679313141849 \n"
     ]
    }
   ],
   "source": [
    "def test(group1, group2, alpha):\n",
    "    for i in event_group_test.index:\n",
    "        p1 = event_group_test[group1][i] / user_group[group1]\n",
    "        p2 = event_group_test[group2][i] / user_group[group2]\n",
    "        p_combined = ((event_group_test[group1][i] + event_group_test[group2][i]) / \n",
    "                      (user_group[group1] + user_group[group2]))\n",
    "        difference = p1 - p2\n",
    "        z_value = difference / mth.sqrt(p_combined * (1 - p_combined) * \n",
    "                                        (1/user_group[group1] + 1/user_group[group2]))\n",
    "        distr = st.norm(0, 1) \n",
    "        p_value = (1 - distr.cdf(abs(z_value))) * 2\n",
    "        print('{} p-значение: {}'.format(event_group_test['event_name'][i], p_value))\n",
    "        if (p_value < alpha):\n",
    "            print(\"Отвергаем нулевую гипотезу\")\n",
    "        else:\n",
    "            print(\"Не получилось отвергнуть нулевую гипотезу\")\n",
    "        print(p_value, '')\n",
    "        \n",
    "test(246, 247, 0.01)"
   ]
  },
  {
   "cell_type": "markdown",
   "metadata": {},
   "source": [
    "Вывод: между группами не найдена разница при альфа равном 0,01 . Тест работает корректно!"
   ]
  },
  {
   "cell_type": "markdown",
   "metadata": {},
   "source": [
    "**Самое популярное событие:**"
   ]
  },
  {
   "cell_type": "code",
   "execution_count": 44,
   "metadata": {
    "scrolled": true
   },
   "outputs": [
    {
     "data": {
      "text/plain": [
       "MainScreenAppear    117328\n",
       "Name: event_name, dtype: int64"
      ]
     },
     "execution_count": 44,
     "metadata": {},
     "output_type": "execute_result"
    }
   ],
   "source": [
    "new_data['event_name'].value_counts().head(1)"
   ]
  },
  {
   "cell_type": "markdown",
   "metadata": {},
   "source": [
    "самое популярное событие - показ главного экрана"
   ]
  },
  {
   "cell_type": "markdown",
   "metadata": {},
   "source": [
    "**Число пользователей, совершивших самое популярное событие в каждой из контрольных групп. Посчитайте долю пользователей, совершивших это событие.** "
   ]
  },
  {
   "cell_type": "markdown",
   "metadata": {},
   "source": [
    "Число пользователей по группам"
   ]
  },
  {
   "cell_type": "code",
   "execution_count": 45,
   "metadata": {},
   "outputs": [
    {
     "data": {
      "text/html": [
       "<div>\n",
       "<style scoped>\n",
       "    .dataframe tbody tr th:only-of-type {\n",
       "        vertical-align: middle;\n",
       "    }\n",
       "\n",
       "    .dataframe tbody tr th {\n",
       "        vertical-align: top;\n",
       "    }\n",
       "\n",
       "    .dataframe thead th {\n",
       "        text-align: right;\n",
       "    }\n",
       "</style>\n",
       "<table border=\"1\" class=\"dataframe\">\n",
       "  <thead>\n",
       "    <tr style=\"text-align: right;\">\n",
       "      <th>exp_id</th>\n",
       "      <th>246</th>\n",
       "      <th>247</th>\n",
       "      <th>248</th>\n",
       "    </tr>\n",
       "    <tr>\n",
       "      <th>event_name</th>\n",
       "      <th></th>\n",
       "      <th></th>\n",
       "      <th></th>\n",
       "    </tr>\n",
       "  </thead>\n",
       "  <tbody>\n",
       "    <tr>\n",
       "      <th>MainScreenAppear</th>\n",
       "      <td>2450</td>\n",
       "      <td>2476</td>\n",
       "      <td>2493</td>\n",
       "    </tr>\n",
       "  </tbody>\n",
       "</table>\n",
       "</div>"
      ],
      "text/plain": [
       "exp_id             246   247   248\n",
       "event_name                        \n",
       "MainScreenAppear  2450  2476  2493"
      ]
     },
     "execution_count": 45,
     "metadata": {},
     "output_type": "execute_result"
    }
   ],
   "source": [
    "pop_event = new_data[new_data['event_name']!='Tutorial'].pivot_table(\n",
    "    index='event_name', \n",
    "    columns='exp_id', \n",
    "    values='user_id',\n",
    "    aggfunc='nunique').sort_values(by=246, ascending=False)\n",
    "\n",
    "pop_event.head(1)"
   ]
  },
  {
   "cell_type": "markdown",
   "metadata": {},
   "source": [
    "Доля пользователей"
   ]
  },
  {
   "cell_type": "code",
   "execution_count": 46,
   "metadata": {},
   "outputs": [
    {
     "data": {
      "text/html": [
       "<div>\n",
       "<style scoped>\n",
       "    .dataframe tbody tr th:only-of-type {\n",
       "        vertical-align: middle;\n",
       "    }\n",
       "\n",
       "    .dataframe tbody tr th {\n",
       "        vertical-align: top;\n",
       "    }\n",
       "\n",
       "    .dataframe thead th {\n",
       "        text-align: right;\n",
       "    }\n",
       "</style>\n",
       "<table border=\"1\" class=\"dataframe\">\n",
       "  <thead>\n",
       "    <tr style=\"text-align: right;\">\n",
       "      <th>exp_id</th>\n",
       "      <th>246</th>\n",
       "      <th>247</th>\n",
       "      <th>248</th>\n",
       "      <th>246+247</th>\n",
       "      <th>total</th>\n",
       "      <th>del_246</th>\n",
       "      <th>del_247</th>\n",
       "      <th>del_248</th>\n",
       "      <th>del_246+247</th>\n",
       "    </tr>\n",
       "    <tr>\n",
       "      <th>event_name</th>\n",
       "      <th></th>\n",
       "      <th></th>\n",
       "      <th></th>\n",
       "      <th></th>\n",
       "      <th></th>\n",
       "      <th></th>\n",
       "      <th></th>\n",
       "      <th></th>\n",
       "      <th></th>\n",
       "    </tr>\n",
       "  </thead>\n",
       "  <tbody>\n",
       "    <tr>\n",
       "      <th>MainScreenAppear</th>\n",
       "      <td>2450</td>\n",
       "      <td>2476</td>\n",
       "      <td>2493</td>\n",
       "      <td>4926</td>\n",
       "      <td>7419</td>\n",
       "      <td>98.6</td>\n",
       "      <td>98.5</td>\n",
       "      <td>98.3</td>\n",
       "      <td>98.6</td>\n",
       "    </tr>\n",
       "  </tbody>\n",
       "</table>\n",
       "</div>"
      ],
      "text/plain": [
       "exp_id             246   247   248  246+247  total  del_246  del_247  del_248  \\\n",
       "event_name                                                                      \n",
       "MainScreenAppear  2450  2476  2493     4926   7419     98.6     98.5     98.3   \n",
       "\n",
       "exp_id            del_246+247  \n",
       "event_name                     \n",
       "MainScreenAppear         98.6  "
      ]
     },
     "execution_count": 46,
     "metadata": {},
     "output_type": "execute_result"
    }
   ],
   "source": [
    "pop_event['246+247'] = pop_event[246] + pop_event[247]\n",
    "pop_event['total'] = pop_event['246+247'] + pop_event[248]\n",
    "pop_event['del_246'] = (pop_event[246] / user_group[246] * 100).round(1)\n",
    "pop_event['del_247'] = (pop_event[247] / user_group[247] * 100).round(1)\n",
    "pop_event['del_248'] = (pop_event[248] / user_group[248] * 100).round(1)\n",
    "pop_event['del_246+247'] = ((pop_event[246] + pop_event[247]) / \\\n",
    "                                  (user_group[246] + user_group[247]) * 100).round(1)\n",
    "pop_event.head(1)"
   ]
  },
  {
   "cell_type": "markdown",
   "metadata": {},
   "source": [
    "Доля пользователей по всем действиям:"
   ]
  },
  {
   "cell_type": "code",
   "execution_count": 47,
   "metadata": {
    "scrolled": true
   },
   "outputs": [
    {
     "data": {
      "text/html": [
       "<div>\n",
       "<style scoped>\n",
       "    .dataframe tbody tr th:only-of-type {\n",
       "        vertical-align: middle;\n",
       "    }\n",
       "\n",
       "    .dataframe tbody tr th {\n",
       "        vertical-align: top;\n",
       "    }\n",
       "\n",
       "    .dataframe thead th {\n",
       "        text-align: right;\n",
       "    }\n",
       "</style>\n",
       "<table border=\"1\" class=\"dataframe\">\n",
       "  <thead>\n",
       "    <tr style=\"text-align: right;\">\n",
       "      <th>exp_id</th>\n",
       "      <th>246</th>\n",
       "      <th>247</th>\n",
       "      <th>248</th>\n",
       "      <th>246+247</th>\n",
       "      <th>total</th>\n",
       "      <th>del_246</th>\n",
       "      <th>del_247</th>\n",
       "      <th>del_248</th>\n",
       "      <th>del_246+247</th>\n",
       "    </tr>\n",
       "    <tr>\n",
       "      <th>event_name</th>\n",
       "      <th></th>\n",
       "      <th></th>\n",
       "      <th></th>\n",
       "      <th></th>\n",
       "      <th></th>\n",
       "      <th></th>\n",
       "      <th></th>\n",
       "      <th></th>\n",
       "      <th></th>\n",
       "    </tr>\n",
       "  </thead>\n",
       "  <tbody>\n",
       "    <tr>\n",
       "      <th>MainScreenAppear</th>\n",
       "      <td>2450</td>\n",
       "      <td>2476</td>\n",
       "      <td>2493</td>\n",
       "      <td>4926</td>\n",
       "      <td>7419</td>\n",
       "      <td>98.6</td>\n",
       "      <td>98.5</td>\n",
       "      <td>98.3</td>\n",
       "      <td>98.6</td>\n",
       "    </tr>\n",
       "    <tr>\n",
       "      <th>OffersScreenAppear</th>\n",
       "      <td>1542</td>\n",
       "      <td>1520</td>\n",
       "      <td>1531</td>\n",
       "      <td>3062</td>\n",
       "      <td>4593</td>\n",
       "      <td>62.1</td>\n",
       "      <td>60.5</td>\n",
       "      <td>60.3</td>\n",
       "      <td>61.3</td>\n",
       "    </tr>\n",
       "    <tr>\n",
       "      <th>CartScreenAppear</th>\n",
       "      <td>1266</td>\n",
       "      <td>1238</td>\n",
       "      <td>1230</td>\n",
       "      <td>2504</td>\n",
       "      <td>3734</td>\n",
       "      <td>51.0</td>\n",
       "      <td>49.3</td>\n",
       "      <td>48.5</td>\n",
       "      <td>50.1</td>\n",
       "    </tr>\n",
       "    <tr>\n",
       "      <th>PaymentScreenSuccessful</th>\n",
       "      <td>1200</td>\n",
       "      <td>1158</td>\n",
       "      <td>1181</td>\n",
       "      <td>2358</td>\n",
       "      <td>3539</td>\n",
       "      <td>48.3</td>\n",
       "      <td>46.1</td>\n",
       "      <td>46.6</td>\n",
       "      <td>47.2</td>\n",
       "    </tr>\n",
       "  </tbody>\n",
       "</table>\n",
       "</div>"
      ],
      "text/plain": [
       "exp_id                    246   247   248  246+247  total  del_246  del_247  \\\n",
       "event_name                                                                    \n",
       "MainScreenAppear         2450  2476  2493     4926   7419     98.6     98.5   \n",
       "OffersScreenAppear       1542  1520  1531     3062   4593     62.1     60.5   \n",
       "CartScreenAppear         1266  1238  1230     2504   3734     51.0     49.3   \n",
       "PaymentScreenSuccessful  1200  1158  1181     2358   3539     48.3     46.1   \n",
       "\n",
       "exp_id                   del_248  del_246+247  \n",
       "event_name                                     \n",
       "MainScreenAppear            98.3         98.6  \n",
       "OffersScreenAppear          60.3         61.3  \n",
       "CartScreenAppear            48.5         50.1  \n",
       "PaymentScreenSuccessful     46.6         47.2  "
      ]
     },
     "execution_count": 47,
     "metadata": {},
     "output_type": "execute_result"
    }
   ],
   "source": [
    "pop_event"
   ]
  },
  {
   "cell_type": "markdown",
   "metadata": {},
   "source": [
    "     Нулевая гепотеза: между группами нет значимой разницы\n",
    "     Альтернативная гипотеза : между группами есть значимая разница"
   ]
  },
  {
   "cell_type": "markdown",
   "metadata": {},
   "source": [
    "В А/А тесте мы использовали критерий значимости 1% , сейчас мы выберали самый стандартный уровень значимости равный 5%"
   ]
  },
  {
   "cell_type": "markdown",
   "metadata": {},
   "source": [
    "**A/B тест**"
   ]
  },
  {
   "cell_type": "code",
   "execution_count": 48,
   "metadata": {},
   "outputs": [
    {
     "name": "stdout",
     "output_type": "stream",
     "text": [
      "MainScreenAppear p-значение: 0.2949721933554552\n",
      "Не получилось отвергнуть нулевую гипотезу\n",
      "0.2949721933554552 \n",
      "OffersScreenAppear p-значение: 0.20836205402738917\n",
      "Не получилось отвергнуть нулевую гипотезу\n",
      "0.20836205402738917 \n",
      "CartScreenAppear p-значение: 0.07842923237520116\n",
      "Не получилось отвергнуть нулевую гипотезу\n",
      "0.07842923237520116 \n",
      "PaymentScreenSuccessful p-значение: 0.2122553275697796\n",
      "Не получилось отвергнуть нулевую гипотезу\n",
      "0.2122553275697796 \n"
     ]
    }
   ],
   "source": [
    "test(246, 248, 0.05)"
   ]
  },
  {
   "cell_type": "markdown",
   "metadata": {},
   "source": [
    "    Нулевая гепотеза: между группами нет значимой разницы\n",
    "    Альтернативная гипотеза : между группами есть значимая разница"
   ]
  },
  {
   "cell_type": "code",
   "execution_count": 49,
   "metadata": {},
   "outputs": [
    {
     "name": "stdout",
     "output_type": "stream",
     "text": [
      "MainScreenAppear p-значение: 0.4587053616621515\n",
      "Не получилось отвергнуть нулевую гипотезу\n",
      "0.4587053616621515 \n",
      "OffersScreenAppear p-значение: 0.9197817830592261\n",
      "Не получилось отвергнуть нулевую гипотезу\n",
      "0.9197817830592261 \n",
      "CartScreenAppear p-значение: 0.5786197879539783\n",
      "Не получилось отвергнуть нулевую гипотезу\n",
      "0.5786197879539783 \n",
      "PaymentScreenSuccessful p-значение: 0.7373415053803964\n",
      "Не получилось отвергнуть нулевую гипотезу\n",
      "0.7373415053803964 \n"
     ]
    }
   ],
   "source": [
    "test(247, 248, 0.05)"
   ]
  },
  {
   "cell_type": "markdown",
   "metadata": {},
   "source": [
    "    Нулевая гепотеза: между группами нет значимой разницы\n",
    "    Альтернативная гипотеза : между группами есть значимая разница"
   ]
  },
  {
   "cell_type": "code",
   "execution_count": 50,
   "metadata": {
    "scrolled": true
   },
   "outputs": [
    {
     "name": "stdout",
     "output_type": "stream",
     "text": [
      "MainScreenAppear p-значение: 0.29424526837179577\n",
      "Не получилось отвергнуть нулевую гипотезу\n",
      "0.29424526837179577 \n",
      "OffersScreenAppear p-значение: 0.43425549655188256\n",
      "Не получилось отвергнуть нулевую гипотезу\n",
      "0.43425549655188256 \n",
      "CartScreenAppear p-значение: 0.18175875284404386\n",
      "Не получилось отвергнуть нулевую гипотезу\n",
      "0.18175875284404386 \n",
      "PaymentScreenSuccessful p-значение: 0.6004294282308704\n",
      "Не получилось отвергнуть нулевую гипотезу\n",
      "0.6004294282308704 \n"
     ]
    }
   ],
   "source": [
    "test('246+247', 248, 0.05)"
   ]
  },
  {
   "cell_type": "markdown",
   "metadata": {},
   "source": [
    "**Вывод: Значимой разницы между группами во всех тестах не выявлено, соответственно изменение шрифта в преложении не играет роли в увеличении конверсии.Тестирование можно назвать успешным - изменение шрифта не повлияло на поведение пользователей.**"
   ]
  },
  {
   "cell_type": "markdown",
   "metadata": {},
   "source": [
    "Уровни значимости:"
   ]
  },
  {
   "cell_type": "markdown",
   "metadata": {},
   "source": [
    "При проведении теста между контрольными группами, был выбран уровень статистической значимости равный 1%, так как мы заранее знали, что эти группы контрольные и нам необходимо было проверить работоспособность теста. Альфа равное 0.05 и более не стало бы явным показателем при проведении А/А теста. ПРи проведении А/А теста требуются более жесткие критерии.\n",
    "При сравнении контрольных и эксперементальной группы был выбран уровень статистической значимости равный 5%  . Уровень значимости в 10% привел бы к погрешности."
   ]
  },
  {
   "cell_type": "markdown",
   "metadata": {},
   "source": [
    "Степень различия ключевых метрик по группам зависит от необходимой чувствительности эксперимента. Скажем, если вы хотите определить результаты теста, в котором ожидаете не менее 30% прироста, то 10% погрешности измерений нас устроят. Однако такое бывает редко: изменение показателей на 30% обычно заметно и без A/B-теста. Его применяют там, где степень различия между группами не больше 10%, или же подвержены колебаниям. В таких случаях точность A/A-теста в 1% — распространённый критерий.\n",
    "\n",
    "Так как группы 246/247 должны быть одинаковыми, то над ними и контроль жестче. Поэтому для проведения A/A тестирования был взят уровень статистической значимости равный 1%. По результатам 246/247 тестирования для всех событий разница не оказалось значимой, поэтому эти группы считаем контрольными.*\n",
    "\n",
    "Так как для A/B теста не нужна высокая точность, то для дальнейших экспериментов выберем самый стандартный уровень значимости равный 5%.\n",
    "\n",
    "Так же можно использовать поправку Бонферони при проведении А/Б тестирования, в нашем случае она не сильно подойдет, так как мы имеем всего 16 сравнений."
   ]
  },
  {
   "cell_type": "markdown",
   "metadata": {},
   "source": [
    "Кол -во проверок статистических гипотез, совершенных в этом проекте:"
   ]
  },
  {
   "cell_type": "markdown",
   "metadata": {},
   "source": [
    "    246/247 - 4 эксперемента (для каждого события) / уровень статистической значимости - 1%\n",
    "    246/248 - 4 эксперемента (для каждого события) / уровень статистической значимости - 5%\n",
    "    247/248 - 4 эксперемента (для каждого события) / уровень статистической значимости - 5%\n",
    "    246+247/248 - 4 эксперемента (для каждого события) / уровень статистической значимости - 5% \n",
    "    Всего 16 экспериментов.\n"
   ]
  },
  {
   "cell_type": "markdown",
   "metadata": {},
   "source": [
    "**Общий вывод:**"
   ]
  },
  {
   "cell_type": "markdown",
   "metadata": {},
   "source": [
    "Нам были предоставлены данные о действиях пользователей за 2 недели, однако плотность действий выходит на значимый уровень только со второй недели, для дальнейшего анализа мы выбрали именно последнюю неделю.\n",
    "Так же было выявленно самое популярное событие - это показ главного экрана.\n",
    "Еще было выявленно самое непопулярное событие - показ руководства пользования, которое мы потом исключили при проведении тестов.\n",
    "В ходе анализа было проведено 16 сравнительных тестов. Которые в свою очередь не нашли различий статистичой значимости между контрольными и эксперементольной группами.\n",
    "По результатам тестов можно сделать вывод, что изменение шрифтов в преложении никак не вляиет на поведение пользователей, ни в плохую ни в хорошую сторону. Соответственно производить работы по изменению шрифтов считаю нецелесообразными.\n",
    "Так же необходимо проработать вопрос о том, из за чего происходит большой \n",
    "\"отсев\" пользователей после просмотра главного экрана, считаю это более важной проблемой, которая увеличит конверсию!\n"
   ]
  },
  {
   "cell_type": "code",
   "execution_count": null,
   "metadata": {},
   "outputs": [],
   "source": []
  }
 ],
 "metadata": {
  "ExecuteTimeLog": [
   {
    "duration": 48,
    "start_time": "2023-03-20T18:37:43.913Z"
   },
   {
    "duration": 1358,
    "start_time": "2023-03-20T18:37:46.914Z"
   },
   {
    "duration": 346,
    "start_time": "2023-03-20T18:37:48.274Z"
   },
   {
    "duration": 12,
    "start_time": "2023-03-20T18:37:53.332Z"
   },
   {
    "duration": 74,
    "start_time": "2023-03-20T18:38:16.533Z"
   },
   {
    "duration": 182,
    "start_time": "2023-03-20T18:39:18.539Z"
   },
   {
    "duration": 10,
    "start_time": "2023-03-20T18:39:22.951Z"
   },
   {
    "duration": 66,
    "start_time": "2023-03-20T18:40:33.520Z"
   },
   {
    "duration": 1260,
    "start_time": "2023-03-20T18:40:49.794Z"
   },
   {
    "duration": 6,
    "start_time": "2023-03-20T18:40:56.972Z"
   },
   {
    "duration": 12,
    "start_time": "2023-03-20T18:41:11.555Z"
   },
   {
    "duration": 3,
    "start_time": "2023-03-20T18:43:02.926Z"
   },
   {
    "duration": 9,
    "start_time": "2023-03-20T18:43:07.395Z"
   },
   {
    "duration": 4,
    "start_time": "2023-03-20T18:43:16.123Z"
   },
   {
    "duration": 9,
    "start_time": "2023-03-20T18:43:17.260Z"
   },
   {
    "duration": 14,
    "start_time": "2023-03-20T18:44:33.796Z"
   },
   {
    "duration": 52,
    "start_time": "2023-03-20T18:44:52.684Z"
   },
   {
    "duration": 59,
    "start_time": "2023-03-20T18:45:04.618Z"
   },
   {
    "duration": 18,
    "start_time": "2023-03-20T18:45:37.617Z"
   },
   {
    "duration": 3,
    "start_time": "2023-03-20T18:49:39.999Z"
   },
   {
    "duration": 11,
    "start_time": "2023-03-20T18:49:41.640Z"
   },
   {
    "duration": 13,
    "start_time": "2023-03-20T18:49:42.479Z"
   },
   {
    "duration": 77,
    "start_time": "2023-03-20T18:52:33.465Z"
   },
   {
    "duration": 10,
    "start_time": "2023-03-20T18:52:36.068Z"
   },
   {
    "duration": 8,
    "start_time": "2023-03-20T18:52:45.569Z"
   },
   {
    "duration": 29,
    "start_time": "2023-03-20T18:52:56.610Z"
   },
   {
    "duration": 11,
    "start_time": "2023-03-20T18:53:00.753Z"
   },
   {
    "duration": 58,
    "start_time": "2023-03-20T18:54:21.682Z"
   },
   {
    "duration": 13,
    "start_time": "2023-03-20T18:54:27.581Z"
   },
   {
    "duration": 43,
    "start_time": "2023-03-21T16:44:27.317Z"
   },
   {
    "duration": 1337,
    "start_time": "2023-03-21T18:06:14.382Z"
   },
   {
    "duration": 806,
    "start_time": "2023-03-21T18:06:15.722Z"
   },
   {
    "duration": 12,
    "start_time": "2023-03-21T18:06:16.530Z"
   },
   {
    "duration": 3,
    "start_time": "2023-03-21T18:06:16.544Z"
   },
   {
    "duration": 8,
    "start_time": "2023-03-21T18:06:16.549Z"
   },
   {
    "duration": 14,
    "start_time": "2023-03-21T18:06:16.558Z"
   },
   {
    "duration": 18,
    "start_time": "2023-03-21T18:06:16.574Z"
   },
   {
    "duration": 31,
    "start_time": "2023-03-21T18:06:16.593Z"
   },
   {
    "duration": 12,
    "start_time": "2023-03-21T18:06:16.626Z"
   },
   {
    "duration": 84,
    "start_time": "2023-03-21T18:06:16.639Z"
   },
   {
    "duration": 14,
    "start_time": "2023-03-21T18:06:16.725Z"
   },
   {
    "duration": 76,
    "start_time": "2023-03-21T18:06:16.740Z"
   },
   {
    "duration": 96,
    "start_time": "2023-03-21T18:06:38.058Z"
   },
   {
    "duration": 40,
    "start_time": "2023-03-21T18:06:44.737Z"
   },
   {
    "duration": 19,
    "start_time": "2023-03-21T18:06:48.463Z"
   },
   {
    "duration": 75,
    "start_time": "2023-03-21T18:20:25.738Z"
   },
   {
    "duration": 5,
    "start_time": "2023-03-21T18:21:05.777Z"
   },
   {
    "duration": 11,
    "start_time": "2023-03-21T18:21:12.704Z"
   },
   {
    "duration": 11,
    "start_time": "2023-03-21T18:21:17.739Z"
   },
   {
    "duration": 55,
    "start_time": "2023-03-21T18:21:38.347Z"
   },
   {
    "duration": 154,
    "start_time": "2023-03-21T18:22:24.931Z"
   },
   {
    "duration": 10,
    "start_time": "2023-03-21T18:24:07.253Z"
   },
   {
    "duration": 718,
    "start_time": "2023-03-21T18:28:10.214Z"
   },
   {
    "duration": 23,
    "start_time": "2023-03-21T18:28:20.378Z"
   },
   {
    "duration": 38,
    "start_time": "2023-03-21T18:30:25.643Z"
   },
   {
    "duration": 26,
    "start_time": "2023-03-21T18:30:33.337Z"
   },
   {
    "duration": 11,
    "start_time": "2023-03-21T18:37:42.983Z"
   },
   {
    "duration": 817,
    "start_time": "2023-03-21T18:40:30.258Z"
   },
   {
    "duration": 11,
    "start_time": "2023-03-21T18:40:35.922Z"
   },
   {
    "duration": 19,
    "start_time": "2023-03-21T18:41:46.714Z"
   },
   {
    "duration": 12,
    "start_time": "2023-03-21T18:45:25.177Z"
   },
   {
    "duration": 1064,
    "start_time": "2023-03-21T18:45:49.802Z"
   },
   {
    "duration": 5,
    "start_time": "2023-03-21T18:46:28.599Z"
   },
   {
    "duration": 11,
    "start_time": "2023-03-21T18:46:45.342Z"
   },
   {
    "duration": 5,
    "start_time": "2023-03-21T18:46:55.977Z"
   },
   {
    "duration": 6,
    "start_time": "2023-03-21T18:46:56.628Z"
   },
   {
    "duration": 8,
    "start_time": "2023-03-21T18:48:31.894Z"
   },
   {
    "duration": 17,
    "start_time": "2023-03-21T18:48:34.125Z"
   },
   {
    "duration": 1215,
    "start_time": "2023-03-21T18:48:42.782Z"
   },
   {
    "duration": 222,
    "start_time": "2023-03-21T18:48:44.000Z"
   },
   {
    "duration": 20,
    "start_time": "2023-03-21T18:48:44.224Z"
   },
   {
    "duration": 3,
    "start_time": "2023-03-21T18:48:44.247Z"
   },
   {
    "duration": 37,
    "start_time": "2023-03-21T18:48:44.252Z"
   },
   {
    "duration": 17,
    "start_time": "2023-03-21T18:48:44.291Z"
   },
   {
    "duration": 27,
    "start_time": "2023-03-21T18:48:44.310Z"
   },
   {
    "duration": 37,
    "start_time": "2023-03-21T18:48:44.339Z"
   },
   {
    "duration": 13,
    "start_time": "2023-03-21T18:48:44.379Z"
   },
   {
    "duration": 90,
    "start_time": "2023-03-21T18:48:44.394Z"
   },
   {
    "duration": 15,
    "start_time": "2023-03-21T18:48:44.486Z"
   },
   {
    "duration": 29,
    "start_time": "2023-03-21T18:48:44.503Z"
   },
   {
    "duration": 91,
    "start_time": "2023-03-21T18:48:44.534Z"
   },
   {
    "duration": 92,
    "start_time": "2023-03-21T18:48:44.628Z"
   },
   {
    "duration": 172,
    "start_time": "2023-03-21T18:48:44.722Z"
   },
   {
    "duration": 7,
    "start_time": "2023-03-21T18:48:44.895Z"
   },
   {
    "duration": 28,
    "start_time": "2023-03-21T18:48:44.904Z"
   },
   {
    "duration": 46,
    "start_time": "2023-03-21T18:48:44.934Z"
   },
   {
    "duration": 13,
    "start_time": "2023-03-21T18:48:44.981Z"
   },
   {
    "duration": 11,
    "start_time": "2023-03-21T18:48:44.995Z"
   },
   {
    "duration": 26,
    "start_time": "2023-03-21T18:48:45.007Z"
   },
   {
    "duration": 8,
    "start_time": "2023-03-21T18:48:45.035Z"
   },
   {
    "duration": 35,
    "start_time": "2023-03-21T18:48:45.044Z"
   },
   {
    "duration": 6,
    "start_time": "2023-03-21T18:50:01.288Z"
   },
   {
    "duration": 8,
    "start_time": "2023-03-21T18:50:54.097Z"
   },
   {
    "duration": 5,
    "start_time": "2023-03-21T19:14:40.713Z"
   },
   {
    "duration": 28,
    "start_time": "2023-03-21T19:15:14.052Z"
   },
   {
    "duration": 170,
    "start_time": "2023-03-21T19:15:27.522Z"
   },
   {
    "duration": 159,
    "start_time": "2023-03-21T19:15:48.642Z"
   },
   {
    "duration": 20,
    "start_time": "2023-03-21T19:18:51.389Z"
   },
   {
    "duration": 180,
    "start_time": "2023-03-21T19:19:14.638Z"
   },
   {
    "duration": 156,
    "start_time": "2023-03-21T19:19:40.045Z"
   },
   {
    "duration": 187,
    "start_time": "2023-03-21T19:21:25.559Z"
   },
   {
    "duration": 112,
    "start_time": "2023-03-21T19:21:36.538Z"
   },
   {
    "duration": 180,
    "start_time": "2023-03-21T19:21:45.206Z"
   },
   {
    "duration": 207,
    "start_time": "2023-03-21T19:35:31.817Z"
   },
   {
    "duration": 237,
    "start_time": "2023-03-21T19:35:43.395Z"
   },
   {
    "duration": 281,
    "start_time": "2023-03-21T19:36:18.113Z"
   },
   {
    "duration": 174,
    "start_time": "2023-03-21T19:36:27.209Z"
   },
   {
    "duration": 176,
    "start_time": "2023-03-21T19:36:31.496Z"
   },
   {
    "duration": 224,
    "start_time": "2023-03-21T19:37:24.097Z"
   },
   {
    "duration": 218,
    "start_time": "2023-03-21T19:38:14.396Z"
   },
   {
    "duration": 174,
    "start_time": "2023-03-21T19:38:31.707Z"
   },
   {
    "duration": 212,
    "start_time": "2023-03-21T19:38:37.707Z"
   },
   {
    "duration": 330,
    "start_time": "2023-03-21T19:38:52.593Z"
   },
   {
    "duration": 238,
    "start_time": "2023-03-21T19:39:02.565Z"
   },
   {
    "duration": 215,
    "start_time": "2023-03-21T19:39:22.356Z"
   },
   {
    "duration": 1541,
    "start_time": "2023-03-21T19:39:34.764Z"
   },
   {
    "duration": 1808,
    "start_time": "2023-03-21T19:40:43.709Z"
   },
   {
    "duration": 352,
    "start_time": "2023-03-21T19:40:58.192Z"
   },
   {
    "duration": 185,
    "start_time": "2023-03-21T19:41:12.252Z"
   },
   {
    "duration": 1533,
    "start_time": "2023-03-21T19:42:19.526Z"
   },
   {
    "duration": 1018,
    "start_time": "2023-03-21T19:43:25.495Z"
   },
   {
    "duration": 34,
    "start_time": "2023-03-21T19:43:40.986Z"
   },
   {
    "duration": 32,
    "start_time": "2023-03-21T19:43:51.800Z"
   },
   {
    "duration": 1446,
    "start_time": "2023-03-21T19:44:01.408Z"
   },
   {
    "duration": 1425,
    "start_time": "2023-03-21T19:44:16.430Z"
   },
   {
    "duration": 174,
    "start_time": "2023-03-21T19:44:33.423Z"
   },
   {
    "duration": 48,
    "start_time": "2023-03-21T19:44:54.543Z"
   },
   {
    "duration": 365,
    "start_time": "2023-03-21T19:45:00.360Z"
   },
   {
    "duration": 42,
    "start_time": "2023-03-21T19:45:27.465Z"
   },
   {
    "duration": 764,
    "start_time": "2023-03-21T19:45:44.887Z"
   },
   {
    "duration": 235,
    "start_time": "2023-03-21T19:47:57.650Z"
   },
   {
    "duration": 10,
    "start_time": "2023-03-21T19:48:48.288Z"
   },
   {
    "duration": 551,
    "start_time": "2023-03-21T19:49:58.444Z"
   },
   {
    "duration": 34,
    "start_time": "2023-03-21T19:50:18.082Z"
   },
   {
    "duration": 279,
    "start_time": "2023-03-21T19:50:27.887Z"
   },
   {
    "duration": 514,
    "start_time": "2023-03-21T19:50:32.548Z"
   },
   {
    "duration": 22,
    "start_time": "2023-03-21T19:56:26.908Z"
   },
   {
    "duration": 21,
    "start_time": "2023-03-21T19:56:44.802Z"
   },
   {
    "duration": 51,
    "start_time": "2023-03-21T19:57:14.441Z"
   },
   {
    "duration": 27,
    "start_time": "2023-03-21T19:57:21.408Z"
   },
   {
    "duration": 13,
    "start_time": "2023-03-21T19:58:37.402Z"
   },
   {
    "duration": 34,
    "start_time": "2023-03-21T19:58:49.050Z"
   },
   {
    "duration": 13,
    "start_time": "2023-03-21T19:59:52.345Z"
   },
   {
    "duration": 59,
    "start_time": "2023-03-22T15:59:37.779Z"
   },
   {
    "duration": 1582,
    "start_time": "2023-03-22T16:00:12.940Z"
   },
   {
    "duration": 305,
    "start_time": "2023-03-22T16:00:14.524Z"
   },
   {
    "duration": 15,
    "start_time": "2023-03-22T16:00:14.831Z"
   },
   {
    "duration": 5,
    "start_time": "2023-03-22T16:00:14.848Z"
   },
   {
    "duration": 17,
    "start_time": "2023-03-22T16:00:14.855Z"
   },
   {
    "duration": 26,
    "start_time": "2023-03-22T16:00:14.874Z"
   },
   {
    "duration": 26,
    "start_time": "2023-03-22T16:00:14.905Z"
   },
   {
    "duration": 11,
    "start_time": "2023-03-22T16:00:14.933Z"
   },
   {
    "duration": 13,
    "start_time": "2023-03-22T16:00:14.945Z"
   },
   {
    "duration": 109,
    "start_time": "2023-03-22T16:00:14.959Z"
   },
   {
    "duration": 15,
    "start_time": "2023-03-22T16:00:15.070Z"
   },
   {
    "duration": 37,
    "start_time": "2023-03-22T16:00:15.102Z"
   },
   {
    "duration": 96,
    "start_time": "2023-03-22T16:00:15.140Z"
   },
   {
    "duration": 119,
    "start_time": "2023-03-22T16:00:15.239Z"
   },
   {
    "duration": 207,
    "start_time": "2023-03-22T16:00:15.360Z"
   },
   {
    "duration": 8,
    "start_time": "2023-03-22T16:00:15.569Z"
   },
   {
    "duration": 43,
    "start_time": "2023-03-22T16:00:15.578Z"
   },
   {
    "duration": 38,
    "start_time": "2023-03-22T16:00:15.623Z"
   },
   {
    "duration": 14,
    "start_time": "2023-03-22T16:00:15.663Z"
   },
   {
    "duration": 22,
    "start_time": "2023-03-22T16:00:15.679Z"
   },
   {
    "duration": 29,
    "start_time": "2023-03-22T16:00:15.708Z"
   },
   {
    "duration": 12,
    "start_time": "2023-03-22T16:00:15.740Z"
   },
   {
    "duration": 7,
    "start_time": "2023-03-22T16:00:15.753Z"
   },
   {
    "duration": 55,
    "start_time": "2023-03-22T16:00:15.762Z"
   },
   {
    "duration": 702,
    "start_time": "2023-03-22T16:00:15.819Z"
   },
   {
    "duration": 24,
    "start_time": "2023-03-22T16:00:16.523Z"
   },
   {
    "duration": 11,
    "start_time": "2023-03-22T16:05:25.883Z"
   },
   {
    "duration": 42,
    "start_time": "2023-03-22T16:06:31.772Z"
   },
   {
    "duration": 33,
    "start_time": "2023-03-22T16:07:35.013Z"
   },
   {
    "duration": 14,
    "start_time": "2023-03-22T16:11:30.698Z"
   },
   {
    "duration": 13,
    "start_time": "2023-03-22T16:11:38.760Z"
   },
   {
    "duration": 31,
    "start_time": "2023-03-22T16:12:21.280Z"
   },
   {
    "duration": 27,
    "start_time": "2023-03-22T16:12:34.664Z"
   },
   {
    "duration": 31,
    "start_time": "2023-03-22T16:12:42.073Z"
   },
   {
    "duration": 9,
    "start_time": "2023-03-22T16:13:00.867Z"
   },
   {
    "duration": 8,
    "start_time": "2023-03-22T16:13:11.818Z"
   },
   {
    "duration": 131,
    "start_time": "2023-03-22T16:13:32.578Z"
   },
   {
    "duration": 9,
    "start_time": "2023-03-22T16:13:36.068Z"
   },
   {
    "duration": 4,
    "start_time": "2023-03-22T16:13:48.256Z"
   },
   {
    "duration": 31,
    "start_time": "2023-03-22T16:13:59.218Z"
   },
   {
    "duration": 27,
    "start_time": "2023-03-22T16:14:26.225Z"
   },
   {
    "duration": 28,
    "start_time": "2023-03-22T16:14:36.266Z"
   },
   {
    "duration": 28,
    "start_time": "2023-03-22T16:19:28.029Z"
   },
   {
    "duration": 37,
    "start_time": "2023-03-22T16:19:42.086Z"
   },
   {
    "duration": 27,
    "start_time": "2023-03-22T16:20:07.454Z"
   },
   {
    "duration": 9,
    "start_time": "2023-03-22T16:20:29.582Z"
   },
   {
    "duration": 9,
    "start_time": "2023-03-22T16:20:50.670Z"
   },
   {
    "duration": 16,
    "start_time": "2023-03-22T16:21:19.624Z"
   },
   {
    "duration": 14,
    "start_time": "2023-03-22T16:22:31.883Z"
   },
   {
    "duration": 14,
    "start_time": "2023-03-22T16:22:43.737Z"
   },
   {
    "duration": 33,
    "start_time": "2023-03-22T16:23:06.152Z"
   },
   {
    "duration": 14,
    "start_time": "2023-03-22T16:23:21.145Z"
   },
   {
    "duration": 14,
    "start_time": "2023-03-22T16:23:52.543Z"
   },
   {
    "duration": 16,
    "start_time": "2023-03-22T16:24:47.566Z"
   },
   {
    "duration": 17,
    "start_time": "2023-03-22T17:08:57.806Z"
   },
   {
    "duration": 33,
    "start_time": "2023-03-22T17:09:12.731Z"
   },
   {
    "duration": 6,
    "start_time": "2023-03-22T18:33:34.161Z"
   },
   {
    "duration": 6,
    "start_time": "2023-03-22T18:34:15.774Z"
   },
   {
    "duration": 81,
    "start_time": "2023-03-22T18:35:21.339Z"
   },
   {
    "duration": 14,
    "start_time": "2023-03-22T18:52:11.453Z"
   },
   {
    "duration": 55,
    "start_time": "2023-03-22T18:52:43.286Z"
   },
   {
    "duration": 55,
    "start_time": "2023-03-22T18:52:56.277Z"
   },
   {
    "duration": 44,
    "start_time": "2023-03-22T18:53:16.782Z"
   },
   {
    "duration": 116,
    "start_time": "2023-03-22T19:11:06.661Z"
   },
   {
    "duration": 34,
    "start_time": "2023-03-22T19:11:13.597Z"
   },
   {
    "duration": 20,
    "start_time": "2023-03-22T19:11:35.738Z"
   },
   {
    "duration": 35,
    "start_time": "2023-03-22T19:13:44.143Z"
   },
   {
    "duration": 85,
    "start_time": "2023-03-22T19:15:50.295Z"
   },
   {
    "duration": 79,
    "start_time": "2023-03-22T19:16:22.982Z"
   },
   {
    "duration": 65,
    "start_time": "2023-03-22T19:16:36.098Z"
   },
   {
    "duration": 69,
    "start_time": "2023-03-22T19:17:07.361Z"
   },
   {
    "duration": 65,
    "start_time": "2023-03-22T19:17:24.578Z"
   },
   {
    "duration": 16,
    "start_time": "2023-03-22T19:17:39.242Z"
   },
   {
    "duration": 71,
    "start_time": "2023-03-22T19:17:44.961Z"
   },
   {
    "duration": 69,
    "start_time": "2023-03-22T19:17:50.097Z"
   },
   {
    "duration": 75,
    "start_time": "2023-03-22T19:18:30.515Z"
   },
   {
    "duration": 67,
    "start_time": "2023-03-22T19:18:42.310Z"
   },
   {
    "duration": 67,
    "start_time": "2023-03-22T19:20:32.645Z"
   },
   {
    "duration": 70,
    "start_time": "2023-03-22T19:20:52.860Z"
   },
   {
    "duration": 66,
    "start_time": "2023-03-22T19:21:03.039Z"
   },
   {
    "duration": 30,
    "start_time": "2023-03-22T19:21:46.914Z"
   },
   {
    "duration": 43,
    "start_time": "2023-03-22T19:22:27.973Z"
   },
   {
    "duration": 7,
    "start_time": "2023-03-22T19:23:01.946Z"
   },
   {
    "duration": 1369,
    "start_time": "2023-03-22T19:23:48.815Z"
   },
   {
    "duration": 214,
    "start_time": "2023-03-22T19:23:50.186Z"
   },
   {
    "duration": 22,
    "start_time": "2023-03-22T19:23:50.402Z"
   },
   {
    "duration": 14,
    "start_time": "2023-03-22T19:23:50.426Z"
   },
   {
    "duration": 30,
    "start_time": "2023-03-22T19:23:50.443Z"
   },
   {
    "duration": 28,
    "start_time": "2023-03-22T19:23:50.475Z"
   },
   {
    "duration": 47,
    "start_time": "2023-03-22T19:23:50.505Z"
   },
   {
    "duration": 19,
    "start_time": "2023-03-22T19:23:50.554Z"
   },
   {
    "duration": 18,
    "start_time": "2023-03-22T19:23:50.575Z"
   },
   {
    "duration": 134,
    "start_time": "2023-03-22T19:23:50.598Z"
   },
   {
    "duration": 26,
    "start_time": "2023-03-22T19:23:50.734Z"
   },
   {
    "duration": 37,
    "start_time": "2023-03-22T19:23:50.761Z"
   },
   {
    "duration": 82,
    "start_time": "2023-03-22T19:23:50.800Z"
   },
   {
    "duration": 111,
    "start_time": "2023-03-22T19:23:50.899Z"
   },
   {
    "duration": 201,
    "start_time": "2023-03-22T19:23:51.012Z"
   },
   {
    "duration": 9,
    "start_time": "2023-03-22T19:23:51.216Z"
   },
   {
    "duration": 27,
    "start_time": "2023-03-22T19:23:51.226Z"
   },
   {
    "duration": 75,
    "start_time": "2023-03-22T19:23:51.254Z"
   },
   {
    "duration": 24,
    "start_time": "2023-03-22T19:23:51.330Z"
   },
   {
    "duration": 12,
    "start_time": "2023-03-22T19:23:51.355Z"
   },
   {
    "duration": 31,
    "start_time": "2023-03-22T19:23:51.368Z"
   },
   {
    "duration": 10,
    "start_time": "2023-03-22T19:23:51.403Z"
   },
   {
    "duration": 13,
    "start_time": "2023-03-22T19:23:51.415Z"
   },
   {
    "duration": 49,
    "start_time": "2023-03-22T19:23:51.430Z"
   },
   {
    "duration": 777,
    "start_time": "2023-03-22T19:23:51.481Z"
   },
   {
    "duration": 28,
    "start_time": "2023-03-22T19:23:52.261Z"
   },
   {
    "duration": 46,
    "start_time": "2023-03-22T19:23:52.298Z"
   },
   {
    "duration": 16,
    "start_time": "2023-03-22T19:23:52.346Z"
   },
   {
    "duration": 67,
    "start_time": "2023-03-22T19:23:52.364Z"
   },
   {
    "duration": 7,
    "start_time": "2023-03-22T19:23:52.433Z"
   },
   {
    "duration": 77,
    "start_time": "2023-03-22T19:23:52.442Z"
   },
   {
    "duration": 112,
    "start_time": "2023-03-22T19:23:52.522Z"
   },
   {
    "duration": 34,
    "start_time": "2023-03-22T19:23:52.636Z"
   },
   {
    "duration": 6,
    "start_time": "2023-03-22T19:23:52.672Z"
   },
   {
    "duration": 6,
    "start_time": "2023-03-22T19:24:27.559Z"
   },
   {
    "duration": 8,
    "start_time": "2023-03-22T19:25:26.347Z"
   },
   {
    "duration": 6,
    "start_time": "2023-03-22T19:25:32.817Z"
   },
   {
    "duration": 138,
    "start_time": "2023-03-22T19:29:50.891Z"
   },
   {
    "duration": 12,
    "start_time": "2023-03-22T19:29:58.957Z"
   },
   {
    "duration": 11,
    "start_time": "2023-03-22T19:57:56.851Z"
   },
   {
    "duration": 7,
    "start_time": "2023-03-22T19:58:25.731Z"
   },
   {
    "duration": 1705,
    "start_time": "2023-03-22T19:59:32.363Z"
   },
   {
    "duration": 1472,
    "start_time": "2023-03-22T19:59:47.597Z"
   },
   {
    "duration": 11,
    "start_time": "2023-03-22T20:10:23.911Z"
   },
   {
    "duration": 11,
    "start_time": "2023-03-22T20:10:29.459Z"
   },
   {
    "duration": 7,
    "start_time": "2023-03-22T20:10:33.110Z"
   },
   {
    "duration": 1322,
    "start_time": "2023-03-22T20:11:51.221Z"
   },
   {
    "duration": 2108,
    "start_time": "2023-03-22T20:12:20.354Z"
   },
   {
    "duration": 10,
    "start_time": "2023-03-22T20:12:34.444Z"
   },
   {
    "duration": 11,
    "start_time": "2023-03-22T20:17:53.190Z"
   },
   {
    "duration": 1809,
    "start_time": "2023-03-22T20:18:15.186Z"
   },
   {
    "duration": 1746,
    "start_time": "2023-03-22T20:18:35.629Z"
   },
   {
    "duration": 2164,
    "start_time": "2023-03-22T20:18:46.794Z"
   },
   {
    "duration": 121,
    "start_time": "2023-03-23T15:57:20.209Z"
   },
   {
    "duration": 50,
    "start_time": "2023-03-23T15:57:23.479Z"
   },
   {
    "duration": 1395,
    "start_time": "2023-03-23T15:57:33.379Z"
   },
   {
    "duration": 489,
    "start_time": "2023-03-23T15:57:34.776Z"
   },
   {
    "duration": 24,
    "start_time": "2023-03-23T15:57:35.267Z"
   },
   {
    "duration": 24,
    "start_time": "2023-03-23T15:57:35.293Z"
   },
   {
    "duration": 15,
    "start_time": "2023-03-23T15:57:35.319Z"
   },
   {
    "duration": 50,
    "start_time": "2023-03-23T15:57:35.337Z"
   },
   {
    "duration": 27,
    "start_time": "2023-03-23T15:57:35.396Z"
   },
   {
    "duration": 19,
    "start_time": "2023-03-23T15:57:35.425Z"
   },
   {
    "duration": 29,
    "start_time": "2023-03-23T15:57:35.445Z"
   },
   {
    "duration": 123,
    "start_time": "2023-03-23T15:57:35.479Z"
   },
   {
    "duration": 16,
    "start_time": "2023-03-23T15:57:35.604Z"
   },
   {
    "duration": 50,
    "start_time": "2023-03-23T15:57:35.621Z"
   },
   {
    "duration": 69,
    "start_time": "2023-03-23T15:57:35.672Z"
   },
   {
    "duration": 93,
    "start_time": "2023-03-23T15:57:35.744Z"
   },
   {
    "duration": 189,
    "start_time": "2023-03-23T15:57:35.839Z"
   },
   {
    "duration": 6,
    "start_time": "2023-03-23T15:57:36.030Z"
   },
   {
    "duration": 57,
    "start_time": "2023-03-23T15:57:36.037Z"
   },
   {
    "duration": 32,
    "start_time": "2023-03-23T15:57:36.100Z"
   },
   {
    "duration": 10,
    "start_time": "2023-03-23T15:57:36.133Z"
   },
   {
    "duration": 19,
    "start_time": "2023-03-23T15:57:36.144Z"
   },
   {
    "duration": 43,
    "start_time": "2023-03-23T15:57:36.164Z"
   },
   {
    "duration": 7,
    "start_time": "2023-03-23T15:57:36.208Z"
   },
   {
    "duration": 11,
    "start_time": "2023-03-23T15:57:36.217Z"
   },
   {
    "duration": 50,
    "start_time": "2023-03-23T15:57:36.229Z"
   },
   {
    "duration": 556,
    "start_time": "2023-03-23T15:57:36.280Z"
   },
   {
    "duration": 48,
    "start_time": "2023-03-23T15:57:36.837Z"
   },
   {
    "duration": 24,
    "start_time": "2023-03-23T15:57:36.892Z"
   },
   {
    "duration": 12,
    "start_time": "2023-03-23T15:57:36.918Z"
   },
   {
    "duration": 52,
    "start_time": "2023-03-23T15:57:36.931Z"
   },
   {
    "duration": 7,
    "start_time": "2023-03-23T15:57:36.989Z"
   },
   {
    "duration": 31,
    "start_time": "2023-03-23T15:57:36.997Z"
   },
   {
    "duration": 70,
    "start_time": "2023-03-23T15:57:37.029Z"
   },
   {
    "duration": 30,
    "start_time": "2023-03-23T15:57:37.100Z"
   },
   {
    "duration": 8,
    "start_time": "2023-03-23T15:57:37.131Z"
   },
   {
    "duration": 42,
    "start_time": "2023-03-23T15:57:37.140Z"
   },
   {
    "duration": 6,
    "start_time": "2023-03-23T15:57:37.192Z"
   },
   {
    "duration": 3,
    "start_time": "2023-03-23T15:57:55.944Z"
   },
   {
    "duration": 4,
    "start_time": "2023-03-23T15:58:41.240Z"
   },
   {
    "duration": 4,
    "start_time": "2023-03-23T15:58:51.610Z"
   },
   {
    "duration": 111,
    "start_time": "2023-03-23T16:02:09.933Z"
   },
   {
    "duration": 8,
    "start_time": "2023-03-23T16:02:36.314Z"
   },
   {
    "duration": 10,
    "start_time": "2023-03-23T16:02:40.611Z"
   },
   {
    "duration": 127,
    "start_time": "2023-03-23T16:26:03.672Z"
   },
   {
    "duration": 1933,
    "start_time": "2023-03-23T16:34:19.446Z"
   },
   {
    "duration": 1791,
    "start_time": "2023-03-23T16:34:28.513Z"
   },
   {
    "duration": 19,
    "start_time": "2023-03-23T16:35:00.187Z"
   },
   {
    "duration": 55,
    "start_time": "2023-03-23T16:35:10.842Z"
   },
   {
    "duration": 8,
    "start_time": "2023-03-23T16:35:44.300Z"
   },
   {
    "duration": 25,
    "start_time": "2023-03-23T16:35:55.940Z"
   },
   {
    "duration": 130,
    "start_time": "2023-03-23T16:37:18.732Z"
   },
   {
    "duration": 3,
    "start_time": "2023-03-23T16:37:50.635Z"
   },
   {
    "duration": 13,
    "start_time": "2023-03-23T16:38:27.375Z"
   },
   {
    "duration": 12,
    "start_time": "2023-03-23T16:39:35.985Z"
   },
   {
    "duration": 9,
    "start_time": "2023-03-23T16:39:46.011Z"
   },
   {
    "duration": 4,
    "start_time": "2023-03-23T17:02:07.176Z"
   },
   {
    "duration": 4,
    "start_time": "2023-03-23T17:02:18.601Z"
   },
   {
    "duration": 114,
    "start_time": "2023-03-23T17:02:27.073Z"
   },
   {
    "duration": 5,
    "start_time": "2023-03-23T17:02:34.916Z"
   },
   {
    "duration": 4,
    "start_time": "2023-03-23T17:04:02.100Z"
   },
   {
    "duration": 1165,
    "start_time": "2023-03-23T17:33:26.882Z"
   },
   {
    "duration": 1241,
    "start_time": "2023-03-23T17:33:40.987Z"
   },
   {
    "duration": 1205,
    "start_time": "2023-03-23T17:33:53.885Z"
   },
   {
    "duration": 8,
    "start_time": "2023-03-23T17:34:06.172Z"
   },
   {
    "duration": 6,
    "start_time": "2023-03-23T17:34:16.900Z"
   },
   {
    "duration": 4,
    "start_time": "2023-03-23T17:34:28.172Z"
   },
   {
    "duration": 6,
    "start_time": "2023-03-23T17:34:34.093Z"
   },
   {
    "duration": 641,
    "start_time": "2023-03-23T17:35:08.766Z"
   },
   {
    "duration": 8,
    "start_time": "2023-03-23T17:35:12.637Z"
   },
   {
    "duration": 1758,
    "start_time": "2023-03-23T17:35:18.877Z"
   },
   {
    "duration": 6,
    "start_time": "2023-03-23T17:35:31.822Z"
   },
   {
    "duration": 5,
    "start_time": "2023-03-23T17:35:38.775Z"
   },
   {
    "duration": 12,
    "start_time": "2023-03-23T17:36:14.080Z"
   },
   {
    "duration": 11,
    "start_time": "2023-03-23T17:36:52.560Z"
   },
   {
    "duration": 1128,
    "start_time": "2023-03-23T17:37:06.673Z"
   },
   {
    "duration": 142,
    "start_time": "2023-03-23T17:37:07.803Z"
   },
   {
    "duration": 14,
    "start_time": "2023-03-23T17:37:07.947Z"
   },
   {
    "duration": 19,
    "start_time": "2023-03-23T17:37:07.962Z"
   },
   {
    "duration": 9,
    "start_time": "2023-03-23T17:37:07.983Z"
   },
   {
    "duration": 21,
    "start_time": "2023-03-23T17:37:07.993Z"
   },
   {
    "duration": 16,
    "start_time": "2023-03-23T17:37:08.015Z"
   },
   {
    "duration": 11,
    "start_time": "2023-03-23T17:37:08.032Z"
   },
   {
    "duration": 11,
    "start_time": "2023-03-23T17:37:08.045Z"
   },
   {
    "duration": 63,
    "start_time": "2023-03-23T17:37:08.057Z"
   },
   {
    "duration": 11,
    "start_time": "2023-03-23T17:37:08.121Z"
   },
   {
    "duration": 36,
    "start_time": "2023-03-23T17:37:08.133Z"
   },
   {
    "duration": 57,
    "start_time": "2023-03-23T17:37:08.170Z"
   },
   {
    "duration": 86,
    "start_time": "2023-03-23T17:37:08.230Z"
   },
   {
    "duration": 167,
    "start_time": "2023-03-23T17:37:08.318Z"
   },
   {
    "duration": 8,
    "start_time": "2023-03-23T17:37:08.486Z"
   },
   {
    "duration": 22,
    "start_time": "2023-03-23T17:37:08.495Z"
   },
   {
    "duration": 50,
    "start_time": "2023-03-23T17:37:08.519Z"
   },
   {
    "duration": 11,
    "start_time": "2023-03-23T17:37:08.570Z"
   },
   {
    "duration": 8,
    "start_time": "2023-03-23T17:37:08.582Z"
   },
   {
    "duration": 14,
    "start_time": "2023-03-23T17:37:08.591Z"
   },
   {
    "duration": 9,
    "start_time": "2023-03-23T17:37:08.606Z"
   },
   {
    "duration": 32,
    "start_time": "2023-03-23T17:37:08.617Z"
   },
   {
    "duration": 32,
    "start_time": "2023-03-23T17:37:08.651Z"
   },
   {
    "duration": 618,
    "start_time": "2023-03-23T17:37:08.685Z"
   },
   {
    "duration": 21,
    "start_time": "2023-03-23T17:37:09.304Z"
   },
   {
    "duration": 46,
    "start_time": "2023-03-23T17:37:09.327Z"
   },
   {
    "duration": 13,
    "start_time": "2023-03-23T17:37:09.375Z"
   },
   {
    "duration": 26,
    "start_time": "2023-03-23T17:37:09.389Z"
   },
   {
    "duration": 6,
    "start_time": "2023-03-23T17:37:09.416Z"
   },
   {
    "duration": 48,
    "start_time": "2023-03-23T17:37:09.424Z"
   },
   {
    "duration": 80,
    "start_time": "2023-03-23T17:37:09.474Z"
   },
   {
    "duration": 29,
    "start_time": "2023-03-23T17:37:09.556Z"
   },
   {
    "duration": 9,
    "start_time": "2023-03-23T17:37:09.587Z"
   },
   {
    "duration": 6,
    "start_time": "2023-03-23T17:37:09.597Z"
   },
   {
    "duration": 16,
    "start_time": "2023-03-23T17:37:09.605Z"
   },
   {
    "duration": 30,
    "start_time": "2023-03-23T17:37:09.622Z"
   },
   {
    "duration": 22,
    "start_time": "2023-03-23T17:37:09.653Z"
   },
   {
    "duration": 176,
    "start_time": "2023-03-23T17:37:36.239Z"
   },
   {
    "duration": 118,
    "start_time": "2023-03-23T17:37:44.127Z"
   },
   {
    "duration": 104,
    "start_time": "2023-03-23T17:39:31.577Z"
   },
   {
    "duration": 8,
    "start_time": "2023-03-23T17:39:43.241Z"
   },
   {
    "duration": 9,
    "start_time": "2023-03-23T17:43:42.601Z"
   },
   {
    "duration": 9,
    "start_time": "2023-03-23T17:43:57.569Z"
   },
   {
    "duration": 9,
    "start_time": "2023-03-23T18:13:59.376Z"
   },
   {
    "duration": 1320,
    "start_time": "2023-03-23T18:15:39.267Z"
   },
   {
    "duration": 170,
    "start_time": "2023-03-23T18:15:40.589Z"
   },
   {
    "duration": 20,
    "start_time": "2023-03-23T18:15:40.761Z"
   },
   {
    "duration": 7,
    "start_time": "2023-03-23T18:15:40.783Z"
   },
   {
    "duration": 16,
    "start_time": "2023-03-23T18:15:40.792Z"
   },
   {
    "duration": 16,
    "start_time": "2023-03-23T18:15:40.809Z"
   },
   {
    "duration": 17,
    "start_time": "2023-03-23T18:15:40.827Z"
   },
   {
    "duration": 13,
    "start_time": "2023-03-23T18:15:40.852Z"
   },
   {
    "duration": 30,
    "start_time": "2023-03-23T18:15:40.866Z"
   },
   {
    "duration": 73,
    "start_time": "2023-03-23T18:15:40.897Z"
   },
   {
    "duration": 30,
    "start_time": "2023-03-23T18:15:40.971Z"
   },
   {
    "duration": 26,
    "start_time": "2023-03-23T18:15:41.003Z"
   },
   {
    "duration": 82,
    "start_time": "2023-03-23T18:15:41.030Z"
   },
   {
    "duration": 94,
    "start_time": "2023-03-23T18:15:41.114Z"
   },
   {
    "duration": 186,
    "start_time": "2023-03-23T18:15:41.210Z"
   },
   {
    "duration": 8,
    "start_time": "2023-03-23T18:15:41.397Z"
   },
   {
    "duration": 20,
    "start_time": "2023-03-23T18:15:41.406Z"
   },
   {
    "duration": 60,
    "start_time": "2023-03-23T18:15:41.427Z"
   },
   {
    "duration": 14,
    "start_time": "2023-03-23T18:15:41.488Z"
   },
   {
    "duration": 10,
    "start_time": "2023-03-23T18:15:41.504Z"
   },
   {
    "duration": 44,
    "start_time": "2023-03-23T18:15:41.515Z"
   },
   {
    "duration": 24,
    "start_time": "2023-03-23T18:15:41.561Z"
   },
   {
    "duration": 13,
    "start_time": "2023-03-23T18:15:41.586Z"
   },
   {
    "duration": 29,
    "start_time": "2023-03-23T18:15:41.600Z"
   },
   {
    "duration": 565,
    "start_time": "2023-03-23T18:15:41.631Z"
   },
   {
    "duration": 20,
    "start_time": "2023-03-23T18:15:42.197Z"
   },
   {
    "duration": 36,
    "start_time": "2023-03-23T18:15:42.218Z"
   },
   {
    "duration": 20,
    "start_time": "2023-03-23T18:15:42.256Z"
   },
   {
    "duration": 34,
    "start_time": "2023-03-23T18:15:42.278Z"
   },
   {
    "duration": 6,
    "start_time": "2023-03-23T18:15:42.314Z"
   },
   {
    "duration": 47,
    "start_time": "2023-03-23T18:15:42.321Z"
   },
   {
    "duration": 64,
    "start_time": "2023-03-23T18:15:42.370Z"
   },
   {
    "duration": 48,
    "start_time": "2023-03-23T18:15:42.435Z"
   },
   {
    "duration": 18,
    "start_time": "2023-03-23T18:15:42.487Z"
   },
   {
    "duration": 9,
    "start_time": "2023-03-23T18:15:42.506Z"
   },
   {
    "duration": 18,
    "start_time": "2023-03-23T18:15:42.516Z"
   },
   {
    "duration": 18,
    "start_time": "2023-03-23T18:15:42.536Z"
   },
   {
    "duration": 41,
    "start_time": "2023-03-23T18:15:42.556Z"
   },
   {
    "duration": 117,
    "start_time": "2023-03-23T18:15:42.599Z"
   },
   {
    "duration": 15,
    "start_time": "2023-03-23T18:17:02.469Z"
   },
   {
    "duration": 37,
    "start_time": "2023-03-23T18:17:09.445Z"
   },
   {
    "duration": 28,
    "start_time": "2023-03-23T19:20:49.617Z"
   },
   {
    "duration": 26,
    "start_time": "2023-03-23T19:20:55.323Z"
   },
   {
    "duration": 96,
    "start_time": "2023-03-23T19:25:29.077Z"
   },
   {
    "duration": 32,
    "start_time": "2023-03-23T19:25:31.444Z"
   },
   {
    "duration": 132,
    "start_time": "2023-03-23T19:28:10.854Z"
   },
   {
    "duration": 30,
    "start_time": "2023-03-23T19:29:59.511Z"
   },
   {
    "duration": 1451,
    "start_time": "2023-03-23T19:30:11.815Z"
   },
   {
    "duration": 31,
    "start_time": "2023-03-23T19:30:32.235Z"
   },
   {
    "duration": 32,
    "start_time": "2023-03-23T19:30:48.935Z"
   },
   {
    "duration": 1210,
    "start_time": "2023-03-23T19:31:43.176Z"
   },
   {
    "duration": 96,
    "start_time": "2023-03-23T19:32:04.322Z"
   },
   {
    "duration": 1674,
    "start_time": "2023-03-23T19:32:12.392Z"
   },
   {
    "duration": 1200,
    "start_time": "2023-03-23T19:33:34.234Z"
   },
   {
    "duration": 14,
    "start_time": "2023-03-23T19:33:50.960Z"
   },
   {
    "duration": 1155,
    "start_time": "2023-03-23T19:34:58.702Z"
   },
   {
    "duration": 150,
    "start_time": "2023-03-23T19:34:59.859Z"
   },
   {
    "duration": 11,
    "start_time": "2023-03-23T19:35:00.011Z"
   },
   {
    "duration": 37,
    "start_time": "2023-03-23T19:35:00.024Z"
   },
   {
    "duration": 38,
    "start_time": "2023-03-23T19:35:00.062Z"
   },
   {
    "duration": 47,
    "start_time": "2023-03-23T19:35:00.101Z"
   },
   {
    "duration": 25,
    "start_time": "2023-03-23T19:35:00.150Z"
   },
   {
    "duration": 45,
    "start_time": "2023-03-23T19:35:00.176Z"
   },
   {
    "duration": 33,
    "start_time": "2023-03-23T19:35:00.222Z"
   },
   {
    "duration": 79,
    "start_time": "2023-03-23T19:35:00.257Z"
   },
   {
    "duration": 35,
    "start_time": "2023-03-23T19:35:00.338Z"
   },
   {
    "duration": 55,
    "start_time": "2023-03-23T19:35:00.375Z"
   },
   {
    "duration": 69,
    "start_time": "2023-03-23T19:35:00.432Z"
   },
   {
    "duration": 89,
    "start_time": "2023-03-23T19:35:00.502Z"
   },
   {
    "duration": 157,
    "start_time": "2023-03-23T19:35:00.592Z"
   },
   {
    "duration": 8,
    "start_time": "2023-03-23T19:35:00.750Z"
   },
   {
    "duration": 38,
    "start_time": "2023-03-23T19:35:00.760Z"
   },
   {
    "duration": 76,
    "start_time": "2023-03-23T19:35:00.800Z"
   },
   {
    "duration": 18,
    "start_time": "2023-03-23T19:35:00.877Z"
   },
   {
    "duration": 29,
    "start_time": "2023-03-23T19:35:00.897Z"
   },
   {
    "duration": 67,
    "start_time": "2023-03-23T19:35:00.927Z"
   },
   {
    "duration": 13,
    "start_time": "2023-03-23T19:35:00.995Z"
   },
   {
    "duration": 31,
    "start_time": "2023-03-23T19:35:01.010Z"
   },
   {
    "duration": 95,
    "start_time": "2023-03-23T19:35:01.042Z"
   },
   {
    "duration": 536,
    "start_time": "2023-03-23T19:35:01.138Z"
   },
   {
    "duration": 20,
    "start_time": "2023-03-23T19:35:01.675Z"
   },
   {
    "duration": 133,
    "start_time": "2023-03-23T19:35:01.696Z"
   },
   {
    "duration": 47,
    "start_time": "2023-03-23T19:35:01.832Z"
   },
   {
    "duration": 41,
    "start_time": "2023-03-23T19:35:01.881Z"
   },
   {
    "duration": 49,
    "start_time": "2023-03-23T19:35:01.923Z"
   },
   {
    "duration": 61,
    "start_time": "2023-03-23T19:35:01.974Z"
   },
   {
    "duration": 113,
    "start_time": "2023-03-23T19:35:02.037Z"
   },
   {
    "duration": 32,
    "start_time": "2023-03-23T19:35:02.151Z"
   },
   {
    "duration": 13,
    "start_time": "2023-03-23T19:35:02.185Z"
   },
   {
    "duration": 24,
    "start_time": "2023-03-23T19:35:02.199Z"
   },
   {
    "duration": 33,
    "start_time": "2023-03-23T19:35:02.224Z"
   },
   {
    "duration": 68,
    "start_time": "2023-03-23T19:35:02.258Z"
   },
   {
    "duration": 37,
    "start_time": "2023-03-23T19:35:02.328Z"
   },
   {
    "duration": 44,
    "start_time": "2023-03-23T19:35:02.367Z"
   },
   {
    "duration": 33,
    "start_time": "2023-03-23T19:35:02.412Z"
   },
   {
    "duration": 106,
    "start_time": "2023-03-23T19:35:02.446Z"
   },
   {
    "duration": 109,
    "start_time": "2023-03-23T19:35:02.553Z"
   },
   {
    "duration": 1184,
    "start_time": "2023-03-23T19:35:48.741Z"
   },
   {
    "duration": 152,
    "start_time": "2023-03-23T19:35:49.926Z"
   },
   {
    "duration": 12,
    "start_time": "2023-03-23T19:35:50.079Z"
   },
   {
    "duration": 2,
    "start_time": "2023-03-23T19:35:50.093Z"
   },
   {
    "duration": 10,
    "start_time": "2023-03-23T19:35:50.096Z"
   },
   {
    "duration": 13,
    "start_time": "2023-03-23T19:35:50.107Z"
   },
   {
    "duration": 30,
    "start_time": "2023-03-23T19:35:50.121Z"
   },
   {
    "duration": 12,
    "start_time": "2023-03-23T19:35:50.152Z"
   },
   {
    "duration": 15,
    "start_time": "2023-03-23T19:35:50.165Z"
   },
   {
    "duration": 53,
    "start_time": "2023-03-23T19:35:50.182Z"
   },
   {
    "duration": 24,
    "start_time": "2023-03-23T19:35:50.237Z"
   },
   {
    "duration": 26,
    "start_time": "2023-03-23T19:35:50.263Z"
   },
   {
    "duration": 76,
    "start_time": "2023-03-23T19:35:50.290Z"
   },
   {
    "duration": 67,
    "start_time": "2023-03-23T19:35:50.368Z"
   },
   {
    "duration": 161,
    "start_time": "2023-03-23T19:35:50.436Z"
   },
   {
    "duration": 6,
    "start_time": "2023-03-23T19:35:50.599Z"
   },
   {
    "duration": 17,
    "start_time": "2023-03-23T19:35:50.606Z"
   },
   {
    "duration": 41,
    "start_time": "2023-03-23T19:35:50.625Z"
   },
   {
    "duration": 9,
    "start_time": "2023-03-23T19:35:50.667Z"
   },
   {
    "duration": 7,
    "start_time": "2023-03-23T19:35:50.678Z"
   },
   {
    "duration": 16,
    "start_time": "2023-03-23T19:35:50.686Z"
   },
   {
    "duration": 12,
    "start_time": "2023-03-23T19:35:50.703Z"
   },
   {
    "duration": 6,
    "start_time": "2023-03-23T19:35:50.716Z"
   },
   {
    "duration": 43,
    "start_time": "2023-03-23T19:35:50.723Z"
   },
   {
    "duration": 525,
    "start_time": "2023-03-23T19:35:50.768Z"
   },
   {
    "duration": 19,
    "start_time": "2023-03-23T19:35:51.295Z"
   },
   {
    "duration": 35,
    "start_time": "2023-03-23T19:35:51.315Z"
   },
   {
    "duration": 14,
    "start_time": "2023-03-23T19:35:51.354Z"
   },
   {
    "duration": 23,
    "start_time": "2023-03-23T19:35:51.369Z"
   },
   {
    "duration": 5,
    "start_time": "2023-03-23T19:35:51.394Z"
   },
   {
    "duration": 35,
    "start_time": "2023-03-23T19:35:51.400Z"
   },
   {
    "duration": 71,
    "start_time": "2023-03-23T19:35:51.437Z"
   },
   {
    "duration": 43,
    "start_time": "2023-03-23T19:35:51.510Z"
   },
   {
    "duration": 11,
    "start_time": "2023-03-23T19:35:51.554Z"
   },
   {
    "duration": 9,
    "start_time": "2023-03-23T19:35:51.566Z"
   },
   {
    "duration": 11,
    "start_time": "2023-03-23T19:35:51.576Z"
   },
   {
    "duration": 10,
    "start_time": "2023-03-23T19:35:51.588Z"
   },
   {
    "duration": 4,
    "start_time": "2023-03-23T19:35:51.600Z"
   },
   {
    "duration": 22,
    "start_time": "2023-03-23T19:35:51.605Z"
   },
   {
    "duration": 31,
    "start_time": "2023-03-23T19:35:51.649Z"
   },
   {
    "duration": 101,
    "start_time": "2023-03-23T19:35:51.681Z"
   },
   {
    "duration": 1302,
    "start_time": "2023-03-23T19:35:51.784Z"
   },
   {
    "duration": 14,
    "start_time": "2023-03-23T19:36:04.684Z"
   },
   {
    "duration": 9,
    "start_time": "2023-03-23T19:37:43.829Z"
   },
   {
    "duration": 19,
    "start_time": "2023-03-23T19:40:31.624Z"
   },
   {
    "duration": 1134,
    "start_time": "2023-03-23T19:44:02.781Z"
   },
   {
    "duration": 140,
    "start_time": "2023-03-23T19:44:03.917Z"
   },
   {
    "duration": 13,
    "start_time": "2023-03-23T19:44:04.059Z"
   },
   {
    "duration": 9,
    "start_time": "2023-03-23T19:44:04.074Z"
   },
   {
    "duration": 26,
    "start_time": "2023-03-23T19:44:04.084Z"
   },
   {
    "duration": 20,
    "start_time": "2023-03-23T19:44:04.111Z"
   },
   {
    "duration": 28,
    "start_time": "2023-03-23T19:44:04.133Z"
   },
   {
    "duration": 25,
    "start_time": "2023-03-23T19:44:04.163Z"
   },
   {
    "duration": 10,
    "start_time": "2023-03-23T19:44:04.190Z"
   },
   {
    "duration": 77,
    "start_time": "2023-03-23T19:44:04.202Z"
   },
   {
    "duration": 12,
    "start_time": "2023-03-23T19:44:04.280Z"
   },
   {
    "duration": 39,
    "start_time": "2023-03-23T19:44:04.294Z"
   },
   {
    "duration": 85,
    "start_time": "2023-03-23T19:44:04.334Z"
   },
   {
    "duration": 73,
    "start_time": "2023-03-23T19:44:04.421Z"
   },
   {
    "duration": 152,
    "start_time": "2023-03-23T19:44:04.496Z"
   },
   {
    "duration": 8,
    "start_time": "2023-03-23T19:44:04.651Z"
   },
   {
    "duration": 80,
    "start_time": "2023-03-23T19:44:04.661Z"
   },
   {
    "duration": 60,
    "start_time": "2023-03-23T19:44:04.743Z"
   },
   {
    "duration": 11,
    "start_time": "2023-03-23T19:44:04.804Z"
   },
   {
    "duration": 31,
    "start_time": "2023-03-23T19:44:04.817Z"
   },
   {
    "duration": 31,
    "start_time": "2023-03-23T19:44:04.849Z"
   },
   {
    "duration": 16,
    "start_time": "2023-03-23T19:44:04.882Z"
   },
   {
    "duration": 16,
    "start_time": "2023-03-23T19:44:04.899Z"
   },
   {
    "duration": 43,
    "start_time": "2023-03-23T19:44:04.917Z"
   },
   {
    "duration": 535,
    "start_time": "2023-03-23T19:44:04.962Z"
   },
   {
    "duration": 18,
    "start_time": "2023-03-23T19:44:05.499Z"
   },
   {
    "duration": 35,
    "start_time": "2023-03-23T19:44:05.518Z"
   },
   {
    "duration": 14,
    "start_time": "2023-03-23T19:44:05.557Z"
   },
   {
    "duration": 34,
    "start_time": "2023-03-23T19:44:05.573Z"
   },
   {
    "duration": 6,
    "start_time": "2023-03-23T19:44:05.608Z"
   },
   {
    "duration": 37,
    "start_time": "2023-03-23T19:44:05.615Z"
   },
   {
    "duration": 60,
    "start_time": "2023-03-23T19:44:05.653Z"
   },
   {
    "duration": 47,
    "start_time": "2023-03-23T19:44:05.714Z"
   },
   {
    "duration": 8,
    "start_time": "2023-03-23T19:44:05.763Z"
   },
   {
    "duration": 6,
    "start_time": "2023-03-23T19:44:05.772Z"
   },
   {
    "duration": 19,
    "start_time": "2023-03-23T19:44:05.779Z"
   },
   {
    "duration": 13,
    "start_time": "2023-03-23T19:44:05.799Z"
   },
   {
    "duration": 3,
    "start_time": "2023-03-23T19:44:05.813Z"
   },
   {
    "duration": 24,
    "start_time": "2023-03-23T19:44:05.817Z"
   },
   {
    "duration": 32,
    "start_time": "2023-03-23T19:44:05.849Z"
   },
   {
    "duration": 103,
    "start_time": "2023-03-23T19:44:05.883Z"
   },
   {
    "duration": 1419,
    "start_time": "2023-03-23T19:44:05.988Z"
   },
   {
    "duration": 0,
    "start_time": "2023-03-23T19:44:07.408Z"
   },
   {
    "duration": 98,
    "start_time": "2023-03-23T19:44:45.666Z"
   },
   {
    "duration": 10,
    "start_time": "2023-03-23T19:44:50.388Z"
   },
   {
    "duration": 18,
    "start_time": "2023-03-23T19:45:11.098Z"
   },
   {
    "duration": 92,
    "start_time": "2023-03-23T19:45:15.243Z"
   },
   {
    "duration": 86,
    "start_time": "2023-03-23T19:45:20.461Z"
   },
   {
    "duration": 4,
    "start_time": "2023-03-23T19:46:52.877Z"
   },
   {
    "duration": 82,
    "start_time": "2023-03-23T19:48:33.961Z"
   },
   {
    "duration": 89,
    "start_time": "2023-03-23T19:48:50.621Z"
   },
   {
    "duration": 93,
    "start_time": "2023-03-23T19:49:37.845Z"
   },
   {
    "duration": 25,
    "start_time": "2023-03-23T19:50:13.243Z"
   },
   {
    "duration": 20,
    "start_time": "2023-03-23T19:50:24.788Z"
   },
   {
    "duration": 84,
    "start_time": "2023-03-23T19:51:17.451Z"
   },
   {
    "duration": 53,
    "start_time": "2023-03-23T19:51:24.672Z"
   },
   {
    "duration": 5,
    "start_time": "2023-03-23T19:53:03.208Z"
   },
   {
    "duration": 11,
    "start_time": "2023-03-23T19:53:32.661Z"
   },
   {
    "duration": 7,
    "start_time": "2023-03-23T19:55:38.591Z"
   },
   {
    "duration": 1165,
    "start_time": "2023-03-23T19:55:48.946Z"
   },
   {
    "duration": 4,
    "start_time": "2023-03-23T19:55:56.777Z"
   },
   {
    "duration": 7,
    "start_time": "2023-03-23T19:56:07.121Z"
   },
   {
    "duration": 105,
    "start_time": "2023-03-23T20:00:45.597Z"
   },
   {
    "duration": 8,
    "start_time": "2023-03-23T20:02:50.231Z"
   },
   {
    "duration": 10,
    "start_time": "2023-03-23T20:03:00.711Z"
   },
   {
    "duration": 65,
    "start_time": "2023-03-24T16:56:27.960Z"
   },
   {
    "duration": 7,
    "start_time": "2023-03-24T16:57:38.389Z"
   },
   {
    "duration": 1403,
    "start_time": "2023-03-24T16:57:43.596Z"
   },
   {
    "duration": 794,
    "start_time": "2023-03-24T16:57:45.001Z"
   },
   {
    "duration": 16,
    "start_time": "2023-03-24T16:57:45.797Z"
   },
   {
    "duration": 10,
    "start_time": "2023-03-24T16:57:45.815Z"
   },
   {
    "duration": 29,
    "start_time": "2023-03-24T16:57:45.826Z"
   },
   {
    "duration": 31,
    "start_time": "2023-03-24T16:57:45.856Z"
   },
   {
    "duration": 21,
    "start_time": "2023-03-24T16:57:45.888Z"
   },
   {
    "duration": 9,
    "start_time": "2023-03-24T16:57:45.911Z"
   },
   {
    "duration": 15,
    "start_time": "2023-03-24T16:57:45.922Z"
   },
   {
    "duration": 81,
    "start_time": "2023-03-24T16:57:45.940Z"
   },
   {
    "duration": 16,
    "start_time": "2023-03-24T16:57:46.023Z"
   },
   {
    "duration": 44,
    "start_time": "2023-03-24T16:57:46.041Z"
   },
   {
    "duration": 89,
    "start_time": "2023-03-24T16:57:46.088Z"
   },
   {
    "duration": 92,
    "start_time": "2023-03-24T16:57:46.178Z"
   },
   {
    "duration": 166,
    "start_time": "2023-03-24T16:57:46.271Z"
   },
   {
    "duration": 7,
    "start_time": "2023-03-24T16:57:46.438Z"
   },
   {
    "duration": 29,
    "start_time": "2023-03-24T16:57:46.447Z"
   },
   {
    "duration": 26,
    "start_time": "2023-03-24T16:57:46.478Z"
   },
   {
    "duration": 11,
    "start_time": "2023-03-24T16:57:46.505Z"
   },
   {
    "duration": 10,
    "start_time": "2023-03-24T16:57:46.518Z"
   },
   {
    "duration": 41,
    "start_time": "2023-03-24T16:57:46.530Z"
   },
   {
    "duration": 5,
    "start_time": "2023-03-24T16:57:46.573Z"
   },
   {
    "duration": 6,
    "start_time": "2023-03-24T16:57:46.580Z"
   },
   {
    "duration": 28,
    "start_time": "2023-03-24T16:57:46.587Z"
   },
   {
    "duration": 678,
    "start_time": "2023-03-24T16:57:46.617Z"
   },
   {
    "duration": 21,
    "start_time": "2023-03-24T16:57:47.297Z"
   },
   {
    "duration": 48,
    "start_time": "2023-03-24T16:57:47.319Z"
   },
   {
    "duration": 14,
    "start_time": "2023-03-24T16:57:47.371Z"
   },
   {
    "duration": 26,
    "start_time": "2023-03-24T16:57:47.386Z"
   },
   {
    "duration": 6,
    "start_time": "2023-03-24T16:57:47.414Z"
   },
   {
    "duration": 60,
    "start_time": "2023-03-24T16:57:47.421Z"
   },
   {
    "duration": 82,
    "start_time": "2023-03-24T16:57:47.483Z"
   },
   {
    "duration": 30,
    "start_time": "2023-03-24T16:57:47.569Z"
   },
   {
    "duration": 9,
    "start_time": "2023-03-24T16:57:47.601Z"
   },
   {
    "duration": 10,
    "start_time": "2023-03-24T16:57:47.612Z"
   },
   {
    "duration": 48,
    "start_time": "2023-03-24T16:57:47.624Z"
   },
   {
    "duration": 7,
    "start_time": "2023-03-24T16:57:47.675Z"
   },
   {
    "duration": 6,
    "start_time": "2023-03-24T16:57:47.684Z"
   },
   {
    "duration": 40,
    "start_time": "2023-03-24T16:57:47.692Z"
   },
   {
    "duration": 30,
    "start_time": "2023-03-24T16:57:47.734Z"
   },
   {
    "duration": 34,
    "start_time": "2023-03-24T16:57:47.766Z"
   },
   {
    "duration": 22,
    "start_time": "2023-03-24T16:57:47.802Z"
   },
   {
    "duration": 136,
    "start_time": "2023-03-24T16:57:47.825Z"
   },
   {
    "duration": 12,
    "start_time": "2023-03-24T16:57:47.963Z"
   },
   {
    "duration": 13,
    "start_time": "2023-03-24T16:57:47.977Z"
   },
   {
    "duration": 12,
    "start_time": "2023-03-24T16:57:47.992Z"
   },
   {
    "duration": 1243,
    "start_time": "2023-03-24T16:59:59.983Z"
   },
   {
    "duration": 158,
    "start_time": "2023-03-24T17:00:01.228Z"
   },
   {
    "duration": 15,
    "start_time": "2023-03-24T17:00:01.388Z"
   },
   {
    "duration": 55,
    "start_time": "2023-03-24T17:00:01.405Z"
   },
   {
    "duration": 74,
    "start_time": "2023-03-24T17:00:01.462Z"
   },
   {
    "duration": 50,
    "start_time": "2023-03-24T17:00:01.538Z"
   },
   {
    "duration": 73,
    "start_time": "2023-03-24T17:00:01.589Z"
   },
   {
    "duration": 54,
    "start_time": "2023-03-24T17:00:01.664Z"
   },
   {
    "duration": 83,
    "start_time": "2023-03-24T17:00:01.719Z"
   },
   {
    "duration": 137,
    "start_time": "2023-03-24T17:00:01.804Z"
   },
   {
    "duration": 76,
    "start_time": "2023-03-24T17:00:01.943Z"
   },
   {
    "duration": 174,
    "start_time": "2023-03-24T17:00:02.021Z"
   },
   {
    "duration": 135,
    "start_time": "2023-03-24T17:00:02.197Z"
   },
   {
    "duration": 85,
    "start_time": "2023-03-24T17:00:02.334Z"
   },
   {
    "duration": 166,
    "start_time": "2023-03-24T17:00:02.420Z"
   },
   {
    "duration": 8,
    "start_time": "2023-03-24T17:00:02.588Z"
   },
   {
    "duration": 28,
    "start_time": "2023-03-24T17:00:02.598Z"
   },
   {
    "duration": 42,
    "start_time": "2023-03-24T17:00:02.628Z"
   },
   {
    "duration": 11,
    "start_time": "2023-03-24T17:00:02.672Z"
   },
   {
    "duration": 34,
    "start_time": "2023-03-24T17:00:02.685Z"
   },
   {
    "duration": 26,
    "start_time": "2023-03-24T17:00:02.721Z"
   },
   {
    "duration": 5,
    "start_time": "2023-03-24T17:00:02.749Z"
   },
   {
    "duration": 15,
    "start_time": "2023-03-24T17:00:02.756Z"
   },
   {
    "duration": 43,
    "start_time": "2023-03-24T17:00:02.773Z"
   },
   {
    "duration": 626,
    "start_time": "2023-03-24T17:00:02.817Z"
   },
   {
    "duration": 27,
    "start_time": "2023-03-24T17:00:03.445Z"
   },
   {
    "duration": 32,
    "start_time": "2023-03-24T17:00:03.474Z"
   },
   {
    "duration": 15,
    "start_time": "2023-03-24T17:00:03.515Z"
   },
   {
    "duration": 43,
    "start_time": "2023-03-24T17:00:03.532Z"
   },
   {
    "duration": 8,
    "start_time": "2023-03-24T17:00:03.577Z"
   },
   {
    "duration": 37,
    "start_time": "2023-03-24T17:00:03.587Z"
   },
   {
    "duration": 83,
    "start_time": "2023-03-24T17:00:03.626Z"
   },
   {
    "duration": 28,
    "start_time": "2023-03-24T17:00:03.711Z"
   },
   {
    "duration": 24,
    "start_time": "2023-03-24T17:00:03.741Z"
   },
   {
    "duration": 8,
    "start_time": "2023-03-24T17:00:03.768Z"
   },
   {
    "duration": 24,
    "start_time": "2023-03-24T17:00:03.779Z"
   },
   {
    "duration": 23,
    "start_time": "2023-03-24T17:00:03.805Z"
   },
   {
    "duration": 7,
    "start_time": "2023-03-24T17:00:03.830Z"
   },
   {
    "duration": 64,
    "start_time": "2023-03-24T17:00:03.840Z"
   },
   {
    "duration": 32,
    "start_time": "2023-03-24T17:00:03.906Z"
   },
   {
    "duration": 40,
    "start_time": "2023-03-24T17:00:03.940Z"
   },
   {
    "duration": 131,
    "start_time": "2023-03-24T17:00:03.982Z"
   },
   {
    "duration": 15,
    "start_time": "2023-03-24T17:00:04.116Z"
   },
   {
    "duration": 46,
    "start_time": "2023-03-24T17:00:04.134Z"
   },
   {
    "duration": 18,
    "start_time": "2023-03-24T17:00:04.183Z"
   },
   {
    "duration": 18,
    "start_time": "2023-03-24T17:00:04.203Z"
   },
   {
    "duration": 102,
    "start_time": "2023-03-24T17:00:29.125Z"
   },
   {
    "duration": 31,
    "start_time": "2023-03-24T17:01:10.977Z"
   },
   {
    "duration": 108,
    "start_time": "2023-03-24T17:01:15.536Z"
   },
   {
    "duration": 95,
    "start_time": "2023-03-24T17:03:11.834Z"
   },
   {
    "duration": 112,
    "start_time": "2023-03-24T17:04:05.658Z"
   },
   {
    "duration": 13,
    "start_time": "2023-03-24T17:09:23.040Z"
   },
   {
    "duration": 14,
    "start_time": "2023-03-24T17:09:51.887Z"
   },
   {
    "duration": 45,
    "start_time": "2023-03-24T17:10:48.688Z"
   },
   {
    "duration": 31,
    "start_time": "2023-03-24T17:11:01.159Z"
   },
   {
    "duration": 23,
    "start_time": "2023-03-24T17:23:50.250Z"
   },
   {
    "duration": 116,
    "start_time": "2023-03-24T17:26:30.301Z"
   },
   {
    "duration": 119,
    "start_time": "2023-03-24T17:26:54.613Z"
   },
   {
    "duration": 207,
    "start_time": "2023-03-24T17:28:38.919Z"
   },
   {
    "duration": 105,
    "start_time": "2023-03-24T17:28:52.845Z"
   },
   {
    "duration": 102,
    "start_time": "2023-03-24T17:29:31.607Z"
   },
   {
    "duration": 111,
    "start_time": "2023-03-24T17:29:48.399Z"
   },
   {
    "duration": 110,
    "start_time": "2023-03-24T17:30:54.727Z"
   },
   {
    "duration": 114,
    "start_time": "2023-03-24T17:31:23.327Z"
   },
   {
    "duration": 111,
    "start_time": "2023-03-24T17:31:48.065Z"
   },
   {
    "duration": 20,
    "start_time": "2023-03-24T17:32:03.055Z"
   },
   {
    "duration": 45,
    "start_time": "2023-03-24T17:32:50.690Z"
   },
   {
    "duration": 16,
    "start_time": "2023-03-24T17:36:24.892Z"
   },
   {
    "duration": 10,
    "start_time": "2023-03-24T17:42:01.189Z"
   },
   {
    "duration": 9,
    "start_time": "2023-03-24T17:42:02.544Z"
   },
   {
    "duration": 751,
    "start_time": "2023-03-24T17:43:19.223Z"
   },
   {
    "duration": 704,
    "start_time": "2023-03-24T17:43:44.258Z"
   },
   {
    "duration": 661,
    "start_time": "2023-03-24T17:43:53.034Z"
   },
   {
    "duration": 706,
    "start_time": "2023-03-24T17:44:21.694Z"
   },
   {
    "duration": 33,
    "start_time": "2023-03-24T17:44:48.905Z"
   },
   {
    "duration": 693,
    "start_time": "2023-03-24T17:44:58.839Z"
   },
   {
    "duration": 721,
    "start_time": "2023-03-24T17:45:28.738Z"
   },
   {
    "duration": 1196,
    "start_time": "2023-03-24T17:45:47.705Z"
   },
   {
    "duration": 145,
    "start_time": "2023-03-24T17:45:48.903Z"
   },
   {
    "duration": 15,
    "start_time": "2023-03-24T17:45:49.051Z"
   },
   {
    "duration": 3,
    "start_time": "2023-03-24T17:45:49.069Z"
   },
   {
    "duration": 14,
    "start_time": "2023-03-24T17:45:49.073Z"
   },
   {
    "duration": 21,
    "start_time": "2023-03-24T17:45:49.089Z"
   },
   {
    "duration": 25,
    "start_time": "2023-03-24T17:45:49.112Z"
   },
   {
    "duration": 30,
    "start_time": "2023-03-24T17:45:49.138Z"
   },
   {
    "duration": 12,
    "start_time": "2023-03-24T17:45:49.170Z"
   },
   {
    "duration": 83,
    "start_time": "2023-03-24T17:45:49.184Z"
   },
   {
    "duration": 14,
    "start_time": "2023-03-24T17:45:49.270Z"
   },
   {
    "duration": 36,
    "start_time": "2023-03-24T17:45:49.286Z"
   },
   {
    "duration": 83,
    "start_time": "2023-03-24T17:45:49.324Z"
   },
   {
    "duration": 87,
    "start_time": "2023-03-24T17:45:49.409Z"
   },
   {
    "duration": 169,
    "start_time": "2023-03-24T17:45:49.498Z"
   },
   {
    "duration": 8,
    "start_time": "2023-03-24T17:45:49.669Z"
   },
   {
    "duration": 19,
    "start_time": "2023-03-24T17:45:49.678Z"
   },
   {
    "duration": 30,
    "start_time": "2023-03-24T17:45:49.699Z"
   },
   {
    "duration": 31,
    "start_time": "2023-03-24T17:45:49.731Z"
   },
   {
    "duration": 7,
    "start_time": "2023-03-24T17:45:49.764Z"
   },
   {
    "duration": 15,
    "start_time": "2023-03-24T17:45:49.772Z"
   },
   {
    "duration": 6,
    "start_time": "2023-03-24T17:45:49.789Z"
   },
   {
    "duration": 6,
    "start_time": "2023-03-24T17:45:49.797Z"
   },
   {
    "duration": 66,
    "start_time": "2023-03-24T17:45:49.805Z"
   },
   {
    "duration": 652,
    "start_time": "2023-03-24T17:45:49.872Z"
   },
   {
    "duration": 22,
    "start_time": "2023-03-24T17:45:50.526Z"
   },
   {
    "duration": 41,
    "start_time": "2023-03-24T17:45:50.549Z"
   },
   {
    "duration": 21,
    "start_time": "2023-03-24T17:45:50.594Z"
   },
   {
    "duration": 57,
    "start_time": "2023-03-24T17:45:50.616Z"
   },
   {
    "duration": 8,
    "start_time": "2023-03-24T17:45:50.675Z"
   },
   {
    "duration": 39,
    "start_time": "2023-03-24T17:45:50.685Z"
   },
   {
    "duration": 86,
    "start_time": "2023-03-24T17:45:50.725Z"
   },
   {
    "duration": 30,
    "start_time": "2023-03-24T17:45:50.813Z"
   },
   {
    "duration": 26,
    "start_time": "2023-03-24T17:45:50.845Z"
   },
   {
    "duration": 14,
    "start_time": "2023-03-24T17:45:50.873Z"
   },
   {
    "duration": 29,
    "start_time": "2023-03-24T17:45:50.888Z"
   },
   {
    "duration": 12,
    "start_time": "2023-03-24T17:45:50.919Z"
   },
   {
    "duration": 7,
    "start_time": "2023-03-24T17:45:50.933Z"
   },
   {
    "duration": 47,
    "start_time": "2023-03-24T17:45:50.942Z"
   },
   {
    "duration": 25,
    "start_time": "2023-03-24T17:45:50.991Z"
   },
   {
    "duration": 131,
    "start_time": "2023-03-24T17:45:51.018Z"
   },
   {
    "duration": 18,
    "start_time": "2023-03-24T17:45:51.153Z"
   },
   {
    "duration": 32,
    "start_time": "2023-03-24T17:45:51.172Z"
   },
   {
    "duration": 119,
    "start_time": "2023-03-24T17:45:51.206Z"
   },
   {
    "duration": 20,
    "start_time": "2023-03-24T17:45:51.327Z"
   },
   {
    "duration": 11,
    "start_time": "2023-03-24T17:45:51.361Z"
   },
   {
    "duration": 10,
    "start_time": "2023-03-24T17:45:51.374Z"
   },
   {
    "duration": 20,
    "start_time": "2023-03-24T17:45:51.385Z"
   },
   {
    "duration": 827,
    "start_time": "2023-03-24T17:45:51.407Z"
   },
   {
    "duration": 1261,
    "start_time": "2023-03-24T17:46:51.703Z"
   },
   {
    "duration": 148,
    "start_time": "2023-03-24T17:46:52.966Z"
   },
   {
    "duration": 15,
    "start_time": "2023-03-24T17:46:53.115Z"
   },
   {
    "duration": 9,
    "start_time": "2023-03-24T17:46:53.132Z"
   },
   {
    "duration": 34,
    "start_time": "2023-03-24T17:46:53.143Z"
   },
   {
    "duration": 34,
    "start_time": "2023-03-24T17:46:53.179Z"
   },
   {
    "duration": 21,
    "start_time": "2023-03-24T17:46:53.214Z"
   },
   {
    "duration": 12,
    "start_time": "2023-03-24T17:46:53.237Z"
   },
   {
    "duration": 11,
    "start_time": "2023-03-24T17:46:53.251Z"
   },
   {
    "duration": 74,
    "start_time": "2023-03-24T17:46:53.264Z"
   },
   {
    "duration": 28,
    "start_time": "2023-03-24T17:46:53.339Z"
   },
   {
    "duration": 31,
    "start_time": "2023-03-24T17:46:53.369Z"
   },
   {
    "duration": 81,
    "start_time": "2023-03-24T17:46:53.401Z"
   },
   {
    "duration": 100,
    "start_time": "2023-03-24T17:46:53.484Z"
   },
   {
    "duration": 185,
    "start_time": "2023-03-24T17:46:53.585Z"
   },
   {
    "duration": 8,
    "start_time": "2023-03-24T17:46:53.772Z"
   },
   {
    "duration": 24,
    "start_time": "2023-03-24T17:46:53.781Z"
   },
   {
    "duration": 56,
    "start_time": "2023-03-24T17:46:53.806Z"
   },
   {
    "duration": 12,
    "start_time": "2023-03-24T17:46:53.864Z"
   },
   {
    "duration": 14,
    "start_time": "2023-03-24T17:46:53.878Z"
   },
   {
    "duration": 25,
    "start_time": "2023-03-24T17:46:53.895Z"
   },
   {
    "duration": 7,
    "start_time": "2023-03-24T17:46:53.922Z"
   },
   {
    "duration": 34,
    "start_time": "2023-03-24T17:46:53.932Z"
   },
   {
    "duration": 38,
    "start_time": "2023-03-24T17:46:53.968Z"
   },
   {
    "duration": 715,
    "start_time": "2023-03-24T17:46:54.009Z"
   },
   {
    "duration": 20,
    "start_time": "2023-03-24T17:46:54.726Z"
   },
   {
    "duration": 37,
    "start_time": "2023-03-24T17:46:54.748Z"
   },
   {
    "duration": 15,
    "start_time": "2023-03-24T17:46:54.788Z"
   },
   {
    "duration": 28,
    "start_time": "2023-03-24T17:46:54.805Z"
   },
   {
    "duration": 30,
    "start_time": "2023-03-24T17:46:54.835Z"
   },
   {
    "duration": 34,
    "start_time": "2023-03-24T17:46:54.867Z"
   },
   {
    "duration": 95,
    "start_time": "2023-03-24T17:46:54.903Z"
   },
   {
    "duration": 33,
    "start_time": "2023-03-24T17:46:55.000Z"
   },
   {
    "duration": 29,
    "start_time": "2023-03-24T17:46:55.035Z"
   },
   {
    "duration": 7,
    "start_time": "2023-03-24T17:46:55.065Z"
   },
   {
    "duration": 13,
    "start_time": "2023-03-24T17:46:55.073Z"
   },
   {
    "duration": 7,
    "start_time": "2023-03-24T17:46:55.088Z"
   },
   {
    "duration": 5,
    "start_time": "2023-03-24T17:46:55.097Z"
   },
   {
    "duration": 71,
    "start_time": "2023-03-24T17:46:55.104Z"
   },
   {
    "duration": 25,
    "start_time": "2023-03-24T17:46:55.177Z"
   },
   {
    "duration": 125,
    "start_time": "2023-03-24T17:46:55.204Z"
   },
   {
    "duration": 16,
    "start_time": "2023-03-24T17:46:55.331Z"
   },
   {
    "duration": 24,
    "start_time": "2023-03-24T17:46:55.361Z"
   },
   {
    "duration": 122,
    "start_time": "2023-03-24T17:46:55.387Z"
   },
   {
    "duration": 21,
    "start_time": "2023-03-24T17:46:55.510Z"
   },
   {
    "duration": 31,
    "start_time": "2023-03-24T17:46:55.533Z"
   },
   {
    "duration": 11,
    "start_time": "2023-03-24T17:46:55.566Z"
   },
   {
    "duration": 11,
    "start_time": "2023-03-24T17:46:55.579Z"
   },
   {
    "duration": 844,
    "start_time": "2023-03-24T17:46:55.592Z"
   },
   {
    "duration": 105,
    "start_time": "2023-03-24T17:48:46.514Z"
   },
   {
    "duration": 1365,
    "start_time": "2023-03-24T17:48:57.978Z"
   },
   {
    "duration": 158,
    "start_time": "2023-03-24T17:48:59.345Z"
   },
   {
    "duration": 14,
    "start_time": "2023-03-24T17:48:59.505Z"
   },
   {
    "duration": 3,
    "start_time": "2023-03-24T17:48:59.521Z"
   },
   {
    "duration": 17,
    "start_time": "2023-03-24T17:48:59.526Z"
   },
   {
    "duration": 33,
    "start_time": "2023-03-24T17:48:59.544Z"
   },
   {
    "duration": 18,
    "start_time": "2023-03-24T17:48:59.579Z"
   },
   {
    "duration": 10,
    "start_time": "2023-03-24T17:48:59.599Z"
   },
   {
    "duration": 11,
    "start_time": "2023-03-24T17:48:59.611Z"
   },
   {
    "duration": 101,
    "start_time": "2023-03-24T17:48:59.624Z"
   },
   {
    "duration": 16,
    "start_time": "2023-03-24T17:48:59.727Z"
   },
   {
    "duration": 49,
    "start_time": "2023-03-24T17:48:59.745Z"
   },
   {
    "duration": 93,
    "start_time": "2023-03-24T17:48:59.796Z"
   },
   {
    "duration": 98,
    "start_time": "2023-03-24T17:48:59.893Z"
   },
   {
    "duration": 178,
    "start_time": "2023-03-24T17:48:59.993Z"
   },
   {
    "duration": 9,
    "start_time": "2023-03-24T17:49:00.174Z"
   },
   {
    "duration": 56,
    "start_time": "2023-03-24T17:49:00.185Z"
   },
   {
    "duration": 81,
    "start_time": "2023-03-24T17:49:00.243Z"
   },
   {
    "duration": 15,
    "start_time": "2023-03-24T17:49:00.327Z"
   },
   {
    "duration": 18,
    "start_time": "2023-03-24T17:49:00.348Z"
   },
   {
    "duration": 19,
    "start_time": "2023-03-24T17:49:00.370Z"
   },
   {
    "duration": 7,
    "start_time": "2023-03-24T17:49:00.391Z"
   },
   {
    "duration": 8,
    "start_time": "2023-03-24T17:49:00.400Z"
   },
   {
    "duration": 64,
    "start_time": "2023-03-24T17:49:00.410Z"
   },
   {
    "duration": 673,
    "start_time": "2023-03-24T17:49:00.476Z"
   },
   {
    "duration": 31,
    "start_time": "2023-03-24T17:49:01.152Z"
   },
   {
    "duration": 56,
    "start_time": "2023-03-24T17:49:01.185Z"
   },
   {
    "duration": 49,
    "start_time": "2023-03-24T17:49:01.243Z"
   },
   {
    "duration": 82,
    "start_time": "2023-03-24T17:49:01.293Z"
   },
   {
    "duration": 36,
    "start_time": "2023-03-24T17:49:01.377Z"
   },
   {
    "duration": 60,
    "start_time": "2023-03-24T17:49:01.415Z"
   },
   {
    "duration": 89,
    "start_time": "2023-03-24T17:49:01.477Z"
   },
   {
    "duration": 33,
    "start_time": "2023-03-24T17:49:01.568Z"
   },
   {
    "duration": 67,
    "start_time": "2023-03-24T17:49:01.603Z"
   },
   {
    "duration": 36,
    "start_time": "2023-03-24T17:49:01.672Z"
   },
   {
    "duration": 66,
    "start_time": "2023-03-24T17:49:01.710Z"
   },
   {
    "duration": 22,
    "start_time": "2023-03-24T17:49:01.778Z"
   },
   {
    "duration": 47,
    "start_time": "2023-03-24T17:49:01.802Z"
   },
   {
    "duration": 80,
    "start_time": "2023-03-24T17:49:01.852Z"
   },
   {
    "duration": 39,
    "start_time": "2023-03-24T17:49:01.934Z"
   },
   {
    "duration": 112,
    "start_time": "2023-03-24T17:49:01.977Z"
   },
   {
    "duration": 13,
    "start_time": "2023-03-24T17:49:02.091Z"
   },
   {
    "duration": 57,
    "start_time": "2023-03-24T17:49:02.106Z"
   },
   {
    "duration": 114,
    "start_time": "2023-03-24T17:49:02.167Z"
   },
   {
    "duration": 18,
    "start_time": "2023-03-24T17:49:02.282Z"
   },
   {
    "duration": 31,
    "start_time": "2023-03-24T17:49:02.301Z"
   },
   {
    "duration": 16,
    "start_time": "2023-03-24T17:49:02.334Z"
   },
   {
    "duration": 30,
    "start_time": "2023-03-24T17:49:02.352Z"
   },
   {
    "duration": 1004,
    "start_time": "2023-03-24T17:49:02.384Z"
   },
   {
    "duration": 44,
    "start_time": "2023-03-24T17:50:19.478Z"
   },
   {
    "duration": 9,
    "start_time": "2023-03-24T17:50:26.845Z"
   },
   {
    "duration": 10,
    "start_time": "2023-03-24T17:51:49.578Z"
   },
   {
    "duration": 56,
    "start_time": "2023-03-24T18:13:00.815Z"
   },
   {
    "duration": 49,
    "start_time": "2023-03-24T18:14:39.760Z"
   },
   {
    "duration": 68,
    "start_time": "2023-03-24T18:18:15.947Z"
   },
   {
    "duration": 1255,
    "start_time": "2023-03-24T18:18:30.897Z"
   },
   {
    "duration": 150,
    "start_time": "2023-03-24T18:18:32.153Z"
   },
   {
    "duration": 16,
    "start_time": "2023-03-24T18:18:32.305Z"
   },
   {
    "duration": 4,
    "start_time": "2023-03-24T18:18:32.323Z"
   },
   {
    "duration": 13,
    "start_time": "2023-03-24T18:18:32.329Z"
   },
   {
    "duration": 20,
    "start_time": "2023-03-24T18:18:32.363Z"
   },
   {
    "duration": 25,
    "start_time": "2023-03-24T18:18:32.385Z"
   },
   {
    "duration": 12,
    "start_time": "2023-03-24T18:18:32.412Z"
   },
   {
    "duration": 38,
    "start_time": "2023-03-24T18:18:32.426Z"
   },
   {
    "duration": 75,
    "start_time": "2023-03-24T18:18:32.467Z"
   },
   {
    "duration": 28,
    "start_time": "2023-03-24T18:18:32.543Z"
   },
   {
    "duration": 30,
    "start_time": "2023-03-24T18:18:32.572Z"
   },
   {
    "duration": 94,
    "start_time": "2023-03-24T18:18:32.604Z"
   },
   {
    "duration": 111,
    "start_time": "2023-03-24T18:18:32.700Z"
   },
   {
    "duration": 179,
    "start_time": "2023-03-24T18:18:32.813Z"
   },
   {
    "duration": 8,
    "start_time": "2023-03-24T18:18:32.993Z"
   },
   {
    "duration": 20,
    "start_time": "2023-03-24T18:18:33.002Z"
   },
   {
    "duration": 48,
    "start_time": "2023-03-24T18:18:33.024Z"
   },
   {
    "duration": 13,
    "start_time": "2023-03-24T18:18:33.074Z"
   },
   {
    "duration": 8,
    "start_time": "2023-03-24T18:18:33.088Z"
   },
   {
    "duration": 14,
    "start_time": "2023-03-24T18:18:33.098Z"
   },
   {
    "duration": 5,
    "start_time": "2023-03-24T18:18:33.114Z"
   },
   {
    "duration": 40,
    "start_time": "2023-03-24T18:18:33.121Z"
   },
   {
    "duration": 29,
    "start_time": "2023-03-24T18:18:33.164Z"
   },
   {
    "duration": 662,
    "start_time": "2023-03-24T18:18:33.195Z"
   },
   {
    "duration": 21,
    "start_time": "2023-03-24T18:18:33.861Z"
   },
   {
    "duration": 33,
    "start_time": "2023-03-24T18:18:33.884Z"
   },
   {
    "duration": 18,
    "start_time": "2023-03-24T18:18:33.921Z"
   },
   {
    "duration": 35,
    "start_time": "2023-03-24T18:18:33.963Z"
   },
   {
    "duration": 9,
    "start_time": "2023-03-24T18:18:34.000Z"
   },
   {
    "duration": 62,
    "start_time": "2023-03-24T18:18:34.011Z"
   },
   {
    "duration": 78,
    "start_time": "2023-03-24T18:18:34.075Z"
   },
   {
    "duration": 30,
    "start_time": "2023-03-24T18:18:34.161Z"
   },
   {
    "duration": 12,
    "start_time": "2023-03-24T18:18:34.193Z"
   },
   {
    "duration": 7,
    "start_time": "2023-03-24T18:18:34.207Z"
   },
   {
    "duration": 11,
    "start_time": "2023-03-24T18:18:34.216Z"
   },
   {
    "duration": 36,
    "start_time": "2023-03-24T18:18:34.229Z"
   },
   {
    "duration": 13,
    "start_time": "2023-03-24T18:18:34.267Z"
   },
   {
    "duration": 39,
    "start_time": "2023-03-24T18:18:34.282Z"
   },
   {
    "duration": 39,
    "start_time": "2023-03-24T18:18:34.323Z"
   },
   {
    "duration": 113,
    "start_time": "2023-03-24T18:18:34.364Z"
   },
   {
    "duration": 14,
    "start_time": "2023-03-24T18:18:34.478Z"
   },
   {
    "duration": 21,
    "start_time": "2023-03-24T18:18:34.493Z"
   },
   {
    "duration": 127,
    "start_time": "2023-03-24T18:18:34.516Z"
   },
   {
    "duration": 24,
    "start_time": "2023-03-24T18:18:34.645Z"
   },
   {
    "duration": 13,
    "start_time": "2023-03-24T18:18:34.671Z"
   },
   {
    "duration": 13,
    "start_time": "2023-03-24T18:18:34.686Z"
   },
   {
    "duration": 11,
    "start_time": "2023-03-24T18:18:34.701Z"
   },
   {
    "duration": 47,
    "start_time": "2023-03-24T18:18:34.714Z"
   },
   {
    "duration": 1191,
    "start_time": "2023-03-24T20:24:22.624Z"
   },
   {
    "duration": 148,
    "start_time": "2023-03-24T20:24:23.817Z"
   },
   {
    "duration": 20,
    "start_time": "2023-03-24T20:24:23.966Z"
   },
   {
    "duration": 3,
    "start_time": "2023-03-24T20:24:23.988Z"
   },
   {
    "duration": 18,
    "start_time": "2023-03-24T20:24:23.993Z"
   },
   {
    "duration": 19,
    "start_time": "2023-03-24T20:24:24.012Z"
   },
   {
    "duration": 24,
    "start_time": "2023-03-24T20:24:24.032Z"
   },
   {
    "duration": 27,
    "start_time": "2023-03-24T20:24:24.058Z"
   },
   {
    "duration": 14,
    "start_time": "2023-03-24T20:24:24.087Z"
   },
   {
    "duration": 113,
    "start_time": "2023-03-24T20:24:24.103Z"
   },
   {
    "duration": 16,
    "start_time": "2023-03-24T20:24:24.217Z"
   },
   {
    "duration": 32,
    "start_time": "2023-03-24T20:24:24.235Z"
   },
   {
    "duration": 65,
    "start_time": "2023-03-24T20:24:24.268Z"
   },
   {
    "duration": 104,
    "start_time": "2023-03-24T20:24:24.336Z"
   },
   {
    "duration": 172,
    "start_time": "2023-03-24T20:24:24.442Z"
   },
   {
    "duration": 7,
    "start_time": "2023-03-24T20:24:24.616Z"
   },
   {
    "duration": 19,
    "start_time": "2023-03-24T20:24:24.625Z"
   },
   {
    "duration": 42,
    "start_time": "2023-03-24T20:24:24.645Z"
   },
   {
    "duration": 10,
    "start_time": "2023-03-24T20:24:24.689Z"
   },
   {
    "duration": 10,
    "start_time": "2023-03-24T20:24:24.700Z"
   },
   {
    "duration": 14,
    "start_time": "2023-03-24T20:24:24.711Z"
   },
   {
    "duration": 6,
    "start_time": "2023-03-24T20:24:24.727Z"
   },
   {
    "duration": 5,
    "start_time": "2023-03-24T20:24:24.735Z"
   },
   {
    "duration": 29,
    "start_time": "2023-03-24T20:24:24.774Z"
   },
   {
    "duration": 614,
    "start_time": "2023-03-24T20:24:24.805Z"
   },
   {
    "duration": 21,
    "start_time": "2023-03-24T20:24:25.420Z"
   },
   {
    "duration": 34,
    "start_time": "2023-03-24T20:24:25.443Z"
   },
   {
    "duration": 14,
    "start_time": "2023-03-24T20:24:25.478Z"
   },
   {
    "duration": 26,
    "start_time": "2023-03-24T20:24:25.494Z"
   },
   {
    "duration": 6,
    "start_time": "2023-03-24T20:24:25.522Z"
   },
   {
    "duration": 56,
    "start_time": "2023-03-24T20:24:25.530Z"
   },
   {
    "duration": 70,
    "start_time": "2023-03-24T20:24:25.588Z"
   },
   {
    "duration": 40,
    "start_time": "2023-03-24T20:24:25.659Z"
   },
   {
    "duration": 8,
    "start_time": "2023-03-24T20:24:25.701Z"
   },
   {
    "duration": 5,
    "start_time": "2023-03-24T20:24:25.711Z"
   },
   {
    "duration": 11,
    "start_time": "2023-03-24T20:24:25.718Z"
   },
   {
    "duration": 7,
    "start_time": "2023-03-24T20:24:25.730Z"
   },
   {
    "duration": 41,
    "start_time": "2023-03-24T20:24:25.738Z"
   },
   {
    "duration": 33,
    "start_time": "2023-03-24T20:24:25.781Z"
   },
   {
    "duration": 21,
    "start_time": "2023-03-24T20:24:25.815Z"
   },
   {
    "duration": 119,
    "start_time": "2023-03-24T20:24:25.840Z"
   },
   {
    "duration": 25,
    "start_time": "2023-03-24T20:24:25.961Z"
   },
   {
    "duration": 20,
    "start_time": "2023-03-24T20:24:25.988Z"
   },
   {
    "duration": 109,
    "start_time": "2023-03-24T20:24:26.010Z"
   },
   {
    "duration": 19,
    "start_time": "2023-03-24T20:24:26.121Z"
   },
   {
    "duration": 10,
    "start_time": "2023-03-24T20:24:26.141Z"
   },
   {
    "duration": 31,
    "start_time": "2023-03-24T20:24:26.153Z"
   },
   {
    "duration": 11,
    "start_time": "2023-03-24T20:24:26.187Z"
   },
   {
    "duration": 10,
    "start_time": "2023-03-24T20:24:26.200Z"
   },
   {
    "duration": 25,
    "start_time": "2023-03-24T20:26:02.127Z"
   },
   {
    "duration": 15,
    "start_time": "2023-03-24T20:26:08.128Z"
   },
   {
    "duration": 14,
    "start_time": "2023-03-24T20:26:13.029Z"
   },
   {
    "duration": 25,
    "start_time": "2023-03-24T20:26:13.718Z"
   },
   {
    "duration": 62,
    "start_time": "2023-03-25T08:52:26.628Z"
   },
   {
    "duration": 1313,
    "start_time": "2023-03-25T08:52:32.765Z"
   },
   {
    "duration": 867,
    "start_time": "2023-03-25T08:52:34.080Z"
   },
   {
    "duration": 14,
    "start_time": "2023-03-25T08:52:34.948Z"
   },
   {
    "duration": 3,
    "start_time": "2023-03-25T08:52:34.965Z"
   },
   {
    "duration": 13,
    "start_time": "2023-03-25T08:52:34.970Z"
   },
   {
    "duration": 23,
    "start_time": "2023-03-25T08:52:34.985Z"
   },
   {
    "duration": 40,
    "start_time": "2023-03-25T08:52:35.010Z"
   },
   {
    "duration": 10,
    "start_time": "2023-03-25T08:52:35.051Z"
   },
   {
    "duration": 12,
    "start_time": "2023-03-25T08:52:35.063Z"
   },
   {
    "duration": 95,
    "start_time": "2023-03-25T08:52:35.078Z"
   },
   {
    "duration": 14,
    "start_time": "2023-03-25T08:52:35.175Z"
   },
   {
    "duration": 27,
    "start_time": "2023-03-25T08:52:35.191Z"
   },
   {
    "duration": 87,
    "start_time": "2023-03-25T08:52:35.240Z"
   },
   {
    "duration": 88,
    "start_time": "2023-03-25T08:52:35.329Z"
   },
   {
    "duration": 167,
    "start_time": "2023-03-25T08:52:35.419Z"
   },
   {
    "duration": 6,
    "start_time": "2023-03-25T08:52:35.587Z"
   },
   {
    "duration": 20,
    "start_time": "2023-03-25T08:52:35.595Z"
   },
   {
    "duration": 44,
    "start_time": "2023-03-25T08:52:35.617Z"
   },
   {
    "duration": 12,
    "start_time": "2023-03-25T08:52:35.663Z"
   },
   {
    "duration": 10,
    "start_time": "2023-03-25T08:52:35.676Z"
   },
   {
    "duration": 14,
    "start_time": "2023-03-25T08:52:35.688Z"
   },
   {
    "duration": 49,
    "start_time": "2023-03-25T08:52:35.703Z"
   },
   {
    "duration": 6,
    "start_time": "2023-03-25T08:52:35.753Z"
   },
   {
    "duration": 5,
    "start_time": "2023-03-25T08:52:35.760Z"
   },
   {
    "duration": 27,
    "start_time": "2023-03-25T08:52:35.766Z"
   },
   {
    "duration": 589,
    "start_time": "2023-03-25T08:52:35.794Z"
   },
   {
    "duration": 18,
    "start_time": "2023-03-25T08:52:36.385Z"
   },
   {
    "duration": 39,
    "start_time": "2023-03-25T08:52:36.406Z"
   },
   {
    "duration": 12,
    "start_time": "2023-03-25T08:52:36.447Z"
   },
   {
    "duration": 28,
    "start_time": "2023-03-25T08:52:36.463Z"
   },
   {
    "duration": 8,
    "start_time": "2023-03-25T08:52:36.492Z"
   },
   {
    "duration": 65,
    "start_time": "2023-03-25T08:52:36.502Z"
   },
   {
    "duration": 97,
    "start_time": "2023-03-25T08:52:36.569Z"
   },
   {
    "duration": 40,
    "start_time": "2023-03-25T08:52:36.669Z"
   },
   {
    "duration": 14,
    "start_time": "2023-03-25T08:52:36.711Z"
   },
   {
    "duration": 9,
    "start_time": "2023-03-25T08:52:36.740Z"
   },
   {
    "duration": 13,
    "start_time": "2023-03-25T08:52:36.751Z"
   },
   {
    "duration": 8,
    "start_time": "2023-03-25T08:52:36.766Z"
   },
   {
    "duration": 4,
    "start_time": "2023-03-25T08:52:36.776Z"
   },
   {
    "duration": 69,
    "start_time": "2023-03-25T08:52:36.782Z"
   },
   {
    "duration": 20,
    "start_time": "2023-03-25T08:52:36.853Z"
   },
   {
    "duration": 112,
    "start_time": "2023-03-25T08:52:36.875Z"
   },
   {
    "duration": 11,
    "start_time": "2023-03-25T08:52:36.988Z"
   },
   {
    "duration": 23,
    "start_time": "2023-03-25T08:52:37.001Z"
   },
   {
    "duration": 112,
    "start_time": "2023-03-25T08:52:37.040Z"
   },
   {
    "duration": 16,
    "start_time": "2023-03-25T08:52:37.155Z"
   },
   {
    "duration": 11,
    "start_time": "2023-03-25T08:52:37.173Z"
   },
   {
    "duration": 11,
    "start_time": "2023-03-25T08:52:37.186Z"
   },
   {
    "duration": 41,
    "start_time": "2023-03-25T08:52:37.199Z"
   },
   {
    "duration": 10,
    "start_time": "2023-03-25T08:52:37.242Z"
   },
   {
    "duration": 560,
    "start_time": "2023-03-25T08:53:37.199Z"
   },
   {
    "duration": 24,
    "start_time": "2023-03-25T08:54:15.639Z"
   },
   {
    "duration": 142,
    "start_time": "2023-03-25T08:54:27.007Z"
   },
   {
    "duration": 134,
    "start_time": "2023-03-25T08:54:42.926Z"
   },
   {
    "duration": 21,
    "start_time": "2023-03-25T08:55:13.850Z"
   },
   {
    "duration": 138,
    "start_time": "2023-03-25T09:00:11.487Z"
   },
   {
    "duration": 919,
    "start_time": "2023-03-25T09:02:13.383Z"
   },
   {
    "duration": 820,
    "start_time": "2023-03-25T09:02:29.613Z"
   },
   {
    "duration": 141,
    "start_time": "2023-03-25T09:02:38.801Z"
   },
   {
    "duration": 26,
    "start_time": "2023-03-25T09:02:47.565Z"
   },
   {
    "duration": 152,
    "start_time": "2023-03-25T09:03:54.641Z"
   },
   {
    "duration": 736,
    "start_time": "2023-03-25T09:04:06.342Z"
   },
   {
    "duration": 188,
    "start_time": "2023-03-25T09:05:07.127Z"
   },
   {
    "duration": 125,
    "start_time": "2023-03-25T09:05:42.119Z"
   },
   {
    "duration": 27,
    "start_time": "2023-03-25T09:05:46.918Z"
   },
   {
    "duration": 30,
    "start_time": "2023-03-25T09:05:50.353Z"
   },
   {
    "duration": 149,
    "start_time": "2023-03-25T09:06:05.382Z"
   },
   {
    "duration": 567,
    "start_time": "2023-03-25T09:06:59.119Z"
   },
   {
    "duration": 337,
    "start_time": "2023-03-25T09:07:17.140Z"
   },
   {
    "duration": 264,
    "start_time": "2023-03-25T09:07:25.676Z"
   },
   {
    "duration": 257,
    "start_time": "2023-03-25T09:07:32.450Z"
   },
   {
    "duration": 251,
    "start_time": "2023-03-25T09:07:35.736Z"
   },
   {
    "duration": 1301,
    "start_time": "2023-03-25T09:07:42.539Z"
   },
   {
    "duration": 155,
    "start_time": "2023-03-25T09:07:48.424Z"
   },
   {
    "duration": 205,
    "start_time": "2023-03-25T09:07:53.296Z"
   },
   {
    "duration": 170,
    "start_time": "2023-03-25T09:08:11.529Z"
   },
   {
    "duration": 57,
    "start_time": "2023-03-25T09:08:52.566Z"
   },
   {
    "duration": 98,
    "start_time": "2023-03-25T09:09:24.441Z"
   },
   {
    "duration": 18,
    "start_time": "2023-03-25T09:09:44.505Z"
   },
   {
    "duration": 46,
    "start_time": "2023-03-25T09:09:45.266Z"
   },
   {
    "duration": 70,
    "start_time": "2023-03-25T09:10:19.370Z"
   },
   {
    "duration": 73,
    "start_time": "2023-03-25T09:11:13.907Z"
   },
   {
    "duration": 1733,
    "start_time": "2023-03-25T09:18:33.907Z"
   },
   {
    "duration": 91,
    "start_time": "2023-03-25T09:19:54.484Z"
   },
   {
    "duration": 1396,
    "start_time": "2023-03-25T09:19:59.082Z"
   },
   {
    "duration": 1757,
    "start_time": "2023-03-25T09:20:06.577Z"
   },
   {
    "duration": 1875,
    "start_time": "2023-03-25T09:21:34.065Z"
   },
   {
    "duration": 13,
    "start_time": "2023-03-25T09:22:23.923Z"
   },
   {
    "duration": 10,
    "start_time": "2023-03-25T09:22:31.142Z"
   },
   {
    "duration": 9,
    "start_time": "2023-03-25T09:22:39.555Z"
   },
   {
    "duration": 9,
    "start_time": "2023-03-25T09:22:54.060Z"
   },
   {
    "duration": 9,
    "start_time": "2023-03-25T09:23:01.419Z"
   },
   {
    "duration": 220,
    "start_time": "2023-03-25T09:23:19.700Z"
   },
   {
    "duration": 48,
    "start_time": "2023-03-25T09:23:42.979Z"
   },
   {
    "duration": 7,
    "start_time": "2023-03-25T09:24:23.916Z"
   },
   {
    "duration": 10,
    "start_time": "2023-03-25T09:24:48.133Z"
   },
   {
    "duration": 742,
    "start_time": "2023-03-25T09:24:53.269Z"
   }
  ],
  "kernelspec": {
   "display_name": "Python 3 (ipykernel)",
   "language": "python",
   "name": "python3"
  },
  "language_info": {
   "codemirror_mode": {
    "name": "ipython",
    "version": 3
   },
   "file_extension": ".py",
   "mimetype": "text/x-python",
   "name": "python",
   "nbconvert_exporter": "python",
   "pygments_lexer": "ipython3",
   "version": "3.9.5"
  },
  "toc": {
   "base_numbering": 1,
   "nav_menu": {},
   "number_sections": false,
   "sideBar": true,
   "skip_h1_title": false,
   "title_cell": "Table of Contents",
   "title_sidebar": "Contents",
   "toc_cell": false,
   "toc_position": {
    "height": "calc(100% - 180px)",
    "left": "10px",
    "top": "150px",
    "width": "165px"
   },
   "toc_section_display": true,
   "toc_window_display": true
  }
 },
 "nbformat": 4,
 "nbformat_minor": 2
}

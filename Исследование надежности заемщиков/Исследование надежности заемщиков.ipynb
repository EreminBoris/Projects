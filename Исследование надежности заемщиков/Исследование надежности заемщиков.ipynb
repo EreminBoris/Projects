{
 "cells": [
  {
   "cell_type": "markdown",
   "id": "73726e98",
   "metadata": {
    "deletable": false,
    "editable": false,
    "id": "c81daeeb"
   },
   "source": [
    "# Исследование надежности заемщиков\n"
   ]
  },
  {
   "cell_type": "markdown",
   "id": "91bb2ce6",
   "metadata": {
    "deletable": false,
    "editable": false,
    "id": "827c20bf"
   },
   "source": [
    "Во второй части проекта вы выполните шаги 3 и 4. Их вручную проверит ревьюер.\n",
    "Чтобы вам не пришлось писать код заново для шагов 1 и 2, мы добавили авторские решения в ячейки с кодом. \n",
    "\n"
   ]
  },
  {
   "cell_type": "markdown",
   "id": "e1824a7c",
   "metadata": {
    "deletable": false,
    "editable": false,
    "id": "744d7639"
   },
   "source": [
    "## Откройте таблицу и изучите общую информацию о данных"
   ]
  },
  {
   "cell_type": "markdown",
   "id": "0573538a",
   "metadata": {
    "deletable": false,
    "editable": false,
    "id": "e7a14c31"
   },
   "source": [
    "**Задание 1. Импортируйте библиотеку pandas. Считайте данные из csv-файла в датафрейм и сохраните в переменную `data`. Путь к файлу:**\n",
    "\n",
    "`/datasets/data.csv`"
   ]
  },
  {
   "cell_type": "code",
   "execution_count": 1,
   "id": "29835bb5",
   "metadata": {},
   "outputs": [],
   "source": [
    "import pandas as pd"
   ]
  },
  {
   "cell_type": "code",
   "execution_count": 2,
   "id": "1d1fda76",
   "metadata": {
    "deletable": false,
    "id": "7bcf75c9"
   },
   "outputs": [],
   "source": [
    "try:\n",
    "    data = pd.read_csv('/datasets/data.csv')\n",
    "except:\n",
    "    data = pd.read_csv('https://code.s3.yandex.net/datasets/data.csv')"
   ]
  },
  {
   "cell_type": "markdown",
   "id": "07090afe",
   "metadata": {
    "deletable": false,
    "editable": false,
    "id": "b8038fe3"
   },
   "source": [
    "**Задание 2. Выведите первые 20 строчек датафрейма `data` на экран.**"
   ]
  },
  {
   "cell_type": "code",
   "execution_count": 3,
   "id": "74692af3",
   "metadata": {
    "deletable": false,
    "id": "2a7cab99",
    "outputId": "1a8f3ef2-d323-4ec2-ddf7-89670b5944c4"
   },
   "outputs": [
    {
     "data": {
      "text/html": [
       "<div>\n",
       "<style scoped>\n",
       "    .dataframe tbody tr th:only-of-type {\n",
       "        vertical-align: middle;\n",
       "    }\n",
       "\n",
       "    .dataframe tbody tr th {\n",
       "        vertical-align: top;\n",
       "    }\n",
       "\n",
       "    .dataframe thead th {\n",
       "        text-align: right;\n",
       "    }\n",
       "</style>\n",
       "<table border=\"1\" class=\"dataframe\">\n",
       "  <thead>\n",
       "    <tr style=\"text-align: right;\">\n",
       "      <th></th>\n",
       "      <th>children</th>\n",
       "      <th>days_employed</th>\n",
       "      <th>dob_years</th>\n",
       "      <th>education</th>\n",
       "      <th>education_id</th>\n",
       "      <th>family_status</th>\n",
       "      <th>family_status_id</th>\n",
       "      <th>gender</th>\n",
       "      <th>income_type</th>\n",
       "      <th>debt</th>\n",
       "      <th>total_income</th>\n",
       "      <th>purpose</th>\n",
       "    </tr>\n",
       "  </thead>\n",
       "  <tbody>\n",
       "    <tr>\n",
       "      <th>0</th>\n",
       "      <td>1</td>\n",
       "      <td>-8437.673028</td>\n",
       "      <td>42</td>\n",
       "      <td>высшее</td>\n",
       "      <td>0</td>\n",
       "      <td>женат / замужем</td>\n",
       "      <td>0</td>\n",
       "      <td>F</td>\n",
       "      <td>сотрудник</td>\n",
       "      <td>0</td>\n",
       "      <td>253875.639453</td>\n",
       "      <td>покупка жилья</td>\n",
       "    </tr>\n",
       "    <tr>\n",
       "      <th>1</th>\n",
       "      <td>1</td>\n",
       "      <td>-4024.803754</td>\n",
       "      <td>36</td>\n",
       "      <td>среднее</td>\n",
       "      <td>1</td>\n",
       "      <td>женат / замужем</td>\n",
       "      <td>0</td>\n",
       "      <td>F</td>\n",
       "      <td>сотрудник</td>\n",
       "      <td>0</td>\n",
       "      <td>112080.014102</td>\n",
       "      <td>приобретение автомобиля</td>\n",
       "    </tr>\n",
       "    <tr>\n",
       "      <th>2</th>\n",
       "      <td>0</td>\n",
       "      <td>-5623.422610</td>\n",
       "      <td>33</td>\n",
       "      <td>Среднее</td>\n",
       "      <td>1</td>\n",
       "      <td>женат / замужем</td>\n",
       "      <td>0</td>\n",
       "      <td>M</td>\n",
       "      <td>сотрудник</td>\n",
       "      <td>0</td>\n",
       "      <td>145885.952297</td>\n",
       "      <td>покупка жилья</td>\n",
       "    </tr>\n",
       "    <tr>\n",
       "      <th>3</th>\n",
       "      <td>3</td>\n",
       "      <td>-4124.747207</td>\n",
       "      <td>32</td>\n",
       "      <td>среднее</td>\n",
       "      <td>1</td>\n",
       "      <td>женат / замужем</td>\n",
       "      <td>0</td>\n",
       "      <td>M</td>\n",
       "      <td>сотрудник</td>\n",
       "      <td>0</td>\n",
       "      <td>267628.550329</td>\n",
       "      <td>дополнительное образование</td>\n",
       "    </tr>\n",
       "    <tr>\n",
       "      <th>4</th>\n",
       "      <td>0</td>\n",
       "      <td>340266.072047</td>\n",
       "      <td>53</td>\n",
       "      <td>среднее</td>\n",
       "      <td>1</td>\n",
       "      <td>гражданский брак</td>\n",
       "      <td>1</td>\n",
       "      <td>F</td>\n",
       "      <td>пенсионер</td>\n",
       "      <td>0</td>\n",
       "      <td>158616.077870</td>\n",
       "      <td>сыграть свадьбу</td>\n",
       "    </tr>\n",
       "    <tr>\n",
       "      <th>5</th>\n",
       "      <td>0</td>\n",
       "      <td>-926.185831</td>\n",
       "      <td>27</td>\n",
       "      <td>высшее</td>\n",
       "      <td>0</td>\n",
       "      <td>гражданский брак</td>\n",
       "      <td>1</td>\n",
       "      <td>M</td>\n",
       "      <td>компаньон</td>\n",
       "      <td>0</td>\n",
       "      <td>255763.565419</td>\n",
       "      <td>покупка жилья</td>\n",
       "    </tr>\n",
       "    <tr>\n",
       "      <th>6</th>\n",
       "      <td>0</td>\n",
       "      <td>-2879.202052</td>\n",
       "      <td>43</td>\n",
       "      <td>высшее</td>\n",
       "      <td>0</td>\n",
       "      <td>женат / замужем</td>\n",
       "      <td>0</td>\n",
       "      <td>F</td>\n",
       "      <td>компаньон</td>\n",
       "      <td>0</td>\n",
       "      <td>240525.971920</td>\n",
       "      <td>операции с жильем</td>\n",
       "    </tr>\n",
       "    <tr>\n",
       "      <th>7</th>\n",
       "      <td>0</td>\n",
       "      <td>-152.779569</td>\n",
       "      <td>50</td>\n",
       "      <td>СРЕДНЕЕ</td>\n",
       "      <td>1</td>\n",
       "      <td>женат / замужем</td>\n",
       "      <td>0</td>\n",
       "      <td>M</td>\n",
       "      <td>сотрудник</td>\n",
       "      <td>0</td>\n",
       "      <td>135823.934197</td>\n",
       "      <td>образование</td>\n",
       "    </tr>\n",
       "    <tr>\n",
       "      <th>8</th>\n",
       "      <td>2</td>\n",
       "      <td>-6929.865299</td>\n",
       "      <td>35</td>\n",
       "      <td>ВЫСШЕЕ</td>\n",
       "      <td>0</td>\n",
       "      <td>гражданский брак</td>\n",
       "      <td>1</td>\n",
       "      <td>F</td>\n",
       "      <td>сотрудник</td>\n",
       "      <td>0</td>\n",
       "      <td>95856.832424</td>\n",
       "      <td>на проведение свадьбы</td>\n",
       "    </tr>\n",
       "    <tr>\n",
       "      <th>9</th>\n",
       "      <td>0</td>\n",
       "      <td>-2188.756445</td>\n",
       "      <td>41</td>\n",
       "      <td>среднее</td>\n",
       "      <td>1</td>\n",
       "      <td>женат / замужем</td>\n",
       "      <td>0</td>\n",
       "      <td>M</td>\n",
       "      <td>сотрудник</td>\n",
       "      <td>0</td>\n",
       "      <td>144425.938277</td>\n",
       "      <td>покупка жилья для семьи</td>\n",
       "    </tr>\n",
       "    <tr>\n",
       "      <th>10</th>\n",
       "      <td>2</td>\n",
       "      <td>-4171.483647</td>\n",
       "      <td>36</td>\n",
       "      <td>высшее</td>\n",
       "      <td>0</td>\n",
       "      <td>женат / замужем</td>\n",
       "      <td>0</td>\n",
       "      <td>M</td>\n",
       "      <td>компаньон</td>\n",
       "      <td>0</td>\n",
       "      <td>113943.491460</td>\n",
       "      <td>покупка недвижимости</td>\n",
       "    </tr>\n",
       "    <tr>\n",
       "      <th>11</th>\n",
       "      <td>0</td>\n",
       "      <td>-792.701887</td>\n",
       "      <td>40</td>\n",
       "      <td>среднее</td>\n",
       "      <td>1</td>\n",
       "      <td>женат / замужем</td>\n",
       "      <td>0</td>\n",
       "      <td>F</td>\n",
       "      <td>сотрудник</td>\n",
       "      <td>0</td>\n",
       "      <td>77069.234271</td>\n",
       "      <td>покупка коммерческой недвижимости</td>\n",
       "    </tr>\n",
       "    <tr>\n",
       "      <th>12</th>\n",
       "      <td>0</td>\n",
       "      <td>NaN</td>\n",
       "      <td>65</td>\n",
       "      <td>среднее</td>\n",
       "      <td>1</td>\n",
       "      <td>гражданский брак</td>\n",
       "      <td>1</td>\n",
       "      <td>M</td>\n",
       "      <td>пенсионер</td>\n",
       "      <td>0</td>\n",
       "      <td>NaN</td>\n",
       "      <td>сыграть свадьбу</td>\n",
       "    </tr>\n",
       "    <tr>\n",
       "      <th>13</th>\n",
       "      <td>0</td>\n",
       "      <td>-1846.641941</td>\n",
       "      <td>54</td>\n",
       "      <td>неоконченное высшее</td>\n",
       "      <td>2</td>\n",
       "      <td>женат / замужем</td>\n",
       "      <td>0</td>\n",
       "      <td>F</td>\n",
       "      <td>сотрудник</td>\n",
       "      <td>0</td>\n",
       "      <td>130458.228857</td>\n",
       "      <td>приобретение автомобиля</td>\n",
       "    </tr>\n",
       "    <tr>\n",
       "      <th>14</th>\n",
       "      <td>0</td>\n",
       "      <td>-1844.956182</td>\n",
       "      <td>56</td>\n",
       "      <td>высшее</td>\n",
       "      <td>0</td>\n",
       "      <td>гражданский брак</td>\n",
       "      <td>1</td>\n",
       "      <td>F</td>\n",
       "      <td>компаньон</td>\n",
       "      <td>1</td>\n",
       "      <td>165127.911772</td>\n",
       "      <td>покупка жилой недвижимости</td>\n",
       "    </tr>\n",
       "    <tr>\n",
       "      <th>15</th>\n",
       "      <td>1</td>\n",
       "      <td>-972.364419</td>\n",
       "      <td>26</td>\n",
       "      <td>среднее</td>\n",
       "      <td>1</td>\n",
       "      <td>женат / замужем</td>\n",
       "      <td>0</td>\n",
       "      <td>F</td>\n",
       "      <td>сотрудник</td>\n",
       "      <td>0</td>\n",
       "      <td>116820.904450</td>\n",
       "      <td>строительство собственной недвижимости</td>\n",
       "    </tr>\n",
       "    <tr>\n",
       "      <th>16</th>\n",
       "      <td>0</td>\n",
       "      <td>-1719.934226</td>\n",
       "      <td>35</td>\n",
       "      <td>среднее</td>\n",
       "      <td>1</td>\n",
       "      <td>женат / замужем</td>\n",
       "      <td>0</td>\n",
       "      <td>F</td>\n",
       "      <td>сотрудник</td>\n",
       "      <td>0</td>\n",
       "      <td>289202.704229</td>\n",
       "      <td>недвижимость</td>\n",
       "    </tr>\n",
       "    <tr>\n",
       "      <th>17</th>\n",
       "      <td>0</td>\n",
       "      <td>-2369.999720</td>\n",
       "      <td>33</td>\n",
       "      <td>высшее</td>\n",
       "      <td>0</td>\n",
       "      <td>гражданский брак</td>\n",
       "      <td>1</td>\n",
       "      <td>M</td>\n",
       "      <td>сотрудник</td>\n",
       "      <td>0</td>\n",
       "      <td>90410.586745</td>\n",
       "      <td>строительство недвижимости</td>\n",
       "    </tr>\n",
       "    <tr>\n",
       "      <th>18</th>\n",
       "      <td>0</td>\n",
       "      <td>400281.136913</td>\n",
       "      <td>53</td>\n",
       "      <td>среднее</td>\n",
       "      <td>1</td>\n",
       "      <td>вдовец / вдова</td>\n",
       "      <td>2</td>\n",
       "      <td>F</td>\n",
       "      <td>пенсионер</td>\n",
       "      <td>0</td>\n",
       "      <td>56823.777243</td>\n",
       "      <td>на покупку подержанного автомобиля</td>\n",
       "    </tr>\n",
       "    <tr>\n",
       "      <th>19</th>\n",
       "      <td>0</td>\n",
       "      <td>-10038.818549</td>\n",
       "      <td>48</td>\n",
       "      <td>СРЕДНЕЕ</td>\n",
       "      <td>1</td>\n",
       "      <td>в разводе</td>\n",
       "      <td>3</td>\n",
       "      <td>F</td>\n",
       "      <td>сотрудник</td>\n",
       "      <td>0</td>\n",
       "      <td>242831.107982</td>\n",
       "      <td>на покупку своего автомобиля</td>\n",
       "    </tr>\n",
       "  </tbody>\n",
       "</table>\n",
       "</div>"
      ],
      "text/plain": [
       "    children  days_employed  dob_years            education  education_id  \\\n",
       "0          1   -8437.673028         42               высшее             0   \n",
       "1          1   -4024.803754         36              среднее             1   \n",
       "2          0   -5623.422610         33              Среднее             1   \n",
       "3          3   -4124.747207         32              среднее             1   \n",
       "4          0  340266.072047         53              среднее             1   \n",
       "5          0    -926.185831         27               высшее             0   \n",
       "6          0   -2879.202052         43               высшее             0   \n",
       "7          0    -152.779569         50              СРЕДНЕЕ             1   \n",
       "8          2   -6929.865299         35               ВЫСШЕЕ             0   \n",
       "9          0   -2188.756445         41              среднее             1   \n",
       "10         2   -4171.483647         36               высшее             0   \n",
       "11         0    -792.701887         40              среднее             1   \n",
       "12         0            NaN         65              среднее             1   \n",
       "13         0   -1846.641941         54  неоконченное высшее             2   \n",
       "14         0   -1844.956182         56               высшее             0   \n",
       "15         1    -972.364419         26              среднее             1   \n",
       "16         0   -1719.934226         35              среднее             1   \n",
       "17         0   -2369.999720         33               высшее             0   \n",
       "18         0  400281.136913         53              среднее             1   \n",
       "19         0  -10038.818549         48              СРЕДНЕЕ             1   \n",
       "\n",
       "       family_status  family_status_id gender income_type  debt  \\\n",
       "0    женат / замужем                 0      F   сотрудник     0   \n",
       "1    женат / замужем                 0      F   сотрудник     0   \n",
       "2    женат / замужем                 0      M   сотрудник     0   \n",
       "3    женат / замужем                 0      M   сотрудник     0   \n",
       "4   гражданский брак                 1      F   пенсионер     0   \n",
       "5   гражданский брак                 1      M   компаньон     0   \n",
       "6    женат / замужем                 0      F   компаньон     0   \n",
       "7    женат / замужем                 0      M   сотрудник     0   \n",
       "8   гражданский брак                 1      F   сотрудник     0   \n",
       "9    женат / замужем                 0      M   сотрудник     0   \n",
       "10   женат / замужем                 0      M   компаньон     0   \n",
       "11   женат / замужем                 0      F   сотрудник     0   \n",
       "12  гражданский брак                 1      M   пенсионер     0   \n",
       "13   женат / замужем                 0      F   сотрудник     0   \n",
       "14  гражданский брак                 1      F   компаньон     1   \n",
       "15   женат / замужем                 0      F   сотрудник     0   \n",
       "16   женат / замужем                 0      F   сотрудник     0   \n",
       "17  гражданский брак                 1      M   сотрудник     0   \n",
       "18    вдовец / вдова                 2      F   пенсионер     0   \n",
       "19         в разводе                 3      F   сотрудник     0   \n",
       "\n",
       "     total_income                                 purpose  \n",
       "0   253875.639453                           покупка жилья  \n",
       "1   112080.014102                 приобретение автомобиля  \n",
       "2   145885.952297                           покупка жилья  \n",
       "3   267628.550329              дополнительное образование  \n",
       "4   158616.077870                         сыграть свадьбу  \n",
       "5   255763.565419                           покупка жилья  \n",
       "6   240525.971920                       операции с жильем  \n",
       "7   135823.934197                             образование  \n",
       "8    95856.832424                   на проведение свадьбы  \n",
       "9   144425.938277                 покупка жилья для семьи  \n",
       "10  113943.491460                    покупка недвижимости  \n",
       "11   77069.234271       покупка коммерческой недвижимости  \n",
       "12            NaN                         сыграть свадьбу  \n",
       "13  130458.228857                 приобретение автомобиля  \n",
       "14  165127.911772              покупка жилой недвижимости  \n",
       "15  116820.904450  строительство собственной недвижимости  \n",
       "16  289202.704229                            недвижимость  \n",
       "17   90410.586745              строительство недвижимости  \n",
       "18   56823.777243      на покупку подержанного автомобиля  \n",
       "19  242831.107982            на покупку своего автомобиля  "
      ]
     },
     "execution_count": 3,
     "metadata": {},
     "output_type": "execute_result"
    }
   ],
   "source": [
    "data.head(20)\n"
   ]
  },
  {
   "cell_type": "markdown",
   "id": "71220a90",
   "metadata": {
    "deletable": false,
    "editable": false,
    "id": "1c12e233"
   },
   "source": [
    "**Задание 3. Выведите основную информацию о датафрейме с помощью метода `info()`.**"
   ]
  },
  {
   "cell_type": "code",
   "execution_count": 4,
   "id": "95e453f7",
   "metadata": {},
   "outputs": [
    {
     "data": {
      "text/plain": [
       "(                    count           mean            std           min  \\\n",
       " children          21525.0       0.538908       1.381587     -1.000000   \n",
       " days_employed     19351.0   63046.497661  140827.311974 -18388.949901   \n",
       " dob_years         21525.0      43.293380      12.574584      0.000000   \n",
       " education_id      21525.0       0.817236       0.548138      0.000000   \n",
       " family_status_id  21525.0       0.972544       1.420324      0.000000   \n",
       " debt              21525.0       0.080883       0.272661      0.000000   \n",
       " total_income      19351.0  167422.302208  102971.566448  20667.263793   \n",
       " \n",
       "                             25%            50%            75%           max  \n",
       " children               0.000000       0.000000       1.000000  2.000000e+01  \n",
       " days_employed      -2747.423625   -1203.369529    -291.095954  4.017554e+05  \n",
       " dob_years             33.000000      42.000000      53.000000  7.500000e+01  \n",
       " education_id           1.000000       1.000000       1.000000  4.000000e+00  \n",
       " family_status_id       0.000000       0.000000       1.000000  4.000000e+00  \n",
       " debt                   0.000000       0.000000       0.000000  1.000000e+00  \n",
       " total_income      103053.152913  145017.937533  203435.067663  2.265604e+06  ,\n",
       " count    21525.000000\n",
       " mean         0.538908\n",
       " std          1.381587\n",
       " min         -1.000000\n",
       " 25%          0.000000\n",
       " 50%          0.000000\n",
       " 75%          1.000000\n",
       " max         20.000000\n",
       " Name: children, dtype: float64)"
      ]
     },
     "execution_count": 4,
     "metadata": {},
     "output_type": "execute_result"
    }
   ],
   "source": [
    "data.describe().T, data['children'].describe().T"
   ]
  },
  {
   "cell_type": "code",
   "execution_count": 5,
   "id": "1be04676",
   "metadata": {
    "deletable": false,
    "id": "2b757bca",
    "outputId": "15376089-8dad-46c9-b520-c05248d43158"
   },
   "outputs": [
    {
     "name": "stdout",
     "output_type": "stream",
     "text": [
      "<class 'pandas.core.frame.DataFrame'>\n",
      "RangeIndex: 21525 entries, 0 to 21524\n",
      "Data columns (total 12 columns):\n",
      " #   Column            Non-Null Count  Dtype  \n",
      "---  ------            --------------  -----  \n",
      " 0   children          21525 non-null  int64  \n",
      " 1   days_employed     19351 non-null  float64\n",
      " 2   dob_years         21525 non-null  int64  \n",
      " 3   education         21525 non-null  object \n",
      " 4   education_id      21525 non-null  int64  \n",
      " 5   family_status     21525 non-null  object \n",
      " 6   family_status_id  21525 non-null  int64  \n",
      " 7   gender            21525 non-null  object \n",
      " 8   income_type       21525 non-null  object \n",
      " 9   debt              21525 non-null  int64  \n",
      " 10  total_income      19351 non-null  float64\n",
      " 11  purpose           21525 non-null  object \n",
      "dtypes: float64(2), int64(5), object(5)\n",
      "memory usage: 2.0+ MB\n"
     ]
    }
   ],
   "source": [
    "data.info()"
   ]
  },
  {
   "cell_type": "markdown",
   "id": "e7e2d5e3",
   "metadata": {
    "deletable": false,
    "editable": false,
    "id": "333ec665"
   },
   "source": [
    "## Предобработка данных"
   ]
  },
  {
   "cell_type": "markdown",
   "id": "d4481496",
   "metadata": {
    "deletable": false,
    "editable": false,
    "id": "02d92d53"
   },
   "source": [
    "### Удаление пропусков"
   ]
  },
  {
   "cell_type": "markdown",
   "id": "0b6a6d98",
   "metadata": {
    "deletable": false,
    "editable": false,
    "id": "cd84967c"
   },
   "source": [
    "**Задание 4. Выведите количество пропущенных значений для каждого столбца. Используйте комбинацию двух методов.**"
   ]
  },
  {
   "cell_type": "code",
   "execution_count": 1,
   "id": "b6a5e46b",
   "metadata": {
    "deletable": false,
    "id": "7f9b2309",
    "outputId": "81f4d817-781c-465c-ed15-91ce4446810d"
   },
   "outputs": [
    {
     "ename": "NameError",
     "evalue": "name 'data' is not defined",
     "output_type": "error",
     "traceback": [
      "\u001b[0;31m---------------------------------------------------------------------------\u001b[0m",
      "\u001b[0;31mNameError\u001b[0m                                 Traceback (most recent call last)",
      "\u001b[0;32m/tmp/ipykernel_257/1266705919.py\u001b[0m in \u001b[0;36m<module>\u001b[0;34m\u001b[0m\n\u001b[0;32m----> 1\u001b[0;31m \u001b[0mdata\u001b[0m\u001b[0;34m.\u001b[0m\u001b[0misna\u001b[0m\u001b[0;34m(\u001b[0m\u001b[0;34m)\u001b[0m\u001b[0;34m.\u001b[0m\u001b[0msum\u001b[0m\u001b[0;34m(\u001b[0m\u001b[0;34m)\u001b[0m\u001b[0;34m\u001b[0m\u001b[0;34m\u001b[0m\u001b[0m\n\u001b[0m",
      "\u001b[0;31mNameError\u001b[0m: name 'data' is not defined"
     ]
    }
   ],
   "source": [
    "data.isna().sum()"
   ]
  },
  {
   "cell_type": "markdown",
   "id": "84f72827",
   "metadata": {
    "deletable": false,
    "editable": false,
    "id": "db86e27b"
   },
   "source": [
    "**Задание 5. В двух столбцах есть пропущенные значения. Один из них — `days_employed`. Пропуски в этом столбце вы обработаете на следующем этапе. Другой столбец с пропущенными значениями — `total_income` — хранит данные о доходах. На сумму дохода сильнее всего влияет тип занятости, поэтому заполнить пропуски в этом столбце нужно медианным значением по каждому типу из столбца `income_type`. Например, у человека с типом занятости `сотрудник` пропуск в столбце `total_income` должен быть заполнен медианным доходом среди всех записей с тем же типом.**"
   ]
  },
  {
   "cell_type": "code",
   "execution_count": 7,
   "id": "15b1ebb2",
   "metadata": {
    "deletable": false,
    "id": "42006a93"
   },
   "outputs": [],
   "source": [
    "for t in data['income_type'].unique():\n",
    "    data.loc[(data['income_type'] == t) & (data['total_income'].isna()), 'total_income'] = \\\n",
    "    data.loc[(data['income_type'] == t), 'total_income'].median()"
   ]
  },
  {
   "cell_type": "code",
   "execution_count": 8,
   "id": "6766ffee",
   "metadata": {},
   "outputs": [
    {
     "data": {
      "text/plain": [
       "0"
      ]
     },
     "execution_count": 8,
     "metadata": {},
     "output_type": "execute_result"
    }
   ],
   "source": [
    "data['total_income'] = data['total_income'].fillna(data.groupby('income_type')['total_income'].median())\n",
    "data['total_income'].isna().sum()"
   ]
  },
  {
   "cell_type": "markdown",
   "id": "04158c70",
   "metadata": {
    "deletable": false,
    "editable": false,
    "id": "89da5ece"
   },
   "source": [
    "### Обработка аномальных значений"
   ]
  },
  {
   "cell_type": "markdown",
   "id": "eb7e4c39",
   "metadata": {
    "deletable": false,
    "editable": false,
    "id": "57964554"
   },
   "source": [
    "**Задание 6. В данных могут встречаться артефакты (аномалии) — значения, которые не отражают действительность и появились по какой-то ошибке. таким артефактом будет отрицательное количество дней трудового стажа в столбце `days_employed`. Для реальных данных это нормально. Обработайте значения в этом столбце: замените все отрицательные значения положительными с помощью метода `abs()`.**"
   ]
  },
  {
   "cell_type": "code",
   "execution_count": 9,
   "id": "41c5a10f",
   "metadata": {
    "deletable": false,
    "id": "f6f055bf"
   },
   "outputs": [],
   "source": [
    "data['days_employed'] = data['days_employed'].abs()"
   ]
  },
  {
   "cell_type": "markdown",
   "id": "d56fe5eb",
   "metadata": {
    "deletable": false,
    "editable": false,
    "id": "6107dd2f"
   },
   "source": [
    "**Задание 7. Для каждого типа занятости выведите медианное значение трудового стажа `days_employed` в днях.**"
   ]
  },
  {
   "cell_type": "code",
   "execution_count": 10,
   "id": "b62779c2",
   "metadata": {
    "deletable": false,
    "id": "85a5faf6",
    "outputId": "801ef80e-522b-4668-f34e-565af7432bcf"
   },
   "outputs": [
    {
     "data": {
      "text/plain": [
       "income_type\n",
       "безработный        366413.652744\n",
       "в декрете            3296.759962\n",
       "госслужащий          2689.368353\n",
       "компаньон            1547.382223\n",
       "пенсионер          365213.306266\n",
       "предприниматель       520.848083\n",
       "сотрудник            1574.202821\n",
       "студент               578.751554\n",
       "Name: days_employed, dtype: float64"
      ]
     },
     "execution_count": 10,
     "metadata": {},
     "output_type": "execute_result"
    }
   ],
   "source": [
    "data.groupby('income_type')['days_employed'].agg('median')"
   ]
  },
  {
   "cell_type": "markdown",
   "id": "7b924559",
   "metadata": {
    "deletable": false,
    "editable": false,
    "id": "38d1a030"
   },
   "source": [
    "У двух типов (безработные и пенсионеры) получатся аномально большие значения. Исправить такие значения сложно, поэтому оставьте их как есть. Тем более этот столбец не понадобится вам для исследования."
   ]
  },
  {
   "cell_type": "markdown",
   "id": "24399068",
   "metadata": {
    "deletable": false,
    "editable": false,
    "id": "d8a9f147"
   },
   "source": [
    "**Задание 8. Выведите перечень уникальных значений столбца `children`.**"
   ]
  },
  {
   "cell_type": "code",
   "execution_count": 11,
   "id": "66fcdbd2",
   "metadata": {
    "deletable": false,
    "id": "ef5056eb",
    "outputId": "6975b15c-7f95-4697-d16d-a0c79b657b03"
   },
   "outputs": [
    {
     "data": {
      "text/plain": [
       "array([ 1,  0,  3,  2, -1,  4, 20,  5])"
      ]
     },
     "execution_count": 11,
     "metadata": {},
     "output_type": "execute_result"
    }
   ],
   "source": [
    "data['children'].unique()"
   ]
  },
  {
   "cell_type": "markdown",
   "id": "b3c6d849",
   "metadata": {
    "deletable": false,
    "editable": false,
    "id": "40b9ebf2"
   },
   "source": [
    "**Задание 9. В столбце `children` есть два аномальных значения. Удалите строки, в которых встречаются такие аномальные значения из датафрейма `data`.**"
   ]
  },
  {
   "cell_type": "code",
   "execution_count": 12,
   "id": "2cee1256",
   "metadata": {
    "deletable": false,
    "id": "3ff9801d"
   },
   "outputs": [],
   "source": [
    "data = data[(data['children'] != -1) & (data['children'] != 20)]"
   ]
  },
  {
   "cell_type": "markdown",
   "id": "fec15a66",
   "metadata": {
    "deletable": false,
    "editable": false,
    "id": "bbc4d0ce"
   },
   "source": [
    "**Задание 10. Ещё раз выведите перечень уникальных значений столбца `children`, чтобы убедиться, что артефакты удалены.**"
   ]
  },
  {
   "cell_type": "code",
   "execution_count": 13,
   "id": "244c6f5c",
   "metadata": {
    "deletable": false,
    "id": "ad4fa8b7",
    "outputId": "b2097101-d49d-44d9-901b-32a65c9463d1"
   },
   "outputs": [
    {
     "data": {
      "text/plain": [
       "array([1, 0, 3, 2, 4, 5])"
      ]
     },
     "execution_count": 13,
     "metadata": {},
     "output_type": "execute_result"
    }
   ],
   "source": [
    "data['children'].unique()"
   ]
  },
  {
   "cell_type": "markdown",
   "id": "a56c1f94",
   "metadata": {
    "deletable": false,
    "editable": false,
    "id": "75440b63"
   },
   "source": [
    "### Удаление пропусков (продолжение)"
   ]
  },
  {
   "cell_type": "markdown",
   "id": "456e5815",
   "metadata": {
    "deletable": false,
    "editable": false,
    "id": "f4ea573f"
   },
   "source": [
    "**Задание 11. Заполните пропуски в столбце `days_employed` медианными значениями по каждого типа занятости `income_type`.**"
   ]
  },
  {
   "cell_type": "code",
   "execution_count": 14,
   "id": "26e47845",
   "metadata": {
    "deletable": false,
    "id": "af6b1a7e"
   },
   "outputs": [],
   "source": [
    "for t in data['income_type'].unique():\n",
    "    data.loc[(data['income_type'] == t) & (data['days_employed'].isna()), 'days_employed'] = \\\n",
    "    data.loc[(data['income_type'] == t), 'days_employed'].median()"
   ]
  },
  {
   "cell_type": "markdown",
   "id": "18d6f9f9",
   "metadata": {
    "deletable": false,
    "editable": false,
    "id": "2753f40d"
   },
   "source": [
    "**Задание 12. Убедитесь, что все пропуски заполнены. Проверьте себя и ещё раз выведите количество пропущенных значений для каждого столбца с помощью двух методов.**"
   ]
  },
  {
   "cell_type": "code",
   "execution_count": 15,
   "id": "a5d901e2",
   "metadata": {
    "deletable": false,
    "id": "55f78bc2",
    "outputId": "8da1e4e1-358e-4e87-98c9-f261bce0a7b2"
   },
   "outputs": [
    {
     "data": {
      "text/plain": [
       "children            0\n",
       "days_employed       0\n",
       "dob_years           0\n",
       "education           0\n",
       "education_id        0\n",
       "family_status       0\n",
       "family_status_id    0\n",
       "gender              0\n",
       "income_type         0\n",
       "debt                0\n",
       "total_income        0\n",
       "purpose             0\n",
       "dtype: int64"
      ]
     },
     "execution_count": 15,
     "metadata": {},
     "output_type": "execute_result"
    }
   ],
   "source": [
    "data.isna().sum()"
   ]
  },
  {
   "cell_type": "markdown",
   "id": "874a8ef4",
   "metadata": {
    "deletable": false,
    "editable": false,
    "id": "ddc81e43"
   },
   "source": [
    "### Изменение типов данных"
   ]
  },
  {
   "cell_type": "markdown",
   "id": "a7da3549",
   "metadata": {
    "deletable": false,
    "editable": false,
    "id": "42d19d24"
   },
   "source": [
    "**Задание 13. Замените вещественный тип данных в столбце `total_income` на целочисленный с помощью метода `astype()`.**"
   ]
  },
  {
   "cell_type": "code",
   "execution_count": 16,
   "id": "0ae823a7",
   "metadata": {
    "deletable": false,
    "id": "920b65ad"
   },
   "outputs": [],
   "source": [
    "data['total_income'] = data['total_income'].astype(int)"
   ]
  },
  {
   "cell_type": "markdown",
   "id": "04993772",
   "metadata": {
    "deletable": false,
    "editable": false,
    "id": "80c420ba"
   },
   "source": [
    "### Обработка дубликатов"
   ]
  },
  {
   "cell_type": "markdown",
   "id": "26ec64e6",
   "metadata": {
    "deletable": false,
    "editable": false
   },
   "source": [
    "**Задание 14. Обработайте неявные дубликаты в столбце `education`. В этом столбце есть одни и те же значения, но записанные по-разному: с использованием заглавных и строчных букв. Приведите их к нижнему регистру. Проверьте остальные столбцы.**"
   ]
  },
  {
   "cell_type": "code",
   "execution_count": 17,
   "id": "08d30bb7",
   "metadata": {
    "deletable": false
   },
   "outputs": [],
   "source": [
    "data['education'] = data['education'].str.lower()"
   ]
  },
  {
   "cell_type": "markdown",
   "id": "484f1d2f",
   "metadata": {
    "deletable": false,
    "editable": false,
    "id": "dc587695"
   },
   "source": [
    "**Задание 15. Выведите на экран количество строк-дубликатов в данных. Если такие строки присутствуют, удалите их.**"
   ]
  },
  {
   "cell_type": "code",
   "execution_count": 18,
   "id": "56cb0977",
   "metadata": {
    "deletable": false,
    "id": "3ee445e4",
    "outputId": "9684deba-1934-42d1-99e1-cda61740f822"
   },
   "outputs": [
    {
     "data": {
      "text/plain": [
       "71"
      ]
     },
     "execution_count": 18,
     "metadata": {},
     "output_type": "execute_result"
    }
   ],
   "source": [
    "data.duplicated().sum()"
   ]
  },
  {
   "cell_type": "code",
   "execution_count": 19,
   "id": "78c004c1",
   "metadata": {
    "deletable": false,
    "id": "8575fe05"
   },
   "outputs": [],
   "source": [
    "data = data.drop_duplicates()"
   ]
  },
  {
   "cell_type": "markdown",
   "id": "839575f6",
   "metadata": {
    "deletable": false,
    "editable": false,
    "id": "9904cf55"
   },
   "source": [
    "### Категоризация данных"
   ]
  },
  {
   "cell_type": "markdown",
   "id": "322c4f27",
   "metadata": {
    "deletable": false,
    "editable": false,
    "id": "72fcc8a2"
   },
   "source": [
    "**Задание 16. На основании диапазонов, указанных ниже, создайте в датафрейме `data` столбец `total_income_category` с категориями:**\n",
    "\n",
    "- 0–30000 — `'E'`;\n",
    "- 30001–50000 — `'D'`;\n",
    "- 50001–200000 — `'C'`;\n",
    "- 200001–1000000 — `'B'`;\n",
    "- 1000001 и выше — `'A'`.\n",
    "\n",
    "\n",
    "**Например, кредитополучателю с доходом 25000 нужно назначить категорию `'E'`, а клиенту, получающему 235000, — `'B'`. Используйте собственную функцию с именем `categorize_income()` и метод `apply()`.**"
   ]
  },
  {
   "cell_type": "code",
   "execution_count": 20,
   "id": "78c4b0e1",
   "metadata": {
    "deletable": false,
    "id": "e1771346"
   },
   "outputs": [],
   "source": [
    "def categorize_income(income):\n",
    "    try:\n",
    "        if 0 <= income <= 30000:\n",
    "            return 'E'\n",
    "        elif 30001 <= income <= 50000:\n",
    "            return 'D'\n",
    "        elif 50001 <= income <= 200000:\n",
    "            return 'C'\n",
    "        elif 200001 <= income <= 1000000:\n",
    "            return 'B'\n",
    "        elif income >= 1000001:\n",
    "            return 'A'\n",
    "    except:\n",
    "        pass"
   ]
  },
  {
   "cell_type": "code",
   "execution_count": 21,
   "id": "31910d05",
   "metadata": {
    "deletable": false,
    "id": "d5f3586d"
   },
   "outputs": [],
   "source": [
    "data['total_income_category'] = data['total_income'].apply(categorize_income)"
   ]
  },
  {
   "cell_type": "markdown",
   "id": "200a2e3d",
   "metadata": {
    "deletable": false,
    "editable": false,
    "id": "dde49b5c"
   },
   "source": [
    "**Задание 17. Выведите на экран перечень уникальных целей взятия кредита из столбца `purpose`.**"
   ]
  },
  {
   "cell_type": "code",
   "execution_count": 22,
   "id": "13cc149d",
   "metadata": {
    "deletable": false,
    "id": "f67ce9b3",
    "outputId": "673c12d9-7d7e-4ae0-9812-c622c89dd244"
   },
   "outputs": [
    {
     "data": {
      "text/plain": [
       "array(['покупка жилья', 'приобретение автомобиля',\n",
       "       'дополнительное образование', 'сыграть свадьбу',\n",
       "       'операции с жильем', 'образование', 'на проведение свадьбы',\n",
       "       'покупка жилья для семьи', 'покупка недвижимости',\n",
       "       'покупка коммерческой недвижимости', 'покупка жилой недвижимости',\n",
       "       'строительство собственной недвижимости', 'недвижимость',\n",
       "       'строительство недвижимости', 'на покупку подержанного автомобиля',\n",
       "       'на покупку своего автомобиля',\n",
       "       'операции с коммерческой недвижимостью',\n",
       "       'строительство жилой недвижимости', 'жилье',\n",
       "       'операции со своей недвижимостью', 'автомобили',\n",
       "       'заняться образованием', 'сделка с подержанным автомобилем',\n",
       "       'получение образования', 'автомобиль', 'свадьба',\n",
       "       'получение дополнительного образования', 'покупка своего жилья',\n",
       "       'операции с недвижимостью', 'получение высшего образования',\n",
       "       'свой автомобиль', 'сделка с автомобилем',\n",
       "       'профильное образование', 'высшее образование',\n",
       "       'покупка жилья для сдачи', 'на покупку автомобиля', 'ремонт жилью',\n",
       "       'заняться высшим образованием'], dtype=object)"
      ]
     },
     "execution_count": 22,
     "metadata": {},
     "output_type": "execute_result"
    }
   ],
   "source": [
    "data['purpose'].unique()"
   ]
  },
  {
   "cell_type": "markdown",
   "id": "89656319",
   "metadata": {
    "deletable": false,
    "editable": false,
    "id": "85d0aef0"
   },
   "source": [
    "**Задание 18. Создайте функцию, которая на основании данных из столбца `purpose` сформирует новый столбец `purpose_category`, в который войдут следующие категории:**\n",
    "\n",
    "- `'операции с автомобилем'`,\n",
    "- `'операции с недвижимостью'`,\n",
    "- `'проведение свадьбы'`,\n",
    "- `'получение образования'`.\n",
    "\n",
    "**Например, если в столбце `purpose` находится подстрока `'на покупку автомобиля'`, то в столбце `purpose_category` должна появиться строка `'операции с автомобилем'`.**\n",
    "\n",
    "**Используйте собственную функцию с именем `categorize_purpose()` и метод `apply()`. Изучите данные в столбце `purpose` и определите, какие подстроки помогут вам правильно определить категорию.**"
   ]
  },
  {
   "cell_type": "code",
   "execution_count": 23,
   "id": "a4013005",
   "metadata": {
    "deletable": false,
    "id": "e149fab4"
   },
   "outputs": [],
   "source": [
    "def categorize_purpose(row):\n",
    "    try:\n",
    "        if 'автом' in row:\n",
    "            return 'операции с автомобилем'\n",
    "        elif 'жил' in row or 'недвиж' in row:\n",
    "            return 'операции с недвижимостью'\n",
    "        elif 'свад' in row:\n",
    "            return 'проведение свадьбы'\n",
    "        elif 'образов' in row:\n",
    "            return 'получение образования'\n",
    "    except:\n",
    "        return 'нет категории'"
   ]
  },
  {
   "cell_type": "code",
   "execution_count": 24,
   "id": "b5c0223b",
   "metadata": {
    "deletable": false,
    "id": "bf36e69b"
   },
   "outputs": [],
   "source": [
    "\n",
    "data['purpose_category'] = data['purpose'].apply(categorize_purpose)"
   ]
  },
  {
   "cell_type": "markdown",
   "id": "9f9e3d09",
   "metadata": {
    "deletable": false,
    "editable": false,
    "id": "09b242bf"
   },
   "source": [
    "### Шаг 3. Исследуйте данные и ответьте на вопросы"
   ]
  },
  {
   "cell_type": "markdown",
   "id": "ceba915a",
   "metadata": {
    "deletable": false,
    "editable": false,
    "id": "c5d66278"
   },
   "source": [
    "#### 3.1 Есть ли зависимость между количеством детей и возвратом кредита в срок?"
   ]
  },
  {
   "cell_type": "code",
   "execution_count": 25,
   "id": "5287e6a3",
   "metadata": {
    "deletable": false,
    "id": "2cacfc4a"
   },
   "outputs": [
    {
     "data": {
      "text/plain": [
       "children\n",
       "0    7.543822\n",
       "1    9.234609\n",
       "2    9.454191\n",
       "3    8.181818\n",
       "4    9.756098\n",
       "5    0.000000\n",
       "dtype: float64"
      ]
     },
     "execution_count": 25,
     "metadata": {},
     "output_type": "execute_result"
    }
   ],
   "source": [
    "#находим общее количество должников, сгруппированных по кол-ву детей и делим  на всех заемщиков, сгруппированых по кол-ву детей \n",
    "debt_share_child = (data.groupby('children')['debt'].sum()) / (data.groupby('children')['children'].count()) \n",
    "#выводим долю должников (в процентах) по кол-ву детей. \n",
    "debt_share_child * 100\n",
    "#Например: Из всех заемщиков с одним ребенком задолжности имеют приблизительно 9% \n",
    "\n",
    "    \n"
   ]
  },
  {
   "cell_type": "markdown",
   "id": "49ca6013",
   "metadata": {
    "deletable": false,
    "id": "3a6b99ec"
   },
   "source": [
    "**Вывод:** Мы видим, что доля должников с разным количеством детей примерно равна, однако, у заемщиков с пятью детьми нет долгов. Каждый десятый заемщик имеющий 4х детей не платит кредит в срок. "
   ]
  },
  {
   "cell_type": "code",
   "execution_count": 26,
   "id": "8ae101e0",
   "metadata": {},
   "outputs": [],
   "source": [
    "def categorize_child(row):\n",
    "    try:\n",
    "        if row > 0:\n",
    "            return 'есть дети'    \n",
    "        elif row == 0:\n",
    "            return 'нет детей'\n",
    "    except:\n",
    "        return 'нет категории'"
   ]
  },
  {
   "cell_type": "code",
   "execution_count": 27,
   "id": "1de5773a",
   "metadata": {},
   "outputs": [],
   "source": [
    "data['child_category'] = data['children'].apply(categorize_child)\n",
    "\n"
   ]
  },
  {
   "cell_type": "code",
   "execution_count": 28,
   "id": "14e7917e",
   "metadata": {},
   "outputs": [
    {
     "data": {
      "text/plain": [
       "child_category\n",
       "есть дети    9.240331\n",
       "нет детей    7.543822\n",
       "dtype: float64"
      ]
     },
     "execution_count": 28,
     "metadata": {},
     "output_type": "execute_result"
    }
   ],
   "source": [
    "#находим общее количество должников, сгруппированных по наличию детей и делим  на всех заемщиков, сгруппированых по наличию детей \n",
    "debt_share_child_category = (data.groupby('child_category')['debt'].sum()) / (data.groupby('child_category')['child_category'].count()) \n",
    "#выводим долю должников (в процентах) по наличию детей. \n",
    "debt_share_child_category * 100\n"
   ]
  },
  {
   "cell_type": "markdown",
   "id": "8d3a9313",
   "metadata": {},
   "source": [
    "**Вывод:** Заемщики не имеющие детей с большей вероятностью выплатят кредит в срок!"
   ]
  },
  {
   "cell_type": "markdown",
   "id": "01dac912",
   "metadata": {
    "deletable": false,
    "editable": false,
    "id": "97be82ca"
   },
   "source": [
    "#### 3.2 Есть ли зависимость между семейным положением и возвратом кредита в срок?"
   ]
  },
  {
   "cell_type": "code",
   "execution_count": 29,
   "id": "40678e3e",
   "metadata": {
    "deletable": false,
    "id": "dc3f7ee8"
   },
   "outputs": [
    {
     "data": {
      "text/plain": [
       "family_status\n",
       "Не женат / не замужем    9.763948\n",
       "в разводе                7.064760\n",
       "вдовец / вдова           6.624606\n",
       "гражданский брак         9.313014\n",
       "женат / замужем          7.560558\n",
       "dtype: float64"
      ]
     },
     "execution_count": 29,
     "metadata": {},
     "output_type": "execute_result"
    }
   ],
   "source": [
    "#находим общее количество должников, сгруппированных по семейному положению и делим  на всех заемщиков, сгруппированых по семейному положению \n",
    "debt_share_fs = (data.groupby('family_status')['debt'].sum()) /(data.groupby('family_status')['family_status'].count())\n",
    "#выводим долю должников (в процентах) по семейному положению, округляя до целых чисел. \n",
    "debt_share_fs * 100\n",
    "#Например: Из всех заемщиков состоящих в браке задолжности имеют  приблизительно 8% \n",
    "\n"
   ]
  },
  {
   "cell_type": "markdown",
   "id": "010b0b25",
   "metadata": {
    "deletable": false,
    "id": "1cef7837"
   },
   "source": [
    "**Вывод:** Наименьшую ответственность по займу имеют холостые заемщики. А более ответственно к займу относятся те заемщики, которые ранее состояли в браке - вдовцы и находящиеся в разводе. "
   ]
  },
  {
   "cell_type": "markdown",
   "id": "04dd9a72",
   "metadata": {
    "deletable": false,
    "editable": false,
    "id": "1e8b2fca"
   },
   "source": [
    "#### 3.3 Есть ли зависимость между уровнем дохода и возвратом кредита в срок?"
   ]
  },
  {
   "cell_type": "code",
   "execution_count": 30,
   "id": "b0e570b5",
   "metadata": {
    "deletable": false,
    "id": "cd7e3720"
   },
   "outputs": [
    {
     "data": {
      "text/plain": [
       "total_income_category\n",
       "A    8.000000\n",
       "B    7.060231\n",
       "C    8.498210\n",
       "D    6.017192\n",
       "E    9.090909\n",
       "dtype: float64"
      ]
     },
     "execution_count": 30,
     "metadata": {},
     "output_type": "execute_result"
    }
   ],
   "source": [
    "#находим общее количество должников, сгруппированных по уровню дохода и делим  на всех заемщиков, сгруппированых по уровню дохода \n",
    "debt_share_income = (data.groupby('total_income_category')['debt'].sum()) / (data.groupby('total_income_category')['total_income_category'].count())\n",
    "#выводим долю должников (в процентах) по уровню дохода, округляя до целых чисел. \n",
    "debt_share_income * 100\n",
    "#Например: Из всех заемщиков c доходом до 30000  задолжности имеют приблизительно 9% "
   ]
  },
  {
   "cell_type": "markdown",
   "id": "801f498b",
   "metadata": {
    "deletable": false,
    "id": "e8593def"
   },
   "source": [
    "**Вывод:** Самымим ответственными заемщиками являются те, чей доход находится в диапозоне  *30001 - 50000*. Большая доля должников выводится среди заемщиков с доходом *до 30000*. В остальных случаях доли примерно равны."
   ]
  },
  {
   "cell_type": "code",
   "execution_count": 31,
   "id": "3aa39d8b",
   "metadata": {},
   "outputs": [
    {
     "data": {
      "text/html": [
       "<div>\n",
       "<style scoped>\n",
       "    .dataframe tbody tr th:only-of-type {\n",
       "        vertical-align: middle;\n",
       "    }\n",
       "\n",
       "    .dataframe tbody tr th {\n",
       "        vertical-align: top;\n",
       "    }\n",
       "\n",
       "    .dataframe thead th {\n",
       "        text-align: right;\n",
       "    }\n",
       "</style>\n",
       "<table border=\"1\" class=\"dataframe\">\n",
       "  <thead>\n",
       "    <tr style=\"text-align: right;\">\n",
       "      <th></th>\n",
       "      <th>children</th>\n",
       "      <th>days_employed</th>\n",
       "      <th>dob_years</th>\n",
       "      <th>education</th>\n",
       "      <th>education_id</th>\n",
       "      <th>family_status</th>\n",
       "      <th>family_status_id</th>\n",
       "      <th>gender</th>\n",
       "      <th>income_type</th>\n",
       "      <th>debt</th>\n",
       "      <th>total_income</th>\n",
       "      <th>purpose</th>\n",
       "      <th>purpose_category</th>\n",
       "      <th>child_category</th>\n",
       "    </tr>\n",
       "    <tr>\n",
       "      <th>total_income_category</th>\n",
       "      <th></th>\n",
       "      <th></th>\n",
       "      <th></th>\n",
       "      <th></th>\n",
       "      <th></th>\n",
       "      <th></th>\n",
       "      <th></th>\n",
       "      <th></th>\n",
       "      <th></th>\n",
       "      <th></th>\n",
       "      <th></th>\n",
       "      <th></th>\n",
       "      <th></th>\n",
       "      <th></th>\n",
       "    </tr>\n",
       "  </thead>\n",
       "  <tbody>\n",
       "    <tr>\n",
       "      <th>A</th>\n",
       "      <td>25</td>\n",
       "      <td>25</td>\n",
       "      <td>25</td>\n",
       "      <td>25</td>\n",
       "      <td>25</td>\n",
       "      <td>25</td>\n",
       "      <td>25</td>\n",
       "      <td>25</td>\n",
       "      <td>25</td>\n",
       "      <td>25</td>\n",
       "      <td>25</td>\n",
       "      <td>25</td>\n",
       "      <td>25</td>\n",
       "      <td>25</td>\n",
       "    </tr>\n",
       "    <tr>\n",
       "      <th>B</th>\n",
       "      <td>5014</td>\n",
       "      <td>5014</td>\n",
       "      <td>5014</td>\n",
       "      <td>5014</td>\n",
       "      <td>5014</td>\n",
       "      <td>5014</td>\n",
       "      <td>5014</td>\n",
       "      <td>5014</td>\n",
       "      <td>5014</td>\n",
       "      <td>5014</td>\n",
       "      <td>5014</td>\n",
       "      <td>5014</td>\n",
       "      <td>5014</td>\n",
       "      <td>5014</td>\n",
       "    </tr>\n",
       "    <tr>\n",
       "      <th>C</th>\n",
       "      <td>15921</td>\n",
       "      <td>15921</td>\n",
       "      <td>15921</td>\n",
       "      <td>15921</td>\n",
       "      <td>15921</td>\n",
       "      <td>15921</td>\n",
       "      <td>15921</td>\n",
       "      <td>15921</td>\n",
       "      <td>15921</td>\n",
       "      <td>15921</td>\n",
       "      <td>15921</td>\n",
       "      <td>15921</td>\n",
       "      <td>15921</td>\n",
       "      <td>15921</td>\n",
       "    </tr>\n",
       "    <tr>\n",
       "      <th>D</th>\n",
       "      <td>349</td>\n",
       "      <td>349</td>\n",
       "      <td>349</td>\n",
       "      <td>349</td>\n",
       "      <td>349</td>\n",
       "      <td>349</td>\n",
       "      <td>349</td>\n",
       "      <td>349</td>\n",
       "      <td>349</td>\n",
       "      <td>349</td>\n",
       "      <td>349</td>\n",
       "      <td>349</td>\n",
       "      <td>349</td>\n",
       "      <td>349</td>\n",
       "    </tr>\n",
       "    <tr>\n",
       "      <th>E</th>\n",
       "      <td>22</td>\n",
       "      <td>22</td>\n",
       "      <td>22</td>\n",
       "      <td>22</td>\n",
       "      <td>22</td>\n",
       "      <td>22</td>\n",
       "      <td>22</td>\n",
       "      <td>22</td>\n",
       "      <td>22</td>\n",
       "      <td>22</td>\n",
       "      <td>22</td>\n",
       "      <td>22</td>\n",
       "      <td>22</td>\n",
       "      <td>22</td>\n",
       "    </tr>\n",
       "  </tbody>\n",
       "</table>\n",
       "</div>"
      ],
      "text/plain": [
       "                       children  days_employed  dob_years  education  \\\n",
       "total_income_category                                                  \n",
       "A                            25             25         25         25   \n",
       "B                          5014           5014       5014       5014   \n",
       "C                         15921          15921      15921      15921   \n",
       "D                           349            349        349        349   \n",
       "E                            22             22         22         22   \n",
       "\n",
       "                       education_id  family_status  family_status_id  gender  \\\n",
       "total_income_category                                                          \n",
       "A                                25             25                25      25   \n",
       "B                              5014           5014              5014    5014   \n",
       "C                             15921          15921             15921   15921   \n",
       "D                               349            349               349     349   \n",
       "E                                22             22                22      22   \n",
       "\n",
       "                       income_type   debt  total_income  purpose  \\\n",
       "total_income_category                                              \n",
       "A                               25     25            25       25   \n",
       "B                             5014   5014          5014     5014   \n",
       "C                            15921  15921         15921    15921   \n",
       "D                              349    349           349      349   \n",
       "E                               22     22            22       22   \n",
       "\n",
       "                       purpose_category  child_category  \n",
       "total_income_category                                    \n",
       "A                                    25              25  \n",
       "B                                  5014            5014  \n",
       "C                                 15921           15921  \n",
       "D                                   349             349  \n",
       "E                                    22              22  "
      ]
     },
     "execution_count": 31,
     "metadata": {},
     "output_type": "execute_result"
    }
   ],
   "source": [
    "data.groupby('total_income_category').count()"
   ]
  },
  {
   "cell_type": "markdown",
   "id": "130ccc80",
   "metadata": {
    "deletable": false,
    "editable": false,
    "id": "99ecbd1f"
   },
   "source": [
    "#### 3.4 Как разные цели кредита влияют на его возврат в срок?"
   ]
  },
  {
   "cell_type": "code",
   "execution_count": 32,
   "id": "31815ce0",
   "metadata": {
    "deletable": false,
    "id": "2b687290"
   },
   "outputs": [
    {
     "data": {
      "text/plain": [
       "purpose_category\n",
       "операции с автомобилем      9.347978\n",
       "операции с недвижимостью    7.255139\n",
       "получение образования       9.252758\n",
       "проведение свадьбы          7.911803\n",
       "dtype: float64"
      ]
     },
     "execution_count": 32,
     "metadata": {},
     "output_type": "execute_result"
    }
   ],
   "source": [
    "#находим общее количество должников, сгруппированных по целям и делим  на всех заемщиков, сгруппированых по целям  \n",
    "debt_share_purpose = (data.groupby('purpose_category')['debt'].sum()) / (data.groupby('purpose_category')['purpose_category'].count())\n",
    "#выводим долю должников (в процентах) по уровню дохода, округляя до целых чисел. \n",
    "debt_share_purpose * 100\n",
    "#Например: Из всех заемщиков c целью проведения свадьбы задолжности имеют примерно 8% \n"
   ]
  },
  {
   "cell_type": "markdown",
   "id": "91eb433e",
   "metadata": {
    "deletable": false,
    "id": "b4bb2ce6"
   },
   "source": [
    "**Вывод:** Самые ответственные заемщики имеют дело с недвижимостью! Заемщики с целями \"операции с автомобилем\", \"получение образования\" реже возвращают кредит в срок."
   ]
  },
  {
   "cell_type": "markdown",
   "id": "f3cdfd26",
   "metadata": {
    "deletable": false,
    "editable": false,
    "id": "09c3ac4c"
   },
   "source": [
    "#### 3.5 Приведите возможные причины появления пропусков в исходных данных."
   ]
  },
  {
   "cell_type": "markdown",
   "id": "9adfe684",
   "metadata": {
    "deletable": false,
    "id": "9da2ceda"
   },
   "source": [
    "*Ответ:* \n",
    "+ Пользователь пожелал не указывать некоторые сведения.\n",
    "+ Автоматизированная система сбора информации дала сбой.\n",
    "+ Невозможность получить данные.\n",
    "+ Некорректное изменеие данных.\n",
    "+ Ошибка разработчика"
   ]
  },
  {
   "cell_type": "markdown",
   "id": "2231d501",
   "metadata": {
    "deletable": false,
    "editable": false,
    "id": "7b0487d6"
   },
   "source": [
    "#### 3.6 Объясните, почему заполнить пропуски медианным значением — лучшее решение для количественных переменных."
   ]
  },
  {
   "cell_type": "markdown",
   "id": "06f769ad",
   "metadata": {
    "deletable": false,
    "id": "7ecf2b8e"
   },
   "source": [
    "*Ответ:* Медианное значение дает более объективную картину, так как не берет в расчет аномальные значения(слишком высокие или же слишком низкие, не соответствующие общей картине чисел). Если бы нам приводили не среднее значение зароботной платы в стране , а медианное, то все было бы наглядно и понятно, хотя и так понятно =)) "
   ]
  },
  {
   "cell_type": "markdown",
   "id": "5ed15dec",
   "metadata": {
    "deletable": false,
    "editable": false,
    "id": "6db5255a"
   },
   "source": [
    "### Шаг 4: общий вывод."
   ]
  },
  {
   "cell_type": "markdown",
   "id": "b6c61d0d",
   "metadata": {
    "deletable": false,
    "id": "bad65432"
   },
   "source": [
    "**Общий вывод:** \n",
    " **Исходя из проведенного анализа можно привести следущие данные:**\n",
    "- *Зависимость между количеством детей и возвратом кредита в срок (процент должников)*\n",
    "    + 0---    7.543822\n",
    "    + 1---   9.234609\n",
    "    + 2---    9.454191\n",
    "    + 3---    8.181818\n",
    "    + 4---    9.756098\n",
    "    + 5---    0.000000\n",
    "- *Зависимость между наличием детей и возвратом кредита в срок (процент должников)*\n",
    "    + есть дети---    9.240331\n",
    "    + нет детей---    7.543822\n",
    "- *Зависимость между семейным положением и возвратом кредита в срок (процент должников)*\n",
    "    + Не женат / не замужем---    9.763948\n",
    "    + в разводе---                7.064760\n",
    "    + вдовец / вдова---           6.624606\n",
    "    + гражданский брак---         9.313014\n",
    "    + женат / замужем---          7.560558\n",
    "- *Зависимость между уровнем дохода и возвратом кредита в срок (процент должников)*\n",
    "    + 1000001 и выше---    8.000000\n",
    "    + 200001–1000000---    7.060231\n",
    "    + 50001–200000---     8.498210\n",
    "    + 30001–50000---       6.017192\n",
    "    + 0–30000---           9.090909 \n",
    "- *Процент должников по целям кредита:* \n",
    "    + операции с автомобилем---      9.347978\n",
    "    + операции с недвижимостью---    7.255139\n",
    "    + получение образования---       9.252758\n",
    "    + проведение свадьбы---          7.911803\n",
    "   \n",
    "- *С большей вероятностью проблемы с погашением кредита в срок будут у заемщиков, которые:*\n",
    "    + зарабатывают меньше *30000*\n",
    "    + берут займ с целью операции с автомобилем или получения образования \n",
    "    + не состоят в браке\n",
    "    + имеют 4х детей\n",
    "\n",
    "\n",
    "\n"
   ]
  },
  {
   "cell_type": "code",
   "execution_count": null,
   "id": "df71f0ba",
   "metadata": {},
   "outputs": [],
   "source": []
  }
 ],
 "metadata": {
  "ExecuteTimeLog": [
   {
    "duration": 49,
    "start_time": "2022-11-27T10:59:53.368Z"
   },
   {
    "duration": 18,
    "start_time": "2022-11-27T11:00:06.343Z"
   },
   {
    "duration": 12,
    "start_time": "2022-11-27T11:00:09.858Z"
   },
   {
    "duration": 9,
    "start_time": "2022-11-27T11:02:25.439Z"
   },
   {
    "duration": 549,
    "start_time": "2022-11-27T11:02:34.889Z"
   },
   {
    "duration": 23,
    "start_time": "2022-11-27T11:02:35.440Z"
   },
   {
    "duration": 14,
    "start_time": "2022-11-27T11:02:35.464Z"
   },
   {
    "duration": 10,
    "start_time": "2022-11-27T11:02:35.480Z"
   },
   {
    "duration": 46,
    "start_time": "2022-11-27T11:02:35.492Z"
   },
   {
    "duration": 4,
    "start_time": "2022-11-27T11:02:35.540Z"
   },
   {
    "duration": 12,
    "start_time": "2022-11-27T11:02:35.546Z"
   },
   {
    "duration": 4,
    "start_time": "2022-11-27T11:02:35.559Z"
   },
   {
    "duration": 8,
    "start_time": "2022-11-27T11:02:35.565Z"
   },
   {
    "duration": 5,
    "start_time": "2022-11-27T11:02:35.576Z"
   },
   {
    "duration": 70,
    "start_time": "2022-11-27T11:02:35.582Z"
   },
   {
    "duration": 9,
    "start_time": "2022-11-27T11:02:35.654Z"
   },
   {
    "duration": 8,
    "start_time": "2022-11-27T11:02:35.664Z"
   },
   {
    "duration": 15,
    "start_time": "2022-11-27T11:02:35.673Z"
   },
   {
    "duration": 42,
    "start_time": "2022-11-27T11:02:35.689Z"
   },
   {
    "duration": 18,
    "start_time": "2022-11-27T11:02:35.732Z"
   },
   {
    "duration": 3,
    "start_time": "2022-11-27T11:02:35.752Z"
   },
   {
    "duration": 13,
    "start_time": "2022-11-27T11:02:35.757Z"
   },
   {
    "duration": 11,
    "start_time": "2022-11-27T11:02:35.772Z"
   },
   {
    "duration": 5,
    "start_time": "2022-11-27T11:02:35.785Z"
   },
   {
    "duration": 38,
    "start_time": "2022-11-27T11:02:35.792Z"
   },
   {
    "duration": 7,
    "start_time": "2022-11-27T11:02:35.833Z"
   },
   {
    "duration": 12,
    "start_time": "2022-11-27T11:02:35.842Z"
   },
   {
    "duration": 11,
    "start_time": "2022-11-27T11:02:35.856Z"
   },
   {
    "duration": 7,
    "start_time": "2022-11-27T11:02:35.869Z"
   },
   {
    "duration": 5,
    "start_time": "2022-11-27T11:02:54.464Z"
   },
   {
    "duration": 3,
    "start_time": "2022-11-27T11:03:21.513Z"
   },
   {
    "duration": 3,
    "start_time": "2022-11-27T11:03:26.036Z"
   },
   {
    "duration": 4,
    "start_time": "2022-11-27T11:03:38.800Z"
   },
   {
    "duration": 5,
    "start_time": "2022-11-27T11:03:43.741Z"
   },
   {
    "duration": 5,
    "start_time": "2022-11-27T11:04:09.376Z"
   },
   {
    "duration": 6,
    "start_time": "2022-11-27T11:04:30.409Z"
   },
   {
    "duration": 4,
    "start_time": "2022-11-27T11:04:33.313Z"
   },
   {
    "duration": 5,
    "start_time": "2022-11-27T11:04:34.240Z"
   },
   {
    "duration": 4,
    "start_time": "2022-11-27T11:06:28.581Z"
   },
   {
    "duration": 5,
    "start_time": "2022-11-27T11:08:00.883Z"
   },
   {
    "duration": 69,
    "start_time": "2022-11-27T11:08:35.675Z"
   },
   {
    "duration": 8,
    "start_time": "2022-11-27T11:08:41.587Z"
   },
   {
    "duration": 69,
    "start_time": "2022-11-27T11:09:25.061Z"
   },
   {
    "duration": 7,
    "start_time": "2022-11-27T11:09:33.789Z"
   },
   {
    "duration": 97,
    "start_time": "2022-11-27T19:41:31.726Z"
   },
   {
    "duration": 107,
    "start_time": "2022-11-27T19:41:54.812Z"
   },
   {
    "duration": 84,
    "start_time": "2022-11-27T19:41:56.638Z"
   },
   {
    "duration": 53,
    "start_time": "2022-11-27T19:44:02.776Z"
   },
   {
    "duration": 634,
    "start_time": "2022-11-27T19:44:17.178Z"
   },
   {
    "duration": 26,
    "start_time": "2022-11-27T19:44:17.814Z"
   },
   {
    "duration": 23,
    "start_time": "2022-11-27T19:44:17.842Z"
   },
   {
    "duration": 32,
    "start_time": "2022-11-27T19:44:17.869Z"
   },
   {
    "duration": 36,
    "start_time": "2022-11-27T19:44:17.903Z"
   },
   {
    "duration": 4,
    "start_time": "2022-11-27T19:44:17.941Z"
   },
   {
    "duration": 21,
    "start_time": "2022-11-27T19:44:17.947Z"
   },
   {
    "duration": 18,
    "start_time": "2022-11-27T19:44:17.979Z"
   },
   {
    "duration": 17,
    "start_time": "2022-11-27T19:44:17.999Z"
   },
   {
    "duration": 7,
    "start_time": "2022-11-27T19:44:18.018Z"
   },
   {
    "duration": 48,
    "start_time": "2022-11-27T19:44:18.026Z"
   },
   {
    "duration": 17,
    "start_time": "2022-11-27T19:44:18.075Z"
   },
   {
    "duration": 8,
    "start_time": "2022-11-27T19:44:18.094Z"
   },
   {
    "duration": 13,
    "start_time": "2022-11-27T19:44:18.105Z"
   },
   {
    "duration": 41,
    "start_time": "2022-11-27T19:44:18.119Z"
   },
   {
    "duration": 29,
    "start_time": "2022-11-27T19:44:18.162Z"
   },
   {
    "duration": 12,
    "start_time": "2022-11-27T19:44:18.193Z"
   },
   {
    "duration": 14,
    "start_time": "2022-11-27T19:44:18.207Z"
   },
   {
    "duration": 9,
    "start_time": "2022-11-27T19:44:18.223Z"
   },
   {
    "duration": 3,
    "start_time": "2022-11-27T19:44:18.234Z"
   },
   {
    "duration": 20,
    "start_time": "2022-11-27T19:44:18.239Z"
   },
   {
    "duration": 45,
    "start_time": "2022-11-27T19:44:18.264Z"
   },
   {
    "duration": 2,
    "start_time": "2022-11-27T19:44:18.311Z"
   },
   {
    "duration": 8,
    "start_time": "2022-11-27T19:44:18.315Z"
   },
   {
    "duration": 6,
    "start_time": "2022-11-27T19:44:18.325Z"
   },
   {
    "duration": 18,
    "start_time": "2022-11-27T19:44:26.318Z"
   },
   {
    "duration": 87,
    "start_time": "2022-11-27T19:44:41.710Z"
   },
   {
    "duration": 11,
    "start_time": "2022-11-27T19:44:53.199Z"
   },
   {
    "duration": 23,
    "start_time": "2022-11-27T19:45:05.952Z"
   },
   {
    "duration": 11,
    "start_time": "2022-11-27T19:45:18.912Z"
   },
   {
    "duration": 15,
    "start_time": "2022-11-27T19:47:25.539Z"
   },
   {
    "duration": 10,
    "start_time": "2022-11-27T19:47:39.818Z"
   },
   {
    "duration": 13,
    "start_time": "2022-11-27T19:47:48.991Z"
   },
   {
    "duration": 4,
    "start_time": "2022-11-27T19:47:56.305Z"
   },
   {
    "duration": 7,
    "start_time": "2022-11-27T19:47:58.249Z"
   },
   {
    "duration": 11,
    "start_time": "2022-11-27T19:48:07.452Z"
   },
   {
    "duration": 23,
    "start_time": "2022-11-27T19:48:20.002Z"
   },
   {
    "duration": 23,
    "start_time": "2022-11-27T19:49:13.136Z"
   },
   {
    "duration": 8,
    "start_time": "2022-11-27T19:49:53.708Z"
   },
   {
    "duration": 20,
    "start_time": "2022-11-27T19:52:19.725Z"
   },
   {
    "duration": 21,
    "start_time": "2022-11-27T19:52:28.280Z"
   },
   {
    "duration": 22,
    "start_time": "2022-11-27T19:52:57.221Z"
   },
   {
    "duration": 28,
    "start_time": "2022-11-27T19:53:19.266Z"
   },
   {
    "duration": 31,
    "start_time": "2022-11-27T19:53:29.237Z"
   },
   {
    "duration": 9,
    "start_time": "2022-11-27T19:53:51.037Z"
   },
   {
    "duration": 12,
    "start_time": "2022-11-27T19:53:58.780Z"
   },
   {
    "duration": 8,
    "start_time": "2022-11-27T19:54:13.191Z"
   },
   {
    "duration": 1006,
    "start_time": "2022-11-27T20:08:26.241Z"
   },
   {
    "duration": 1042,
    "start_time": "2022-11-27T20:08:44.704Z"
   },
   {
    "duration": 1037,
    "start_time": "2022-11-27T20:09:04.678Z"
   },
   {
    "duration": 1025,
    "start_time": "2022-11-27T20:09:20.561Z"
   },
   {
    "duration": 8,
    "start_time": "2022-11-27T20:18:07.996Z"
   },
   {
    "duration": 938,
    "start_time": "2022-11-27T20:21:16.194Z"
   },
   {
    "duration": 8,
    "start_time": "2022-11-27T20:21:44.265Z"
   },
   {
    "duration": 11,
    "start_time": "2022-11-27T20:22:20.973Z"
   },
   {
    "duration": 16,
    "start_time": "2022-11-27T20:22:27.750Z"
   },
   {
    "duration": 12,
    "start_time": "2022-11-27T20:22:32.992Z"
   },
   {
    "duration": 12,
    "start_time": "2022-11-27T20:22:40.135Z"
   },
   {
    "duration": 18,
    "start_time": "2022-11-27T20:22:59.655Z"
   },
   {
    "duration": 9,
    "start_time": "2022-11-27T20:23:54.678Z"
   },
   {
    "duration": 9,
    "start_time": "2022-11-27T20:24:35.583Z"
   },
   {
    "duration": 9,
    "start_time": "2022-11-27T20:25:01.126Z"
   },
   {
    "duration": 12,
    "start_time": "2022-11-27T20:28:13.289Z"
   },
   {
    "duration": 6,
    "start_time": "2022-11-27T20:31:04.907Z"
   },
   {
    "duration": 1362,
    "start_time": "2022-11-27T20:34:26.453Z"
   },
   {
    "duration": 68,
    "start_time": "2022-11-27T20:35:38.990Z"
   },
   {
    "duration": 8,
    "start_time": "2022-11-27T20:43:07.380Z"
   },
   {
    "duration": 10,
    "start_time": "2022-11-27T20:43:16.086Z"
   },
   {
    "duration": 8,
    "start_time": "2022-11-27T20:43:35.206Z"
   },
   {
    "duration": 13,
    "start_time": "2022-11-27T20:48:18.150Z"
   },
   {
    "duration": 12,
    "start_time": "2022-11-27T20:48:34.159Z"
   },
   {
    "duration": 7,
    "start_time": "2022-11-27T20:48:36.790Z"
   },
   {
    "duration": 7,
    "start_time": "2022-11-27T20:48:48.912Z"
   },
   {
    "duration": 7,
    "start_time": "2022-11-27T20:48:51.280Z"
   },
   {
    "duration": 6,
    "start_time": "2022-11-27T20:49:24.047Z"
   },
   {
    "duration": 76,
    "start_time": "2022-11-27T20:49:48.095Z"
   },
   {
    "duration": 71,
    "start_time": "2022-11-27T20:49:56.160Z"
   },
   {
    "duration": 8,
    "start_time": "2022-11-27T20:50:34.633Z"
   },
   {
    "duration": 10,
    "start_time": "2022-11-27T20:50:42.457Z"
   },
   {
    "duration": 8,
    "start_time": "2022-11-27T20:50:59.137Z"
   },
   {
    "duration": 8,
    "start_time": "2022-11-27T20:51:17.003Z"
   },
   {
    "duration": 8,
    "start_time": "2022-11-27T20:57:56.145Z"
   },
   {
    "duration": 7,
    "start_time": "2022-11-27T21:02:10.063Z"
   },
   {
    "duration": 6,
    "start_time": "2022-11-27T21:02:14.072Z"
   },
   {
    "duration": 7,
    "start_time": "2022-11-27T21:02:16.830Z"
   },
   {
    "duration": 8,
    "start_time": "2022-11-27T21:02:26.126Z"
   },
   {
    "duration": 77,
    "start_time": "2022-11-27T21:03:21.591Z"
   },
   {
    "duration": 75,
    "start_time": "2022-11-27T21:03:36.656Z"
   },
   {
    "duration": 7,
    "start_time": "2022-11-27T21:04:00.778Z"
   },
   {
    "duration": 11,
    "start_time": "2022-11-27T21:04:08.401Z"
   },
   {
    "duration": 10,
    "start_time": "2022-11-27T21:06:08.562Z"
   },
   {
    "duration": 8,
    "start_time": "2022-11-27T21:12:20.048Z"
   },
   {
    "duration": 12,
    "start_time": "2022-11-27T21:13:13.769Z"
   },
   {
    "duration": 13,
    "start_time": "2022-11-27T21:14:10.171Z"
   },
   {
    "duration": 44,
    "start_time": "2022-11-28T14:36:12.450Z"
   },
   {
    "duration": 491,
    "start_time": "2022-11-28T14:36:21.217Z"
   },
   {
    "duration": 22,
    "start_time": "2022-11-28T14:36:21.710Z"
   },
   {
    "duration": 21,
    "start_time": "2022-11-28T14:36:21.733Z"
   },
   {
    "duration": 9,
    "start_time": "2022-11-28T14:36:21.756Z"
   },
   {
    "duration": 39,
    "start_time": "2022-11-28T14:36:21.767Z"
   },
   {
    "duration": 3,
    "start_time": "2022-11-28T14:36:21.808Z"
   },
   {
    "duration": 17,
    "start_time": "2022-11-28T14:36:21.812Z"
   },
   {
    "duration": 4,
    "start_time": "2022-11-28T14:36:21.940Z"
   },
   {
    "duration": 23,
    "start_time": "2022-11-28T14:36:21.946Z"
   },
   {
    "duration": 6,
    "start_time": "2022-11-28T14:36:21.970Z"
   },
   {
    "duration": 36,
    "start_time": "2022-11-28T14:36:21.977Z"
   },
   {
    "duration": 8,
    "start_time": "2022-11-28T14:36:22.015Z"
   },
   {
    "duration": 5,
    "start_time": "2022-11-28T14:36:22.025Z"
   },
   {
    "duration": 21,
    "start_time": "2022-11-28T14:36:22.031Z"
   },
   {
    "duration": 29,
    "start_time": "2022-11-28T14:36:22.053Z"
   },
   {
    "duration": 16,
    "start_time": "2022-11-28T14:36:22.084Z"
   },
   {
    "duration": 3,
    "start_time": "2022-11-28T14:36:22.102Z"
   },
   {
    "duration": 16,
    "start_time": "2022-11-28T14:36:22.106Z"
   },
   {
    "duration": 8,
    "start_time": "2022-11-28T14:36:22.123Z"
   },
   {
    "duration": 4,
    "start_time": "2022-11-28T14:36:22.309Z"
   },
   {
    "duration": 14,
    "start_time": "2022-11-28T14:36:22.314Z"
   },
   {
    "duration": 9,
    "start_time": "2022-11-28T14:36:22.329Z"
   },
   {
    "duration": 9,
    "start_time": "2022-11-28T14:36:22.339Z"
   },
   {
    "duration": 2,
    "start_time": "2022-11-28T14:36:22.350Z"
   },
   {
    "duration": 5,
    "start_time": "2022-11-28T14:36:22.354Z"
   },
   {
    "duration": 23,
    "start_time": "2022-11-28T14:36:46.451Z"
   },
   {
    "duration": 7,
    "start_time": "2022-11-28T14:37:14.572Z"
   },
   {
    "duration": 7,
    "start_time": "2022-11-28T14:37:35.825Z"
   },
   {
    "duration": 11,
    "start_time": "2022-11-28T14:38:09.100Z"
   },
   {
    "duration": 8,
    "start_time": "2022-11-28T15:40:33.239Z"
   },
   {
    "duration": 8,
    "start_time": "2022-11-28T15:41:40.269Z"
   },
   {
    "duration": 73,
    "start_time": "2022-11-28T15:51:07.883Z"
   },
   {
    "duration": 14,
    "start_time": "2022-11-28T15:51:16.332Z"
   },
   {
    "duration": 15,
    "start_time": "2022-11-28T15:51:32.150Z"
   },
   {
    "duration": 12,
    "start_time": "2022-11-28T15:51:40.981Z"
   },
   {
    "duration": 12,
    "start_time": "2022-11-28T16:00:27.260Z"
   },
   {
    "duration": 7,
    "start_time": "2022-11-28T16:01:58.164Z"
   },
   {
    "duration": 7,
    "start_time": "2022-11-28T16:02:26.470Z"
   },
   {
    "duration": 9,
    "start_time": "2022-11-28T16:02:47.683Z"
   },
   {
    "duration": 11,
    "start_time": "2022-11-28T16:03:37.655Z"
   },
   {
    "duration": 11,
    "start_time": "2022-11-28T16:06:31.787Z"
   },
   {
    "duration": 6,
    "start_time": "2022-11-28T16:21:05.604Z"
   },
   {
    "duration": 7,
    "start_time": "2022-11-28T16:21:31.798Z"
   },
   {
    "duration": 4,
    "start_time": "2022-11-28T16:21:42.024Z"
   },
   {
    "duration": 4,
    "start_time": "2022-11-28T16:22:04.230Z"
   },
   {
    "duration": 5,
    "start_time": "2022-11-28T16:22:05.885Z"
   },
   {
    "duration": 157,
    "start_time": "2022-11-28T16:22:12.172Z"
   },
   {
    "duration": 29,
    "start_time": "2022-11-28T16:22:20.477Z"
   },
   {
    "duration": 12,
    "start_time": "2022-11-28T16:23:18.619Z"
   },
   {
    "duration": 13,
    "start_time": "2022-11-28T16:38:49.221Z"
   },
   {
    "duration": 18,
    "start_time": "2022-11-28T16:39:23.965Z"
   },
   {
    "duration": 103,
    "start_time": "2022-11-29T16:51:55.395Z"
   },
   {
    "duration": 419,
    "start_time": "2022-11-29T16:53:47.324Z"
   },
   {
    "duration": 329,
    "start_time": "2022-11-29T16:53:47.938Z"
   },
   {
    "duration": 42,
    "start_time": "2022-11-29T16:54:38.522Z"
   },
   {
    "duration": 36,
    "start_time": "2022-11-29T16:54:53.773Z"
   },
   {
    "duration": 34,
    "start_time": "2022-11-29T16:55:24.412Z"
   },
   {
    "duration": 35,
    "start_time": "2022-11-29T16:56:14.372Z"
   },
   {
    "duration": 17,
    "start_time": "2022-11-29T16:57:39.447Z"
   },
   {
    "duration": 34,
    "start_time": "2022-11-29T18:24:24.608Z"
   },
   {
    "duration": 32,
    "start_time": "2022-11-29T18:58:19.946Z"
   },
   {
    "duration": 65,
    "start_time": "2022-11-29T19:00:37.184Z"
   },
   {
    "duration": 33,
    "start_time": "2022-11-29T19:01:04.076Z"
   },
   {
    "duration": 32,
    "start_time": "2022-11-29T19:02:18.626Z"
   },
   {
    "duration": 68,
    "start_time": "2022-11-29T19:31:13.366Z"
   },
   {
    "duration": 444,
    "start_time": "2022-11-29T19:31:19.804Z"
   },
   {
    "duration": 75,
    "start_time": "2022-11-29T19:31:20.250Z"
   },
   {
    "duration": 23,
    "start_time": "2022-11-29T19:31:20.327Z"
   },
   {
    "duration": 32,
    "start_time": "2022-11-29T19:31:20.352Z"
   },
   {
    "duration": 33,
    "start_time": "2022-11-29T19:31:20.385Z"
   },
   {
    "duration": 10,
    "start_time": "2022-11-29T19:31:20.420Z"
   },
   {
    "duration": 39,
    "start_time": "2022-11-29T19:31:20.431Z"
   },
   {
    "duration": 80,
    "start_time": "2022-11-29T19:31:20.471Z"
   },
   {
    "duration": 0,
    "start_time": "2022-11-29T19:31:20.553Z"
   },
   {
    "duration": 0,
    "start_time": "2022-11-29T19:31:20.554Z"
   },
   {
    "duration": 0,
    "start_time": "2022-11-29T19:31:20.555Z"
   },
   {
    "duration": 0,
    "start_time": "2022-11-29T19:31:20.556Z"
   },
   {
    "duration": 0,
    "start_time": "2022-11-29T19:31:20.557Z"
   },
   {
    "duration": 0,
    "start_time": "2022-11-29T19:31:20.558Z"
   },
   {
    "duration": 0,
    "start_time": "2022-11-29T19:31:20.559Z"
   },
   {
    "duration": 0,
    "start_time": "2022-11-29T19:31:20.561Z"
   },
   {
    "duration": 0,
    "start_time": "2022-11-29T19:31:20.561Z"
   },
   {
    "duration": 0,
    "start_time": "2022-11-29T19:31:20.562Z"
   },
   {
    "duration": 0,
    "start_time": "2022-11-29T19:31:20.563Z"
   },
   {
    "duration": 0,
    "start_time": "2022-11-29T19:31:20.564Z"
   },
   {
    "duration": 0,
    "start_time": "2022-11-29T19:31:20.566Z"
   },
   {
    "duration": 0,
    "start_time": "2022-11-29T19:31:20.567Z"
   },
   {
    "duration": 0,
    "start_time": "2022-11-29T19:31:20.568Z"
   },
   {
    "duration": 0,
    "start_time": "2022-11-29T19:31:20.569Z"
   },
   {
    "duration": 0,
    "start_time": "2022-11-29T19:31:20.570Z"
   },
   {
    "duration": 0,
    "start_time": "2022-11-29T19:31:20.571Z"
   },
   {
    "duration": 0,
    "start_time": "2022-11-29T19:31:20.572Z"
   },
   {
    "duration": 0,
    "start_time": "2022-11-29T19:31:20.573Z"
   },
   {
    "duration": 9,
    "start_time": "2022-11-29T19:32:17.736Z"
   },
   {
    "duration": 32,
    "start_time": "2022-11-29T19:32:25.855Z"
   },
   {
    "duration": 12,
    "start_time": "2022-11-29T19:33:01.024Z"
   },
   {
    "duration": 9,
    "start_time": "2022-11-29T19:33:13.223Z"
   },
   {
    "duration": 12,
    "start_time": "2022-11-29T19:33:43.928Z"
   },
   {
    "duration": 8,
    "start_time": "2022-11-29T19:35:58.602Z"
   },
   {
    "duration": 14,
    "start_time": "2022-11-29T19:36:58.778Z"
   },
   {
    "duration": 12,
    "start_time": "2022-11-29T19:37:06.891Z"
   },
   {
    "duration": 13,
    "start_time": "2022-11-29T19:37:13.899Z"
   },
   {
    "duration": 8,
    "start_time": "2022-11-29T19:37:22.547Z"
   },
   {
    "duration": 11,
    "start_time": "2022-11-29T19:37:54.501Z"
   },
   {
    "duration": 6,
    "start_time": "2022-11-29T19:38:15.982Z"
   },
   {
    "duration": 10,
    "start_time": "2022-11-29T19:38:24.892Z"
   },
   {
    "duration": 9,
    "start_time": "2022-11-29T19:38:35.636Z"
   },
   {
    "duration": 4,
    "start_time": "2022-11-29T19:39:49.145Z"
   },
   {
    "duration": 8,
    "start_time": "2022-11-29T19:40:19.414Z"
   },
   {
    "duration": 161,
    "start_time": "2022-11-29T19:41:23.510Z"
   },
   {
    "duration": 9,
    "start_time": "2022-11-29T19:41:41.822Z"
   },
   {
    "duration": 8,
    "start_time": "2022-11-29T19:41:55.465Z"
   },
   {
    "duration": 398,
    "start_time": "2022-11-29T19:42:11.528Z"
   },
   {
    "duration": 80,
    "start_time": "2022-11-29T19:42:11.928Z"
   },
   {
    "duration": 23,
    "start_time": "2022-11-29T19:42:12.010Z"
   },
   {
    "duration": 40,
    "start_time": "2022-11-29T19:42:12.035Z"
   },
   {
    "duration": 38,
    "start_time": "2022-11-29T19:42:12.078Z"
   },
   {
    "duration": 12,
    "start_time": "2022-11-29T19:42:12.118Z"
   },
   {
    "duration": 42,
    "start_time": "2022-11-29T19:42:12.132Z"
   },
   {
    "duration": 8,
    "start_time": "2022-11-29T19:42:12.177Z"
   },
   {
    "duration": 4,
    "start_time": "2022-11-29T19:42:12.213Z"
   },
   {
    "duration": 18,
    "start_time": "2022-11-29T19:42:12.219Z"
   },
   {
    "duration": 11,
    "start_time": "2022-11-29T19:42:12.239Z"
   },
   {
    "duration": 12,
    "start_time": "2022-11-29T19:42:12.252Z"
   },
   {
    "duration": 5,
    "start_time": "2022-11-29T19:42:12.266Z"
   },
   {
    "duration": 61,
    "start_time": "2022-11-29T19:42:12.273Z"
   },
   {
    "duration": 9,
    "start_time": "2022-11-29T19:42:12.336Z"
   },
   {
    "duration": 10,
    "start_time": "2022-11-29T19:42:12.347Z"
   },
   {
    "duration": 14,
    "start_time": "2022-11-29T19:42:12.359Z"
   },
   {
    "duration": 21,
    "start_time": "2022-11-29T19:42:12.375Z"
   },
   {
    "duration": 29,
    "start_time": "2022-11-29T19:42:12.398Z"
   },
   {
    "duration": 4,
    "start_time": "2022-11-29T19:42:12.429Z"
   },
   {
    "duration": 15,
    "start_time": "2022-11-29T19:42:12.434Z"
   },
   {
    "duration": 11,
    "start_time": "2022-11-29T19:42:12.451Z"
   },
   {
    "duration": 4,
    "start_time": "2022-11-29T19:42:12.464Z"
   },
   {
    "duration": 42,
    "start_time": "2022-11-29T19:42:12.470Z"
   },
   {
    "duration": 12,
    "start_time": "2022-11-29T19:42:12.515Z"
   },
   {
    "duration": 38,
    "start_time": "2022-11-29T19:42:12.528Z"
   },
   {
    "duration": 15,
    "start_time": "2022-11-29T19:42:12.567Z"
   },
   {
    "duration": 14,
    "start_time": "2022-11-29T19:42:12.584Z"
   },
   {
    "duration": 34,
    "start_time": "2022-11-29T19:42:57.208Z"
   },
   {
    "duration": 8,
    "start_time": "2022-11-29T19:43:33.816Z"
   },
   {
    "duration": 62,
    "start_time": "2022-11-29T19:46:43.138Z"
   },
   {
    "duration": 9,
    "start_time": "2022-11-29T19:46:56.658Z"
   },
   {
    "duration": 10,
    "start_time": "2022-11-29T20:00:08.939Z"
   },
   {
    "duration": 12,
    "start_time": "2022-11-29T20:00:24.772Z"
   },
   {
    "duration": 10,
    "start_time": "2022-11-29T20:00:31.876Z"
   },
   {
    "duration": 9,
    "start_time": "2022-11-29T20:00:40.044Z"
   },
   {
    "duration": 10,
    "start_time": "2022-11-29T20:00:55.372Z"
   },
   {
    "duration": 18,
    "start_time": "2022-11-29T20:01:45.896Z"
   },
   {
    "duration": 12,
    "start_time": "2022-11-29T20:01:52.132Z"
   },
   {
    "duration": 16,
    "start_time": "2022-11-29T20:02:25.359Z"
   },
   {
    "duration": 9,
    "start_time": "2022-11-29T20:06:41.214Z"
   },
   {
    "duration": 46,
    "start_time": "2022-11-29T20:09:06.563Z"
   },
   {
    "duration": 12,
    "start_time": "2022-11-29T20:09:28.441Z"
   },
   {
    "duration": 11,
    "start_time": "2022-11-29T20:09:36.913Z"
   },
   {
    "duration": 8,
    "start_time": "2022-11-29T20:13:16.124Z"
   },
   {
    "duration": 8,
    "start_time": "2022-11-29T20:14:42.860Z"
   },
   {
    "duration": 7,
    "start_time": "2022-11-29T20:15:36.973Z"
   },
   {
    "duration": 3,
    "start_time": "2022-11-29T20:15:46.315Z"
   },
   {
    "duration": 6,
    "start_time": "2022-11-29T20:15:47.869Z"
   },
   {
    "duration": 9,
    "start_time": "2022-11-29T20:15:53.213Z"
   },
   {
    "duration": 7,
    "start_time": "2022-11-29T20:16:37.733Z"
   },
   {
    "duration": 12,
    "start_time": "2022-11-29T20:18:17.292Z"
   },
   {
    "duration": 13,
    "start_time": "2022-11-29T20:21:08.778Z"
   },
   {
    "duration": 11,
    "start_time": "2022-11-29T20:22:40.843Z"
   },
   {
    "duration": 51,
    "start_time": "2022-11-29T20:23:16.603Z"
   },
   {
    "duration": 13,
    "start_time": "2022-11-29T20:25:59.980Z"
   },
   {
    "duration": 12,
    "start_time": "2022-11-29T20:26:01.421Z"
   },
   {
    "duration": 15,
    "start_time": "2022-11-29T20:26:02.590Z"
   },
   {
    "duration": 6,
    "start_time": "2022-11-29T20:29:23.962Z"
   },
   {
    "duration": 26,
    "start_time": "2022-11-29T20:29:55.032Z"
   },
   {
    "duration": 438,
    "start_time": "2022-11-29T20:52:58.991Z"
   },
   {
    "duration": 74,
    "start_time": "2022-11-29T20:52:59.431Z"
   },
   {
    "duration": 23,
    "start_time": "2022-11-29T20:52:59.507Z"
   },
   {
    "duration": 33,
    "start_time": "2022-11-29T20:52:59.533Z"
   },
   {
    "duration": 15,
    "start_time": "2022-11-29T20:52:59.568Z"
   },
   {
    "duration": 31,
    "start_time": "2022-11-29T20:52:59.586Z"
   },
   {
    "duration": 33,
    "start_time": "2022-11-29T20:52:59.618Z"
   },
   {
    "duration": 10,
    "start_time": "2022-11-29T20:52:59.653Z"
   },
   {
    "duration": 4,
    "start_time": "2022-11-29T20:52:59.665Z"
   },
   {
    "duration": 9,
    "start_time": "2022-11-29T20:52:59.672Z"
   },
   {
    "duration": 32,
    "start_time": "2022-11-29T20:52:59.683Z"
   },
   {
    "duration": 8,
    "start_time": "2022-11-29T20:52:59.717Z"
   },
   {
    "duration": 5,
    "start_time": "2022-11-29T20:52:59.726Z"
   },
   {
    "duration": 34,
    "start_time": "2022-11-29T20:52:59.732Z"
   },
   {
    "duration": 10,
    "start_time": "2022-11-29T20:52:59.768Z"
   },
   {
    "duration": 35,
    "start_time": "2022-11-29T20:52:59.780Z"
   },
   {
    "duration": 12,
    "start_time": "2022-11-29T20:52:59.816Z"
   },
   {
    "duration": 24,
    "start_time": "2022-11-29T20:52:59.830Z"
   },
   {
    "duration": 19,
    "start_time": "2022-11-29T20:52:59.856Z"
   },
   {
    "duration": 5,
    "start_time": "2022-11-29T20:52:59.876Z"
   },
   {
    "duration": 10,
    "start_time": "2022-11-29T20:52:59.912Z"
   },
   {
    "duration": 10,
    "start_time": "2022-11-29T20:52:59.924Z"
   },
   {
    "duration": 4,
    "start_time": "2022-11-29T20:52:59.935Z"
   },
   {
    "duration": 11,
    "start_time": "2022-11-29T20:52:59.941Z"
   },
   {
    "duration": 10,
    "start_time": "2022-11-29T20:52:59.954Z"
   },
   {
    "duration": 3,
    "start_time": "2022-11-29T20:52:59.966Z"
   },
   {
    "duration": 47,
    "start_time": "2022-11-29T20:52:59.971Z"
   },
   {
    "duration": 17,
    "start_time": "2022-11-29T20:53:00.021Z"
   },
   {
    "duration": 24,
    "start_time": "2022-11-29T20:53:00.039Z"
   },
   {
    "duration": 29,
    "start_time": "2022-11-29T20:53:00.065Z"
   },
   {
    "duration": 40,
    "start_time": "2022-11-29T20:53:00.096Z"
   },
   {
    "duration": 25,
    "start_time": "2022-11-29T20:53:00.138Z"
   },
   {
    "duration": 45,
    "start_time": "2022-12-11T19:32:06.997Z"
   }
  ],
  "colab": {
   "name": "dpp_template_part2.ipynb",
   "provenance": []
  },
  "kernelspec": {
   "display_name": "Python 3 (ipykernel)",
   "language": "python",
   "name": "python3"
  },
  "language_info": {
   "codemirror_mode": {
    "name": "ipython",
    "version": 3
   },
   "file_extension": ".py",
   "mimetype": "text/x-python",
   "name": "python",
   "nbconvert_exporter": "python",
   "pygments_lexer": "ipython3",
   "version": "3.9.5"
  },
  "toc": {
   "base_numbering": 1,
   "nav_menu": {},
   "number_sections": true,
   "sideBar": true,
   "skip_h1_title": true,
   "title_cell": "Table of Contents",
   "title_sidebar": "Contents",
   "toc_cell": false,
   "toc_position": {},
   "toc_section_display": true,
   "toc_window_display": false
  }
 },
 "nbformat": 4,
 "nbformat_minor": 5
}

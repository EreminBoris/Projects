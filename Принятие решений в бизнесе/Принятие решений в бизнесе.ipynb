{
 "cells": [
  {
   "cell_type": "markdown",
   "metadata": {},
   "source": [
    "  **Описание проекта**\n",
    "    \n",
    "    Вы — аналитик крупного интернет-магазина. Вместе с отделом маркетинга вы подготовили список гипотез для увеличения выручки"
   ]
  },
  {
   "cell_type": "markdown",
   "metadata": {},
   "source": [
    "**Описание данных**"
   ]
  },
  {
   "cell_type": "markdown",
   "metadata": {},
   "source": [
    "    -Hypothesis — краткое описание гипотезы;\n",
    "    -Reach — охват пользователей по 10-балльной шкале;\n",
    "    -Impact — влияние на пользователей по 10-балльной шкале;\n",
    "    -Confidence — уверенность в гипотезе по 10-балльной шкале;\n",
    "    -Efforts — затраты ресурсов на проверку гипотезы по 10-балльной шкале. Чем больше значение Efforts, тем дороже проверка гипотезы."
   ]
  },
  {
   "cell_type": "markdown",
   "metadata": {},
   "source": [
    "## Часть 1. Приоритизация гипотез. ##"
   ]
  },
  {
   "cell_type": "code",
   "execution_count": 1,
   "metadata": {},
   "outputs": [],
   "source": [
    "import numpy as np\n",
    "import pandas as pd\n",
    "import matplotlib.pyplot as plt\n",
    "import seaborn as sns\n",
    "import scipy.stats as stats\n",
    "import datetime as dt\n"
   ]
  },
  {
   "cell_type": "code",
   "execution_count": 2,
   "metadata": {},
   "outputs": [],
   "source": [
    "data = pd.read_csv('/datasets/hypothesis.csv', sep=',')"
   ]
  },
  {
   "cell_type": "code",
   "execution_count": 3,
   "metadata": {},
   "outputs": [
    {
     "name": "stdout",
     "output_type": "stream",
     "text": [
      "<class 'pandas.core.frame.DataFrame'>\n",
      "RangeIndex: 9 entries, 0 to 8\n",
      "Data columns (total 5 columns):\n",
      " #   Column      Non-Null Count  Dtype \n",
      "---  ------      --------------  ----- \n",
      " 0   Hypothesis  9 non-null      object\n",
      " 1   Reach       9 non-null      int64 \n",
      " 2   Impact      9 non-null      int64 \n",
      " 3   Confidence  9 non-null      int64 \n",
      " 4   Efforts     9 non-null      int64 \n",
      "dtypes: int64(4), object(1)\n",
      "memory usage: 488.0+ bytes\n"
     ]
    }
   ],
   "source": [
    "data.info()"
   ]
  },
  {
   "cell_type": "code",
   "execution_count": 4,
   "metadata": {},
   "outputs": [
    {
     "data": {
      "text/html": [
       "<div>\n",
       "<style scoped>\n",
       "    .dataframe tbody tr th:only-of-type {\n",
       "        vertical-align: middle;\n",
       "    }\n",
       "\n",
       "    .dataframe tbody tr th {\n",
       "        vertical-align: top;\n",
       "    }\n",
       "\n",
       "    .dataframe thead th {\n",
       "        text-align: right;\n",
       "    }\n",
       "</style>\n",
       "<table border=\"1\" class=\"dataframe\">\n",
       "  <thead>\n",
       "    <tr style=\"text-align: right;\">\n",
       "      <th></th>\n",
       "      <th>Hypothesis</th>\n",
       "      <th>Reach</th>\n",
       "      <th>Impact</th>\n",
       "      <th>Confidence</th>\n",
       "      <th>Efforts</th>\n",
       "    </tr>\n",
       "  </thead>\n",
       "  <tbody>\n",
       "    <tr>\n",
       "      <th>0</th>\n",
       "      <td>Добавить два новых канала привлечения трафика,...</td>\n",
       "      <td>3</td>\n",
       "      <td>10</td>\n",
       "      <td>8</td>\n",
       "      <td>6</td>\n",
       "    </tr>\n",
       "    <tr>\n",
       "      <th>1</th>\n",
       "      <td>Запустить собственную службу доставки, что сок...</td>\n",
       "      <td>2</td>\n",
       "      <td>5</td>\n",
       "      <td>4</td>\n",
       "      <td>10</td>\n",
       "    </tr>\n",
       "    <tr>\n",
       "      <th>2</th>\n",
       "      <td>Добавить блоки рекомендаций товаров на сайт ин...</td>\n",
       "      <td>8</td>\n",
       "      <td>3</td>\n",
       "      <td>7</td>\n",
       "      <td>3</td>\n",
       "    </tr>\n",
       "    <tr>\n",
       "      <th>3</th>\n",
       "      <td>Изменить структура категорий, что увеличит кон...</td>\n",
       "      <td>8</td>\n",
       "      <td>3</td>\n",
       "      <td>3</td>\n",
       "      <td>8</td>\n",
       "    </tr>\n",
       "    <tr>\n",
       "      <th>4</th>\n",
       "      <td>Изменить цвет фона главной страницы, чтобы уве...</td>\n",
       "      <td>3</td>\n",
       "      <td>1</td>\n",
       "      <td>1</td>\n",
       "      <td>1</td>\n",
       "    </tr>\n",
       "    <tr>\n",
       "      <th>5</th>\n",
       "      <td>Добавить страницу отзывов клиентов о магазине,...</td>\n",
       "      <td>3</td>\n",
       "      <td>2</td>\n",
       "      <td>2</td>\n",
       "      <td>3</td>\n",
       "    </tr>\n",
       "    <tr>\n",
       "      <th>6</th>\n",
       "      <td>Показать на главной странице баннеры с актуаль...</td>\n",
       "      <td>5</td>\n",
       "      <td>3</td>\n",
       "      <td>8</td>\n",
       "      <td>3</td>\n",
       "    </tr>\n",
       "    <tr>\n",
       "      <th>7</th>\n",
       "      <td>Добавить форму подписки на все основные страни...</td>\n",
       "      <td>10</td>\n",
       "      <td>7</td>\n",
       "      <td>8</td>\n",
       "      <td>5</td>\n",
       "    </tr>\n",
       "    <tr>\n",
       "      <th>8</th>\n",
       "      <td>Запустить акцию, дающую скидку на товар в день...</td>\n",
       "      <td>1</td>\n",
       "      <td>9</td>\n",
       "      <td>9</td>\n",
       "      <td>5</td>\n",
       "    </tr>\n",
       "  </tbody>\n",
       "</table>\n",
       "</div>"
      ],
      "text/plain": [
       "                                          Hypothesis  Reach  Impact  \\\n",
       "0  Добавить два новых канала привлечения трафика,...      3      10   \n",
       "1  Запустить собственную службу доставки, что сок...      2       5   \n",
       "2  Добавить блоки рекомендаций товаров на сайт ин...      8       3   \n",
       "3  Изменить структура категорий, что увеличит кон...      8       3   \n",
       "4  Изменить цвет фона главной страницы, чтобы уве...      3       1   \n",
       "5  Добавить страницу отзывов клиентов о магазине,...      3       2   \n",
       "6  Показать на главной странице баннеры с актуаль...      5       3   \n",
       "7  Добавить форму подписки на все основные страни...     10       7   \n",
       "8  Запустить акцию, дающую скидку на товар в день...      1       9   \n",
       "\n",
       "   Confidence  Efforts  \n",
       "0           8        6  \n",
       "1           4       10  \n",
       "2           7        3  \n",
       "3           3        8  \n",
       "4           1        1  \n",
       "5           2        3  \n",
       "6           8        3  \n",
       "7           8        5  \n",
       "8           9        5  "
      ]
     },
     "execution_count": 4,
     "metadata": {},
     "output_type": "execute_result"
    }
   ],
   "source": [
    "data"
   ]
  },
  {
   "cell_type": "code",
   "execution_count": 5,
   "metadata": {},
   "outputs": [],
   "source": [
    "data.columns = map(str.lower, data.columns)"
   ]
  },
  {
   "cell_type": "code",
   "execution_count": 6,
   "metadata": {
    "scrolled": true
   },
   "outputs": [
    {
     "data": {
      "text/html": [
       "<div>\n",
       "<style scoped>\n",
       "    .dataframe tbody tr th:only-of-type {\n",
       "        vertical-align: middle;\n",
       "    }\n",
       "\n",
       "    .dataframe tbody tr th {\n",
       "        vertical-align: top;\n",
       "    }\n",
       "\n",
       "    .dataframe thead th {\n",
       "        text-align: right;\n",
       "    }\n",
       "</style>\n",
       "<table border=\"1\" class=\"dataframe\">\n",
       "  <thead>\n",
       "    <tr style=\"text-align: right;\">\n",
       "      <th></th>\n",
       "      <th>hypothesis</th>\n",
       "      <th>reach</th>\n",
       "      <th>impact</th>\n",
       "      <th>confidence</th>\n",
       "      <th>efforts</th>\n",
       "    </tr>\n",
       "  </thead>\n",
       "  <tbody>\n",
       "    <tr>\n",
       "      <th>0</th>\n",
       "      <td>Добавить два новых канала привлечения трафика,...</td>\n",
       "      <td>3</td>\n",
       "      <td>10</td>\n",
       "      <td>8</td>\n",
       "      <td>6</td>\n",
       "    </tr>\n",
       "    <tr>\n",
       "      <th>1</th>\n",
       "      <td>Запустить собственную службу доставки, что сок...</td>\n",
       "      <td>2</td>\n",
       "      <td>5</td>\n",
       "      <td>4</td>\n",
       "      <td>10</td>\n",
       "    </tr>\n",
       "    <tr>\n",
       "      <th>2</th>\n",
       "      <td>Добавить блоки рекомендаций товаров на сайт ин...</td>\n",
       "      <td>8</td>\n",
       "      <td>3</td>\n",
       "      <td>7</td>\n",
       "      <td>3</td>\n",
       "    </tr>\n",
       "    <tr>\n",
       "      <th>3</th>\n",
       "      <td>Изменить структура категорий, что увеличит кон...</td>\n",
       "      <td>8</td>\n",
       "      <td>3</td>\n",
       "      <td>3</td>\n",
       "      <td>8</td>\n",
       "    </tr>\n",
       "    <tr>\n",
       "      <th>4</th>\n",
       "      <td>Изменить цвет фона главной страницы, чтобы уве...</td>\n",
       "      <td>3</td>\n",
       "      <td>1</td>\n",
       "      <td>1</td>\n",
       "      <td>1</td>\n",
       "    </tr>\n",
       "    <tr>\n",
       "      <th>5</th>\n",
       "      <td>Добавить страницу отзывов клиентов о магазине,...</td>\n",
       "      <td>3</td>\n",
       "      <td>2</td>\n",
       "      <td>2</td>\n",
       "      <td>3</td>\n",
       "    </tr>\n",
       "    <tr>\n",
       "      <th>6</th>\n",
       "      <td>Показать на главной странице баннеры с актуаль...</td>\n",
       "      <td>5</td>\n",
       "      <td>3</td>\n",
       "      <td>8</td>\n",
       "      <td>3</td>\n",
       "    </tr>\n",
       "    <tr>\n",
       "      <th>7</th>\n",
       "      <td>Добавить форму подписки на все основные страни...</td>\n",
       "      <td>10</td>\n",
       "      <td>7</td>\n",
       "      <td>8</td>\n",
       "      <td>5</td>\n",
       "    </tr>\n",
       "    <tr>\n",
       "      <th>8</th>\n",
       "      <td>Запустить акцию, дающую скидку на товар в день...</td>\n",
       "      <td>1</td>\n",
       "      <td>9</td>\n",
       "      <td>9</td>\n",
       "      <td>5</td>\n",
       "    </tr>\n",
       "  </tbody>\n",
       "</table>\n",
       "</div>"
      ],
      "text/plain": [
       "                                          hypothesis  reach  impact  \\\n",
       "0  Добавить два новых канала привлечения трафика,...      3      10   \n",
       "1  Запустить собственную службу доставки, что сок...      2       5   \n",
       "2  Добавить блоки рекомендаций товаров на сайт ин...      8       3   \n",
       "3  Изменить структура категорий, что увеличит кон...      8       3   \n",
       "4  Изменить цвет фона главной страницы, чтобы уве...      3       1   \n",
       "5  Добавить страницу отзывов клиентов о магазине,...      3       2   \n",
       "6  Показать на главной странице баннеры с актуаль...      5       3   \n",
       "7  Добавить форму подписки на все основные страни...     10       7   \n",
       "8  Запустить акцию, дающую скидку на товар в день...      1       9   \n",
       "\n",
       "   confidence  efforts  \n",
       "0           8        6  \n",
       "1           4       10  \n",
       "2           7        3  \n",
       "3           3        8  \n",
       "4           1        1  \n",
       "5           2        3  \n",
       "6           8        3  \n",
       "7           8        5  \n",
       "8           9        5  "
      ]
     },
     "execution_count": 6,
     "metadata": {},
     "output_type": "execute_result"
    }
   ],
   "source": [
    "data"
   ]
  },
  {
   "cell_type": "markdown",
   "metadata": {},
   "source": [
    " Типы данных верны, дубликатов и пропусков нет, названия столбцов приведены к нижнему регистру.Можно начинать анализ."
   ]
  },
  {
   "cell_type": "code",
   "execution_count": 7,
   "metadata": {},
   "outputs": [
    {
     "data": {
      "text/html": [
       "<div>\n",
       "<style scoped>\n",
       "    .dataframe tbody tr th:only-of-type {\n",
       "        vertical-align: middle;\n",
       "    }\n",
       "\n",
       "    .dataframe tbody tr th {\n",
       "        vertical-align: top;\n",
       "    }\n",
       "\n",
       "    .dataframe thead th {\n",
       "        text-align: right;\n",
       "    }\n",
       "</style>\n",
       "<table border=\"1\" class=\"dataframe\">\n",
       "  <thead>\n",
       "    <tr style=\"text-align: right;\">\n",
       "      <th></th>\n",
       "      <th>hypothesis</th>\n",
       "      <th>ICE</th>\n",
       "    </tr>\n",
       "  </thead>\n",
       "  <tbody>\n",
       "    <tr>\n",
       "      <th>8</th>\n",
       "      <td>Запустить акцию, дающую скидку на товар в день рождения</td>\n",
       "      <td>16.200000</td>\n",
       "    </tr>\n",
       "    <tr>\n",
       "      <th>0</th>\n",
       "      <td>Добавить два новых канала привлечения трафика, что позволит привлекать на 30% больше пользователей</td>\n",
       "      <td>13.333333</td>\n",
       "    </tr>\n",
       "    <tr>\n",
       "      <th>7</th>\n",
       "      <td>Добавить форму подписки на все основные страницы, чтобы собрать базу клиентов для email-рассылок</td>\n",
       "      <td>11.200000</td>\n",
       "    </tr>\n",
       "    <tr>\n",
       "      <th>6</th>\n",
       "      <td>Показать на главной странице баннеры с актуальными акциями и распродажами, чтобы увеличить конверсию</td>\n",
       "      <td>8.000000</td>\n",
       "    </tr>\n",
       "    <tr>\n",
       "      <th>2</th>\n",
       "      <td>Добавить блоки рекомендаций товаров на сайт интернет магазина, чтобы повысить конверсию и средний чек заказа</td>\n",
       "      <td>7.000000</td>\n",
       "    </tr>\n",
       "    <tr>\n",
       "      <th>1</th>\n",
       "      <td>Запустить собственную службу доставки, что сократит срок доставки заказов</td>\n",
       "      <td>2.000000</td>\n",
       "    </tr>\n",
       "    <tr>\n",
       "      <th>5</th>\n",
       "      <td>Добавить страницу отзывов клиентов о магазине, что позволит увеличить количество заказов</td>\n",
       "      <td>1.333333</td>\n",
       "    </tr>\n",
       "    <tr>\n",
       "      <th>3</th>\n",
       "      <td>Изменить структура категорий, что увеличит конверсию, т.к. пользователи быстрее найдут нужный товар</td>\n",
       "      <td>1.125000</td>\n",
       "    </tr>\n",
       "    <tr>\n",
       "      <th>4</th>\n",
       "      <td>Изменить цвет фона главной страницы, чтобы увеличить вовлеченность пользователей</td>\n",
       "      <td>1.000000</td>\n",
       "    </tr>\n",
       "  </tbody>\n",
       "</table>\n",
       "</div>"
      ],
      "text/plain": [
       "                                                                                                     hypothesis  \\\n",
       "8                                                       Запустить акцию, дающую скидку на товар в день рождения   \n",
       "0            Добавить два новых канала привлечения трафика, что позволит привлекать на 30% больше пользователей   \n",
       "7              Добавить форму подписки на все основные страницы, чтобы собрать базу клиентов для email-рассылок   \n",
       "6          Показать на главной странице баннеры с актуальными акциями и распродажами, чтобы увеличить конверсию   \n",
       "2  Добавить блоки рекомендаций товаров на сайт интернет магазина, чтобы повысить конверсию и средний чек заказа   \n",
       "1                                     Запустить собственную службу доставки, что сократит срок доставки заказов   \n",
       "5                      Добавить страницу отзывов клиентов о магазине, что позволит увеличить количество заказов   \n",
       "3           Изменить структура категорий, что увеличит конверсию, т.к. пользователи быстрее найдут нужный товар   \n",
       "4                              Изменить цвет фона главной страницы, чтобы увеличить вовлеченность пользователей   \n",
       "\n",
       "         ICE  \n",
       "8  16.200000  \n",
       "0  13.333333  \n",
       "7  11.200000  \n",
       "6   8.000000  \n",
       "2   7.000000  \n",
       "1   2.000000  \n",
       "5   1.333333  \n",
       "3   1.125000  \n",
       "4   1.000000  "
      ]
     },
     "execution_count": 7,
     "metadata": {},
     "output_type": "execute_result"
    }
   ],
   "source": [
    "data['ICE'] = (data['impact']*data['confidence'])/data['efforts']\n",
    "pd.options.display.max_colwidth = 120\n",
    "data[['hypothesis','ICE']].sort_values(by='ICE', ascending =False)"
   ]
  },
  {
   "cell_type": "code",
   "execution_count": 8,
   "metadata": {},
   "outputs": [
    {
     "data": {
      "text/html": [
       "<div>\n",
       "<style scoped>\n",
       "    .dataframe tbody tr th:only-of-type {\n",
       "        vertical-align: middle;\n",
       "    }\n",
       "\n",
       "    .dataframe tbody tr th {\n",
       "        vertical-align: top;\n",
       "    }\n",
       "\n",
       "    .dataframe thead th {\n",
       "        text-align: right;\n",
       "    }\n",
       "</style>\n",
       "<table border=\"1\" class=\"dataframe\">\n",
       "  <thead>\n",
       "    <tr style=\"text-align: right;\">\n",
       "      <th></th>\n",
       "      <th>hypothesis</th>\n",
       "      <th>RICE</th>\n",
       "    </tr>\n",
       "  </thead>\n",
       "  <tbody>\n",
       "    <tr>\n",
       "      <th>7</th>\n",
       "      <td>Добавить форму подписки на все основные страницы, чтобы собрать базу клиентов для email-рассылок</td>\n",
       "      <td>112.0</td>\n",
       "    </tr>\n",
       "    <tr>\n",
       "      <th>2</th>\n",
       "      <td>Добавить блоки рекомендаций товаров на сайт интернет магазина, чтобы повысить конверсию и средний чек заказа</td>\n",
       "      <td>56.0</td>\n",
       "    </tr>\n",
       "    <tr>\n",
       "      <th>0</th>\n",
       "      <td>Добавить два новых канала привлечения трафика, что позволит привлекать на 30% больше пользователей</td>\n",
       "      <td>40.0</td>\n",
       "    </tr>\n",
       "    <tr>\n",
       "      <th>6</th>\n",
       "      <td>Показать на главной странице баннеры с актуальными акциями и распродажами, чтобы увеличить конверсию</td>\n",
       "      <td>40.0</td>\n",
       "    </tr>\n",
       "    <tr>\n",
       "      <th>8</th>\n",
       "      <td>Запустить акцию, дающую скидку на товар в день рождения</td>\n",
       "      <td>16.2</td>\n",
       "    </tr>\n",
       "    <tr>\n",
       "      <th>3</th>\n",
       "      <td>Изменить структура категорий, что увеличит конверсию, т.к. пользователи быстрее найдут нужный товар</td>\n",
       "      <td>9.0</td>\n",
       "    </tr>\n",
       "    <tr>\n",
       "      <th>1</th>\n",
       "      <td>Запустить собственную службу доставки, что сократит срок доставки заказов</td>\n",
       "      <td>4.0</td>\n",
       "    </tr>\n",
       "    <tr>\n",
       "      <th>5</th>\n",
       "      <td>Добавить страницу отзывов клиентов о магазине, что позволит увеличить количество заказов</td>\n",
       "      <td>4.0</td>\n",
       "    </tr>\n",
       "    <tr>\n",
       "      <th>4</th>\n",
       "      <td>Изменить цвет фона главной страницы, чтобы увеличить вовлеченность пользователей</td>\n",
       "      <td>3.0</td>\n",
       "    </tr>\n",
       "  </tbody>\n",
       "</table>\n",
       "</div>"
      ],
      "text/plain": [
       "                                                                                                     hypothesis  \\\n",
       "7              Добавить форму подписки на все основные страницы, чтобы собрать базу клиентов для email-рассылок   \n",
       "2  Добавить блоки рекомендаций товаров на сайт интернет магазина, чтобы повысить конверсию и средний чек заказа   \n",
       "0            Добавить два новых канала привлечения трафика, что позволит привлекать на 30% больше пользователей   \n",
       "6          Показать на главной странице баннеры с актуальными акциями и распродажами, чтобы увеличить конверсию   \n",
       "8                                                       Запустить акцию, дающую скидку на товар в день рождения   \n",
       "3           Изменить структура категорий, что увеличит конверсию, т.к. пользователи быстрее найдут нужный товар   \n",
       "1                                     Запустить собственную службу доставки, что сократит срок доставки заказов   \n",
       "5                      Добавить страницу отзывов клиентов о магазине, что позволит увеличить количество заказов   \n",
       "4                              Изменить цвет фона главной страницы, чтобы увеличить вовлеченность пользователей   \n",
       "\n",
       "    RICE  \n",
       "7  112.0  \n",
       "2   56.0  \n",
       "0   40.0  \n",
       "6   40.0  \n",
       "8   16.2  \n",
       "3    9.0  \n",
       "1    4.0  \n",
       "5    4.0  \n",
       "4    3.0  "
      ]
     },
     "execution_count": 8,
     "metadata": {},
     "output_type": "execute_result"
    }
   ],
   "source": [
    "data['RICE'] = (data['reach']*data['impact']*data['confidence'])/data['efforts']\n",
    "pd.options.display.max_colwidth = 120\n",
    "data[['hypothesis','RICE']].sort_values(by = 'RICE', ascending = False)"
   ]
  },
  {
   "cell_type": "markdown",
   "metadata": {},
   "source": [
    "**ВЫВОД**: при замене ICE на RICE меняется приоритезация гипотез, однако, гипотезы о добавлении формы подписки на все основные страницы, чтобы собрать базу клиентов для email-рассылок\t и о добавлении двух новых канала привлечения трафика, что позволит привлекать на 30% больше пользователей,  остаются в первой тройке гипотез, на них стоит сделать ставку и протестировать , а гипотеза с индексом 8 по ICE была лидером, однако у нее слишком низкий охват и по охвату она опустилась на 5 место."
   ]
  },
  {
   "cell_type": "markdown",
   "metadata": {},
   "source": [
    "## Часть 2 Анализ A/B-теста ##"
   ]
  },
  {
   "cell_type": "markdown",
   "metadata": {},
   "source": [
    "**Описание данных**"
   ]
  },
  {
   "cell_type": "markdown",
   "metadata": {},
   "source": [
    "**Датасет `orders`**\n",
    "    \n",
    "    transactionId — идентификатор заказа;\n",
    "    visitorId — идентификатор пользователя, совершившего заказ;\n",
    "    date — дата, когда был совершён заказ;\n",
    "    revenue — выручка заказа;\n",
    "    group — группа A/B-теста, в которую попал заказ.\n"
   ]
  },
  {
   "cell_type": "markdown",
   "metadata": {},
   "source": [
    "**Датасет `visitors`**\n",
    "    \n",
    "    date — дата;\n",
    "    group — группа A/B-теста;\n",
    "    visitors — количество пользователей в указанную дату в указанной группе A/B-теста\n"
   ]
  },
  {
   "cell_type": "markdown",
   "metadata": {},
   "source": [
    "**предподготовка данных**"
   ]
  },
  {
   "cell_type": "code",
   "execution_count": 9,
   "metadata": {},
   "outputs": [],
   "source": [
    "orders = pd.read_csv('/datasets/orders.csv', sep=',')\n",
    "visitors = pd.read_csv('/datasets/visitors.csv', sep=',')"
   ]
  },
  {
   "cell_type": "code",
   "execution_count": 10,
   "metadata": {},
   "outputs": [
    {
     "data": {
      "text/plain": [
       "(   transactionId   visitorId        date  revenue group\n",
       " 0     3667963787  3312258926  2019-08-15     1650     B\n",
       " 1     2804400009  3642806036  2019-08-15      730     B\n",
       " 2     2961555356  4069496402  2019-08-15      400     A\n",
       " 3     3797467345  1196621759  2019-08-15     9759     B\n",
       " 4     2282983706  2322279887  2019-08-15     2308     B,\n",
       "          date group  visitors\n",
       " 0  2019-08-01     A       719\n",
       " 1  2019-08-02     A       619\n",
       " 2  2019-08-03     A       507\n",
       " 3  2019-08-04     A       717\n",
       " 4  2019-08-05     A       756)"
      ]
     },
     "execution_count": 10,
     "metadata": {},
     "output_type": "execute_result"
    }
   ],
   "source": [
    "orders.head(), visitors.head()"
   ]
  },
  {
   "cell_type": "code",
   "execution_count": 11,
   "metadata": {},
   "outputs": [
    {
     "name": "stdout",
     "output_type": "stream",
     "text": [
      "<class 'pandas.core.frame.DataFrame'>\n",
      "RangeIndex: 1197 entries, 0 to 1196\n",
      "Data columns (total 5 columns):\n",
      " #   Column         Non-Null Count  Dtype \n",
      "---  ------         --------------  ----- \n",
      " 0   transactionId  1197 non-null   int64 \n",
      " 1   visitorId      1197 non-null   int64 \n",
      " 2   date           1197 non-null   object\n",
      " 3   revenue        1197 non-null   int64 \n",
      " 4   group          1197 non-null   object\n",
      "dtypes: int64(3), object(2)\n",
      "memory usage: 46.9+ KB\n"
     ]
    }
   ],
   "source": [
    "orders.info()"
   ]
  },
  {
   "cell_type": "code",
   "execution_count": 12,
   "metadata": {},
   "outputs": [
    {
     "data": {
      "text/html": [
       "<div>\n",
       "<style scoped>\n",
       "    .dataframe tbody tr th:only-of-type {\n",
       "        vertical-align: middle;\n",
       "    }\n",
       "\n",
       "    .dataframe tbody tr th {\n",
       "        vertical-align: top;\n",
       "    }\n",
       "\n",
       "    .dataframe thead th {\n",
       "        text-align: right;\n",
       "    }\n",
       "</style>\n",
       "<table border=\"1\" class=\"dataframe\">\n",
       "  <thead>\n",
       "    <tr style=\"text-align: right;\">\n",
       "      <th></th>\n",
       "      <th>transactionId</th>\n",
       "      <th>visitorId</th>\n",
       "      <th>date</th>\n",
       "      <th>revenue</th>\n",
       "      <th>group</th>\n",
       "    </tr>\n",
       "  </thead>\n",
       "  <tbody>\n",
       "    <tr>\n",
       "      <th>0</th>\n",
       "      <td>3667963787</td>\n",
       "      <td>3312258926</td>\n",
       "      <td>2019-08-15</td>\n",
       "      <td>1650</td>\n",
       "      <td>B</td>\n",
       "    </tr>\n",
       "    <tr>\n",
       "      <th>1</th>\n",
       "      <td>2804400009</td>\n",
       "      <td>3642806036</td>\n",
       "      <td>2019-08-15</td>\n",
       "      <td>730</td>\n",
       "      <td>B</td>\n",
       "    </tr>\n",
       "    <tr>\n",
       "      <th>2</th>\n",
       "      <td>2961555356</td>\n",
       "      <td>4069496402</td>\n",
       "      <td>2019-08-15</td>\n",
       "      <td>400</td>\n",
       "      <td>A</td>\n",
       "    </tr>\n",
       "    <tr>\n",
       "      <th>3</th>\n",
       "      <td>3797467345</td>\n",
       "      <td>1196621759</td>\n",
       "      <td>2019-08-15</td>\n",
       "      <td>9759</td>\n",
       "      <td>B</td>\n",
       "    </tr>\n",
       "    <tr>\n",
       "      <th>4</th>\n",
       "      <td>2282983706</td>\n",
       "      <td>2322279887</td>\n",
       "      <td>2019-08-15</td>\n",
       "      <td>2308</td>\n",
       "      <td>B</td>\n",
       "    </tr>\n",
       "  </tbody>\n",
       "</table>\n",
       "</div>"
      ],
      "text/plain": [
       "   transactionId   visitorId        date  revenue group\n",
       "0     3667963787  3312258926  2019-08-15     1650     B\n",
       "1     2804400009  3642806036  2019-08-15      730     B\n",
       "2     2961555356  4069496402  2019-08-15      400     A\n",
       "3     3797467345  1196621759  2019-08-15     9759     B\n",
       "4     2282983706  2322279887  2019-08-15     2308     B"
      ]
     },
     "execution_count": 12,
     "metadata": {},
     "output_type": "execute_result"
    }
   ],
   "source": [
    "orders.head()"
   ]
  },
  {
   "cell_type": "markdown",
   "metadata": {},
   "source": [
    "Поменяем тип данных в столбце `date` на `datetime`"
   ]
  },
  {
   "cell_type": "code",
   "execution_count": 13,
   "metadata": {},
   "outputs": [],
   "source": [
    "orders[\"date\"] = orders[\"date\"].map(lambda x: dt.datetime.strptime(x, '%Y-%m-%d'))"
   ]
  },
  {
   "cell_type": "code",
   "execution_count": 14,
   "metadata": {},
   "outputs": [
    {
     "name": "stdout",
     "output_type": "stream",
     "text": [
      "<class 'pandas.core.frame.DataFrame'>\n",
      "RangeIndex: 1197 entries, 0 to 1196\n",
      "Data columns (total 5 columns):\n",
      " #   Column         Non-Null Count  Dtype         \n",
      "---  ------         --------------  -----         \n",
      " 0   transactionId  1197 non-null   int64         \n",
      " 1   visitorId      1197 non-null   int64         \n",
      " 2   date           1197 non-null   datetime64[ns]\n",
      " 3   revenue        1197 non-null   int64         \n",
      " 4   group          1197 non-null   object        \n",
      "dtypes: datetime64[ns](1), int64(3), object(1)\n",
      "memory usage: 46.9+ KB\n"
     ]
    }
   ],
   "source": [
    "orders.info()"
   ]
  },
  {
   "cell_type": "markdown",
   "metadata": {},
   "source": [
    "проверка на дубликаты"
   ]
  },
  {
   "cell_type": "code",
   "execution_count": 15,
   "metadata": {},
   "outputs": [
    {
     "data": {
      "text/plain": [
       "0"
      ]
     },
     "execution_count": 15,
     "metadata": {},
     "output_type": "execute_result"
    }
   ],
   "source": [
    "orders.duplicated().sum()"
   ]
  },
  {
   "cell_type": "markdown",
   "metadata": {},
   "source": [
    "проверка на пропуски"
   ]
  },
  {
   "cell_type": "code",
   "execution_count": 16,
   "metadata": {
    "scrolled": false
   },
   "outputs": [
    {
     "data": {
      "text/plain": [
       "transactionId    0\n",
       "visitorId        0\n",
       "date             0\n",
       "revenue          0\n",
       "group            0\n",
       "dtype: int64"
      ]
     },
     "execution_count": 16,
     "metadata": {},
     "output_type": "execute_result"
    }
   ],
   "source": [
    "orders.isna().sum()"
   ]
  },
  {
   "cell_type": "markdown",
   "metadata": {},
   "source": [
    "В датасете `orders` пропусков и дубликатов нет, все типы данных верны."
   ]
  },
  {
   "cell_type": "code",
   "execution_count": 17,
   "metadata": {},
   "outputs": [
    {
     "name": "stdout",
     "output_type": "stream",
     "text": [
      "<class 'pandas.core.frame.DataFrame'>\n",
      "RangeIndex: 62 entries, 0 to 61\n",
      "Data columns (total 3 columns):\n",
      " #   Column    Non-Null Count  Dtype \n",
      "---  ------    --------------  ----- \n",
      " 0   date      62 non-null     object\n",
      " 1   group     62 non-null     object\n",
      " 2   visitors  62 non-null     int64 \n",
      "dtypes: int64(1), object(2)\n",
      "memory usage: 1.6+ KB\n"
     ]
    }
   ],
   "source": [
    "visitors.info()"
   ]
  },
  {
   "cell_type": "code",
   "execution_count": 18,
   "metadata": {},
   "outputs": [
    {
     "data": {
      "text/html": [
       "<div>\n",
       "<style scoped>\n",
       "    .dataframe tbody tr th:only-of-type {\n",
       "        vertical-align: middle;\n",
       "    }\n",
       "\n",
       "    .dataframe tbody tr th {\n",
       "        vertical-align: top;\n",
       "    }\n",
       "\n",
       "    .dataframe thead th {\n",
       "        text-align: right;\n",
       "    }\n",
       "</style>\n",
       "<table border=\"1\" class=\"dataframe\">\n",
       "  <thead>\n",
       "    <tr style=\"text-align: right;\">\n",
       "      <th></th>\n",
       "      <th>date</th>\n",
       "      <th>group</th>\n",
       "      <th>visitors</th>\n",
       "    </tr>\n",
       "  </thead>\n",
       "  <tbody>\n",
       "    <tr>\n",
       "      <th>0</th>\n",
       "      <td>2019-08-01</td>\n",
       "      <td>A</td>\n",
       "      <td>719</td>\n",
       "    </tr>\n",
       "    <tr>\n",
       "      <th>1</th>\n",
       "      <td>2019-08-02</td>\n",
       "      <td>A</td>\n",
       "      <td>619</td>\n",
       "    </tr>\n",
       "    <tr>\n",
       "      <th>2</th>\n",
       "      <td>2019-08-03</td>\n",
       "      <td>A</td>\n",
       "      <td>507</td>\n",
       "    </tr>\n",
       "    <tr>\n",
       "      <th>3</th>\n",
       "      <td>2019-08-04</td>\n",
       "      <td>A</td>\n",
       "      <td>717</td>\n",
       "    </tr>\n",
       "    <tr>\n",
       "      <th>4</th>\n",
       "      <td>2019-08-05</td>\n",
       "      <td>A</td>\n",
       "      <td>756</td>\n",
       "    </tr>\n",
       "  </tbody>\n",
       "</table>\n",
       "</div>"
      ],
      "text/plain": [
       "         date group  visitors\n",
       "0  2019-08-01     A       719\n",
       "1  2019-08-02     A       619\n",
       "2  2019-08-03     A       507\n",
       "3  2019-08-04     A       717\n",
       "4  2019-08-05     A       756"
      ]
     },
     "execution_count": 18,
     "metadata": {},
     "output_type": "execute_result"
    }
   ],
   "source": [
    "visitors.head()"
   ]
  },
  {
   "cell_type": "markdown",
   "metadata": {},
   "source": [
    "Поменяем тип данных в столбце `date` на `datetime`"
   ]
  },
  {
   "cell_type": "code",
   "execution_count": 19,
   "metadata": {},
   "outputs": [],
   "source": [
    "visitors[\"date\"] = visitors[\"date\"].map(lambda x: dt.datetime.strptime(x, '%Y-%m-%d'))"
   ]
  },
  {
   "cell_type": "code",
   "execution_count": 20,
   "metadata": {},
   "outputs": [
    {
     "name": "stdout",
     "output_type": "stream",
     "text": [
      "<class 'pandas.core.frame.DataFrame'>\n",
      "RangeIndex: 62 entries, 0 to 61\n",
      "Data columns (total 3 columns):\n",
      " #   Column    Non-Null Count  Dtype         \n",
      "---  ------    --------------  -----         \n",
      " 0   date      62 non-null     datetime64[ns]\n",
      " 1   group     62 non-null     object        \n",
      " 2   visitors  62 non-null     int64         \n",
      "dtypes: datetime64[ns](1), int64(1), object(1)\n",
      "memory usage: 1.6+ KB\n"
     ]
    }
   ],
   "source": [
    "visitors.info()"
   ]
  },
  {
   "cell_type": "code",
   "execution_count": 21,
   "metadata": {},
   "outputs": [
    {
     "data": {
      "text/plain": [
       "0"
      ]
     },
     "execution_count": 21,
     "metadata": {},
     "output_type": "execute_result"
    }
   ],
   "source": [
    "visitors.duplicated().sum()"
   ]
  },
  {
   "cell_type": "code",
   "execution_count": 22,
   "metadata": {},
   "outputs": [
    {
     "data": {
      "text/plain": [
       "date        0\n",
       "group       0\n",
       "visitors    0\n",
       "dtype: int64"
      ]
     },
     "execution_count": 22,
     "metadata": {},
     "output_type": "execute_result"
    }
   ],
   "source": [
    "visitors.isna().sum()"
   ]
  },
  {
   "cell_type": "markdown",
   "metadata": {},
   "source": [
    "В датасете `visitors` пропусков и дубликатов нет, все типы данных верны."
   ]
  },
  {
   "cell_type": "markdown",
   "metadata": {},
   "source": [
    "**График кумулятивной выручки**"
   ]
  },
  {
   "cell_type": "markdown",
   "metadata": {},
   "source": [
    "Создаем таблицу куммулятивных данных по таблицам `orders` и `visitors`"
   ]
  },
  {
   "cell_type": "code",
   "execution_count": 23,
   "metadata": {},
   "outputs": [],
   "source": [
    "datesGroups = orders[['date','group']].drop_duplicates()\n",
    "\n",
    "ordersAggregated = datesGroups.apply(lambda x: orders[np.logical_and(orders['date'] <= x['date'], orders['group'] == x['group'])]. \\\n",
    "                                     agg({'date' : 'max', \n",
    "                                          'group' : 'max', \n",
    "                                          'transactionId' : pd.Series.nunique, \n",
    "                                          'visitorId' : pd.Series.nunique, \n",
    "                                          'revenue' : 'sum'}), axis=1).sort_values(by=['date','group'])\n",
    "\n",
    "visitorsAggregated = datesGroups.apply(lambda x: visitors[np.logical_and(visitors['date'] <= x['date'], visitors['group'] == x['group'])]. \\\n",
    "                                       agg({'date' : 'max', \n",
    "                                            'group' : 'max', \n",
    "                                            'visitors' : 'sum'}), axis=1).sort_values(by=['date','group'])\n",
    "\n",
    "cumulativeData = ordersAggregated.merge(visitorsAggregated, left_on=['date', 'group'], right_on=['date', 'group'])\n",
    "cumulativeData.columns = ['date', 'group', 'orders', 'buyers', 'revenue', 'visitors']"
   ]
  },
  {
   "cell_type": "code",
   "execution_count": 24,
   "metadata": {},
   "outputs": [
    {
     "data": {
      "text/html": [
       "<div>\n",
       "<style scoped>\n",
       "    .dataframe tbody tr th:only-of-type {\n",
       "        vertical-align: middle;\n",
       "    }\n",
       "\n",
       "    .dataframe tbody tr th {\n",
       "        vertical-align: top;\n",
       "    }\n",
       "\n",
       "    .dataframe thead th {\n",
       "        text-align: right;\n",
       "    }\n",
       "</style>\n",
       "<table border=\"1\" class=\"dataframe\">\n",
       "  <thead>\n",
       "    <tr style=\"text-align: right;\">\n",
       "      <th></th>\n",
       "      <th>date</th>\n",
       "      <th>group</th>\n",
       "    </tr>\n",
       "  </thead>\n",
       "  <tbody>\n",
       "    <tr>\n",
       "      <th>0</th>\n",
       "      <td>2019-08-15</td>\n",
       "      <td>B</td>\n",
       "    </tr>\n",
       "    <tr>\n",
       "      <th>2</th>\n",
       "      <td>2019-08-15</td>\n",
       "      <td>A</td>\n",
       "    </tr>\n",
       "    <tr>\n",
       "      <th>45</th>\n",
       "      <td>2019-08-16</td>\n",
       "      <td>A</td>\n",
       "    </tr>\n",
       "    <tr>\n",
       "      <th>47</th>\n",
       "      <td>2019-08-16</td>\n",
       "      <td>B</td>\n",
       "    </tr>\n",
       "    <tr>\n",
       "      <th>55</th>\n",
       "      <td>2019-08-01</td>\n",
       "      <td>A</td>\n",
       "    </tr>\n",
       "  </tbody>\n",
       "</table>\n",
       "</div>"
      ],
      "text/plain": [
       "         date group\n",
       "0  2019-08-15     B\n",
       "2  2019-08-15     A\n",
       "45 2019-08-16     A\n",
       "47 2019-08-16     B\n",
       "55 2019-08-01     A"
      ]
     },
     "execution_count": 24,
     "metadata": {},
     "output_type": "execute_result"
    }
   ],
   "source": [
    "datesGroups.head()"
   ]
  },
  {
   "cell_type": "code",
   "execution_count": 25,
   "metadata": {},
   "outputs": [
    {
     "data": {
      "image/png": "[encoded data removed]",
      "text/plain": [
       "<Figure size 1080x360 with 1 Axes>"
      ]
     },
     "metadata": {
      "needs_background": "light"
     },
     "output_type": "display_data"
    }
   ],
   "source": [
    "cumulativeRevenueA = cumulativeData[cumulativeData['group']=='A'][['date','revenue', 'orders']]\n",
    "cumulativeRevenueB = cumulativeData[cumulativeData['group']=='B'][['date','revenue', 'orders']]\n",
    "\n",
    "from pandas.plotting import register_matplotlib_converters\n",
    "register_matplotlib_converters()\n",
    "\n",
    "plt.figure(figsize=(15,5))\n",
    "\n",
    "plt.plot(cumulativeRevenueA['date'], cumulativeRevenueA['revenue'], label='Кум.выручка группы A')\n",
    "plt.plot(cumulativeRevenueB['date'], cumulativeRevenueB['revenue'], label='Кум.выручка группы B')\n",
    "plt.grid()\n",
    "plt.legend() \n",
    "plt.title('График кумулятивной выручки по группам')\n",
    "plt.xlabel('Дата')\n",
    "plt.ylabel('Значение среднего чека');"
   ]
  },
  {
   "cell_type": "markdown",
   "metadata": {},
   "source": [
    "выручки от двух групп росли примерно одинакого до 19 августа, именно в этот момент произошел резкий рост выручки от группы B, предпологаю, что это был очень крупный заказ. Далее выручки росли снова в схожем темпе."
   ]
  },
  {
   "cell_type": "markdown",
   "metadata": {},
   "source": [
    "**График кумулятивного среднего чека по группам**"
   ]
  },
  {
   "cell_type": "code",
   "execution_count": 26,
   "metadata": {},
   "outputs": [
    {
     "data": {
      "image/png": "[encoded data removed]",
      "text/plain": [
       "<Figure size 1080x360 with 1 Axes>"
      ]
     },
     "metadata": {
      "needs_background": "light"
     },
     "output_type": "display_data"
    }
   ],
   "source": [
    "plt.figure(figsize=(15,5))\n",
    "plt.grid()\n",
    "plt.plot(cumulativeRevenueA['date'], cumulativeRevenueA['revenue']/cumulativeRevenueA['orders'], label='средний кумулятивный чек группы A')\n",
    "plt.plot(cumulativeRevenueB['date'], cumulativeRevenueB['revenue']/cumulativeRevenueB['orders'], label='средний кумулятивный чек группы B')\n",
    "plt.title('График кумулятивного среднего чека по группам')\n",
    "plt.xlabel('Дата')\n",
    "plt.ylabel('Значение среднего чека')\n",
    "plt.legend() ;"
   ]
  },
  {
   "cell_type": "markdown",
   "metadata": {},
   "source": [
    "Средний кумулятивный чек группы B резко вырос 19 августа, до 15 августа средние чеки были не стабильны, трудно сказать чей чек больше, а после 15го августа чек группы B стал значительно больше чека группа  А -  это влияние того же большого заказа, который отображался на прошлом графике. Однако, чек B идет на спад, а чек А медленно , но постепенно растет. "
   ]
  },
  {
   "cell_type": "markdown",
   "metadata": {},
   "source": [
    "**График относительного изменения кумулятивного среднего чека группы B к группе A**"
   ]
  },
  {
   "cell_type": "code",
   "execution_count": 27,
   "metadata": {},
   "outputs": [
    {
     "data": {
      "image/png": "[encoded data removed]",
      "text/plain": [
       "<Figure size 1080x360 with 1 Axes>"
      ]
     },
     "metadata": {
      "needs_background": "light"
     },
     "output_type": "display_data"
    }
   ],
   "source": [
    "mergedCumulativeRevenue = cumulativeRevenueA.merge(cumulativeRevenueB, left_on='date', right_on='date', how='left', suffixes=['A', 'B'])\n",
    "\n",
    "plt.figure(figsize=(15,5))\n",
    "plt.grid()\n",
    "plt.plot(mergedCumulativeRevenue['date'], (mergedCumulativeRevenue['revenueB']/mergedCumulativeRevenue['ordersB'])/ \\\n",
    "         (mergedCumulativeRevenue['revenueA']/mergedCumulativeRevenue['ordersA'])-1)\n",
    "plt.title('График относительного изменения кумулятивного среднего чека группы B к группе A')\n",
    "plt.xlabel('Дата')\n",
    "plt.ylabel('Относительное значение среднего чека')\n",
    "plt.axhline(y=0, color='red') ;"
   ]
  },
  {
   "cell_type": "markdown",
   "metadata": {},
   "source": [
    "кумулятивный средний чек B Средний чек А 2 августа и весь месяц был выше него, кроме 13 августа, исходя из предыдущего графика, можно сделать вывод что причиной этого стал крупный заказ в группе А и относительно небольшие заказы в группе B"
   ]
  },
  {
   "cell_type": "markdown",
   "metadata": {},
   "source": [
    " **График кумулятивного среднего количества заказов на посетителя по группам**\n"
   ]
  },
  {
   "cell_type": "code",
   "execution_count": 28,
   "metadata": {},
   "outputs": [
    {
     "data": {
      "image/png": "[encoded data removed]",
      "text/plain": [
       "<Figure size 1080x360 with 1 Axes>"
      ]
     },
     "metadata": {
      "needs_background": "light"
     },
     "output_type": "display_data"
    }
   ],
   "source": [
    "cumulativeData['avg_count_orders'] = cumulativeData['orders']/cumulativeData['visitors']\n",
    "\n",
    "cumulativeDataA = cumulativeData[cumulativeData['group']=='A']\n",
    "cumulativeDataB = cumulativeData[cumulativeData['group']=='B']\n",
    "\n",
    "plt.figure(figsize=(15,5))\n",
    "plt.grid()\n",
    "plt.plot(cumulativeDataA['date'], cumulativeDataA['avg_count_orders'], label='кумулятивное среднего количества заказов на посетителя A')\n",
    "plt.plot(cumulativeDataB['date'], cumulativeDataB['avg_count_orders'], label='кумулятивное среднего количества заказов на посетителя B')\n",
    "plt.title('График кумулятивного среднего количества заказов на посетителя по группам')\n",
    "plt.xlabel('Дата')\n",
    "plt.ylabel('Cреднее количество заказов на посетителя')\n",
    "plt.legend();\n",
    "# plt.axis([\"2019-08-01\", '2019-08-31', 0.028, 0.038]) ;"
   ]
  },
  {
   "cell_type": "markdown",
   "metadata": {},
   "source": [
    "С начала месяца с 1-5 августа среднее количество заказов на посетителя \"A\" была значительно больше, даже 3 августа оно было максимальным за весь период наблюдения между группами (исключение 2 августа); и после пика оно пошло на спад, а начиная с 9 августа находилось на в минимальном диапазоне 0,029-0,031. Среднее количество заказов на посетителя \"B\" с 4 августа стало расти и уже 6 августа превысило показатели группы \"A\" и росло до 10 августа чуть выше 0,036; затем пошло постепенное снижение, с имевшем место всплеском роста среднего количества заказов  15-17 августа до чуть ниже 0,036. Можно сделать вывод - среднее количество заказов на посетителя группы \"B\" в целом значительно больше \"A\" (начиная с 6 августа стабильно среднее кол- во заказов \"B\" больше A\"\")"
   ]
  },
  {
   "cell_type": "markdown",
   "metadata": {},
   "source": [
    "**График относительного изменения кумулятивного среднего количества заказов на посетителя группы B к группе A**"
   ]
  },
  {
   "cell_type": "code",
   "execution_count": 29,
   "metadata": {},
   "outputs": [
    {
     "data": {
      "image/png": "[encoded data removed]",
      "text/plain": [
       "<Figure size 1080x360 with 1 Axes>"
      ]
     },
     "metadata": {
      "needs_background": "light"
     },
     "output_type": "display_data"
    }
   ],
   "source": [
    "mergedCumulativeAvg_count_orders = cumulativeDataA[['date','avg_count_orders']].merge(cumulativeDataB[['date','avg_count_orders']], \\\n",
    "                                                    left_on='date', right_on='date', how='left', suffixes=['A', 'B'])\n",
    "plt.figure(figsize=(15,5))\n",
    "plt.grid()\n",
    "plt.plot(mergedCumulativeAvg_count_orders['date'], mergedCumulativeAvg_count_orders['avg_count_ordersB']/mergedCumulativeAvg_count_orders['avg_count_ordersA']-1, label=\"Относительный прирост конверсии группы B относительно группы A\")\n",
    "\n",
    "plt.title('Относительное изменение кумулятивного среднего количества заказов на посетителя группы B к группе A')\n",
    "plt.xlabel('Дата')\n",
    "plt.ylabel('Отношение среднего количества заказов на посетителя')\n",
    "plt.axhline(y=0, color='black', linestyle='--') \n",
    "plt.axhline(y=0.1, color='grey', linestyle='--')\n",
    "plt.axhline(y=0.21, color='grey', linestyle='--')\n",
    "plt.axhline(y=0.057, color='grey', linestyle='--');"
   ]
  },
  {
   "cell_type": "markdown",
   "metadata": {},
   "source": [
    "С 1 авгста по 5 - несколько дней когда среднеt количествj заказов на посетителя группы \"A\" была больше на 5-10%; но исключение в этот период это 2 августа - был сильный рост кол-ва заказов в группе \"B\" и по итогу дня результат \"B\" был на 5% больше \"A\" (надо отметить, что 2 августа был сильный рост кол-ва заказов в обоих группах, скорее всего на это повлиял общий фактор такой как скидки или акции. Начиная с 6 августа группа \"B\" лидировала до конца периода; её среднее количество заказов на посетителя росло до 15 августа и разница с \"A\" на максимуме составила 21%, затем пошло постепенное снижение относительного изменения кумулятивного среднего количества заказов на посетителя группы до 10%-14%."
   ]
  },
  {
   "cell_type": "markdown",
   "metadata": {},
   "source": [
    "**График количества заказов по пользователям**"
   ]
  },
  {
   "cell_type": "code",
   "execution_count": 30,
   "metadata": {},
   "outputs": [
    {
     "data": {
      "text/html": [
       "<div>\n",
       "<style scoped>\n",
       "    .dataframe tbody tr th:only-of-type {\n",
       "        vertical-align: middle;\n",
       "    }\n",
       "\n",
       "    .dataframe tbody tr th {\n",
       "        vertical-align: top;\n",
       "    }\n",
       "\n",
       "    .dataframe thead th {\n",
       "        text-align: right;\n",
       "    }\n",
       "</style>\n",
       "<table border=\"1\" class=\"dataframe\">\n",
       "  <thead>\n",
       "    <tr style=\"text-align: right;\">\n",
       "      <th></th>\n",
       "      <th>user_id</th>\n",
       "      <th>orders</th>\n",
       "    </tr>\n",
       "  </thead>\n",
       "  <tbody>\n",
       "    <tr>\n",
       "      <th>1023</th>\n",
       "      <td>4256040402</td>\n",
       "      <td>11</td>\n",
       "    </tr>\n",
       "    <tr>\n",
       "      <th>591</th>\n",
       "      <td>2458001652</td>\n",
       "      <td>11</td>\n",
       "    </tr>\n",
       "    <tr>\n",
       "      <th>569</th>\n",
       "      <td>2378935119</td>\n",
       "      <td>9</td>\n",
       "    </tr>\n",
       "    <tr>\n",
       "      <th>487</th>\n",
       "      <td>2038680547</td>\n",
       "      <td>8</td>\n",
       "    </tr>\n",
       "    <tr>\n",
       "      <th>44</th>\n",
       "      <td>199603092</td>\n",
       "      <td>5</td>\n",
       "    </tr>\n",
       "  </tbody>\n",
       "</table>\n",
       "</div>"
      ],
      "text/plain": [
       "         user_id  orders\n",
       "1023  4256040402      11\n",
       "591   2458001652      11\n",
       "569   2378935119       9\n",
       "487   2038680547       8\n",
       "44     199603092       5"
      ]
     },
     "execution_count": 30,
     "metadata": {},
     "output_type": "execute_result"
    }
   ],
   "source": [
    "orders_users = orders.drop(['group', 'revenue', 'date'], axis=1).groupby('visitorId', as_index=False). \\\n",
    "                                                                        agg({'transactionId' : pd.Series.nunique})\n",
    "\n",
    "orders_users.columns = ['user_id','orders']\n",
    "\n",
    "orders_users.sort_values(by='orders',ascending=False).head()"
   ]
  },
  {
   "cell_type": "code",
   "execution_count": 31,
   "metadata": {},
   "outputs": [
    {
     "data": {
      "text/plain": [
       "<matplotlib.collections.PathCollection at 0x7f2f361e67c0>"
      ]
     },
     "execution_count": 31,
     "metadata": {},
     "output_type": "execute_result"
    },
    {
     "data": {
      "image/png": "[encoded data removed]",
      "text/plain": [
       "<Figure size 1080x360 with 1 Axes>"
      ]
     },
     "metadata": {
      "needs_background": "light"
     },
     "output_type": "display_data"
    }
   ],
   "source": [
    "grafic = pd.Series(range(0,len(orders_users)))\n",
    "\n",
    "plt.figure(figsize=(15,5))\n",
    "plt.grid()\n",
    "plt.title('График количества заказов по пользователям')\n",
    "plt.xlabel('Пользователи')\n",
    "plt.ylabel('Количество заказов')\n",
    "plt.scatter(grafic, orders_users['orders'], alpha=0.6) "
   ]
  },
  {
   "cell_type": "markdown",
   "metadata": {},
   "source": [
    "В основном пользователи делают один заказ, тех кто делает более 2х заказов - единицы, думаю можно не учитывать таких пользователей, предолагаю считать это вбросами."
   ]
  },
  {
   "cell_type": "markdown",
   "metadata": {},
   "source": [
    "95-й и 99-й перцентили количества заказов на пользователя"
   ]
  },
  {
   "cell_type": "code",
   "execution_count": 32,
   "metadata": {},
   "outputs": [
    {
     "data": {
      "text/plain": [
       "array([2., 4.])"
      ]
     },
     "execution_count": 32,
     "metadata": {},
     "output_type": "execute_result"
    }
   ],
   "source": [
    " np.percentile(orders_users['orders'], [95, 99])"
   ]
  },
  {
   "cell_type": "markdown",
   "metadata": {},
   "source": [
    "не более 5% пользователей делают 2 заказа и не более 1 процента делают 4 заказа. Теперь точно можно сказать , что 3 и более заказа это выбросы"
   ]
  },
  {
   "cell_type": "markdown",
   "metadata": {},
   "source": [
    "\n",
    "**Точечный график стоимостей заказов**"
   ]
  },
  {
   "cell_type": "code",
   "execution_count": 33,
   "metadata": {
    "scrolled": true
   },
   "outputs": [
    {
     "data": {
      "text/plain": [
       "<matplotlib.collections.PathCollection at 0x7f2f3614cd00>"
      ]
     },
     "execution_count": 33,
     "metadata": {},
     "output_type": "execute_result"
    },
    {
     "data": {
      "image/png": "[encoded data removed]",
      "text/plain": [
       "<Figure size 1080x360 with 1 Axes>"
      ]
     },
     "metadata": {
      "needs_background": "light"
     },
     "output_type": "display_data"
    }
   ],
   "source": [
    "grafic = pd.Series(range(0,len(orders['revenue'])))\n",
    "plt.figure(figsize=(15,5))\n",
    "plt.grid()\n",
    "plt.title('Точечный график стоимостей заказов')\n",
    "plt.xlabel('Пользователи')\n",
    "plt.ylabel('сумма заказа')\n",
    "plt.scatter(grafic, orders['revenue'], alpha=0.5)"
   ]
  },
  {
   "cell_type": "markdown",
   "metadata": {},
   "source": [
    "на графике присутствует явная аномалия со стоимостью около 1,3млн,так же из графика выбивается заказ на 200 тысяч, исключим их и график будет более наглядным"
   ]
  },
  {
   "cell_type": "code",
   "execution_count": 34,
   "metadata": {},
   "outputs": [
    {
     "data": {
      "text/plain": [
       "<matplotlib.collections.PathCollection at 0x7f2f36113be0>"
      ]
     },
     "execution_count": 34,
     "metadata": {},
     "output_type": "execute_result"
    },
    {
     "data": {
      "image/png": "[encoded data removed]",
      "text/plain": [
       "<Figure size 1080x360 with 1 Axes>"
      ]
     },
     "metadata": {
      "needs_background": "light"
     },
     "output_type": "display_data"
    }
   ],
   "source": [
    "new_orders = orders[orders['revenue']<200000]\n",
    "grafic = pd.Series(range(0,len(new_orders['revenue'])))\n",
    "plt.figure(figsize=(15,5))\n",
    "plt.grid()\n",
    "plt.title('Точечный график стоимостей заказов без выброса')\n",
    "plt.xlabel('Пользователи')\n",
    "plt.ylabel('сумма заказа')\n",
    "plt.scatter(grafic, new_orders['revenue'], alpha=0.5)\n"
   ]
  },
  {
   "cell_type": "markdown",
   "metadata": {},
   "source": [
    "Более часто пользователи делают дешевые заказы, в пределах 5-6 тыс. Большая часть заказов находится в пределах 20 тыс. "
   ]
  },
  {
   "cell_type": "markdown",
   "metadata": {},
   "source": [
    " **95-й и 99-й перцентили стоимости заказов**"
   ]
  },
  {
   "cell_type": "code",
   "execution_count": 35,
   "metadata": {},
   "outputs": [
    {
     "data": {
      "text/plain": [
       "array([28000. , 58233.2])"
      ]
     },
     "execution_count": 35,
     "metadata": {},
     "output_type": "execute_result"
    }
   ],
   "source": [
    "np.percentile(orders['revenue'], [95, 99])\n"
   ]
  },
  {
   "cell_type": "markdown",
   "metadata": {},
   "source": [
    "1% заказов больше суммы в 58233.2 ,все заказы выше этой суммы предлагаю считать анамальными."
   ]
  },
  {
   "cell_type": "markdown",
   "metadata": {},
   "source": [
    "**Статистическая значимость различий в среднем количестве заказов на посетителя между группами по «сырым» данным**"
   ]
  },
  {
   "cell_type": "markdown",
   "metadata": {},
   "source": [
    "Нулевая гипотеза: статистически значимых различий в среднем числе заказов между группами нет;\n",
    "Альтернативная гипотеза: статистически значимые различия в среднем числе заказов между группами есть"
   ]
  },
  {
   "cell_type": "code",
   "execution_count": 36,
   "metadata": {},
   "outputs": [],
   "source": [
    "visitorsADaily = visitors[visitors['group']=='A'][['date', 'visitors']]\n",
    "visitorsADaily.columns = ['date', 'visitorsPerDateA']\n",
    "\n",
    "visitorsACummulative = visitorsADaily.apply(lambda x: visitorsADaily[visitorsADaily['date'] <= x['date']]. \\\n",
    "                                            agg({'date' : 'max', 'visitorsPerDateA' : 'sum'}), axis=1)\n",
    "visitorsACummulative.columns = ['date', 'visitorsCummulativeA']\n",
    "\n",
    "visitorsBDaily = visitors[visitors['group']=='B'][['date', 'visitors']]\n",
    "visitorsBDaily.columns = ['date', 'visitorsPerDateB']\n",
    "\n",
    "visitorsBCummulative = visitorsBDaily.apply(lambda x: visitorsBDaily[visitorsBDaily['date'] <= x['date']]. \\\n",
    "                                            agg({'date' : 'max', 'visitorsPerDateB' : 'sum'}), axis=1)\n",
    "visitorsBCummulative.columns = ['date', 'visitorsCummulativeB']\n",
    "\n",
    "\n",
    "ordersADaily = orders[orders['group']=='A'][['date', 'transactionId', 'visitorId', 'revenue']]\\\n",
    "    .groupby('date', as_index=False)\\\n",
    "    .agg({'transactionId' : pd.Series.nunique, 'revenue' : 'sum'})\n",
    "ordersADaily.columns = ['date', 'ordersPerDateA', 'revenuePerDateA']\n",
    "\n",
    "ordersACummulative = ordersADaily.apply(\n",
    "    lambda x: \\\n",
    "        ordersADaily[ordersADaily['date'] <= x['date']]\\\n",
    "            .agg({\n",
    "                'date' : 'max',\n",
    "                'ordersPerDateA' : 'sum',\n",
    "                'revenuePerDateA' : 'sum'}), axis=1).sort_values(by=['date'])\n",
    "ordersACummulative.columns = ['date', 'ordersCummulativeA', 'revenueCummulativeA']\n",
    "\n",
    "ordersBDaily = orders[orders['group']=='B'][['date', 'transactionId', 'visitorId', 'revenue']]\\\n",
    "    .groupby('date', as_index=False)\\\n",
    "    .agg({'transactionId' : pd.Series.nunique, 'revenue' : 'sum'})\n",
    "ordersBDaily.columns = ['date', 'ordersPerDateB', 'revenuePerDateB']\n",
    "\n",
    "ordersBCummulative = ordersBDaily.apply(\n",
    "    lambda x: \\\n",
    "        ordersBDaily[ordersBDaily['date'] <= x['date']]\\\n",
    "            .agg({\n",
    "                'date' : 'max',\n",
    "                'ordersPerDateB' : 'sum',\n",
    "                'revenuePerDateB' : 'sum'}), axis=1).sort_values(by=['date'])\n",
    "ordersBCummulative.columns = ['date', 'ordersCummulativeB', 'revenueCummulativeB']"
   ]
  },
  {
   "cell_type": "code",
   "execution_count": 37,
   "metadata": {},
   "outputs": [],
   "source": [
    "data = ordersADaily.merge(ordersBDaily, left_on='date', right_on='date', how='left')\\\n",
    "    .merge(ordersACummulative, left_on='date', right_on='date', how='left')\\\n",
    "    .merge(ordersBCummulative, left_on='date', right_on='date', how='left')\\\n",
    "    .merge(visitorsADaily, left_on='date', right_on='date', how='left')\\\n",
    "    .merge(visitorsBDaily, left_on='date', right_on='date', how='left')\\\n",
    "    .merge(visitorsACummulative, left_on='date', right_on='date', how='left')\\\n",
    "    .merge(visitorsBCummulative, left_on='date', right_on='date', how='left')"
   ]
  },
  {
   "cell_type": "code",
   "execution_count": 38,
   "metadata": {},
   "outputs": [
    {
     "name": "stdout",
     "output_type": "stream",
     "text": [
      "<class 'pandas.core.frame.DataFrame'>\n",
      "Int64Index: 31 entries, 0 to 30\n",
      "Data columns (total 13 columns):\n",
      " #   Column                Non-Null Count  Dtype         \n",
      "---  ------                --------------  -----         \n",
      " 0   date                  31 non-null     datetime64[ns]\n",
      " 1   ordersPerDateA        31 non-null     int64         \n",
      " 2   revenuePerDateA       31 non-null     int64         \n",
      " 3   ordersPerDateB        31 non-null     int64         \n",
      " 4   revenuePerDateB       31 non-null     int64         \n",
      " 5   ordersCummulativeA    31 non-null     int64         \n",
      " 6   revenueCummulativeA   31 non-null     int64         \n",
      " 7   ordersCummulativeB    31 non-null     int64         \n",
      " 8   revenueCummulativeB   31 non-null     int64         \n",
      " 9   visitorsPerDateA      31 non-null     int64         \n",
      " 10  visitorsPerDateB      31 non-null     int64         \n",
      " 11  visitorsCummulativeA  31 non-null     int64         \n",
      " 12  visitorsCummulativeB  31 non-null     int64         \n",
      "dtypes: datetime64[ns](1), int64(12)\n",
      "memory usage: 3.4 KB\n"
     ]
    }
   ],
   "source": [
    "data.info()"
   ]
  },
  {
   "cell_type": "code",
   "execution_count": 39,
   "metadata": {},
   "outputs": [],
   "source": [
    "ordersByUsersA = (\n",
    "    orders[orders['group'] == 'A']\n",
    "    .groupby('visitorId', as_index=False)\n",
    "    .agg({'transactionId': pd.Series.nunique})\n",
    ")\n",
    "ordersByUsersA.columns = ['visitorId', 'orders']\n",
    "\n",
    "ordersByUsersB = (\n",
    "    orders[orders['group'] == 'B']\n",
    "    .groupby('visitorId', as_index=False)\n",
    "    .agg({'transactionId': pd.Series.nunique})\n",
    ")\n",
    "ordersByUsersB.columns = ['visitorId', 'orders'] "
   ]
  },
  {
   "cell_type": "code",
   "execution_count": 40,
   "metadata": {},
   "outputs": [],
   "source": [
    "sampleA = pd.concat([ordersByUsersA['orders'],pd.Series(0, index=np.arange(data['visitorsPerDateA'].sum() - len(ordersByUsersA['orders'])), name='orders')],axis=0)\n",
    "\n",
    "sampleB = pd.concat([ordersByUsersB['orders'],pd.Series(0, index=np.arange(data['visitorsPerDateB'].sum() - len(ordersByUsersB['orders'])), name='orders')],axis=0) "
   ]
  },
  {
   "cell_type": "code",
   "execution_count": 41,
   "metadata": {},
   "outputs": [
    {
     "name": "stdout",
     "output_type": "stream",
     "text": [
      "0.017\n",
      "0.138\n"
     ]
    }
   ],
   "source": [
    "ordersByUsersA = (\n",
    "    orders[orders['group'] == 'A']\n",
    "    .groupby('visitorId', as_index=False)\n",
    "    .agg({'transactionId': pd.Series.nunique})\n",
    ")\n",
    "ordersByUsersA.columns = ['visitorId', 'orders']\n",
    "\n",
    "ordersByUsersB = (\n",
    "    orders[orders['group'] == 'B']\n",
    "    .groupby('visitorId', as_index=False)\n",
    "    .agg({'transactionId': pd.Series.nunique})\n",
    ")\n",
    "ordersByUsersB.columns = ['visitorId', 'orders']\n",
    "\n",
    "sampleA = pd.concat(\n",
    "    [\n",
    "        ordersByUsersA['orders'],\n",
    "        pd.Series(\n",
    "            0,\n",
    "            index=np.arange(\n",
    "                data['visitorsPerDateA'].sum() - len(ordersByUsersA['orders'])\n",
    "            ),\n",
    "            name='orders',\n",
    "        ),\n",
    "    ],\n",
    "    axis=0,\n",
    ")\n",
    "\n",
    "sampleB = pd.concat(\n",
    "    [\n",
    "        ordersByUsersB['orders'],\n",
    "        pd.Series(\n",
    "            0,\n",
    "            index=np.arange(\n",
    "                data['visitorsPerDateB'].sum() - len(ordersByUsersB['orders'])\n",
    "            ),\n",
    "            name='orders',\n",
    "        ),\n",
    "    ],\n",
    "    axis=0,\n",
    ")\n",
    "\n",
    "print(\"{0:.3f}\".format(stats.mannwhitneyu(sampleA, sampleB)[1]))\n",
    "\n",
    "print(\"{0:.3f}\".format(sampleB.mean() / sampleA.mean() - 1))\n",
    " "
   ]
  },
  {
   "cell_type": "markdown",
   "metadata": {},
   "source": [
    "Первое число — p-value = 0.017 меньше 0.05. Значит, нулевую гипотезу о том, что статистически значимых различий в среднем числе заказов между группами нет, отвергаем. Относительный выйгрыш группы B равен 13.8% — второе число в выводе"
   ]
  },
  {
   "cell_type": "markdown",
   "metadata": {},
   "source": [
    "**Cтатистическая значимость различий в среднем чеке заказа между группами по «сырым» данным**"
   ]
  },
  {
   "cell_type": "markdown",
   "metadata": {},
   "source": [
    "Нулевая гипотеза: статистически значимых различий в среднем числе заказов между группами нет; Альтернативная гипотеза: статистически значимые различия в среднем числе заказов между группами есть"
   ]
  },
  {
   "cell_type": "code",
   "execution_count": 42,
   "metadata": {},
   "outputs": [
    {
     "name": "stdout",
     "output_type": "stream",
     "text": [
      "p-value = 0.729\n",
      "Относительный показатель 'B' и 'A' = 0.259\n"
     ]
    }
   ],
   "source": [
    "alpha =0.05\n",
    "print(\"p-value = {0:.3f}\".format(stats.mannwhitneyu(orders[orders['group']=='A']['revenue'], orders[orders['group']=='B']['revenue'], alternative = 'two-sided')[1]))\n",
    "print(\"Относительный показатель 'B' и 'A' = {0:.3f}\".format(orders[orders['group']=='B']['revenue'].mean()/orders[orders['group']=='A']['revenue'].mean()-1))"
   ]
  },
  {
   "cell_type": "markdown",
   "metadata": {},
   "source": [
    "P-value значительно больше 0.05. Значит, причин отвергать нулевую гипотезу и считать, что в среднем чеке есть различия, нет."
   ]
  },
  {
   "cell_type": "code",
   "execution_count": 43,
   "metadata": {},
   "outputs": [
    {
     "name": "stdout",
     "output_type": "stream",
     "text": [
      "1099    148427295\n",
      "18      199603092\n",
      "23      237748145\n",
      "37      249864742\n",
      "68      457167155\n",
      "Name: visitorId, dtype: int64\n",
      "Всего ненормальных :) пользователей = 31\n"
     ]
    }
   ],
   "source": [
    "usersWithManyOrders = pd.concat([ordersByUsersA[ordersByUsersA['orders'] > 2]['visitorId'], ordersByUsersB[ordersByUsersB['orders'] > 2]['visitorId']], axis = 0)\n",
    "usersWithExpensiveOrders = orders[orders['revenue'] > np.percentile(orders['revenue'], [95, 99]).max()]['visitorId']\n",
    "abnormalUsers = pd.concat([usersWithManyOrders, usersWithExpensiveOrders], axis = 0).drop_duplicates().sort_values()\n",
    "print(abnormalUsers.head(5))\n",
    "print(\"Всего ненормальных :) пользователей =\" ,len(abnormalUsers))"
   ]
  },
  {
   "cell_type": "markdown",
   "metadata": {},
   "source": [
    "**статистическая значимость различий в среднем количестве заказов на посетителя между группами по «очищенным» данным**"
   ]
  },
  {
   "cell_type": "code",
   "execution_count": 44,
   "metadata": {},
   "outputs": [],
   "source": [
    "sampleAFiltered = pd.concat([ordersByUsersA[np.logical_not(ordersByUsersA['visitorId'].isin(abnormalUsers))]['orders'], \\\n",
    "                             pd.Series(0, index=np.arange(data['visitorsPerDateA'].sum() - len(ordersByUsersA['orders'])), \\\n",
    "                                       name='orders')],axis=0)\n",
    "\n",
    "sampleBFiltered = pd.concat([ordersByUsersB[np.logical_not(ordersByUsersB['visitorId'].isin(abnormalUsers))]['orders'], \\\n",
    "                             pd.Series(0, index=np.arange(data['visitorsPerDateB'].sum() - len(ordersByUsersB['orders'])), \\\n",
    "                                       name='orders')],axis=0) "
   ]
  },
  {
   "cell_type": "markdown",
   "metadata": {},
   "source": [
    "Применим статистический критерий Манна-Уитни к полученным выборкам,\n",
    "\n",
    "    Нулевая гипотеза: \"статистически значимых различий в конверсии между группами нет\"; \n",
    "    Альтернативная гипотеза: \"статистически значимые различия есть\"."
   ]
  },
  {
   "cell_type": "code",
   "execution_count": 45,
   "metadata": {},
   "outputs": [
    {
     "name": "stdout",
     "output_type": "stream",
     "text": [
      "alpha = 0.05\n",
      "p-value = 0.010\n",
      "Относительный показатель 'B' и 'A' = 0.174\n"
     ]
    }
   ],
   "source": [
    "print(\"alpha =\",0.05)\n",
    "print(\"p-value = {0:.3f}\".format(stats.mannwhitneyu(sampleAFiltered, sampleBFiltered, alternative = 'two-sided')[1]))\n",
    "print(\"Относительный показатель 'B' и 'A' = {0:.3f}\".format(sampleBFiltered.mean()/sampleAFiltered.mean()-1)) "
   ]
  },
  {
   "cell_type": "markdown",
   "metadata": {},
   "source": [
    "Вывод: p-value = 0.01 меньше 0.05. Значит, нулевую гипотезу о том, что статистически значимых различий в конверсии между группами нет, - отвергаем. Это значит: и по «очищенным» данным различия в конверсии групп A и B есть. А относительный выигрыш группы \"B\" над \"A\" равен 17,4% (выше, чем с «сырыми» данными - 13.8%)"
   ]
  },
  {
   "cell_type": "markdown",
   "metadata": {},
   "source": [
    " **статистическая значимость различий в среднем чеке заказа между группами по «очищенным» данным**"
   ]
  },
  {
   "cell_type": "code",
   "execution_count": 46,
   "metadata": {},
   "outputs": [
    {
     "name": "stdout",
     "output_type": "stream",
     "text": [
      "alpha = 0.05\n",
      "p-value = 0.798\n",
      "Относительный показатель 'B' и 'A' = -0.020\n"
     ]
    }
   ],
   "source": [
    "print(\"alpha =\",0.05)\n",
    "print(\"p-value = {0:.3f}\".format(stats.mannwhitneyu(\n",
    "    orders[np.logical_and(\n",
    "        orders['group']=='A',\n",
    "        np.logical_not(orders['visitorId'].isin(abnormalUsers)))]['revenue'],\n",
    "    orders[np.logical_and(\n",
    "        orders['group']=='B',\n",
    "        np.logical_not(orders['visitorId'].isin(abnormalUsers)))]['revenue'], alternative = 'two-sided')[1]))\n",
    "print(\"Относительный показатель 'B' и 'A' = {0:.3f}\".format(\n",
    "    orders[np.logical_and(orders['group']=='B',np.logical_not(orders['visitorId'].isin(abnormalUsers)))]['revenue'].mean()/\n",
    "    orders[np.logical_and(\n",
    "        orders['group']=='A',\n",
    "        np.logical_not(orders['visitorId'].isin(abnormalUsers)))]['revenue'].mean() - 1)) \n"
   ]
  },
  {
   "cell_type": "markdown",
   "metadata": {},
   "source": [
    "P-value больше чем alpha . Отвергать нулевую гипотезу и считать, что в среднем чеке есть различия нельзя!"
   ]
  },
  {
   "cell_type": "markdown",
   "metadata": {},
   "source": [
    " **И по \"сырым\" и по \"очищенным\" данным различия в конверсии групп A и B есть. Относительный выигрыш группы \"B\" над \"A\" равен 17,4% по \"очищенным\" и 13.8% по \"сырым\" данным.\n",
    " По \"сырым\" и по \"очищенным\" данным различия в средних чеках групп A и B отстутствуют, несмотря на то, что средний чек группы B оказался незначительно (на 2%) ниже среднего чека группы A по \"очищенным\" данным, в то время как по \"сырым\" данным, он был больше аж на ~26%, - и всё это из-за одного того самого аномального заказа. Результаты тестирования вполне однозначны. В итоге можно принять решение остановить тестирование и констатировать успех и победу группы B.**"
   ]
  },
  {
   "cell_type": "code",
   "execution_count": null,
   "metadata": {},
   "outputs": [],
   "source": []
  }
 ],
 "metadata": {
  "ExecuteTimeLog": [
   {
    "duration": 49,
    "start_time": "2023-03-12T15:45:10.581Z"
   },
   {
    "duration": 356,
    "start_time": "2023-03-12T15:45:13.612Z"
   },
   {
    "duration": 76,
    "start_time": "2023-03-12T15:45:14.140Z"
   },
   {
    "duration": 21,
    "start_time": "2023-03-12T15:45:21.820Z"
   },
   {
    "duration": 667,
    "start_time": "2023-03-12T16:11:54.936Z"
   },
   {
    "duration": 3,
    "start_time": "2023-03-12T16:38:38.130Z"
   },
   {
    "duration": 7,
    "start_time": "2023-03-12T16:38:39.009Z"
   },
   {
    "duration": 21,
    "start_time": "2023-03-12T16:39:04.883Z"
   },
   {
    "duration": 61,
    "start_time": "2023-03-13T08:22:55.258Z"
   },
   {
    "duration": 462,
    "start_time": "2023-03-13T08:23:05.971Z"
   },
   {
    "duration": 73,
    "start_time": "2023-03-13T08:23:06.435Z"
   },
   {
    "duration": 3,
    "start_time": "2023-03-13T08:23:06.510Z"
   },
   {
    "duration": 49,
    "start_time": "2023-03-13T08:23:06.515Z"
   },
   {
    "duration": 43,
    "start_time": "2023-03-13T08:23:06.567Z"
   },
   {
    "duration": 13,
    "start_time": "2023-03-13T08:47:43.452Z"
   },
   {
    "duration": 188,
    "start_time": "2023-03-13T08:58:52.960Z"
   },
   {
    "duration": 13,
    "start_time": "2023-03-13T08:59:10.058Z"
   },
   {
    "duration": 8,
    "start_time": "2023-03-13T08:59:27.610Z"
   },
   {
    "duration": 420,
    "start_time": "2023-03-13T11:22:34.430Z"
   },
   {
    "duration": 48,
    "start_time": "2023-03-13T11:22:34.853Z"
   },
   {
    "duration": 19,
    "start_time": "2023-03-13T11:22:34.903Z"
   },
   {
    "duration": 30,
    "start_time": "2023-03-13T11:22:34.924Z"
   },
   {
    "duration": 59,
    "start_time": "2023-03-13T11:22:34.956Z"
   },
   {
    "duration": 17,
    "start_time": "2023-03-13T11:22:35.017Z"
   },
   {
    "duration": 88,
    "start_time": "2023-03-13T11:22:35.036Z"
   },
   {
    "duration": 9,
    "start_time": "2023-03-13T11:22:35.125Z"
   },
   {
    "duration": 17,
    "start_time": "2023-03-13T11:22:35.136Z"
   },
   {
    "duration": 96,
    "start_time": "2023-03-13T11:22:35.156Z"
   },
   {
    "duration": 0,
    "start_time": "2023-03-13T11:22:35.254Z"
   },
   {
    "duration": 0,
    "start_time": "2023-03-13T11:22:35.255Z"
   },
   {
    "duration": 471,
    "start_time": "2023-03-13T11:23:23.854Z"
   },
   {
    "duration": 27,
    "start_time": "2023-03-13T11:23:24.328Z"
   },
   {
    "duration": 4,
    "start_time": "2023-03-13T11:23:24.357Z"
   },
   {
    "duration": 25,
    "start_time": "2023-03-13T11:23:24.363Z"
   },
   {
    "duration": 26,
    "start_time": "2023-03-13T11:23:24.392Z"
   },
   {
    "duration": 12,
    "start_time": "2023-03-13T11:23:24.419Z"
   },
   {
    "duration": 63,
    "start_time": "2023-03-13T11:23:24.433Z"
   },
   {
    "duration": 9,
    "start_time": "2023-03-13T11:23:24.499Z"
   },
   {
    "duration": 8,
    "start_time": "2023-03-13T11:23:24.509Z"
   },
   {
    "duration": 121,
    "start_time": "2023-03-13T11:23:24.518Z"
   },
   {
    "duration": 0,
    "start_time": "2023-03-13T11:23:24.641Z"
   },
   {
    "duration": 0,
    "start_time": "2023-03-13T11:23:24.643Z"
   },
   {
    "duration": 188,
    "start_time": "2023-03-13T11:24:48.000Z"
   },
   {
    "duration": 147,
    "start_time": "2023-03-13T11:24:52.220Z"
   },
   {
    "duration": 34,
    "start_time": "2023-03-13T11:24:54.298Z"
   },
   {
    "duration": 424,
    "start_time": "2023-03-13T11:31:08.417Z"
   },
   {
    "duration": 27,
    "start_time": "2023-03-13T11:31:08.843Z"
   },
   {
    "duration": 4,
    "start_time": "2023-03-13T11:31:08.872Z"
   },
   {
    "duration": 39,
    "start_time": "2023-03-13T11:31:08.879Z"
   },
   {
    "duration": 17,
    "start_time": "2023-03-13T11:31:08.921Z"
   },
   {
    "duration": 13,
    "start_time": "2023-03-13T11:31:08.940Z"
   },
   {
    "duration": 61,
    "start_time": "2023-03-13T11:31:08.955Z"
   },
   {
    "duration": 10,
    "start_time": "2023-03-13T11:31:09.018Z"
   },
   {
    "duration": 31,
    "start_time": "2023-03-13T11:31:09.030Z"
   },
   {
    "duration": 229,
    "start_time": "2023-03-13T11:31:09.063Z"
   },
   {
    "duration": 144,
    "start_time": "2023-03-13T11:31:09.295Z"
   },
   {
    "duration": 334,
    "start_time": "2023-03-13T11:31:09.440Z"
   },
   {
    "duration": 93,
    "start_time": "2023-03-13T11:33:53.462Z"
   },
   {
    "duration": 1031,
    "start_time": "2023-03-13T11:34:03.271Z"
   },
   {
    "duration": 32,
    "start_time": "2023-03-13T11:34:04.305Z"
   },
   {
    "duration": 4,
    "start_time": "2023-03-13T11:34:04.339Z"
   },
   {
    "duration": 18,
    "start_time": "2023-03-13T11:34:04.345Z"
   },
   {
    "duration": 34,
    "start_time": "2023-03-13T11:34:04.365Z"
   },
   {
    "duration": 19,
    "start_time": "2023-03-13T11:34:04.402Z"
   },
   {
    "duration": 62,
    "start_time": "2023-03-13T11:34:04.423Z"
   },
   {
    "duration": 16,
    "start_time": "2023-03-13T11:34:04.487Z"
   },
   {
    "duration": 21,
    "start_time": "2023-03-13T11:34:04.505Z"
   },
   {
    "duration": 215,
    "start_time": "2023-03-13T11:34:04.529Z"
   },
   {
    "duration": 158,
    "start_time": "2023-03-13T11:34:04.746Z"
   },
   {
    "duration": 339,
    "start_time": "2023-03-13T11:34:04.907Z"
   },
   {
    "duration": 376,
    "start_time": "2023-03-13T11:34:05.248Z"
   },
   {
    "duration": 347,
    "start_time": "2023-03-13T11:34:41.769Z"
   },
   {
    "duration": 484,
    "start_time": "2023-03-13T11:36:46.754Z"
   },
   {
    "duration": 275,
    "start_time": "2023-03-13T11:40:02.843Z"
   },
   {
    "duration": 325,
    "start_time": "2023-03-13T11:40:43.412Z"
   },
   {
    "duration": 431,
    "start_time": "2023-03-13T14:26:55.988Z"
   },
   {
    "duration": 1653,
    "start_time": "2023-03-14T18:44:04.046Z"
   },
   {
    "duration": 123,
    "start_time": "2023-03-14T18:44:05.705Z"
   },
   {
    "duration": 3,
    "start_time": "2023-03-14T18:44:05.830Z"
   },
   {
    "duration": 20,
    "start_time": "2023-03-14T18:44:05.835Z"
   },
   {
    "duration": 13,
    "start_time": "2023-03-14T18:44:05.858Z"
   },
   {
    "duration": 39,
    "start_time": "2023-03-14T18:44:05.875Z"
   },
   {
    "duration": 203,
    "start_time": "2023-03-14T18:44:05.916Z"
   },
   {
    "duration": 10,
    "start_time": "2023-03-14T18:44:06.121Z"
   },
   {
    "duration": 9,
    "start_time": "2023-03-14T18:44:06.133Z"
   },
   {
    "duration": 201,
    "start_time": "2023-03-14T18:44:06.144Z"
   },
   {
    "duration": 138,
    "start_time": "2023-03-14T18:44:06.347Z"
   },
   {
    "duration": 314,
    "start_time": "2023-03-14T18:44:06.492Z"
   },
   {
    "duration": 311,
    "start_time": "2023-03-14T18:44:06.811Z"
   },
   {
    "duration": 310,
    "start_time": "2023-03-14T18:44:07.125Z"
   },
   {
    "duration": 409,
    "start_time": "2023-03-14T18:44:07.437Z"
   },
   {
    "duration": 334,
    "start_time": "2023-03-14T18:44:07.848Z"
   },
   {
    "duration": 400,
    "start_time": "2023-03-14T18:44:08.190Z"
   },
   {
    "duration": 16,
    "start_time": "2023-03-14T19:02:39.824Z"
   },
   {
    "duration": 11,
    "start_time": "2023-03-14T19:03:47.218Z"
   },
   {
    "duration": 160,
    "start_time": "2023-03-14T19:04:34.439Z"
   },
   {
    "duration": 1203,
    "start_time": "2023-03-14T19:22:35.698Z"
   },
   {
    "duration": 28,
    "start_time": "2023-03-14T19:22:36.903Z"
   },
   {
    "duration": 13,
    "start_time": "2023-03-14T19:22:36.933Z"
   },
   {
    "duration": 28,
    "start_time": "2023-03-14T19:22:36.949Z"
   },
   {
    "duration": 28,
    "start_time": "2023-03-14T19:22:36.980Z"
   },
   {
    "duration": 18,
    "start_time": "2023-03-14T19:22:37.010Z"
   },
   {
    "duration": 23,
    "start_time": "2023-03-14T19:22:37.030Z"
   },
   {
    "duration": 15,
    "start_time": "2023-03-14T19:22:37.055Z"
   },
   {
    "duration": 89,
    "start_time": "2023-03-14T19:22:37.072Z"
   },
   {
    "duration": 21,
    "start_time": "2023-03-14T19:22:37.164Z"
   },
   {
    "duration": 53,
    "start_time": "2023-03-14T19:22:37.187Z"
   },
   {
    "duration": 200,
    "start_time": "2023-03-14T19:22:37.243Z"
   },
   {
    "duration": 135,
    "start_time": "2023-03-14T19:22:37.445Z"
   },
   {
    "duration": 309,
    "start_time": "2023-03-14T19:22:37.583Z"
   },
   {
    "duration": 300,
    "start_time": "2023-03-14T19:22:37.897Z"
   },
   {
    "duration": 308,
    "start_time": "2023-03-14T19:22:38.199Z"
   },
   {
    "duration": 407,
    "start_time": "2023-03-14T19:22:38.509Z"
   },
   {
    "duration": 395,
    "start_time": "2023-03-14T19:22:38.918Z"
   },
   {
    "duration": 380,
    "start_time": "2023-03-14T19:22:39.316Z"
   },
   {
    "duration": 3,
    "start_time": "2023-03-15T17:12:22.942Z"
   },
   {
    "duration": 64,
    "start_time": "2023-03-15T17:14:02.479Z"
   },
   {
    "duration": 8,
    "start_time": "2023-03-15T17:14:16.797Z"
   },
   {
    "duration": 1426,
    "start_time": "2023-03-15T17:14:23.941Z"
   },
   {
    "duration": 89,
    "start_time": "2023-03-15T17:14:25.369Z"
   },
   {
    "duration": 12,
    "start_time": "2023-03-15T17:14:25.460Z"
   },
   {
    "duration": 13,
    "start_time": "2023-03-15T17:14:25.474Z"
   },
   {
    "duration": 9,
    "start_time": "2023-03-15T17:14:25.489Z"
   },
   {
    "duration": 29,
    "start_time": "2023-03-15T17:14:25.500Z"
   },
   {
    "duration": 13,
    "start_time": "2023-03-15T17:14:25.531Z"
   },
   {
    "duration": 10,
    "start_time": "2023-03-15T17:14:25.546Z"
   },
   {
    "duration": 235,
    "start_time": "2023-03-15T17:14:25.558Z"
   },
   {
    "duration": 19,
    "start_time": "2023-03-15T17:14:25.796Z"
   },
   {
    "duration": 12,
    "start_time": "2023-03-15T17:14:25.817Z"
   },
   {
    "duration": 11,
    "start_time": "2023-03-15T17:14:25.830Z"
   },
   {
    "duration": 10,
    "start_time": "2023-03-15T17:14:25.842Z"
   },
   {
    "duration": 193,
    "start_time": "2023-03-15T17:14:25.853Z"
   },
   {
    "duration": 127,
    "start_time": "2023-03-15T17:14:26.048Z"
   },
   {
    "duration": 400,
    "start_time": "2023-03-15T17:14:26.176Z"
   },
   {
    "duration": 355,
    "start_time": "2023-03-15T17:14:26.578Z"
   },
   {
    "duration": 311,
    "start_time": "2023-03-15T17:14:26.935Z"
   },
   {
    "duration": 437,
    "start_time": "2023-03-15T17:14:27.248Z"
   },
   {
    "duration": 325,
    "start_time": "2023-03-15T17:14:27.690Z"
   },
   {
    "duration": 442,
    "start_time": "2023-03-15T17:14:28.018Z"
   },
   {
    "duration": 20,
    "start_time": "2023-03-15T17:17:53.386Z"
   },
   {
    "duration": 14,
    "start_time": "2023-03-15T17:21:39.517Z"
   },
   {
    "duration": 23,
    "start_time": "2023-03-15T17:21:46.489Z"
   },
   {
    "duration": 5,
    "start_time": "2023-03-15T17:22:41.887Z"
   },
   {
    "duration": 6,
    "start_time": "2023-03-15T17:22:52.742Z"
   },
   {
    "duration": 6,
    "start_time": "2023-03-15T17:23:11.171Z"
   },
   {
    "duration": 8,
    "start_time": "2023-03-15T17:25:11.881Z"
   },
   {
    "duration": 5,
    "start_time": "2023-03-15T17:26:17.716Z"
   },
   {
    "duration": 13,
    "start_time": "2023-03-15T17:26:27.154Z"
   },
   {
    "duration": 6,
    "start_time": "2023-03-15T17:26:54.158Z"
   },
   {
    "duration": 7,
    "start_time": "2023-03-15T17:27:03.641Z"
   },
   {
    "duration": 317,
    "start_time": "2023-03-15T17:31:05.155Z"
   },
   {
    "duration": 17,
    "start_time": "2023-03-15T17:31:12.687Z"
   },
   {
    "duration": 10,
    "start_time": "2023-03-15T17:31:26.544Z"
   },
   {
    "duration": 312,
    "start_time": "2023-03-15T17:32:39.864Z"
   },
   {
    "duration": 7,
    "start_time": "2023-03-15T17:32:40.262Z"
   },
   {
    "duration": 401,
    "start_time": "2023-03-15T17:35:03.806Z"
   },
   {
    "duration": 128,
    "start_time": "2023-03-15T17:36:14.164Z"
   },
   {
    "duration": 239,
    "start_time": "2023-03-15T17:36:25.059Z"
   },
   {
    "duration": 225,
    "start_time": "2023-03-15T17:52:55.944Z"
   },
   {
    "duration": 404,
    "start_time": "2023-03-15T18:07:56.044Z"
   },
   {
    "duration": 358,
    "start_time": "2023-03-15T18:08:17.473Z"
   },
   {
    "duration": 385,
    "start_time": "2023-03-15T18:08:33.975Z"
   },
   {
    "duration": 324,
    "start_time": "2023-03-15T18:08:44.713Z"
   },
   {
    "duration": 263,
    "start_time": "2023-03-15T18:22:11.316Z"
   },
   {
    "duration": 284,
    "start_time": "2023-03-15T18:22:21.910Z"
   },
   {
    "duration": 433,
    "start_time": "2023-03-15T18:22:33.271Z"
   },
   {
    "duration": 271,
    "start_time": "2023-03-15T18:22:39.664Z"
   },
   {
    "duration": 338,
    "start_time": "2023-03-15T18:22:46.373Z"
   },
   {
    "duration": 306,
    "start_time": "2023-03-15T18:23:16.623Z"
   },
   {
    "duration": 372,
    "start_time": "2023-03-15T18:23:20.398Z"
   },
   {
    "duration": 375,
    "start_time": "2023-03-15T18:23:24.121Z"
   },
   {
    "duration": 136,
    "start_time": "2023-03-15T18:27:17.842Z"
   },
   {
    "duration": 150,
    "start_time": "2023-03-15T18:28:31.770Z"
   },
   {
    "duration": 155,
    "start_time": "2023-03-15T18:28:42.145Z"
   },
   {
    "duration": 148,
    "start_time": "2023-03-15T18:28:43.933Z"
   },
   {
    "duration": 156,
    "start_time": "2023-03-15T18:28:59.076Z"
   },
   {
    "duration": 154,
    "start_time": "2023-03-15T18:29:05.117Z"
   },
   {
    "duration": 5,
    "start_time": "2023-03-15T18:36:41.545Z"
   },
   {
    "duration": 159,
    "start_time": "2023-03-15T18:44:37.916Z"
   },
   {
    "duration": 15,
    "start_time": "2023-03-15T18:48:06.433Z"
   },
   {
    "duration": 1023,
    "start_time": "2023-03-15T18:48:13.908Z"
   },
   {
    "duration": 1024,
    "start_time": "2023-03-15T18:49:02.841Z"
   },
   {
    "duration": 1031,
    "start_time": "2023-03-15T18:49:18.731Z"
   },
   {
    "duration": 1129,
    "start_time": "2023-03-15T18:50:52.205Z"
   },
   {
    "duration": 1035,
    "start_time": "2023-03-15T18:52:53.190Z"
   },
   {
    "duration": 1056,
    "start_time": "2023-03-15T18:53:09.617Z"
   },
   {
    "duration": 5,
    "start_time": "2023-03-15T18:53:27.870Z"
   },
   {
    "duration": 10,
    "start_time": "2023-03-15T18:53:43.870Z"
   },
   {
    "duration": 1208,
    "start_time": "2023-03-15T18:54:30.927Z"
   },
   {
    "duration": 27,
    "start_time": "2023-03-15T18:54:32.138Z"
   },
   {
    "duration": 12,
    "start_time": "2023-03-15T18:54:32.166Z"
   },
   {
    "duration": 18,
    "start_time": "2023-03-15T18:54:32.180Z"
   },
   {
    "duration": 17,
    "start_time": "2023-03-15T18:54:32.209Z"
   },
   {
    "duration": 11,
    "start_time": "2023-03-15T18:54:32.227Z"
   },
   {
    "duration": 13,
    "start_time": "2023-03-15T18:54:32.239Z"
   },
   {
    "duration": 12,
    "start_time": "2023-03-15T18:54:32.253Z"
   },
   {
    "duration": 75,
    "start_time": "2023-03-15T18:54:32.266Z"
   },
   {
    "duration": 8,
    "start_time": "2023-03-15T18:54:32.343Z"
   },
   {
    "duration": 12,
    "start_time": "2023-03-15T18:54:32.353Z"
   },
   {
    "duration": 10,
    "start_time": "2023-03-15T18:54:32.367Z"
   },
   {
    "duration": 21,
    "start_time": "2023-03-15T18:54:32.378Z"
   },
   {
    "duration": 33,
    "start_time": "2023-03-15T18:54:32.407Z"
   },
   {
    "duration": 11,
    "start_time": "2023-03-15T18:54:32.442Z"
   },
   {
    "duration": 8,
    "start_time": "2023-03-15T18:54:32.454Z"
   },
   {
    "duration": 15,
    "start_time": "2023-03-15T18:54:32.463Z"
   },
   {
    "duration": 18,
    "start_time": "2023-03-15T18:54:32.480Z"
   },
   {
    "duration": 28,
    "start_time": "2023-03-15T18:54:32.499Z"
   },
   {
    "duration": 15,
    "start_time": "2023-03-15T18:54:32.529Z"
   },
   {
    "duration": 10,
    "start_time": "2023-03-15T18:54:32.545Z"
   },
   {
    "duration": 7,
    "start_time": "2023-03-15T18:54:32.556Z"
   },
   {
    "duration": 319,
    "start_time": "2023-03-15T18:54:32.564Z"
   },
   {
    "duration": 19,
    "start_time": "2023-03-15T18:54:32.884Z"
   },
   {
    "duration": 399,
    "start_time": "2023-03-15T18:54:32.911Z"
   },
   {
    "duration": 265,
    "start_time": "2023-03-15T18:54:33.312Z"
   },
   {
    "duration": 405,
    "start_time": "2023-03-15T18:54:33.579Z"
   },
   {
    "duration": 173,
    "start_time": "2023-03-15T18:54:33.986Z"
   },
   {
    "duration": 146,
    "start_time": "2023-03-15T18:54:34.161Z"
   },
   {
    "duration": 0,
    "start_time": "2023-03-15T18:54:34.312Z"
   },
   {
    "duration": 1,
    "start_time": "2023-03-15T18:54:34.312Z"
   },
   {
    "duration": 0,
    "start_time": "2023-03-15T18:54:34.320Z"
   },
   {
    "duration": 158,
    "start_time": "2023-03-15T18:54:49.880Z"
   },
   {
    "duration": 6,
    "start_time": "2023-03-15T18:54:52.656Z"
   },
   {
    "duration": 181,
    "start_time": "2023-03-15T18:54:59.238Z"
   },
   {
    "duration": 14,
    "start_time": "2023-03-15T18:55:14.866Z"
   },
   {
    "duration": 184,
    "start_time": "2023-03-15T18:56:14.104Z"
   },
   {
    "duration": 216,
    "start_time": "2023-03-15T18:56:32.385Z"
   },
   {
    "duration": 279,
    "start_time": "2023-03-15T18:56:47.041Z"
   },
   {
    "duration": 205,
    "start_time": "2023-03-15T18:58:44.259Z"
   },
   {
    "duration": 7,
    "start_time": "2023-03-15T19:02:26.461Z"
   },
   {
    "duration": 105,
    "start_time": "2023-03-15T19:05:08.615Z"
   },
   {
    "duration": 12,
    "start_time": "2023-03-15T19:08:22.416Z"
   },
   {
    "duration": 91,
    "start_time": "2023-03-15T19:08:58.425Z"
   },
   {
    "duration": 143,
    "start_time": "2023-03-15T19:11:45.564Z"
   },
   {
    "duration": 88,
    "start_time": "2023-03-15T19:11:59.526Z"
   },
   {
    "duration": 13,
    "start_time": "2023-03-15T19:12:18.372Z"
   },
   {
    "duration": 5,
    "start_time": "2023-03-15T19:12:44.430Z"
   },
   {
    "duration": 19,
    "start_time": "2023-03-15T19:12:46.602Z"
   },
   {
    "duration": 70,
    "start_time": "2023-03-15T19:12:53.713Z"
   },
   {
    "duration": 11,
    "start_time": "2023-03-15T19:13:00.532Z"
   },
   {
    "duration": 10,
    "start_time": "2023-03-15T19:15:57.255Z"
   },
   {
    "duration": 24,
    "start_time": "2023-03-15T19:24:18.879Z"
   },
   {
    "duration": 38,
    "start_time": "2023-03-15T19:25:00.805Z"
   },
   {
    "duration": 22,
    "start_time": "2023-03-15T19:26:48.221Z"
   },
   {
    "duration": 1495,
    "start_time": "2023-03-15T19:26:53.845Z"
   },
   {
    "duration": 29,
    "start_time": "2023-03-15T19:26:55.344Z"
   },
   {
    "duration": 23,
    "start_time": "2023-03-15T19:26:55.375Z"
   },
   {
    "duration": 46,
    "start_time": "2023-03-15T19:26:55.403Z"
   },
   {
    "duration": 8,
    "start_time": "2023-03-15T19:26:55.451Z"
   },
   {
    "duration": 31,
    "start_time": "2023-03-15T19:26:55.462Z"
   },
   {
    "duration": 26,
    "start_time": "2023-03-15T19:26:55.517Z"
   },
   {
    "duration": 18,
    "start_time": "2023-03-15T19:26:55.547Z"
   },
   {
    "duration": 78,
    "start_time": "2023-03-15T19:26:55.567Z"
   },
   {
    "duration": 11,
    "start_time": "2023-03-15T19:26:55.650Z"
   },
   {
    "duration": 17,
    "start_time": "2023-03-15T19:26:55.663Z"
   },
   {
    "duration": 22,
    "start_time": "2023-03-15T19:26:55.683Z"
   },
   {
    "duration": 26,
    "start_time": "2023-03-15T19:26:55.714Z"
   },
   {
    "duration": 18,
    "start_time": "2023-03-15T19:26:55.741Z"
   },
   {
    "duration": 6,
    "start_time": "2023-03-15T19:26:55.761Z"
   },
   {
    "duration": 11,
    "start_time": "2023-03-15T19:26:55.769Z"
   },
   {
    "duration": 21,
    "start_time": "2023-03-15T19:26:55.782Z"
   },
   {
    "duration": 16,
    "start_time": "2023-03-15T19:26:55.804Z"
   },
   {
    "duration": 26,
    "start_time": "2023-03-15T19:26:55.822Z"
   },
   {
    "duration": 14,
    "start_time": "2023-03-15T19:26:55.850Z"
   },
   {
    "duration": 13,
    "start_time": "2023-03-15T19:26:55.867Z"
   },
   {
    "duration": 7,
    "start_time": "2023-03-15T19:26:55.882Z"
   },
   {
    "duration": 402,
    "start_time": "2023-03-15T19:26:55.891Z"
   },
   {
    "duration": 7,
    "start_time": "2023-03-15T19:26:56.295Z"
   },
   {
    "duration": 544,
    "start_time": "2023-03-15T19:26:56.304Z"
   },
   {
    "duration": 383,
    "start_time": "2023-03-15T19:26:56.853Z"
   },
   {
    "duration": 436,
    "start_time": "2023-03-15T19:26:57.239Z"
   },
   {
    "duration": 301,
    "start_time": "2023-03-15T19:26:57.681Z"
   },
   {
    "duration": 234,
    "start_time": "2023-03-15T19:26:57.997Z"
   },
   {
    "duration": 7,
    "start_time": "2023-03-15T19:26:58.233Z"
   },
   {
    "duration": 296,
    "start_time": "2023-03-15T19:26:58.242Z"
   },
   {
    "duration": 225,
    "start_time": "2023-03-15T19:26:58.541Z"
   },
   {
    "duration": 5,
    "start_time": "2023-03-15T19:26:58.768Z"
   },
   {
    "duration": 155,
    "start_time": "2023-03-15T19:26:58.775Z"
   },
   {
    "duration": 0,
    "start_time": "2023-03-15T19:26:58.934Z"
   },
   {
    "duration": 0,
    "start_time": "2023-03-15T19:26:58.935Z"
   },
   {
    "duration": 0,
    "start_time": "2023-03-15T19:26:58.936Z"
   },
   {
    "duration": 0,
    "start_time": "2023-03-15T19:26:58.937Z"
   },
   {
    "duration": 193,
    "start_time": "2023-03-15T19:28:36.608Z"
   },
   {
    "duration": 1641,
    "start_time": "2023-03-15T19:28:39.039Z"
   },
   {
    "duration": 0,
    "start_time": "2023-03-15T19:28:40.682Z"
   },
   {
    "duration": 1503,
    "start_time": "2023-03-15T19:29:16.777Z"
   },
   {
    "duration": 237,
    "start_time": "2023-03-15T19:32:30.919Z"
   },
   {
    "duration": 172,
    "start_time": "2023-03-15T19:32:37.573Z"
   },
   {
    "duration": 207,
    "start_time": "2023-03-15T19:34:57.011Z"
   },
   {
    "duration": 22,
    "start_time": "2023-03-15T19:34:57.725Z"
   },
   {
    "duration": 31,
    "start_time": "2023-03-15T19:36:05.481Z"
   },
   {
    "duration": 11,
    "start_time": "2023-03-15T19:36:18.176Z"
   },
   {
    "duration": 168,
    "start_time": "2023-03-15T19:37:52.943Z"
   },
   {
    "duration": 8,
    "start_time": "2023-03-15T19:38:09.824Z"
   },
   {
    "duration": 8,
    "start_time": "2023-03-15T19:40:15.718Z"
   },
   {
    "duration": 6,
    "start_time": "2023-03-15T19:40:34.718Z"
   },
   {
    "duration": 23,
    "start_time": "2023-03-15T19:40:47.517Z"
   },
   {
    "duration": 192,
    "start_time": "2023-03-15T19:41:34.681Z"
   },
   {
    "duration": 7,
    "start_time": "2023-03-15T19:42:12.427Z"
   },
   {
    "duration": 195,
    "start_time": "2023-03-15T19:42:13.677Z"
   },
   {
    "duration": 17,
    "start_time": "2023-03-15T19:42:18.821Z"
   },
   {
    "duration": 147,
    "start_time": "2023-03-15T19:42:21.179Z"
   },
   {
    "duration": 10,
    "start_time": "2023-03-15T19:42:21.823Z"
   },
   {
    "duration": 198,
    "start_time": "2023-03-15T19:42:23.053Z"
   },
   {
    "duration": 219,
    "start_time": "2023-03-15T19:48:03.115Z"
   },
   {
    "duration": 20,
    "start_time": "2023-03-15T19:48:03.767Z"
   },
   {
    "duration": 15,
    "start_time": "2023-03-15T19:48:04.412Z"
   },
   {
    "duration": 163,
    "start_time": "2023-03-15T19:48:05.982Z"
   },
   {
    "duration": 7,
    "start_time": "2023-03-15T19:48:07.677Z"
   },
   {
    "duration": 171,
    "start_time": "2023-03-15T19:48:08.472Z"
   },
   {
    "duration": 11,
    "start_time": "2023-03-15T19:48:23.558Z"
   },
   {
    "duration": 12,
    "start_time": "2023-03-15T19:50:17.265Z"
   },
   {
    "duration": 1435,
    "start_time": "2023-03-15T19:51:16.280Z"
   },
   {
    "duration": 0,
    "start_time": "2023-03-15T19:51:17.717Z"
   },
   {
    "duration": 11,
    "start_time": "2023-03-15T19:51:35.427Z"
   },
   {
    "duration": 1426,
    "start_time": "2023-03-15T19:51:43.625Z"
   },
   {
    "duration": 1409,
    "start_time": "2023-03-15T19:52:15.225Z"
   },
   {
    "duration": 11,
    "start_time": "2023-03-15T19:52:16.815Z"
   },
   {
    "duration": 9,
    "start_time": "2023-03-15T19:52:30.218Z"
   },
   {
    "duration": 17,
    "start_time": "2023-03-15T19:52:33.057Z"
   },
   {
    "duration": 23,
    "start_time": "2023-03-15T19:52:46.283Z"
   },
   {
    "duration": 4,
    "start_time": "2023-03-15T20:01:34.951Z"
   },
   {
    "duration": 1374,
    "start_time": "2023-03-15T20:23:42.420Z"
   },
   {
    "duration": 78,
    "start_time": "2023-03-15T20:23:43.797Z"
   },
   {
    "duration": 11,
    "start_time": "2023-03-15T20:23:43.877Z"
   },
   {
    "duration": 13,
    "start_time": "2023-03-15T20:23:43.890Z"
   },
   {
    "duration": 3,
    "start_time": "2023-03-15T20:23:43.905Z"
   },
   {
    "duration": 13,
    "start_time": "2023-03-15T20:23:43.909Z"
   },
   {
    "duration": 16,
    "start_time": "2023-03-15T20:23:43.923Z"
   },
   {
    "duration": 29,
    "start_time": "2023-03-15T20:23:43.941Z"
   },
   {
    "duration": 157,
    "start_time": "2023-03-15T20:23:43.973Z"
   },
   {
    "duration": 12,
    "start_time": "2023-03-15T20:23:44.132Z"
   },
   {
    "duration": 27,
    "start_time": "2023-03-15T20:23:44.145Z"
   },
   {
    "duration": 14,
    "start_time": "2023-03-15T20:23:44.174Z"
   },
   {
    "duration": 15,
    "start_time": "2023-03-15T20:23:44.190Z"
   },
   {
    "duration": 12,
    "start_time": "2023-03-15T20:23:44.208Z"
   },
   {
    "duration": 7,
    "start_time": "2023-03-15T20:23:44.222Z"
   },
   {
    "duration": 6,
    "start_time": "2023-03-15T20:23:44.230Z"
   },
   {
    "duration": 35,
    "start_time": "2023-03-15T20:23:44.238Z"
   },
   {
    "duration": 8,
    "start_time": "2023-03-15T20:23:44.275Z"
   },
   {
    "duration": 5,
    "start_time": "2023-03-15T20:23:44.285Z"
   },
   {
    "duration": 12,
    "start_time": "2023-03-15T20:23:44.292Z"
   },
   {
    "duration": 6,
    "start_time": "2023-03-15T20:23:44.305Z"
   },
   {
    "duration": 14,
    "start_time": "2023-03-15T20:23:44.312Z"
   },
   {
    "duration": 365,
    "start_time": "2023-03-15T20:23:44.328Z"
   },
   {
    "duration": 7,
    "start_time": "2023-03-15T20:23:44.695Z"
   },
   {
    "duration": 351,
    "start_time": "2023-03-15T20:23:44.703Z"
   },
   {
    "duration": 323,
    "start_time": "2023-03-15T20:23:45.056Z"
   },
   {
    "duration": 401,
    "start_time": "2023-03-15T20:23:45.382Z"
   },
   {
    "duration": 151,
    "start_time": "2023-03-15T20:23:45.785Z"
   },
   {
    "duration": 151,
    "start_time": "2023-03-15T20:23:45.938Z"
   },
   {
    "duration": 5,
    "start_time": "2023-03-15T20:23:46.091Z"
   },
   {
    "duration": 186,
    "start_time": "2023-03-15T20:23:46.098Z"
   },
   {
    "duration": 196,
    "start_time": "2023-03-15T20:23:46.285Z"
   },
   {
    "duration": 5,
    "start_time": "2023-03-15T20:23:46.482Z"
   },
   {
    "duration": 194,
    "start_time": "2023-03-15T20:23:46.489Z"
   },
   {
    "duration": 19,
    "start_time": "2023-03-15T20:23:46.685Z"
   },
   {
    "duration": 10,
    "start_time": "2023-03-15T20:23:46.706Z"
   },
   {
    "duration": 143,
    "start_time": "2023-03-15T20:23:46.718Z"
   },
   {
    "duration": 9,
    "start_time": "2023-03-15T20:23:46.863Z"
   },
   {
    "duration": 163,
    "start_time": "2023-03-15T20:23:46.874Z"
   },
   {
    "duration": 10,
    "start_time": "2023-03-15T20:23:47.038Z"
   },
   {
    "duration": 10,
    "start_time": "2023-03-15T20:23:47.069Z"
   },
   {
    "duration": 11,
    "start_time": "2023-03-15T20:23:47.080Z"
   },
   {
    "duration": 50,
    "start_time": "2023-03-16T16:28:49.023Z"
   },
   {
    "duration": 1342,
    "start_time": "2023-03-16T16:28:54.817Z"
   },
   {
    "duration": 76,
    "start_time": "2023-03-16T16:28:56.161Z"
   },
   {
    "duration": 14,
    "start_time": "2023-03-16T16:28:56.239Z"
   },
   {
    "duration": 12,
    "start_time": "2023-03-16T16:28:56.256Z"
   },
   {
    "duration": 4,
    "start_time": "2023-03-16T16:28:56.270Z"
   },
   {
    "duration": 13,
    "start_time": "2023-03-16T16:28:56.276Z"
   },
   {
    "duration": 14,
    "start_time": "2023-03-16T16:28:56.291Z"
   },
   {
    "duration": 11,
    "start_time": "2023-03-16T16:28:56.308Z"
   },
   {
    "duration": 140,
    "start_time": "2023-03-16T16:28:56.321Z"
   },
   {
    "duration": 8,
    "start_time": "2023-03-16T16:28:56.463Z"
   },
   {
    "duration": 16,
    "start_time": "2023-03-16T16:28:56.473Z"
   },
   {
    "duration": 10,
    "start_time": "2023-03-16T16:28:56.490Z"
   },
   {
    "duration": 13,
    "start_time": "2023-03-16T16:28:56.502Z"
   },
   {
    "duration": 12,
    "start_time": "2023-03-16T16:28:56.518Z"
   },
   {
    "duration": 9,
    "start_time": "2023-03-16T16:28:56.531Z"
   },
   {
    "duration": 10,
    "start_time": "2023-03-16T16:28:56.541Z"
   },
   {
    "duration": 9,
    "start_time": "2023-03-16T16:28:56.553Z"
   },
   {
    "duration": 9,
    "start_time": "2023-03-16T16:28:56.564Z"
   },
   {
    "duration": 4,
    "start_time": "2023-03-16T16:28:56.596Z"
   },
   {
    "duration": 15,
    "start_time": "2023-03-16T16:28:56.601Z"
   },
   {
    "duration": 6,
    "start_time": "2023-03-16T16:28:56.618Z"
   },
   {
    "duration": 6,
    "start_time": "2023-03-16T16:28:56.626Z"
   },
   {
    "duration": 307,
    "start_time": "2023-03-16T16:28:56.634Z"
   },
   {
    "duration": 6,
    "start_time": "2023-03-16T16:28:56.943Z"
   },
   {
    "duration": 363,
    "start_time": "2023-03-16T16:28:56.950Z"
   },
   {
    "duration": 253,
    "start_time": "2023-03-16T16:28:57.314Z"
   },
   {
    "duration": 445,
    "start_time": "2023-03-16T16:28:57.569Z"
   },
   {
    "duration": 181,
    "start_time": "2023-03-16T16:28:58.016Z"
   },
   {
    "duration": 165,
    "start_time": "2023-03-16T16:28:58.199Z"
   },
   {
    "duration": 5,
    "start_time": "2023-03-16T16:28:58.366Z"
   },
   {
    "duration": 174,
    "start_time": "2023-03-16T16:28:58.372Z"
   },
   {
    "duration": 211,
    "start_time": "2023-03-16T16:28:58.548Z"
   },
   {
    "duration": 5,
    "start_time": "2023-03-16T16:28:58.761Z"
   },
   {
    "duration": 196,
    "start_time": "2023-03-16T16:28:58.768Z"
   },
   {
    "duration": 19,
    "start_time": "2023-03-16T16:28:58.965Z"
   },
   {
    "duration": 18,
    "start_time": "2023-03-16T16:28:58.986Z"
   },
   {
    "duration": 135,
    "start_time": "2023-03-16T16:28:59.006Z"
   },
   {
    "duration": 6,
    "start_time": "2023-03-16T16:28:59.143Z"
   },
   {
    "duration": 177,
    "start_time": "2023-03-16T16:28:59.151Z"
   },
   {
    "duration": 10,
    "start_time": "2023-03-16T16:28:59.330Z"
   },
   {
    "duration": 10,
    "start_time": "2023-03-16T16:28:59.344Z"
   },
   {
    "duration": 13,
    "start_time": "2023-03-16T16:28:59.355Z"
   },
   {
    "duration": 5,
    "start_time": "2023-03-16T16:30:46.767Z"
   },
   {
    "duration": 377,
    "start_time": "2023-03-16T17:57:24.933Z"
   },
   {
    "duration": 259,
    "start_time": "2023-03-16T17:58:26.581Z"
   },
   {
    "duration": 1180,
    "start_time": "2023-03-16T17:58:35.530Z"
   },
   {
    "duration": 27,
    "start_time": "2023-03-16T17:58:36.713Z"
   },
   {
    "duration": 10,
    "start_time": "2023-03-16T17:58:36.742Z"
   },
   {
    "duration": 15,
    "start_time": "2023-03-16T17:58:36.754Z"
   },
   {
    "duration": 3,
    "start_time": "2023-03-16T17:58:36.771Z"
   },
   {
    "duration": 11,
    "start_time": "2023-03-16T17:58:36.775Z"
   },
   {
    "duration": 14,
    "start_time": "2023-03-16T17:58:36.788Z"
   },
   {
    "duration": 10,
    "start_time": "2023-03-16T17:58:36.803Z"
   },
   {
    "duration": 52,
    "start_time": "2023-03-16T17:58:36.814Z"
   },
   {
    "duration": 7,
    "start_time": "2023-03-16T17:58:36.869Z"
   },
   {
    "duration": 17,
    "start_time": "2023-03-16T17:58:36.878Z"
   },
   {
    "duration": 11,
    "start_time": "2023-03-16T17:58:36.897Z"
   },
   {
    "duration": 14,
    "start_time": "2023-03-16T17:58:36.910Z"
   },
   {
    "duration": 13,
    "start_time": "2023-03-16T17:58:36.926Z"
   },
   {
    "duration": 8,
    "start_time": "2023-03-16T17:58:36.940Z"
   },
   {
    "duration": 6,
    "start_time": "2023-03-16T17:58:36.949Z"
   },
   {
    "duration": 10,
    "start_time": "2023-03-16T17:58:36.957Z"
   },
   {
    "duration": 32,
    "start_time": "2023-03-16T17:58:36.969Z"
   },
   {
    "duration": 6,
    "start_time": "2023-03-16T17:58:37.002Z"
   },
   {
    "duration": 13,
    "start_time": "2023-03-16T17:58:37.009Z"
   },
   {
    "duration": 9,
    "start_time": "2023-03-16T17:58:37.023Z"
   },
   {
    "duration": 8,
    "start_time": "2023-03-16T17:58:37.034Z"
   },
   {
    "duration": 336,
    "start_time": "2023-03-16T17:58:37.044Z"
   },
   {
    "duration": 14,
    "start_time": "2023-03-16T17:58:37.382Z"
   },
   {
    "duration": 366,
    "start_time": "2023-03-16T17:58:37.398Z"
   },
   {
    "duration": 258,
    "start_time": "2023-03-16T17:58:37.766Z"
   },
   {
    "duration": 364,
    "start_time": "2023-03-16T17:58:38.026Z"
   },
   {
    "duration": 138,
    "start_time": "2023-03-16T17:58:38.394Z"
   },
   {
    "duration": 165,
    "start_time": "2023-03-16T17:58:38.534Z"
   },
   {
    "duration": 5,
    "start_time": "2023-03-16T17:58:38.701Z"
   },
   {
    "duration": 179,
    "start_time": "2023-03-16T17:58:38.708Z"
   },
   {
    "duration": 210,
    "start_time": "2023-03-16T17:58:38.889Z"
   },
   {
    "duration": 5,
    "start_time": "2023-03-16T17:58:39.101Z"
   },
   {
    "duration": 207,
    "start_time": "2023-03-16T17:58:39.107Z"
   },
   {
    "duration": 19,
    "start_time": "2023-03-16T17:58:39.316Z"
   },
   {
    "duration": 11,
    "start_time": "2023-03-16T17:58:39.337Z"
   },
   {
    "duration": 152,
    "start_time": "2023-03-16T17:58:39.349Z"
   },
   {
    "duration": 7,
    "start_time": "2023-03-16T17:58:39.503Z"
   },
   {
    "duration": 166,
    "start_time": "2023-03-16T17:58:39.512Z"
   },
   {
    "duration": 18,
    "start_time": "2023-03-16T17:58:39.680Z"
   },
   {
    "duration": 11,
    "start_time": "2023-03-16T17:58:39.700Z"
   },
   {
    "duration": 19,
    "start_time": "2023-03-16T17:58:39.713Z"
   },
   {
    "duration": 343,
    "start_time": "2023-03-16T17:59:47.429Z"
   },
   {
    "duration": 259,
    "start_time": "2023-03-16T18:00:21.803Z"
   },
   {
    "duration": 348,
    "start_time": "2023-03-16T18:01:23.842Z"
   },
   {
    "duration": 273,
    "start_time": "2023-03-16T18:01:46.823Z"
   },
   {
    "duration": 265,
    "start_time": "2023-03-16T18:04:45.378Z"
   },
   {
    "duration": 1130,
    "start_time": "2023-03-16T18:04:52.498Z"
   },
   {
    "duration": 26,
    "start_time": "2023-03-16T18:04:53.630Z"
   },
   {
    "duration": 13,
    "start_time": "2023-03-16T18:04:53.657Z"
   },
   {
    "duration": 19,
    "start_time": "2023-03-16T18:04:53.672Z"
   },
   {
    "duration": 4,
    "start_time": "2023-03-16T18:04:53.693Z"
   },
   {
    "duration": 16,
    "start_time": "2023-03-16T18:04:53.698Z"
   },
   {
    "duration": 23,
    "start_time": "2023-03-16T18:04:53.716Z"
   },
   {
    "duration": 12,
    "start_time": "2023-03-16T18:04:53.740Z"
   },
   {
    "duration": 70,
    "start_time": "2023-03-16T18:04:53.754Z"
   },
   {
    "duration": 9,
    "start_time": "2023-03-16T18:04:53.827Z"
   },
   {
    "duration": 16,
    "start_time": "2023-03-16T18:04:53.838Z"
   },
   {
    "duration": 13,
    "start_time": "2023-03-16T18:04:53.856Z"
   },
   {
    "duration": 16,
    "start_time": "2023-03-16T18:04:53.870Z"
   },
   {
    "duration": 16,
    "start_time": "2023-03-16T18:04:53.887Z"
   },
   {
    "duration": 10,
    "start_time": "2023-03-16T18:04:53.905Z"
   },
   {
    "duration": 11,
    "start_time": "2023-03-16T18:04:53.916Z"
   },
   {
    "duration": 50,
    "start_time": "2023-03-16T18:04:53.929Z"
   },
   {
    "duration": 16,
    "start_time": "2023-03-16T18:04:53.981Z"
   },
   {
    "duration": 16,
    "start_time": "2023-03-16T18:04:54.000Z"
   },
   {
    "duration": 31,
    "start_time": "2023-03-16T18:04:54.019Z"
   },
   {
    "duration": 17,
    "start_time": "2023-03-16T18:04:54.052Z"
   },
   {
    "duration": 13,
    "start_time": "2023-03-16T18:04:54.071Z"
   },
   {
    "duration": 359,
    "start_time": "2023-03-16T18:04:54.086Z"
   },
   {
    "duration": 8,
    "start_time": "2023-03-16T18:04:54.447Z"
   },
   {
    "duration": 376,
    "start_time": "2023-03-16T18:04:54.457Z"
   },
   {
    "duration": 252,
    "start_time": "2023-03-16T18:04:54.835Z"
   },
   {
    "duration": 361,
    "start_time": "2023-03-16T18:04:55.089Z"
   },
   {
    "duration": 124,
    "start_time": "2023-03-16T18:04:55.454Z"
   },
   {
    "duration": 151,
    "start_time": "2023-03-16T18:04:55.580Z"
   },
   {
    "duration": 6,
    "start_time": "2023-03-16T18:04:55.733Z"
   },
   {
    "duration": 167,
    "start_time": "2023-03-16T18:04:55.740Z"
   },
   {
    "duration": 214,
    "start_time": "2023-03-16T18:04:55.909Z"
   },
   {
    "duration": 5,
    "start_time": "2023-03-16T18:04:56.124Z"
   },
   {
    "duration": 199,
    "start_time": "2023-03-16T18:04:56.131Z"
   },
   {
    "duration": 20,
    "start_time": "2023-03-16T18:04:56.332Z"
   },
   {
    "duration": 10,
    "start_time": "2023-03-16T18:04:56.354Z"
   },
   {
    "duration": 170,
    "start_time": "2023-03-16T18:04:56.365Z"
   },
   {
    "duration": 6,
    "start_time": "2023-03-16T18:04:56.536Z"
   },
   {
    "duration": 165,
    "start_time": "2023-03-16T18:04:56.544Z"
   },
   {
    "duration": 10,
    "start_time": "2023-03-16T18:04:56.711Z"
   },
   {
    "duration": 13,
    "start_time": "2023-03-16T18:04:56.723Z"
   },
   {
    "duration": 11,
    "start_time": "2023-03-16T18:04:56.738Z"
   },
   {
    "duration": 322,
    "start_time": "2023-03-16T18:06:41.099Z"
   },
   {
    "duration": 310,
    "start_time": "2023-03-16T18:07:32.803Z"
   },
   {
    "duration": 257,
    "start_time": "2023-03-16T18:07:49.795Z"
   },
   {
    "duration": 260,
    "start_time": "2023-03-16T18:08:01.403Z"
   },
   {
    "duration": 253,
    "start_time": "2023-03-16T18:08:05.846Z"
   },
   {
    "duration": 244,
    "start_time": "2023-03-16T18:08:42.988Z"
   },
   {
    "duration": 258,
    "start_time": "2023-03-16T18:08:53.300Z"
   },
   {
    "duration": 235,
    "start_time": "2023-03-16T18:09:01.836Z"
   },
   {
    "duration": 223,
    "start_time": "2023-03-16T18:14:55.703Z"
   },
   {
    "duration": 237,
    "start_time": "2023-03-16T18:15:26.935Z"
   },
   {
    "duration": 239,
    "start_time": "2023-03-16T18:18:44.179Z"
   },
   {
    "duration": 267,
    "start_time": "2023-03-16T18:18:53.858Z"
   },
   {
    "duration": 211,
    "start_time": "2023-03-16T18:19:02.615Z"
   },
   {
    "duration": 358,
    "start_time": "2023-03-16T18:19:18.191Z"
   },
   {
    "duration": 216,
    "start_time": "2023-03-16T18:19:42.070Z"
   },
   {
    "duration": 232,
    "start_time": "2023-03-16T18:19:49.514Z"
   },
   {
    "duration": 231,
    "start_time": "2023-03-16T18:20:38.907Z"
   },
   {
    "duration": 217,
    "start_time": "2023-03-16T18:24:26.159Z"
   },
   {
    "duration": 1163,
    "start_time": "2023-03-16T18:24:44.049Z"
   },
   {
    "duration": 26,
    "start_time": "2023-03-16T18:24:45.214Z"
   },
   {
    "duration": 14,
    "start_time": "2023-03-16T18:24:45.242Z"
   },
   {
    "duration": 40,
    "start_time": "2023-03-16T18:24:45.258Z"
   },
   {
    "duration": 28,
    "start_time": "2023-03-16T18:24:45.300Z"
   },
   {
    "duration": 34,
    "start_time": "2023-03-16T18:24:45.330Z"
   },
   {
    "duration": 39,
    "start_time": "2023-03-16T18:24:45.366Z"
   },
   {
    "duration": 19,
    "start_time": "2023-03-16T18:24:45.407Z"
   },
   {
    "duration": 70,
    "start_time": "2023-03-16T18:24:45.428Z"
   },
   {
    "duration": 7,
    "start_time": "2023-03-16T18:24:45.501Z"
   },
   {
    "duration": 22,
    "start_time": "2023-03-16T18:24:45.510Z"
   },
   {
    "duration": 29,
    "start_time": "2023-03-16T18:24:45.534Z"
   },
   {
    "duration": 22,
    "start_time": "2023-03-16T18:24:45.565Z"
   },
   {
    "duration": 27,
    "start_time": "2023-03-16T18:24:45.589Z"
   },
   {
    "duration": 19,
    "start_time": "2023-03-16T18:24:45.618Z"
   },
   {
    "duration": 15,
    "start_time": "2023-03-16T18:24:45.639Z"
   },
   {
    "duration": 33,
    "start_time": "2023-03-16T18:24:45.656Z"
   },
   {
    "duration": 16,
    "start_time": "2023-03-16T18:24:45.691Z"
   },
   {
    "duration": 17,
    "start_time": "2023-03-16T18:24:45.708Z"
   },
   {
    "duration": 38,
    "start_time": "2023-03-16T18:24:45.726Z"
   },
   {
    "duration": 17,
    "start_time": "2023-03-16T18:24:45.766Z"
   },
   {
    "duration": 29,
    "start_time": "2023-03-16T18:24:45.785Z"
   },
   {
    "duration": 313,
    "start_time": "2023-03-16T18:24:45.816Z"
   },
   {
    "duration": 8,
    "start_time": "2023-03-16T18:24:46.130Z"
   },
   {
    "duration": 428,
    "start_time": "2023-03-16T18:24:46.139Z"
   },
   {
    "duration": 0,
    "start_time": "2023-03-16T18:24:46.569Z"
   },
   {
    "duration": 0,
    "start_time": "2023-03-16T18:24:46.571Z"
   },
   {
    "duration": 0,
    "start_time": "2023-03-16T18:24:46.572Z"
   },
   {
    "duration": 0,
    "start_time": "2023-03-16T18:24:46.573Z"
   },
   {
    "duration": 0,
    "start_time": "2023-03-16T18:24:46.575Z"
   },
   {
    "duration": 0,
    "start_time": "2023-03-16T18:24:46.576Z"
   },
   {
    "duration": 0,
    "start_time": "2023-03-16T18:24:46.577Z"
   },
   {
    "duration": 0,
    "start_time": "2023-03-16T18:24:46.578Z"
   },
   {
    "duration": 0,
    "start_time": "2023-03-16T18:24:46.596Z"
   },
   {
    "duration": 1,
    "start_time": "2023-03-16T18:24:46.596Z"
   },
   {
    "duration": 0,
    "start_time": "2023-03-16T18:24:46.598Z"
   },
   {
    "duration": 0,
    "start_time": "2023-03-16T18:24:46.599Z"
   },
   {
    "duration": 0,
    "start_time": "2023-03-16T18:24:46.600Z"
   },
   {
    "duration": 0,
    "start_time": "2023-03-16T18:24:46.602Z"
   },
   {
    "duration": 0,
    "start_time": "2023-03-16T18:24:46.602Z"
   },
   {
    "duration": 0,
    "start_time": "2023-03-16T18:24:46.604Z"
   },
   {
    "duration": 0,
    "start_time": "2023-03-16T18:24:46.605Z"
   },
   {
    "duration": 246,
    "start_time": "2023-03-16T18:25:56.530Z"
   },
   {
    "duration": 237,
    "start_time": "2023-03-16T18:26:17.694Z"
   },
   {
    "duration": 231,
    "start_time": "2023-03-16T18:26:21.720Z"
   },
   {
    "duration": 242,
    "start_time": "2023-03-16T18:26:29.902Z"
   },
   {
    "duration": 223,
    "start_time": "2023-03-16T18:27:07.865Z"
   },
   {
    "duration": 236,
    "start_time": "2023-03-16T18:27:13.128Z"
   },
   {
    "duration": 9,
    "start_time": "2023-03-16T18:27:48.577Z"
   },
   {
    "duration": 316,
    "start_time": "2023-03-16T18:29:17.827Z"
   },
   {
    "duration": 254,
    "start_time": "2023-03-16T18:30:38.716Z"
   },
   {
    "duration": 215,
    "start_time": "2023-03-16T18:30:52.525Z"
   },
   {
    "duration": 214,
    "start_time": "2023-03-16T18:31:06.747Z"
   },
   {
    "duration": 211,
    "start_time": "2023-03-16T18:35:54.074Z"
   },
   {
    "duration": 313,
    "start_time": "2023-03-16T18:36:05.841Z"
   },
   {
    "duration": 363,
    "start_time": "2023-03-16T18:36:19.198Z"
   },
   {
    "duration": 253,
    "start_time": "2023-03-16T18:36:30.325Z"
   },
   {
    "duration": 201,
    "start_time": "2023-03-16T18:37:27.007Z"
   },
   {
    "duration": 217,
    "start_time": "2023-03-16T18:38:42.148Z"
   },
   {
    "duration": 231,
    "start_time": "2023-03-16T18:39:27.833Z"
   },
   {
    "duration": 146,
    "start_time": "2023-03-16T18:40:12.013Z"
   },
   {
    "duration": 219,
    "start_time": "2023-03-16T18:40:13.348Z"
   },
   {
    "duration": 134,
    "start_time": "2023-03-16T18:41:22.492Z"
   },
   {
    "duration": 127,
    "start_time": "2023-03-16T18:41:29.002Z"
   },
   {
    "duration": 300,
    "start_time": "2023-03-16T18:41:41.018Z"
   },
   {
    "duration": 210,
    "start_time": "2023-03-16T18:41:45.814Z"
   },
   {
    "duration": 140,
    "start_time": "2023-03-16T18:42:23.611Z"
   },
   {
    "duration": 222,
    "start_time": "2023-03-16T18:42:26.481Z"
   },
   {
    "duration": 173,
    "start_time": "2023-03-16T18:42:54.493Z"
   },
   {
    "duration": 125,
    "start_time": "2023-03-16T18:47:12.824Z"
   },
   {
    "duration": 130,
    "start_time": "2023-03-16T18:47:59.706Z"
   },
   {
    "duration": 127,
    "start_time": "2023-03-16T18:49:35.544Z"
   },
   {
    "duration": 291,
    "start_time": "2023-03-16T18:49:58.659Z"
   },
   {
    "duration": 195,
    "start_time": "2023-03-16T18:51:32.242Z"
   },
   {
    "duration": 307,
    "start_time": "2023-03-16T18:52:15.865Z"
   },
   {
    "duration": 188,
    "start_time": "2023-03-16T18:54:16.507Z"
   },
   {
    "duration": 23,
    "start_time": "2023-03-16T19:12:44.691Z"
   },
   {
    "duration": 198,
    "start_time": "2023-03-16T19:12:56.280Z"
   },
   {
    "duration": 141,
    "start_time": "2023-03-16T19:13:11.609Z"
   },
   {
    "duration": 196,
    "start_time": "2023-03-16T19:13:27.080Z"
   },
   {
    "duration": 198,
    "start_time": "2023-03-16T19:14:50.218Z"
   },
   {
    "duration": 193,
    "start_time": "2023-03-16T19:14:57.592Z"
   },
   {
    "duration": 15,
    "start_time": "2023-03-16T19:15:24.273Z"
   },
   {
    "duration": 132,
    "start_time": "2023-03-16T19:15:33.778Z"
   },
   {
    "duration": 3,
    "start_time": "2023-03-16T19:20:13.069Z"
   },
   {
    "duration": 29,
    "start_time": "2023-03-16T19:20:13.074Z"
   },
   {
    "duration": 11,
    "start_time": "2023-03-16T19:20:13.105Z"
   },
   {
    "duration": 17,
    "start_time": "2023-03-16T19:20:13.118Z"
   },
   {
    "duration": 7,
    "start_time": "2023-03-16T19:20:13.136Z"
   },
   {
    "duration": 22,
    "start_time": "2023-03-16T19:20:13.144Z"
   },
   {
    "duration": 18,
    "start_time": "2023-03-16T19:20:13.168Z"
   },
   {
    "duration": 25,
    "start_time": "2023-03-16T19:20:13.188Z"
   },
   {
    "duration": 49,
    "start_time": "2023-03-16T19:20:13.216Z"
   },
   {
    "duration": 7,
    "start_time": "2023-03-16T19:20:13.267Z"
   },
   {
    "duration": 13,
    "start_time": "2023-03-16T19:20:13.276Z"
   },
   {
    "duration": 17,
    "start_time": "2023-03-16T19:20:13.291Z"
   },
   {
    "duration": 14,
    "start_time": "2023-03-16T19:20:13.310Z"
   },
   {
    "duration": 16,
    "start_time": "2023-03-16T19:20:13.325Z"
   },
   {
    "duration": 11,
    "start_time": "2023-03-16T19:20:13.343Z"
   },
   {
    "duration": 9,
    "start_time": "2023-03-16T19:20:13.355Z"
   },
   {
    "duration": 14,
    "start_time": "2023-03-16T19:20:13.365Z"
   },
   {
    "duration": 16,
    "start_time": "2023-03-16T19:20:13.381Z"
   },
   {
    "duration": 9,
    "start_time": "2023-03-16T19:20:13.398Z"
   },
   {
    "duration": 14,
    "start_time": "2023-03-16T19:20:13.408Z"
   },
   {
    "duration": 9,
    "start_time": "2023-03-16T19:20:13.423Z"
   },
   {
    "duration": 8,
    "start_time": "2023-03-16T19:20:13.433Z"
   },
   {
    "duration": 305,
    "start_time": "2023-03-16T19:20:13.442Z"
   },
   {
    "duration": 8,
    "start_time": "2023-03-16T19:20:13.750Z"
   },
   {
    "duration": 228,
    "start_time": "2023-03-16T19:20:13.759Z"
   },
   {
    "duration": 0,
    "start_time": "2023-03-16T19:20:13.989Z"
   },
   {
    "duration": 0,
    "start_time": "2023-03-16T19:20:13.991Z"
   },
   {
    "duration": 0,
    "start_time": "2023-03-16T19:20:13.992Z"
   },
   {
    "duration": 0,
    "start_time": "2023-03-16T19:20:13.992Z"
   },
   {
    "duration": 0,
    "start_time": "2023-03-16T19:20:13.994Z"
   },
   {
    "duration": 0,
    "start_time": "2023-03-16T19:20:13.996Z"
   },
   {
    "duration": 0,
    "start_time": "2023-03-16T19:20:13.997Z"
   },
   {
    "duration": 0,
    "start_time": "2023-03-16T19:20:13.999Z"
   },
   {
    "duration": 0,
    "start_time": "2023-03-16T19:20:14.000Z"
   },
   {
    "duration": 0,
    "start_time": "2023-03-16T19:20:14.002Z"
   },
   {
    "duration": 0,
    "start_time": "2023-03-16T19:20:14.003Z"
   },
   {
    "duration": 0,
    "start_time": "2023-03-16T19:20:14.004Z"
   },
   {
    "duration": 0,
    "start_time": "2023-03-16T19:20:14.006Z"
   },
   {
    "duration": 0,
    "start_time": "2023-03-16T19:20:14.007Z"
   },
   {
    "duration": 0,
    "start_time": "2023-03-16T19:20:14.008Z"
   },
   {
    "duration": 0,
    "start_time": "2023-03-16T19:20:14.009Z"
   },
   {
    "duration": 0,
    "start_time": "2023-03-16T19:20:14.011Z"
   },
   {
    "duration": 186,
    "start_time": "2023-03-16T19:20:49.787Z"
   },
   {
    "duration": 229,
    "start_time": "2023-03-16T19:23:21.682Z"
   },
   {
    "duration": 16,
    "start_time": "2023-03-16T19:23:43.531Z"
   },
   {
    "duration": 197,
    "start_time": "2023-03-16T19:23:57.830Z"
   },
   {
    "duration": 320,
    "start_time": "2023-03-16T19:24:25.183Z"
   },
   {
    "duration": 215,
    "start_time": "2023-03-16T19:24:46.765Z"
   },
   {
    "duration": 229,
    "start_time": "2023-03-16T19:25:04.375Z"
   },
   {
    "duration": 190,
    "start_time": "2023-03-16T19:25:17.382Z"
   },
   {
    "duration": 187,
    "start_time": "2023-03-16T19:25:50.821Z"
   },
   {
    "duration": 235,
    "start_time": "2023-03-16T19:27:20.310Z"
   },
   {
    "duration": 234,
    "start_time": "2023-03-16T19:40:38.848Z"
   },
   {
    "duration": 199,
    "start_time": "2023-03-16T19:44:21.323Z"
   },
   {
    "duration": 1413,
    "start_time": "2023-03-17T03:53:49.846Z"
   },
   {
    "duration": 74,
    "start_time": "2023-03-17T03:53:51.262Z"
   },
   {
    "duration": 13,
    "start_time": "2023-03-17T03:53:51.338Z"
   },
   {
    "duration": 33,
    "start_time": "2023-03-17T03:53:51.354Z"
   },
   {
    "duration": 7,
    "start_time": "2023-03-17T03:53:51.389Z"
   },
   {
    "duration": 36,
    "start_time": "2023-03-17T03:53:51.398Z"
   },
   {
    "duration": 29,
    "start_time": "2023-03-17T03:53:51.436Z"
   },
   {
    "duration": 16,
    "start_time": "2023-03-17T03:53:51.467Z"
   },
   {
    "duration": 211,
    "start_time": "2023-03-17T03:53:51.485Z"
   },
   {
    "duration": 9,
    "start_time": "2023-03-17T03:53:51.699Z"
   },
   {
    "duration": 30,
    "start_time": "2023-03-17T03:53:51.710Z"
   },
   {
    "duration": 22,
    "start_time": "2023-03-17T03:53:51.742Z"
   },
   {
    "duration": 35,
    "start_time": "2023-03-17T03:53:51.766Z"
   },
   {
    "duration": 35,
    "start_time": "2023-03-17T03:53:51.803Z"
   },
   {
    "duration": 17,
    "start_time": "2023-03-17T03:53:51.840Z"
   },
   {
    "duration": 11,
    "start_time": "2023-03-17T03:53:51.859Z"
   },
   {
    "duration": 16,
    "start_time": "2023-03-17T03:53:51.872Z"
   },
   {
    "duration": 14,
    "start_time": "2023-03-17T03:53:51.890Z"
   },
   {
    "duration": 15,
    "start_time": "2023-03-17T03:53:51.906Z"
   },
   {
    "duration": 20,
    "start_time": "2023-03-17T03:53:51.923Z"
   },
   {
    "duration": 12,
    "start_time": "2023-03-17T03:53:51.945Z"
   },
   {
    "duration": 10,
    "start_time": "2023-03-17T03:53:51.959Z"
   },
   {
    "duration": 328,
    "start_time": "2023-03-17T03:53:51.971Z"
   },
   {
    "duration": 8,
    "start_time": "2023-03-17T03:53:52.301Z"
   },
   {
    "duration": 394,
    "start_time": "2023-03-17T03:53:52.311Z"
   },
   {
    "duration": 261,
    "start_time": "2023-03-17T03:53:52.707Z"
   },
   {
    "duration": 368,
    "start_time": "2023-03-17T03:53:52.976Z"
   },
   {
    "duration": 247,
    "start_time": "2023-03-17T03:53:53.348Z"
   },
   {
    "duration": 318,
    "start_time": "2023-03-17T03:53:53.598Z"
   },
   {
    "duration": 158,
    "start_time": "2023-03-17T03:53:53.919Z"
   },
   {
    "duration": 178,
    "start_time": "2023-03-17T03:53:54.079Z"
   },
   {
    "duration": 5,
    "start_time": "2023-03-17T03:53:54.259Z"
   },
   {
    "duration": 202,
    "start_time": "2023-03-17T03:53:54.266Z"
   },
   {
    "duration": 293,
    "start_time": "2023-03-17T03:53:54.470Z"
   },
   {
    "duration": 6,
    "start_time": "2023-03-17T03:53:54.765Z"
   },
   {
    "duration": 220,
    "start_time": "2023-03-17T03:53:54.772Z"
   },
   {
    "duration": 23,
    "start_time": "2023-03-17T03:53:54.994Z"
   },
   {
    "duration": 13,
    "start_time": "2023-03-17T03:53:55.019Z"
   },
   {
    "duration": 165,
    "start_time": "2023-03-17T03:53:55.034Z"
   },
   {
    "duration": 7,
    "start_time": "2023-03-17T03:53:55.202Z"
   },
   {
    "duration": 182,
    "start_time": "2023-03-17T03:53:55.210Z"
   },
   {
    "duration": 11,
    "start_time": "2023-03-17T03:53:55.394Z"
   },
   {
    "duration": 10,
    "start_time": "2023-03-17T03:53:55.407Z"
   },
   {
    "duration": 17,
    "start_time": "2023-03-17T03:53:55.419Z"
   },
   {
    "duration": 58,
    "start_time": "2023-03-17T19:17:07.674Z"
   },
   {
    "duration": 1376,
    "start_time": "2023-03-17T19:17:16.247Z"
   },
   {
    "duration": 83,
    "start_time": "2023-03-17T19:17:17.625Z"
   },
   {
    "duration": 15,
    "start_time": "2023-03-17T19:17:17.710Z"
   },
   {
    "duration": 12,
    "start_time": "2023-03-17T19:17:17.727Z"
   },
   {
    "duration": 6,
    "start_time": "2023-03-17T19:17:17.741Z"
   },
   {
    "duration": 18,
    "start_time": "2023-03-17T19:17:17.748Z"
   },
   {
    "duration": 21,
    "start_time": "2023-03-17T19:17:17.768Z"
   },
   {
    "duration": 8,
    "start_time": "2023-03-17T19:17:17.791Z"
   },
   {
    "duration": 146,
    "start_time": "2023-03-17T19:17:17.802Z"
   },
   {
    "duration": 12,
    "start_time": "2023-03-17T19:17:17.951Z"
   },
   {
    "duration": 13,
    "start_time": "2023-03-17T19:17:17.965Z"
   },
   {
    "duration": 11,
    "start_time": "2023-03-17T19:17:17.979Z"
   },
   {
    "duration": 23,
    "start_time": "2023-03-17T19:17:17.992Z"
   },
   {
    "duration": 24,
    "start_time": "2023-03-17T19:17:18.017Z"
   },
   {
    "duration": 19,
    "start_time": "2023-03-17T19:17:18.043Z"
   },
   {
    "duration": 13,
    "start_time": "2023-03-17T19:17:18.064Z"
   },
   {
    "duration": 18,
    "start_time": "2023-03-17T19:17:18.079Z"
   },
   {
    "duration": 17,
    "start_time": "2023-03-17T19:17:18.099Z"
   },
   {
    "duration": 17,
    "start_time": "2023-03-17T19:17:18.118Z"
   },
   {
    "duration": 20,
    "start_time": "2023-03-17T19:17:18.138Z"
   },
   {
    "duration": 20,
    "start_time": "2023-03-17T19:17:18.160Z"
   },
   {
    "duration": 8,
    "start_time": "2023-03-17T19:17:18.186Z"
   },
   {
    "duration": 370,
    "start_time": "2023-03-17T19:17:18.197Z"
   },
   {
    "duration": 7,
    "start_time": "2023-03-17T19:17:18.569Z"
   },
   {
    "duration": 355,
    "start_time": "2023-03-17T19:17:18.589Z"
   },
   {
    "duration": 256,
    "start_time": "2023-03-17T19:17:18.946Z"
   },
   {
    "duration": 369,
    "start_time": "2023-03-17T19:17:19.203Z"
   },
   {
    "duration": 317,
    "start_time": "2023-03-17T19:17:19.576Z"
   },
   {
    "duration": 496,
    "start_time": "2023-03-17T19:17:19.895Z"
   },
   {
    "duration": 298,
    "start_time": "2023-03-17T19:17:20.393Z"
   },
   {
    "duration": 426,
    "start_time": "2023-03-17T19:17:20.693Z"
   },
   {
    "duration": 5,
    "start_time": "2023-03-17T19:17:21.121Z"
   },
   {
    "duration": 407,
    "start_time": "2023-03-17T19:17:21.128Z"
   },
   {
    "duration": 566,
    "start_time": "2023-03-17T19:17:21.588Z"
   },
   {
    "duration": 36,
    "start_time": "2023-03-17T19:17:22.156Z"
   },
   {
    "duration": 515,
    "start_time": "2023-03-17T19:17:22.195Z"
   },
   {
    "duration": 83,
    "start_time": "2023-03-17T19:17:22.711Z"
   },
   {
    "duration": 12,
    "start_time": "2023-03-17T19:17:22.797Z"
   },
   {
    "duration": 299,
    "start_time": "2023-03-17T19:17:22.811Z"
   },
   {
    "duration": 7,
    "start_time": "2023-03-17T19:17:23.112Z"
   },
   {
    "duration": 491,
    "start_time": "2023-03-17T19:17:23.121Z"
   },
   {
    "duration": 15,
    "start_time": "2023-03-17T19:17:23.614Z"
   },
   {
    "duration": 66,
    "start_time": "2023-03-17T19:17:23.632Z"
   },
   {
    "duration": 28,
    "start_time": "2023-03-17T19:17:23.700Z"
   },
   {
    "duration": 891,
    "start_time": "2023-03-17T19:18:17.108Z"
   },
   {
    "duration": 1206,
    "start_time": "2023-03-17T19:18:42.603Z"
   },
   {
    "duration": 27,
    "start_time": "2023-03-17T19:18:43.812Z"
   },
   {
    "duration": 12,
    "start_time": "2023-03-17T19:18:43.841Z"
   },
   {
    "duration": 12,
    "start_time": "2023-03-17T19:18:43.855Z"
   },
   {
    "duration": 3,
    "start_time": "2023-03-17T19:18:43.870Z"
   },
   {
    "duration": 16,
    "start_time": "2023-03-17T19:18:43.875Z"
   },
   {
    "duration": 15,
    "start_time": "2023-03-17T19:18:43.893Z"
   },
   {
    "duration": 12,
    "start_time": "2023-03-17T19:18:43.910Z"
   },
   {
    "duration": 51,
    "start_time": "2023-03-17T19:18:43.924Z"
   },
   {
    "duration": 10,
    "start_time": "2023-03-17T19:18:43.977Z"
   },
   {
    "duration": 13,
    "start_time": "2023-03-17T19:18:43.989Z"
   },
   {
    "duration": 10,
    "start_time": "2023-03-17T19:18:44.004Z"
   },
   {
    "duration": 12,
    "start_time": "2023-03-17T19:18:44.016Z"
   },
   {
    "duration": 10,
    "start_time": "2023-03-17T19:18:44.031Z"
   },
   {
    "duration": 7,
    "start_time": "2023-03-17T19:18:44.043Z"
   },
   {
    "duration": 7,
    "start_time": "2023-03-17T19:18:44.089Z"
   },
   {
    "duration": 11,
    "start_time": "2023-03-17T19:18:44.097Z"
   },
   {
    "duration": 9,
    "start_time": "2023-03-17T19:18:44.110Z"
   },
   {
    "duration": 7,
    "start_time": "2023-03-17T19:18:44.121Z"
   },
   {
    "duration": 14,
    "start_time": "2023-03-17T19:18:44.130Z"
   },
   {
    "duration": 47,
    "start_time": "2023-03-17T19:18:44.146Z"
   },
   {
    "duration": 8,
    "start_time": "2023-03-17T19:18:44.195Z"
   },
   {
    "duration": 322,
    "start_time": "2023-03-17T19:18:44.205Z"
   },
   {
    "duration": 8,
    "start_time": "2023-03-17T19:18:44.529Z"
   },
   {
    "duration": 339,
    "start_time": "2023-03-17T19:18:44.538Z"
   },
   {
    "duration": 283,
    "start_time": "2023-03-17T19:18:44.879Z"
   },
   {
    "duration": 393,
    "start_time": "2023-03-17T19:18:45.163Z"
   },
   {
    "duration": 249,
    "start_time": "2023-03-17T19:18:45.558Z"
   },
   {
    "duration": 329,
    "start_time": "2023-03-17T19:18:45.810Z"
   },
   {
    "duration": 150,
    "start_time": "2023-03-17T19:18:46.141Z"
   },
   {
    "duration": 224,
    "start_time": "2023-03-17T19:18:46.293Z"
   },
   {
    "duration": 6,
    "start_time": "2023-03-17T19:18:46.518Z"
   },
   {
    "duration": 214,
    "start_time": "2023-03-17T19:18:46.526Z"
   },
   {
    "duration": 320,
    "start_time": "2023-03-17T19:18:46.742Z"
   },
   {
    "duration": 6,
    "start_time": "2023-03-17T19:18:47.064Z"
   },
   {
    "duration": 223,
    "start_time": "2023-03-17T19:18:47.072Z"
   },
   {
    "duration": 27,
    "start_time": "2023-03-17T19:18:47.297Z"
   },
   {
    "duration": 16,
    "start_time": "2023-03-17T19:18:47.326Z"
   },
   {
    "duration": 194,
    "start_time": "2023-03-17T19:18:47.344Z"
   },
   {
    "duration": 7,
    "start_time": "2023-03-17T19:18:47.540Z"
   },
   {
    "duration": 166,
    "start_time": "2023-03-17T19:18:47.551Z"
   },
   {
    "duration": 11,
    "start_time": "2023-03-17T19:18:47.719Z"
   },
   {
    "duration": 9,
    "start_time": "2023-03-17T19:18:47.732Z"
   },
   {
    "duration": 9,
    "start_time": "2023-03-17T19:18:47.743Z"
   },
   {
    "duration": 800,
    "start_time": "2023-03-17T19:19:40.730Z"
   },
   {
    "duration": 1250,
    "start_time": "2023-03-17T19:19:47.393Z"
   },
   {
    "duration": 27,
    "start_time": "2023-03-17T19:19:48.646Z"
   },
   {
    "duration": 12,
    "start_time": "2023-03-17T19:19:48.675Z"
   },
   {
    "duration": 15,
    "start_time": "2023-03-17T19:19:48.692Z"
   },
   {
    "duration": 4,
    "start_time": "2023-03-17T19:19:48.710Z"
   },
   {
    "duration": 11,
    "start_time": "2023-03-17T19:19:48.717Z"
   },
   {
    "duration": 18,
    "start_time": "2023-03-17T19:19:48.730Z"
   },
   {
    "duration": 44,
    "start_time": "2023-03-17T19:19:48.750Z"
   },
   {
    "duration": 52,
    "start_time": "2023-03-17T19:19:48.796Z"
   },
   {
    "duration": 9,
    "start_time": "2023-03-17T19:19:48.850Z"
   },
   {
    "duration": 12,
    "start_time": "2023-03-17T19:19:48.861Z"
   },
   {
    "duration": 14,
    "start_time": "2023-03-17T19:19:48.875Z"
   },
   {
    "duration": 14,
    "start_time": "2023-03-17T19:19:48.891Z"
   },
   {
    "duration": 19,
    "start_time": "2023-03-17T19:19:48.907Z"
   },
   {
    "duration": 8,
    "start_time": "2023-03-17T19:19:48.928Z"
   },
   {
    "duration": 8,
    "start_time": "2023-03-17T19:19:48.938Z"
   },
   {
    "duration": 23,
    "start_time": "2023-03-17T19:19:48.948Z"
   },
   {
    "duration": 8,
    "start_time": "2023-03-17T19:19:48.988Z"
   },
   {
    "duration": 21,
    "start_time": "2023-03-17T19:19:48.998Z"
   },
   {
    "duration": 11,
    "start_time": "2023-03-17T19:19:49.021Z"
   },
   {
    "duration": 9,
    "start_time": "2023-03-17T19:19:49.034Z"
   },
   {
    "duration": 8,
    "start_time": "2023-03-17T19:19:49.045Z"
   },
   {
    "duration": 359,
    "start_time": "2023-03-17T19:19:49.054Z"
   },
   {
    "duration": 8,
    "start_time": "2023-03-17T19:19:49.414Z"
   },
   {
    "duration": 413,
    "start_time": "2023-03-17T19:19:49.425Z"
   },
   {
    "duration": 264,
    "start_time": "2023-03-17T19:19:49.840Z"
   },
   {
    "duration": 351,
    "start_time": "2023-03-17T19:19:50.106Z"
   },
   {
    "duration": 267,
    "start_time": "2023-03-17T19:19:50.461Z"
   },
   {
    "duration": 358,
    "start_time": "2023-03-17T19:19:50.730Z"
   },
   {
    "duration": 177,
    "start_time": "2023-03-17T19:19:51.090Z"
   },
   {
    "duration": 193,
    "start_time": "2023-03-17T19:19:51.269Z"
   },
   {
    "duration": 7,
    "start_time": "2023-03-17T19:19:51.463Z"
   },
   {
    "duration": 208,
    "start_time": "2023-03-17T19:19:51.472Z"
   },
   {
    "duration": 307,
    "start_time": "2023-03-17T19:19:51.683Z"
   },
   {
    "duration": 6,
    "start_time": "2023-03-17T19:19:51.993Z"
   },
   {
    "duration": 238,
    "start_time": "2023-03-17T19:19:52.001Z"
   },
   {
    "duration": 24,
    "start_time": "2023-03-17T19:19:52.241Z"
   },
   {
    "duration": 29,
    "start_time": "2023-03-17T19:19:52.267Z"
   },
   {
    "duration": 214,
    "start_time": "2023-03-17T19:19:52.298Z"
   },
   {
    "duration": 6,
    "start_time": "2023-03-17T19:19:52.514Z"
   },
   {
    "duration": 193,
    "start_time": "2023-03-17T19:19:52.522Z"
   },
   {
    "duration": 14,
    "start_time": "2023-03-17T19:19:52.717Z"
   },
   {
    "duration": 40,
    "start_time": "2023-03-17T19:19:52.733Z"
   },
   {
    "duration": 14,
    "start_time": "2023-03-17T19:19:52.775Z"
   },
   {
    "duration": 273,
    "start_time": "2023-03-17T19:31:06.682Z"
   },
   {
    "duration": 275,
    "start_time": "2023-03-17T19:31:23.265Z"
   },
   {
    "duration": 270,
    "start_time": "2023-03-17T19:32:20.548Z"
   },
   {
    "duration": 272,
    "start_time": "2023-03-17T19:32:26.142Z"
   },
   {
    "duration": 354,
    "start_time": "2023-03-17T19:37:11.758Z"
   },
   {
    "duration": 44,
    "start_time": "2023-03-17T19:38:21.735Z"
   },
   {
    "duration": 47,
    "start_time": "2023-03-17T19:38:33.851Z"
   },
   {
    "duration": 335,
    "start_time": "2023-03-17T19:38:38.116Z"
   },
   {
    "duration": 384,
    "start_time": "2023-03-17T19:40:40.459Z"
   },
   {
    "duration": 52,
    "start_time": "2023-03-17T19:46:34.612Z"
   },
   {
    "duration": 22,
    "start_time": "2023-03-17T19:50:16.876Z"
   },
   {
    "duration": 49,
    "start_time": "2023-03-17T19:51:49.393Z"
   },
   {
    "duration": 6,
    "start_time": "2023-03-17T19:56:12.043Z"
   },
   {
    "duration": 8,
    "start_time": "2023-03-17T19:56:31.255Z"
   },
   {
    "duration": 118,
    "start_time": "2023-03-17T19:56:52.774Z"
   },
   {
    "duration": 16,
    "start_time": "2023-03-17T19:57:44.516Z"
   },
   {
    "duration": 10,
    "start_time": "2023-03-17T19:58:38.509Z"
   },
   {
    "duration": 17,
    "start_time": "2023-03-17T19:59:32.798Z"
   },
   {
    "duration": 6,
    "start_time": "2023-03-17T20:01:39.589Z"
   },
   {
    "duration": 5,
    "start_time": "2023-03-17T20:01:53.542Z"
   },
   {
    "duration": 6,
    "start_time": "2023-03-17T20:02:05.774Z"
   },
   {
    "duration": 5,
    "start_time": "2023-03-17T20:02:15.039Z"
   },
   {
    "duration": 11,
    "start_time": "2023-03-17T20:03:20.712Z"
   },
   {
    "duration": 5,
    "start_time": "2023-03-17T20:03:55.769Z"
   },
   {
    "duration": 10,
    "start_time": "2023-03-17T20:04:24.953Z"
   },
   {
    "duration": 11,
    "start_time": "2023-03-17T20:04:32.417Z"
   },
   {
    "duration": 753,
    "start_time": "2023-03-17T20:15:31.505Z"
   },
   {
    "duration": 8,
    "start_time": "2023-03-17T20:15:56.137Z"
   },
   {
    "duration": 32,
    "start_time": "2023-03-17T20:18:09.730Z"
   },
   {
    "duration": 1193,
    "start_time": "2023-03-18T10:04:40.015Z"
   },
   {
    "duration": 69,
    "start_time": "2023-03-18T10:04:41.210Z"
   },
   {
    "duration": 12,
    "start_time": "2023-03-18T10:04:41.281Z"
   },
   {
    "duration": 22,
    "start_time": "2023-03-18T10:04:41.295Z"
   },
   {
    "duration": 14,
    "start_time": "2023-03-18T10:04:41.319Z"
   },
   {
    "duration": 17,
    "start_time": "2023-03-18T10:04:41.335Z"
   },
   {
    "duration": 19,
    "start_time": "2023-03-18T10:04:41.354Z"
   },
   {
    "duration": 38,
    "start_time": "2023-03-18T10:04:41.374Z"
   },
   {
    "duration": 158,
    "start_time": "2023-03-18T10:04:41.414Z"
   },
   {
    "duration": 9,
    "start_time": "2023-03-18T10:04:41.576Z"
   },
   {
    "duration": 34,
    "start_time": "2023-03-18T10:04:41.586Z"
   },
   {
    "duration": 24,
    "start_time": "2023-03-18T10:04:41.622Z"
   },
   {
    "duration": 33,
    "start_time": "2023-03-18T10:04:41.648Z"
   },
   {
    "duration": 22,
    "start_time": "2023-03-18T10:04:41.682Z"
   },
   {
    "duration": 19,
    "start_time": "2023-03-18T10:04:41.706Z"
   },
   {
    "duration": 12,
    "start_time": "2023-03-18T10:04:41.727Z"
   },
   {
    "duration": 32,
    "start_time": "2023-03-18T10:04:41.740Z"
   },
   {
    "duration": 33,
    "start_time": "2023-03-18T10:04:41.774Z"
   },
   {
    "duration": 17,
    "start_time": "2023-03-18T10:04:41.809Z"
   },
   {
    "duration": 18,
    "start_time": "2023-03-18T10:04:41.828Z"
   },
   {
    "duration": 22,
    "start_time": "2023-03-18T10:04:41.848Z"
   },
   {
    "duration": 12,
    "start_time": "2023-03-18T10:04:41.872Z"
   },
   {
    "duration": 338,
    "start_time": "2023-03-18T10:04:41.885Z"
   },
   {
    "duration": 7,
    "start_time": "2023-03-18T10:04:42.225Z"
   },
   {
    "duration": 349,
    "start_time": "2023-03-18T10:04:42.234Z"
   },
   {
    "duration": 246,
    "start_time": "2023-03-18T10:04:42.585Z"
   },
   {
    "duration": 386,
    "start_time": "2023-03-18T10:04:42.833Z"
   },
   {
    "duration": 316,
    "start_time": "2023-03-18T10:04:43.224Z"
   },
   {
    "duration": 238,
    "start_time": "2023-03-18T10:04:43.542Z"
   },
   {
    "duration": 0,
    "start_time": "2023-03-18T10:04:43.782Z"
   },
   {
    "duration": 0,
    "start_time": "2023-03-18T10:04:43.783Z"
   },
   {
    "duration": 0,
    "start_time": "2023-03-18T10:04:43.784Z"
   },
   {
    "duration": 0,
    "start_time": "2023-03-18T10:04:43.785Z"
   },
   {
    "duration": 0,
    "start_time": "2023-03-18T10:04:43.786Z"
   },
   {
    "duration": 0,
    "start_time": "2023-03-18T10:04:43.787Z"
   },
   {
    "duration": 0,
    "start_time": "2023-03-18T10:04:43.789Z"
   },
   {
    "duration": 0,
    "start_time": "2023-03-18T10:04:43.790Z"
   },
   {
    "duration": 0,
    "start_time": "2023-03-18T10:04:43.791Z"
   },
   {
    "duration": 0,
    "start_time": "2023-03-18T10:04:43.792Z"
   },
   {
    "duration": 0,
    "start_time": "2023-03-18T10:04:43.793Z"
   },
   {
    "duration": 0,
    "start_time": "2023-03-18T10:04:43.794Z"
   },
   {
    "duration": 0,
    "start_time": "2023-03-18T10:04:43.795Z"
   },
   {
    "duration": 1,
    "start_time": "2023-03-18T10:04:43.796Z"
   },
   {
    "duration": 0,
    "start_time": "2023-03-18T10:04:43.797Z"
   },
   {
    "duration": 0,
    "start_time": "2023-03-18T10:04:43.799Z"
   },
   {
    "duration": 0,
    "start_time": "2023-03-18T10:04:43.800Z"
   },
   {
    "duration": 1347,
    "start_time": "2023-03-18T10:08:04.282Z"
   },
   {
    "duration": 27,
    "start_time": "2023-03-18T10:08:05.632Z"
   },
   {
    "duration": 13,
    "start_time": "2023-03-18T10:08:05.661Z"
   },
   {
    "duration": 26,
    "start_time": "2023-03-18T10:08:05.677Z"
   },
   {
    "duration": 14,
    "start_time": "2023-03-18T10:08:05.705Z"
   },
   {
    "duration": 27,
    "start_time": "2023-03-18T10:08:05.721Z"
   },
   {
    "duration": 16,
    "start_time": "2023-03-18T10:08:05.750Z"
   },
   {
    "duration": 14,
    "start_time": "2023-03-18T10:08:05.769Z"
   },
   {
    "duration": 59,
    "start_time": "2023-03-18T10:08:05.785Z"
   },
   {
    "duration": 8,
    "start_time": "2023-03-18T10:08:05.847Z"
   },
   {
    "duration": 26,
    "start_time": "2023-03-18T10:08:05.857Z"
   },
   {
    "duration": 16,
    "start_time": "2023-03-18T10:08:05.885Z"
   },
   {
    "duration": 18,
    "start_time": "2023-03-18T10:08:05.903Z"
   },
   {
    "duration": 29,
    "start_time": "2023-03-18T10:08:05.923Z"
   },
   {
    "duration": 10,
    "start_time": "2023-03-18T10:08:05.954Z"
   },
   {
    "duration": 19,
    "start_time": "2023-03-18T10:08:05.965Z"
   },
   {
    "duration": 18,
    "start_time": "2023-03-18T10:08:05.986Z"
   },
   {
    "duration": 20,
    "start_time": "2023-03-18T10:08:06.005Z"
   },
   {
    "duration": 9,
    "start_time": "2023-03-18T10:08:06.027Z"
   },
   {
    "duration": 28,
    "start_time": "2023-03-18T10:08:06.038Z"
   },
   {
    "duration": 11,
    "start_time": "2023-03-18T10:08:06.068Z"
   },
   {
    "duration": 12,
    "start_time": "2023-03-18T10:08:06.081Z"
   },
   {
    "duration": 350,
    "start_time": "2023-03-18T10:08:06.095Z"
   },
   {
    "duration": 18,
    "start_time": "2023-03-18T10:08:06.446Z"
   },
   {
    "duration": 398,
    "start_time": "2023-03-18T10:08:06.466Z"
   },
   {
    "duration": 260,
    "start_time": "2023-03-18T10:08:06.866Z"
   },
   {
    "duration": 386,
    "start_time": "2023-03-18T10:08:07.128Z"
   },
   {
    "duration": 334,
    "start_time": "2023-03-18T10:08:07.518Z"
   },
   {
    "duration": 258,
    "start_time": "2023-03-18T10:08:07.854Z"
   },
   {
    "duration": 0,
    "start_time": "2023-03-18T10:08:08.113Z"
   },
   {
    "duration": 0,
    "start_time": "2023-03-18T10:08:08.115Z"
   },
   {
    "duration": 0,
    "start_time": "2023-03-18T10:08:08.116Z"
   },
   {
    "duration": 0,
    "start_time": "2023-03-18T10:08:08.117Z"
   },
   {
    "duration": 0,
    "start_time": "2023-03-18T10:08:08.119Z"
   },
   {
    "duration": 0,
    "start_time": "2023-03-18T10:08:08.120Z"
   },
   {
    "duration": 0,
    "start_time": "2023-03-18T10:08:08.122Z"
   },
   {
    "duration": 0,
    "start_time": "2023-03-18T10:08:08.123Z"
   },
   {
    "duration": 0,
    "start_time": "2023-03-18T10:08:08.124Z"
   },
   {
    "duration": 0,
    "start_time": "2023-03-18T10:08:08.125Z"
   },
   {
    "duration": 1,
    "start_time": "2023-03-18T10:08:08.126Z"
   },
   {
    "duration": 0,
    "start_time": "2023-03-18T10:08:08.128Z"
   },
   {
    "duration": 0,
    "start_time": "2023-03-18T10:08:08.129Z"
   },
   {
    "duration": 0,
    "start_time": "2023-03-18T10:08:08.165Z"
   },
   {
    "duration": 1,
    "start_time": "2023-03-18T10:08:08.166Z"
   },
   {
    "duration": 0,
    "start_time": "2023-03-18T10:08:08.168Z"
   },
   {
    "duration": 0,
    "start_time": "2023-03-18T10:08:08.170Z"
   },
   {
    "duration": 52,
    "start_time": "2023-03-18T13:41:31.906Z"
   },
   {
    "duration": 8,
    "start_time": "2023-03-18T13:41:50.604Z"
   },
   {
    "duration": 1371,
    "start_time": "2023-03-18T13:42:04.010Z"
   },
   {
    "duration": 71,
    "start_time": "2023-03-18T13:42:05.383Z"
   },
   {
    "duration": 12,
    "start_time": "2023-03-18T13:42:05.455Z"
   },
   {
    "duration": 21,
    "start_time": "2023-03-18T13:42:05.470Z"
   },
   {
    "duration": 4,
    "start_time": "2023-03-18T13:42:05.494Z"
   },
   {
    "duration": 17,
    "start_time": "2023-03-18T13:42:05.500Z"
   },
   {
    "duration": 20,
    "start_time": "2023-03-18T13:42:05.519Z"
   },
   {
    "duration": 14,
    "start_time": "2023-03-18T13:42:05.541Z"
   },
   {
    "duration": 147,
    "start_time": "2023-03-18T13:42:05.557Z"
   },
   {
    "duration": 8,
    "start_time": "2023-03-18T13:42:05.707Z"
   },
   {
    "duration": 13,
    "start_time": "2023-03-18T13:42:05.717Z"
   },
   {
    "duration": 13,
    "start_time": "2023-03-18T13:42:05.731Z"
   },
   {
    "duration": 24,
    "start_time": "2023-03-18T13:42:05.745Z"
   },
   {
    "duration": 20,
    "start_time": "2023-03-18T13:42:05.771Z"
   },
   {
    "duration": 10,
    "start_time": "2023-03-18T13:42:05.793Z"
   },
   {
    "duration": 13,
    "start_time": "2023-03-18T13:42:05.805Z"
   },
   {
    "duration": 13,
    "start_time": "2023-03-18T13:42:05.819Z"
   },
   {
    "duration": 11,
    "start_time": "2023-03-18T13:42:05.834Z"
   },
   {
    "duration": 9,
    "start_time": "2023-03-18T13:42:05.846Z"
   },
   {
    "duration": 34,
    "start_time": "2023-03-18T13:42:05.857Z"
   },
   {
    "duration": 4,
    "start_time": "2023-03-18T13:42:05.893Z"
   },
   {
    "duration": 9,
    "start_time": "2023-03-18T13:42:05.899Z"
   },
   {
    "duration": 316,
    "start_time": "2023-03-18T13:42:05.910Z"
   },
   {
    "duration": 6,
    "start_time": "2023-03-18T13:42:06.228Z"
   },
   {
    "duration": 412,
    "start_time": "2023-03-18T13:42:06.236Z"
   },
   {
    "duration": 222,
    "start_time": "2023-03-18T13:42:06.650Z"
   },
   {
    "duration": 379,
    "start_time": "2023-03-18T13:42:06.873Z"
   },
   {
    "duration": 291,
    "start_time": "2023-03-18T13:42:07.255Z"
   },
   {
    "duration": 1367,
    "start_time": "2023-03-18T13:42:07.548Z"
   },
   {
    "duration": 0,
    "start_time": "2023-03-18T13:42:08.918Z"
   },
   {
    "duration": 0,
    "start_time": "2023-03-18T13:42:08.920Z"
   },
   {
    "duration": 0,
    "start_time": "2023-03-18T13:42:08.921Z"
   },
   {
    "duration": 0,
    "start_time": "2023-03-18T13:42:08.923Z"
   },
   {
    "duration": 0,
    "start_time": "2023-03-18T13:42:08.925Z"
   },
   {
    "duration": 0,
    "start_time": "2023-03-18T13:42:08.926Z"
   },
   {
    "duration": 0,
    "start_time": "2023-03-18T13:42:08.928Z"
   },
   {
    "duration": 0,
    "start_time": "2023-03-18T13:42:08.930Z"
   },
   {
    "duration": 0,
    "start_time": "2023-03-18T13:42:08.931Z"
   },
   {
    "duration": 0,
    "start_time": "2023-03-18T13:42:08.933Z"
   },
   {
    "duration": 0,
    "start_time": "2023-03-18T13:42:08.934Z"
   },
   {
    "duration": 0,
    "start_time": "2023-03-18T13:42:08.936Z"
   },
   {
    "duration": 0,
    "start_time": "2023-03-18T13:42:08.938Z"
   },
   {
    "duration": 0,
    "start_time": "2023-03-18T13:42:08.939Z"
   },
   {
    "duration": 0,
    "start_time": "2023-03-18T13:42:08.939Z"
   },
   {
    "duration": 0,
    "start_time": "2023-03-18T13:42:08.941Z"
   },
   {
    "duration": 0,
    "start_time": "2023-03-18T13:42:08.942Z"
   },
   {
    "duration": 1318,
    "start_time": "2023-03-18T13:42:57.784Z"
   },
   {
    "duration": 312,
    "start_time": "2023-03-18T13:43:24.011Z"
   },
   {
    "duration": 1434,
    "start_time": "2023-03-19T09:19:40.178Z"
   },
   {
    "duration": 90,
    "start_time": "2023-03-19T09:19:41.614Z"
   },
   {
    "duration": 10,
    "start_time": "2023-03-19T09:19:41.706Z"
   },
   {
    "duration": 13,
    "start_time": "2023-03-19T09:19:41.718Z"
   },
   {
    "duration": 3,
    "start_time": "2023-03-19T09:19:41.733Z"
   },
   {
    "duration": 12,
    "start_time": "2023-03-19T09:19:41.737Z"
   },
   {
    "duration": 14,
    "start_time": "2023-03-19T09:19:41.750Z"
   },
   {
    "duration": 27,
    "start_time": "2023-03-19T09:19:41.766Z"
   },
   {
    "duration": 148,
    "start_time": "2023-03-19T09:19:41.794Z"
   },
   {
    "duration": 8,
    "start_time": "2023-03-19T09:19:41.943Z"
   },
   {
    "duration": 12,
    "start_time": "2023-03-19T09:19:41.953Z"
   },
   {
    "duration": 7,
    "start_time": "2023-03-19T09:19:41.966Z"
   },
   {
    "duration": 12,
    "start_time": "2023-03-19T09:19:41.975Z"
   },
   {
    "duration": 10,
    "start_time": "2023-03-19T09:19:41.990Z"
   },
   {
    "duration": 9,
    "start_time": "2023-03-19T09:19:42.001Z"
   },
   {
    "duration": 7,
    "start_time": "2023-03-19T09:19:42.012Z"
   },
   {
    "duration": 13,
    "start_time": "2023-03-19T09:19:42.020Z"
   },
   {
    "duration": 8,
    "start_time": "2023-03-19T09:19:42.035Z"
   },
   {
    "duration": 13,
    "start_time": "2023-03-19T09:19:42.045Z"
   },
   {
    "duration": 33,
    "start_time": "2023-03-19T09:19:42.060Z"
   },
   {
    "duration": 6,
    "start_time": "2023-03-19T09:19:42.095Z"
   },
   {
    "duration": 6,
    "start_time": "2023-03-19T09:19:42.102Z"
   },
   {
    "duration": 313,
    "start_time": "2023-03-19T09:19:42.110Z"
   },
   {
    "duration": 8,
    "start_time": "2023-03-19T09:19:42.424Z"
   },
   {
    "duration": 376,
    "start_time": "2023-03-19T09:19:42.434Z"
   },
   {
    "duration": 257,
    "start_time": "2023-03-19T09:19:42.812Z"
   },
   {
    "duration": 381,
    "start_time": "2023-03-19T09:19:43.070Z"
   },
   {
    "duration": 281,
    "start_time": "2023-03-19T09:19:43.453Z"
   },
   {
    "duration": 362,
    "start_time": "2023-03-19T09:19:43.736Z"
   },
   {
    "duration": 141,
    "start_time": "2023-03-19T09:19:44.100Z"
   },
   {
    "duration": 169,
    "start_time": "2023-03-19T09:19:44.242Z"
   },
   {
    "duration": 6,
    "start_time": "2023-03-19T09:19:44.412Z"
   },
   {
    "duration": 187,
    "start_time": "2023-03-19T09:19:44.420Z"
   },
   {
    "duration": 267,
    "start_time": "2023-03-19T09:19:44.609Z"
   },
   {
    "duration": 11,
    "start_time": "2023-03-19T09:19:44.877Z"
   },
   {
    "duration": 228,
    "start_time": "2023-03-19T09:19:44.890Z"
   },
   {
    "duration": 26,
    "start_time": "2023-03-19T09:19:45.120Z"
   },
   {
    "duration": 43,
    "start_time": "2023-03-19T09:19:45.147Z"
   },
   {
    "duration": 186,
    "start_time": "2023-03-19T09:19:45.193Z"
   },
   {
    "duration": 12,
    "start_time": "2023-03-19T09:19:45.381Z"
   },
   {
    "duration": 252,
    "start_time": "2023-03-19T09:19:45.396Z"
   },
   {
    "duration": 13,
    "start_time": "2023-03-19T09:19:45.650Z"
   },
   {
    "duration": 30,
    "start_time": "2023-03-19T09:19:45.664Z"
   },
   {
    "duration": 11,
    "start_time": "2023-03-19T09:19:45.696Z"
   },
   {
    "duration": 25,
    "start_time": "2023-03-19T09:19:45.709Z"
   },
   {
    "duration": 16,
    "start_time": "2023-03-19T09:19:45.736Z"
   }
  ],
  "kernelspec": {
   "display_name": "Python 3 (ipykernel)",
   "language": "python",
   "name": "python3"
  },
  "language_info": {
   "codemirror_mode": {
    "name": "ipython",
    "version": 3
   },
   "file_extension": ".py",
   "mimetype": "text/x-python",
   "name": "python",
   "nbconvert_exporter": "python",
   "pygments_lexer": "ipython3",
   "version": "3.9.5"
  },
  "toc": {
   "base_numbering": 1,
   "nav_menu": {},
   "number_sections": false,
   "sideBar": true,
   "skip_h1_title": false,
   "title_cell": "Table of Contents",
   "title_sidebar": "Contents",
   "toc_cell": false,
   "toc_position": {
    "height": "calc(100% - 180px)",
    "left": "10px",
    "top": "150px",
    "width": "165px"
   },
   "toc_section_display": true,
   "toc_window_display": true
  }
 },
 "nbformat": 4,
 "nbformat_minor": 2
}

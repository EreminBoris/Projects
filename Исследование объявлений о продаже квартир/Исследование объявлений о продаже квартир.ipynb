{
 "cells": [
  {
   "cell_type": "markdown",
   "metadata": {},
   "source": [
    "# Исследование объявлений о продаже квартир\n",
    "\n",
    "В вашем распоряжении данные сервиса Яндекс.Недвижимость — архив объявлений о продаже квартир в Санкт-Петербурге и соседних населённых пунктов за несколько лет. Нужно научиться определять рыночную стоимость объектов недвижимости. Ваша задача — установить параметры. Это позволит построить автоматизированную систему: она отследит аномалии и мошенническую деятельность. \n",
    "\n",
    "По каждой квартире на продажу доступны два вида данных. Первые вписаны пользователем, вторые — получены автоматически на основе картографических данных. Например, расстояние до центра, аэропорта, ближайшего парка и водоёма. "
   ]
  },
  {
   "cell_type": "markdown",
   "metadata": {},
   "source": [
    "### Откройте файл с данными и изучите общую информацию. "
   ]
  },
  {
   "cell_type": "code",
   "execution_count": 1,
   "metadata": {},
   "outputs": [],
   "source": [
    "import pandas as pd\n",
    "import matplotlib.pyplot as plt \n",
    "import seaborn "
   ]
  },
  {
   "cell_type": "code",
   "execution_count": 2,
   "metadata": {},
   "outputs": [],
   "source": [
    "data = pd.read_csv('/datasets/real_estate_data.csv', sep='\\t')"
   ]
  },
  {
   "cell_type": "code",
   "execution_count": 3,
   "metadata": {},
   "outputs": [],
   "source": [
    "old_data = data"
   ]
  },
  {
   "cell_type": "code",
   "execution_count": 4,
   "metadata": {},
   "outputs": [
    {
     "data": {
      "text/html": [
       "<div>\n",
       "<style scoped>\n",
       "    .dataframe tbody tr th:only-of-type {\n",
       "        vertical-align: middle;\n",
       "    }\n",
       "\n",
       "    .dataframe tbody tr th {\n",
       "        vertical-align: top;\n",
       "    }\n",
       "\n",
       "    .dataframe thead th {\n",
       "        text-align: right;\n",
       "    }\n",
       "</style>\n",
       "<table border=\"1\" class=\"dataframe\">\n",
       "  <thead>\n",
       "    <tr style=\"text-align: right;\">\n",
       "      <th></th>\n",
       "      <th>total_images</th>\n",
       "      <th>last_price</th>\n",
       "      <th>total_area</th>\n",
       "      <th>first_day_exposition</th>\n",
       "      <th>rooms</th>\n",
       "      <th>ceiling_height</th>\n",
       "      <th>floors_total</th>\n",
       "      <th>living_area</th>\n",
       "      <th>floor</th>\n",
       "      <th>is_apartment</th>\n",
       "      <th>...</th>\n",
       "      <th>kitchen_area</th>\n",
       "      <th>balcony</th>\n",
       "      <th>locality_name</th>\n",
       "      <th>airports_nearest</th>\n",
       "      <th>cityCenters_nearest</th>\n",
       "      <th>parks_around3000</th>\n",
       "      <th>parks_nearest</th>\n",
       "      <th>ponds_around3000</th>\n",
       "      <th>ponds_nearest</th>\n",
       "      <th>days_exposition</th>\n",
       "    </tr>\n",
       "  </thead>\n",
       "  <tbody>\n",
       "    <tr>\n",
       "      <th>0</th>\n",
       "      <td>20</td>\n",
       "      <td>13000000.0</td>\n",
       "      <td>108.00</td>\n",
       "      <td>2019-03-07T00:00:00</td>\n",
       "      <td>3</td>\n",
       "      <td>2.70</td>\n",
       "      <td>16.0</td>\n",
       "      <td>51.00</td>\n",
       "      <td>8</td>\n",
       "      <td>NaN</td>\n",
       "      <td>...</td>\n",
       "      <td>25.00</td>\n",
       "      <td>NaN</td>\n",
       "      <td>Санкт-Петербург</td>\n",
       "      <td>18863.0</td>\n",
       "      <td>16028.0</td>\n",
       "      <td>1.0</td>\n",
       "      <td>482.0</td>\n",
       "      <td>2.0</td>\n",
       "      <td>755.0</td>\n",
       "      <td>NaN</td>\n",
       "    </tr>\n",
       "    <tr>\n",
       "      <th>1</th>\n",
       "      <td>7</td>\n",
       "      <td>3350000.0</td>\n",
       "      <td>40.40</td>\n",
       "      <td>2018-12-04T00:00:00</td>\n",
       "      <td>1</td>\n",
       "      <td>NaN</td>\n",
       "      <td>11.0</td>\n",
       "      <td>18.60</td>\n",
       "      <td>1</td>\n",
       "      <td>NaN</td>\n",
       "      <td>...</td>\n",
       "      <td>11.00</td>\n",
       "      <td>2.0</td>\n",
       "      <td>посёлок Шушары</td>\n",
       "      <td>12817.0</td>\n",
       "      <td>18603.0</td>\n",
       "      <td>0.0</td>\n",
       "      <td>NaN</td>\n",
       "      <td>0.0</td>\n",
       "      <td>NaN</td>\n",
       "      <td>81.0</td>\n",
       "    </tr>\n",
       "    <tr>\n",
       "      <th>2</th>\n",
       "      <td>10</td>\n",
       "      <td>5196000.0</td>\n",
       "      <td>56.00</td>\n",
       "      <td>2015-08-20T00:00:00</td>\n",
       "      <td>2</td>\n",
       "      <td>NaN</td>\n",
       "      <td>5.0</td>\n",
       "      <td>34.30</td>\n",
       "      <td>4</td>\n",
       "      <td>NaN</td>\n",
       "      <td>...</td>\n",
       "      <td>8.30</td>\n",
       "      <td>0.0</td>\n",
       "      <td>Санкт-Петербург</td>\n",
       "      <td>21741.0</td>\n",
       "      <td>13933.0</td>\n",
       "      <td>1.0</td>\n",
       "      <td>90.0</td>\n",
       "      <td>2.0</td>\n",
       "      <td>574.0</td>\n",
       "      <td>558.0</td>\n",
       "    </tr>\n",
       "    <tr>\n",
       "      <th>3</th>\n",
       "      <td>0</td>\n",
       "      <td>64900000.0</td>\n",
       "      <td>159.00</td>\n",
       "      <td>2015-07-24T00:00:00</td>\n",
       "      <td>3</td>\n",
       "      <td>NaN</td>\n",
       "      <td>14.0</td>\n",
       "      <td>NaN</td>\n",
       "      <td>9</td>\n",
       "      <td>NaN</td>\n",
       "      <td>...</td>\n",
       "      <td>NaN</td>\n",
       "      <td>0.0</td>\n",
       "      <td>Санкт-Петербург</td>\n",
       "      <td>28098.0</td>\n",
       "      <td>6800.0</td>\n",
       "      <td>2.0</td>\n",
       "      <td>84.0</td>\n",
       "      <td>3.0</td>\n",
       "      <td>234.0</td>\n",
       "      <td>424.0</td>\n",
       "    </tr>\n",
       "    <tr>\n",
       "      <th>4</th>\n",
       "      <td>2</td>\n",
       "      <td>10000000.0</td>\n",
       "      <td>100.00</td>\n",
       "      <td>2018-06-19T00:00:00</td>\n",
       "      <td>2</td>\n",
       "      <td>3.03</td>\n",
       "      <td>14.0</td>\n",
       "      <td>32.00</td>\n",
       "      <td>13</td>\n",
       "      <td>NaN</td>\n",
       "      <td>...</td>\n",
       "      <td>41.00</td>\n",
       "      <td>NaN</td>\n",
       "      <td>Санкт-Петербург</td>\n",
       "      <td>31856.0</td>\n",
       "      <td>8098.0</td>\n",
       "      <td>2.0</td>\n",
       "      <td>112.0</td>\n",
       "      <td>1.0</td>\n",
       "      <td>48.0</td>\n",
       "      <td>121.0</td>\n",
       "    </tr>\n",
       "    <tr>\n",
       "      <th>5</th>\n",
       "      <td>10</td>\n",
       "      <td>2890000.0</td>\n",
       "      <td>30.40</td>\n",
       "      <td>2018-09-10T00:00:00</td>\n",
       "      <td>1</td>\n",
       "      <td>NaN</td>\n",
       "      <td>12.0</td>\n",
       "      <td>14.40</td>\n",
       "      <td>5</td>\n",
       "      <td>NaN</td>\n",
       "      <td>...</td>\n",
       "      <td>9.10</td>\n",
       "      <td>NaN</td>\n",
       "      <td>городской посёлок Янино-1</td>\n",
       "      <td>NaN</td>\n",
       "      <td>NaN</td>\n",
       "      <td>NaN</td>\n",
       "      <td>NaN</td>\n",
       "      <td>NaN</td>\n",
       "      <td>NaN</td>\n",
       "      <td>55.0</td>\n",
       "    </tr>\n",
       "    <tr>\n",
       "      <th>6</th>\n",
       "      <td>6</td>\n",
       "      <td>3700000.0</td>\n",
       "      <td>37.30</td>\n",
       "      <td>2017-11-02T00:00:00</td>\n",
       "      <td>1</td>\n",
       "      <td>NaN</td>\n",
       "      <td>26.0</td>\n",
       "      <td>10.60</td>\n",
       "      <td>6</td>\n",
       "      <td>NaN</td>\n",
       "      <td>...</td>\n",
       "      <td>14.40</td>\n",
       "      <td>1.0</td>\n",
       "      <td>посёлок Парголово</td>\n",
       "      <td>52996.0</td>\n",
       "      <td>19143.0</td>\n",
       "      <td>0.0</td>\n",
       "      <td>NaN</td>\n",
       "      <td>0.0</td>\n",
       "      <td>NaN</td>\n",
       "      <td>155.0</td>\n",
       "    </tr>\n",
       "    <tr>\n",
       "      <th>7</th>\n",
       "      <td>5</td>\n",
       "      <td>7915000.0</td>\n",
       "      <td>71.60</td>\n",
       "      <td>2019-04-18T00:00:00</td>\n",
       "      <td>2</td>\n",
       "      <td>NaN</td>\n",
       "      <td>24.0</td>\n",
       "      <td>NaN</td>\n",
       "      <td>22</td>\n",
       "      <td>NaN</td>\n",
       "      <td>...</td>\n",
       "      <td>18.90</td>\n",
       "      <td>2.0</td>\n",
       "      <td>Санкт-Петербург</td>\n",
       "      <td>23982.0</td>\n",
       "      <td>11634.0</td>\n",
       "      <td>0.0</td>\n",
       "      <td>NaN</td>\n",
       "      <td>0.0</td>\n",
       "      <td>NaN</td>\n",
       "      <td>NaN</td>\n",
       "    </tr>\n",
       "    <tr>\n",
       "      <th>8</th>\n",
       "      <td>20</td>\n",
       "      <td>2900000.0</td>\n",
       "      <td>33.16</td>\n",
       "      <td>2018-05-23T00:00:00</td>\n",
       "      <td>1</td>\n",
       "      <td>NaN</td>\n",
       "      <td>27.0</td>\n",
       "      <td>15.43</td>\n",
       "      <td>26</td>\n",
       "      <td>NaN</td>\n",
       "      <td>...</td>\n",
       "      <td>8.81</td>\n",
       "      <td>NaN</td>\n",
       "      <td>посёлок Мурино</td>\n",
       "      <td>NaN</td>\n",
       "      <td>NaN</td>\n",
       "      <td>NaN</td>\n",
       "      <td>NaN</td>\n",
       "      <td>NaN</td>\n",
       "      <td>NaN</td>\n",
       "      <td>189.0</td>\n",
       "    </tr>\n",
       "    <tr>\n",
       "      <th>9</th>\n",
       "      <td>18</td>\n",
       "      <td>5400000.0</td>\n",
       "      <td>61.00</td>\n",
       "      <td>2017-02-26T00:00:00</td>\n",
       "      <td>3</td>\n",
       "      <td>2.50</td>\n",
       "      <td>9.0</td>\n",
       "      <td>43.60</td>\n",
       "      <td>7</td>\n",
       "      <td>NaN</td>\n",
       "      <td>...</td>\n",
       "      <td>6.50</td>\n",
       "      <td>2.0</td>\n",
       "      <td>Санкт-Петербург</td>\n",
       "      <td>50898.0</td>\n",
       "      <td>15008.0</td>\n",
       "      <td>0.0</td>\n",
       "      <td>NaN</td>\n",
       "      <td>0.0</td>\n",
       "      <td>NaN</td>\n",
       "      <td>289.0</td>\n",
       "    </tr>\n",
       "  </tbody>\n",
       "</table>\n",
       "<p>10 rows × 22 columns</p>\n",
       "</div>"
      ],
      "text/plain": [
       "   total_images  last_price  total_area first_day_exposition  rooms  \\\n",
       "0            20  13000000.0      108.00  2019-03-07T00:00:00      3   \n",
       "1             7   3350000.0       40.40  2018-12-04T00:00:00      1   \n",
       "2            10   5196000.0       56.00  2015-08-20T00:00:00      2   \n",
       "3             0  64900000.0      159.00  2015-07-24T00:00:00      3   \n",
       "4             2  10000000.0      100.00  2018-06-19T00:00:00      2   \n",
       "5            10   2890000.0       30.40  2018-09-10T00:00:00      1   \n",
       "6             6   3700000.0       37.30  2017-11-02T00:00:00      1   \n",
       "7             5   7915000.0       71.60  2019-04-18T00:00:00      2   \n",
       "8            20   2900000.0       33.16  2018-05-23T00:00:00      1   \n",
       "9            18   5400000.0       61.00  2017-02-26T00:00:00      3   \n",
       "\n",
       "   ceiling_height  floors_total  living_area  floor is_apartment  ...  \\\n",
       "0            2.70          16.0        51.00      8          NaN  ...   \n",
       "1             NaN          11.0        18.60      1          NaN  ...   \n",
       "2             NaN           5.0        34.30      4          NaN  ...   \n",
       "3             NaN          14.0          NaN      9          NaN  ...   \n",
       "4            3.03          14.0        32.00     13          NaN  ...   \n",
       "5             NaN          12.0        14.40      5          NaN  ...   \n",
       "6             NaN          26.0        10.60      6          NaN  ...   \n",
       "7             NaN          24.0          NaN     22          NaN  ...   \n",
       "8             NaN          27.0        15.43     26          NaN  ...   \n",
       "9            2.50           9.0        43.60      7          NaN  ...   \n",
       "\n",
       "   kitchen_area  balcony              locality_name  airports_nearest  \\\n",
       "0         25.00      NaN            Санкт-Петербург           18863.0   \n",
       "1         11.00      2.0             посёлок Шушары           12817.0   \n",
       "2          8.30      0.0            Санкт-Петербург           21741.0   \n",
       "3           NaN      0.0            Санкт-Петербург           28098.0   \n",
       "4         41.00      NaN            Санкт-Петербург           31856.0   \n",
       "5          9.10      NaN  городской посёлок Янино-1               NaN   \n",
       "6         14.40      1.0          посёлок Парголово           52996.0   \n",
       "7         18.90      2.0            Санкт-Петербург           23982.0   \n",
       "8          8.81      NaN             посёлок Мурино               NaN   \n",
       "9          6.50      2.0            Санкт-Петербург           50898.0   \n",
       "\n",
       "  cityCenters_nearest  parks_around3000  parks_nearest  ponds_around3000  \\\n",
       "0             16028.0               1.0          482.0               2.0   \n",
       "1             18603.0               0.0            NaN               0.0   \n",
       "2             13933.0               1.0           90.0               2.0   \n",
       "3              6800.0               2.0           84.0               3.0   \n",
       "4              8098.0               2.0          112.0               1.0   \n",
       "5                 NaN               NaN            NaN               NaN   \n",
       "6             19143.0               0.0            NaN               0.0   \n",
       "7             11634.0               0.0            NaN               0.0   \n",
       "8                 NaN               NaN            NaN               NaN   \n",
       "9             15008.0               0.0            NaN               0.0   \n",
       "\n",
       "   ponds_nearest  days_exposition  \n",
       "0          755.0              NaN  \n",
       "1            NaN             81.0  \n",
       "2          574.0            558.0  \n",
       "3          234.0            424.0  \n",
       "4           48.0            121.0  \n",
       "5            NaN             55.0  \n",
       "6            NaN            155.0  \n",
       "7            NaN              NaN  \n",
       "8            NaN            189.0  \n",
       "9            NaN            289.0  \n",
       "\n",
       "[10 rows x 22 columns]"
      ]
     },
     "execution_count": 4,
     "metadata": {},
     "output_type": "execute_result"
    }
   ],
   "source": [
    "data.head(10)"
   ]
  },
  {
   "cell_type": "code",
   "execution_count": 5,
   "metadata": {},
   "outputs": [
    {
     "name": "stdout",
     "output_type": "stream",
     "text": [
      "<class 'pandas.core.frame.DataFrame'>\n",
      "RangeIndex: 23699 entries, 0 to 23698\n",
      "Data columns (total 22 columns):\n",
      " #   Column                Non-Null Count  Dtype  \n",
      "---  ------                --------------  -----  \n",
      " 0   total_images          23699 non-null  int64  \n",
      " 1   last_price            23699 non-null  float64\n",
      " 2   total_area            23699 non-null  float64\n",
      " 3   first_day_exposition  23699 non-null  object \n",
      " 4   rooms                 23699 non-null  int64  \n",
      " 5   ceiling_height        14504 non-null  float64\n",
      " 6   floors_total          23613 non-null  float64\n",
      " 7   living_area           21796 non-null  float64\n",
      " 8   floor                 23699 non-null  int64  \n",
      " 9   is_apartment          2775 non-null   object \n",
      " 10  studio                23699 non-null  bool   \n",
      " 11  open_plan             23699 non-null  bool   \n",
      " 12  kitchen_area          21421 non-null  float64\n",
      " 13  balcony               12180 non-null  float64\n",
      " 14  locality_name         23650 non-null  object \n",
      " 15  airports_nearest      18157 non-null  float64\n",
      " 16  cityCenters_nearest   18180 non-null  float64\n",
      " 17  parks_around3000      18181 non-null  float64\n",
      " 18  parks_nearest         8079 non-null   float64\n",
      " 19  ponds_around3000      18181 non-null  float64\n",
      " 20  ponds_nearest         9110 non-null   float64\n",
      " 21  days_exposition       20518 non-null  float64\n",
      "dtypes: bool(2), float64(14), int64(3), object(3)\n",
      "memory usage: 3.7+ MB\n"
     ]
    }
   ],
   "source": [
    "data.info()"
   ]
  },
  {
   "cell_type": "code",
   "execution_count": 6,
   "metadata": {},
   "outputs": [
    {
     "data": {
      "text/plain": [
       "array([[<AxesSubplot:title={'center':'total_images'}>,\n",
       "        <AxesSubplot:title={'center':'last_price'}>,\n",
       "        <AxesSubplot:title={'center':'total_area'}>,\n",
       "        <AxesSubplot:title={'center':'rooms'}>],\n",
       "       [<AxesSubplot:title={'center':'ceiling_height'}>,\n",
       "        <AxesSubplot:title={'center':'floors_total'}>,\n",
       "        <AxesSubplot:title={'center':'living_area'}>,\n",
       "        <AxesSubplot:title={'center':'floor'}>],\n",
       "       [<AxesSubplot:title={'center':'kitchen_area'}>,\n",
       "        <AxesSubplot:title={'center':'balcony'}>,\n",
       "        <AxesSubplot:title={'center':'airports_nearest'}>,\n",
       "        <AxesSubplot:title={'center':'cityCenters_nearest'}>],\n",
       "       [<AxesSubplot:title={'center':'parks_around3000'}>,\n",
       "        <AxesSubplot:title={'center':'parks_nearest'}>,\n",
       "        <AxesSubplot:title={'center':'ponds_around3000'}>,\n",
       "        <AxesSubplot:title={'center':'ponds_nearest'}>],\n",
       "       [<AxesSubplot:title={'center':'days_exposition'}>, <AxesSubplot:>,\n",
       "        <AxesSubplot:>, <AxesSubplot:>]], dtype=object)"
      ]
     },
     "execution_count": 6,
     "metadata": {},
     "output_type": "execute_result"
    },
    {
     "data": {
      "image/png": "[encoded data removed]",
      "text/plain": [
       "<Figure size 1080x1440 with 20 Axes>"
      ]
     },
     "metadata": {
      "needs_background": "light"
     },
     "output_type": "display_data"
    }
   ],
   "source": [
    "data.hist(figsize=(15, 20))"
   ]
  },
  {
   "cell_type": "markdown",
   "metadata": {},
   "source": [
    "### Предобработка данных"
   ]
  },
  {
   "cell_type": "markdown",
   "metadata": {},
   "source": [
    "# Работа с пропусками"
   ]
  },
  {
   "cell_type": "code",
   "execution_count": 7,
   "metadata": {
    "scrolled": true
   },
   "outputs": [
    {
     "data": {
      "text/plain": [
       "total_images                0\n",
       "last_price                  0\n",
       "total_area                  0\n",
       "first_day_exposition        0\n",
       "rooms                       0\n",
       "ceiling_height           9195\n",
       "floors_total               86\n",
       "living_area              1903\n",
       "floor                       0\n",
       "is_apartment            20924\n",
       "studio                      0\n",
       "open_plan                   0\n",
       "kitchen_area             2278\n",
       "balcony                 11519\n",
       "locality_name              49\n",
       "airports_nearest         5542\n",
       "cityCenters_nearest      5519\n",
       "parks_around3000         5518\n",
       "parks_nearest           15620\n",
       "ponds_around3000         5518\n",
       "ponds_nearest           14589\n",
       "days_exposition          3181\n",
       "dtype: int64"
      ]
     },
     "execution_count": 7,
     "metadata": {},
     "output_type": "execute_result"
    }
   ],
   "source": [
    "data.isna().sum() #выявляю кол-во пустых значений в каждом столбце"
   ]
  },
  {
   "cell_type": "code",
   "execution_count": 8,
   "metadata": {},
   "outputs": [],
   "source": [
    "data['is_apartment'] = data['is_apartment'].fillna(False)#Предпологая, что пропущенные значения в столбце являются умышленными и означают отрицание, задаю им значение False "
   ]
  },
  {
   "cell_type": "code",
   "execution_count": 9,
   "metadata": {},
   "outputs": [
    {
     "data": {
      "text/plain": [
       "array([False,  True])"
      ]
     },
     "execution_count": 9,
     "metadata": {},
     "output_type": "execute_result"
    }
   ],
   "source": [
    "data['is_apartment'].unique()# Проверяю уникальные значения в столбце, убеждаюсь, что нет пропусков."
   ]
  },
  {
   "cell_type": "code",
   "execution_count": 10,
   "metadata": {},
   "outputs": [],
   "source": [
    "data['balcony'] = data['balcony'].fillna(0)# отсутствие значения в столбце скорее всего говорят , что в квартире нет балконов, их кол-во равно нулю."
   ]
  },
  {
   "cell_type": "code",
   "execution_count": 11,
   "metadata": {},
   "outputs": [
    {
     "data": {
      "text/plain": [
       "array([0., 2., 1., 5., 4., 3.])"
      ]
     },
     "execution_count": 11,
     "metadata": {},
     "output_type": "execute_result"
    }
   ],
   "source": [
    "data['balcony'].unique()# Проверяю уникальные значения в столбце, убеждаюсь в том, что нет пропусков."
   ]
  },
  {
   "cell_type": "markdown",
   "metadata": {},
   "source": [
    "<div class=\"alert alert-block alert-info\">\n",
    "    \n",
    "Заполняю пропуски в `living_area` и `kitchen_area`\n",
    "    \n",
    "</div>"
   ]
  },
  {
   "cell_type": "code",
   "execution_count": 12,
   "metadata": {},
   "outputs": [],
   "source": [
    "total_living_ratio = data['living_area'].median()/data['total_area'].median() \n",
    "#соотношение медианной жилой площади к медианной общей площади"
   ]
  },
  {
   "cell_type": "code",
   "execution_count": 13,
   "metadata": {
    "scrolled": true
   },
   "outputs": [],
   "source": [
    "data['living_area'] = data['living_area'].fillna(data['total_area']*total_living_ratio)"
   ]
  },
  {
   "cell_type": "code",
   "execution_count": 14,
   "metadata": {},
   "outputs": [
    {
     "data": {
      "text/plain": [
       "0"
      ]
     },
     "execution_count": 14,
     "metadata": {},
     "output_type": "execute_result"
    }
   ],
   "source": [
    "data['living_area'].isna().sum() # проверка "
   ]
  },
  {
   "cell_type": "code",
   "execution_count": 15,
   "metadata": {},
   "outputs": [],
   "source": [
    "total_kitchen_ratio = data['kitchen_area'].median()/data['total_area'].median() \n",
    "#соотношение медианной площади кухни к медианной общей площади"
   ]
  },
  {
   "cell_type": "code",
   "execution_count": 16,
   "metadata": {},
   "outputs": [],
   "source": [
    "data['kitchen_area'] = data['living_area'].fillna(data['total_area']*total_kitchen_ratio)"
   ]
  },
  {
   "cell_type": "code",
   "execution_count": 17,
   "metadata": {},
   "outputs": [
    {
     "data": {
      "text/plain": [
       "0"
      ]
     },
     "execution_count": 17,
     "metadata": {},
     "output_type": "execute_result"
    }
   ],
   "source": [
    "data['kitchen_area'].isna().sum() # проверка "
   ]
  },
  {
   "cell_type": "markdown",
   "metadata": {},
   "source": [
    "**Пропуски в столбцах `is_apartment` и `balcony`являются скорее всего умышленными, пользователи не стали заполнять предлженную форму в виду отсутствия балкона и/или квартира не являлась апартаментами. В столбцах living_area и kitchen_area пропуски заполнены благодаря нахождению соотношения медианной общей площеди с медианным значением соответствующего столбца**"
   ]
  },
  {
   "cell_type": "markdown",
   "metadata": {},
   "source": [
    "**Остальные пропущенные значения оставляю неизменными по причинам невозможности нахождения правдоподобных данных, либо медианные данные не отражают действительности и не имеют значения, например: столбцы `ceiling_height` и `days_exposition`.**\n"
   ]
  },
  {
   "cell_type": "markdown",
   "metadata": {},
   "source": [
    "# Изменеие типа данных"
   ]
  },
  {
   "cell_type": "markdown",
   "metadata": {},
   "source": [
    "**При передаче значения `false` для пропусков в столбце `is_apartment` сам столбец меняет тип на `bool` \n",
    "Для проверки снова вызываем метод `info`** **Данный столбец имеет логический тип данных, кроме `True` и `False` не может иметь других значений.**"
   ]
  },
  {
   "cell_type": "code",
   "execution_count": 18,
   "metadata": {},
   "outputs": [
    {
     "name": "stdout",
     "output_type": "stream",
     "text": [
      "<class 'pandas.core.frame.DataFrame'>\n",
      "RangeIndex: 23699 entries, 0 to 23698\n",
      "Data columns (total 22 columns):\n",
      " #   Column                Non-Null Count  Dtype  \n",
      "---  ------                --------------  -----  \n",
      " 0   total_images          23699 non-null  int64  \n",
      " 1   last_price            23699 non-null  float64\n",
      " 2   total_area            23699 non-null  float64\n",
      " 3   first_day_exposition  23699 non-null  object \n",
      " 4   rooms                 23699 non-null  int64  \n",
      " 5   ceiling_height        14504 non-null  float64\n",
      " 6   floors_total          23613 non-null  float64\n",
      " 7   living_area           23699 non-null  float64\n",
      " 8   floor                 23699 non-null  int64  \n",
      " 9   is_apartment          23699 non-null  bool   \n",
      " 10  studio                23699 non-null  bool   \n",
      " 11  open_plan             23699 non-null  bool   \n",
      " 12  kitchen_area          23699 non-null  float64\n",
      " 13  balcony               23699 non-null  float64\n",
      " 14  locality_name         23650 non-null  object \n",
      " 15  airports_nearest      18157 non-null  float64\n",
      " 16  cityCenters_nearest   18180 non-null  float64\n",
      " 17  parks_around3000      18181 non-null  float64\n",
      " 18  parks_nearest         8079 non-null   float64\n",
      " 19  ponds_around3000      18181 non-null  float64\n",
      " 20  ponds_nearest         9110 non-null   float64\n",
      " 21  days_exposition       20518 non-null  float64\n",
      "dtypes: bool(3), float64(14), int64(3), object(2)\n",
      "memory usage: 3.5+ MB\n"
     ]
    }
   ],
   "source": [
    "data.info() "
   ]
  },
  {
   "cell_type": "markdown",
   "metadata": {},
   "source": [
    "**Для дальнейшей работы с датой и временем необходимо перевести столбец `first_day_exposition` в тип `datetime64`**"
   ]
  },
  {
   "cell_type": "code",
   "execution_count": 19,
   "metadata": {},
   "outputs": [],
   "source": [
    "data['first_day_exposition'] = pd.to_datetime(data['first_day_exposition'], format='%Y-%m-%d %H:%M')\n"
   ]
  },
  {
   "cell_type": "markdown",
   "metadata": {},
   "source": [
    "Проверяем:"
   ]
  },
  {
   "cell_type": "code",
   "execution_count": 20,
   "metadata": {},
   "outputs": [
    {
     "name": "stdout",
     "output_type": "stream",
     "text": [
      "<class 'pandas.core.frame.DataFrame'>\n",
      "RangeIndex: 23699 entries, 0 to 23698\n",
      "Data columns (total 22 columns):\n",
      " #   Column                Non-Null Count  Dtype         \n",
      "---  ------                --------------  -----         \n",
      " 0   total_images          23699 non-null  int64         \n",
      " 1   last_price            23699 non-null  float64       \n",
      " 2   total_area            23699 non-null  float64       \n",
      " 3   first_day_exposition  23699 non-null  datetime64[ns]\n",
      " 4   rooms                 23699 non-null  int64         \n",
      " 5   ceiling_height        14504 non-null  float64       \n",
      " 6   floors_total          23613 non-null  float64       \n",
      " 7   living_area           23699 non-null  float64       \n",
      " 8   floor                 23699 non-null  int64         \n",
      " 9   is_apartment          23699 non-null  bool          \n",
      " 10  studio                23699 non-null  bool          \n",
      " 11  open_plan             23699 non-null  bool          \n",
      " 12  kitchen_area          23699 non-null  float64       \n",
      " 13  balcony               23699 non-null  float64       \n",
      " 14  locality_name         23650 non-null  object        \n",
      " 15  airports_nearest      18157 non-null  float64       \n",
      " 16  cityCenters_nearest   18180 non-null  float64       \n",
      " 17  parks_around3000      18181 non-null  float64       \n",
      " 18  parks_nearest         8079 non-null   float64       \n",
      " 19  ponds_around3000      18181 non-null  float64       \n",
      " 20  ponds_nearest         9110 non-null   float64       \n",
      " 21  days_exposition       20518 non-null  float64       \n",
      "dtypes: bool(3), datetime64[ns](1), float64(14), int64(3), object(1)\n",
      "memory usage: 3.5+ MB\n"
     ]
    }
   ],
   "source": [
    "data.info()"
   ]
  },
  {
   "cell_type": "markdown",
   "metadata": {},
   "source": [
    "<div class=\"alert alert-success\">\n",
    "\n",
    "**✔️ Комментарий ревьюера ✔️**\n",
    "   \n",
    "   Можно еще сэкономить память, изменяя типы данных. Например, дополнительно изменить их у площадей квартир с float64 на float32. \n",
    "\n",
    "</div>\n"
   ]
  },
  {
   "cell_type": "markdown",
   "metadata": {},
   "source": [
    "# Устранение неявных дубликатов"
   ]
  },
  {
   "cell_type": "markdown",
   "metadata": {},
   "source": [
    "Выводим уникальные названия населенных пунктов:"
   ]
  },
  {
   "cell_type": "code",
   "execution_count": 21,
   "metadata": {},
   "outputs": [
    {
     "data": {
      "text/plain": [
       "array(['Санкт-Петербург', 'посёлок Шушары', 'городской посёлок Янино-1',\n",
       "       'посёлок Парголово', 'посёлок Мурино', 'Ломоносов', 'Сертолово',\n",
       "       'Петергоф', 'Пушкин', 'деревня Кудрово', 'Коммунар', 'Колпино',\n",
       "       'поселок городского типа Красный Бор', 'Гатчина', 'поселок Мурино',\n",
       "       'деревня Фёдоровское', 'Выборг', 'Кронштадт', 'Кировск',\n",
       "       'деревня Новое Девяткино', 'посёлок Металлострой',\n",
       "       'посёлок городского типа Лебяжье',\n",
       "       'посёлок городского типа Сиверский', 'поселок Молодцово',\n",
       "       'поселок городского типа Кузьмоловский',\n",
       "       'садовое товарищество Новая Ропша', 'Павловск',\n",
       "       'деревня Пикколово', 'Всеволожск', 'Волхов', 'Кингисепп',\n",
       "       'Приозерск', 'Сестрорецк', 'деревня Куттузи', 'посёлок Аннино',\n",
       "       'поселок городского типа Ефимовский', 'посёлок Плодовое',\n",
       "       'деревня Заклинье', 'поселок Торковичи', 'поселок Первомайское',\n",
       "       'Красное Село', 'посёлок Понтонный', 'Сясьстрой', 'деревня Старая',\n",
       "       'деревня Лесколово', 'посёлок Новый Свет', 'Сланцы',\n",
       "       'село Путилово', 'Ивангород', 'Мурино', 'Шлиссельбург',\n",
       "       'Никольское', 'Зеленогорск', 'Сосновый Бор', 'поселок Новый Свет',\n",
       "       'деревня Оржицы', 'деревня Кальтино', 'Кудрово',\n",
       "       'поселок Романовка', 'посёлок Бугры', 'поселок Бугры',\n",
       "       'поселок городского типа Рощино', 'Кириши', 'Луга', 'Волосово',\n",
       "       'Отрадное', 'село Павлово', 'поселок Оредеж', 'село Копорье',\n",
       "       'посёлок городского типа Красный Бор', 'посёлок Молодёжное',\n",
       "       'Тихвин', 'посёлок Победа', 'деревня Нурма',\n",
       "       'поселок городского типа Синявино', 'Тосно',\n",
       "       'посёлок городского типа Кузьмоловский', 'посёлок Стрельна',\n",
       "       'Бокситогорск', 'посёлок Александровская', 'деревня Лопухинка',\n",
       "       'Пикалёво', 'поселок Терволово',\n",
       "       'поселок городского типа Советский', 'Подпорожье',\n",
       "       'посёлок Петровское', 'посёлок городского типа Токсово',\n",
       "       'поселок Сельцо', 'посёлок городского типа Вырица',\n",
       "       'деревня Кипень', 'деревня Келози', 'деревня Вартемяги',\n",
       "       'посёлок Тельмана', 'поселок Севастьяново',\n",
       "       'городской поселок Большая Ижора', nan,\n",
       "       'городской посёлок Павлово', 'деревня Агалатово',\n",
       "       'посёлок Новогорелово', 'городской посёлок Лесогорский',\n",
       "       'деревня Лаголово', 'поселок Цвелодубово',\n",
       "       'поселок городского типа Рахья', 'поселок городского типа Вырица',\n",
       "       'деревня Белогорка', 'поселок Заводской',\n",
       "       'городской посёлок Новоселье', 'деревня Большие Колпаны',\n",
       "       'деревня Горбунки', 'деревня Батово', 'деревня Заневка',\n",
       "       'деревня Иссад', 'Приморск', 'городской посёлок Фёдоровское',\n",
       "       'деревня Мистолово', 'Новая Ладога', 'поселок Зимитицы',\n",
       "       'поселок Барышево', 'деревня Разметелево',\n",
       "       'поселок городского типа имени Свердлова', 'деревня Пеники',\n",
       "       'поселок Рябово', 'деревня Пудомяги', 'поселок станции Корнево',\n",
       "       'деревня Низино', 'деревня Бегуницы', 'посёлок Поляны',\n",
       "       'городской посёлок Мга', 'поселок Елизаветино',\n",
       "       'посёлок городского типа Кузнечное', 'деревня Колтуши',\n",
       "       'поселок Запорожское', 'посёлок городского типа Рощино',\n",
       "       'деревня Гостилицы', 'деревня Малое Карлино',\n",
       "       'посёлок Мичуринское', 'посёлок городского типа имени Морозова',\n",
       "       'посёлок Песочный', 'посёлок Сосново', 'деревня Аро',\n",
       "       'поселок Ильичёво', 'посёлок городского типа Тайцы',\n",
       "       'деревня Малое Верево', 'деревня Извара', 'поселок станции Вещево',\n",
       "       'село Паша', 'деревня Калитино',\n",
       "       'посёлок городского типа Ульяновка', 'деревня Чудской Бор',\n",
       "       'поселок городского типа Дубровка', 'деревня Мины',\n",
       "       'поселок Войсковицы', 'посёлок городского типа имени Свердлова',\n",
       "       'деревня Коркино', 'посёлок Ропша',\n",
       "       'поселок городского типа Приладожский', 'посёлок Щеглово',\n",
       "       'посёлок Гаврилово', 'Лодейное Поле', 'деревня Рабитицы',\n",
       "       'поселок городского типа Никольский', 'деревня Кузьмолово',\n",
       "       'деревня Малые Колпаны', 'поселок Тельмана',\n",
       "       'посёлок Петро-Славянка', 'городской посёлок Назия',\n",
       "       'посёлок Репино', 'посёлок Ильичёво', 'поселок Углово',\n",
       "       'поселок Старая Малукса', 'садовое товарищество Рахья',\n",
       "       'поселок Аннино', 'поселок Победа', 'деревня Меньково',\n",
       "       'деревня Старые Бегуницы', 'посёлок Сапёрный', 'поселок Семрино',\n",
       "       'поселок Гаврилово', 'поселок Глажево', 'поселок Кобринское',\n",
       "       'деревня Гарболово', 'деревня Юкки',\n",
       "       'поселок станции Приветнинское', 'деревня Мануйлово',\n",
       "       'деревня Пчева', 'поселок Поляны', 'поселок Цвылёво',\n",
       "       'поселок Мельниково', 'посёлок Пудость', 'посёлок Усть-Луга',\n",
       "       'Светогорск', 'Любань', 'поселок Селезнёво',\n",
       "       'поселок городского типа Рябово', 'Каменногорск', 'деревня Кривко',\n",
       "       'поселок Глебычево', 'деревня Парицы', 'поселок Жилпосёлок',\n",
       "       'посёлок городского типа Мга', 'городской поселок Янино-1',\n",
       "       'посёлок Войскорово', 'село Никольское', 'посёлок Терволово',\n",
       "       'поселок Стеклянный', 'посёлок городского типа Важины',\n",
       "       'посёлок Мыза-Ивановка', 'село Русско-Высоцкое',\n",
       "       'поселок городского типа Лебяжье',\n",
       "       'поселок городского типа Форносово', 'село Старая Ладога',\n",
       "       'поселок Житково', 'городской посёлок Виллози', 'деревня Лампово',\n",
       "       'деревня Шпаньково', 'деревня Лаврики', 'посёлок Сумино',\n",
       "       'посёлок Возрождение', 'деревня Старосиверская',\n",
       "       'посёлок Кикерино', 'поселок Возрождение',\n",
       "       'деревня Старое Хинколово', 'посёлок Пригородный',\n",
       "       'посёлок Торфяное', 'городской посёлок Будогощь',\n",
       "       'поселок Суходолье', 'поселок Красная Долина', 'деревня Хапо-Ое',\n",
       "       'поселок городского типа Дружная Горка', 'поселок Лисий Нос',\n",
       "       'деревня Яльгелево', 'посёлок Стеклянный', 'село Рождествено',\n",
       "       'деревня Старополье', 'посёлок Левашово', 'деревня Сяськелево',\n",
       "       'деревня Камышовка',\n",
       "       'садоводческое некоммерческое товарищество Лесная Поляна',\n",
       "       'деревня Хязельки', 'поселок Жилгородок',\n",
       "       'посёлок городского типа Павлово', 'деревня Ялгино',\n",
       "       'поселок Новый Учхоз', 'городской посёлок Рощино',\n",
       "       'поселок Гончарово', 'поселок Почап', 'посёлок Сапёрное',\n",
       "       'посёлок Платформа 69-й километр', 'поселок Каложицы',\n",
       "       'деревня Фалилеево', 'деревня Пельгора',\n",
       "       'поселок городского типа Лесогорский', 'деревня Торошковичи',\n",
       "       'посёлок Белоостров', 'посёлок Алексеевка', 'поселок Серебрянский',\n",
       "       'поселок Лукаши', 'поселок Петровское', 'деревня Щеглово',\n",
       "       'поселок Мичуринское', 'деревня Тарасово', 'поселок Кингисеппский',\n",
       "       'посёлок при железнодорожной станции Вещево', 'поселок Ушаки',\n",
       "       'деревня Котлы', 'деревня Сижно', 'деревня Торосово',\n",
       "       'посёлок Форт Красная Горка', 'поселок городского типа Токсово',\n",
       "       'деревня Новолисино', 'посёлок станции Громово', 'деревня Глинка',\n",
       "       'посёлок Мельниково', 'поселок городского типа Назия',\n",
       "       'деревня Старая Пустошь', 'поселок Коммунары', 'поселок Починок',\n",
       "       'посёлок городского типа Вознесенье', 'деревня Разбегаево',\n",
       "       'посёлок городского типа Рябово', 'поселок Гладкое',\n",
       "       'посёлок при железнодорожной станции Приветнинское',\n",
       "       'поселок Тёсово-4', 'посёлок Жилгородок', 'деревня Бор',\n",
       "       'посёлок Коробицыно', 'деревня Большая Вруда', 'деревня Курковицы',\n",
       "       'посёлок Лисий Нос', 'городской посёлок Советский',\n",
       "       'посёлок Кобралово', 'деревня Суоранда', 'поселок Кобралово',\n",
       "       'поселок городского типа Кондратьево',\n",
       "       'коттеджный поселок Счастье', 'поселок Любань', 'деревня Реброво',\n",
       "       'деревня Зимитицы', 'деревня Тойворово', 'поселок Семиозерье',\n",
       "       'поселок Лесное', 'поселок Совхозный', 'поселок Усть-Луга',\n",
       "       'посёлок Ленинское', 'посёлок Суйда',\n",
       "       'посёлок городского типа Форносово', 'деревня Нижние Осельки',\n",
       "       'посёлок станции Свирь', 'поселок Перово', 'Высоцк',\n",
       "       'поселок Гарболово', 'село Шум', 'поселок Котельский',\n",
       "       'поселок станции Лужайка', 'деревня Большая Пустомержа',\n",
       "       'поселок Красносельское', 'деревня Вахнова Кара', 'деревня Пижма',\n",
       "       'коттеджный поселок Кивеннапа Север', 'поселок Коробицыно',\n",
       "       'поселок Ромашки', 'посёлок Перово', 'деревня Каськово',\n",
       "       'деревня Куровицы', 'посёлок Плоское', 'поселок Сумино',\n",
       "       'поселок городского типа Большая Ижора', 'поселок Кирпичное',\n",
       "       'деревня Ям-Тесово', 'деревня Раздолье', 'деревня Терпилицы',\n",
       "       'посёлок Шугозеро', 'деревня Ваганово', 'поселок Пушное',\n",
       "       'садовое товарищество Садко', 'посёлок Усть-Ижора',\n",
       "       'деревня Выскатка', 'городской посёлок Свирьстрой',\n",
       "       'поселок Громово', 'деревня Кисельня', 'посёлок Старая Малукса',\n",
       "       'деревня Трубников Бор', 'поселок Калитино',\n",
       "       'посёлок Высокоключевой', 'садовое товарищество Приладожский',\n",
       "       'посёлок Пансионат Зелёный Бор', 'деревня Ненимяки',\n",
       "       'поселок Пансионат Зелёный Бор', 'деревня Снегирёвка',\n",
       "       'деревня Рапполово', 'деревня Пустынка', 'поселок Рабитицы',\n",
       "       'деревня Большой Сабск', 'деревня Русско', 'деревня Лупполово',\n",
       "       'деревня Большое Рейзино', 'деревня Малая Романовка',\n",
       "       'поселок Дружноселье', 'поселок Пчевжа', 'поселок Володарское',\n",
       "       'деревня Нижняя', 'коттеджный посёлок Лесное', 'деревня Тихковицы',\n",
       "       'деревня Борисова Грива', 'посёлок Дзержинского'], dtype=object)"
      ]
     },
     "execution_count": 21,
     "metadata": {},
     "output_type": "execute_result"
    }
   ],
   "source": [
    "data['locality_name'].unique()"
   ]
  },
  {
   "cell_type": "markdown",
   "metadata": {},
   "source": [
    "Вручную. через поиск по словам, выявляем неявные дубликаты. Так как список немаленький, выводим кол-во уникальных названий\n",
    "для будующей проверки."
   ]
  },
  {
   "cell_type": "code",
   "execution_count": 22,
   "metadata": {},
   "outputs": [
    {
     "data": {
      "text/plain": [
       "365"
      ]
     },
     "execution_count": 22,
     "metadata": {},
     "output_type": "execute_result"
    }
   ],
   "source": [
    "len(data['locality_name'].unique())"
   ]
  },
  {
   "cell_type": "markdown",
   "metadata": {},
   "source": [
    "Переименовываем дубликаты"
   ]
  },
  {
   "cell_type": "code",
   "execution_count": 23,
   "metadata": {},
   "outputs": [],
   "source": [
    "data['locality_name'] = data['locality_name'].replace('поселок Мурино','Мурино')\n",
    "data['locality_name'] = data['locality_name'].replace('посёлок Мурино','Мурино')\n",
    "data['locality_name'] = data['locality_name'].replace('деревня Кудрово','Кудрово')\n",
    "data['locality_name'] = data['locality_name'].replace('посёлок Тельмана','поселок Тельмана')\n",
    "data['locality_name'] = data['locality_name'].replace('посёлок Аннино','поселок Аннино')\n",
    "data['locality_name'] = data['locality_name'].replace('посёлок Гаврилово','поселок Гаврилово')\n",
    "data['locality_name'] = data['locality_name'].replace('посёлок Победа','поселок Победа')\n",
    "data['locality_name'] = data['locality_name'].replace('поселок городского типа Рябово','поселок Рябово')\n",
    "data['locality_name'] = data['locality_name'].replace('посёлок Пансионат Зелёный Бор','поселок пансионат Зелёный Бор')\n",
    "data['locality_name'] = data['locality_name'].replace('посёлок городского типа Красный Бор','поселок городского типа Красный Бор')\n",
    "data['locality_name'] = data['locality_name'].replace('посёлок городского типа Лебяжье','поселок городского типа Лебяжье')\n"
   ]
  },
  {
   "cell_type": "markdown",
   "metadata": {},
   "source": [
    "Проверяем кол-во уникальных значений, если их меньше, то дубликаты исчезли!"
   ]
  },
  {
   "cell_type": "code",
   "execution_count": 24,
   "metadata": {},
   "outputs": [
    {
     "data": {
      "text/plain": [
       "355"
      ]
     },
     "execution_count": 24,
     "metadata": {},
     "output_type": "execute_result"
    }
   ],
   "source": [
    "len(data['locality_name'].unique())"
   ]
  },
  {
   "cell_type": "markdown",
   "metadata": {},
   "source": [
    "# Устранение аномалий"
   ]
  },
  {
   "cell_type": "markdown",
   "metadata": {},
   "source": [
    "Выводим уникальные значения высоты потолков"
   ]
  },
  {
   "cell_type": "code",
   "execution_count": 25,
   "metadata": {},
   "outputs": [
    {
     "data": {
      "text/plain": [
       "array([  2.7 ,    nan,   3.03,   2.5 ,   2.67,   2.56,   3.05,   2.75,\n",
       "         2.6 ,   2.9 ,   2.8 ,   2.55,   3.  ,   2.65,   3.2 ,   2.61,\n",
       "         3.25,   3.45,   2.77,   2.85,   2.64,   2.57,   4.15,   3.5 ,\n",
       "         3.3 ,   2.71,   4.  ,   2.47,   2.73,   2.84,   3.1 ,   2.34,\n",
       "         3.4 ,   3.06,   2.72,   2.54,   2.51,   2.78,   2.76,  25.  ,\n",
       "         2.58,   3.7 ,   2.52,   5.2 ,   2.87,   2.66,   2.59,   2.  ,\n",
       "         2.45,   3.6 ,   2.92,   3.11,   3.13,   3.8 ,   3.15,   3.55,\n",
       "         3.16,   3.62,   3.12,   2.53,   2.74,   2.96,   2.46,   5.3 ,\n",
       "         5.  ,   2.79,   2.95,   4.06,   2.94,   3.82,   3.54,   3.53,\n",
       "         2.83,   4.7 ,   2.4 ,   3.38,   3.01,   5.6 ,   3.65,   3.9 ,\n",
       "         3.18,   3.35,   2.3 ,   3.57,   2.48,   2.62,   2.82,   3.98,\n",
       "         2.63,   3.83,   3.52,   3.95,   3.75,   2.88,   3.67,   3.87,\n",
       "         3.66,   3.85,   3.86,   4.19,   3.24,   4.8 ,   4.5 ,   4.2 ,\n",
       "         3.36,  32.  ,   3.08,   3.68,   3.07,   3.37,   3.09,   8.  ,\n",
       "         3.26,   3.34,   2.81,   3.44,   2.97,   3.14,   4.37,   2.68,\n",
       "         3.22,   3.27,  27.  ,   4.1 ,   2.93,   3.46,  24.  ,   3.47,\n",
       "         3.33,   3.63,   3.32,  26.  ,   1.2 ,   8.3 ,   2.98,   2.86,\n",
       "         3.17,   4.4 ,   3.28,   3.04,   4.45,   5.5 ,   3.84,   3.23,\n",
       "         3.02,   3.21,   3.43,   3.78,   4.3 ,   3.39,   2.69,   3.31,\n",
       "         4.65,   3.56,   2.2 ,   3.51,   3.93,   3.42,   2.99,   3.49,\n",
       "        14.  ,   4.14,   2.91,   3.88,   1.75,   4.25,   3.29,  20.  ,\n",
       "         2.25,   3.76,   3.69,   6.  ,  22.6 ,   2.89,   3.58,   5.8 ,\n",
       "        27.5 ,   2.49,   4.9 ,   3.48,  10.3 ,   1.  , 100.  ,   3.59])"
      ]
     },
     "execution_count": 25,
     "metadata": {},
     "output_type": "execute_result"
    }
   ],
   "source": [
    "data['ceiling_height'].unique()"
   ]
  },
  {
   "cell_type": "markdown",
   "metadata": {},
   "source": [
    "В списке присутствуют слишком высокие значения. Скорее всего - это ошибка записи данных. Разделим анамально большие числа на 10, чтобы привести к нормальному виду десятичной дроби. Предположим что потолок высотой 10м в СПБ гдето могут существовать. "
   ]
  },
  {
   "cell_type": "code",
   "execution_count": 26,
   "metadata": {},
   "outputs": [],
   "source": [
    "data.loc[(data.ceiling_height > 10), 'ceiling_height'] = data['ceiling_height'][data['ceiling_height'] > 10]/10\n"
   ]
  },
  {
   "cell_type": "markdown",
   "metadata": {},
   "source": [
    "Проверим как перезаписались значения:"
   ]
  },
  {
   "cell_type": "code",
   "execution_count": 27,
   "metadata": {},
   "outputs": [
    {
     "data": {
      "text/plain": [
       "array([ 2.7 ,   nan,  3.03,  2.5 ,  2.67,  2.56,  3.05,  2.75,  2.6 ,\n",
       "        2.9 ,  2.8 ,  2.55,  3.  ,  2.65,  3.2 ,  2.61,  3.25,  3.45,\n",
       "        2.77,  2.85,  2.64,  2.57,  4.15,  3.5 ,  3.3 ,  2.71,  4.  ,\n",
       "        2.47,  2.73,  2.84,  3.1 ,  2.34,  3.4 ,  3.06,  2.72,  2.54,\n",
       "        2.51,  2.78,  2.76,  2.58,  3.7 ,  2.52,  5.2 ,  2.87,  2.66,\n",
       "        2.59,  2.  ,  2.45,  3.6 ,  2.92,  3.11,  3.13,  3.8 ,  3.15,\n",
       "        3.55,  3.16,  3.62,  3.12,  2.53,  2.74,  2.96,  2.46,  5.3 ,\n",
       "        5.  ,  2.79,  2.95,  4.06,  2.94,  3.82,  3.54,  3.53,  2.83,\n",
       "        4.7 ,  2.4 ,  3.38,  3.01,  5.6 ,  3.65,  3.9 ,  3.18,  3.35,\n",
       "        2.3 ,  3.57,  2.48,  2.62,  2.82,  3.98,  2.63,  3.83,  3.52,\n",
       "        3.95,  3.75,  2.88,  3.67,  3.87,  3.66,  3.85,  3.86,  4.19,\n",
       "        3.24,  4.8 ,  4.5 ,  4.2 ,  3.36,  3.08,  3.68,  3.07,  3.37,\n",
       "        3.09,  8.  ,  3.26,  3.34,  2.81,  3.44,  2.97,  3.14,  4.37,\n",
       "        2.68,  3.22,  3.27,  4.1 ,  2.93,  3.46,  3.47,  3.33,  3.63,\n",
       "        3.32,  1.2 ,  8.3 ,  2.98,  2.86,  3.17,  4.4 ,  3.28,  3.04,\n",
       "        4.45,  5.5 ,  3.84,  3.23,  3.02,  3.21,  3.43,  3.78,  4.3 ,\n",
       "        3.39,  2.69,  3.31,  4.65,  3.56,  2.2 ,  3.51,  3.93,  3.42,\n",
       "        2.99,  3.49,  1.4 ,  4.14,  2.91,  3.88,  1.75,  4.25,  3.29,\n",
       "        2.25,  3.76,  3.69,  6.  ,  2.26,  2.89,  3.58,  5.8 ,  2.49,\n",
       "        4.9 ,  3.48,  1.03,  1.  , 10.  ,  3.59])"
      ]
     },
     "execution_count": 27,
     "metadata": {},
     "output_type": "execute_result"
    }
   ],
   "source": [
    " data['ceiling_height'].unique()"
   ]
  },
  {
   "cell_type": "markdown",
   "metadata": {},
   "source": [
    "В списке остались только странные маленькие значения, например: потолок высотой 1 метр. Отбросим их! Предположим, что минимальная высота потолка будет составлять 2 метра."
   ]
  },
  {
   "cell_type": "code",
   "execution_count": 28,
   "metadata": {},
   "outputs": [],
   "source": [
    "data['ceiling_height'] = data['ceiling_height'][data['ceiling_height'] >2]"
   ]
  },
  {
   "cell_type": "markdown",
   "metadata": {},
   "source": [
    "Проверим минимальные и максимальные значения столбца методом `describe()`"
   ]
  },
  {
   "cell_type": "code",
   "execution_count": 29,
   "metadata": {},
   "outputs": [
    {
     "data": {
      "text/plain": [
       "count    14487.000000\n",
       "mean         2.729204\n",
       "std          0.298033\n",
       "min          2.200000\n",
       "25%          2.520000\n",
       "50%          2.650000\n",
       "75%          2.800000\n",
       "max         10.000000\n",
       "Name: ceiling_height, dtype: float64"
      ]
     },
     "execution_count": 29,
     "metadata": {},
     "output_type": "execute_result"
    }
   ],
   "source": [
    "data['ceiling_height'].describe()\n"
   ]
  },
  {
   "cell_type": "markdown",
   "metadata": {},
   "source": [
    "Вообще методом `describe()` можно пройтись по всем столбцам с количественными значениями для выявления выбросов. Например:"
   ]
  },
  {
   "cell_type": "code",
   "execution_count": 30,
   "metadata": {},
   "outputs": [
    {
     "data": {
      "text/plain": [
       "count    2.369900e+04\n",
       "mean     6.541549e+06\n",
       "std      1.088701e+07\n",
       "min      1.219000e+04\n",
       "25%      3.400000e+06\n",
       "50%      4.650000e+06\n",
       "75%      6.800000e+06\n",
       "max      7.630000e+08\n",
       "Name: last_price, dtype: float64"
      ]
     },
     "execution_count": 30,
     "metadata": {},
     "output_type": "execute_result"
    }
   ],
   "source": [
    "data['last_price'].describe()\n"
   ]
  },
  {
   "cell_type": "markdown",
   "metadata": {},
   "source": [
    "Игнорируем еденичные высочайшие значения цены объекта:"
   ]
  },
  {
   "cell_type": "code",
   "execution_count": 31,
   "metadata": {},
   "outputs": [
    {
     "data": {
      "image/png": "[encoded data removed]",
      "text/plain": [
       "<Figure size 432x288 with 1 Axes>"
      ]
     },
     "metadata": {
      "needs_background": "light"
     },
     "output_type": "display_data"
    }
   ],
   "source": [
    "data.boxplot(), \n",
    "data['last_price'] = data['last_price'].loc[data['last_price'] < 200000000]\n"
   ]
  },
  {
   "cell_type": "code",
   "execution_count": 32,
   "metadata": {},
   "outputs": [
    {
     "data": {
      "text/plain": [
       "count    2.369000e+04\n",
       "mean     6.408173e+06\n",
       "std      7.897411e+06\n",
       "min      1.219000e+04\n",
       "25%      3.400000e+06\n",
       "50%      4.650000e+06\n",
       "75%      6.790000e+06\n",
       "max      1.908700e+08\n",
       "Name: last_price, dtype: float64"
      ]
     },
     "execution_count": 32,
     "metadata": {},
     "output_type": "execute_result"
    }
   ],
   "source": [
    "data['last_price'].describe()"
   ]
  },
  {
   "cell_type": "code",
   "execution_count": 33,
   "metadata": {},
   "outputs": [
    {
     "data": {
      "text/plain": [
       "count    23699.000000\n",
       "mean         5.892358\n",
       "std          4.885249\n",
       "min          1.000000\n",
       "25%          2.000000\n",
       "50%          4.000000\n",
       "75%          8.000000\n",
       "max         33.000000\n",
       "Name: floor, dtype: float64"
      ]
     },
     "execution_count": 33,
     "metadata": {},
     "output_type": "execute_result"
    }
   ],
   "source": [
    "data['floor'].describe()"
   ]
  },
  {
   "cell_type": "markdown",
   "metadata": {},
   "source": [
    "Здесь все чисто!"
   ]
  },
  {
   "cell_type": "code",
   "execution_count": 34,
   "metadata": {},
   "outputs": [
    {
     "data": {
      "text/plain": [
       "count    23699.000000\n",
       "mean         2.070636\n",
       "std          1.078405\n",
       "min          0.000000\n",
       "25%          1.000000\n",
       "50%          2.000000\n",
       "75%          3.000000\n",
       "max         19.000000\n",
       "Name: rooms, dtype: float64"
      ]
     },
     "execution_count": 34,
     "metadata": {},
     "output_type": "execute_result"
    }
   ],
   "source": [
    "data['rooms'].describe()"
   ]
  },
  {
   "cell_type": "code",
   "execution_count": 35,
   "metadata": {},
   "outputs": [
    {
     "data": {
      "text/plain": [
       "count    23699.000000\n",
       "mean         2.070636\n",
       "std          1.078405\n",
       "min          0.000000\n",
       "25%          1.000000\n",
       "50%          2.000000\n",
       "75%          3.000000\n",
       "max         19.000000\n",
       "Name: rooms, dtype: float64"
      ]
     },
     "execution_count": 35,
     "metadata": {},
     "output_type": "execute_result"
    }
   ],
   "source": [
    "data['rooms'].describe()\n"
   ]
  },
  {
   "cell_type": "markdown",
   "metadata": {},
   "source": [
    "Удаляем \"нулекомнатные квартиры\" "
   ]
  },
  {
   "cell_type": "code",
   "execution_count": 36,
   "metadata": {},
   "outputs": [
    {
     "data": {
      "text/plain": [
       "count    23502.000000\n",
       "mean         2.087993\n",
       "std          1.066050\n",
       "min          1.000000\n",
       "25%          1.000000\n",
       "50%          2.000000\n",
       "75%          3.000000\n",
       "max         19.000000\n",
       "Name: rooms, dtype: float64"
      ]
     },
     "execution_count": 36,
     "metadata": {},
     "output_type": "execute_result"
    }
   ],
   "source": [
    "data['rooms']= data['rooms'][data['rooms'] > 0]\n",
    "data['rooms'].describe()\n",
    "\n"
   ]
  },
  {
   "cell_type": "markdown",
   "metadata": {},
   "source": [
    "### Посчитайте и добавьте в таблицу новые столбцы"
   ]
  },
  {
   "cell_type": "code",
   "execution_count": 37,
   "metadata": {},
   "outputs": [
    {
     "data": {
      "text/plain": [
       "0        120370.370370\n",
       "1         82920.792079\n",
       "2         92785.714286\n",
       "3        408176.100629\n",
       "4        100000.000000\n",
       "             ...      \n",
       "23694     72490.845228\n",
       "23695     52542.372881\n",
       "23696     44091.710758\n",
       "23697    149511.400651\n",
       "23698     41795.665635\n",
       "Name: price_square, Length: 23699, dtype: float64"
      ]
     },
     "execution_count": 37,
     "metadata": {},
     "output_type": "execute_result"
    }
   ],
   "source": [
    "data['price_square'] = data['last_price'] / data['total_area']\n",
    "data['price_square']"
   ]
  },
  {
   "cell_type": "code",
   "execution_count": 38,
   "metadata": {},
   "outputs": [],
   "source": [
    "data['week_day_exposition'] = data['first_day_exposition'].dt.weekday\n",
    "def weekday(day):\n",
    "    if day == 0:\n",
    "        return 'понидельник'\n",
    "    elif day == 1:\n",
    "        return 'вторник'\n",
    "    elif day == 2:\n",
    "        return 'среда'\n",
    "    elif day == 3:\n",
    "        return 'четверг'\n",
    "    elif day == 4:\n",
    "        return 'пятница'\n",
    "    elif day == 5:\n",
    "        return 'суббота'\n",
    "    elif day == 6:\n",
    "        return 'воскресение'\n",
    "data['week_day_exposition'] = data['week_day_exposition'].apply(weekday)    "
   ]
  },
  {
   "cell_type": "markdown",
   "metadata": {},
   "source": [
    "Проверка заполнения столбца"
   ]
  },
  {
   "cell_type": "code",
   "execution_count": 39,
   "metadata": {},
   "outputs": [
    {
     "data": {
      "text/plain": [
       "0            четверг\n",
       "1            вторник\n",
       "2            четверг\n",
       "3            пятница\n",
       "4            вторник\n",
       "            ...     \n",
       "23694        вторник\n",
       "23695    понидельник\n",
       "23696    воскресение\n",
       "23697        вторник\n",
       "23698        пятница\n",
       "Name: week_day_exposition, Length: 23699, dtype: object"
      ]
     },
     "execution_count": 39,
     "metadata": {},
     "output_type": "execute_result"
    }
   ],
   "source": [
    "data['week_day_exposition']"
   ]
  },
  {
   "cell_type": "code",
   "execution_count": 40,
   "metadata": {},
   "outputs": [
    {
     "data": {
      "text/plain": [
       "0         3\n",
       "1        12\n",
       "2         8\n",
       "3         7\n",
       "4         6\n",
       "         ..\n",
       "23694     3\n",
       "23695     1\n",
       "23696     2\n",
       "23697     3\n",
       "23698     7\n",
       "Name: month_exposition, Length: 23699, dtype: int64"
      ]
     },
     "execution_count": 40,
     "metadata": {},
     "output_type": "execute_result"
    }
   ],
   "source": [
    "data['month_exposition'] = data['first_day_exposition'].dt.month\n",
    "data['month_exposition']"
   ]
  },
  {
   "cell_type": "code",
   "execution_count": 41,
   "metadata": {},
   "outputs": [
    {
     "data": {
      "text/plain": [
       "0        2019\n",
       "1        2018\n",
       "2        2015\n",
       "3        2015\n",
       "4        2018\n",
       "         ... \n",
       "23694    2017\n",
       "23695    2018\n",
       "23696    2018\n",
       "23697    2017\n",
       "23698    2017\n",
       "Name: year_exposition, Length: 23699, dtype: int64"
      ]
     },
     "execution_count": 41,
     "metadata": {},
     "output_type": "execute_result"
    }
   ],
   "source": [
    "data['year_exposition'] = data['first_day_exposition'].dt.year\n",
    "data['year_exposition']"
   ]
  },
  {
   "cell_type": "code",
   "execution_count": 42,
   "metadata": {},
   "outputs": [
    {
     "data": {
      "text/plain": [
       "array(['другой', 'первый', 'последний'], dtype=object)"
      ]
     },
     "execution_count": 42,
     "metadata": {},
     "output_type": "execute_result"
    }
   ],
   "source": [
    "\n",
    "def types(row):\n",
    "    if row['floor'] == 1:\n",
    "        return 'первый'\n",
    "    if row['floor'] == row['floors_total']:\n",
    "        return 'последний'\n",
    "    else:\n",
    "        return 'другой'\n",
    "\n",
    "data['type_floor']= data.apply(types, axis=1)\n",
    "data['type_floor'].unique()#проверочка)"
   ]
  },
  {
   "cell_type": "code",
   "execution_count": 43,
   "metadata": {},
   "outputs": [
    {
     "data": {
      "text/plain": [
       "0        16.0\n",
       "1        19.0\n",
       "2        14.0\n",
       "3         7.0\n",
       "4         8.0\n",
       "         ... \n",
       "23694     4.0\n",
       "23695     NaN\n",
       "23696     NaN\n",
       "23697    10.0\n",
       "23698     NaN\n",
       "Name: cityCenters_nearest_km, Length: 23699, dtype: float64"
      ]
     },
     "execution_count": 43,
     "metadata": {},
     "output_type": "execute_result"
    }
   ],
   "source": [
    "data['cityCenters_nearest_km'] = (data['cityCenters_nearest'] / 1000).round()\n",
    "data['cityCenters_nearest_km']"
   ]
  },
  {
   "cell_type": "markdown",
   "metadata": {},
   "source": [
    "### Проведите исследовательский анализ данных"
   ]
  },
  {
   "cell_type": "markdown",
   "metadata": {},
   "source": [
    "**общая площадь**\n"
   ]
  },
  {
   "cell_type": "code",
   "execution_count": 44,
   "metadata": {},
   "outputs": [
    {
     "data": {
      "text/plain": [
       "count    23699.000000\n",
       "mean        60.348651\n",
       "std         35.654083\n",
       "min         12.000000\n",
       "25%         40.000000\n",
       "50%         52.000000\n",
       "75%         69.900000\n",
       "max        900.000000\n",
       "Name: total_area, dtype: float64"
      ]
     },
     "execution_count": 44,
     "metadata": {},
     "output_type": "execute_result"
    }
   ],
   "source": [
    "data['total_area'].describe()"
   ]
  },
  {
   "cell_type": "code",
   "execution_count": 45,
   "metadata": {},
   "outputs": [
    {
     "data": {
      "text/plain": [
       "<AxesSubplot:>"
      ]
     },
     "execution_count": 45,
     "metadata": {},
     "output_type": "execute_result"
    },
    {
     "data": {
      "image/png": "[encoded data removed]",
      "text/plain": [
       "<Figure size 432x288 with 1 Axes>"
      ]
     },
     "metadata": {
      "needs_background": "light"
     },
     "output_type": "display_data"
    }
   ],
   "source": [
    "data['total_area'].hist(bins=200, grid=True)"
   ]
  },
  {
   "cell_type": "markdown",
   "metadata": {},
   "source": [
    "Большая часть объектов имеет площадь ~ 30 - 50 м². Пик в районе 50 м².  Что соответствует медианному значению. \n",
    "Ожидаемое распределение."
   ]
  },
  {
   "cell_type": "markdown",
   "metadata": {},
   "source": [
    "**жилая площадь**"
   ]
  },
  {
   "cell_type": "code",
   "execution_count": 46,
   "metadata": {},
   "outputs": [
    {
     "data": {
      "text/plain": [
       "count    23699.000000\n",
       "mean        34.624296\n",
       "std         22.381873\n",
       "min          2.000000\n",
       "25%         19.000000\n",
       "50%         30.000000\n",
       "75%         42.173077\n",
       "max        409.700000\n",
       "Name: living_area, dtype: float64"
      ]
     },
     "execution_count": 46,
     "metadata": {},
     "output_type": "execute_result"
    }
   ],
   "source": [
    "data['living_area'].describe()"
   ]
  },
  {
   "cell_type": "code",
   "execution_count": 47,
   "metadata": {},
   "outputs": [
    {
     "data": {
      "text/plain": [
       "<AxesSubplot:>"
      ]
     },
     "execution_count": 47,
     "metadata": {},
     "output_type": "execute_result"
    },
    {
     "data": {
      "image/png": "[encoded data removed]",
      "text/plain": [
       "<Figure size 432x288 with 1 Axes>"
      ]
     },
     "metadata": {
      "needs_background": "light"
     },
     "output_type": "display_data"
    }
   ],
   "source": [
    "data['living_area'].hist(bins=100, grid=True)"
   ]
  },
  {
   "cell_type": "markdown",
   "metadata": {},
   "source": [
    "Больше всего объектов с жилой площадью ~ 20м² данный показатель входит в межквартильный размах, сомниваться в данных не приходится."
   ]
  },
  {
   "cell_type": "markdown",
   "metadata": {},
   "source": [
    "**площадь кухни**"
   ]
  },
  {
   "cell_type": "code",
   "execution_count": 48,
   "metadata": {},
   "outputs": [
    {
     "data": {
      "text/plain": [
       "count    23699.000000\n",
       "mean        34.624296\n",
       "std         22.381873\n",
       "min          2.000000\n",
       "25%         19.000000\n",
       "50%         30.000000\n",
       "75%         42.173077\n",
       "max        409.700000\n",
       "Name: kitchen_area, dtype: float64"
      ]
     },
     "execution_count": 48,
     "metadata": {},
     "output_type": "execute_result"
    }
   ],
   "source": [
    "data['kitchen_area'].describe()"
   ]
  },
  {
   "cell_type": "code",
   "execution_count": 49,
   "metadata": {},
   "outputs": [
    {
     "data": {
      "text/plain": [
       "<AxesSubplot:>"
      ]
     },
     "execution_count": 49,
     "metadata": {},
     "output_type": "execute_result"
    },
    {
     "data": {
      "image/png": "[encoded data removed]",
      "text/plain": [
       "<Figure size 720x1080 with 1 Axes>"
      ]
     },
     "metadata": {
      "needs_background": "light"
     },
     "output_type": "display_data"
    }
   ],
   "source": [
    "data['kitchen_area'].hist(bins=100, grid=True, figsize=(10, 15))"
   ]
  },
  {
   "cell_type": "markdown",
   "metadata": {},
   "source": [
    "Объектов с кухней в ~ 9м² больше, скорее всего это следствие типовой застройки, типичная \"сталинка\". Ну а кухни в 50м² это действительно редкость. Распределение ожидаемое - нормальное, данные сопоставимы с реальностью. "
   ]
  },
  {
   "cell_type": "markdown",
   "metadata": {},
   "source": [
    "**цена объекта**"
   ]
  },
  {
   "cell_type": "code",
   "execution_count": 50,
   "metadata": {},
   "outputs": [
    {
     "data": {
      "text/plain": [
       "count    2.369000e+04\n",
       "mean     6.408173e+06\n",
       "std      7.897411e+06\n",
       "min      1.219000e+04\n",
       "25%      3.400000e+06\n",
       "50%      4.650000e+06\n",
       "75%      6.790000e+06\n",
       "max      1.908700e+08\n",
       "Name: last_price, dtype: float64"
      ]
     },
     "execution_count": 50,
     "metadata": {},
     "output_type": "execute_result"
    }
   ],
   "source": [
    "data['last_price'].describe()"
   ]
  },
  {
   "cell_type": "markdown",
   "metadata": {},
   "source": [
    "Строим гистограмму, для наглядности перевожу значения в миллионы: "
   ]
  },
  {
   "cell_type": "code",
   "execution_count": 51,
   "metadata": {},
   "outputs": [
    {
     "data": {
      "text/plain": [
       "<AxesSubplot:>"
      ]
     },
     "execution_count": 51,
     "metadata": {},
     "output_type": "execute_result"
    },
    {
     "data": {
      "image/png": "[encoded data removed]",
      "text/plain": [
       "<Figure size 720x1080 with 1 Axes>"
      ]
     },
     "metadata": {
      "needs_background": "light"
     },
     "output_type": "display_data"
    }
   ],
   "source": [
    "(data['last_price']/1000000).hist(bins=1000,figsize=(10, 15))"
   ]
  },
  {
   "cell_type": "markdown",
   "metadata": {},
   "source": [
    "Чем дороже жилье, тем меньше предложений, меньше будет предложений по цене ниже рыночной. "
   ]
  },
  {
   "cell_type": "markdown",
   "metadata": {},
   "source": [
    "**количество комнат**"
   ]
  },
  {
   "cell_type": "code",
   "execution_count": 52,
   "metadata": {},
   "outputs": [
    {
     "data": {
      "text/plain": [
       "count    23502.000000\n",
       "mean         2.087993\n",
       "std          1.066050\n",
       "min          1.000000\n",
       "25%          1.000000\n",
       "50%          2.000000\n",
       "75%          3.000000\n",
       "max         19.000000\n",
       "Name: rooms, dtype: float64"
      ]
     },
     "execution_count": 52,
     "metadata": {},
     "output_type": "execute_result"
    }
   ],
   "source": [
    "data['rooms'].describe()"
   ]
  },
  {
   "cell_type": "code",
   "execution_count": 53,
   "metadata": {},
   "outputs": [
    {
     "data": {
      "text/plain": [
       "<AxesSubplot:>"
      ]
     },
     "execution_count": 53,
     "metadata": {},
     "output_type": "execute_result"
    },
    {
     "data": {
      "image/png": "[encoded data removed]",
      "text/plain": [
       "<Figure size 432x288 with 1 Axes>"
      ]
     },
     "metadata": {
      "needs_background": "light"
     },
     "output_type": "display_data"
    }
   ],
   "source": [
    "data['rooms'].hist(bins=100, grid=True)"
   ]
  },
  {
   "cell_type": "markdown",
   "metadata": {},
   "source": [
    "\"Однушки\" и \"двушки\" в топе - логично! Распределение нормальное!"
   ]
  },
  {
   "cell_type": "markdown",
   "metadata": {},
   "source": [
    "**высота потолков**"
   ]
  },
  {
   "cell_type": "code",
   "execution_count": 54,
   "metadata": {},
   "outputs": [
    {
     "data": {
      "text/plain": [
       "count    14487.000000\n",
       "mean         2.729204\n",
       "std          0.298033\n",
       "min          2.200000\n",
       "25%          2.520000\n",
       "50%          2.650000\n",
       "75%          2.800000\n",
       "max         10.000000\n",
       "Name: ceiling_height, dtype: float64"
      ]
     },
     "execution_count": 54,
     "metadata": {},
     "output_type": "execute_result"
    }
   ],
   "source": [
    "data['ceiling_height'].describe()"
   ]
  },
  {
   "cell_type": "code",
   "execution_count": 55,
   "metadata": {},
   "outputs": [
    {
     "data": {
      "text/plain": [
       "<AxesSubplot:>"
      ]
     },
     "execution_count": 55,
     "metadata": {},
     "output_type": "execute_result"
    },
    {
     "data": {
      "image/png": "[encoded data removed]",
      "text/plain": [
       "<Figure size 432x288 with 1 Axes>"
      ]
     },
     "metadata": {
      "needs_background": "light"
     },
     "output_type": "display_data"
    }
   ],
   "source": [
    "data['ceiling_height'].hist(bins=100, grid=True)"
   ]
  },
  {
   "cell_type": "markdown",
   "metadata": {},
   "source": [
    "И опять же типичная застройка - потолки 2.5 метра в большенстве случаев."
   ]
  },
  {
   "cell_type": "markdown",
   "metadata": {},
   "source": [
    "**этаж квартиры**"
   ]
  },
  {
   "cell_type": "code",
   "execution_count": 56,
   "metadata": {},
   "outputs": [
    {
     "data": {
      "text/plain": [
       "count    23699.000000\n",
       "mean         5.892358\n",
       "std          4.885249\n",
       "min          1.000000\n",
       "25%          2.000000\n",
       "50%          4.000000\n",
       "75%          8.000000\n",
       "max         33.000000\n",
       "Name: floor, dtype: float64"
      ]
     },
     "execution_count": 56,
     "metadata": {},
     "output_type": "execute_result"
    }
   ],
   "source": [
    "data['floor'].describe()"
   ]
  },
  {
   "cell_type": "code",
   "execution_count": 57,
   "metadata": {},
   "outputs": [
    {
     "data": {
      "text/plain": [
       "<AxesSubplot:>"
      ]
     },
     "execution_count": 57,
     "metadata": {},
     "output_type": "execute_result"
    },
    {
     "data": {
      "image/png": "[encoded data removed]",
      "text/plain": [
       "<Figure size 432x288 with 1 Axes>"
      ]
     },
     "metadata": {
      "needs_background": "light"
     },
     "output_type": "display_data"
    }
   ],
   "source": [
    "data['floor'].hist(bins=100, grid=True)"
   ]
  },
  {
   "cell_type": "markdown",
   "metadata": {},
   "source": [
    "Пятиэтажки лидируют на рынке жилья! \n",
    "P.S. Вообще СПБ не самый высотный город. После строительства Зимнего дворца всем петербургским зодчим строго-настрого предписывалось - их творения не должны быть выше Зимнего дворца."
   ]
  },
  {
   "cell_type": "markdown",
   "metadata": {},
   "source": [
    "**тип этажа квартиры**"
   ]
  },
  {
   "cell_type": "code",
   "execution_count": 58,
   "metadata": {},
   "outputs": [
    {
     "data": {
      "text/plain": [
       "count      23699\n",
       "unique         3\n",
       "top       другой\n",
       "freq       17446\n",
       "Name: type_floor, dtype: object"
      ]
     },
     "execution_count": 58,
     "metadata": {},
     "output_type": "execute_result"
    }
   ],
   "source": [
    "data['type_floor'].describe()"
   ]
  },
  {
   "cell_type": "code",
   "execution_count": 59,
   "metadata": {},
   "outputs": [
    {
     "data": {
      "text/plain": [
       "<AxesSubplot:>"
      ]
     },
     "execution_count": 59,
     "metadata": {},
     "output_type": "execute_result"
    },
    {
     "data": {
      "image/png": "[encoded data removed]",
      "text/plain": [
       "<Figure size 432x288 with 1 Axes>"
      ]
     },
     "metadata": {
      "needs_background": "light"
     },
     "output_type": "display_data"
    }
   ],
   "source": [
    "data['type_floor'].hist(bins=100, grid=True)"
   ]
  },
  {
   "cell_type": "markdown",
   "metadata": {},
   "source": [
    "**общее количество этажей в доме**\n"
   ]
  },
  {
   "cell_type": "code",
   "execution_count": 60,
   "metadata": {},
   "outputs": [
    {
     "data": {
      "text/plain": [
       "count    23613.000000\n",
       "mean        10.673824\n",
       "std          6.597173\n",
       "min          1.000000\n",
       "25%          5.000000\n",
       "50%          9.000000\n",
       "75%         16.000000\n",
       "max         60.000000\n",
       "Name: floors_total, dtype: float64"
      ]
     },
     "execution_count": 60,
     "metadata": {},
     "output_type": "execute_result"
    }
   ],
   "source": [
    "data['floors_total'].describe()"
   ]
  },
  {
   "cell_type": "code",
   "execution_count": 61,
   "metadata": {},
   "outputs": [
    {
     "data": {
      "text/plain": [
       "<AxesSubplot:>"
      ]
     },
     "execution_count": 61,
     "metadata": {},
     "output_type": "execute_result"
    },
    {
     "data": {
      "image/png": "[encoded data removed]",
      "text/plain": [
       "<Figure size 432x288 with 1 Axes>"
      ]
     },
     "metadata": {
      "needs_background": "light"
     },
     "output_type": "display_data"
    }
   ],
   "source": [
    "data['floors_total'].hist(bins=100, grid=True)"
   ]
  },
  {
   "cell_type": "markdown",
   "metadata": {},
   "source": [
    "Пяти и девятиэтажные дома в топе предложений - наше советское наследие."
   ]
  },
  {
   "cell_type": "markdown",
   "metadata": {},
   "source": [
    "**расстояние до центра города в метрах**"
   ]
  },
  {
   "cell_type": "code",
   "execution_count": 62,
   "metadata": {},
   "outputs": [
    {
     "data": {
      "text/plain": [
       "count    18180.000000\n",
       "mean     14191.277833\n",
       "std       8608.386210\n",
       "min        181.000000\n",
       "25%       9238.000000\n",
       "50%      13098.500000\n",
       "75%      16293.000000\n",
       "max      65968.000000\n",
       "Name: cityCenters_nearest, dtype: float64"
      ]
     },
     "execution_count": 62,
     "metadata": {},
     "output_type": "execute_result"
    }
   ],
   "source": [
    "data['cityCenters_nearest'].describe()"
   ]
  },
  {
   "cell_type": "code",
   "execution_count": 63,
   "metadata": {},
   "outputs": [
    {
     "data": {
      "text/plain": [
       "<AxesSubplot:>"
      ]
     },
     "execution_count": 63,
     "metadata": {},
     "output_type": "execute_result"
    },
    {
     "data": {
      "image/png": "[encoded data removed]",
      "text/plain": [
       "<Figure size 432x288 with 1 Axes>"
      ]
     },
     "metadata": {
      "needs_background": "light"
     },
     "output_type": "display_data"
    }
   ],
   "source": [
    "data['cityCenters_nearest'].hist(bins=100, grid=True)"
   ]
  },
  {
   "cell_type": "markdown",
   "metadata": {},
   "source": [
    "Не самые плохие условия, от 10 до 17 км до центра большая часть предложений. Также есть 600 предложений в 5км от центра. Есть из чего выбрать!"
   ]
  },
  {
   "cell_type": "markdown",
   "metadata": {},
   "source": [
    "**расстояние до ближайшего аэропорта**"
   ]
  },
  {
   "cell_type": "code",
   "execution_count": 64,
   "metadata": {},
   "outputs": [
    {
     "data": {
      "text/plain": [
       "count    18157.000000\n",
       "mean     28793.672193\n",
       "std      12630.880622\n",
       "min          0.000000\n",
       "25%      18585.000000\n",
       "50%      26726.000000\n",
       "75%      37273.000000\n",
       "max      84869.000000\n",
       "Name: airports_nearest, dtype: float64"
      ]
     },
     "execution_count": 64,
     "metadata": {},
     "output_type": "execute_result"
    }
   ],
   "source": [
    "data['airports_nearest'].describe()"
   ]
  },
  {
   "cell_type": "code",
   "execution_count": 65,
   "metadata": {},
   "outputs": [
    {
     "data": {
      "text/plain": [
       "<AxesSubplot:>"
      ]
     },
     "execution_count": 65,
     "metadata": {},
     "output_type": "execute_result"
    },
    {
     "data": {
      "image/png": "[encoded data removed]",
      "text/plain": [
       "<Figure size 432x288 with 1 Axes>"
      ]
     },
     "metadata": {
      "needs_background": "light"
     },
     "output_type": "display_data"
    }
   ],
   "source": [
    "data['airports_nearest'].hist(bins=100, grid=True)"
   ]
  },
  {
   "cell_type": "markdown",
   "metadata": {},
   "source": [
    "Кто то продает недвижимость в аэропорту! Или данные были плохо обработанны)\n",
    "Не смотря на это, можно сделать вывод, что в непосредственной близасти с аэропортом почти никто не живет. Пики на графике - это скорее всего густонаселенные районы Санкт-Петербурга, а снижение обусловленно тем, что плотность начеления уменьшается, отдаляюсь от центра."
   ]
  },
  {
   "cell_type": "markdown",
   "metadata": {},
   "source": [
    "**расстояние до ближайшего парка**"
   ]
  },
  {
   "cell_type": "code",
   "execution_count": 66,
   "metadata": {},
   "outputs": [
    {
     "data": {
      "text/plain": [
       "count    8079.000000\n",
       "mean      490.804555\n",
       "std       342.317995\n",
       "min         1.000000\n",
       "25%       288.000000\n",
       "50%       455.000000\n",
       "75%       612.000000\n",
       "max      3190.000000\n",
       "Name: parks_nearest, dtype: float64"
      ]
     },
     "execution_count": 66,
     "metadata": {},
     "output_type": "execute_result"
    }
   ],
   "source": [
    "data['parks_nearest'].describe()"
   ]
  },
  {
   "cell_type": "code",
   "execution_count": 67,
   "metadata": {},
   "outputs": [
    {
     "data": {
      "text/plain": [
       "<AxesSubplot:>"
      ]
     },
     "execution_count": 67,
     "metadata": {},
     "output_type": "execute_result"
    },
    {
     "data": {
      "image/png": "[encoded data removed]",
      "text/plain": [
       "<Figure size 432x288 with 1 Axes>"
      ]
     },
     "metadata": {
      "needs_background": "light"
     },
     "output_type": "display_data"
    }
   ],
   "source": [
    "data['parks_nearest'].hist(bins=100, grid=True)"
   ]
  },
  {
   "cell_type": "markdown",
   "metadata": {},
   "source": [
    "Вывод: очень много парков!"
   ]
  },
  {
   "cell_type": "markdown",
   "metadata": {},
   "source": [
    "**день и месяц публикации объявления**"
   ]
  },
  {
   "cell_type": "code",
   "execution_count": 68,
   "metadata": {},
   "outputs": [
    {
     "data": {
      "text/plain": [
       "<AxesSubplot:>"
      ]
     },
     "execution_count": 68,
     "metadata": {},
     "output_type": "execute_result"
    },
    {
     "data": {
      "image/png": "[encoded data removed]",
      "text/plain": [
       "<Figure size 432x288 with 1 Axes>"
      ]
     },
     "metadata": {
      "needs_background": "light"
     },
     "output_type": "display_data"
    }
   ],
   "source": [
    "data['week_day_exposition'].hist(bins=100, grid=True) \n",
    "\n"
   ]
  },
  {
   "cell_type": "code",
   "execution_count": 69,
   "metadata": {},
   "outputs": [
    {
     "data": {
      "text/plain": [
       "<AxesSubplot:>"
      ]
     },
     "execution_count": 69,
     "metadata": {},
     "output_type": "execute_result"
    },
    {
     "data": {
      "image/png": "[encoded data removed]",
      "text/plain": [
       "<Figure size 432x288 with 1 Axes>"
      ]
     },
     "metadata": {
      "needs_background": "light"
     },
     "output_type": "display_data"
    }
   ],
   "source": [
    "data['month_exposition'].hist(bins=100, grid=True)"
   ]
  },
  {
   "cell_type": "markdown",
   "metadata": {},
   "source": [
    "Летом, в Мае, Декабре и Январе, в выходные дни объявлений выставлялось на порядок меньше чем в остольное время. Логика в этом есть! Кто будет продавать недвижимость в праздники или в отпуске? Такие люди тоже есть - это хорошо )\n"
   ]
  },
  {
   "cell_type": "markdown",
   "metadata": {},
   "source": [
    "**Как быстро продавались квартиры**"
   ]
  },
  {
   "cell_type": "code",
   "execution_count": 70,
   "metadata": {},
   "outputs": [
    {
     "data": {
      "text/plain": [
       "<AxesSubplot:>"
      ]
     },
     "execution_count": 70,
     "metadata": {},
     "output_type": "execute_result"
    },
    {
     "data": {
      "image/png": "[encoded data removed]",
      "text/plain": [
       "<Figure size 2880x1080 with 1 Axes>"
      ]
     },
     "metadata": {
      "needs_background": "light"
     },
     "output_type": "display_data"
    }
   ],
   "source": [
    "data['days_exposition'].hist(bins=300, figsize=(40, 15))"
   ]
  },
  {
   "cell_type": "markdown",
   "metadata": {},
   "source": [
    "<div class=\"alert alert-block alert-info\">\n",
    "    \n",
    "Меняю масштаб гистограммы для выявления выбрасов:\n",
    "    \n",
    "</div>"
   ]
  },
  {
   "cell_type": "code",
   "execution_count": 71,
   "metadata": {},
   "outputs": [
    {
     "data": {
      "text/plain": [
       "<AxesSubplot:>"
      ]
     },
     "execution_count": 71,
     "metadata": {},
     "output_type": "execute_result"
    },
    {
     "data": {
      "image/png": "[encoded data removed]",
      "text/plain": [
       "<Figure size 1440x1080 with 1 Axes>"
      ]
     },
     "metadata": {
      "needs_background": "light"
     },
     "output_type": "display_data"
    }
   ],
   "source": [
    "data['days_exposition'].hist(bins=300, figsize=(20, 15), range=(40, 100))"
   ]
  },
  {
   "cell_type": "markdown",
   "metadata": {},
   "source": [
    "<div class=\"alert alert-block alert-info\">\n",
    "    \n",
    "Из графика видны выбросы : 45, 60, 90 \n",
    "Они обусловленны срокамии публикации:\n",
    "Квартира\tдо 4,5 млн — 45 дней\n",
    "            от 4,5 до 10 млн — 60 дней\n",
    "            от 10 млн — 90 дней\n",
    "    \n",
    "</div> "
   ]
  },
  {
   "cell_type": "markdown",
   "metadata": {},
   "source": [
    "<div class=\"alert alert-block alert-info\">\n",
    "Удаляю данные выбросы \n",
    "</div>"
   ]
  },
  {
   "cell_type": "code",
   "execution_count": 72,
   "metadata": {},
   "outputs": [],
   "source": [
    "data = data.loc[(data['days_exposition'] != 45) &\\\n",
    "                (data['days_exposition'] != 60) &\\\n",
    "                (data['days_exposition'] != 90)] \n"
   ]
  },
  {
   "cell_type": "code",
   "execution_count": 73,
   "metadata": {},
   "outputs": [
    {
     "data": {
      "text/plain": [
       "<AxesSubplot:>"
      ]
     },
     "execution_count": 73,
     "metadata": {},
     "output_type": "execute_result"
    },
    {
     "data": {
      "image/png": "[encoded data removed]",
      "text/plain": [
       "<Figure size 1440x1080 with 1 Axes>"
      ]
     },
     "metadata": {
      "needs_background": "light"
     },
     "output_type": "display_data"
    }
   ],
   "source": [
    "data['days_exposition'].hist(bins=300, figsize=(20, 15), range=(40, 100))"
   ]
  },
  {
   "cell_type": "code",
   "execution_count": 100,
   "metadata": {},
   "outputs": [
    {
     "data": {
      "text/html": [
       "<div>\n",
       "<style scoped>\n",
       "    .dataframe tbody tr th:only-of-type {\n",
       "        vertical-align: middle;\n",
       "    }\n",
       "\n",
       "    .dataframe tbody tr th {\n",
       "        vertical-align: top;\n",
       "    }\n",
       "\n",
       "    .dataframe thead th {\n",
       "        text-align: right;\n",
       "    }\n",
       "</style>\n",
       "<table border=\"1\" class=\"dataframe\">\n",
       "  <thead>\n",
       "    <tr style=\"text-align: right;\">\n",
       "      <th></th>\n",
       "      <th>total_images</th>\n",
       "      <th>last_price</th>\n",
       "      <th>total_area</th>\n",
       "      <th>first_day_exposition</th>\n",
       "      <th>rooms</th>\n",
       "      <th>ceiling_height</th>\n",
       "      <th>floors_total</th>\n",
       "      <th>living_area</th>\n",
       "      <th>floor</th>\n",
       "      <th>is_apartment</th>\n",
       "      <th>...</th>\n",
       "      <th>parks_nearest</th>\n",
       "      <th>ponds_around3000</th>\n",
       "      <th>ponds_nearest</th>\n",
       "      <th>days_exposition</th>\n",
       "      <th>price_square</th>\n",
       "      <th>week_day_exposition</th>\n",
       "      <th>month_exposition</th>\n",
       "      <th>year_exposition</th>\n",
       "      <th>type_floor</th>\n",
       "      <th>cityCenters_nearest_km</th>\n",
       "    </tr>\n",
       "  </thead>\n",
       "  <tbody>\n",
       "  </tbody>\n",
       "</table>\n",
       "<p>0 rows × 28 columns</p>\n",
       "</div>"
      ],
      "text/plain": [
       "Empty DataFrame\n",
       "Columns: [total_images, last_price, total_area, first_day_exposition, rooms, ceiling_height, floors_total, living_area, floor, is_apartment, studio, open_plan, kitchen_area, balcony, locality_name, airports_nearest, cityCenters_nearest, parks_around3000, parks_nearest, ponds_around3000, ponds_nearest, days_exposition, price_square, week_day_exposition, month_exposition, year_exposition, type_floor, cityCenters_nearest_km]\n",
       "Index: []\n",
       "\n",
       "[0 rows x 28 columns]"
      ]
     },
     "execution_count": 100,
     "metadata": {},
     "output_type": "execute_result"
    }
   ],
   "source": [
    "data.query('days_exposition == 45')"
   ]
  },
  {
   "cell_type": "code",
   "execution_count": 75,
   "metadata": {},
   "outputs": [
    {
     "data": {
      "text/plain": [
       "184.1437937937938"
      ]
     },
     "execution_count": 75,
     "metadata": {},
     "output_type": "execute_result"
    }
   ],
   "source": [
    "data['days_exposition'].mean()"
   ]
  },
  {
   "cell_type": "code",
   "execution_count": 76,
   "metadata": {
    "scrolled": true
   },
   "outputs": [
    {
     "data": {
      "text/plain": [
       "100.0"
      ]
     },
     "execution_count": 76,
     "metadata": {},
     "output_type": "execute_result"
    }
   ],
   "source": [
    "data['days_exposition'].median()"
   ]
  },
  {
   "cell_type": "code",
   "execution_count": 77,
   "metadata": {},
   "outputs": [
    {
     "data": {
      "text/plain": [
       "count    19980.000000\n",
       "mean       184.143794\n",
       "std        221.757454\n",
       "min          1.000000\n",
       "25%         44.000000\n",
       "50%        100.000000\n",
       "75%        238.000000\n",
       "max       1580.000000\n",
       "Name: days_exposition, dtype: float64"
      ]
     },
     "execution_count": 77,
     "metadata": {},
     "output_type": "execute_result"
    }
   ],
   "source": [
    "data['days_exposition'].describe()"
   ]
  },
  {
   "cell_type": "markdown",
   "metadata": {},
   "source": [
    "В среднем квартиры продаются за полгода.\n",
    " Предлагаю считать все продажи после 232 дней долгими, а до 45 дней - быстрыми, согласно показателям до первого и после третьего квартилей."
   ]
  },
  {
   "attachments": {
    "%D0%A1%D0%BD%D0%B8%D0%BC%D0%BE%D0%BA%20%D1%8D%D0%BA%D1%80%D0%B0%D0%BD%D0%B0%202022-12-17%20%D0%B2%2022.43.49.png": {
     "image/png": "[encoded data removed]"
    }
   },
   "cell_type": "markdown",
   "metadata": {},
   "source": [
    "![%D0%A1%D0%BD%D0%B8%D0%BC%D0%BE%D0%BA%20%D1%8D%D0%BA%D1%80%D0%B0%D0%BD%D0%B0%202022-12-17%20%D0%B2%2022.43.49.png](attachment:%D0%A1%D0%BD%D0%B8%D0%BC%D0%BE%D0%BA%20%D1%8D%D0%BA%D1%80%D0%B0%D0%BD%D0%B0%202022-12-17%20%D0%B2%2022.43.49.png)"
   ]
  },
  {
   "cell_type": "markdown",
   "metadata": {},
   "source": [
    "**Какие факторы больше всего влияют на общую стоимость объекта?**"
   ]
  },
  {
   "cell_type": "markdown",
   "metadata": {},
   "source": [
    "Формируем сводную таблицу:"
   ]
  },
  {
   "cell_type": "code",
   "execution_count": 78,
   "metadata": {},
   "outputs": [
    {
     "data": {
      "text/html": [
       "<div>\n",
       "<style scoped>\n",
       "    .dataframe tbody tr th:only-of-type {\n",
       "        vertical-align: middle;\n",
       "    }\n",
       "\n",
       "    .dataframe tbody tr th {\n",
       "        vertical-align: top;\n",
       "    }\n",
       "\n",
       "    .dataframe thead th {\n",
       "        text-align: right;\n",
       "    }\n",
       "</style>\n",
       "<table border=\"1\" class=\"dataframe\">\n",
       "  <thead>\n",
       "    <tr style=\"text-align: right;\">\n",
       "      <th></th>\n",
       "      <th>kitchen_area</th>\n",
       "      <th>living_area</th>\n",
       "      <th>rooms</th>\n",
       "      <th>total_area</th>\n",
       "    </tr>\n",
       "    <tr>\n",
       "      <th>last_price</th>\n",
       "      <th></th>\n",
       "      <th></th>\n",
       "      <th></th>\n",
       "      <th></th>\n",
       "    </tr>\n",
       "  </thead>\n",
       "  <tbody>\n",
       "    <tr>\n",
       "      <th>12190.0</th>\n",
       "      <td>32.000000</td>\n",
       "      <td>32.000000</td>\n",
       "      <td>2.000000</td>\n",
       "      <td>109.000000</td>\n",
       "    </tr>\n",
       "    <tr>\n",
       "      <th>430000.0</th>\n",
       "      <td>23.576923</td>\n",
       "      <td>23.576923</td>\n",
       "      <td>1.500000</td>\n",
       "      <td>42.200000</td>\n",
       "    </tr>\n",
       "    <tr>\n",
       "      <th>440000.0</th>\n",
       "      <td>23.076923</td>\n",
       "      <td>23.076923</td>\n",
       "      <td>1.000000</td>\n",
       "      <td>40.000000</td>\n",
       "    </tr>\n",
       "    <tr>\n",
       "      <th>450000.0</th>\n",
       "      <td>23.202885</td>\n",
       "      <td>23.202885</td>\n",
       "      <td>1.750000</td>\n",
       "      <td>40.100000</td>\n",
       "    </tr>\n",
       "    <tr>\n",
       "      <th>470000.0</th>\n",
       "      <td>27.115385</td>\n",
       "      <td>27.115385</td>\n",
       "      <td>1.333333</td>\n",
       "      <td>40.833333</td>\n",
       "    </tr>\n",
       "    <tr>\n",
       "      <th>...</th>\n",
       "      <td>...</td>\n",
       "      <td>...</td>\n",
       "      <td>...</td>\n",
       "      <td>...</td>\n",
       "    </tr>\n",
       "    <tr>\n",
       "      <th>159000000.0</th>\n",
       "      <td>180.000000</td>\n",
       "      <td>180.000000</td>\n",
       "      <td>4.000000</td>\n",
       "      <td>260.000000</td>\n",
       "    </tr>\n",
       "    <tr>\n",
       "      <th>159984000.0</th>\n",
       "      <td>131.000000</td>\n",
       "      <td>131.000000</td>\n",
       "      <td>4.000000</td>\n",
       "      <td>242.400000</td>\n",
       "    </tr>\n",
       "    <tr>\n",
       "      <th>160000000.0</th>\n",
       "      <td>145.000000</td>\n",
       "      <td>145.000000</td>\n",
       "      <td>5.000000</td>\n",
       "      <td>243.000000</td>\n",
       "    </tr>\n",
       "    <tr>\n",
       "      <th>180000000.0</th>\n",
       "      <td>260.000000</td>\n",
       "      <td>260.000000</td>\n",
       "      <td>8.000000</td>\n",
       "      <td>347.000000</td>\n",
       "    </tr>\n",
       "    <tr>\n",
       "      <th>190870000.0</th>\n",
       "      <td>132.000000</td>\n",
       "      <td>132.000000</td>\n",
       "      <td>3.000000</td>\n",
       "      <td>268.000000</td>\n",
       "    </tr>\n",
       "  </tbody>\n",
       "</table>\n",
       "<p>2922 rows × 4 columns</p>\n",
       "</div>"
      ],
      "text/plain": [
       "             kitchen_area  living_area     rooms  total_area\n",
       "last_price                                                  \n",
       "12190.0         32.000000    32.000000  2.000000  109.000000\n",
       "430000.0        23.576923    23.576923  1.500000   42.200000\n",
       "440000.0        23.076923    23.076923  1.000000   40.000000\n",
       "450000.0        23.202885    23.202885  1.750000   40.100000\n",
       "470000.0        27.115385    27.115385  1.333333   40.833333\n",
       "...                   ...          ...       ...         ...\n",
       "159000000.0    180.000000   180.000000  4.000000  260.000000\n",
       "159984000.0    131.000000   131.000000  4.000000  242.400000\n",
       "160000000.0    145.000000   145.000000  5.000000  243.000000\n",
       "180000000.0    260.000000   260.000000  8.000000  347.000000\n",
       "190870000.0    132.000000   132.000000  3.000000  268.000000\n",
       "\n",
       "[2922 rows x 4 columns]"
      ]
     },
     "execution_count": 78,
     "metadata": {},
     "output_type": "execute_result"
    }
   ],
   "source": [
    "data_price_pivot = data.pivot_table(\n",
    "    index='last_price',\n",
    "    values=['total_area', 'living_area', 'kitchen_area', 'rooms', 'type_floor', 'first_day_exposition']\n",
    ")\n",
    "\n",
    "data_price_pivot"
   ]
  },
  {
   "cell_type": "markdown",
   "metadata": {},
   "source": [
    "***Общая площадь***"
   ]
  },
  {
   "cell_type": "code",
   "execution_count": 79,
   "metadata": {},
   "outputs": [
    {
     "data": {
      "text/plain": [
       "<AxesSubplot:xlabel='total_area', ylabel='last_price'>"
      ]
     },
     "execution_count": 79,
     "metadata": {},
     "output_type": "execute_result"
    },
    {
     "data": {
      "image/png": "[encoded data removed]",
      "text/plain": [
       "<Figure size 432x288 with 1 Axes>"
      ]
     },
     "metadata": {
      "needs_background": "light"
     },
     "output_type": "display_data"
    }
   ],
   "source": [
    "data.plot(\n",
    "    x='total_area',\n",
    "    y='last_price',\n",
    "    kind='scatter',\n",
    "    grid=True, \n",
    "    alpha=0.13\n",
    ") "
   ]
  },
  {
   "cell_type": "markdown",
   "metadata": {},
   "source": [
    "Прямая зависимость просматривается сразу. Чем больше площадь тем дороже квартира. Это доказывает коэффициент корреляции! "
   ]
  },
  {
   "cell_type": "code",
   "execution_count": 80,
   "metadata": {},
   "outputs": [
    {
     "data": {
      "text/plain": [
       "0.7408037594975213"
      ]
     },
     "execution_count": 80,
     "metadata": {},
     "output_type": "execute_result"
    }
   ],
   "source": [
    "data['total_area'].corr(data['last_price'])"
   ]
  },
  {
   "cell_type": "markdown",
   "metadata": {},
   "source": [
    "***Жилая площадь***"
   ]
  },
  {
   "cell_type": "code",
   "execution_count": 81,
   "metadata": {},
   "outputs": [
    {
     "data": {
      "text/plain": [
       "<AxesSubplot:xlabel='living_area', ylabel='last_price'>"
      ]
     },
     "execution_count": 81,
     "metadata": {},
     "output_type": "execute_result"
    },
    {
     "data": {
      "image/png": "[encoded data removed]",
      "text/plain": [
       "<Figure size 432x288 with 1 Axes>"
      ]
     },
     "metadata": {
      "needs_background": "light"
     },
     "output_type": "display_data"
    }
   ],
   "source": [
    "data.plot(\n",
    "    x='living_area',\n",
    "    y='last_price',\n",
    "    kind='scatter',\n",
    "    grid=True, \n",
    "    alpha=0.03\n",
    ") "
   ]
  },
  {
   "cell_type": "markdown",
   "metadata": {},
   "source": [
    "Прямая зависимость тоже просматривается. С увиличением жилой площади возрастает цена. Но уже более плавный график, коэффицент корреляции должен быть ниже."
   ]
  },
  {
   "cell_type": "code",
   "execution_count": 82,
   "metadata": {
    "scrolled": true
   },
   "outputs": [
    {
     "data": {
      "text/plain": [
       "0.6739052380730526"
      ]
     },
     "execution_count": 82,
     "metadata": {},
     "output_type": "execute_result"
    }
   ],
   "source": [
    "data['living_area'].corr(data['last_price'])"
   ]
  },
  {
   "cell_type": "markdown",
   "metadata": {},
   "source": [
    "***Площадь кухни***"
   ]
  },
  {
   "cell_type": "code",
   "execution_count": 83,
   "metadata": {},
   "outputs": [
    {
     "data": {
      "text/plain": [
       "<AxesSubplot:xlabel='kitchen_area', ylabel='last_price'>"
      ]
     },
     "execution_count": 83,
     "metadata": {},
     "output_type": "execute_result"
    },
    {
     "data": {
      "image/png": "[encoded data removed]",
      "text/plain": [
       "<Figure size 432x288 with 1 Axes>"
      ]
     },
     "metadata": {
      "needs_background": "light"
     },
     "output_type": "display_data"
    }
   ],
   "source": [
    "data.plot(\n",
    "    x='kitchen_area',\n",
    "    y='last_price',\n",
    "    kind='scatter',\n",
    "    grid=True, \n",
    "    alpha=0.03\n",
    ") "
   ]
  },
  {
   "cell_type": "markdown",
   "metadata": {},
   "source": [
    "Площадь кухни меньше влияет на цену, чем жилая площадь."
   ]
  },
  {
   "cell_type": "code",
   "execution_count": 84,
   "metadata": {},
   "outputs": [
    {
     "data": {
      "text/plain": [
       "0.6739052380730526"
      ]
     },
     "execution_count": 84,
     "metadata": {},
     "output_type": "execute_result"
    }
   ],
   "source": [
    "data['kitchen_area'].corr(data['last_price'])"
   ]
  },
  {
   "cell_type": "markdown",
   "metadata": {},
   "source": [
    "***Кол-во комнат:***"
   ]
  },
  {
   "cell_type": "code",
   "execution_count": 85,
   "metadata": {
    "scrolled": true
   },
   "outputs": [
    {
     "data": {
      "text/plain": [
       "<AxesSubplot:xlabel='rooms', ylabel='last_price'>"
      ]
     },
     "execution_count": 85,
     "metadata": {},
     "output_type": "execute_result"
    },
    {
     "data": {
      "image/png": "[encoded data removed]",
      "text/plain": [
       "<Figure size 432x288 with 1 Axes>"
      ]
     },
     "metadata": {
      "needs_background": "light"
     },
     "output_type": "display_data"
    }
   ],
   "source": [
    "data.plot(\n",
    "    x='rooms',\n",
    "    y='last_price',\n",
    "    kind='scatter',\n",
    "    grid=True, \n",
    "    alpha=0.3\n",
    ") "
   ]
  },
  {
   "cell_type": "markdown",
   "metadata": {},
   "source": [
    "Чем больше комнат, тем дороже. Однако не все так просто, видимо другие факторы вносят свои коррективы, кол-во комнат влияет на стоимость, но менее предыдущих факторов."
   ]
  },
  {
   "cell_type": "markdown",
   "metadata": {},
   "source": [
    "***Месяц размещения***"
   ]
  },
  {
   "cell_type": "code",
   "execution_count": 86,
   "metadata": {},
   "outputs": [
    {
     "data": {
      "text/plain": [
       "<AxesSubplot:xlabel='month_exposition', ylabel='last_price'>"
      ]
     },
     "execution_count": 86,
     "metadata": {},
     "output_type": "execute_result"
    },
    {
     "data": {
      "image/png": "[encoded data removed]",
      "text/plain": [
       "<Figure size 432x288 with 1 Axes>"
      ]
     },
     "metadata": {
      "needs_background": "light"
     },
     "output_type": "display_data"
    }
   ],
   "source": [
    "data.plot(y='last_price',\n",
    "          x='month_exposition',\n",
    "          kind='scatter',\n",
    "          grid=True,\n",
    "          alpha=0.13\n",
    "         ) "
   ]
  },
  {
   "cell_type": "markdown",
   "metadata": {},
   "source": [
    "Линейная зависимость практически отсутствует - можно выкладывать объявление в любом месяце."
   ]
  },
  {
   "cell_type": "markdown",
   "metadata": {},
   "source": [
    "***День недели размещения***"
   ]
  },
  {
   "cell_type": "code",
   "execution_count": 87,
   "metadata": {},
   "outputs": [
    {
     "data": {
      "text/plain": [
       "<AxesSubplot:xlabel='week_day_exposition', ylabel='last_price'>"
      ]
     },
     "execution_count": 87,
     "metadata": {},
     "output_type": "execute_result"
    },
    {
     "data": {
      "image/png": "[encoded data removed]",
      "text/plain": [
       "<Figure size 432x288 with 1 Axes>"
      ]
     },
     "metadata": {
      "needs_background": "light"
     },
     "output_type": "display_data"
    }
   ],
   "source": [
    " data.plot(\n",
    "     y='last_price',\n",
    "     x='week_day_exposition',\n",
    "     kind='scatter',\n",
    "     grid=True,\n",
    "     alpha=0.13\n",
    " ) "
   ]
  },
  {
   "cell_type": "markdown",
   "metadata": {},
   "source": [
    "Цена на недвижимость не зависит от дня недели первого показа объявления. "
   ]
  },
  {
   "cell_type": "markdown",
   "metadata": {},
   "source": [
    "***Типы этажей***"
   ]
  },
  {
   "cell_type": "code",
   "execution_count": 88,
   "metadata": {},
   "outputs": [
    {
     "data": {
      "text/plain": [
       "<AxesSubplot:xlabel='type_floor', ylabel='last_price'>"
      ]
     },
     "execution_count": 88,
     "metadata": {},
     "output_type": "execute_result"
    },
    {
     "data": {
      "image/png": "[encoded data removed]",
      "text/plain": [
       "<Figure size 432x288 with 1 Axes>"
      ]
     },
     "metadata": {
      "needs_background": "light"
     },
     "output_type": "display_data"
    }
   ],
   "source": [
    "data.plot(\n",
    "    y='last_price', \n",
    "    x='type_floor', \n",
    "    kind='scatter', \n",
    "    grid=True, \n",
    "    alpha=0.13\n",
    ") "
   ]
  },
  {
   "cell_type": "markdown",
   "metadata": {},
   "source": [
    "Глядя на график, мы видим, что тип этажа влияет на цену. Чаще более дорогие объекты находятся не на первом и не на последнем этаже. Объекты на первых этажах самые дешевые. "
   ]
  },
  {
   "cell_type": "markdown",
   "metadata": {},
   "source": [
    "***Вывод:*** из проанализированных факторов больше всего влияет на стоимость жилья общая площадь и жилая площадь. Менее, но все же влияет на стоимость объекта: площадь кухни, кол-во комнат, этаж."
   ]
  },
  {
   "cell_type": "markdown",
   "metadata": {},
   "source": [
    " --**Цена одного квадратного метра в 10 населённых пунктах с наибольшим числом объявлений.**"
   ]
  },
  {
   "cell_type": "code",
   "execution_count": 89,
   "metadata": {},
   "outputs": [
    {
     "data": {
      "text/html": [
       "<div>\n",
       "<style scoped>\n",
       "    .dataframe tbody tr th:only-of-type {\n",
       "        vertical-align: middle;\n",
       "    }\n",
       "\n",
       "    .dataframe tbody tr th {\n",
       "        vertical-align: top;\n",
       "    }\n",
       "\n",
       "    .dataframe thead tr th {\n",
       "        text-align: left;\n",
       "    }\n",
       "\n",
       "    .dataframe thead tr:last-of-type th {\n",
       "        text-align: right;\n",
       "    }\n",
       "</style>\n",
       "<table border=\"1\" class=\"dataframe\">\n",
       "  <thead>\n",
       "    <tr>\n",
       "      <th></th>\n",
       "      <th>count</th>\n",
       "      <th>mean</th>\n",
       "    </tr>\n",
       "    <tr>\n",
       "      <th></th>\n",
       "      <th>price_square</th>\n",
       "      <th>price_square</th>\n",
       "    </tr>\n",
       "    <tr>\n",
       "      <th>locality_name</th>\n",
       "      <th></th>\n",
       "      <th></th>\n",
       "    </tr>\n",
       "  </thead>\n",
       "  <tbody>\n",
       "    <tr>\n",
       "      <th>Санкт-Петербург</th>\n",
       "      <td>15304</td>\n",
       "      <td>114502.157557</td>\n",
       "    </tr>\n",
       "    <tr>\n",
       "      <th>Мурино</th>\n",
       "      <td>580</td>\n",
       "      <td>86008.619196</td>\n",
       "    </tr>\n",
       "    <tr>\n",
       "      <th>Кудрово</th>\n",
       "      <td>452</td>\n",
       "      <td>95278.060504</td>\n",
       "    </tr>\n",
       "    <tr>\n",
       "      <th>посёлок Шушары</th>\n",
       "      <td>429</td>\n",
       "      <td>78605.427885</td>\n",
       "    </tr>\n",
       "    <tr>\n",
       "      <th>Всеволожск</th>\n",
       "      <td>391</td>\n",
       "      <td>68449.657026</td>\n",
       "    </tr>\n",
       "    <tr>\n",
       "      <th>Пушкин</th>\n",
       "      <td>362</td>\n",
       "      <td>103230.394424</td>\n",
       "    </tr>\n",
       "    <tr>\n",
       "      <th>Колпино</th>\n",
       "      <td>331</td>\n",
       "      <td>75489.623370</td>\n",
       "    </tr>\n",
       "    <tr>\n",
       "      <th>посёлок Парголово</th>\n",
       "      <td>315</td>\n",
       "      <td>90224.983046</td>\n",
       "    </tr>\n",
       "    <tr>\n",
       "      <th>Гатчина</th>\n",
       "      <td>300</td>\n",
       "      <td>68651.290157</td>\n",
       "    </tr>\n",
       "    <tr>\n",
       "      <th>Выборг</th>\n",
       "      <td>234</td>\n",
       "      <td>57911.678166</td>\n",
       "    </tr>\n",
       "  </tbody>\n",
       "</table>\n",
       "</div>"
      ],
      "text/plain": [
       "                         count           mean\n",
       "                  price_square   price_square\n",
       "locality_name                                \n",
       "Санкт-Петербург          15304  114502.157557\n",
       "Мурино                     580   86008.619196\n",
       "Кудрово                    452   95278.060504\n",
       "посёлок Шушары             429   78605.427885\n",
       "Всеволожск                 391   68449.657026\n",
       "Пушкин                     362  103230.394424\n",
       "Колпино                    331   75489.623370\n",
       "посёлок Парголово          315   90224.983046\n",
       "Гатчина                    300   68651.290157\n",
       "Выборг                     234   57911.678166"
      ]
     },
     "execution_count": 89,
     "metadata": {},
     "output_type": "execute_result"
    }
   ],
   "source": [
    "price_locality  = data.pivot_table(index='locality_name', values='price_square', aggfunc=['count','mean'])\n",
    "price_locality = price_locality.reindex(price_locality['count'].sort_values(by='price_square', ascending=False).index)\n",
    "price_locality_top = price_locality.iloc[:10]\n",
    "price_locality_top\n",
    "\n"
   ]
  },
  {
   "cell_type": "code",
   "execution_count": 90,
   "metadata": {},
   "outputs": [
    {
     "data": {
      "text/plain": [
       "(                price_square\n",
       " locality_name               \n",
       " Зеленогорск    115122.799198,\n",
       "                     price_square\n",
       " locality_name                   \n",
       " деревня Старополье  11206.221198)"
      ]
     },
     "execution_count": 90,
     "metadata": {},
     "output_type": "execute_result"
    }
   ],
   "source": [
    "price_locality_min_max = data.pivot_table(index='locality_name', values='price_square', aggfunc='mean')\n",
    "price_locality_min_max = price_locality_min_max.sort_values(by='price_square', ascending=False)\n",
    "price_locality_min_max.iloc[:1] , price_locality_min_max.iloc[-1:]\n"
   ]
  },
  {
   "cell_type": "markdown",
   "metadata": {},
   "source": [
    "Поселок Лисий Нос - Дорого! Старополье - Дешево!"
   ]
  },
  {
   "cell_type": "markdown",
   "metadata": {},
   "source": [
    "**Вычислите среднюю цену каждого километра**"
   ]
  },
  {
   "cell_type": "code",
   "execution_count": 91,
   "metadata": {
    "scrolled": true
   },
   "outputs": [
    {
     "data": {
      "text/html": [
       "<div>\n",
       "<style scoped>\n",
       "    .dataframe tbody tr th:only-of-type {\n",
       "        vertical-align: middle;\n",
       "    }\n",
       "\n",
       "    .dataframe tbody tr th {\n",
       "        vertical-align: top;\n",
       "    }\n",
       "\n",
       "    .dataframe thead th {\n",
       "        text-align: right;\n",
       "    }\n",
       "</style>\n",
       "<table border=\"1\" class=\"dataframe\">\n",
       "  <thead>\n",
       "    <tr style=\"text-align: right;\">\n",
       "      <th></th>\n",
       "      <th>price_square</th>\n",
       "    </tr>\n",
       "    <tr>\n",
       "      <th>cityCenters_nearest_km</th>\n",
       "      <th></th>\n",
       "    </tr>\n",
       "  </thead>\n",
       "  <tbody>\n",
       "    <tr>\n",
       "      <th>0.0</th>\n",
       "      <td>252385.908450</td>\n",
       "    </tr>\n",
       "    <tr>\n",
       "      <th>1.0</th>\n",
       "      <td>162576.707177</td>\n",
       "    </tr>\n",
       "    <tr>\n",
       "      <th>2.0</th>\n",
       "      <td>155333.864076</td>\n",
       "    </tr>\n",
       "    <tr>\n",
       "      <th>3.0</th>\n",
       "      <td>121887.840306</td>\n",
       "    </tr>\n",
       "    <tr>\n",
       "      <th>4.0</th>\n",
       "      <td>130791.920559</td>\n",
       "    </tr>\n",
       "    <tr>\n",
       "      <th>5.0</th>\n",
       "      <td>140084.629465</td>\n",
       "    </tr>\n",
       "    <tr>\n",
       "      <th>6.0</th>\n",
       "      <td>150928.705133</td>\n",
       "    </tr>\n",
       "    <tr>\n",
       "      <th>7.0</th>\n",
       "      <td>156870.081497</td>\n",
       "    </tr>\n",
       "    <tr>\n",
       "      <th>8.0</th>\n",
       "      <td>125379.932022</td>\n",
       "    </tr>\n",
       "    <tr>\n",
       "      <th>9.0</th>\n",
       "      <td>113169.046989</td>\n",
       "    </tr>\n",
       "    <tr>\n",
       "      <th>10.0</th>\n",
       "      <td>112953.941832</td>\n",
       "    </tr>\n",
       "    <tr>\n",
       "      <th>11.0</th>\n",
       "      <td>108708.699394</td>\n",
       "    </tr>\n",
       "    <tr>\n",
       "      <th>12.0</th>\n",
       "      <td>107424.438552</td>\n",
       "    </tr>\n",
       "    <tr>\n",
       "      <th>13.0</th>\n",
       "      <td>108076.794050</td>\n",
       "    </tr>\n",
       "    <tr>\n",
       "      <th>14.0</th>\n",
       "      <td>104159.258119</td>\n",
       "    </tr>\n",
       "    <tr>\n",
       "      <th>15.0</th>\n",
       "      <td>104288.172834</td>\n",
       "    </tr>\n",
       "    <tr>\n",
       "      <th>16.0</th>\n",
       "      <td>100617.400143</td>\n",
       "    </tr>\n",
       "    <tr>\n",
       "      <th>17.0</th>\n",
       "      <td>96615.530760</td>\n",
       "    </tr>\n",
       "    <tr>\n",
       "      <th>18.0</th>\n",
       "      <td>96595.806131</td>\n",
       "    </tr>\n",
       "    <tr>\n",
       "      <th>19.0</th>\n",
       "      <td>97915.622572</td>\n",
       "    </tr>\n",
       "    <tr>\n",
       "      <th>20.0</th>\n",
       "      <td>103045.181922</td>\n",
       "    </tr>\n",
       "    <tr>\n",
       "      <th>21.0</th>\n",
       "      <td>94179.543272</td>\n",
       "    </tr>\n",
       "    <tr>\n",
       "      <th>22.0</th>\n",
       "      <td>90808.820388</td>\n",
       "    </tr>\n",
       "    <tr>\n",
       "      <th>23.0</th>\n",
       "      <td>90759.547343</td>\n",
       "    </tr>\n",
       "    <tr>\n",
       "      <th>24.0</th>\n",
       "      <td>86360.527120</td>\n",
       "    </tr>\n",
       "    <tr>\n",
       "      <th>25.0</th>\n",
       "      <td>90512.740860</td>\n",
       "    </tr>\n",
       "    <tr>\n",
       "      <th>26.0</th>\n",
       "      <td>89285.876593</td>\n",
       "    </tr>\n",
       "    <tr>\n",
       "      <th>27.0</th>\n",
       "      <td>132115.709459</td>\n",
       "    </tr>\n",
       "    <tr>\n",
       "      <th>28.0</th>\n",
       "      <td>81161.915320</td>\n",
       "    </tr>\n",
       "    <tr>\n",
       "      <th>29.0</th>\n",
       "      <td>72953.365445</td>\n",
       "    </tr>\n",
       "  </tbody>\n",
       "</table>\n",
       "</div>"
      ],
      "text/plain": [
       "                         price_square\n",
       "cityCenters_nearest_km               \n",
       "0.0                     252385.908450\n",
       "1.0                     162576.707177\n",
       "2.0                     155333.864076\n",
       "3.0                     121887.840306\n",
       "4.0                     130791.920559\n",
       "5.0                     140084.629465\n",
       "6.0                     150928.705133\n",
       "7.0                     156870.081497\n",
       "8.0                     125379.932022\n",
       "9.0                     113169.046989\n",
       "10.0                    112953.941832\n",
       "11.0                    108708.699394\n",
       "12.0                    107424.438552\n",
       "13.0                    108076.794050\n",
       "14.0                    104159.258119\n",
       "15.0                    104288.172834\n",
       "16.0                    100617.400143\n",
       "17.0                     96615.530760\n",
       "18.0                     96595.806131\n",
       "19.0                     97915.622572\n",
       "20.0                    103045.181922\n",
       "21.0                     94179.543272\n",
       "22.0                     90808.820388\n",
       "23.0                     90759.547343\n",
       "24.0                     86360.527120\n",
       "25.0                     90512.740860\n",
       "26.0                     89285.876593\n",
       "27.0                    132115.709459\n",
       "28.0                     81161.915320\n",
       "29.0                     72953.365445"
      ]
     },
     "execution_count": 91,
     "metadata": {},
     "output_type": "execute_result"
    }
   ],
   "source": [
    "spb_data = data.query('locality_name == \"Санкт-Петербург\"')\n",
    "price_km = spb_data.pivot_table(index='cityCenters_nearest_km', values='price_square',aggfunc='mean')\n",
    "price_km"
   ]
  },
  {
   "cell_type": "code",
   "execution_count": 92,
   "metadata": {},
   "outputs": [
    {
     "data": {
      "text/plain": [
       "<AxesSubplot:xlabel='cityCenters_nearest_km'>"
      ]
     },
     "execution_count": 92,
     "metadata": {},
     "output_type": "execute_result"
    },
    {
     "data": {
      "image/png": "[encoded data removed]",
      "text/plain": [
       "<Figure size 432x288 with 1 Axes>"
      ]
     },
     "metadata": {
      "needs_background": "light"
     },
     "output_type": "display_data"
    }
   ],
   "source": [
    "price_km.plot(style='-o')"
   ]
  },
  {
   "cell_type": "markdown",
   "metadata": {},
   "source": [
    "Чем дальше от центра тем дешевле, однако есть и дорогие объекты вне центра. Проверим их!"
   ]
  },
  {
   "cell_type": "code",
   "execution_count": 93,
   "metadata": {},
   "outputs": [
    {
     "data": {
      "text/plain": [
       "841379.3103448276"
      ]
     },
     "execution_count": 93,
     "metadata": {},
     "output_type": "execute_result"
    }
   ],
   "source": [
    "spb_data.query('cityCenters_nearest_km == 7')['price_square'].max()"
   ]
  },
  {
   "cell_type": "code",
   "execution_count": 94,
   "metadata": {
    "scrolled": true
   },
   "outputs": [
    {
     "data": {
      "text/html": [
       "<div>\n",
       "<style scoped>\n",
       "    .dataframe tbody tr th:only-of-type {\n",
       "        vertical-align: middle;\n",
       "    }\n",
       "\n",
       "    .dataframe tbody tr th {\n",
       "        vertical-align: top;\n",
       "    }\n",
       "\n",
       "    .dataframe thead th {\n",
       "        text-align: right;\n",
       "    }\n",
       "</style>\n",
       "<table border=\"1\" class=\"dataframe\">\n",
       "  <thead>\n",
       "    <tr style=\"text-align: right;\">\n",
       "      <th></th>\n",
       "      <th>total_images</th>\n",
       "      <th>last_price</th>\n",
       "      <th>total_area</th>\n",
       "      <th>first_day_exposition</th>\n",
       "      <th>rooms</th>\n",
       "      <th>ceiling_height</th>\n",
       "      <th>floors_total</th>\n",
       "      <th>living_area</th>\n",
       "      <th>floor</th>\n",
       "      <th>is_apartment</th>\n",
       "      <th>...</th>\n",
       "      <th>parks_nearest</th>\n",
       "      <th>ponds_around3000</th>\n",
       "      <th>ponds_nearest</th>\n",
       "      <th>days_exposition</th>\n",
       "      <th>price_square</th>\n",
       "      <th>week_day_exposition</th>\n",
       "      <th>month_exposition</th>\n",
       "      <th>year_exposition</th>\n",
       "      <th>type_floor</th>\n",
       "      <th>cityCenters_nearest_km</th>\n",
       "    </tr>\n",
       "  </thead>\n",
       "  <tbody>\n",
       "    <tr>\n",
       "      <th>16647</th>\n",
       "      <td>15</td>\n",
       "      <td>122000000.0</td>\n",
       "      <td>145.0</td>\n",
       "      <td>2017-04-25</td>\n",
       "      <td>3.0</td>\n",
       "      <td>3.3</td>\n",
       "      <td>6.0</td>\n",
       "      <td>36.0</td>\n",
       "      <td>2</td>\n",
       "      <td>False</td>\n",
       "      <td>...</td>\n",
       "      <td>478.0</td>\n",
       "      <td>3.0</td>\n",
       "      <td>250.0</td>\n",
       "      <td>335.0</td>\n",
       "      <td>841379.310345</td>\n",
       "      <td>вторник</td>\n",
       "      <td>4</td>\n",
       "      <td>2017</td>\n",
       "      <td>другой</td>\n",
       "      <td>7.0</td>\n",
       "    </tr>\n",
       "  </tbody>\n",
       "</table>\n",
       "<p>1 rows × 28 columns</p>\n",
       "</div>"
      ],
      "text/plain": [
       "       total_images   last_price  total_area first_day_exposition  rooms  \\\n",
       "16647            15  122000000.0       145.0           2017-04-25    3.0   \n",
       "\n",
       "       ceiling_height  floors_total  living_area  floor  is_apartment  ...  \\\n",
       "16647             3.3           6.0         36.0      2         False  ...   \n",
       "\n",
       "       parks_nearest  ponds_around3000  ponds_nearest  days_exposition  \\\n",
       "16647          478.0               3.0          250.0            335.0   \n",
       "\n",
       "        price_square  week_day_exposition  month_exposition  year_exposition  \\\n",
       "16647  841379.310345              вторник                 4             2017   \n",
       "\n",
       "       type_floor  cityCenters_nearest_km  \n",
       "16647      другой                     7.0  \n",
       "\n",
       "[1 rows x 28 columns]"
      ]
     },
     "execution_count": 94,
     "metadata": {},
     "output_type": "execute_result"
    }
   ],
   "source": [
    "spb_data.query('price_square == 841379.3103448276' )"
   ]
  },
  {
   "cell_type": "markdown",
   "metadata": {},
   "source": [
    "Трехкомнатная квартира в 7 км от центра Петербурга выбивается из графика своей ценой в 122 млн.\n",
    "Скорее всего в месте размещения данного объекта есть какая то \"изюминка\"(место притяжения), это доказывает восхождение точек на графике к этому пиковому значению."
   ]
  },
  {
   "cell_type": "code",
   "execution_count": 95,
   "metadata": {},
   "outputs": [
    {
     "data": {
      "text/plain": [
       "193918.9189189189"
      ]
     },
     "execution_count": 95,
     "metadata": {},
     "output_type": "execute_result"
    }
   ],
   "source": [
    "spb_data.query('cityCenters_nearest_km == 27')['price_square'].max()"
   ]
  },
  {
   "cell_type": "code",
   "execution_count": 96,
   "metadata": {},
   "outputs": [
    {
     "data": {
      "text/html": [
       "<div>\n",
       "<style scoped>\n",
       "    .dataframe tbody tr th:only-of-type {\n",
       "        vertical-align: middle;\n",
       "    }\n",
       "\n",
       "    .dataframe tbody tr th {\n",
       "        vertical-align: top;\n",
       "    }\n",
       "\n",
       "    .dataframe thead th {\n",
       "        text-align: right;\n",
       "    }\n",
       "</style>\n",
       "<table border=\"1\" class=\"dataframe\">\n",
       "  <thead>\n",
       "    <tr style=\"text-align: right;\">\n",
       "      <th></th>\n",
       "      <th>total_images</th>\n",
       "      <th>last_price</th>\n",
       "      <th>total_area</th>\n",
       "      <th>first_day_exposition</th>\n",
       "      <th>rooms</th>\n",
       "      <th>ceiling_height</th>\n",
       "      <th>floors_total</th>\n",
       "      <th>living_area</th>\n",
       "      <th>floor</th>\n",
       "      <th>is_apartment</th>\n",
       "      <th>...</th>\n",
       "      <th>parks_nearest</th>\n",
       "      <th>ponds_around3000</th>\n",
       "      <th>ponds_nearest</th>\n",
       "      <th>days_exposition</th>\n",
       "      <th>price_square</th>\n",
       "      <th>week_day_exposition</th>\n",
       "      <th>month_exposition</th>\n",
       "      <th>year_exposition</th>\n",
       "      <th>type_floor</th>\n",
       "      <th>cityCenters_nearest_km</th>\n",
       "    </tr>\n",
       "  </thead>\n",
       "  <tbody>\n",
       "    <tr>\n",
       "      <th>748</th>\n",
       "      <td>13</td>\n",
       "      <td>14350000.0</td>\n",
       "      <td>74.0</td>\n",
       "      <td>2017-11-28</td>\n",
       "      <td>2.0</td>\n",
       "      <td>3.13</td>\n",
       "      <td>5.0</td>\n",
       "      <td>30.0</td>\n",
       "      <td>3</td>\n",
       "      <td>False</td>\n",
       "      <td>...</td>\n",
       "      <td>1496.0</td>\n",
       "      <td>0.0</td>\n",
       "      <td>NaN</td>\n",
       "      <td>128.0</td>\n",
       "      <td>193918.918919</td>\n",
       "      <td>вторник</td>\n",
       "      <td>11</td>\n",
       "      <td>2017</td>\n",
       "      <td>другой</td>\n",
       "      <td>27.0</td>\n",
       "    </tr>\n",
       "  </tbody>\n",
       "</table>\n",
       "<p>1 rows × 28 columns</p>\n",
       "</div>"
      ],
      "text/plain": [
       "     total_images  last_price  total_area first_day_exposition  rooms  \\\n",
       "748            13  14350000.0        74.0           2017-11-28    2.0   \n",
       "\n",
       "     ceiling_height  floors_total  living_area  floor  is_apartment  ...  \\\n",
       "748            3.13           5.0         30.0      3         False  ...   \n",
       "\n",
       "     parks_nearest  ponds_around3000  ponds_nearest  days_exposition  \\\n",
       "748         1496.0               0.0            NaN            128.0   \n",
       "\n",
       "      price_square  week_day_exposition  month_exposition  year_exposition  \\\n",
       "748  193918.918919              вторник                11             2017   \n",
       "\n",
       "     type_floor  cityCenters_nearest_km  \n",
       "748      другой                    27.0  \n",
       "\n",
       "[1 rows x 28 columns]"
      ]
     },
     "execution_count": 96,
     "metadata": {},
     "output_type": "execute_result"
    }
   ],
   "source": [
    "spb_data.query('price_square == 193918.9189189189' )"
   ]
  },
  {
   "cell_type": "markdown",
   "metadata": {},
   "source": [
    "Дорогая двушка в 27 км от центра выглядит как аномалия. Интересно было бы посмотреть фото)) \n",
    "Скорее всего данный объект недвижимости относится к элитным"
   ]
  },
  {
   "cell_type": "markdown",
   "metadata": {},
   "source": [
    "### Общий вывод"
   ]
  },
  {
   "cell_type": "markdown",
   "metadata": {},
   "source": [
    "Проанализировав данные по недвижимости, можно смело сказать что на цену влияют много факторов, все в разной степени. Для наглядности предоставляю список факторов влияющих на цену недвижимости. Список факторов по нисходящей, то есть чем больше степень влияния на стоимость тем выше фактор в списке:\n",
    "* Удаленность от центра (чем ближе к центру, тем дороже)\n",
    "    \n",
    "* Общая площадь (Чем больше, тем дороже)\n",
    "* Жилая площадь (Чем больше, тем дороже)\n",
    "* Кол-во комнат (Чем больше, тем дороже)\n",
    "* Площадь кухни (Чем больше, тем дороже)\n",
    "* Этажность     (Дороже если это не последний и особенно не первый этаж)\n",
    "\n",
    "Такие факторы как кол-во этажей, высота потолка, площадь кухни говорят о том, что большая часть предложений - это типовая, скорее всего, советская застройка.\n",
    "Благодаря анализу выяснилось, что в среднем квартира продается в течении 6 месяцев. Если она продалась за полтора месяца, то это быстро!\n",
    "\n",
    "\n",
    "\n"
   ]
  },
  {
   "cell_type": "markdown",
   "metadata": {},
   "source": [
    "**Чек-лист готовности проекта**\n",
    "\n",
    "Поставьте 'x' в выполненных пунктах. Далее нажмите Shift+Enter."
   ]
  },
  {
   "cell_type": "markdown",
   "metadata": {},
   "source": [
    "- [x]  открыт файл\n",
    "- [x]  файлы изучены (выведены первые строки, метод `info()`, гистограммы и т.д.)\n",
    "- [x]  определены пропущенные значения\n",
    "- [x]  заполнены пропущенные значения там, где это возможно\n",
    "- [x]  есть пояснение, какие пропущенные значения обнаружены\n",
    "- [x]  изменены типы данных\n",
    "- [x]  есть пояснение, в каких столбцах изменены типы и почему\n",
    "- [x]  устранены неявные дубликаты в названиях населённых пунктов\n",
    "- [x]  устранены редкие и выбивающиеся значения (аномалии) во всех столбцах\n",
    "- [x]  посчитано и добавлено в таблицу: цена одного квадратного метра\n",
    "- [x]  посчитано и добавлено в таблицу: день публикации объявления (0 - понедельник, 1 - вторник и т.д.)\n",
    "- [x]  посчитано и добавлено в таблицу: месяц публикации объявления\n",
    "- [x]  посчитано и добавлено в таблицу: год публикации объявления\n",
    "- [x]  посчитано и добавлено в таблицу: тип этажа квартиры (значения — «первый», «последний», «другой»)\n",
    "- [x]  посчитано и добавлено в таблицу: расстояние в км до центра города\n",
    "- [x]  изучены и описаны следующие параметры:\n",
    "        - общая площадь;\n",
    "        - жилая площадь;\n",
    "        - площадь кухни;\n",
    "        - цена объекта;\n",
    "        - количество комнат;\n",
    "        - высота потолков;\n",
    "        - этаж квартиры;\n",
    "        - тип этажа квартиры («первый», «последний», «другой»);\n",
    "        - общее количество этажей в доме;\n",
    "        - расстояние до центра города в метрах;\n",
    "        - расстояние до ближайшего аэропорта;\n",
    "        - расстояние до ближайшего парка;\n",
    "        - день и месяц публикации объявления\n",
    "- [x]  построены гистограммы для каждого параметра\n",
    "- [x]  выполнено задание: \"Изучите, как быстро продавались квартиры (столбец days_exposition). Этот параметр показывает, сколько дней «висело» каждое объявление.\n",
    "    - Постройте гистограмму.\n",
    "    - Посчитайте среднее и медиану.\n",
    "    - В ячейке типа markdown опишите, сколько обычно занимает продажа. Какие продажи можно считать быстрыми, а какие — необычно долгими?\"\n",
    "- [x]  выполнено задание: \"Какие факторы больше всего влияют на общую (полную) стоимость объекта? Постройте графики, которые покажут зависимость цены от указанных ниже параметров. Для подготовки данных перед визуализацией вы можете использовать сводные таблицы.\"\n",
    "        - общей площади;\n",
    "        - жилой площади;\n",
    "        - площади кухни;\n",
    "        - количество комнат;\n",
    "        - типа этажа, на котором расположена квартира (первый, последний, другой);\n",
    "        - даты размещения (день недели, месяц, год);\n",
    "- [x]  выполнено задание: \"Посчитайте среднюю цену одного квадратного метра в 10 населённых пунктах с наибольшим числом объявлений. Выделите населённые пункты с самой высокой и низкой стоимостью квадратного метра. Эти данные можно найти по имени в столбце `locality_name`.\"\n",
    "- [x]  выполнено задание: \"Ранее вы посчитали расстояние до центра в километрах. Теперь выделите квартиры в Санкт-Петербурге с помощью столбца `locality_name` и вычислите среднюю цену каждого километра. Опишите, как стоимость объектов зависит от расстояния до центра города.\"\n",
    "- [x]  в каждом этапе есть промежуточные выводы\n",
    "- [x]  есть общий вывод"
   ]
  },
  {
   "cell_type": "code",
   "execution_count": null,
   "metadata": {},
   "outputs": [],
   "source": []
  }
 ],
 "metadata": {
  "ExecuteTimeLog": [
   {
    "duration": 102,
    "start_time": "2022-12-10T19:07:43.893Z"
   },
   {
    "duration": 48,
    "start_time": "2022-12-10T19:07:50.285Z"
   },
   {
    "duration": 1655,
    "start_time": "2022-12-10T19:08:03.134Z"
   },
   {
    "duration": 209,
    "start_time": "2022-12-10T19:08:04.792Z"
   },
   {
    "duration": 80,
    "start_time": "2022-12-10T19:55:21.686Z"
   },
   {
    "duration": 95,
    "start_time": "2022-12-10T19:55:30.887Z"
   },
   {
    "duration": 99,
    "start_time": "2022-12-10T19:55:33.568Z"
   },
   {
    "duration": 32,
    "start_time": "2022-12-10T19:57:04.664Z"
   },
   {
    "duration": 104,
    "start_time": "2022-12-10T19:57:17.534Z"
   },
   {
    "duration": 19,
    "start_time": "2022-12-10T19:58:07.919Z"
   },
   {
    "duration": 102,
    "start_time": "2022-12-10T20:02:43.674Z"
   },
   {
    "duration": 105,
    "start_time": "2022-12-10T20:03:03.291Z"
   },
   {
    "duration": 114,
    "start_time": "2022-12-10T20:04:49.597Z"
   },
   {
    "duration": 12,
    "start_time": "2022-12-10T20:04:52.083Z"
   },
   {
    "duration": 454,
    "start_time": "2022-12-10T20:05:01.669Z"
   },
   {
    "duration": 160,
    "start_time": "2022-12-10T20:05:15.630Z"
   },
   {
    "duration": 13,
    "start_time": "2022-12-10T20:05:23.568Z"
   },
   {
    "duration": 139,
    "start_time": "2022-12-10T20:07:23.769Z"
   },
   {
    "duration": 20,
    "start_time": "2022-12-10T20:08:04.928Z"
   },
   {
    "duration": 1467,
    "start_time": "2022-12-10T20:08:14.940Z"
   },
   {
    "duration": 228,
    "start_time": "2022-12-10T20:08:16.411Z"
   },
   {
    "duration": 131,
    "start_time": "2022-12-10T20:08:16.642Z"
   },
   {
    "duration": 0,
    "start_time": "2022-12-10T20:08:16.775Z"
   },
   {
    "duration": 132,
    "start_time": "2022-12-10T20:08:38.128Z"
   },
   {
    "duration": 33,
    "start_time": "2022-12-10T20:08:41.135Z"
   },
   {
    "duration": 2297,
    "start_time": "2022-12-10T20:08:52.039Z"
   },
   {
    "duration": 27,
    "start_time": "2022-12-10T21:23:30.602Z"
   },
   {
    "duration": 40,
    "start_time": "2022-12-10T21:23:38.978Z"
   },
   {
    "duration": 13,
    "start_time": "2022-12-10T21:59:07.794Z"
   },
   {
    "duration": 30,
    "start_time": "2022-12-10T21:59:41.442Z"
   },
   {
    "duration": 12,
    "start_time": "2022-12-10T21:59:56.274Z"
   },
   {
    "duration": 30,
    "start_time": "2022-12-10T22:00:06.705Z"
   },
   {
    "duration": 73,
    "start_time": "2022-12-11T10:18:59.555Z"
   },
   {
    "duration": 39,
    "start_time": "2022-12-11T10:19:12.640Z"
   },
   {
    "duration": 1246,
    "start_time": "2022-12-11T10:19:31.926Z"
   },
   {
    "duration": 147,
    "start_time": "2022-12-11T10:19:33.174Z"
   },
   {
    "duration": 15,
    "start_time": "2022-12-11T10:19:33.323Z"
   },
   {
    "duration": 1757,
    "start_time": "2022-12-11T10:19:33.340Z"
   },
   {
    "duration": 12,
    "start_time": "2022-12-11T10:19:35.099Z"
   },
   {
    "duration": 28,
    "start_time": "2022-12-11T10:20:39.235Z"
   },
   {
    "duration": 6,
    "start_time": "2022-12-11T11:06:10.385Z"
   },
   {
    "duration": 185,
    "start_time": "2022-12-11T11:07:13.483Z"
   },
   {
    "duration": 8,
    "start_time": "2022-12-11T11:07:22.497Z"
   },
   {
    "duration": 5,
    "start_time": "2022-12-11T11:07:41.437Z"
   },
   {
    "duration": 1149,
    "start_time": "2022-12-11T11:21:49.644Z"
   },
   {
    "duration": 85,
    "start_time": "2022-12-11T11:21:50.795Z"
   },
   {
    "duration": 31,
    "start_time": "2022-12-11T11:21:50.882Z"
   },
   {
    "duration": 19,
    "start_time": "2022-12-11T11:21:50.915Z"
   },
   {
    "duration": 1812,
    "start_time": "2022-12-11T11:21:50.937Z"
   },
   {
    "duration": 11,
    "start_time": "2022-12-11T11:21:52.751Z"
   },
   {
    "duration": 31,
    "start_time": "2022-12-11T11:21:52.764Z"
   },
   {
    "duration": 42,
    "start_time": "2022-12-11T11:21:52.798Z"
   },
   {
    "duration": 94,
    "start_time": "2022-12-11T11:24:12.994Z"
   },
   {
    "duration": 5,
    "start_time": "2022-12-11T11:24:26.265Z"
   },
   {
    "duration": 9,
    "start_time": "2022-12-11T11:24:42.808Z"
   },
   {
    "duration": 6,
    "start_time": "2022-12-11T11:24:48.658Z"
   },
   {
    "duration": 4,
    "start_time": "2022-12-11T11:25:22.895Z"
   },
   {
    "duration": 4,
    "start_time": "2022-12-11T11:26:57.636Z"
   },
   {
    "duration": 5,
    "start_time": "2022-12-11T11:27:05.170Z"
   },
   {
    "duration": 5,
    "start_time": "2022-12-11T11:27:16.010Z"
   },
   {
    "duration": 10,
    "start_time": "2022-12-11T11:27:35.858Z"
   },
   {
    "duration": 4,
    "start_time": "2022-12-11T11:27:44.323Z"
   },
   {
    "duration": 4,
    "start_time": "2022-12-11T11:27:47.170Z"
   },
   {
    "duration": 5,
    "start_time": "2022-12-11T11:27:53.601Z"
   },
   {
    "duration": 4,
    "start_time": "2022-12-11T11:27:54.442Z"
   },
   {
    "duration": 7,
    "start_time": "2022-12-11T11:28:09.899Z"
   },
   {
    "duration": 8,
    "start_time": "2022-12-11T11:28:25.547Z"
   },
   {
    "duration": 5,
    "start_time": "2022-12-11T11:28:41.411Z"
   },
   {
    "duration": 7,
    "start_time": "2022-12-11T11:32:54.325Z"
   },
   {
    "duration": 6,
    "start_time": "2022-12-11T11:33:09.198Z"
   },
   {
    "duration": 5,
    "start_time": "2022-12-11T11:33:42.432Z"
   },
   {
    "duration": 12,
    "start_time": "2022-12-11T11:33:50.815Z"
   },
   {
    "duration": 1098,
    "start_time": "2022-12-11T11:34:17.425Z"
   },
   {
    "duration": 83,
    "start_time": "2022-12-11T11:34:18.525Z"
   },
   {
    "duration": 30,
    "start_time": "2022-12-11T11:34:18.610Z"
   },
   {
    "duration": 13,
    "start_time": "2022-12-11T11:34:18.642Z"
   },
   {
    "duration": 1808,
    "start_time": "2022-12-11T11:34:18.657Z"
   },
   {
    "duration": 9,
    "start_time": "2022-12-11T11:34:20.466Z"
   },
   {
    "duration": 5,
    "start_time": "2022-12-11T11:34:20.476Z"
   },
   {
    "duration": 13,
    "start_time": "2022-12-11T11:34:20.482Z"
   },
   {
    "duration": 3,
    "start_time": "2022-12-11T11:34:26.455Z"
   },
   {
    "duration": 4,
    "start_time": "2022-12-11T11:34:29.175Z"
   },
   {
    "duration": 3,
    "start_time": "2022-12-11T12:12:51.134Z"
   },
   {
    "duration": 10,
    "start_time": "2022-12-11T12:19:45.430Z"
   },
   {
    "duration": 12,
    "start_time": "2022-12-11T13:01:44.418Z"
   },
   {
    "duration": 6,
    "start_time": "2022-12-11T13:02:09.849Z"
   },
   {
    "duration": 7,
    "start_time": "2022-12-11T13:02:21.444Z"
   },
   {
    "duration": 6,
    "start_time": "2022-12-11T13:02:22.770Z"
   },
   {
    "duration": 7,
    "start_time": "2022-12-11T13:02:37.857Z"
   },
   {
    "duration": 8,
    "start_time": "2022-12-11T13:02:38.649Z"
   },
   {
    "duration": 7,
    "start_time": "2022-12-11T13:02:48.122Z"
   },
   {
    "duration": 6,
    "start_time": "2022-12-11T13:02:48.754Z"
   },
   {
    "duration": 1092,
    "start_time": "2022-12-11T13:03:03.064Z"
   },
   {
    "duration": 82,
    "start_time": "2022-12-11T13:03:04.158Z"
   },
   {
    "duration": 32,
    "start_time": "2022-12-11T13:03:04.242Z"
   },
   {
    "duration": 15,
    "start_time": "2022-12-11T13:03:04.276Z"
   },
   {
    "duration": 1912,
    "start_time": "2022-12-11T13:03:04.293Z"
   },
   {
    "duration": 9,
    "start_time": "2022-12-11T13:03:06.207Z"
   },
   {
    "duration": 6,
    "start_time": "2022-12-11T13:03:06.217Z"
   },
   {
    "duration": 9,
    "start_time": "2022-12-11T13:03:06.225Z"
   },
   {
    "duration": 9,
    "start_time": "2022-12-11T13:03:06.235Z"
   },
   {
    "duration": 13,
    "start_time": "2022-12-11T13:03:06.246Z"
   },
   {
    "duration": 4,
    "start_time": "2022-12-11T13:03:17.890Z"
   },
   {
    "duration": 6,
    "start_time": "2022-12-11T13:03:18.929Z"
   },
   {
    "duration": 1065,
    "start_time": "2022-12-11T13:03:28.571Z"
   },
   {
    "duration": 86,
    "start_time": "2022-12-11T13:03:29.638Z"
   },
   {
    "duration": 33,
    "start_time": "2022-12-11T13:03:29.726Z"
   },
   {
    "duration": 14,
    "start_time": "2022-12-11T13:03:29.761Z"
   },
   {
    "duration": 1932,
    "start_time": "2022-12-11T13:03:29.777Z"
   },
   {
    "duration": 10,
    "start_time": "2022-12-11T13:03:31.711Z"
   },
   {
    "duration": 15,
    "start_time": "2022-12-11T13:03:31.722Z"
   },
   {
    "duration": 27,
    "start_time": "2022-12-11T13:03:31.738Z"
   },
   {
    "duration": 6,
    "start_time": "2022-12-11T13:03:31.767Z"
   },
   {
    "duration": 8,
    "start_time": "2022-12-11T13:03:31.774Z"
   },
   {
    "duration": 5,
    "start_time": "2022-12-11T13:03:47.138Z"
   },
   {
    "duration": 5,
    "start_time": "2022-12-11T13:04:00.137Z"
   },
   {
    "duration": 4,
    "start_time": "2022-12-11T13:04:09.146Z"
   },
   {
    "duration": 6,
    "start_time": "2022-12-11T13:04:09.794Z"
   },
   {
    "duration": 1189,
    "start_time": "2022-12-11T13:04:24.622Z"
   },
   {
    "duration": 130,
    "start_time": "2022-12-11T13:04:25.814Z"
   },
   {
    "duration": 58,
    "start_time": "2022-12-11T13:04:25.946Z"
   },
   {
    "duration": 35,
    "start_time": "2022-12-11T13:04:26.007Z"
   },
   {
    "duration": 2085,
    "start_time": "2022-12-11T13:04:26.044Z"
   },
   {
    "duration": 11,
    "start_time": "2022-12-11T13:04:28.131Z"
   },
   {
    "duration": 9,
    "start_time": "2022-12-11T13:04:28.144Z"
   },
   {
    "duration": 8,
    "start_time": "2022-12-11T13:04:28.155Z"
   },
   {
    "duration": 13,
    "start_time": "2022-12-11T13:04:28.165Z"
   },
   {
    "duration": 8,
    "start_time": "2022-12-11T13:04:28.181Z"
   },
   {
    "duration": 6,
    "start_time": "2022-12-11T13:04:32.666Z"
   },
   {
    "duration": 4,
    "start_time": "2022-12-11T13:04:36.570Z"
   },
   {
    "duration": 5,
    "start_time": "2022-12-11T13:04:37.738Z"
   },
   {
    "duration": 6,
    "start_time": "2022-12-11T13:04:48.941Z"
   },
   {
    "duration": 4,
    "start_time": "2022-12-11T13:22:00.119Z"
   },
   {
    "duration": 5,
    "start_time": "2022-12-11T13:31:22.049Z"
   },
   {
    "duration": 5,
    "start_time": "2022-12-11T13:31:33.516Z"
   },
   {
    "duration": 5,
    "start_time": "2022-12-11T13:31:48.441Z"
   },
   {
    "duration": 4,
    "start_time": "2022-12-11T13:32:12.065Z"
   },
   {
    "duration": 14,
    "start_time": "2022-12-11T19:05:46.554Z"
   },
   {
    "duration": 97,
    "start_time": "2022-12-11T19:29:39.429Z"
   },
   {
    "duration": 6,
    "start_time": "2022-12-11T19:29:46.227Z"
   },
   {
    "duration": 9,
    "start_time": "2022-12-11T19:31:29.077Z"
   },
   {
    "duration": 9,
    "start_time": "2022-12-11T19:31:39.975Z"
   },
   {
    "duration": 13,
    "start_time": "2022-12-11T19:34:36.009Z"
   },
   {
    "duration": 26,
    "start_time": "2022-12-11T19:34:59.044Z"
   },
   {
    "duration": 16,
    "start_time": "2022-12-11T19:35:17.520Z"
   },
   {
    "duration": 6,
    "start_time": "2022-12-11T19:35:23.949Z"
   },
   {
    "duration": 11,
    "start_time": "2022-12-11T19:42:06.078Z"
   },
   {
    "duration": 6,
    "start_time": "2022-12-11T19:51:23.303Z"
   },
   {
    "duration": 10,
    "start_time": "2022-12-11T19:52:25.329Z"
   },
   {
    "duration": 7,
    "start_time": "2022-12-11T19:52:52.912Z"
   },
   {
    "duration": 5,
    "start_time": "2022-12-11T20:10:09.361Z"
   },
   {
    "duration": 6,
    "start_time": "2022-12-11T20:10:13.968Z"
   },
   {
    "duration": 73,
    "start_time": "2022-12-11T20:10:47.691Z"
   },
   {
    "duration": 6,
    "start_time": "2022-12-11T20:11:05.065Z"
   },
   {
    "duration": 166,
    "start_time": "2022-12-11T20:16:36.373Z"
   },
   {
    "duration": 73,
    "start_time": "2022-12-11T20:17:10.728Z"
   },
   {
    "duration": 75,
    "start_time": "2022-12-11T20:17:15.669Z"
   },
   {
    "duration": 126,
    "start_time": "2022-12-11T20:17:31.807Z"
   },
   {
    "duration": 6,
    "start_time": "2022-12-11T20:17:45.260Z"
   },
   {
    "duration": 1116,
    "start_time": "2022-12-11T20:18:10.660Z"
   },
   {
    "duration": 93,
    "start_time": "2022-12-11T20:18:11.778Z"
   },
   {
    "duration": 33,
    "start_time": "2022-12-11T20:18:11.873Z"
   },
   {
    "duration": 29,
    "start_time": "2022-12-11T20:18:11.908Z"
   },
   {
    "duration": 1822,
    "start_time": "2022-12-11T20:18:11.939Z"
   },
   {
    "duration": 8,
    "start_time": "2022-12-11T20:18:13.763Z"
   },
   {
    "duration": 5,
    "start_time": "2022-12-11T20:18:13.773Z"
   },
   {
    "duration": 9,
    "start_time": "2022-12-11T20:18:13.779Z"
   },
   {
    "duration": 5,
    "start_time": "2022-12-11T20:18:13.790Z"
   },
   {
    "duration": 8,
    "start_time": "2022-12-11T20:18:13.797Z"
   },
   {
    "duration": 15,
    "start_time": "2022-12-11T20:18:13.807Z"
   },
   {
    "duration": 15,
    "start_time": "2022-12-11T20:18:13.824Z"
   },
   {
    "duration": 202,
    "start_time": "2022-12-11T20:18:13.841Z"
   },
   {
    "duration": 5,
    "start_time": "2022-12-11T20:18:14.044Z"
   },
   {
    "duration": 5,
    "start_time": "2022-12-11T20:18:33.718Z"
   },
   {
    "duration": 90,
    "start_time": "2022-12-11T20:18:43.660Z"
   },
   {
    "duration": 10,
    "start_time": "2022-12-11T20:18:56.422Z"
   },
   {
    "duration": 10,
    "start_time": "2022-12-11T20:20:48.140Z"
   },
   {
    "duration": 10,
    "start_time": "2022-12-11T20:21:09.863Z"
   },
   {
    "duration": 115,
    "start_time": "2022-12-11T20:21:15.410Z"
   },
   {
    "duration": 8,
    "start_time": "2022-12-11T20:21:17.806Z"
   },
   {
    "duration": 140,
    "start_time": "2022-12-11T20:22:15.815Z"
   },
   {
    "duration": 7,
    "start_time": "2022-12-11T20:22:17.046Z"
   },
   {
    "duration": 14,
    "start_time": "2022-12-11T20:22:43.859Z"
   },
   {
    "duration": 14,
    "start_time": "2022-12-11T20:22:45.698Z"
   },
   {
    "duration": 14,
    "start_time": "2022-12-11T20:22:46.624Z"
   },
   {
    "duration": 1156,
    "start_time": "2022-12-11T20:24:42.901Z"
   },
   {
    "duration": 91,
    "start_time": "2022-12-11T20:24:44.059Z"
   },
   {
    "duration": 32,
    "start_time": "2022-12-11T20:24:44.152Z"
   },
   {
    "duration": 15,
    "start_time": "2022-12-11T20:24:44.186Z"
   },
   {
    "duration": 1937,
    "start_time": "2022-12-11T20:24:44.204Z"
   },
   {
    "duration": 10,
    "start_time": "2022-12-11T20:24:46.143Z"
   },
   {
    "duration": 7,
    "start_time": "2022-12-11T20:24:46.155Z"
   },
   {
    "duration": 8,
    "start_time": "2022-12-11T20:24:46.164Z"
   },
   {
    "duration": 7,
    "start_time": "2022-12-11T20:24:46.173Z"
   },
   {
    "duration": 18,
    "start_time": "2022-12-11T20:24:46.182Z"
   },
   {
    "duration": 21,
    "start_time": "2022-12-11T20:24:46.201Z"
   },
   {
    "duration": 6,
    "start_time": "2022-12-11T20:24:46.224Z"
   },
   {
    "duration": 106,
    "start_time": "2022-12-11T20:24:46.232Z"
   },
   {
    "duration": 6,
    "start_time": "2022-12-11T20:24:46.340Z"
   },
   {
    "duration": 15,
    "start_time": "2022-12-11T20:29:52.644Z"
   },
   {
    "duration": 7,
    "start_time": "2022-12-11T20:29:55.780Z"
   },
   {
    "duration": 5,
    "start_time": "2022-12-11T20:30:20.456Z"
   },
   {
    "duration": 5,
    "start_time": "2022-12-11T20:30:40.197Z"
   },
   {
    "duration": 7,
    "start_time": "2022-12-11T20:30:45.007Z"
   },
   {
    "duration": 7,
    "start_time": "2022-12-11T20:30:46.261Z"
   },
   {
    "duration": 8,
    "start_time": "2022-12-11T20:30:49.718Z"
   },
   {
    "duration": 7,
    "start_time": "2022-12-11T20:30:51.997Z"
   },
   {
    "duration": 1082,
    "start_time": "2022-12-11T20:30:57.948Z"
   },
   {
    "duration": 88,
    "start_time": "2022-12-11T20:30:59.032Z"
   },
   {
    "duration": 30,
    "start_time": "2022-12-11T20:30:59.122Z"
   },
   {
    "duration": 14,
    "start_time": "2022-12-11T20:30:59.153Z"
   },
   {
    "duration": 1860,
    "start_time": "2022-12-11T20:30:59.169Z"
   },
   {
    "duration": 9,
    "start_time": "2022-12-11T20:31:01.032Z"
   },
   {
    "duration": 59,
    "start_time": "2022-12-11T20:31:01.043Z"
   },
   {
    "duration": 21,
    "start_time": "2022-12-11T20:31:01.104Z"
   },
   {
    "duration": 16,
    "start_time": "2022-12-11T20:31:01.127Z"
   },
   {
    "duration": 29,
    "start_time": "2022-12-11T20:31:01.145Z"
   },
   {
    "duration": 31,
    "start_time": "2022-12-11T20:31:01.176Z"
   },
   {
    "duration": 11,
    "start_time": "2022-12-11T20:31:01.208Z"
   },
   {
    "duration": 28,
    "start_time": "2022-12-11T20:31:01.220Z"
   },
   {
    "duration": 100,
    "start_time": "2022-12-11T20:31:01.250Z"
   },
   {
    "duration": 5,
    "start_time": "2022-12-11T20:31:01.352Z"
   },
   {
    "duration": 5,
    "start_time": "2022-12-11T20:32:54.470Z"
   },
   {
    "duration": 49,
    "start_time": "2022-12-12T16:18:07.166Z"
   },
   {
    "duration": 1344,
    "start_time": "2022-12-12T16:18:14.621Z"
   },
   {
    "duration": 339,
    "start_time": "2022-12-12T16:18:15.969Z"
   },
   {
    "duration": 38,
    "start_time": "2022-12-12T16:18:16.310Z"
   },
   {
    "duration": 17,
    "start_time": "2022-12-12T16:18:16.349Z"
   },
   {
    "duration": 2188,
    "start_time": "2022-12-12T16:18:16.368Z"
   },
   {
    "duration": 9,
    "start_time": "2022-12-12T16:18:18.558Z"
   },
   {
    "duration": 6,
    "start_time": "2022-12-12T16:18:18.569Z"
   },
   {
    "duration": 6,
    "start_time": "2022-12-12T16:18:18.577Z"
   },
   {
    "duration": 5,
    "start_time": "2022-12-12T16:18:18.586Z"
   },
   {
    "duration": 10,
    "start_time": "2022-12-12T16:18:18.593Z"
   },
   {
    "duration": 19,
    "start_time": "2022-12-12T16:18:18.605Z"
   },
   {
    "duration": 7,
    "start_time": "2022-12-12T16:18:18.626Z"
   },
   {
    "duration": 11,
    "start_time": "2022-12-12T16:18:18.635Z"
   },
   {
    "duration": 119,
    "start_time": "2022-12-12T16:18:18.649Z"
   },
   {
    "duration": 6,
    "start_time": "2022-12-12T16:18:18.769Z"
   },
   {
    "duration": 8,
    "start_time": "2022-12-12T16:18:18.777Z"
   },
   {
    "duration": 6,
    "start_time": "2022-12-12T16:18:19.410Z"
   },
   {
    "duration": 7,
    "start_time": "2022-12-12T16:18:29.017Z"
   },
   {
    "duration": 36,
    "start_time": "2022-12-12T16:23:13.261Z"
   },
   {
    "duration": 9,
    "start_time": "2022-12-12T16:23:25.750Z"
   },
   {
    "duration": 103,
    "start_time": "2022-12-12T16:23:55.582Z"
   },
   {
    "duration": 3,
    "start_time": "2022-12-12T16:24:10.422Z"
   },
   {
    "duration": 12,
    "start_time": "2022-12-12T16:24:14.636Z"
   },
   {
    "duration": 7,
    "start_time": "2022-12-12T16:24:22.286Z"
   },
   {
    "duration": 9,
    "start_time": "2022-12-12T16:24:37.672Z"
   },
   {
    "duration": 7,
    "start_time": "2022-12-12T16:25:16.175Z"
   },
   {
    "duration": 7,
    "start_time": "2022-12-12T16:25:58.913Z"
   },
   {
    "duration": 6,
    "start_time": "2022-12-12T16:26:14.711Z"
   },
   {
    "duration": 0,
    "start_time": "2022-12-12T16:34:59.116Z"
   },
   {
    "duration": 1203,
    "start_time": "2022-12-12T16:34:59.204Z"
   },
   {
    "duration": 99,
    "start_time": "2022-12-12T16:35:00.409Z"
   },
   {
    "duration": 41,
    "start_time": "2022-12-12T16:35:00.510Z"
   },
   {
    "duration": 18,
    "start_time": "2022-12-12T16:35:00.554Z"
   },
   {
    "duration": 2170,
    "start_time": "2022-12-12T16:35:00.574Z"
   },
   {
    "duration": 11,
    "start_time": "2022-12-12T16:35:02.746Z"
   },
   {
    "duration": 11,
    "start_time": "2022-12-12T16:35:02.759Z"
   },
   {
    "duration": 8,
    "start_time": "2022-12-12T16:35:02.772Z"
   },
   {
    "duration": 14,
    "start_time": "2022-12-12T16:35:02.782Z"
   },
   {
    "duration": 13,
    "start_time": "2022-12-12T16:35:02.798Z"
   },
   {
    "duration": 23,
    "start_time": "2022-12-12T16:35:02.813Z"
   },
   {
    "duration": 7,
    "start_time": "2022-12-12T16:35:02.838Z"
   },
   {
    "duration": 17,
    "start_time": "2022-12-12T16:35:02.847Z"
   },
   {
    "duration": 111,
    "start_time": "2022-12-12T16:35:02.865Z"
   },
   {
    "duration": 8,
    "start_time": "2022-12-12T16:35:02.978Z"
   },
   {
    "duration": 8,
    "start_time": "2022-12-12T16:35:02.988Z"
   },
   {
    "duration": 8,
    "start_time": "2022-12-12T16:35:03.013Z"
   },
   {
    "duration": 71,
    "start_time": "2022-12-12T16:37:18.909Z"
   },
   {
    "duration": 6,
    "start_time": "2022-12-12T16:37:25.133Z"
   },
   {
    "duration": 49,
    "start_time": "2022-12-12T16:37:39.325Z"
   },
   {
    "duration": 4,
    "start_time": "2022-12-12T16:39:12.935Z"
   },
   {
    "duration": 4,
    "start_time": "2022-12-12T16:39:19.183Z"
   },
   {
    "duration": 3,
    "start_time": "2022-12-12T16:39:52.599Z"
   },
   {
    "duration": 796,
    "start_time": "2022-12-12T16:40:09.360Z"
   },
   {
    "duration": 4,
    "start_time": "2022-12-12T16:40:36.879Z"
   },
   {
    "duration": 830,
    "start_time": "2022-12-12T16:40:39.135Z"
   },
   {
    "duration": 58,
    "start_time": "2022-12-12T16:46:12.093Z"
   },
   {
    "duration": 6,
    "start_time": "2022-12-12T16:46:17.747Z"
   },
   {
    "duration": 6,
    "start_time": "2022-12-12T16:46:24.060Z"
   },
   {
    "duration": 20,
    "start_time": "2022-12-12T16:52:53.976Z"
   },
   {
    "duration": 47,
    "start_time": "2022-12-12T16:54:41.714Z"
   },
   {
    "duration": 6,
    "start_time": "2022-12-12T16:54:53.506Z"
   },
   {
    "duration": 43,
    "start_time": "2022-12-12T16:55:41.586Z"
   },
   {
    "duration": 8,
    "start_time": "2022-12-12T16:56:22.770Z"
   },
   {
    "duration": 47,
    "start_time": "2022-12-12T16:56:29.202Z"
   },
   {
    "duration": 6,
    "start_time": "2022-12-12T16:56:39.531Z"
   },
   {
    "duration": 45,
    "start_time": "2022-12-12T16:57:03.355Z"
   },
   {
    "duration": 12,
    "start_time": "2022-12-12T16:57:47.035Z"
   },
   {
    "duration": 8,
    "start_time": "2022-12-12T16:57:54.803Z"
   },
   {
    "duration": 7,
    "start_time": "2022-12-12T16:58:04.948Z"
   },
   {
    "duration": 6,
    "start_time": "2022-12-12T16:58:13.067Z"
   },
   {
    "duration": 19,
    "start_time": "2022-12-12T16:59:16.603Z"
   },
   {
    "duration": 6,
    "start_time": "2022-12-12T16:59:22.747Z"
   },
   {
    "duration": 5,
    "start_time": "2022-12-12T16:59:37.475Z"
   },
   {
    "duration": 10,
    "start_time": "2022-12-12T17:00:29.165Z"
   },
   {
    "duration": 5,
    "start_time": "2022-12-12T17:06:57.328Z"
   },
   {
    "duration": 8,
    "start_time": "2022-12-12T17:08:07.665Z"
   },
   {
    "duration": 9,
    "start_time": "2022-12-12T17:08:17.169Z"
   },
   {
    "duration": 7,
    "start_time": "2022-12-12T17:08:25.452Z"
   },
   {
    "duration": 6,
    "start_time": "2022-12-12T17:09:03.650Z"
   },
   {
    "duration": 7,
    "start_time": "2022-12-12T17:10:06.370Z"
   },
   {
    "duration": 5,
    "start_time": "2022-12-12T17:10:21.506Z"
   },
   {
    "duration": 8,
    "start_time": "2022-12-12T17:10:33.691Z"
   },
   {
    "duration": 7,
    "start_time": "2022-12-12T17:11:00.331Z"
   },
   {
    "duration": 7,
    "start_time": "2022-12-12T17:11:18.180Z"
   },
   {
    "duration": 4,
    "start_time": "2022-12-12T17:11:30.339Z"
   },
   {
    "duration": 9,
    "start_time": "2022-12-12T18:01:05.220Z"
   },
   {
    "duration": 5,
    "start_time": "2022-12-12T18:03:07.557Z"
   },
   {
    "duration": 46,
    "start_time": "2022-12-12T18:40:31.376Z"
   },
   {
    "duration": 17,
    "start_time": "2022-12-12T18:50:20.435Z"
   },
   {
    "duration": 5,
    "start_time": "2022-12-12T18:50:21.112Z"
   },
   {
    "duration": 10,
    "start_time": "2022-12-12T18:53:57.185Z"
   },
   {
    "duration": 8,
    "start_time": "2022-12-12T18:54:09.673Z"
   },
   {
    "duration": 4,
    "start_time": "2022-12-12T19:06:20.514Z"
   },
   {
    "duration": 6,
    "start_time": "2022-12-12T19:06:39.744Z"
   },
   {
    "duration": 12,
    "start_time": "2022-12-12T19:18:22.305Z"
   },
   {
    "duration": 11,
    "start_time": "2022-12-12T19:20:13.194Z"
   },
   {
    "duration": 11,
    "start_time": "2022-12-12T19:20:19.234Z"
   },
   {
    "duration": 5,
    "start_time": "2022-12-12T19:21:44.077Z"
   },
   {
    "duration": 9,
    "start_time": "2022-12-12T19:22:12.853Z"
   },
   {
    "duration": 17,
    "start_time": "2022-12-12T19:22:22.037Z"
   },
   {
    "duration": 23,
    "start_time": "2022-12-12T19:22:53.285Z"
   },
   {
    "duration": 16,
    "start_time": "2022-12-12T19:23:07.999Z"
   },
   {
    "duration": 11,
    "start_time": "2022-12-12T19:23:39.726Z"
   },
   {
    "duration": 1155,
    "start_time": "2022-12-12T19:23:54.230Z"
   },
   {
    "duration": 97,
    "start_time": "2022-12-12T19:23:55.387Z"
   },
   {
    "duration": 38,
    "start_time": "2022-12-12T19:23:55.486Z"
   },
   {
    "duration": 17,
    "start_time": "2022-12-12T19:23:55.526Z"
   },
   {
    "duration": 2160,
    "start_time": "2022-12-12T19:23:55.544Z"
   },
   {
    "duration": 10,
    "start_time": "2022-12-12T19:23:57.705Z"
   },
   {
    "duration": 17,
    "start_time": "2022-12-12T19:23:57.717Z"
   },
   {
    "duration": 16,
    "start_time": "2022-12-12T19:23:57.736Z"
   },
   {
    "duration": 23,
    "start_time": "2022-12-12T19:23:57.754Z"
   },
   {
    "duration": 12,
    "start_time": "2022-12-12T19:23:57.780Z"
   },
   {
    "duration": 36,
    "start_time": "2022-12-12T19:23:57.793Z"
   },
   {
    "duration": 101,
    "start_time": "2022-12-12T19:23:57.831Z"
   },
   {
    "duration": 29,
    "start_time": "2022-12-12T19:23:57.934Z"
   },
   {
    "duration": 32,
    "start_time": "2022-12-12T19:23:57.965Z"
   },
   {
    "duration": 57,
    "start_time": "2022-12-12T19:23:57.999Z"
   },
   {
    "duration": 24,
    "start_time": "2022-12-12T19:23:58.057Z"
   },
   {
    "duration": 35,
    "start_time": "2022-12-12T19:23:58.083Z"
   },
   {
    "duration": 35,
    "start_time": "2022-12-12T19:23:58.120Z"
   },
   {
    "duration": 35,
    "start_time": "2022-12-12T19:23:58.157Z"
   },
   {
    "duration": 33,
    "start_time": "2022-12-12T19:23:58.193Z"
   },
   {
    "duration": 46,
    "start_time": "2022-12-12T19:23:58.228Z"
   },
   {
    "duration": 26,
    "start_time": "2022-12-12T19:23:58.276Z"
   },
   {
    "duration": 26,
    "start_time": "2022-12-12T19:23:58.304Z"
   },
   {
    "duration": 43,
    "start_time": "2022-12-12T19:23:58.332Z"
   },
   {
    "duration": 55,
    "start_time": "2022-12-12T19:23:58.376Z"
   },
   {
    "duration": 0,
    "start_time": "2022-12-12T19:23:58.433Z"
   },
   {
    "duration": 0,
    "start_time": "2022-12-12T19:23:58.433Z"
   },
   {
    "duration": 0,
    "start_time": "2022-12-12T19:23:58.435Z"
   },
   {
    "duration": 6,
    "start_time": "2022-12-12T19:24:01.989Z"
   },
   {
    "duration": 9,
    "start_time": "2022-12-12T19:24:13.484Z"
   },
   {
    "duration": 12,
    "start_time": "2022-12-12T19:36:09.687Z"
   },
   {
    "duration": 6,
    "start_time": "2022-12-12T19:36:35.614Z"
   },
   {
    "duration": 10,
    "start_time": "2022-12-12T19:36:51.807Z"
   },
   {
    "duration": 13,
    "start_time": "2022-12-12T19:36:57.191Z"
   },
   {
    "duration": 57,
    "start_time": "2022-12-12T19:38:00.759Z"
   },
   {
    "duration": 47,
    "start_time": "2022-12-12T19:39:55.177Z"
   },
   {
    "duration": 106,
    "start_time": "2022-12-12T19:40:01.874Z"
   },
   {
    "duration": 10,
    "start_time": "2022-12-12T19:40:10.718Z"
   },
   {
    "duration": 10,
    "start_time": "2022-12-12T19:40:17.097Z"
   },
   {
    "duration": 15,
    "start_time": "2022-12-12T19:40:22.328Z"
   },
   {
    "duration": 11,
    "start_time": "2022-12-12T19:43:09.410Z"
   },
   {
    "duration": 40,
    "start_time": "2022-12-12T19:43:28.002Z"
   },
   {
    "duration": 1176,
    "start_time": "2022-12-12T19:43:37.277Z"
   },
   {
    "duration": 95,
    "start_time": "2022-12-12T19:43:38.457Z"
   },
   {
    "duration": 35,
    "start_time": "2022-12-12T19:43:38.554Z"
   },
   {
    "duration": 24,
    "start_time": "2022-12-12T19:43:38.591Z"
   },
   {
    "duration": 2018,
    "start_time": "2022-12-12T19:43:38.617Z"
   },
   {
    "duration": 10,
    "start_time": "2022-12-12T19:43:40.637Z"
   },
   {
    "duration": 5,
    "start_time": "2022-12-12T19:43:40.649Z"
   },
   {
    "duration": 7,
    "start_time": "2022-12-12T19:43:40.656Z"
   },
   {
    "duration": 8,
    "start_time": "2022-12-12T19:43:40.665Z"
   },
   {
    "duration": 11,
    "start_time": "2022-12-12T19:43:40.676Z"
   },
   {
    "duration": 18,
    "start_time": "2022-12-12T19:43:40.689Z"
   },
   {
    "duration": 92,
    "start_time": "2022-12-12T19:43:40.709Z"
   },
   {
    "duration": 13,
    "start_time": "2022-12-12T19:43:40.812Z"
   },
   {
    "duration": 6,
    "start_time": "2022-12-12T19:43:40.827Z"
   },
   {
    "duration": 8,
    "start_time": "2022-12-12T19:43:40.834Z"
   },
   {
    "duration": 17,
    "start_time": "2022-12-12T19:43:40.844Z"
   },
   {
    "duration": 5,
    "start_time": "2022-12-12T19:43:40.862Z"
   },
   {
    "duration": 7,
    "start_time": "2022-12-12T19:43:40.868Z"
   },
   {
    "duration": 38,
    "start_time": "2022-12-12T19:43:40.877Z"
   },
   {
    "duration": 6,
    "start_time": "2022-12-12T19:43:40.917Z"
   },
   {
    "duration": 6,
    "start_time": "2022-12-12T19:43:40.925Z"
   },
   {
    "duration": 10,
    "start_time": "2022-12-12T19:43:40.933Z"
   },
   {
    "duration": 9,
    "start_time": "2022-12-12T19:43:40.944Z"
   },
   {
    "duration": 4,
    "start_time": "2022-12-12T19:43:40.955Z"
   },
   {
    "duration": 14,
    "start_time": "2022-12-12T19:43:40.961Z"
   },
   {
    "duration": 39,
    "start_time": "2022-12-12T19:43:40.977Z"
   },
   {
    "duration": 47,
    "start_time": "2022-12-12T19:43:41.018Z"
   },
   {
    "duration": 0,
    "start_time": "2022-12-12T19:43:41.067Z"
   },
   {
    "duration": 0,
    "start_time": "2022-12-12T19:43:41.068Z"
   },
   {
    "duration": 0,
    "start_time": "2022-12-12T19:43:41.069Z"
   },
   {
    "duration": 860,
    "start_time": "2022-12-12T19:52:22.890Z"
   },
   {
    "duration": 6,
    "start_time": "2022-12-12T19:52:39.074Z"
   },
   {
    "duration": 8,
    "start_time": "2022-12-12T19:52:47.496Z"
   },
   {
    "duration": 9,
    "start_time": "2022-12-12T19:53:18.771Z"
   },
   {
    "duration": 9,
    "start_time": "2022-12-12T19:53:41.363Z"
   },
   {
    "duration": 785,
    "start_time": "2022-12-12T20:00:49.113Z"
   },
   {
    "duration": 211,
    "start_time": "2022-12-12T20:02:00.051Z"
   },
   {
    "duration": 232,
    "start_time": "2022-12-12T20:02:56.541Z"
   },
   {
    "duration": 8,
    "start_time": "2022-12-12T20:03:28.289Z"
   },
   {
    "duration": 11,
    "start_time": "2022-12-12T20:03:42.162Z"
   },
   {
    "duration": 12,
    "start_time": "2022-12-12T20:04:08.442Z"
   },
   {
    "duration": 11,
    "start_time": "2022-12-12T20:04:25.858Z"
   },
   {
    "duration": 4,
    "start_time": "2022-12-12T20:05:54.748Z"
   },
   {
    "duration": 7,
    "start_time": "2022-12-12T20:06:05.035Z"
   },
   {
    "duration": 9,
    "start_time": "2022-12-12T20:06:16.582Z"
   },
   {
    "duration": 8,
    "start_time": "2022-12-12T20:06:49.140Z"
   },
   {
    "duration": 8,
    "start_time": "2022-12-12T20:07:04.468Z"
   },
   {
    "duration": 8,
    "start_time": "2022-12-12T20:07:23.773Z"
   },
   {
    "duration": 48,
    "start_time": "2022-12-12T20:07:48.852Z"
   },
   {
    "duration": 6,
    "start_time": "2022-12-12T20:11:37.199Z"
   },
   {
    "duration": 10,
    "start_time": "2022-12-12T20:11:55.848Z"
   },
   {
    "duration": 10,
    "start_time": "2022-12-12T20:12:38.984Z"
   },
   {
    "duration": 10,
    "start_time": "2022-12-12T20:13:20.033Z"
   },
   {
    "duration": 9,
    "start_time": "2022-12-12T20:14:21.930Z"
   },
   {
    "duration": 6,
    "start_time": "2022-12-12T20:15:21.027Z"
   },
   {
    "duration": 9,
    "start_time": "2022-12-12T20:16:57.532Z"
   },
   {
    "duration": 11,
    "start_time": "2022-12-12T20:17:41.884Z"
   },
   {
    "duration": 9,
    "start_time": "2022-12-12T20:18:29.364Z"
   },
   {
    "duration": 9,
    "start_time": "2022-12-12T20:18:59.340Z"
   },
   {
    "duration": 10,
    "start_time": "2022-12-12T20:19:50.479Z"
   },
   {
    "duration": 10,
    "start_time": "2022-12-12T20:20:00.790Z"
   },
   {
    "duration": 276,
    "start_time": "2022-12-12T20:25:47.166Z"
   },
   {
    "duration": 16,
    "start_time": "2022-12-12T20:26:08.952Z"
   },
   {
    "duration": 195,
    "start_time": "2022-12-12T20:26:17.666Z"
   },
   {
    "duration": 11,
    "start_time": "2022-12-12T20:26:27.674Z"
   },
   {
    "duration": 12,
    "start_time": "2022-12-12T20:26:35.043Z"
   },
   {
    "duration": 11,
    "start_time": "2022-12-12T20:26:47.741Z"
   },
   {
    "duration": 12,
    "start_time": "2022-12-12T20:26:53.162Z"
   },
   {
    "duration": 208,
    "start_time": "2022-12-12T20:27:57.132Z"
   },
   {
    "duration": 200,
    "start_time": "2022-12-12T20:28:02.955Z"
   },
   {
    "duration": 182,
    "start_time": "2022-12-12T20:28:10.555Z"
   },
   {
    "duration": 12,
    "start_time": "2022-12-12T20:28:16.669Z"
   },
   {
    "duration": 201,
    "start_time": "2022-12-12T20:28:48.811Z"
   },
   {
    "duration": 188,
    "start_time": "2022-12-12T20:28:59.060Z"
   },
   {
    "duration": 10,
    "start_time": "2022-12-12T20:29:07.004Z"
   },
   {
    "duration": 206,
    "start_time": "2022-12-12T20:30:09.941Z"
   },
   {
    "duration": 203,
    "start_time": "2022-12-12T20:30:57.559Z"
   },
   {
    "duration": 44,
    "start_time": "2022-12-12T20:31:21.206Z"
   },
   {
    "duration": 10,
    "start_time": "2022-12-12T20:31:28.982Z"
   },
   {
    "duration": 176,
    "start_time": "2022-12-12T20:34:21.321Z"
   },
   {
    "duration": 180,
    "start_time": "2022-12-12T20:34:29.499Z"
   },
   {
    "duration": 188,
    "start_time": "2022-12-12T20:35:32.985Z"
   },
   {
    "duration": 7,
    "start_time": "2022-12-12T20:35:35.817Z"
   },
   {
    "duration": 168,
    "start_time": "2022-12-12T20:35:59.265Z"
   },
   {
    "duration": 183,
    "start_time": "2022-12-12T20:37:33.110Z"
   },
   {
    "duration": 106,
    "start_time": "2022-12-12T20:40:57.725Z"
   },
   {
    "duration": 91,
    "start_time": "2022-12-12T20:41:08.869Z"
   },
   {
    "duration": 93,
    "start_time": "2022-12-12T20:41:17.669Z"
   },
   {
    "duration": 206,
    "start_time": "2022-12-12T20:41:30.316Z"
   },
   {
    "duration": 12,
    "start_time": "2022-12-12T20:41:36.528Z"
   },
   {
    "duration": 12,
    "start_time": "2022-12-12T20:45:05.783Z"
   },
   {
    "duration": 205,
    "start_time": "2022-12-12T20:46:03.748Z"
   },
   {
    "duration": 162,
    "start_time": "2022-12-12T20:46:12.811Z"
   },
   {
    "duration": 175,
    "start_time": "2022-12-12T20:46:25.282Z"
   },
   {
    "duration": 187,
    "start_time": "2022-12-12T20:46:33.809Z"
   },
   {
    "duration": 10,
    "start_time": "2022-12-12T20:46:51.674Z"
   },
   {
    "duration": 11,
    "start_time": "2022-12-12T20:46:53.691Z"
   },
   {
    "duration": 171,
    "start_time": "2022-12-12T20:49:33.063Z"
   },
   {
    "duration": 188,
    "start_time": "2022-12-12T20:49:46.789Z"
   },
   {
    "duration": 10,
    "start_time": "2022-12-12T20:50:55.366Z"
   },
   {
    "duration": 10,
    "start_time": "2022-12-12T20:51:44.596Z"
   },
   {
    "duration": 237,
    "start_time": "2022-12-12T20:53:29.726Z"
   },
   {
    "duration": 426,
    "start_time": "2022-12-12T20:56:27.974Z"
   },
   {
    "duration": 395,
    "start_time": "2022-12-12T20:56:56.166Z"
   },
   {
    "duration": 10,
    "start_time": "2022-12-12T20:57:13.167Z"
   },
   {
    "duration": 700,
    "start_time": "2022-12-12T20:58:54.176Z"
   },
   {
    "duration": 728,
    "start_time": "2022-12-12T20:58:58.080Z"
   },
   {
    "duration": 9,
    "start_time": "2022-12-12T20:59:24.336Z"
   },
   {
    "duration": 10,
    "start_time": "2022-12-12T21:00:02.377Z"
   },
   {
    "duration": 12,
    "start_time": "2022-12-12T21:01:06.497Z"
   },
   {
    "duration": 10,
    "start_time": "2022-12-12T21:01:53.042Z"
   },
   {
    "duration": 883,
    "start_time": "2022-12-12T21:02:57.282Z"
   },
   {
    "duration": 11,
    "start_time": "2022-12-12T21:03:04.253Z"
   },
   {
    "duration": 10,
    "start_time": "2022-12-12T21:03:38.949Z"
   },
   {
    "duration": 8,
    "start_time": "2022-12-12T21:03:42.626Z"
   },
   {
    "duration": 12,
    "start_time": "2022-12-12T21:04:16.501Z"
   },
   {
    "duration": 45,
    "start_time": "2022-12-13T17:49:39.586Z"
   },
   {
    "duration": 1239,
    "start_time": "2022-12-13T17:49:51.545Z"
   },
   {
    "duration": 155,
    "start_time": "2022-12-13T17:49:52.786Z"
   },
   {
    "duration": 2,
    "start_time": "2022-12-13T17:49:52.943Z"
   },
   {
    "duration": 35,
    "start_time": "2022-12-13T17:49:52.947Z"
   },
   {
    "duration": 14,
    "start_time": "2022-12-13T17:49:52.984Z"
   },
   {
    "duration": 1869,
    "start_time": "2022-12-13T17:49:52.999Z"
   },
   {
    "duration": 10,
    "start_time": "2022-12-13T17:49:54.870Z"
   },
   {
    "duration": 14,
    "start_time": "2022-12-13T17:49:54.882Z"
   },
   {
    "duration": 10,
    "start_time": "2022-12-13T17:49:54.897Z"
   },
   {
    "duration": 7,
    "start_time": "2022-12-13T17:49:54.909Z"
   },
   {
    "duration": 9,
    "start_time": "2022-12-13T17:49:54.918Z"
   },
   {
    "duration": 30,
    "start_time": "2022-12-13T17:49:54.929Z"
   },
   {
    "duration": 91,
    "start_time": "2022-12-13T17:49:54.960Z"
   },
   {
    "duration": 18,
    "start_time": "2022-12-13T17:49:55.053Z"
   },
   {
    "duration": 7,
    "start_time": "2022-12-13T17:49:55.073Z"
   },
   {
    "duration": 23,
    "start_time": "2022-12-13T17:49:55.082Z"
   },
   {
    "duration": 18,
    "start_time": "2022-12-13T17:49:55.107Z"
   },
   {
    "duration": 10,
    "start_time": "2022-12-13T17:49:55.126Z"
   },
   {
    "duration": 14,
    "start_time": "2022-12-13T17:49:55.138Z"
   },
   {
    "duration": 8,
    "start_time": "2022-12-13T17:49:55.153Z"
   },
   {
    "duration": 10,
    "start_time": "2022-12-13T17:49:55.162Z"
   },
   {
    "duration": 7,
    "start_time": "2022-12-13T17:49:55.173Z"
   },
   {
    "duration": 24,
    "start_time": "2022-12-13T17:49:55.181Z"
   },
   {
    "duration": 8,
    "start_time": "2022-12-13T17:49:55.207Z"
   },
   {
    "duration": 20,
    "start_time": "2022-12-13T17:49:55.216Z"
   },
   {
    "duration": 15,
    "start_time": "2022-12-13T17:49:55.238Z"
   },
   {
    "duration": 7,
    "start_time": "2022-12-13T17:49:55.255Z"
   },
   {
    "duration": 9,
    "start_time": "2022-12-13T17:49:55.264Z"
   },
   {
    "duration": 9,
    "start_time": "2022-12-13T17:49:55.274Z"
   },
   {
    "duration": 326,
    "start_time": "2022-12-13T17:49:55.284Z"
   },
   {
    "duration": 7,
    "start_time": "2022-12-13T17:49:55.611Z"
   },
   {
    "duration": 11,
    "start_time": "2022-12-13T17:49:55.620Z"
   },
   {
    "duration": 8,
    "start_time": "2022-12-13T17:49:55.632Z"
   },
   {
    "duration": 8,
    "start_time": "2022-12-13T17:49:55.642Z"
   },
   {
    "duration": 8,
    "start_time": "2022-12-13T17:49:55.652Z"
   },
   {
    "duration": 16,
    "start_time": "2022-12-13T17:49:55.661Z"
   },
   {
    "duration": 33,
    "start_time": "2022-12-13T17:49:55.678Z"
   },
   {
    "duration": 9,
    "start_time": "2022-12-13T17:49:55.713Z"
   },
   {
    "duration": 8,
    "start_time": "2022-12-13T17:49:55.724Z"
   },
   {
    "duration": 11,
    "start_time": "2022-12-13T17:49:55.733Z"
   },
   {
    "duration": 9,
    "start_time": "2022-12-13T17:49:55.745Z"
   },
   {
    "duration": 7,
    "start_time": "2022-12-13T17:49:55.756Z"
   },
   {
    "duration": 8,
    "start_time": "2022-12-13T17:49:55.764Z"
   },
   {
    "duration": 38,
    "start_time": "2022-12-13T17:49:55.773Z"
   },
   {
    "duration": 126,
    "start_time": "2022-12-13T17:50:28.107Z"
   },
   {
    "duration": 110,
    "start_time": "2022-12-13T17:50:51.894Z"
   },
   {
    "duration": 206,
    "start_time": "2022-12-13T17:50:59.836Z"
   },
   {
    "duration": 67,
    "start_time": "2022-12-13T17:51:36.406Z"
   },
   {
    "duration": 213,
    "start_time": "2022-12-13T17:51:44.172Z"
   },
   {
    "duration": 204,
    "start_time": "2022-12-13T17:52:01.350Z"
   },
   {
    "duration": 1501,
    "start_time": "2022-12-13T17:52:24.966Z"
   },
   {
    "duration": 411,
    "start_time": "2022-12-13T17:52:37.248Z"
   },
   {
    "duration": 98,
    "start_time": "2022-12-13T17:53:26.848Z"
   },
   {
    "duration": 9,
    "start_time": "2022-12-13T17:53:34.104Z"
   },
   {
    "duration": 3,
    "start_time": "2022-12-13T17:53:47.911Z"
   },
   {
    "duration": 5,
    "start_time": "2022-12-13T17:53:52.672Z"
   },
   {
    "duration": 8,
    "start_time": "2022-12-13T17:54:06.998Z"
   },
   {
    "duration": 326,
    "start_time": "2022-12-13T18:02:50.699Z"
   },
   {
    "duration": 65,
    "start_time": "2022-12-13T18:05:11.320Z"
   },
   {
    "duration": 137,
    "start_time": "2022-12-13T18:05:14.208Z"
   },
   {
    "duration": 109,
    "start_time": "2022-12-13T18:05:32.180Z"
   },
   {
    "duration": 461,
    "start_time": "2022-12-13T18:05:57.608Z"
   },
   {
    "duration": 216,
    "start_time": "2022-12-13T18:06:29.544Z"
   },
   {
    "duration": 264,
    "start_time": "2022-12-13T18:14:17.182Z"
   },
   {
    "duration": 240,
    "start_time": "2022-12-13T18:20:00.312Z"
   },
   {
    "duration": 1159,
    "start_time": "2022-12-13T18:21:13.190Z"
   },
   {
    "duration": 93,
    "start_time": "2022-12-13T18:21:14.351Z"
   },
   {
    "duration": 3,
    "start_time": "2022-12-13T18:21:14.445Z"
   },
   {
    "duration": 41,
    "start_time": "2022-12-13T18:21:14.449Z"
   },
   {
    "duration": 19,
    "start_time": "2022-12-13T18:21:14.491Z"
   },
   {
    "duration": 1822,
    "start_time": "2022-12-13T18:21:14.511Z"
   },
   {
    "duration": 9,
    "start_time": "2022-12-13T18:21:16.335Z"
   },
   {
    "duration": 5,
    "start_time": "2022-12-13T18:21:16.345Z"
   },
   {
    "duration": 7,
    "start_time": "2022-12-13T18:21:16.351Z"
   },
   {
    "duration": 5,
    "start_time": "2022-12-13T18:21:16.360Z"
   },
   {
    "duration": 6,
    "start_time": "2022-12-13T18:21:16.367Z"
   },
   {
    "duration": 13,
    "start_time": "2022-12-13T18:21:16.375Z"
   },
   {
    "duration": 81,
    "start_time": "2022-12-13T18:21:16.389Z"
   },
   {
    "duration": 14,
    "start_time": "2022-12-13T18:21:16.472Z"
   },
   {
    "duration": 17,
    "start_time": "2022-12-13T18:21:16.487Z"
   },
   {
    "duration": 7,
    "start_time": "2022-12-13T18:21:16.506Z"
   },
   {
    "duration": 17,
    "start_time": "2022-12-13T18:21:16.514Z"
   },
   {
    "duration": 5,
    "start_time": "2022-12-13T18:21:16.532Z"
   },
   {
    "duration": 7,
    "start_time": "2022-12-13T18:21:16.538Z"
   },
   {
    "duration": 7,
    "start_time": "2022-12-13T18:21:16.546Z"
   },
   {
    "duration": 6,
    "start_time": "2022-12-13T18:21:16.554Z"
   },
   {
    "duration": 5,
    "start_time": "2022-12-13T18:21:16.561Z"
   },
   {
    "duration": 40,
    "start_time": "2022-12-13T18:21:16.567Z"
   },
   {
    "duration": 10,
    "start_time": "2022-12-13T18:21:16.609Z"
   },
   {
    "duration": 7,
    "start_time": "2022-12-13T18:21:16.621Z"
   },
   {
    "duration": 13,
    "start_time": "2022-12-13T18:21:16.629Z"
   },
   {
    "duration": 5,
    "start_time": "2022-12-13T18:21:16.643Z"
   },
   {
    "duration": 19,
    "start_time": "2022-12-13T18:21:16.651Z"
   },
   {
    "duration": 9,
    "start_time": "2022-12-13T18:21:16.672Z"
   },
   {
    "duration": 334,
    "start_time": "2022-12-13T18:21:16.682Z"
   },
   {
    "duration": 7,
    "start_time": "2022-12-13T18:21:17.018Z"
   },
   {
    "duration": 8,
    "start_time": "2022-12-13T18:21:17.026Z"
   },
   {
    "duration": 332,
    "start_time": "2022-12-13T18:21:17.036Z"
   },
   {
    "duration": 11,
    "start_time": "2022-12-13T18:21:17.370Z"
   },
   {
    "duration": 269,
    "start_time": "2022-12-13T18:21:17.383Z"
   },
   {
    "duration": 9,
    "start_time": "2022-12-13T18:21:17.653Z"
   },
   {
    "duration": 239,
    "start_time": "2022-12-13T18:21:17.663Z"
   },
   {
    "duration": 9,
    "start_time": "2022-12-13T18:21:17.904Z"
   },
   {
    "duration": 366,
    "start_time": "2022-12-13T18:21:17.915Z"
   },
   {
    "duration": 8,
    "start_time": "2022-12-13T18:21:18.282Z"
   },
   {
    "duration": 16,
    "start_time": "2022-12-13T18:21:18.292Z"
   },
   {
    "duration": 7,
    "start_time": "2022-12-13T18:21:18.310Z"
   },
   {
    "duration": 9,
    "start_time": "2022-12-13T18:21:18.318Z"
   },
   {
    "duration": 11,
    "start_time": "2022-12-13T18:21:18.328Z"
   },
   {
    "duration": 8,
    "start_time": "2022-12-13T18:21:18.340Z"
   },
   {
    "duration": 9,
    "start_time": "2022-12-13T18:21:18.350Z"
   },
   {
    "duration": 8,
    "start_time": "2022-12-13T18:21:18.360Z"
   },
   {
    "duration": 9,
    "start_time": "2022-12-13T18:21:18.404Z"
   },
   {
    "duration": 127,
    "start_time": "2022-12-13T18:21:28.168Z"
   },
   {
    "duration": 128,
    "start_time": "2022-12-13T18:21:34.483Z"
   },
   {
    "duration": 230,
    "start_time": "2022-12-13T18:24:23.654Z"
   },
   {
    "duration": 1329,
    "start_time": "2022-12-13T18:24:39.793Z"
   },
   {
    "duration": 122,
    "start_time": "2022-12-13T18:24:49.237Z"
   },
   {
    "duration": 91,
    "start_time": "2022-12-13T18:27:15.775Z"
   },
   {
    "duration": 140,
    "start_time": "2022-12-13T18:27:23.368Z"
   },
   {
    "duration": 232,
    "start_time": "2022-12-13T18:28:02.825Z"
   },
   {
    "duration": 132,
    "start_time": "2022-12-13T18:28:11.368Z"
   },
   {
    "duration": 477,
    "start_time": "2022-12-13T18:28:19.795Z"
   },
   {
    "duration": 356,
    "start_time": "2022-12-13T18:28:43.432Z"
   },
   {
    "duration": 228,
    "start_time": "2022-12-13T18:29:02.552Z"
   },
   {
    "duration": 124,
    "start_time": "2022-12-13T18:31:09.619Z"
   },
   {
    "duration": 162,
    "start_time": "2022-12-13T18:31:26.042Z"
   },
   {
    "duration": 918,
    "start_time": "2022-12-13T18:31:37.613Z"
   },
   {
    "duration": 349,
    "start_time": "2022-12-13T18:31:54.955Z"
   },
   {
    "duration": 246,
    "start_time": "2022-12-13T18:37:48.478Z"
   },
   {
    "duration": 238,
    "start_time": "2022-12-13T18:39:35.111Z"
   },
   {
    "duration": 213,
    "start_time": "2022-12-13T18:46:46.765Z"
   },
   {
    "duration": 9,
    "start_time": "2022-12-13T18:47:42.794Z"
   },
   {
    "duration": 8,
    "start_time": "2022-12-13T18:47:56.694Z"
   },
   {
    "duration": 10,
    "start_time": "2022-12-13T18:48:26.143Z"
   },
   {
    "duration": 6,
    "start_time": "2022-12-13T18:48:34.262Z"
   },
   {
    "duration": 70,
    "start_time": "2022-12-13T18:48:53.128Z"
   },
   {
    "duration": 131,
    "start_time": "2022-12-13T18:49:03.006Z"
   },
   {
    "duration": 122,
    "start_time": "2022-12-13T18:49:21.943Z"
   },
   {
    "duration": 126,
    "start_time": "2022-12-13T18:49:27.997Z"
   },
   {
    "duration": 184,
    "start_time": "2022-12-13T18:49:41.663Z"
   },
   {
    "duration": 188,
    "start_time": "2022-12-13T18:49:48.498Z"
   },
   {
    "duration": 661,
    "start_time": "2022-12-13T18:49:53.727Z"
   },
   {
    "duration": 909,
    "start_time": "2022-12-13T18:50:14.937Z"
   },
   {
    "duration": 69,
    "start_time": "2022-12-13T18:50:43.112Z"
   },
   {
    "duration": 74,
    "start_time": "2022-12-13T18:50:50.151Z"
   },
   {
    "duration": 85,
    "start_time": "2022-12-13T18:50:53.496Z"
   },
   {
    "duration": 76,
    "start_time": "2022-12-13T18:51:04.248Z"
   },
   {
    "duration": 68,
    "start_time": "2022-12-13T18:51:15.728Z"
   },
   {
    "duration": 10,
    "start_time": "2022-12-13T18:51:24.312Z"
   },
   {
    "duration": 9,
    "start_time": "2022-12-13T18:51:29.800Z"
   },
   {
    "duration": 83,
    "start_time": "2022-12-13T18:51:31.368Z"
   },
   {
    "duration": 64,
    "start_time": "2022-12-13T18:51:42.257Z"
   },
   {
    "duration": 69,
    "start_time": "2022-12-13T18:51:48.856Z"
   },
   {
    "duration": 65,
    "start_time": "2022-12-13T18:52:22.633Z"
   },
   {
    "duration": 112,
    "start_time": "2022-12-13T18:52:24.633Z"
   },
   {
    "duration": 5,
    "start_time": "2022-12-13T18:56:23.194Z"
   },
   {
    "duration": 9,
    "start_time": "2022-12-13T18:56:50.700Z"
   },
   {
    "duration": 7,
    "start_time": "2022-12-13T18:58:26.806Z"
   },
   {
    "duration": 7,
    "start_time": "2022-12-13T19:01:23.016Z"
   },
   {
    "duration": 46,
    "start_time": "2022-12-13T19:02:13.754Z"
   },
   {
    "duration": 1163,
    "start_time": "2022-12-13T19:02:27.061Z"
   },
   {
    "duration": 92,
    "start_time": "2022-12-13T19:02:28.226Z"
   },
   {
    "duration": 2,
    "start_time": "2022-12-13T19:02:28.321Z"
   },
   {
    "duration": 52,
    "start_time": "2022-12-13T19:02:28.326Z"
   },
   {
    "duration": 29,
    "start_time": "2022-12-13T19:02:28.379Z"
   },
   {
    "duration": 1863,
    "start_time": "2022-12-13T19:02:28.410Z"
   },
   {
    "duration": 8,
    "start_time": "2022-12-13T19:02:30.275Z"
   },
   {
    "duration": 30,
    "start_time": "2022-12-13T19:02:30.284Z"
   },
   {
    "duration": 24,
    "start_time": "2022-12-13T19:02:30.315Z"
   },
   {
    "duration": 28,
    "start_time": "2022-12-13T19:02:30.341Z"
   },
   {
    "duration": 68,
    "start_time": "2022-12-13T19:02:30.370Z"
   },
   {
    "duration": 54,
    "start_time": "2022-12-13T19:02:30.440Z"
   },
   {
    "duration": 136,
    "start_time": "2022-12-13T19:02:30.495Z"
   },
   {
    "duration": 41,
    "start_time": "2022-12-13T19:02:30.633Z"
   },
   {
    "duration": 26,
    "start_time": "2022-12-13T19:02:30.676Z"
   },
   {
    "duration": 36,
    "start_time": "2022-12-13T19:02:30.703Z"
   },
   {
    "duration": 35,
    "start_time": "2022-12-13T19:02:30.741Z"
   },
   {
    "duration": 22,
    "start_time": "2022-12-13T19:02:30.777Z"
   },
   {
    "duration": 38,
    "start_time": "2022-12-13T19:02:30.800Z"
   },
   {
    "duration": 35,
    "start_time": "2022-12-13T19:02:30.839Z"
   },
   {
    "duration": 25,
    "start_time": "2022-12-13T19:02:30.876Z"
   },
   {
    "duration": 31,
    "start_time": "2022-12-13T19:02:30.903Z"
   },
   {
    "duration": 35,
    "start_time": "2022-12-13T19:02:30.936Z"
   },
   {
    "duration": 22,
    "start_time": "2022-12-13T19:02:30.972Z"
   },
   {
    "duration": 23,
    "start_time": "2022-12-13T19:02:30.996Z"
   },
   {
    "duration": 28,
    "start_time": "2022-12-13T19:02:31.021Z"
   },
   {
    "duration": 102,
    "start_time": "2022-12-13T19:02:31.050Z"
   },
   {
    "duration": 0,
    "start_time": "2022-12-13T19:02:31.154Z"
   },
   {
    "duration": 0,
    "start_time": "2022-12-13T19:02:31.156Z"
   },
   {
    "duration": 0,
    "start_time": "2022-12-13T19:02:31.157Z"
   },
   {
    "duration": 0,
    "start_time": "2022-12-13T19:02:31.158Z"
   },
   {
    "duration": 0,
    "start_time": "2022-12-13T19:02:31.159Z"
   },
   {
    "duration": 0,
    "start_time": "2022-12-13T19:02:31.161Z"
   },
   {
    "duration": 0,
    "start_time": "2022-12-13T19:02:31.162Z"
   },
   {
    "duration": 0,
    "start_time": "2022-12-13T19:02:31.163Z"
   },
   {
    "duration": 0,
    "start_time": "2022-12-13T19:02:31.164Z"
   },
   {
    "duration": 0,
    "start_time": "2022-12-13T19:02:31.165Z"
   },
   {
    "duration": 0,
    "start_time": "2022-12-13T19:02:31.166Z"
   },
   {
    "duration": 0,
    "start_time": "2022-12-13T19:02:31.167Z"
   },
   {
    "duration": 0,
    "start_time": "2022-12-13T19:02:31.168Z"
   },
   {
    "duration": 0,
    "start_time": "2022-12-13T19:02:31.169Z"
   },
   {
    "duration": 0,
    "start_time": "2022-12-13T19:02:31.171Z"
   },
   {
    "duration": 0,
    "start_time": "2022-12-13T19:02:31.172Z"
   },
   {
    "duration": 0,
    "start_time": "2022-12-13T19:02:31.173Z"
   },
   {
    "duration": 0,
    "start_time": "2022-12-13T19:02:31.174Z"
   },
   {
    "duration": 0,
    "start_time": "2022-12-13T19:02:31.175Z"
   },
   {
    "duration": 0,
    "start_time": "2022-12-13T19:02:31.204Z"
   },
   {
    "duration": 0,
    "start_time": "2022-12-13T19:02:31.206Z"
   },
   {
    "duration": 0,
    "start_time": "2022-12-13T19:02:31.207Z"
   },
   {
    "duration": 0,
    "start_time": "2022-12-13T19:02:31.208Z"
   },
   {
    "duration": 0,
    "start_time": "2022-12-13T19:02:31.209Z"
   },
   {
    "duration": 0,
    "start_time": "2022-12-13T19:02:31.210Z"
   },
   {
    "duration": 0,
    "start_time": "2022-12-13T19:02:31.211Z"
   },
   {
    "duration": 0,
    "start_time": "2022-12-13T19:02:31.212Z"
   },
   {
    "duration": 0,
    "start_time": "2022-12-13T19:02:31.213Z"
   },
   {
    "duration": 15,
    "start_time": "2022-12-13T19:02:37.265Z"
   },
   {
    "duration": 6,
    "start_time": "2022-12-13T19:02:44.294Z"
   },
   {
    "duration": 10,
    "start_time": "2022-12-13T19:02:53.704Z"
   },
   {
    "duration": 91,
    "start_time": "2022-12-13T19:03:45.241Z"
   },
   {
    "duration": 10,
    "start_time": "2022-12-13T19:03:57.096Z"
   },
   {
    "duration": 73,
    "start_time": "2022-12-13T19:04:42.606Z"
   },
   {
    "duration": 16,
    "start_time": "2022-12-13T19:04:48.570Z"
   },
   {
    "duration": 74,
    "start_time": "2022-12-13T19:04:52.554Z"
   },
   {
    "duration": 8,
    "start_time": "2022-12-13T19:04:57.572Z"
   },
   {
    "duration": 5,
    "start_time": "2022-12-13T19:05:05.675Z"
   },
   {
    "duration": 191,
    "start_time": "2022-12-13T19:05:21.035Z"
   },
   {
    "duration": 98,
    "start_time": "2022-12-13T19:06:49.971Z"
   },
   {
    "duration": 48,
    "start_time": "2022-12-13T19:06:58.469Z"
   },
   {
    "duration": 85,
    "start_time": "2022-12-13T19:07:32.585Z"
   },
   {
    "duration": 105,
    "start_time": "2022-12-13T19:07:39.307Z"
   },
   {
    "duration": 96,
    "start_time": "2022-12-13T19:07:51.460Z"
   },
   {
    "duration": 12,
    "start_time": "2022-12-13T19:08:27.399Z"
   },
   {
    "duration": 7,
    "start_time": "2022-12-13T19:08:50.684Z"
   },
   {
    "duration": 6,
    "start_time": "2022-12-13T19:09:11.347Z"
   },
   {
    "duration": 9,
    "start_time": "2022-12-13T19:09:18.964Z"
   },
   {
    "duration": 7,
    "start_time": "2022-12-13T19:09:39.947Z"
   },
   {
    "duration": 10,
    "start_time": "2022-12-13T19:09:42.801Z"
   },
   {
    "duration": 1121,
    "start_time": "2022-12-13T19:09:48.303Z"
   },
   {
    "duration": 89,
    "start_time": "2022-12-13T19:09:49.426Z"
   },
   {
    "duration": 3,
    "start_time": "2022-12-13T19:09:49.516Z"
   },
   {
    "duration": 38,
    "start_time": "2022-12-13T19:09:49.521Z"
   },
   {
    "duration": 15,
    "start_time": "2022-12-13T19:09:49.562Z"
   },
   {
    "duration": 1778,
    "start_time": "2022-12-13T19:09:49.579Z"
   },
   {
    "duration": 11,
    "start_time": "2022-12-13T19:09:51.359Z"
   },
   {
    "duration": 6,
    "start_time": "2022-12-13T19:09:51.372Z"
   },
   {
    "duration": 8,
    "start_time": "2022-12-13T19:09:51.380Z"
   },
   {
    "duration": 9,
    "start_time": "2022-12-13T19:09:51.389Z"
   },
   {
    "duration": 8,
    "start_time": "2022-12-13T19:09:51.400Z"
   },
   {
    "duration": 16,
    "start_time": "2022-12-13T19:09:51.410Z"
   },
   {
    "duration": 8,
    "start_time": "2022-12-13T19:09:51.428Z"
   },
   {
    "duration": 98,
    "start_time": "2022-12-13T19:09:51.438Z"
   },
   {
    "duration": 5,
    "start_time": "2022-12-13T19:09:51.538Z"
   },
   {
    "duration": 7,
    "start_time": "2022-12-13T19:09:51.545Z"
   },
   {
    "duration": 24,
    "start_time": "2022-12-13T19:09:51.554Z"
   },
   {
    "duration": 5,
    "start_time": "2022-12-13T19:09:51.579Z"
   },
   {
    "duration": 20,
    "start_time": "2022-12-13T19:09:51.585Z"
   },
   {
    "duration": 14,
    "start_time": "2022-12-13T19:09:51.606Z"
   },
   {
    "duration": 24,
    "start_time": "2022-12-13T19:09:51.621Z"
   },
   {
    "duration": 13,
    "start_time": "2022-12-13T19:09:51.647Z"
   },
   {
    "duration": 16,
    "start_time": "2022-12-13T19:09:51.661Z"
   },
   {
    "duration": 23,
    "start_time": "2022-12-13T19:09:51.678Z"
   },
   {
    "duration": 8,
    "start_time": "2022-12-13T19:09:51.702Z"
   },
   {
    "duration": 8,
    "start_time": "2022-12-13T19:09:51.712Z"
   },
   {
    "duration": 8,
    "start_time": "2022-12-13T19:09:51.721Z"
   },
   {
    "duration": 7,
    "start_time": "2022-12-13T19:09:51.730Z"
   },
   {
    "duration": 12,
    "start_time": "2022-12-13T19:09:51.738Z"
   },
   {
    "duration": 8,
    "start_time": "2022-12-13T19:09:51.751Z"
   },
   {
    "duration": 10,
    "start_time": "2022-12-13T19:09:51.760Z"
   },
   {
    "duration": 7,
    "start_time": "2022-12-13T19:09:51.771Z"
   },
   {
    "duration": 338,
    "start_time": "2022-12-13T19:09:51.779Z"
   },
   {
    "duration": 6,
    "start_time": "2022-12-13T19:09:52.119Z"
   },
   {
    "duration": 20,
    "start_time": "2022-12-13T19:09:52.126Z"
   },
   {
    "duration": 362,
    "start_time": "2022-12-13T19:09:52.148Z"
   },
   {
    "duration": 9,
    "start_time": "2022-12-13T19:09:52.512Z"
   },
   {
    "duration": 242,
    "start_time": "2022-12-13T19:09:52.522Z"
   },
   {
    "duration": 8,
    "start_time": "2022-12-13T19:09:52.766Z"
   },
   {
    "duration": 249,
    "start_time": "2022-12-13T19:09:52.776Z"
   },
   {
    "duration": 8,
    "start_time": "2022-12-13T19:09:53.029Z"
   },
   {
    "duration": 149,
    "start_time": "2022-12-13T19:09:53.038Z"
   },
   {
    "duration": 21,
    "start_time": "2022-12-13T19:09:53.188Z"
   },
   {
    "duration": 331,
    "start_time": "2022-12-13T19:09:53.210Z"
   },
   {
    "duration": 9,
    "start_time": "2022-12-13T19:09:53.542Z"
   },
   {
    "duration": 253,
    "start_time": "2022-12-13T19:09:53.552Z"
   },
   {
    "duration": 8,
    "start_time": "2022-12-13T19:09:53.806Z"
   },
   {
    "duration": 235,
    "start_time": "2022-12-13T19:09:53.815Z"
   },
   {
    "duration": 9,
    "start_time": "2022-12-13T19:09:54.051Z"
   },
   {
    "duration": 235,
    "start_time": "2022-12-13T19:09:54.061Z"
   },
   {
    "duration": 13,
    "start_time": "2022-12-13T19:09:54.297Z"
   },
   {
    "duration": 7,
    "start_time": "2022-12-13T19:09:54.312Z"
   },
   {
    "duration": 18,
    "start_time": "2022-12-13T19:09:54.321Z"
   },
   {
    "duration": 13,
    "start_time": "2022-12-13T19:09:54.341Z"
   },
   {
    "duration": 16,
    "start_time": "2022-12-13T19:09:54.355Z"
   },
   {
    "duration": 4,
    "start_time": "2022-12-13T19:10:21.101Z"
   },
   {
    "duration": 4,
    "start_time": "2022-12-13T19:10:23.533Z"
   },
   {
    "duration": 11,
    "start_time": "2022-12-13T19:10:31.982Z"
   },
   {
    "duration": 1121,
    "start_time": "2022-12-13T19:12:29.454Z"
   },
   {
    "duration": 95,
    "start_time": "2022-12-13T19:12:30.576Z"
   },
   {
    "duration": 3,
    "start_time": "2022-12-13T19:12:30.672Z"
   },
   {
    "duration": 60,
    "start_time": "2022-12-13T19:12:30.676Z"
   },
   {
    "duration": 15,
    "start_time": "2022-12-13T19:12:30.737Z"
   },
   {
    "duration": 1892,
    "start_time": "2022-12-13T19:12:30.753Z"
   },
   {
    "duration": 9,
    "start_time": "2022-12-13T19:12:32.647Z"
   },
   {
    "duration": 5,
    "start_time": "2022-12-13T19:12:32.657Z"
   },
   {
    "duration": 6,
    "start_time": "2022-12-13T19:12:32.664Z"
   },
   {
    "duration": 4,
    "start_time": "2022-12-13T19:12:32.672Z"
   },
   {
    "duration": 9,
    "start_time": "2022-12-13T19:12:32.677Z"
   },
   {
    "duration": 22,
    "start_time": "2022-12-13T19:12:32.687Z"
   },
   {
    "duration": 80,
    "start_time": "2022-12-13T19:12:32.710Z"
   },
   {
    "duration": 24,
    "start_time": "2022-12-13T19:12:32.792Z"
   },
   {
    "duration": 6,
    "start_time": "2022-12-13T19:12:32.817Z"
   },
   {
    "duration": 7,
    "start_time": "2022-12-13T19:12:32.824Z"
   },
   {
    "duration": 19,
    "start_time": "2022-12-13T19:12:32.832Z"
   },
   {
    "duration": 4,
    "start_time": "2022-12-13T19:12:32.852Z"
   },
   {
    "duration": 7,
    "start_time": "2022-12-13T19:12:32.858Z"
   },
   {
    "duration": 6,
    "start_time": "2022-12-13T19:12:32.866Z"
   },
   {
    "duration": 35,
    "start_time": "2022-12-13T19:12:32.873Z"
   },
   {
    "duration": 6,
    "start_time": "2022-12-13T19:12:32.909Z"
   },
   {
    "duration": 10,
    "start_time": "2022-12-13T19:12:32.916Z"
   },
   {
    "duration": 7,
    "start_time": "2022-12-13T19:12:32.928Z"
   },
   {
    "duration": 7,
    "start_time": "2022-12-13T19:12:32.936Z"
   },
   {
    "duration": 7,
    "start_time": "2022-12-13T19:12:32.944Z"
   },
   {
    "duration": 9,
    "start_time": "2022-12-13T19:12:32.952Z"
   },
   {
    "duration": 6,
    "start_time": "2022-12-13T19:12:32.964Z"
   },
   {
    "duration": 43,
    "start_time": "2022-12-13T19:12:32.971Z"
   },
   {
    "duration": 5,
    "start_time": "2022-12-13T19:12:33.016Z"
   },
   {
    "duration": 8,
    "start_time": "2022-12-13T19:12:33.023Z"
   },
   {
    "duration": 7,
    "start_time": "2022-12-13T19:12:33.032Z"
   },
   {
    "duration": 340,
    "start_time": "2022-12-13T19:12:33.041Z"
   },
   {
    "duration": 6,
    "start_time": "2022-12-13T19:12:33.383Z"
   },
   {
    "duration": 16,
    "start_time": "2022-12-13T19:12:33.390Z"
   },
   {
    "duration": 327,
    "start_time": "2022-12-13T19:12:33.407Z"
   },
   {
    "duration": 9,
    "start_time": "2022-12-13T19:12:33.736Z"
   },
   {
    "duration": 232,
    "start_time": "2022-12-13T19:12:33.747Z"
   },
   {
    "duration": 9,
    "start_time": "2022-12-13T19:12:33.981Z"
   },
   {
    "duration": 227,
    "start_time": "2022-12-13T19:12:34.004Z"
   },
   {
    "duration": 9,
    "start_time": "2022-12-13T19:12:34.232Z"
   },
   {
    "duration": 130,
    "start_time": "2022-12-13T19:12:34.242Z"
   },
   {
    "duration": 9,
    "start_time": "2022-12-13T19:12:34.373Z"
   },
   {
    "duration": 323,
    "start_time": "2022-12-13T19:12:34.383Z"
   },
   {
    "duration": 9,
    "start_time": "2022-12-13T19:12:34.707Z"
   },
   {
    "duration": 247,
    "start_time": "2022-12-13T19:12:34.717Z"
   },
   {
    "duration": 7,
    "start_time": "2022-12-13T19:12:34.966Z"
   },
   {
    "duration": 223,
    "start_time": "2022-12-13T19:12:34.974Z"
   },
   {
    "duration": 8,
    "start_time": "2022-12-13T19:12:35.204Z"
   },
   {
    "duration": 211,
    "start_time": "2022-12-13T19:12:35.213Z"
   },
   {
    "duration": 9,
    "start_time": "2022-12-13T19:12:35.426Z"
   },
   {
    "duration": 8,
    "start_time": "2022-12-13T19:12:35.436Z"
   },
   {
    "duration": 7,
    "start_time": "2022-12-13T19:12:35.446Z"
   },
   {
    "duration": 8,
    "start_time": "2022-12-13T19:12:35.454Z"
   },
   {
    "duration": 8,
    "start_time": "2022-12-13T19:12:35.463Z"
   },
   {
    "duration": 20,
    "start_time": "2022-12-13T19:12:46.582Z"
   },
   {
    "duration": 10,
    "start_time": "2022-12-13T19:13:00.398Z"
   },
   {
    "duration": 20,
    "start_time": "2022-12-13T19:15:59.504Z"
   },
   {
    "duration": 17,
    "start_time": "2022-12-13T19:16:52.367Z"
   },
   {
    "duration": 113,
    "start_time": "2022-12-13T19:17:14.099Z"
   },
   {
    "duration": 27,
    "start_time": "2022-12-13T19:17:48.249Z"
   },
   {
    "duration": 17,
    "start_time": "2022-12-13T19:17:56.155Z"
   },
   {
    "duration": 673,
    "start_time": "2022-12-13T19:19:41.200Z"
   },
   {
    "duration": 636,
    "start_time": "2022-12-13T19:20:31.756Z"
   },
   {
    "duration": 13,
    "start_time": "2022-12-13T19:20:39.200Z"
   },
   {
    "duration": 678,
    "start_time": "2022-12-13T19:20:47.434Z"
   },
   {
    "duration": 1131,
    "start_time": "2022-12-13T19:21:12.998Z"
   },
   {
    "duration": 98,
    "start_time": "2022-12-13T19:21:14.130Z"
   },
   {
    "duration": 3,
    "start_time": "2022-12-13T19:21:14.229Z"
   },
   {
    "duration": 31,
    "start_time": "2022-12-13T19:21:14.233Z"
   },
   {
    "duration": 13,
    "start_time": "2022-12-13T19:21:14.266Z"
   },
   {
    "duration": 1765,
    "start_time": "2022-12-13T19:21:14.280Z"
   },
   {
    "duration": 11,
    "start_time": "2022-12-13T19:21:16.047Z"
   },
   {
    "duration": 6,
    "start_time": "2022-12-13T19:21:16.059Z"
   },
   {
    "duration": 7,
    "start_time": "2022-12-13T19:21:16.066Z"
   },
   {
    "duration": 5,
    "start_time": "2022-12-13T19:21:16.074Z"
   },
   {
    "duration": 22,
    "start_time": "2022-12-13T19:21:16.080Z"
   },
   {
    "duration": 13,
    "start_time": "2022-12-13T19:21:16.104Z"
   },
   {
    "duration": 6,
    "start_time": "2022-12-13T19:21:16.119Z"
   },
   {
    "duration": 97,
    "start_time": "2022-12-13T19:21:16.128Z"
   },
   {
    "duration": 6,
    "start_time": "2022-12-13T19:21:16.227Z"
   },
   {
    "duration": 11,
    "start_time": "2022-12-13T19:21:16.235Z"
   },
   {
    "duration": 18,
    "start_time": "2022-12-13T19:21:16.248Z"
   },
   {
    "duration": 4,
    "start_time": "2022-12-13T19:21:16.268Z"
   },
   {
    "duration": 8,
    "start_time": "2022-12-13T19:21:16.274Z"
   },
   {
    "duration": 6,
    "start_time": "2022-12-13T19:21:16.304Z"
   },
   {
    "duration": 11,
    "start_time": "2022-12-13T19:21:16.311Z"
   },
   {
    "duration": 8,
    "start_time": "2022-12-13T19:21:16.323Z"
   },
   {
    "duration": 9,
    "start_time": "2022-12-13T19:21:16.332Z"
   },
   {
    "duration": 6,
    "start_time": "2022-12-13T19:21:16.343Z"
   },
   {
    "duration": 8,
    "start_time": "2022-12-13T19:21:16.351Z"
   },
   {
    "duration": 9,
    "start_time": "2022-12-13T19:21:16.360Z"
   },
   {
    "duration": 6,
    "start_time": "2022-12-13T19:21:16.370Z"
   },
   {
    "duration": 36,
    "start_time": "2022-12-13T19:21:16.377Z"
   },
   {
    "duration": 5,
    "start_time": "2022-12-13T19:21:16.415Z"
   },
   {
    "duration": 15,
    "start_time": "2022-12-13T19:21:16.421Z"
   },
   {
    "duration": 6,
    "start_time": "2022-12-13T19:21:16.438Z"
   },
   {
    "duration": 330,
    "start_time": "2022-12-13T19:21:16.446Z"
   },
   {
    "duration": 5,
    "start_time": "2022-12-13T19:21:16.778Z"
   },
   {
    "duration": 9,
    "start_time": "2022-12-13T19:21:16.785Z"
   },
   {
    "duration": 317,
    "start_time": "2022-12-13T19:21:16.795Z"
   },
   {
    "duration": 9,
    "start_time": "2022-12-13T19:21:17.113Z"
   },
   {
    "duration": 255,
    "start_time": "2022-12-13T19:21:17.124Z"
   },
   {
    "duration": 13,
    "start_time": "2022-12-13T19:21:17.381Z"
   },
   {
    "duration": 276,
    "start_time": "2022-12-13T19:21:17.395Z"
   },
   {
    "duration": 9,
    "start_time": "2022-12-13T19:21:17.673Z"
   },
   {
    "duration": 133,
    "start_time": "2022-12-13T19:21:17.686Z"
   },
   {
    "duration": 10,
    "start_time": "2022-12-13T19:21:17.821Z"
   },
   {
    "duration": 347,
    "start_time": "2022-12-13T19:21:17.834Z"
   },
   {
    "duration": 12,
    "start_time": "2022-12-13T19:21:18.183Z"
   },
   {
    "duration": 241,
    "start_time": "2022-12-13T19:21:18.207Z"
   },
   {
    "duration": 9,
    "start_time": "2022-12-13T19:21:18.449Z"
   },
   {
    "duration": 239,
    "start_time": "2022-12-13T19:21:18.460Z"
   },
   {
    "duration": 12,
    "start_time": "2022-12-13T19:21:18.700Z"
   },
   {
    "duration": 218,
    "start_time": "2022-12-13T19:21:18.713Z"
   },
   {
    "duration": 9,
    "start_time": "2022-12-13T19:21:18.932Z"
   },
   {
    "duration": 8,
    "start_time": "2022-12-13T19:21:18.942Z"
   },
   {
    "duration": 8,
    "start_time": "2022-12-13T19:21:18.951Z"
   },
   {
    "duration": 8,
    "start_time": "2022-12-13T19:21:18.960Z"
   },
   {
    "duration": 43,
    "start_time": "2022-12-13T19:21:18.969Z"
   },
   {
    "duration": 76,
    "start_time": "2022-12-13T19:22:39.269Z"
   },
   {
    "duration": 364,
    "start_time": "2022-12-13T19:22:50.297Z"
   },
   {
    "duration": 445,
    "start_time": "2022-12-13T19:23:53.583Z"
   },
   {
    "duration": 436,
    "start_time": "2022-12-13T19:25:02.699Z"
   },
   {
    "duration": 206,
    "start_time": "2022-12-13T19:25:14.207Z"
   },
   {
    "duration": 205,
    "start_time": "2022-12-13T19:25:45.030Z"
   },
   {
    "duration": 334,
    "start_time": "2022-12-13T19:26:08.310Z"
   },
   {
    "duration": 1385,
    "start_time": "2022-12-13T19:26:22.942Z"
   },
   {
    "duration": 1515,
    "start_time": "2022-12-13T19:27:16.751Z"
   },
   {
    "duration": 1369,
    "start_time": "2022-12-13T19:27:23.098Z"
   },
   {
    "duration": 1562,
    "start_time": "2022-12-13T19:27:55.484Z"
   },
   {
    "duration": 111,
    "start_time": "2022-12-13T19:38:45.226Z"
   },
   {
    "duration": 44,
    "start_time": "2022-12-13T19:38:56.920Z"
   },
   {
    "duration": 6,
    "start_time": "2022-12-13T19:39:41.821Z"
   },
   {
    "duration": 6,
    "start_time": "2022-12-13T19:39:57.451Z"
   },
   {
    "duration": 9,
    "start_time": "2022-12-13T19:40:07.607Z"
   },
   {
    "duration": 1116,
    "start_time": "2022-12-13T19:40:24.305Z"
   },
   {
    "duration": 91,
    "start_time": "2022-12-13T19:40:25.422Z"
   },
   {
    "duration": 3,
    "start_time": "2022-12-13T19:40:25.515Z"
   },
   {
    "duration": 37,
    "start_time": "2022-12-13T19:40:25.519Z"
   },
   {
    "duration": 14,
    "start_time": "2022-12-13T19:40:25.558Z"
   },
   {
    "duration": 1752,
    "start_time": "2022-12-13T19:40:25.573Z"
   },
   {
    "duration": 9,
    "start_time": "2022-12-13T19:40:27.326Z"
   },
   {
    "duration": 6,
    "start_time": "2022-12-13T19:40:27.337Z"
   },
   {
    "duration": 6,
    "start_time": "2022-12-13T19:40:27.345Z"
   },
   {
    "duration": 5,
    "start_time": "2022-12-13T19:40:27.353Z"
   },
   {
    "duration": 12,
    "start_time": "2022-12-13T19:40:27.359Z"
   },
   {
    "duration": 14,
    "start_time": "2022-12-13T19:40:27.372Z"
   },
   {
    "duration": 20,
    "start_time": "2022-12-13T19:40:27.387Z"
   },
   {
    "duration": 120,
    "start_time": "2022-12-13T19:40:27.410Z"
   },
   {
    "duration": 7,
    "start_time": "2022-12-13T19:40:27.532Z"
   },
   {
    "duration": 7,
    "start_time": "2022-12-13T19:40:27.541Z"
   },
   {
    "duration": 28,
    "start_time": "2022-12-13T19:40:27.550Z"
   },
   {
    "duration": 8,
    "start_time": "2022-12-13T19:40:27.580Z"
   },
   {
    "duration": 11,
    "start_time": "2022-12-13T19:40:27.605Z"
   },
   {
    "duration": 7,
    "start_time": "2022-12-13T19:40:27.618Z"
   },
   {
    "duration": 13,
    "start_time": "2022-12-13T19:40:27.627Z"
   },
   {
    "duration": 12,
    "start_time": "2022-12-13T19:40:27.642Z"
   },
   {
    "duration": 14,
    "start_time": "2022-12-13T19:40:27.658Z"
   },
   {
    "duration": 12,
    "start_time": "2022-12-13T19:40:27.674Z"
   },
   {
    "duration": 20,
    "start_time": "2022-12-13T19:40:27.688Z"
   },
   {
    "duration": 10,
    "start_time": "2022-12-13T19:40:27.710Z"
   },
   {
    "duration": 9,
    "start_time": "2022-12-13T19:40:27.722Z"
   },
   {
    "duration": 11,
    "start_time": "2022-12-13T19:40:27.733Z"
   },
   {
    "duration": 6,
    "start_time": "2022-12-13T19:40:27.745Z"
   },
   {
    "duration": 14,
    "start_time": "2022-12-13T19:40:27.753Z"
   },
   {
    "duration": 4,
    "start_time": "2022-12-13T19:40:27.769Z"
   },
   {
    "duration": 38,
    "start_time": "2022-12-13T19:40:27.775Z"
   },
   {
    "duration": 8,
    "start_time": "2022-12-13T19:40:27.814Z"
   },
   {
    "duration": 333,
    "start_time": "2022-12-13T19:40:27.823Z"
   },
   {
    "duration": 8,
    "start_time": "2022-12-13T19:40:28.158Z"
   },
   {
    "duration": 11,
    "start_time": "2022-12-13T19:40:28.168Z"
   },
   {
    "duration": 377,
    "start_time": "2022-12-13T19:40:28.181Z"
   },
   {
    "duration": 9,
    "start_time": "2022-12-13T19:40:28.560Z"
   },
   {
    "duration": 235,
    "start_time": "2022-12-13T19:40:28.571Z"
   },
   {
    "duration": 9,
    "start_time": "2022-12-13T19:40:28.808Z"
   },
   {
    "duration": 270,
    "start_time": "2022-12-13T19:40:28.820Z"
   },
   {
    "duration": 14,
    "start_time": "2022-12-13T19:40:29.091Z"
   },
   {
    "duration": 1444,
    "start_time": "2022-12-13T19:40:29.107Z"
   },
   {
    "duration": 9,
    "start_time": "2022-12-13T19:40:30.553Z"
   },
   {
    "duration": 396,
    "start_time": "2022-12-13T19:40:30.563Z"
   },
   {
    "duration": 8,
    "start_time": "2022-12-13T19:40:30.961Z"
   },
   {
    "duration": 239,
    "start_time": "2022-12-13T19:40:30.971Z"
   },
   {
    "duration": 8,
    "start_time": "2022-12-13T19:40:31.212Z"
   },
   {
    "duration": 229,
    "start_time": "2022-12-13T19:40:31.221Z"
   },
   {
    "duration": 9,
    "start_time": "2022-12-13T19:40:31.452Z"
   },
   {
    "duration": 232,
    "start_time": "2022-12-13T19:40:31.462Z"
   },
   {
    "duration": 12,
    "start_time": "2022-12-13T19:40:31.696Z"
   },
   {
    "duration": 18,
    "start_time": "2022-12-13T19:40:31.710Z"
   },
   {
    "duration": 22,
    "start_time": "2022-12-13T19:40:31.729Z"
   },
   {
    "duration": 16,
    "start_time": "2022-12-13T19:40:31.753Z"
   },
   {
    "duration": 11,
    "start_time": "2022-12-13T19:40:31.772Z"
   },
   {
    "duration": 73,
    "start_time": "2022-12-13T19:43:19.075Z"
   },
   {
    "duration": 95,
    "start_time": "2022-12-13T19:43:24.286Z"
   },
   {
    "duration": 13,
    "start_time": "2022-12-13T19:43:35.099Z"
   },
   {
    "duration": 734,
    "start_time": "2022-12-13T19:43:48.011Z"
   },
   {
    "duration": 150,
    "start_time": "2022-12-13T19:44:24.731Z"
   },
   {
    "duration": 8,
    "start_time": "2022-12-13T19:44:29.476Z"
   },
   {
    "duration": 2,
    "start_time": "2022-12-13T19:45:41.692Z"
   },
   {
    "duration": 1196,
    "start_time": "2022-12-13T19:45:46.405Z"
   },
   {
    "duration": 96,
    "start_time": "2022-12-13T19:45:47.605Z"
   },
   {
    "duration": 2,
    "start_time": "2022-12-13T19:45:47.703Z"
   },
   {
    "duration": 41,
    "start_time": "2022-12-13T19:45:47.707Z"
   },
   {
    "duration": 13,
    "start_time": "2022-12-13T19:45:47.750Z"
   },
   {
    "duration": 1908,
    "start_time": "2022-12-13T19:45:47.765Z"
   },
   {
    "duration": 9,
    "start_time": "2022-12-13T19:45:49.675Z"
   },
   {
    "duration": 17,
    "start_time": "2022-12-13T19:45:49.685Z"
   },
   {
    "duration": 18,
    "start_time": "2022-12-13T19:45:49.703Z"
   },
   {
    "duration": 7,
    "start_time": "2022-12-13T19:45:49.724Z"
   },
   {
    "duration": 16,
    "start_time": "2022-12-13T19:45:49.733Z"
   },
   {
    "duration": 13,
    "start_time": "2022-12-13T19:45:49.751Z"
   },
   {
    "duration": 93,
    "start_time": "2022-12-13T19:45:49.766Z"
   },
   {
    "duration": 38,
    "start_time": "2022-12-13T19:45:49.861Z"
   },
   {
    "duration": 6,
    "start_time": "2022-12-13T19:45:49.901Z"
   },
   {
    "duration": 19,
    "start_time": "2022-12-13T19:45:49.909Z"
   },
   {
    "duration": 26,
    "start_time": "2022-12-13T19:45:49.930Z"
   },
   {
    "duration": 7,
    "start_time": "2022-12-13T19:45:49.958Z"
   },
   {
    "duration": 25,
    "start_time": "2022-12-13T19:45:49.966Z"
   },
   {
    "duration": 8,
    "start_time": "2022-12-13T19:45:49.993Z"
   },
   {
    "duration": 23,
    "start_time": "2022-12-13T19:45:50.002Z"
   },
   {
    "duration": 22,
    "start_time": "2022-12-13T19:45:50.027Z"
   },
   {
    "duration": 9,
    "start_time": "2022-12-13T19:45:50.050Z"
   },
   {
    "duration": 16,
    "start_time": "2022-12-13T19:45:50.061Z"
   },
   {
    "duration": 74,
    "start_time": "2022-12-13T19:45:50.078Z"
   },
   {
    "duration": 0,
    "start_time": "2022-12-13T19:45:50.155Z"
   },
   {
    "duration": 0,
    "start_time": "2022-12-13T19:45:50.156Z"
   },
   {
    "duration": 0,
    "start_time": "2022-12-13T19:45:50.158Z"
   },
   {
    "duration": 0,
    "start_time": "2022-12-13T19:45:50.160Z"
   },
   {
    "duration": 0,
    "start_time": "2022-12-13T19:45:50.161Z"
   },
   {
    "duration": 0,
    "start_time": "2022-12-13T19:45:50.162Z"
   },
   {
    "duration": 0,
    "start_time": "2022-12-13T19:45:50.164Z"
   },
   {
    "duration": 0,
    "start_time": "2022-12-13T19:45:50.165Z"
   },
   {
    "duration": 0,
    "start_time": "2022-12-13T19:45:50.167Z"
   },
   {
    "duration": 0,
    "start_time": "2022-12-13T19:45:50.169Z"
   },
   {
    "duration": 0,
    "start_time": "2022-12-13T19:45:50.170Z"
   },
   {
    "duration": 0,
    "start_time": "2022-12-13T19:45:50.172Z"
   },
   {
    "duration": 0,
    "start_time": "2022-12-13T19:45:50.173Z"
   },
   {
    "duration": 0,
    "start_time": "2022-12-13T19:45:50.175Z"
   },
   {
    "duration": 0,
    "start_time": "2022-12-13T19:45:50.176Z"
   },
   {
    "duration": 0,
    "start_time": "2022-12-13T19:45:50.178Z"
   },
   {
    "duration": 0,
    "start_time": "2022-12-13T19:45:50.179Z"
   },
   {
    "duration": 0,
    "start_time": "2022-12-13T19:45:50.180Z"
   },
   {
    "duration": 0,
    "start_time": "2022-12-13T19:45:50.181Z"
   },
   {
    "duration": 0,
    "start_time": "2022-12-13T19:45:50.182Z"
   },
   {
    "duration": 0,
    "start_time": "2022-12-13T19:45:50.183Z"
   },
   {
    "duration": 0,
    "start_time": "2022-12-13T19:45:50.184Z"
   },
   {
    "duration": 0,
    "start_time": "2022-12-13T19:45:50.185Z"
   },
   {
    "duration": 0,
    "start_time": "2022-12-13T19:45:50.186Z"
   },
   {
    "duration": 0,
    "start_time": "2022-12-13T19:45:50.187Z"
   },
   {
    "duration": 0,
    "start_time": "2022-12-13T19:45:50.189Z"
   },
   {
    "duration": 0,
    "start_time": "2022-12-13T19:45:50.190Z"
   },
   {
    "duration": 0,
    "start_time": "2022-12-13T19:45:50.190Z"
   },
   {
    "duration": 0,
    "start_time": "2022-12-13T19:45:50.191Z"
   },
   {
    "duration": 0,
    "start_time": "2022-12-13T19:45:50.204Z"
   },
   {
    "duration": 0,
    "start_time": "2022-12-13T19:45:50.205Z"
   },
   {
    "duration": 1041,
    "start_time": "2022-12-13T19:46:32.348Z"
   },
   {
    "duration": 93,
    "start_time": "2022-12-13T19:46:33.392Z"
   },
   {
    "duration": 2,
    "start_time": "2022-12-13T19:46:33.486Z"
   },
   {
    "duration": 36,
    "start_time": "2022-12-13T19:46:33.490Z"
   },
   {
    "duration": 13,
    "start_time": "2022-12-13T19:46:33.528Z"
   },
   {
    "duration": 1839,
    "start_time": "2022-12-13T19:46:33.542Z"
   },
   {
    "duration": 10,
    "start_time": "2022-12-13T19:46:35.383Z"
   },
   {
    "duration": 5,
    "start_time": "2022-12-13T19:46:35.394Z"
   },
   {
    "duration": 5,
    "start_time": "2022-12-13T19:46:35.401Z"
   },
   {
    "duration": 5,
    "start_time": "2022-12-13T19:46:35.408Z"
   },
   {
    "duration": 9,
    "start_time": "2022-12-13T19:46:35.414Z"
   },
   {
    "duration": 13,
    "start_time": "2022-12-13T19:46:35.424Z"
   },
   {
    "duration": 7,
    "start_time": "2022-12-13T19:46:35.439Z"
   },
   {
    "duration": 13,
    "start_time": "2022-12-13T19:46:35.449Z"
   },
   {
    "duration": 5,
    "start_time": "2022-12-13T19:46:35.464Z"
   },
   {
    "duration": 7,
    "start_time": "2022-12-13T19:46:35.471Z"
   },
   {
    "duration": 42,
    "start_time": "2022-12-13T19:46:35.479Z"
   },
   {
    "duration": 5,
    "start_time": "2022-12-13T19:46:35.522Z"
   },
   {
    "duration": 10,
    "start_time": "2022-12-13T19:46:35.528Z"
   },
   {
    "duration": 7,
    "start_time": "2022-12-13T19:46:35.539Z"
   },
   {
    "duration": 6,
    "start_time": "2022-12-13T19:46:35.547Z"
   },
   {
    "duration": 5,
    "start_time": "2022-12-13T19:46:35.555Z"
   },
   {
    "duration": 9,
    "start_time": "2022-12-13T19:46:35.561Z"
   },
   {
    "duration": 40,
    "start_time": "2022-12-13T19:46:35.572Z"
   },
   {
    "duration": 67,
    "start_time": "2022-12-13T19:46:35.614Z"
   },
   {
    "duration": 0,
    "start_time": "2022-12-13T19:46:35.683Z"
   },
   {
    "duration": 1,
    "start_time": "2022-12-13T19:46:35.684Z"
   },
   {
    "duration": 0,
    "start_time": "2022-12-13T19:46:35.686Z"
   },
   {
    "duration": 0,
    "start_time": "2022-12-13T19:46:35.687Z"
   },
   {
    "duration": 0,
    "start_time": "2022-12-13T19:46:35.689Z"
   },
   {
    "duration": 0,
    "start_time": "2022-12-13T19:46:35.690Z"
   },
   {
    "duration": 0,
    "start_time": "2022-12-13T19:46:35.691Z"
   },
   {
    "duration": 0,
    "start_time": "2022-12-13T19:46:35.693Z"
   },
   {
    "duration": 0,
    "start_time": "2022-12-13T19:46:35.694Z"
   },
   {
    "duration": 1,
    "start_time": "2022-12-13T19:46:35.695Z"
   },
   {
    "duration": 0,
    "start_time": "2022-12-13T19:46:35.697Z"
   },
   {
    "duration": 0,
    "start_time": "2022-12-13T19:46:35.698Z"
   },
   {
    "duration": 0,
    "start_time": "2022-12-13T19:46:35.699Z"
   },
   {
    "duration": 0,
    "start_time": "2022-12-13T19:46:35.701Z"
   },
   {
    "duration": 0,
    "start_time": "2022-12-13T19:46:35.702Z"
   },
   {
    "duration": 0,
    "start_time": "2022-12-13T19:46:35.703Z"
   },
   {
    "duration": 0,
    "start_time": "2022-12-13T19:46:35.705Z"
   },
   {
    "duration": 0,
    "start_time": "2022-12-13T19:46:35.706Z"
   },
   {
    "duration": 0,
    "start_time": "2022-12-13T19:46:35.708Z"
   },
   {
    "duration": 0,
    "start_time": "2022-12-13T19:46:35.709Z"
   },
   {
    "duration": 0,
    "start_time": "2022-12-13T19:46:35.710Z"
   },
   {
    "duration": 0,
    "start_time": "2022-12-13T19:46:35.711Z"
   },
   {
    "duration": 0,
    "start_time": "2022-12-13T19:46:35.712Z"
   },
   {
    "duration": 0,
    "start_time": "2022-12-13T19:46:35.712Z"
   },
   {
    "duration": 0,
    "start_time": "2022-12-13T19:46:35.713Z"
   },
   {
    "duration": 0,
    "start_time": "2022-12-13T19:46:35.714Z"
   },
   {
    "duration": 0,
    "start_time": "2022-12-13T19:46:35.715Z"
   },
   {
    "duration": 0,
    "start_time": "2022-12-13T19:46:35.716Z"
   },
   {
    "duration": 0,
    "start_time": "2022-12-13T19:46:35.716Z"
   },
   {
    "duration": 0,
    "start_time": "2022-12-13T19:46:35.717Z"
   },
   {
    "duration": 0,
    "start_time": "2022-12-13T19:46:35.718Z"
   },
   {
    "duration": 602,
    "start_time": "2022-12-13T19:48:19.000Z"
   },
   {
    "duration": 572,
    "start_time": "2022-12-13T19:49:14.358Z"
   },
   {
    "duration": 10,
    "start_time": "2022-12-13T19:49:39.926Z"
   },
   {
    "duration": 1127,
    "start_time": "2022-12-13T19:53:21.873Z"
   },
   {
    "duration": 91,
    "start_time": "2022-12-13T19:53:23.002Z"
   },
   {
    "duration": 2,
    "start_time": "2022-12-13T19:53:23.095Z"
   },
   {
    "duration": 39,
    "start_time": "2022-12-13T19:53:23.098Z"
   },
   {
    "duration": 14,
    "start_time": "2022-12-13T19:53:23.138Z"
   },
   {
    "duration": 1824,
    "start_time": "2022-12-13T19:53:23.153Z"
   },
   {
    "duration": 9,
    "start_time": "2022-12-13T19:53:24.979Z"
   },
   {
    "duration": 12,
    "start_time": "2022-12-13T19:53:24.989Z"
   },
   {
    "duration": 27,
    "start_time": "2022-12-13T19:53:25.002Z"
   },
   {
    "duration": 15,
    "start_time": "2022-12-13T19:53:25.031Z"
   },
   {
    "duration": 7,
    "start_time": "2022-12-13T19:53:25.047Z"
   },
   {
    "duration": 36,
    "start_time": "2022-12-13T19:53:25.055Z"
   },
   {
    "duration": 8,
    "start_time": "2022-12-13T19:53:25.092Z"
   },
   {
    "duration": 20,
    "start_time": "2022-12-13T19:53:25.102Z"
   },
   {
    "duration": 11,
    "start_time": "2022-12-13T19:53:25.124Z"
   },
   {
    "duration": 16,
    "start_time": "2022-12-13T19:53:25.136Z"
   },
   {
    "duration": 24,
    "start_time": "2022-12-13T19:53:25.154Z"
   },
   {
    "duration": 5,
    "start_time": "2022-12-13T19:53:25.180Z"
   },
   {
    "duration": 11,
    "start_time": "2022-12-13T19:53:25.187Z"
   },
   {
    "duration": 19,
    "start_time": "2022-12-13T19:53:25.199Z"
   },
   {
    "duration": 25,
    "start_time": "2022-12-13T19:53:25.219Z"
   },
   {
    "duration": 10,
    "start_time": "2022-12-13T19:53:25.245Z"
   },
   {
    "duration": 26,
    "start_time": "2022-12-13T19:53:25.256Z"
   },
   {
    "duration": 8,
    "start_time": "2022-12-13T19:53:25.284Z"
   },
   {
    "duration": 549,
    "start_time": "2022-12-13T19:53:25.293Z"
   },
   {
    "duration": 9,
    "start_time": "2022-12-13T19:53:25.844Z"
   },
   {
    "duration": 11,
    "start_time": "2022-12-13T19:53:25.855Z"
   },
   {
    "duration": 17,
    "start_time": "2022-12-13T19:53:25.868Z"
   },
   {
    "duration": 40,
    "start_time": "2022-12-13T19:53:25.887Z"
   },
   {
    "duration": 10,
    "start_time": "2022-12-13T19:53:25.929Z"
   },
   {
    "duration": 21,
    "start_time": "2022-12-13T19:53:25.941Z"
   },
   {
    "duration": 5,
    "start_time": "2022-12-13T19:53:25.963Z"
   },
   {
    "duration": 33,
    "start_time": "2022-12-13T19:53:25.970Z"
   },
   {
    "duration": 29,
    "start_time": "2022-12-13T19:53:26.005Z"
   },
   {
    "duration": 361,
    "start_time": "2022-12-13T19:53:26.036Z"
   },
   {
    "duration": 11,
    "start_time": "2022-12-13T19:53:26.398Z"
   },
   {
    "duration": 26,
    "start_time": "2022-12-13T19:53:26.411Z"
   },
   {
    "duration": 315,
    "start_time": "2022-12-13T19:53:26.439Z"
   },
   {
    "duration": 9,
    "start_time": "2022-12-13T19:53:26.755Z"
   },
   {
    "duration": 339,
    "start_time": "2022-12-13T19:53:26.765Z"
   },
   {
    "duration": 9,
    "start_time": "2022-12-13T19:53:27.108Z"
   },
   {
    "duration": 223,
    "start_time": "2022-12-13T19:53:27.118Z"
   },
   {
    "duration": 8,
    "start_time": "2022-12-13T19:53:27.343Z"
   },
   {
    "duration": 1552,
    "start_time": "2022-12-13T19:53:27.353Z"
   },
   {
    "duration": 8,
    "start_time": "2022-12-13T19:53:28.906Z"
   },
   {
    "duration": 252,
    "start_time": "2022-12-13T19:53:28.916Z"
   },
   {
    "duration": 10,
    "start_time": "2022-12-13T19:53:29.170Z"
   },
   {
    "duration": 256,
    "start_time": "2022-12-13T19:53:29.182Z"
   },
   {
    "duration": 8,
    "start_time": "2022-12-13T19:53:29.439Z"
   },
   {
    "duration": 236,
    "start_time": "2022-12-13T19:53:29.449Z"
   },
   {
    "duration": 9,
    "start_time": "2022-12-13T19:53:29.687Z"
   },
   {
    "duration": 373,
    "start_time": "2022-12-13T19:53:29.704Z"
   },
   {
    "duration": 9,
    "start_time": "2022-12-13T19:53:30.078Z"
   },
   {
    "duration": 18,
    "start_time": "2022-12-13T19:53:30.089Z"
   },
   {
    "duration": 18,
    "start_time": "2022-12-13T19:53:30.109Z"
   },
   {
    "duration": 19,
    "start_time": "2022-12-13T19:53:30.129Z"
   },
   {
    "duration": 21,
    "start_time": "2022-12-13T19:53:30.150Z"
   },
   {
    "duration": 1429,
    "start_time": "2022-12-13T19:53:41.490Z"
   },
   {
    "duration": 234,
    "start_time": "2022-12-13T19:56:07.595Z"
   },
   {
    "duration": 209,
    "start_time": "2022-12-13T19:58:48.652Z"
   },
   {
    "duration": 199,
    "start_time": "2022-12-13T20:02:40.720Z"
   },
   {
    "duration": 201,
    "start_time": "2022-12-13T20:04:45.785Z"
   },
   {
    "duration": 312,
    "start_time": "2022-12-13T20:11:30.727Z"
   },
   {
    "duration": 201,
    "start_time": "2022-12-13T20:13:50.927Z"
   },
   {
    "duration": 412,
    "start_time": "2022-12-13T20:13:53.265Z"
   },
   {
    "duration": 5,
    "start_time": "2022-12-13T20:38:20.304Z"
   },
   {
    "duration": 129,
    "start_time": "2022-12-13T20:38:31.418Z"
   },
   {
    "duration": 183,
    "start_time": "2022-12-13T20:39:01.648Z"
   },
   {
    "duration": 4,
    "start_time": "2022-12-13T20:39:56.968Z"
   },
   {
    "duration": 6,
    "start_time": "2022-12-13T20:40:04.488Z"
   },
   {
    "duration": 211,
    "start_time": "2022-12-13T20:43:39.115Z"
   },
   {
    "duration": 67,
    "start_time": "2022-12-13T20:58:39.455Z"
   },
   {
    "duration": 94,
    "start_time": "2022-12-13T20:58:46.975Z"
   },
   {
    "duration": 10,
    "start_time": "2022-12-13T20:59:06.063Z"
   },
   {
    "duration": 16,
    "start_time": "2022-12-13T20:59:41.439Z"
   },
   {
    "duration": 19,
    "start_time": "2022-12-13T20:59:56.987Z"
   },
   {
    "duration": 9,
    "start_time": "2022-12-13T21:01:48.330Z"
   },
   {
    "duration": 220,
    "start_time": "2022-12-13T21:01:56.474Z"
   },
   {
    "duration": 1187,
    "start_time": "2022-12-13T21:04:58.276Z"
   },
   {
    "duration": 1252,
    "start_time": "2022-12-13T21:05:51.956Z"
   },
   {
    "duration": 1191,
    "start_time": "2022-12-13T21:06:04.598Z"
   },
   {
    "duration": 1239,
    "start_time": "2022-12-13T21:06:21.055Z"
   },
   {
    "duration": 1241,
    "start_time": "2022-12-13T21:06:50.117Z"
   },
   {
    "duration": 1060,
    "start_time": "2022-12-13T21:07:07.630Z"
   },
   {
    "duration": 90,
    "start_time": "2022-12-13T21:07:08.692Z"
   },
   {
    "duration": 2,
    "start_time": "2022-12-13T21:07:08.784Z"
   },
   {
    "duration": 34,
    "start_time": "2022-12-13T21:07:08.788Z"
   },
   {
    "duration": 13,
    "start_time": "2022-12-13T21:07:08.823Z"
   },
   {
    "duration": 1780,
    "start_time": "2022-12-13T21:07:08.837Z"
   },
   {
    "duration": 9,
    "start_time": "2022-12-13T21:07:10.618Z"
   },
   {
    "duration": 5,
    "start_time": "2022-12-13T21:07:10.629Z"
   },
   {
    "duration": 6,
    "start_time": "2022-12-13T21:07:10.635Z"
   },
   {
    "duration": 4,
    "start_time": "2022-12-13T21:07:10.643Z"
   },
   {
    "duration": 6,
    "start_time": "2022-12-13T21:07:10.648Z"
   },
   {
    "duration": 16,
    "start_time": "2022-12-13T21:07:10.655Z"
   },
   {
    "duration": 7,
    "start_time": "2022-12-13T21:07:10.673Z"
   },
   {
    "duration": 26,
    "start_time": "2022-12-13T21:07:10.681Z"
   },
   {
    "duration": 6,
    "start_time": "2022-12-13T21:07:10.709Z"
   },
   {
    "duration": 7,
    "start_time": "2022-12-13T21:07:10.716Z"
   },
   {
    "duration": 16,
    "start_time": "2022-12-13T21:07:10.724Z"
   },
   {
    "duration": 5,
    "start_time": "2022-12-13T21:07:10.742Z"
   },
   {
    "duration": 9,
    "start_time": "2022-12-13T21:07:10.749Z"
   },
   {
    "duration": 6,
    "start_time": "2022-12-13T21:07:10.760Z"
   },
   {
    "duration": 4,
    "start_time": "2022-12-13T21:07:10.767Z"
   },
   {
    "duration": 34,
    "start_time": "2022-12-13T21:07:10.773Z"
   },
   {
    "duration": 8,
    "start_time": "2022-12-13T21:07:10.808Z"
   },
   {
    "duration": 6,
    "start_time": "2022-12-13T21:07:10.818Z"
   },
   {
    "duration": 552,
    "start_time": "2022-12-13T21:07:10.826Z"
   },
   {
    "duration": 9,
    "start_time": "2022-12-13T21:07:11.380Z"
   },
   {
    "duration": 20,
    "start_time": "2022-12-13T21:07:11.391Z"
   },
   {
    "duration": 7,
    "start_time": "2022-12-13T21:07:11.415Z"
   },
   {
    "duration": 395,
    "start_time": "2022-12-13T21:07:11.424Z"
   },
   {
    "duration": 0,
    "start_time": "2022-12-13T21:07:11.821Z"
   },
   {
    "duration": 0,
    "start_time": "2022-12-13T21:07:11.822Z"
   },
   {
    "duration": 0,
    "start_time": "2022-12-13T21:07:11.824Z"
   },
   {
    "duration": 0,
    "start_time": "2022-12-13T21:07:11.825Z"
   },
   {
    "duration": 0,
    "start_time": "2022-12-13T21:07:11.827Z"
   },
   {
    "duration": 0,
    "start_time": "2022-12-13T21:07:11.828Z"
   },
   {
    "duration": 0,
    "start_time": "2022-12-13T21:07:11.830Z"
   },
   {
    "duration": 0,
    "start_time": "2022-12-13T21:07:11.831Z"
   },
   {
    "duration": 0,
    "start_time": "2022-12-13T21:07:11.832Z"
   },
   {
    "duration": 0,
    "start_time": "2022-12-13T21:07:11.834Z"
   },
   {
    "duration": 0,
    "start_time": "2022-12-13T21:07:11.836Z"
   },
   {
    "duration": 0,
    "start_time": "2022-12-13T21:07:11.837Z"
   },
   {
    "duration": 0,
    "start_time": "2022-12-13T21:07:11.838Z"
   },
   {
    "duration": 0,
    "start_time": "2022-12-13T21:07:11.840Z"
   },
   {
    "duration": 0,
    "start_time": "2022-12-13T21:07:11.841Z"
   },
   {
    "duration": 0,
    "start_time": "2022-12-13T21:07:11.842Z"
   },
   {
    "duration": 0,
    "start_time": "2022-12-13T21:07:11.844Z"
   },
   {
    "duration": 0,
    "start_time": "2022-12-13T21:07:11.845Z"
   },
   {
    "duration": 0,
    "start_time": "2022-12-13T21:07:11.847Z"
   },
   {
    "duration": 0,
    "start_time": "2022-12-13T21:07:11.848Z"
   },
   {
    "duration": 0,
    "start_time": "2022-12-13T21:07:11.849Z"
   },
   {
    "duration": 0,
    "start_time": "2022-12-13T21:07:11.850Z"
   },
   {
    "duration": 0,
    "start_time": "2022-12-13T21:07:11.851Z"
   },
   {
    "duration": 0,
    "start_time": "2022-12-13T21:07:11.905Z"
   },
   {
    "duration": 0,
    "start_time": "2022-12-13T21:07:11.906Z"
   },
   {
    "duration": 0,
    "start_time": "2022-12-13T21:07:11.907Z"
   },
   {
    "duration": 0,
    "start_time": "2022-12-13T21:07:11.908Z"
   },
   {
    "duration": 0,
    "start_time": "2022-12-13T21:07:11.909Z"
   },
   {
    "duration": 0,
    "start_time": "2022-12-13T21:07:11.910Z"
   },
   {
    "duration": 0,
    "start_time": "2022-12-13T21:07:11.911Z"
   },
   {
    "duration": 0,
    "start_time": "2022-12-13T21:07:11.912Z"
   },
   {
    "duration": 0,
    "start_time": "2022-12-13T21:07:11.913Z"
   },
   {
    "duration": 0,
    "start_time": "2022-12-13T21:07:11.913Z"
   },
   {
    "duration": 0,
    "start_time": "2022-12-13T21:07:11.914Z"
   },
   {
    "duration": 0,
    "start_time": "2022-12-13T21:07:11.915Z"
   },
   {
    "duration": 0,
    "start_time": "2022-12-13T21:07:11.916Z"
   },
   {
    "duration": 0,
    "start_time": "2022-12-13T21:07:11.917Z"
   },
   {
    "duration": 0,
    "start_time": "2022-12-13T21:07:11.918Z"
   },
   {
    "duration": 0,
    "start_time": "2022-12-13T21:07:11.919Z"
   },
   {
    "duration": 0,
    "start_time": "2022-12-13T21:07:11.921Z"
   },
   {
    "duration": 1282,
    "start_time": "2022-12-13T21:07:16.276Z"
   },
   {
    "duration": 10,
    "start_time": "2022-12-13T21:07:28.430Z"
   },
   {
    "duration": 1133,
    "start_time": "2022-12-13T21:07:54.187Z"
   },
   {
    "duration": 90,
    "start_time": "2022-12-13T21:07:55.322Z"
   },
   {
    "duration": 3,
    "start_time": "2022-12-13T21:07:55.413Z"
   },
   {
    "duration": 34,
    "start_time": "2022-12-13T21:07:55.417Z"
   },
   {
    "duration": 13,
    "start_time": "2022-12-13T21:07:55.453Z"
   },
   {
    "duration": 1866,
    "start_time": "2022-12-13T21:07:55.467Z"
   },
   {
    "duration": 13,
    "start_time": "2022-12-13T21:07:57.336Z"
   },
   {
    "duration": 10,
    "start_time": "2022-12-13T21:07:57.351Z"
   },
   {
    "duration": 9,
    "start_time": "2022-12-13T21:07:57.363Z"
   },
   {
    "duration": 11,
    "start_time": "2022-12-13T21:07:57.374Z"
   },
   {
    "duration": 17,
    "start_time": "2022-12-13T21:07:57.387Z"
   },
   {
    "duration": 21,
    "start_time": "2022-12-13T21:07:57.406Z"
   },
   {
    "duration": 7,
    "start_time": "2022-12-13T21:07:57.429Z"
   },
   {
    "duration": 15,
    "start_time": "2022-12-13T21:07:57.440Z"
   },
   {
    "duration": 7,
    "start_time": "2022-12-13T21:07:57.457Z"
   },
   {
    "duration": 6,
    "start_time": "2022-12-13T21:07:57.466Z"
   },
   {
    "duration": 41,
    "start_time": "2022-12-13T21:07:57.474Z"
   },
   {
    "duration": 5,
    "start_time": "2022-12-13T21:07:57.517Z"
   },
   {
    "duration": 8,
    "start_time": "2022-12-13T21:07:57.524Z"
   },
   {
    "duration": 6,
    "start_time": "2022-12-13T21:07:57.533Z"
   },
   {
    "duration": 6,
    "start_time": "2022-12-13T21:07:57.540Z"
   },
   {
    "duration": 10,
    "start_time": "2022-12-13T21:07:57.547Z"
   },
   {
    "duration": 9,
    "start_time": "2022-12-13T21:07:57.558Z"
   },
   {
    "duration": 36,
    "start_time": "2022-12-13T21:07:57.569Z"
   },
   {
    "duration": 574,
    "start_time": "2022-12-13T21:07:57.607Z"
   },
   {
    "duration": 22,
    "start_time": "2022-12-13T21:07:58.183Z"
   },
   {
    "duration": 14,
    "start_time": "2022-12-13T21:07:58.207Z"
   },
   {
    "duration": 8,
    "start_time": "2022-12-13T21:07:58.222Z"
   },
   {
    "duration": 429,
    "start_time": "2022-12-13T21:07:58.231Z"
   },
   {
    "duration": 0,
    "start_time": "2022-12-13T21:07:58.663Z"
   },
   {
    "duration": 0,
    "start_time": "2022-12-13T21:07:58.664Z"
   },
   {
    "duration": 0,
    "start_time": "2022-12-13T21:07:58.665Z"
   },
   {
    "duration": 0,
    "start_time": "2022-12-13T21:07:58.667Z"
   },
   {
    "duration": 0,
    "start_time": "2022-12-13T21:07:58.668Z"
   },
   {
    "duration": 0,
    "start_time": "2022-12-13T21:07:58.669Z"
   },
   {
    "duration": 0,
    "start_time": "2022-12-13T21:07:58.671Z"
   },
   {
    "duration": 0,
    "start_time": "2022-12-13T21:07:58.672Z"
   },
   {
    "duration": 0,
    "start_time": "2022-12-13T21:07:58.674Z"
   },
   {
    "duration": 0,
    "start_time": "2022-12-13T21:07:58.675Z"
   },
   {
    "duration": 0,
    "start_time": "2022-12-13T21:07:58.676Z"
   },
   {
    "duration": 0,
    "start_time": "2022-12-13T21:07:58.705Z"
   },
   {
    "duration": 0,
    "start_time": "2022-12-13T21:07:58.706Z"
   },
   {
    "duration": 0,
    "start_time": "2022-12-13T21:07:58.708Z"
   },
   {
    "duration": 0,
    "start_time": "2022-12-13T21:07:58.709Z"
   },
   {
    "duration": 0,
    "start_time": "2022-12-13T21:07:58.711Z"
   },
   {
    "duration": 0,
    "start_time": "2022-12-13T21:07:58.712Z"
   },
   {
    "duration": 0,
    "start_time": "2022-12-13T21:07:58.713Z"
   },
   {
    "duration": 0,
    "start_time": "2022-12-13T21:07:58.713Z"
   },
   {
    "duration": 0,
    "start_time": "2022-12-13T21:07:58.714Z"
   },
   {
    "duration": 0,
    "start_time": "2022-12-13T21:07:58.715Z"
   },
   {
    "duration": 0,
    "start_time": "2022-12-13T21:07:58.716Z"
   },
   {
    "duration": 0,
    "start_time": "2022-12-13T21:07:58.717Z"
   },
   {
    "duration": 0,
    "start_time": "2022-12-13T21:07:58.718Z"
   },
   {
    "duration": 0,
    "start_time": "2022-12-13T21:07:58.719Z"
   },
   {
    "duration": 0,
    "start_time": "2022-12-13T21:07:58.720Z"
   },
   {
    "duration": 0,
    "start_time": "2022-12-13T21:07:58.721Z"
   },
   {
    "duration": 0,
    "start_time": "2022-12-13T21:07:58.722Z"
   },
   {
    "duration": 0,
    "start_time": "2022-12-13T21:07:58.724Z"
   },
   {
    "duration": 0,
    "start_time": "2022-12-13T21:07:58.724Z"
   },
   {
    "duration": 0,
    "start_time": "2022-12-13T21:07:58.726Z"
   },
   {
    "duration": 0,
    "start_time": "2022-12-13T21:07:58.726Z"
   },
   {
    "duration": 0,
    "start_time": "2022-12-13T21:07:58.727Z"
   },
   {
    "duration": 0,
    "start_time": "2022-12-13T21:07:58.729Z"
   },
   {
    "duration": 0,
    "start_time": "2022-12-13T21:07:58.730Z"
   },
   {
    "duration": 0,
    "start_time": "2022-12-13T21:07:58.731Z"
   },
   {
    "duration": 0,
    "start_time": "2022-12-13T21:07:58.732Z"
   },
   {
    "duration": 0,
    "start_time": "2022-12-13T21:07:58.733Z"
   },
   {
    "duration": 0,
    "start_time": "2022-12-13T21:07:58.734Z"
   },
   {
    "duration": 0,
    "start_time": "2022-12-13T21:07:58.735Z"
   },
   {
    "duration": 10,
    "start_time": "2022-12-13T21:08:25.305Z"
   },
   {
    "duration": 297,
    "start_time": "2022-12-13T21:08:42.289Z"
   },
   {
    "duration": 1116,
    "start_time": "2022-12-13T21:08:52.573Z"
   },
   {
    "duration": 94,
    "start_time": "2022-12-13T21:08:53.690Z"
   },
   {
    "duration": 3,
    "start_time": "2022-12-13T21:08:53.785Z"
   },
   {
    "duration": 32,
    "start_time": "2022-12-13T21:08:53.789Z"
   },
   {
    "duration": 13,
    "start_time": "2022-12-13T21:08:53.823Z"
   },
   {
    "duration": 1857,
    "start_time": "2022-12-13T21:08:53.837Z"
   },
   {
    "duration": 10,
    "start_time": "2022-12-13T21:08:55.696Z"
   },
   {
    "duration": 6,
    "start_time": "2022-12-13T21:08:55.708Z"
   },
   {
    "duration": 8,
    "start_time": "2022-12-13T21:08:55.715Z"
   },
   {
    "duration": 5,
    "start_time": "2022-12-13T21:08:55.724Z"
   },
   {
    "duration": 6,
    "start_time": "2022-12-13T21:08:55.730Z"
   },
   {
    "duration": 20,
    "start_time": "2022-12-13T21:08:55.738Z"
   },
   {
    "duration": 11,
    "start_time": "2022-12-13T21:08:55.760Z"
   },
   {
    "duration": 13,
    "start_time": "2022-12-13T21:08:55.807Z"
   },
   {
    "duration": 6,
    "start_time": "2022-12-13T21:08:55.822Z"
   },
   {
    "duration": 10,
    "start_time": "2022-12-13T21:08:55.829Z"
   },
   {
    "duration": 21,
    "start_time": "2022-12-13T21:08:55.840Z"
   },
   {
    "duration": 5,
    "start_time": "2022-12-13T21:08:55.863Z"
   },
   {
    "duration": 9,
    "start_time": "2022-12-13T21:08:55.869Z"
   },
   {
    "duration": 8,
    "start_time": "2022-12-13T21:08:55.904Z"
   },
   {
    "duration": 8,
    "start_time": "2022-12-13T21:08:55.914Z"
   },
   {
    "duration": 7,
    "start_time": "2022-12-13T21:08:55.925Z"
   },
   {
    "duration": 14,
    "start_time": "2022-12-13T21:08:55.933Z"
   },
   {
    "duration": 9,
    "start_time": "2022-12-13T21:08:55.948Z"
   },
   {
    "duration": 639,
    "start_time": "2022-12-13T21:08:55.959Z"
   },
   {
    "duration": 12,
    "start_time": "2022-12-13T21:08:56.599Z"
   },
   {
    "duration": 148,
    "start_time": "2022-12-13T21:08:56.612Z"
   },
   {
    "duration": 7,
    "start_time": "2022-12-13T21:08:56.761Z"
   },
   {
    "duration": 392,
    "start_time": "2022-12-13T21:08:56.769Z"
   },
   {
    "duration": 0,
    "start_time": "2022-12-13T21:08:57.164Z"
   },
   {
    "duration": 0,
    "start_time": "2022-12-13T21:08:57.165Z"
   },
   {
    "duration": 0,
    "start_time": "2022-12-13T21:08:57.166Z"
   },
   {
    "duration": 0,
    "start_time": "2022-12-13T21:08:57.167Z"
   },
   {
    "duration": 0,
    "start_time": "2022-12-13T21:08:57.168Z"
   },
   {
    "duration": 0,
    "start_time": "2022-12-13T21:08:57.169Z"
   },
   {
    "duration": 0,
    "start_time": "2022-12-13T21:08:57.170Z"
   },
   {
    "duration": 0,
    "start_time": "2022-12-13T21:08:57.171Z"
   },
   {
    "duration": 0,
    "start_time": "2022-12-13T21:08:57.172Z"
   },
   {
    "duration": 0,
    "start_time": "2022-12-13T21:08:57.173Z"
   },
   {
    "duration": 0,
    "start_time": "2022-12-13T21:08:57.174Z"
   },
   {
    "duration": 0,
    "start_time": "2022-12-13T21:08:57.174Z"
   },
   {
    "duration": 0,
    "start_time": "2022-12-13T21:08:57.175Z"
   },
   {
    "duration": 0,
    "start_time": "2022-12-13T21:08:57.176Z"
   },
   {
    "duration": 0,
    "start_time": "2022-12-13T21:08:57.177Z"
   },
   {
    "duration": 0,
    "start_time": "2022-12-13T21:08:57.204Z"
   },
   {
    "duration": 0,
    "start_time": "2022-12-13T21:08:57.205Z"
   },
   {
    "duration": 0,
    "start_time": "2022-12-13T21:08:57.206Z"
   },
   {
    "duration": 0,
    "start_time": "2022-12-13T21:08:57.207Z"
   },
   {
    "duration": 0,
    "start_time": "2022-12-13T21:08:57.207Z"
   },
   {
    "duration": 0,
    "start_time": "2022-12-13T21:08:57.208Z"
   },
   {
    "duration": 0,
    "start_time": "2022-12-13T21:08:57.209Z"
   },
   {
    "duration": 0,
    "start_time": "2022-12-13T21:08:57.211Z"
   },
   {
    "duration": 0,
    "start_time": "2022-12-13T21:08:57.211Z"
   },
   {
    "duration": 0,
    "start_time": "2022-12-13T21:08:57.212Z"
   },
   {
    "duration": 0,
    "start_time": "2022-12-13T21:08:57.213Z"
   },
   {
    "duration": 0,
    "start_time": "2022-12-13T21:08:57.214Z"
   },
   {
    "duration": 0,
    "start_time": "2022-12-13T21:08:57.215Z"
   },
   {
    "duration": 0,
    "start_time": "2022-12-13T21:08:57.216Z"
   },
   {
    "duration": 0,
    "start_time": "2022-12-13T21:08:57.217Z"
   },
   {
    "duration": 0,
    "start_time": "2022-12-13T21:08:57.218Z"
   },
   {
    "duration": 0,
    "start_time": "2022-12-13T21:08:57.219Z"
   },
   {
    "duration": 0,
    "start_time": "2022-12-13T21:08:57.220Z"
   },
   {
    "duration": 0,
    "start_time": "2022-12-13T21:08:57.221Z"
   },
   {
    "duration": 0,
    "start_time": "2022-12-13T21:08:57.222Z"
   },
   {
    "duration": 0,
    "start_time": "2022-12-13T21:08:57.223Z"
   },
   {
    "duration": 0,
    "start_time": "2022-12-13T21:08:57.223Z"
   },
   {
    "duration": 0,
    "start_time": "2022-12-13T21:08:57.224Z"
   },
   {
    "duration": 0,
    "start_time": "2022-12-13T21:08:57.225Z"
   },
   {
    "duration": 0,
    "start_time": "2022-12-13T21:08:57.226Z"
   },
   {
    "duration": 11,
    "start_time": "2022-12-13T21:09:02.974Z"
   },
   {
    "duration": 10,
    "start_time": "2022-12-13T21:09:31.305Z"
   },
   {
    "duration": 1118,
    "start_time": "2022-12-13T21:09:38.667Z"
   },
   {
    "duration": 96,
    "start_time": "2022-12-13T21:09:39.787Z"
   },
   {
    "duration": 3,
    "start_time": "2022-12-13T21:09:39.885Z"
   },
   {
    "duration": 30,
    "start_time": "2022-12-13T21:09:39.890Z"
   },
   {
    "duration": 14,
    "start_time": "2022-12-13T21:09:39.922Z"
   },
   {
    "duration": 1780,
    "start_time": "2022-12-13T21:09:39.937Z"
   },
   {
    "duration": 11,
    "start_time": "2022-12-13T21:09:41.719Z"
   },
   {
    "duration": 6,
    "start_time": "2022-12-13T21:09:41.731Z"
   },
   {
    "duration": 6,
    "start_time": "2022-12-13T21:09:41.739Z"
   },
   {
    "duration": 4,
    "start_time": "2022-12-13T21:09:41.748Z"
   },
   {
    "duration": 8,
    "start_time": "2022-12-13T21:09:41.753Z"
   },
   {
    "duration": 14,
    "start_time": "2022-12-13T21:09:41.762Z"
   },
   {
    "duration": 28,
    "start_time": "2022-12-13T21:09:41.778Z"
   },
   {
    "duration": 14,
    "start_time": "2022-12-13T21:09:41.808Z"
   },
   {
    "duration": 7,
    "start_time": "2022-12-13T21:09:41.823Z"
   },
   {
    "duration": 6,
    "start_time": "2022-12-13T21:09:41.832Z"
   },
   {
    "duration": 19,
    "start_time": "2022-12-13T21:09:41.840Z"
   },
   {
    "duration": 5,
    "start_time": "2022-12-13T21:09:41.860Z"
   },
   {
    "duration": 7,
    "start_time": "2022-12-13T21:09:41.904Z"
   },
   {
    "duration": 5,
    "start_time": "2022-12-13T21:09:41.913Z"
   },
   {
    "duration": 8,
    "start_time": "2022-12-13T21:09:41.920Z"
   },
   {
    "duration": 6,
    "start_time": "2022-12-13T21:09:41.929Z"
   },
   {
    "duration": 10,
    "start_time": "2022-12-13T21:09:41.936Z"
   },
   {
    "duration": 9,
    "start_time": "2022-12-13T21:09:41.947Z"
   },
   {
    "duration": 612,
    "start_time": "2022-12-13T21:09:41.958Z"
   },
   {
    "duration": 9,
    "start_time": "2022-12-13T21:09:42.572Z"
   },
   {
    "duration": 9,
    "start_time": "2022-12-13T21:09:42.582Z"
   },
   {
    "duration": 9,
    "start_time": "2022-12-13T21:09:42.607Z"
   },
   {
    "duration": 398,
    "start_time": "2022-12-13T21:09:42.617Z"
   },
   {
    "duration": 0,
    "start_time": "2022-12-13T21:09:43.017Z"
   },
   {
    "duration": 0,
    "start_time": "2022-12-13T21:09:43.018Z"
   },
   {
    "duration": 0,
    "start_time": "2022-12-13T21:09:43.019Z"
   },
   {
    "duration": 0,
    "start_time": "2022-12-13T21:09:43.020Z"
   },
   {
    "duration": 0,
    "start_time": "2022-12-13T21:09:43.021Z"
   },
   {
    "duration": 0,
    "start_time": "2022-12-13T21:09:43.022Z"
   },
   {
    "duration": 0,
    "start_time": "2022-12-13T21:09:43.023Z"
   },
   {
    "duration": 0,
    "start_time": "2022-12-13T21:09:43.024Z"
   },
   {
    "duration": 0,
    "start_time": "2022-12-13T21:09:43.025Z"
   },
   {
    "duration": 0,
    "start_time": "2022-12-13T21:09:43.026Z"
   },
   {
    "duration": 0,
    "start_time": "2022-12-13T21:09:43.027Z"
   },
   {
    "duration": 0,
    "start_time": "2022-12-13T21:09:43.028Z"
   },
   {
    "duration": 0,
    "start_time": "2022-12-13T21:09:43.029Z"
   },
   {
    "duration": 0,
    "start_time": "2022-12-13T21:09:43.029Z"
   },
   {
    "duration": 0,
    "start_time": "2022-12-13T21:09:43.030Z"
   },
   {
    "duration": 0,
    "start_time": "2022-12-13T21:09:43.031Z"
   },
   {
    "duration": 0,
    "start_time": "2022-12-13T21:09:43.032Z"
   },
   {
    "duration": 0,
    "start_time": "2022-12-13T21:09:43.033Z"
   },
   {
    "duration": 0,
    "start_time": "2022-12-13T21:09:43.034Z"
   },
   {
    "duration": 0,
    "start_time": "2022-12-13T21:09:43.035Z"
   },
   {
    "duration": 0,
    "start_time": "2022-12-13T21:09:43.036Z"
   },
   {
    "duration": 0,
    "start_time": "2022-12-13T21:09:43.037Z"
   },
   {
    "duration": 0,
    "start_time": "2022-12-13T21:09:43.038Z"
   },
   {
    "duration": 0,
    "start_time": "2022-12-13T21:09:43.039Z"
   },
   {
    "duration": 0,
    "start_time": "2022-12-13T21:09:43.040Z"
   },
   {
    "duration": 0,
    "start_time": "2022-12-13T21:09:43.041Z"
   },
   {
    "duration": 0,
    "start_time": "2022-12-13T21:09:43.042Z"
   },
   {
    "duration": 0,
    "start_time": "2022-12-13T21:09:43.043Z"
   },
   {
    "duration": 0,
    "start_time": "2022-12-13T21:09:43.044Z"
   },
   {
    "duration": 0,
    "start_time": "2022-12-13T21:09:43.045Z"
   },
   {
    "duration": 0,
    "start_time": "2022-12-13T21:09:43.046Z"
   },
   {
    "duration": 0,
    "start_time": "2022-12-13T21:09:43.047Z"
   },
   {
    "duration": 0,
    "start_time": "2022-12-13T21:09:43.048Z"
   },
   {
    "duration": 0,
    "start_time": "2022-12-13T21:09:43.049Z"
   },
   {
    "duration": 0,
    "start_time": "2022-12-13T21:09:43.104Z"
   },
   {
    "duration": 0,
    "start_time": "2022-12-13T21:09:43.105Z"
   },
   {
    "duration": 0,
    "start_time": "2022-12-13T21:09:43.106Z"
   },
   {
    "duration": 0,
    "start_time": "2022-12-13T21:09:43.107Z"
   },
   {
    "duration": 0,
    "start_time": "2022-12-13T21:09:43.109Z"
   },
   {
    "duration": 0,
    "start_time": "2022-12-13T21:09:43.110Z"
   },
   {
    "duration": 9,
    "start_time": "2022-12-13T21:09:48.064Z"
   },
   {
    "duration": 1329,
    "start_time": "2022-12-13T21:09:50.568Z"
   },
   {
    "duration": 8,
    "start_time": "2022-12-13T21:09:55.175Z"
   },
   {
    "duration": 10,
    "start_time": "2022-12-13T21:09:57.591Z"
   },
   {
    "duration": 11,
    "start_time": "2022-12-13T21:10:00.905Z"
   },
   {
    "duration": 212,
    "start_time": "2022-12-13T21:10:06.544Z"
   },
   {
    "duration": 4,
    "start_time": "2022-12-13T21:10:11.498Z"
   },
   {
    "duration": 5,
    "start_time": "2022-12-13T21:10:13.649Z"
   },
   {
    "duration": 1030,
    "start_time": "2022-12-13T21:10:21.465Z"
   },
   {
    "duration": 93,
    "start_time": "2022-12-13T21:10:22.496Z"
   },
   {
    "duration": 2,
    "start_time": "2022-12-13T21:10:22.591Z"
   },
   {
    "duration": 36,
    "start_time": "2022-12-13T21:10:22.595Z"
   },
   {
    "duration": 14,
    "start_time": "2022-12-13T21:10:22.632Z"
   },
   {
    "duration": 1777,
    "start_time": "2022-12-13T21:10:22.648Z"
   },
   {
    "duration": 9,
    "start_time": "2022-12-13T21:10:24.427Z"
   },
   {
    "duration": 12,
    "start_time": "2022-12-13T21:10:24.437Z"
   },
   {
    "duration": 19,
    "start_time": "2022-12-13T21:10:24.450Z"
   },
   {
    "duration": 8,
    "start_time": "2022-12-13T21:10:24.471Z"
   },
   {
    "duration": 20,
    "start_time": "2022-12-13T21:10:24.480Z"
   },
   {
    "duration": 32,
    "start_time": "2022-12-13T21:10:24.501Z"
   },
   {
    "duration": 7,
    "start_time": "2022-12-13T21:10:24.535Z"
   },
   {
    "duration": 29,
    "start_time": "2022-12-13T21:10:24.543Z"
   },
   {
    "duration": 7,
    "start_time": "2022-12-13T21:10:24.574Z"
   },
   {
    "duration": 14,
    "start_time": "2022-12-13T21:10:24.583Z"
   },
   {
    "duration": 27,
    "start_time": "2022-12-13T21:10:24.598Z"
   },
   {
    "duration": 19,
    "start_time": "2022-12-13T21:10:24.626Z"
   },
   {
    "duration": 10,
    "start_time": "2022-12-13T21:10:24.647Z"
   },
   {
    "duration": 17,
    "start_time": "2022-12-13T21:10:24.659Z"
   },
   {
    "duration": 23,
    "start_time": "2022-12-13T21:10:24.678Z"
   },
   {
    "duration": 5,
    "start_time": "2022-12-13T21:10:24.702Z"
   },
   {
    "duration": 15,
    "start_time": "2022-12-13T21:10:24.708Z"
   },
   {
    "duration": 9,
    "start_time": "2022-12-13T21:10:24.725Z"
   },
   {
    "duration": 577,
    "start_time": "2022-12-13T21:10:24.735Z"
   },
   {
    "duration": 8,
    "start_time": "2022-12-13T21:10:25.314Z"
   },
   {
    "duration": 8,
    "start_time": "2022-12-13T21:10:25.323Z"
   },
   {
    "duration": 7,
    "start_time": "2022-12-13T21:10:25.334Z"
   },
   {
    "duration": 412,
    "start_time": "2022-12-13T21:10:25.342Z"
   },
   {
    "duration": 0,
    "start_time": "2022-12-13T21:10:25.756Z"
   },
   {
    "duration": 0,
    "start_time": "2022-12-13T21:10:25.757Z"
   },
   {
    "duration": 0,
    "start_time": "2022-12-13T21:10:25.758Z"
   },
   {
    "duration": 0,
    "start_time": "2022-12-13T21:10:25.759Z"
   },
   {
    "duration": 0,
    "start_time": "2022-12-13T21:10:25.760Z"
   },
   {
    "duration": 0,
    "start_time": "2022-12-13T21:10:25.760Z"
   },
   {
    "duration": 0,
    "start_time": "2022-12-13T21:10:25.761Z"
   },
   {
    "duration": 0,
    "start_time": "2022-12-13T21:10:25.762Z"
   },
   {
    "duration": 0,
    "start_time": "2022-12-13T21:10:25.763Z"
   },
   {
    "duration": 0,
    "start_time": "2022-12-13T21:10:25.764Z"
   },
   {
    "duration": 0,
    "start_time": "2022-12-13T21:10:25.765Z"
   },
   {
    "duration": 0,
    "start_time": "2022-12-13T21:10:25.766Z"
   },
   {
    "duration": 0,
    "start_time": "2022-12-13T21:10:25.767Z"
   },
   {
    "duration": 0,
    "start_time": "2022-12-13T21:10:25.768Z"
   },
   {
    "duration": 0,
    "start_time": "2022-12-13T21:10:25.769Z"
   },
   {
    "duration": 0,
    "start_time": "2022-12-13T21:10:25.770Z"
   },
   {
    "duration": 0,
    "start_time": "2022-12-13T21:10:25.771Z"
   },
   {
    "duration": 0,
    "start_time": "2022-12-13T21:10:25.772Z"
   },
   {
    "duration": 0,
    "start_time": "2022-12-13T21:10:25.773Z"
   },
   {
    "duration": 0,
    "start_time": "2022-12-13T21:10:25.773Z"
   },
   {
    "duration": 0,
    "start_time": "2022-12-13T21:10:25.804Z"
   },
   {
    "duration": 0,
    "start_time": "2022-12-13T21:10:25.806Z"
   },
   {
    "duration": 0,
    "start_time": "2022-12-13T21:10:25.807Z"
   },
   {
    "duration": 0,
    "start_time": "2022-12-13T21:10:25.808Z"
   },
   {
    "duration": 0,
    "start_time": "2022-12-13T21:10:25.809Z"
   },
   {
    "duration": 0,
    "start_time": "2022-12-13T21:10:25.809Z"
   },
   {
    "duration": 0,
    "start_time": "2022-12-13T21:10:25.810Z"
   },
   {
    "duration": 0,
    "start_time": "2022-12-13T21:10:25.811Z"
   },
   {
    "duration": 0,
    "start_time": "2022-12-13T21:10:25.812Z"
   },
   {
    "duration": 0,
    "start_time": "2022-12-13T21:10:25.814Z"
   },
   {
    "duration": 0,
    "start_time": "2022-12-13T21:10:25.815Z"
   },
   {
    "duration": 0,
    "start_time": "2022-12-13T21:10:25.817Z"
   },
   {
    "duration": 0,
    "start_time": "2022-12-13T21:10:25.818Z"
   },
   {
    "duration": 0,
    "start_time": "2022-12-13T21:10:25.820Z"
   },
   {
    "duration": 0,
    "start_time": "2022-12-13T21:10:25.821Z"
   },
   {
    "duration": 0,
    "start_time": "2022-12-13T21:10:25.822Z"
   },
   {
    "duration": 0,
    "start_time": "2022-12-13T21:10:25.824Z"
   },
   {
    "duration": 0,
    "start_time": "2022-12-13T21:10:25.825Z"
   },
   {
    "duration": 0,
    "start_time": "2022-12-13T21:10:25.827Z"
   },
   {
    "duration": 0,
    "start_time": "2022-12-13T21:10:25.828Z"
   },
   {
    "duration": 10,
    "start_time": "2022-12-13T21:10:39.330Z"
   },
   {
    "duration": 10,
    "start_time": "2022-12-13T21:10:52.976Z"
   },
   {
    "duration": 1461,
    "start_time": "2022-12-13T21:10:56.336Z"
   },
   {
    "duration": 1419,
    "start_time": "2022-12-13T21:10:58.489Z"
   },
   {
    "duration": 11,
    "start_time": "2022-12-13T21:11:09.800Z"
   },
   {
    "duration": 5,
    "start_time": "2022-12-13T21:11:12.377Z"
   },
   {
    "duration": 4,
    "start_time": "2022-12-13T21:11:14.096Z"
   },
   {
    "duration": 205,
    "start_time": "2022-12-13T21:11:15.488Z"
   },
   {
    "duration": 9,
    "start_time": "2022-12-13T21:11:17.976Z"
   },
   {
    "duration": 2119,
    "start_time": "2022-12-13T21:11:26.070Z"
   },
   {
    "duration": 106,
    "start_time": "2022-12-13T21:11:28.191Z"
   },
   {
    "duration": 2,
    "start_time": "2022-12-13T21:11:28.299Z"
   },
   {
    "duration": 35,
    "start_time": "2022-12-13T21:11:28.303Z"
   },
   {
    "duration": 16,
    "start_time": "2022-12-13T21:11:28.341Z"
   },
   {
    "duration": 1839,
    "start_time": "2022-12-13T21:11:28.358Z"
   },
   {
    "duration": 9,
    "start_time": "2022-12-13T21:11:30.199Z"
   },
   {
    "duration": 19,
    "start_time": "2022-12-13T21:11:30.209Z"
   },
   {
    "duration": 22,
    "start_time": "2022-12-13T21:11:30.230Z"
   },
   {
    "duration": 21,
    "start_time": "2022-12-13T21:11:30.254Z"
   },
   {
    "duration": 14,
    "start_time": "2022-12-13T21:11:30.277Z"
   },
   {
    "duration": 27,
    "start_time": "2022-12-13T21:11:30.293Z"
   },
   {
    "duration": 7,
    "start_time": "2022-12-13T21:11:30.322Z"
   },
   {
    "duration": 25,
    "start_time": "2022-12-13T21:11:30.332Z"
   },
   {
    "duration": 39,
    "start_time": "2022-12-13T21:11:30.359Z"
   },
   {
    "duration": 28,
    "start_time": "2022-12-13T21:11:30.399Z"
   },
   {
    "duration": 49,
    "start_time": "2022-12-13T21:11:30.429Z"
   },
   {
    "duration": 12,
    "start_time": "2022-12-13T21:11:30.480Z"
   },
   {
    "duration": 17,
    "start_time": "2022-12-13T21:11:30.494Z"
   },
   {
    "duration": 15,
    "start_time": "2022-12-13T21:11:30.513Z"
   },
   {
    "duration": 24,
    "start_time": "2022-12-13T21:11:30.529Z"
   },
   {
    "duration": 25,
    "start_time": "2022-12-13T21:11:30.554Z"
   },
   {
    "duration": 28,
    "start_time": "2022-12-13T21:11:30.581Z"
   },
   {
    "duration": 15,
    "start_time": "2022-12-13T21:11:30.610Z"
   },
   {
    "duration": 612,
    "start_time": "2022-12-13T21:11:30.627Z"
   },
   {
    "duration": 10,
    "start_time": "2022-12-13T21:11:31.240Z"
   },
   {
    "duration": 21,
    "start_time": "2022-12-13T21:11:31.252Z"
   },
   {
    "duration": 14,
    "start_time": "2022-12-13T21:11:31.275Z"
   },
   {
    "duration": 391,
    "start_time": "2022-12-13T21:11:31.291Z"
   },
   {
    "duration": 0,
    "start_time": "2022-12-13T21:11:31.685Z"
   },
   {
    "duration": 0,
    "start_time": "2022-12-13T21:11:31.686Z"
   },
   {
    "duration": 0,
    "start_time": "2022-12-13T21:11:31.687Z"
   },
   {
    "duration": 0,
    "start_time": "2022-12-13T21:11:31.687Z"
   },
   {
    "duration": 0,
    "start_time": "2022-12-13T21:11:31.689Z"
   },
   {
    "duration": 0,
    "start_time": "2022-12-13T21:11:31.689Z"
   },
   {
    "duration": 0,
    "start_time": "2022-12-13T21:11:31.704Z"
   },
   {
    "duration": 0,
    "start_time": "2022-12-13T21:11:31.705Z"
   },
   {
    "duration": 0,
    "start_time": "2022-12-13T21:11:31.706Z"
   },
   {
    "duration": 0,
    "start_time": "2022-12-13T21:11:31.707Z"
   },
   {
    "duration": 0,
    "start_time": "2022-12-13T21:11:31.708Z"
   },
   {
    "duration": 0,
    "start_time": "2022-12-13T21:11:31.708Z"
   },
   {
    "duration": 0,
    "start_time": "2022-12-13T21:11:31.709Z"
   },
   {
    "duration": 0,
    "start_time": "2022-12-13T21:11:31.710Z"
   },
   {
    "duration": 0,
    "start_time": "2022-12-13T21:11:31.711Z"
   },
   {
    "duration": 0,
    "start_time": "2022-12-13T21:11:31.712Z"
   },
   {
    "duration": 0,
    "start_time": "2022-12-13T21:11:31.713Z"
   },
   {
    "duration": 0,
    "start_time": "2022-12-13T21:11:31.714Z"
   },
   {
    "duration": 0,
    "start_time": "2022-12-13T21:11:31.715Z"
   },
   {
    "duration": 1,
    "start_time": "2022-12-13T21:11:31.715Z"
   },
   {
    "duration": 0,
    "start_time": "2022-12-13T21:11:31.717Z"
   },
   {
    "duration": 0,
    "start_time": "2022-12-13T21:11:31.717Z"
   },
   {
    "duration": 0,
    "start_time": "2022-12-13T21:11:31.718Z"
   },
   {
    "duration": 0,
    "start_time": "2022-12-13T21:11:31.720Z"
   },
   {
    "duration": 0,
    "start_time": "2022-12-13T21:11:31.721Z"
   },
   {
    "duration": 0,
    "start_time": "2022-12-13T21:11:31.721Z"
   },
   {
    "duration": 0,
    "start_time": "2022-12-13T21:11:31.722Z"
   },
   {
    "duration": 0,
    "start_time": "2022-12-13T21:11:31.723Z"
   },
   {
    "duration": 0,
    "start_time": "2022-12-13T21:11:31.724Z"
   },
   {
    "duration": 0,
    "start_time": "2022-12-13T21:11:31.725Z"
   },
   {
    "duration": 0,
    "start_time": "2022-12-13T21:11:31.726Z"
   },
   {
    "duration": 0,
    "start_time": "2022-12-13T21:11:31.727Z"
   },
   {
    "duration": 0,
    "start_time": "2022-12-13T21:11:31.732Z"
   },
   {
    "duration": 0,
    "start_time": "2022-12-13T21:11:31.732Z"
   },
   {
    "duration": 0,
    "start_time": "2022-12-13T21:11:31.733Z"
   },
   {
    "duration": 0,
    "start_time": "2022-12-13T21:11:31.734Z"
   },
   {
    "duration": 0,
    "start_time": "2022-12-13T21:11:31.736Z"
   },
   {
    "duration": 0,
    "start_time": "2022-12-13T21:11:31.737Z"
   },
   {
    "duration": 0,
    "start_time": "2022-12-13T21:11:31.738Z"
   },
   {
    "duration": 0,
    "start_time": "2022-12-13T21:11:31.739Z"
   },
   {
    "duration": 272,
    "start_time": "2022-12-13T21:11:43.097Z"
   },
   {
    "duration": 1423,
    "start_time": "2022-12-13T21:12:21.176Z"
   },
   {
    "duration": 12,
    "start_time": "2022-12-13T21:12:29.802Z"
   },
   {
    "duration": 5,
    "start_time": "2022-12-13T21:12:32.034Z"
   },
   {
    "duration": 1073,
    "start_time": "2022-12-13T21:12:42.933Z"
   },
   {
    "duration": 91,
    "start_time": "2022-12-13T21:12:44.008Z"
   },
   {
    "duration": 3,
    "start_time": "2022-12-13T21:12:44.100Z"
   },
   {
    "duration": 49,
    "start_time": "2022-12-13T21:12:44.104Z"
   },
   {
    "duration": 26,
    "start_time": "2022-12-13T21:12:44.156Z"
   },
   {
    "duration": 1893,
    "start_time": "2022-12-13T21:12:44.184Z"
   },
   {
    "duration": 11,
    "start_time": "2022-12-13T21:12:46.079Z"
   },
   {
    "duration": 11,
    "start_time": "2022-12-13T21:12:46.092Z"
   },
   {
    "duration": 9,
    "start_time": "2022-12-13T21:12:46.104Z"
   },
   {
    "duration": 5,
    "start_time": "2022-12-13T21:12:46.115Z"
   },
   {
    "duration": 8,
    "start_time": "2022-12-13T21:12:46.121Z"
   },
   {
    "duration": 14,
    "start_time": "2022-12-13T21:12:46.131Z"
   },
   {
    "duration": 7,
    "start_time": "2022-12-13T21:12:46.147Z"
   },
   {
    "duration": 16,
    "start_time": "2022-12-13T21:12:46.159Z"
   },
   {
    "duration": 31,
    "start_time": "2022-12-13T21:12:46.177Z"
   },
   {
    "duration": 8,
    "start_time": "2022-12-13T21:12:46.209Z"
   },
   {
    "duration": 17,
    "start_time": "2022-12-13T21:12:46.218Z"
   },
   {
    "duration": 5,
    "start_time": "2022-12-13T21:12:46.236Z"
   },
   {
    "duration": 7,
    "start_time": "2022-12-13T21:12:46.243Z"
   },
   {
    "duration": 5,
    "start_time": "2022-12-13T21:12:46.252Z"
   },
   {
    "duration": 5,
    "start_time": "2022-12-13T21:12:46.258Z"
   },
   {
    "duration": 40,
    "start_time": "2022-12-13T21:12:46.265Z"
   },
   {
    "duration": 9,
    "start_time": "2022-12-13T21:12:46.306Z"
   },
   {
    "duration": 8,
    "start_time": "2022-12-13T21:12:46.317Z"
   },
   {
    "duration": 572,
    "start_time": "2022-12-13T21:12:46.326Z"
   },
   {
    "duration": 9,
    "start_time": "2022-12-13T21:12:46.904Z"
   },
   {
    "duration": 19,
    "start_time": "2022-12-13T21:12:46.915Z"
   },
   {
    "duration": 29,
    "start_time": "2022-12-13T21:12:46.936Z"
   },
   {
    "duration": 442,
    "start_time": "2022-12-13T21:12:46.967Z"
   },
   {
    "duration": 1,
    "start_time": "2022-12-13T21:12:47.413Z"
   },
   {
    "duration": 0,
    "start_time": "2022-12-13T21:12:47.416Z"
   },
   {
    "duration": 0,
    "start_time": "2022-12-13T21:12:47.417Z"
   },
   {
    "duration": 0,
    "start_time": "2022-12-13T21:12:47.418Z"
   },
   {
    "duration": 0,
    "start_time": "2022-12-13T21:12:47.419Z"
   },
   {
    "duration": 0,
    "start_time": "2022-12-13T21:12:47.420Z"
   },
   {
    "duration": 0,
    "start_time": "2022-12-13T21:12:47.422Z"
   },
   {
    "duration": 0,
    "start_time": "2022-12-13T21:12:47.423Z"
   },
   {
    "duration": 0,
    "start_time": "2022-12-13T21:12:47.424Z"
   },
   {
    "duration": 0,
    "start_time": "2022-12-13T21:12:47.425Z"
   },
   {
    "duration": 0,
    "start_time": "2022-12-13T21:12:47.426Z"
   },
   {
    "duration": 0,
    "start_time": "2022-12-13T21:12:47.427Z"
   },
   {
    "duration": 0,
    "start_time": "2022-12-13T21:12:47.428Z"
   },
   {
    "duration": 0,
    "start_time": "2022-12-13T21:12:47.430Z"
   },
   {
    "duration": 0,
    "start_time": "2022-12-13T21:12:47.433Z"
   },
   {
    "duration": 0,
    "start_time": "2022-12-13T21:12:47.434Z"
   },
   {
    "duration": 0,
    "start_time": "2022-12-13T21:12:47.436Z"
   },
   {
    "duration": 0,
    "start_time": "2022-12-13T21:12:47.438Z"
   },
   {
    "duration": 0,
    "start_time": "2022-12-13T21:12:47.439Z"
   },
   {
    "duration": 0,
    "start_time": "2022-12-13T21:12:47.441Z"
   },
   {
    "duration": 0,
    "start_time": "2022-12-13T21:12:47.443Z"
   },
   {
    "duration": 0,
    "start_time": "2022-12-13T21:12:47.445Z"
   },
   {
    "duration": 0,
    "start_time": "2022-12-13T21:12:47.446Z"
   },
   {
    "duration": 0,
    "start_time": "2022-12-13T21:12:47.447Z"
   },
   {
    "duration": 0,
    "start_time": "2022-12-13T21:12:47.505Z"
   },
   {
    "duration": 0,
    "start_time": "2022-12-13T21:12:47.506Z"
   },
   {
    "duration": 0,
    "start_time": "2022-12-13T21:12:47.508Z"
   },
   {
    "duration": 0,
    "start_time": "2022-12-13T21:12:47.509Z"
   },
   {
    "duration": 0,
    "start_time": "2022-12-13T21:12:47.510Z"
   },
   {
    "duration": 0,
    "start_time": "2022-12-13T21:12:47.511Z"
   },
   {
    "duration": 0,
    "start_time": "2022-12-13T21:12:47.512Z"
   },
   {
    "duration": 0,
    "start_time": "2022-12-13T21:12:47.513Z"
   },
   {
    "duration": 0,
    "start_time": "2022-12-13T21:12:47.514Z"
   },
   {
    "duration": 0,
    "start_time": "2022-12-13T21:12:47.515Z"
   },
   {
    "duration": 0,
    "start_time": "2022-12-13T21:12:47.516Z"
   },
   {
    "duration": 0,
    "start_time": "2022-12-13T21:12:47.516Z"
   },
   {
    "duration": 0,
    "start_time": "2022-12-13T21:12:47.517Z"
   },
   {
    "duration": 0,
    "start_time": "2022-12-13T21:12:47.518Z"
   },
   {
    "duration": 0,
    "start_time": "2022-12-13T21:12:47.519Z"
   },
   {
    "duration": 0,
    "start_time": "2022-12-13T21:12:47.521Z"
   },
   {
    "duration": 291,
    "start_time": "2022-12-13T21:13:02.146Z"
   },
   {
    "duration": 284,
    "start_time": "2022-12-13T21:13:05.464Z"
   },
   {
    "duration": 10,
    "start_time": "2022-12-13T21:13:11.442Z"
   },
   {
    "duration": 9,
    "start_time": "2022-12-13T21:13:47.659Z"
   },
   {
    "duration": 203,
    "start_time": "2022-12-13T21:13:50.484Z"
   },
   {
    "duration": 10,
    "start_time": "2022-12-13T21:14:00.468Z"
   },
   {
    "duration": 298,
    "start_time": "2022-12-13T21:14:23.035Z"
   },
   {
    "duration": 22,
    "start_time": "2022-12-13T21:14:36.018Z"
   },
   {
    "duration": 1331,
    "start_time": "2022-12-13T21:14:40.907Z"
   },
   {
    "duration": 1226,
    "start_time": "2022-12-13T21:16:00.968Z"
   },
   {
    "duration": 1185,
    "start_time": "2022-12-13T21:16:26.832Z"
   },
   {
    "duration": 94,
    "start_time": "2022-12-13T21:16:28.019Z"
   },
   {
    "duration": 3,
    "start_time": "2022-12-13T21:16:28.114Z"
   },
   {
    "duration": 83,
    "start_time": "2022-12-13T21:16:28.118Z"
   },
   {
    "duration": 54,
    "start_time": "2022-12-13T21:16:28.202Z"
   },
   {
    "duration": 1971,
    "start_time": "2022-12-13T21:16:28.258Z"
   },
   {
    "duration": 9,
    "start_time": "2022-12-13T21:16:30.231Z"
   },
   {
    "duration": 40,
    "start_time": "2022-12-13T21:16:30.241Z"
   },
   {
    "duration": 20,
    "start_time": "2022-12-13T21:16:30.283Z"
   },
   {
    "duration": 17,
    "start_time": "2022-12-13T21:16:30.305Z"
   },
   {
    "duration": 52,
    "start_time": "2022-12-13T21:16:30.323Z"
   },
   {
    "duration": 46,
    "start_time": "2022-12-13T21:16:30.377Z"
   },
   {
    "duration": 32,
    "start_time": "2022-12-13T21:16:30.424Z"
   },
   {
    "duration": 58,
    "start_time": "2022-12-13T21:16:30.458Z"
   },
   {
    "duration": 24,
    "start_time": "2022-12-13T21:16:30.518Z"
   },
   {
    "duration": 37,
    "start_time": "2022-12-13T21:16:30.543Z"
   },
   {
    "duration": 46,
    "start_time": "2022-12-13T21:16:30.581Z"
   },
   {
    "duration": 60,
    "start_time": "2022-12-13T21:16:30.629Z"
   },
   {
    "duration": 27,
    "start_time": "2022-12-13T21:16:30.690Z"
   },
   {
    "duration": 33,
    "start_time": "2022-12-13T21:16:30.719Z"
   },
   {
    "duration": 27,
    "start_time": "2022-12-13T21:16:30.755Z"
   },
   {
    "duration": 40,
    "start_time": "2022-12-13T21:16:30.784Z"
   },
   {
    "duration": 35,
    "start_time": "2022-12-13T21:16:30.826Z"
   },
   {
    "duration": 36,
    "start_time": "2022-12-13T21:16:30.862Z"
   },
   {
    "duration": 604,
    "start_time": "2022-12-13T21:16:30.900Z"
   },
   {
    "duration": 8,
    "start_time": "2022-12-13T21:16:31.506Z"
   },
   {
    "duration": 33,
    "start_time": "2022-12-13T21:16:31.515Z"
   },
   {
    "duration": 49,
    "start_time": "2022-12-13T21:16:31.552Z"
   },
   {
    "duration": 417,
    "start_time": "2022-12-13T21:16:31.603Z"
   },
   {
    "duration": 0,
    "start_time": "2022-12-13T21:16:32.022Z"
   },
   {
    "duration": 0,
    "start_time": "2022-12-13T21:16:32.023Z"
   },
   {
    "duration": 0,
    "start_time": "2022-12-13T21:16:32.024Z"
   },
   {
    "duration": 0,
    "start_time": "2022-12-13T21:16:32.025Z"
   },
   {
    "duration": 0,
    "start_time": "2022-12-13T21:16:32.026Z"
   },
   {
    "duration": 0,
    "start_time": "2022-12-13T21:16:32.027Z"
   },
   {
    "duration": 0,
    "start_time": "2022-12-13T21:16:32.028Z"
   },
   {
    "duration": 0,
    "start_time": "2022-12-13T21:16:32.029Z"
   },
   {
    "duration": 0,
    "start_time": "2022-12-13T21:16:32.030Z"
   },
   {
    "duration": 0,
    "start_time": "2022-12-13T21:16:32.031Z"
   },
   {
    "duration": 0,
    "start_time": "2022-12-13T21:16:32.033Z"
   },
   {
    "duration": 0,
    "start_time": "2022-12-13T21:16:32.034Z"
   },
   {
    "duration": 0,
    "start_time": "2022-12-13T21:16:32.034Z"
   },
   {
    "duration": 0,
    "start_time": "2022-12-13T21:16:32.035Z"
   },
   {
    "duration": 0,
    "start_time": "2022-12-13T21:16:32.036Z"
   },
   {
    "duration": 0,
    "start_time": "2022-12-13T21:16:32.038Z"
   },
   {
    "duration": 0,
    "start_time": "2022-12-13T21:16:32.039Z"
   },
   {
    "duration": 0,
    "start_time": "2022-12-13T21:16:32.040Z"
   },
   {
    "duration": 0,
    "start_time": "2022-12-13T21:16:32.041Z"
   },
   {
    "duration": 0,
    "start_time": "2022-12-13T21:16:32.043Z"
   },
   {
    "duration": 0,
    "start_time": "2022-12-13T21:16:32.044Z"
   },
   {
    "duration": 0,
    "start_time": "2022-12-13T21:16:32.045Z"
   },
   {
    "duration": 0,
    "start_time": "2022-12-13T21:16:32.046Z"
   },
   {
    "duration": 0,
    "start_time": "2022-12-13T21:16:32.048Z"
   },
   {
    "duration": 0,
    "start_time": "2022-12-13T21:16:32.049Z"
   },
   {
    "duration": 0,
    "start_time": "2022-12-13T21:16:32.050Z"
   },
   {
    "duration": 0,
    "start_time": "2022-12-13T21:16:32.051Z"
   },
   {
    "duration": 0,
    "start_time": "2022-12-13T21:16:32.052Z"
   },
   {
    "duration": 0,
    "start_time": "2022-12-13T21:16:32.105Z"
   },
   {
    "duration": 0,
    "start_time": "2022-12-13T21:16:32.106Z"
   },
   {
    "duration": 0,
    "start_time": "2022-12-13T21:16:32.107Z"
   },
   {
    "duration": 0,
    "start_time": "2022-12-13T21:16:32.108Z"
   },
   {
    "duration": 0,
    "start_time": "2022-12-13T21:16:32.109Z"
   },
   {
    "duration": 0,
    "start_time": "2022-12-13T21:16:32.114Z"
   },
   {
    "duration": 0,
    "start_time": "2022-12-13T21:16:32.115Z"
   },
   {
    "duration": 0,
    "start_time": "2022-12-13T21:16:32.117Z"
   },
   {
    "duration": 0,
    "start_time": "2022-12-13T21:16:32.118Z"
   },
   {
    "duration": 0,
    "start_time": "2022-12-13T21:16:32.118Z"
   },
   {
    "duration": 0,
    "start_time": "2022-12-13T21:16:32.119Z"
   },
   {
    "duration": 0,
    "start_time": "2022-12-13T21:16:32.121Z"
   },
   {
    "duration": 9,
    "start_time": "2022-12-13T21:17:05.785Z"
   },
   {
    "duration": 10,
    "start_time": "2022-12-13T21:17:14.390Z"
   },
   {
    "duration": 1110,
    "start_time": "2022-12-13T21:17:30.185Z"
   },
   {
    "duration": 91,
    "start_time": "2022-12-13T21:17:31.297Z"
   },
   {
    "duration": 2,
    "start_time": "2022-12-13T21:17:31.390Z"
   },
   {
    "duration": 35,
    "start_time": "2022-12-13T21:17:31.394Z"
   },
   {
    "duration": 13,
    "start_time": "2022-12-13T21:17:31.431Z"
   },
   {
    "duration": 1904,
    "start_time": "2022-12-13T21:17:31.445Z"
   },
   {
    "duration": 9,
    "start_time": "2022-12-13T21:17:33.351Z"
   },
   {
    "duration": 5,
    "start_time": "2022-12-13T21:17:33.362Z"
   },
   {
    "duration": 9,
    "start_time": "2022-12-13T21:17:33.368Z"
   },
   {
    "duration": 11,
    "start_time": "2022-12-13T21:17:33.378Z"
   },
   {
    "duration": 14,
    "start_time": "2022-12-13T21:17:33.391Z"
   },
   {
    "duration": 25,
    "start_time": "2022-12-13T21:17:33.406Z"
   },
   {
    "duration": 7,
    "start_time": "2022-12-13T21:17:33.433Z"
   },
   {
    "duration": 18,
    "start_time": "2022-12-13T21:17:33.443Z"
   },
   {
    "duration": 10,
    "start_time": "2022-12-13T21:17:33.462Z"
   },
   {
    "duration": 9,
    "start_time": "2022-12-13T21:17:33.474Z"
   },
   {
    "duration": 29,
    "start_time": "2022-12-13T21:17:33.484Z"
   },
   {
    "duration": 17,
    "start_time": "2022-12-13T21:17:33.514Z"
   },
   {
    "duration": 19,
    "start_time": "2022-12-13T21:17:33.532Z"
   },
   {
    "duration": 22,
    "start_time": "2022-12-13T21:17:33.552Z"
   },
   {
    "duration": 16,
    "start_time": "2022-12-13T21:17:33.575Z"
   },
   {
    "duration": 17,
    "start_time": "2022-12-13T21:17:33.592Z"
   },
   {
    "duration": 20,
    "start_time": "2022-12-13T21:17:33.610Z"
   },
   {
    "duration": 8,
    "start_time": "2022-12-13T21:17:33.632Z"
   },
   {
    "duration": 591,
    "start_time": "2022-12-13T21:17:33.642Z"
   },
   {
    "duration": 8,
    "start_time": "2022-12-13T21:17:34.235Z"
   },
   {
    "duration": 7,
    "start_time": "2022-12-13T21:17:34.245Z"
   },
   {
    "duration": 12,
    "start_time": "2022-12-13T21:17:34.254Z"
   },
   {
    "duration": 9,
    "start_time": "2022-12-13T21:17:34.268Z"
   },
   {
    "duration": 31,
    "start_time": "2022-12-13T21:17:34.279Z"
   },
   {
    "duration": 6,
    "start_time": "2022-12-13T21:17:34.312Z"
   },
   {
    "duration": 13,
    "start_time": "2022-12-13T21:17:34.319Z"
   },
   {
    "duration": 5,
    "start_time": "2022-12-13T21:17:34.333Z"
   },
   {
    "duration": 14,
    "start_time": "2022-12-13T21:17:34.339Z"
   },
   {
    "duration": 7,
    "start_time": "2022-12-13T21:17:34.354Z"
   },
   {
    "duration": 328,
    "start_time": "2022-12-13T21:17:34.362Z"
   },
   {
    "duration": 13,
    "start_time": "2022-12-13T21:17:34.692Z"
   },
   {
    "duration": 9,
    "start_time": "2022-12-13T21:17:34.707Z"
   },
   {
    "duration": 325,
    "start_time": "2022-12-13T21:17:34.718Z"
   },
   {
    "duration": 9,
    "start_time": "2022-12-13T21:17:35.044Z"
   },
   {
    "duration": 336,
    "start_time": "2022-12-13T21:17:35.057Z"
   },
   {
    "duration": 13,
    "start_time": "2022-12-13T21:17:35.394Z"
   },
   {
    "duration": 256,
    "start_time": "2022-12-13T21:17:35.409Z"
   },
   {
    "duration": 10,
    "start_time": "2022-12-13T21:17:35.667Z"
   },
   {
    "duration": 1451,
    "start_time": "2022-12-13T21:17:35.678Z"
   },
   {
    "duration": 9,
    "start_time": "2022-12-13T21:17:37.131Z"
   },
   {
    "duration": 306,
    "start_time": "2022-12-13T21:17:37.141Z"
   },
   {
    "duration": 11,
    "start_time": "2022-12-13T21:17:37.448Z"
   },
   {
    "duration": 262,
    "start_time": "2022-12-13T21:17:37.460Z"
   },
   {
    "duration": 8,
    "start_time": "2022-12-13T21:17:37.724Z"
   },
   {
    "duration": 235,
    "start_time": "2022-12-13T21:17:37.734Z"
   },
   {
    "duration": 9,
    "start_time": "2022-12-13T21:17:37.971Z"
   },
   {
    "duration": 392,
    "start_time": "2022-12-13T21:17:37.981Z"
   },
   {
    "duration": 9,
    "start_time": "2022-12-13T21:17:38.375Z"
   },
   {
    "duration": 268,
    "start_time": "2022-12-13T21:17:38.386Z"
   },
   {
    "duration": 9,
    "start_time": "2022-12-13T21:17:38.656Z"
   },
   {
    "duration": 231,
    "start_time": "2022-12-13T21:17:38.667Z"
   },
   {
    "duration": 11,
    "start_time": "2022-12-13T21:17:38.900Z"
   },
   {
    "duration": 236,
    "start_time": "2022-12-13T21:17:38.913Z"
   },
   {
    "duration": 10,
    "start_time": "2022-12-13T21:17:39.150Z"
   },
   {
    "duration": 235,
    "start_time": "2022-12-13T21:17:39.161Z"
   },
   {
    "duration": 236,
    "start_time": "2022-12-13T21:17:39.398Z"
   },
   {
    "duration": 218,
    "start_time": "2022-12-13T21:17:39.636Z"
   },
   {
    "duration": 225,
    "start_time": "2022-12-13T21:17:39.856Z"
   },
   {
    "duration": 5,
    "start_time": "2022-12-13T21:17:40.083Z"
   },
   {
    "duration": 18,
    "start_time": "2022-12-13T21:17:40.089Z"
   },
   {
    "duration": 24,
    "start_time": "2022-12-13T21:17:40.108Z"
   },
   {
    "duration": 1625,
    "start_time": "2022-12-13T21:17:40.134Z"
   },
   {
    "duration": 0,
    "start_time": "2022-12-13T21:17:41.761Z"
   },
   {
    "duration": 1273,
    "start_time": "2022-12-13T21:17:48.726Z"
   },
   {
    "duration": 85,
    "start_time": "2022-12-13T21:18:11.902Z"
   },
   {
    "duration": 71,
    "start_time": "2022-12-13T21:18:16.853Z"
   },
   {
    "duration": 93,
    "start_time": "2022-12-13T21:18:44.408Z"
   },
   {
    "duration": 185,
    "start_time": "2022-12-13T21:18:51.216Z"
   },
   {
    "duration": 44,
    "start_time": "2022-12-14T03:17:35.318Z"
   },
   {
    "duration": 6,
    "start_time": "2022-12-14T03:20:09.725Z"
   },
   {
    "duration": 1138,
    "start_time": "2022-12-14T03:20:19.574Z"
   },
   {
    "duration": 299,
    "start_time": "2022-12-14T03:20:20.714Z"
   },
   {
    "duration": 3,
    "start_time": "2022-12-14T03:20:21.014Z"
   },
   {
    "duration": 36,
    "start_time": "2022-12-14T03:20:21.018Z"
   },
   {
    "duration": 12,
    "start_time": "2022-12-14T03:20:21.056Z"
   },
   {
    "duration": 1746,
    "start_time": "2022-12-14T03:20:21.070Z"
   },
   {
    "duration": 9,
    "start_time": "2022-12-14T03:20:22.817Z"
   },
   {
    "duration": 17,
    "start_time": "2022-12-14T03:20:22.827Z"
   },
   {
    "duration": 12,
    "start_time": "2022-12-14T03:20:22.846Z"
   },
   {
    "duration": 7,
    "start_time": "2022-12-14T03:20:22.860Z"
   },
   {
    "duration": 13,
    "start_time": "2022-12-14T03:20:22.868Z"
   },
   {
    "duration": 15,
    "start_time": "2022-12-14T03:20:22.882Z"
   },
   {
    "duration": 8,
    "start_time": "2022-12-14T03:20:22.898Z"
   },
   {
    "duration": 14,
    "start_time": "2022-12-14T03:20:22.907Z"
   },
   {
    "duration": 5,
    "start_time": "2022-12-14T03:20:22.923Z"
   },
   {
    "duration": 8,
    "start_time": "2022-12-14T03:20:22.929Z"
   },
   {
    "duration": 16,
    "start_time": "2022-12-14T03:20:22.938Z"
   },
   {
    "duration": 20,
    "start_time": "2022-12-14T03:20:22.956Z"
   },
   {
    "duration": 14,
    "start_time": "2022-12-14T03:20:22.978Z"
   },
   {
    "duration": 7,
    "start_time": "2022-12-14T03:20:22.993Z"
   },
   {
    "duration": 8,
    "start_time": "2022-12-14T03:20:23.001Z"
   },
   {
    "duration": 15,
    "start_time": "2022-12-14T03:20:23.010Z"
   },
   {
    "duration": 17,
    "start_time": "2022-12-14T03:20:23.026Z"
   },
   {
    "duration": 14,
    "start_time": "2022-12-14T03:20:23.045Z"
   },
   {
    "duration": 560,
    "start_time": "2022-12-14T03:20:23.061Z"
   },
   {
    "duration": 8,
    "start_time": "2022-12-14T03:20:23.623Z"
   },
   {
    "duration": 8,
    "start_time": "2022-12-14T03:20:23.632Z"
   },
   {
    "duration": 7,
    "start_time": "2022-12-14T03:20:23.644Z"
   },
   {
    "duration": 10,
    "start_time": "2022-12-14T03:20:23.653Z"
   },
   {
    "duration": 11,
    "start_time": "2022-12-14T03:20:23.665Z"
   },
   {
    "duration": 6,
    "start_time": "2022-12-14T03:20:23.678Z"
   },
   {
    "duration": 45,
    "start_time": "2022-12-14T03:20:23.686Z"
   },
   {
    "duration": 6,
    "start_time": "2022-12-14T03:20:23.732Z"
   },
   {
    "duration": 10,
    "start_time": "2022-12-14T03:20:23.740Z"
   },
   {
    "duration": 8,
    "start_time": "2022-12-14T03:20:23.752Z"
   },
   {
    "duration": 333,
    "start_time": "2022-12-14T03:20:23.761Z"
   },
   {
    "duration": 8,
    "start_time": "2022-12-14T03:20:24.096Z"
   },
   {
    "duration": 23,
    "start_time": "2022-12-14T03:20:24.105Z"
   },
   {
    "duration": 305,
    "start_time": "2022-12-14T03:20:24.130Z"
   },
   {
    "duration": 9,
    "start_time": "2022-12-14T03:20:24.437Z"
   },
   {
    "duration": 308,
    "start_time": "2022-12-14T03:20:24.448Z"
   },
   {
    "duration": 9,
    "start_time": "2022-12-14T03:20:24.758Z"
   },
   {
    "duration": 218,
    "start_time": "2022-12-14T03:20:24.768Z"
   },
   {
    "duration": 9,
    "start_time": "2022-12-14T03:20:24.987Z"
   },
   {
    "duration": 1297,
    "start_time": "2022-12-14T03:20:24.997Z"
   },
   {
    "duration": 9,
    "start_time": "2022-12-14T03:20:26.296Z"
   },
   {
    "duration": 234,
    "start_time": "2022-12-14T03:20:26.307Z"
   },
   {
    "duration": 8,
    "start_time": "2022-12-14T03:20:26.543Z"
   },
   {
    "duration": 232,
    "start_time": "2022-12-14T03:20:26.553Z"
   },
   {
    "duration": 7,
    "start_time": "2022-12-14T03:20:26.787Z"
   },
   {
    "duration": 217,
    "start_time": "2022-12-14T03:20:26.795Z"
   },
   {
    "duration": 12,
    "start_time": "2022-12-14T03:20:27.013Z"
   },
   {
    "duration": 350,
    "start_time": "2022-12-14T03:20:27.027Z"
   },
   {
    "duration": 9,
    "start_time": "2022-12-14T03:20:27.378Z"
   },
   {
    "duration": 233,
    "start_time": "2022-12-14T03:20:27.389Z"
   },
   {
    "duration": 8,
    "start_time": "2022-12-14T03:20:27.623Z"
   },
   {
    "duration": 212,
    "start_time": "2022-12-14T03:20:27.632Z"
   },
   {
    "duration": 9,
    "start_time": "2022-12-14T03:20:27.845Z"
   },
   {
    "duration": 211,
    "start_time": "2022-12-14T03:20:27.855Z"
   },
   {
    "duration": 8,
    "start_time": "2022-12-14T03:20:28.068Z"
   },
   {
    "duration": 214,
    "start_time": "2022-12-14T03:20:28.077Z"
   },
   {
    "duration": 217,
    "start_time": "2022-12-14T03:20:28.293Z"
   },
   {
    "duration": 213,
    "start_time": "2022-12-14T03:20:28.511Z"
   },
   {
    "duration": 213,
    "start_time": "2022-12-14T03:20:28.725Z"
   },
   {
    "duration": 4,
    "start_time": "2022-12-14T03:20:28.940Z"
   },
   {
    "duration": 10,
    "start_time": "2022-12-14T03:20:28.945Z"
   },
   {
    "duration": 485,
    "start_time": "2022-12-14T03:20:28.956Z"
   },
   {
    "duration": 97,
    "start_time": "2022-12-14T03:20:29.442Z"
   },
   {
    "duration": 0,
    "start_time": "2022-12-14T03:20:29.540Z"
   },
   {
    "duration": 16,
    "start_time": "2022-12-14T03:21:59.879Z"
   },
   {
    "duration": 25,
    "start_time": "2022-12-14T03:22:08.432Z"
   },
   {
    "duration": 47,
    "start_time": "2022-12-14T03:24:09.824Z"
   },
   {
    "duration": 44,
    "start_time": "2022-12-14T03:25:23.985Z"
   },
   {
    "duration": 31,
    "start_time": "2022-12-14T03:25:28.279Z"
   },
   {
    "duration": 39,
    "start_time": "2022-12-14T03:25:51.368Z"
   },
   {
    "duration": 32,
    "start_time": "2022-12-14T03:25:58.385Z"
   },
   {
    "duration": 32,
    "start_time": "2022-12-14T03:26:11.640Z"
   },
   {
    "duration": 46,
    "start_time": "2022-12-14T03:26:14.537Z"
   },
   {
    "duration": 37,
    "start_time": "2022-12-14T03:26:46.162Z"
   },
   {
    "duration": 37,
    "start_time": "2022-12-14T03:27:22.610Z"
   },
   {
    "duration": 44,
    "start_time": "2022-12-14T03:27:36.675Z"
   },
   {
    "duration": 44,
    "start_time": "2022-12-14T03:30:25.570Z"
   },
   {
    "duration": 48,
    "start_time": "2022-12-14T03:32:48.022Z"
   },
   {
    "duration": 45,
    "start_time": "2022-12-14T03:32:56.560Z"
   },
   {
    "duration": 38,
    "start_time": "2022-12-14T03:33:15.418Z"
   },
   {
    "duration": 46,
    "start_time": "2022-12-14T15:46:47.240Z"
   },
   {
    "duration": 1225,
    "start_time": "2022-12-14T15:47:07.568Z"
   },
   {
    "duration": 313,
    "start_time": "2022-12-14T15:47:08.794Z"
   },
   {
    "duration": 2,
    "start_time": "2022-12-14T15:47:09.109Z"
   },
   {
    "duration": 37,
    "start_time": "2022-12-14T15:47:09.113Z"
   },
   {
    "duration": 15,
    "start_time": "2022-12-14T15:47:09.151Z"
   },
   {
    "duration": 1814,
    "start_time": "2022-12-14T15:47:09.168Z"
   },
   {
    "duration": 8,
    "start_time": "2022-12-14T15:47:10.984Z"
   },
   {
    "duration": 5,
    "start_time": "2022-12-14T15:47:10.994Z"
   },
   {
    "duration": 7,
    "start_time": "2022-12-14T15:47:11.001Z"
   },
   {
    "duration": 4,
    "start_time": "2022-12-14T15:47:11.010Z"
   },
   {
    "duration": 6,
    "start_time": "2022-12-14T15:47:11.015Z"
   },
   {
    "duration": 21,
    "start_time": "2022-12-14T15:47:11.022Z"
   },
   {
    "duration": 7,
    "start_time": "2022-12-14T15:47:11.044Z"
   },
   {
    "duration": 14,
    "start_time": "2022-12-14T15:47:11.053Z"
   },
   {
    "duration": 6,
    "start_time": "2022-12-14T15:47:11.069Z"
   },
   {
    "duration": 22,
    "start_time": "2022-12-14T15:47:11.076Z"
   },
   {
    "duration": 16,
    "start_time": "2022-12-14T15:47:11.101Z"
   },
   {
    "duration": 4,
    "start_time": "2022-12-14T15:47:11.118Z"
   },
   {
    "duration": 7,
    "start_time": "2022-12-14T15:47:11.123Z"
   },
   {
    "duration": 5,
    "start_time": "2022-12-14T15:47:11.132Z"
   },
   {
    "duration": 6,
    "start_time": "2022-12-14T15:47:11.138Z"
   },
   {
    "duration": 4,
    "start_time": "2022-12-14T15:47:11.146Z"
   },
   {
    "duration": 9,
    "start_time": "2022-12-14T15:47:11.151Z"
   },
   {
    "duration": 40,
    "start_time": "2022-12-14T15:47:11.161Z"
   },
   {
    "duration": 570,
    "start_time": "2022-12-14T15:47:11.202Z"
   },
   {
    "duration": 9,
    "start_time": "2022-12-14T15:47:11.773Z"
   },
   {
    "duration": 19,
    "start_time": "2022-12-14T15:47:11.784Z"
   },
   {
    "duration": 15,
    "start_time": "2022-12-14T15:47:11.807Z"
   },
   {
    "duration": 15,
    "start_time": "2022-12-14T15:47:11.824Z"
   },
   {
    "duration": 18,
    "start_time": "2022-12-14T15:47:11.840Z"
   },
   {
    "duration": 6,
    "start_time": "2022-12-14T15:47:11.860Z"
   },
   {
    "duration": 35,
    "start_time": "2022-12-14T15:47:11.868Z"
   },
   {
    "duration": 5,
    "start_time": "2022-12-14T15:47:11.905Z"
   },
   {
    "duration": 17,
    "start_time": "2022-12-14T15:47:11.911Z"
   },
   {
    "duration": 32,
    "start_time": "2022-12-14T15:47:11.929Z"
   },
   {
    "duration": 309,
    "start_time": "2022-12-14T15:47:11.963Z"
   },
   {
    "duration": 7,
    "start_time": "2022-12-14T15:47:12.274Z"
   },
   {
    "duration": 17,
    "start_time": "2022-12-14T15:47:12.283Z"
   },
   {
    "duration": 316,
    "start_time": "2022-12-14T15:47:12.302Z"
   },
   {
    "duration": 9,
    "start_time": "2022-12-14T15:47:12.620Z"
   },
   {
    "duration": 329,
    "start_time": "2022-12-14T15:47:12.631Z"
   },
   {
    "duration": 10,
    "start_time": "2022-12-14T15:47:12.962Z"
   },
   {
    "duration": 258,
    "start_time": "2022-12-14T15:47:12.975Z"
   },
   {
    "duration": 9,
    "start_time": "2022-12-14T15:47:13.235Z"
   },
   {
    "duration": 1306,
    "start_time": "2022-12-14T15:47:13.246Z"
   },
   {
    "duration": 8,
    "start_time": "2022-12-14T15:47:14.554Z"
   },
   {
    "duration": 308,
    "start_time": "2022-12-14T15:47:14.563Z"
   },
   {
    "duration": 11,
    "start_time": "2022-12-14T15:47:14.873Z"
   },
   {
    "duration": 253,
    "start_time": "2022-12-14T15:47:14.887Z"
   },
   {
    "duration": 8,
    "start_time": "2022-12-14T15:47:15.141Z"
   },
   {
    "duration": 227,
    "start_time": "2022-12-14T15:47:15.150Z"
   },
   {
    "duration": 10,
    "start_time": "2022-12-14T15:47:15.378Z"
   },
   {
    "duration": 360,
    "start_time": "2022-12-14T15:47:15.397Z"
   },
   {
    "duration": 9,
    "start_time": "2022-12-14T15:47:15.758Z"
   },
   {
    "duration": 231,
    "start_time": "2022-12-14T15:47:15.768Z"
   },
   {
    "duration": 9,
    "start_time": "2022-12-14T15:47:16.000Z"
   },
   {
    "duration": 237,
    "start_time": "2022-12-14T15:47:16.011Z"
   },
   {
    "duration": 9,
    "start_time": "2022-12-14T15:47:16.249Z"
   },
   {
    "duration": 207,
    "start_time": "2022-12-14T15:47:16.260Z"
   },
   {
    "duration": 8,
    "start_time": "2022-12-14T15:47:16.469Z"
   },
   {
    "duration": 221,
    "start_time": "2022-12-14T15:47:16.479Z"
   },
   {
    "duration": 229,
    "start_time": "2022-12-14T15:47:16.702Z"
   },
   {
    "duration": 223,
    "start_time": "2022-12-14T15:47:16.933Z"
   },
   {
    "duration": 229,
    "start_time": "2022-12-14T15:47:17.158Z"
   },
   {
    "duration": 11,
    "start_time": "2022-12-14T15:47:17.388Z"
   },
   {
    "duration": 31,
    "start_time": "2022-12-14T15:47:17.400Z"
   },
   {
    "duration": 137,
    "start_time": "2022-12-14T15:47:17.432Z"
   },
   {
    "duration": 0,
    "start_time": "2022-12-14T15:47:17.571Z"
   },
   {
    "duration": 0,
    "start_time": "2022-12-14T15:47:17.572Z"
   },
   {
    "duration": 25,
    "start_time": "2022-12-14T15:47:37.131Z"
   },
   {
    "duration": 33,
    "start_time": "2022-12-14T15:47:44.827Z"
   },
   {
    "duration": 19,
    "start_time": "2022-12-14T15:48:00.611Z"
   },
   {
    "duration": 15,
    "start_time": "2022-12-14T15:48:14.932Z"
   },
   {
    "duration": 47,
    "start_time": "2022-12-14T15:48:51.525Z"
   },
   {
    "duration": 14,
    "start_time": "2022-12-14T15:49:11.070Z"
   },
   {
    "duration": 19,
    "start_time": "2022-12-14T15:49:18.428Z"
   },
   {
    "duration": 209,
    "start_time": "2022-12-14T15:49:35.051Z"
   },
   {
    "duration": 16,
    "start_time": "2022-12-14T15:52:47.952Z"
   },
   {
    "duration": 4,
    "start_time": "2022-12-14T15:54:38.352Z"
   },
   {
    "duration": 13,
    "start_time": "2022-12-14T15:54:48.071Z"
   },
   {
    "duration": 12,
    "start_time": "2022-12-14T15:56:58.010Z"
   },
   {
    "duration": 6,
    "start_time": "2022-12-14T15:57:07.225Z"
   },
   {
    "duration": 5,
    "start_time": "2022-12-14T15:57:13.560Z"
   },
   {
    "duration": 125,
    "start_time": "2022-12-14T15:57:20.610Z"
   },
   {
    "duration": 10,
    "start_time": "2022-12-14T15:58:04.066Z"
   },
   {
    "duration": 5,
    "start_time": "2022-12-14T15:58:15.123Z"
   },
   {
    "duration": 8,
    "start_time": "2022-12-14T15:59:10.494Z"
   },
   {
    "duration": 7,
    "start_time": "2022-12-14T15:59:46.371Z"
   },
   {
    "duration": 9,
    "start_time": "2022-12-14T15:59:59.014Z"
   },
   {
    "duration": 9,
    "start_time": "2022-12-14T16:00:09.694Z"
   },
   {
    "duration": 119,
    "start_time": "2022-12-14T16:00:48.107Z"
   },
   {
    "duration": 22,
    "start_time": "2022-12-14T16:02:05.012Z"
   },
   {
    "duration": 18,
    "start_time": "2022-12-14T16:02:38.751Z"
   },
   {
    "duration": 12,
    "start_time": "2022-12-14T16:02:41.479Z"
   },
   {
    "duration": 7,
    "start_time": "2022-12-14T16:02:50.823Z"
   },
   {
    "duration": 13,
    "start_time": "2022-12-14T16:04:02.262Z"
   },
   {
    "duration": 12,
    "start_time": "2022-12-14T16:04:59.703Z"
   },
   {
    "duration": 52,
    "start_time": "2022-12-14T16:05:21.763Z"
   },
   {
    "duration": 11,
    "start_time": "2022-12-14T16:05:37.608Z"
   },
   {
    "duration": 14,
    "start_time": "2022-12-14T16:05:47.113Z"
   },
   {
    "duration": 19,
    "start_time": "2022-12-14T16:05:57.599Z"
   },
   {
    "duration": 1153,
    "start_time": "2022-12-14T16:06:23.630Z"
   },
   {
    "duration": 273,
    "start_time": "2022-12-14T16:13:42.016Z"
   },
   {
    "duration": 251,
    "start_time": "2022-12-14T16:13:50.948Z"
   },
   {
    "duration": 14,
    "start_time": "2022-12-14T16:25:20.162Z"
   },
   {
    "duration": 20,
    "start_time": "2022-12-14T16:25:24.244Z"
   },
   {
    "duration": 23,
    "start_time": "2022-12-14T16:27:21.223Z"
   },
   {
    "duration": 23,
    "start_time": "2022-12-14T16:27:38.742Z"
   },
   {
    "duration": 18,
    "start_time": "2022-12-14T16:27:45.594Z"
   },
   {
    "duration": 1107,
    "start_time": "2022-12-14T16:30:43.393Z"
   },
   {
    "duration": 92,
    "start_time": "2022-12-14T16:30:44.502Z"
   },
   {
    "duration": 3,
    "start_time": "2022-12-14T16:30:44.596Z"
   },
   {
    "duration": 55,
    "start_time": "2022-12-14T16:30:44.602Z"
   },
   {
    "duration": 20,
    "start_time": "2022-12-14T16:30:44.659Z"
   },
   {
    "duration": 1893,
    "start_time": "2022-12-14T16:30:44.681Z"
   },
   {
    "duration": 9,
    "start_time": "2022-12-14T16:30:46.575Z"
   },
   {
    "duration": 6,
    "start_time": "2022-12-14T16:30:46.586Z"
   },
   {
    "duration": 6,
    "start_time": "2022-12-14T16:30:46.594Z"
   },
   {
    "duration": 5,
    "start_time": "2022-12-14T16:30:46.602Z"
   },
   {
    "duration": 12,
    "start_time": "2022-12-14T16:30:46.609Z"
   },
   {
    "duration": 19,
    "start_time": "2022-12-14T16:30:46.623Z"
   },
   {
    "duration": 7,
    "start_time": "2022-12-14T16:30:46.644Z"
   },
   {
    "duration": 16,
    "start_time": "2022-12-14T16:30:46.653Z"
   },
   {
    "duration": 6,
    "start_time": "2022-12-14T16:30:46.671Z"
   },
   {
    "duration": 20,
    "start_time": "2022-12-14T16:30:46.678Z"
   },
   {
    "duration": 24,
    "start_time": "2022-12-14T16:30:46.699Z"
   },
   {
    "duration": 6,
    "start_time": "2022-12-14T16:30:46.724Z"
   },
   {
    "duration": 9,
    "start_time": "2022-12-14T16:30:46.732Z"
   },
   {
    "duration": 14,
    "start_time": "2022-12-14T16:30:46.742Z"
   },
   {
    "duration": 9,
    "start_time": "2022-12-14T16:30:46.757Z"
   },
   {
    "duration": 5,
    "start_time": "2022-12-14T16:30:46.767Z"
   },
   {
    "duration": 27,
    "start_time": "2022-12-14T16:30:46.774Z"
   },
   {
    "duration": 8,
    "start_time": "2022-12-14T16:30:46.803Z"
   },
   {
    "duration": 618,
    "start_time": "2022-12-14T16:30:46.813Z"
   },
   {
    "duration": 9,
    "start_time": "2022-12-14T16:30:47.433Z"
   },
   {
    "duration": 26,
    "start_time": "2022-12-14T16:30:47.443Z"
   },
   {
    "duration": 21,
    "start_time": "2022-12-14T16:30:47.473Z"
   },
   {
    "duration": 27,
    "start_time": "2022-12-14T16:30:47.496Z"
   },
   {
    "duration": 14,
    "start_time": "2022-12-14T16:30:47.525Z"
   },
   {
    "duration": 19,
    "start_time": "2022-12-14T16:30:47.541Z"
   },
   {
    "duration": 14,
    "start_time": "2022-12-14T16:30:47.561Z"
   },
   {
    "duration": 5,
    "start_time": "2022-12-14T16:30:47.577Z"
   },
   {
    "duration": 10,
    "start_time": "2022-12-14T16:30:47.583Z"
   },
   {
    "duration": 7,
    "start_time": "2022-12-14T16:30:47.595Z"
   },
   {
    "duration": 357,
    "start_time": "2022-12-14T16:30:47.604Z"
   },
   {
    "duration": 8,
    "start_time": "2022-12-14T16:30:47.966Z"
   },
   {
    "duration": 38,
    "start_time": "2022-12-14T16:30:47.977Z"
   },
   {
    "duration": 369,
    "start_time": "2022-12-14T16:30:48.016Z"
   },
   {
    "duration": 13,
    "start_time": "2022-12-14T16:30:48.387Z"
   },
   {
    "duration": 333,
    "start_time": "2022-12-14T16:30:48.402Z"
   },
   {
    "duration": 10,
    "start_time": "2022-12-14T16:30:48.737Z"
   },
   {
    "duration": 268,
    "start_time": "2022-12-14T16:30:48.749Z"
   },
   {
    "duration": 12,
    "start_time": "2022-12-14T16:30:49.019Z"
   },
   {
    "duration": 1568,
    "start_time": "2022-12-14T16:30:49.033Z"
   },
   {
    "duration": 9,
    "start_time": "2022-12-14T16:30:50.603Z"
   },
   {
    "duration": 280,
    "start_time": "2022-12-14T16:30:50.614Z"
   },
   {
    "duration": 10,
    "start_time": "2022-12-14T16:30:50.897Z"
   },
   {
    "duration": 279,
    "start_time": "2022-12-14T16:30:50.908Z"
   },
   {
    "duration": 14,
    "start_time": "2022-12-14T16:30:51.189Z"
   },
   {
    "duration": 265,
    "start_time": "2022-12-14T16:30:51.204Z"
   },
   {
    "duration": 10,
    "start_time": "2022-12-14T16:30:51.471Z"
   },
   {
    "duration": 417,
    "start_time": "2022-12-14T16:30:51.482Z"
   },
   {
    "duration": 10,
    "start_time": "2022-12-14T16:30:51.901Z"
   },
   {
    "duration": 248,
    "start_time": "2022-12-14T16:30:51.913Z"
   },
   {
    "duration": 11,
    "start_time": "2022-12-14T16:30:52.162Z"
   },
   {
    "duration": 249,
    "start_time": "2022-12-14T16:30:52.174Z"
   },
   {
    "duration": 9,
    "start_time": "2022-12-14T16:30:52.425Z"
   },
   {
    "duration": 222,
    "start_time": "2022-12-14T16:30:52.435Z"
   },
   {
    "duration": 8,
    "start_time": "2022-12-14T16:30:52.659Z"
   },
   {
    "duration": 224,
    "start_time": "2022-12-14T16:30:52.668Z"
   },
   {
    "duration": 222,
    "start_time": "2022-12-14T16:30:52.894Z"
   },
   {
    "duration": 223,
    "start_time": "2022-12-14T16:30:53.117Z"
   },
   {
    "duration": 218,
    "start_time": "2022-12-14T16:30:53.342Z"
   },
   {
    "duration": 4,
    "start_time": "2022-12-14T16:30:53.561Z"
   },
   {
    "duration": 31,
    "start_time": "2022-12-14T16:30:53.567Z"
   },
   {
    "duration": 227,
    "start_time": "2022-12-14T16:30:53.600Z"
   },
   {
    "duration": 104,
    "start_time": "2022-12-14T16:30:53.829Z"
   },
   {
    "duration": 0,
    "start_time": "2022-12-14T16:30:53.935Z"
   },
   {
    "duration": 59,
    "start_time": "2022-12-14T16:32:23.696Z"
   },
   {
    "duration": 262,
    "start_time": "2022-12-14T16:34:13.579Z"
   },
   {
    "duration": 49,
    "start_time": "2022-12-14T16:40:05.202Z"
   },
   {
    "duration": 68,
    "start_time": "2022-12-14T16:40:28.082Z"
   },
   {
    "duration": 51,
    "start_time": "2022-12-14T16:40:30.138Z"
   },
   {
    "duration": 259,
    "start_time": "2022-12-14T16:40:39.745Z"
   },
   {
    "duration": 491,
    "start_time": "2022-12-14T16:41:19.258Z"
   },
   {
    "duration": 484,
    "start_time": "2022-12-14T16:42:01.810Z"
   },
   {
    "duration": 43,
    "start_time": "2022-12-14T16:46:14.300Z"
   },
   {
    "duration": 178,
    "start_time": "2022-12-14T16:46:31.637Z"
   },
   {
    "duration": 45,
    "start_time": "2022-12-14T16:46:54.196Z"
   },
   {
    "duration": 434,
    "start_time": "2022-12-14T16:46:56.165Z"
   },
   {
    "duration": 164,
    "start_time": "2022-12-14T16:47:21.572Z"
   },
   {
    "duration": 447,
    "start_time": "2022-12-14T16:48:02.950Z"
   },
   {
    "duration": 896,
    "start_time": "2022-12-14T16:48:57.150Z"
   },
   {
    "duration": 934,
    "start_time": "2022-12-14T16:49:54.264Z"
   },
   {
    "duration": 1149,
    "start_time": "2022-12-14T16:50:13.949Z"
   },
   {
    "duration": 840,
    "start_time": "2022-12-14T16:50:20.262Z"
   },
   {
    "duration": 854,
    "start_time": "2022-12-14T16:50:31.814Z"
   },
   {
    "duration": 942,
    "start_time": "2022-12-14T16:50:44.006Z"
   },
   {
    "duration": 46,
    "start_time": "2022-12-14T16:52:18.193Z"
   },
   {
    "duration": 41,
    "start_time": "2022-12-14T16:52:33.682Z"
   },
   {
    "duration": 44,
    "start_time": "2022-12-14T16:54:35.377Z"
   },
   {
    "duration": 1167,
    "start_time": "2022-12-14T16:55:01.715Z"
   },
   {
    "duration": 1660,
    "start_time": "2022-12-14T16:55:24.274Z"
   },
   {
    "duration": 11,
    "start_time": "2022-12-14T16:59:33.021Z"
   },
   {
    "duration": 900,
    "start_time": "2022-12-14T17:00:12.565Z"
   },
   {
    "duration": 21,
    "start_time": "2022-12-14T17:00:25.677Z"
   },
   {
    "duration": 10,
    "start_time": "2022-12-14T17:00:33.390Z"
   },
   {
    "duration": 11,
    "start_time": "2022-12-14T17:01:03.764Z"
   },
   {
    "duration": 10,
    "start_time": "2022-12-14T17:02:04.711Z"
   },
   {
    "duration": 13,
    "start_time": "2022-12-14T17:03:39.120Z"
   },
   {
    "duration": 64,
    "start_time": "2022-12-14T17:03:53.728Z"
   },
   {
    "duration": 13,
    "start_time": "2022-12-14T17:04:14.604Z"
   },
   {
    "duration": 11,
    "start_time": "2022-12-14T17:04:23.352Z"
   },
   {
    "duration": 13,
    "start_time": "2022-12-14T17:10:40.484Z"
   },
   {
    "duration": 11,
    "start_time": "2022-12-14T17:11:53.132Z"
   },
   {
    "duration": 12,
    "start_time": "2022-12-14T17:11:56.125Z"
   },
   {
    "duration": 19,
    "start_time": "2022-12-14T17:12:02.428Z"
   },
   {
    "duration": 16,
    "start_time": "2022-12-14T17:54:37.771Z"
   },
   {
    "duration": 47,
    "start_time": "2022-12-14T17:55:27.216Z"
   },
   {
    "duration": 133,
    "start_time": "2022-12-14T17:55:45.372Z"
   },
   {
    "duration": 131,
    "start_time": "2022-12-14T17:56:25.667Z"
   },
   {
    "duration": 140,
    "start_time": "2022-12-14T17:56:30.324Z"
   },
   {
    "duration": 139,
    "start_time": "2022-12-14T17:56:47.636Z"
   },
   {
    "duration": 136,
    "start_time": "2022-12-14T17:57:20.524Z"
   },
   {
    "duration": 134,
    "start_time": "2022-12-14T17:58:07.254Z"
   },
   {
    "duration": 135,
    "start_time": "2022-12-14T17:58:16.213Z"
   },
   {
    "duration": 147,
    "start_time": "2022-12-14T17:58:20.140Z"
   },
   {
    "duration": 161,
    "start_time": "2022-12-14T17:58:29.980Z"
   },
   {
    "duration": 15,
    "start_time": "2022-12-14T17:59:10.595Z"
   },
   {
    "duration": 17,
    "start_time": "2022-12-14T17:59:14.359Z"
   },
   {
    "duration": 15,
    "start_time": "2022-12-14T17:59:19.974Z"
   },
   {
    "duration": 15,
    "start_time": "2022-12-14T17:59:46.694Z"
   },
   {
    "duration": 9,
    "start_time": "2022-12-14T18:01:53.751Z"
   },
   {
    "duration": 5,
    "start_time": "2022-12-14T18:04:03.915Z"
   },
   {
    "duration": 47,
    "start_time": "2022-12-14T18:04:29.344Z"
   },
   {
    "duration": 56,
    "start_time": "2022-12-14T18:05:37.545Z"
   },
   {
    "duration": 50,
    "start_time": "2022-12-14T18:05:52.371Z"
   },
   {
    "duration": 10,
    "start_time": "2022-12-14T18:06:00.375Z"
   },
   {
    "duration": 1079,
    "start_time": "2022-12-14T18:06:15.009Z"
   },
   {
    "duration": 92,
    "start_time": "2022-12-14T18:06:16.090Z"
   },
   {
    "duration": 3,
    "start_time": "2022-12-14T18:06:16.183Z"
   },
   {
    "duration": 37,
    "start_time": "2022-12-14T18:06:16.187Z"
   },
   {
    "duration": 14,
    "start_time": "2022-12-14T18:06:16.226Z"
   },
   {
    "duration": 2004,
    "start_time": "2022-12-14T18:06:16.242Z"
   },
   {
    "duration": 11,
    "start_time": "2022-12-14T18:06:18.248Z"
   },
   {
    "duration": 6,
    "start_time": "2022-12-14T18:06:18.260Z"
   },
   {
    "duration": 7,
    "start_time": "2022-12-14T18:06:18.267Z"
   },
   {
    "duration": 7,
    "start_time": "2022-12-14T18:06:18.277Z"
   },
   {
    "duration": 11,
    "start_time": "2022-12-14T18:06:18.286Z"
   },
   {
    "duration": 17,
    "start_time": "2022-12-14T18:06:18.298Z"
   },
   {
    "duration": 8,
    "start_time": "2022-12-14T18:06:18.317Z"
   },
   {
    "duration": 19,
    "start_time": "2022-12-14T18:06:18.327Z"
   },
   {
    "duration": 6,
    "start_time": "2022-12-14T18:06:18.348Z"
   },
   {
    "duration": 6,
    "start_time": "2022-12-14T18:06:18.356Z"
   },
   {
    "duration": 50,
    "start_time": "2022-12-14T18:06:18.364Z"
   },
   {
    "duration": 5,
    "start_time": "2022-12-14T18:06:18.416Z"
   },
   {
    "duration": 8,
    "start_time": "2022-12-14T18:06:18.423Z"
   },
   {
    "duration": 6,
    "start_time": "2022-12-14T18:06:18.432Z"
   },
   {
    "duration": 6,
    "start_time": "2022-12-14T18:06:18.439Z"
   },
   {
    "duration": 9,
    "start_time": "2022-12-14T18:06:18.447Z"
   },
   {
    "duration": 40,
    "start_time": "2022-12-14T18:06:18.458Z"
   },
   {
    "duration": 9,
    "start_time": "2022-12-14T18:06:18.500Z"
   },
   {
    "duration": 591,
    "start_time": "2022-12-14T18:06:18.510Z"
   },
   {
    "duration": 11,
    "start_time": "2022-12-14T18:06:19.103Z"
   },
   {
    "duration": 29,
    "start_time": "2022-12-14T18:06:19.116Z"
   },
   {
    "duration": 10,
    "start_time": "2022-12-14T18:06:19.149Z"
   },
   {
    "duration": 30,
    "start_time": "2022-12-14T18:06:19.160Z"
   },
   {
    "duration": 10,
    "start_time": "2022-12-14T18:06:19.192Z"
   },
   {
    "duration": 6,
    "start_time": "2022-12-14T18:06:19.203Z"
   },
   {
    "duration": 13,
    "start_time": "2022-12-14T18:06:19.211Z"
   },
   {
    "duration": 5,
    "start_time": "2022-12-14T18:06:19.225Z"
   },
   {
    "duration": 9,
    "start_time": "2022-12-14T18:06:19.231Z"
   },
   {
    "duration": 6,
    "start_time": "2022-12-14T18:06:19.242Z"
   },
   {
    "duration": 367,
    "start_time": "2022-12-14T18:06:19.250Z"
   },
   {
    "duration": 7,
    "start_time": "2022-12-14T18:06:19.618Z"
   },
   {
    "duration": 12,
    "start_time": "2022-12-14T18:06:19.627Z"
   },
   {
    "duration": 368,
    "start_time": "2022-12-14T18:06:19.641Z"
   },
   {
    "duration": 9,
    "start_time": "2022-12-14T18:06:20.011Z"
   },
   {
    "duration": 353,
    "start_time": "2022-12-14T18:06:20.022Z"
   },
   {
    "duration": 11,
    "start_time": "2022-12-14T18:06:20.376Z"
   },
   {
    "duration": 242,
    "start_time": "2022-12-14T18:06:20.397Z"
   },
   {
    "duration": 9,
    "start_time": "2022-12-14T18:06:20.641Z"
   },
   {
    "duration": 1365,
    "start_time": "2022-12-14T18:06:20.651Z"
   },
   {
    "duration": 9,
    "start_time": "2022-12-14T18:06:22.018Z"
   },
   {
    "duration": 285,
    "start_time": "2022-12-14T18:06:22.029Z"
   },
   {
    "duration": 10,
    "start_time": "2022-12-14T18:06:22.316Z"
   },
   {
    "duration": 267,
    "start_time": "2022-12-14T18:06:22.327Z"
   },
   {
    "duration": 8,
    "start_time": "2022-12-14T18:06:22.597Z"
   },
   {
    "duration": 250,
    "start_time": "2022-12-14T18:06:22.606Z"
   },
   {
    "duration": 9,
    "start_time": "2022-12-14T18:06:22.857Z"
   },
   {
    "duration": 379,
    "start_time": "2022-12-14T18:06:22.868Z"
   },
   {
    "duration": 9,
    "start_time": "2022-12-14T18:06:23.248Z"
   },
   {
    "duration": 241,
    "start_time": "2022-12-14T18:06:23.258Z"
   },
   {
    "duration": 9,
    "start_time": "2022-12-14T18:06:23.500Z"
   },
   {
    "duration": 236,
    "start_time": "2022-12-14T18:06:23.511Z"
   },
   {
    "duration": 10,
    "start_time": "2022-12-14T18:06:23.748Z"
   },
   {
    "duration": 231,
    "start_time": "2022-12-14T18:06:23.759Z"
   },
   {
    "duration": 12,
    "start_time": "2022-12-14T18:06:23.992Z"
   },
   {
    "duration": 224,
    "start_time": "2022-12-14T18:06:24.006Z"
   },
   {
    "duration": 215,
    "start_time": "2022-12-14T18:06:24.232Z"
   },
   {
    "duration": 241,
    "start_time": "2022-12-14T18:06:24.449Z"
   },
   {
    "duration": 285,
    "start_time": "2022-12-14T18:06:24.692Z"
   },
   {
    "duration": 4,
    "start_time": "2022-12-14T18:06:24.978Z"
   },
   {
    "duration": 15,
    "start_time": "2022-12-14T18:06:24.983Z"
   },
   {
    "duration": 20,
    "start_time": "2022-12-14T18:06:25.000Z"
   },
   {
    "duration": 2,
    "start_time": "2022-12-14T18:06:25.021Z"
   },
   {
    "duration": 148,
    "start_time": "2022-12-14T18:06:25.025Z"
   },
   {
    "duration": 0,
    "start_time": "2022-12-14T18:06:25.175Z"
   },
   {
    "duration": 0,
    "start_time": "2022-12-14T18:06:25.176Z"
   },
   {
    "duration": 11,
    "start_time": "2022-12-14T18:06:38.089Z"
   },
   {
    "duration": 10,
    "start_time": "2022-12-14T18:06:55.090Z"
   },
   {
    "duration": 9,
    "start_time": "2022-12-14T18:06:57.219Z"
   },
   {
    "duration": 13,
    "start_time": "2022-12-14T18:07:11.714Z"
   },
   {
    "duration": 12,
    "start_time": "2022-12-14T18:07:20.140Z"
   },
   {
    "duration": 11,
    "start_time": "2022-12-14T18:07:58.659Z"
   },
   {
    "duration": 335,
    "start_time": "2022-12-14T18:08:00.307Z"
   },
   {
    "duration": 11,
    "start_time": "2022-12-14T18:08:12.931Z"
   },
   {
    "duration": 9,
    "start_time": "2022-12-14T18:08:26.851Z"
   },
   {
    "duration": 39,
    "start_time": "2022-12-14T18:13:01.134Z"
   },
   {
    "duration": 67,
    "start_time": "2022-12-14T18:13:16.516Z"
   },
   {
    "duration": 137,
    "start_time": "2022-12-14T18:13:21.686Z"
   },
   {
    "duration": 40,
    "start_time": "2022-12-14T18:14:14.936Z"
   },
   {
    "duration": 21,
    "start_time": "2022-12-14T18:15:19.847Z"
   },
   {
    "duration": 52,
    "start_time": "2022-12-14T18:15:30.664Z"
   },
   {
    "duration": 21,
    "start_time": "2022-12-14T18:15:34.704Z"
   },
   {
    "duration": 40,
    "start_time": "2022-12-14T18:15:48.480Z"
   },
   {
    "duration": 11,
    "start_time": "2022-12-14T18:16:43.282Z"
   },
   {
    "duration": 40,
    "start_time": "2022-12-14T18:16:50.235Z"
   },
   {
    "duration": 13,
    "start_time": "2022-12-14T18:17:11.433Z"
   },
   {
    "duration": 20,
    "start_time": "2022-12-14T18:17:23.545Z"
   },
   {
    "duration": 15,
    "start_time": "2022-12-14T18:18:49.277Z"
   },
   {
    "duration": 127,
    "start_time": "2022-12-14T18:19:26.851Z"
   },
   {
    "duration": 112,
    "start_time": "2022-12-14T18:19:53.316Z"
   },
   {
    "duration": 139,
    "start_time": "2022-12-14T18:21:03.511Z"
   },
   {
    "duration": 123,
    "start_time": "2022-12-14T18:26:23.957Z"
   },
   {
    "duration": 171,
    "start_time": "2022-12-14T18:26:45.465Z"
   },
   {
    "duration": 35,
    "start_time": "2022-12-14T18:27:30.969Z"
   },
   {
    "duration": 24,
    "start_time": "2022-12-14T18:27:42.162Z"
   },
   {
    "duration": 170,
    "start_time": "2022-12-14T18:27:51.210Z"
   },
   {
    "duration": 185,
    "start_time": "2022-12-14T18:28:56.026Z"
   },
   {
    "duration": 13,
    "start_time": "2022-12-14T18:30:15.163Z"
   },
   {
    "duration": 13,
    "start_time": "2022-12-14T18:30:17.883Z"
   },
   {
    "duration": 19,
    "start_time": "2022-12-14T18:30:24.804Z"
   },
   {
    "duration": 20,
    "start_time": "2022-12-14T18:31:07.593Z"
   },
   {
    "duration": 20,
    "start_time": "2022-12-14T18:31:41.477Z"
   },
   {
    "duration": 172,
    "start_time": "2022-12-14T18:33:37.914Z"
   },
   {
    "duration": 177,
    "start_time": "2022-12-14T18:33:39.544Z"
   },
   {
    "duration": 186,
    "start_time": "2022-12-14T18:33:40.269Z"
   },
   {
    "duration": 161,
    "start_time": "2022-12-14T18:35:18.254Z"
   },
   {
    "duration": 177,
    "start_time": "2022-12-14T18:36:27.998Z"
   },
   {
    "duration": 196,
    "start_time": "2022-12-14T18:37:17.839Z"
   },
   {
    "duration": 209,
    "start_time": "2022-12-14T18:37:19.847Z"
   },
   {
    "duration": 177,
    "start_time": "2022-12-14T18:37:24.231Z"
   },
   {
    "duration": 198,
    "start_time": "2022-12-14T18:41:25.275Z"
   },
   {
    "duration": 186,
    "start_time": "2022-12-14T18:41:56.139Z"
   },
   {
    "duration": 175,
    "start_time": "2022-12-14T18:43:39.318Z"
   },
   {
    "duration": 187,
    "start_time": "2022-12-14T18:43:53.404Z"
   },
   {
    "duration": 783,
    "start_time": "2022-12-14T18:44:23.119Z"
   },
   {
    "duration": 172,
    "start_time": "2022-12-14T18:44:28.365Z"
   },
   {
    "duration": 174,
    "start_time": "2022-12-14T18:44:59.797Z"
   },
   {
    "duration": 176,
    "start_time": "2022-12-14T18:45:18.159Z"
   },
   {
    "duration": 186,
    "start_time": "2022-12-14T18:46:57.383Z"
   },
   {
    "duration": 185,
    "start_time": "2022-12-14T18:47:05.649Z"
   },
   {
    "duration": 160,
    "start_time": "2022-12-14T18:47:16.430Z"
   },
   {
    "duration": 155,
    "start_time": "2022-12-14T18:47:23.725Z"
   },
   {
    "duration": 177,
    "start_time": "2022-12-14T18:47:37.671Z"
   },
   {
    "duration": 176,
    "start_time": "2022-12-14T18:47:56.951Z"
   },
   {
    "duration": 5,
    "start_time": "2022-12-14T18:50:21.217Z"
   },
   {
    "duration": 5,
    "start_time": "2022-12-14T18:53:33.995Z"
   },
   {
    "duration": 55,
    "start_time": "2022-12-14T18:56:14.832Z"
   },
   {
    "duration": 5,
    "start_time": "2022-12-14T18:56:53.598Z"
   },
   {
    "duration": 5,
    "start_time": "2022-12-14T18:58:39.120Z"
   },
   {
    "duration": 5,
    "start_time": "2022-12-14T19:04:57.384Z"
   },
   {
    "duration": 307,
    "start_time": "2022-12-14T19:06:55.422Z"
   },
   {
    "duration": 7,
    "start_time": "2022-12-14T19:08:23.101Z"
   },
   {
    "duration": 8,
    "start_time": "2022-12-14T19:10:16.287Z"
   },
   {
    "duration": 281,
    "start_time": "2022-12-14T19:13:16.666Z"
   },
   {
    "duration": 8,
    "start_time": "2022-12-14T19:13:27.888Z"
   },
   {
    "duration": 10,
    "start_time": "2022-12-14T19:13:32.930Z"
   },
   {
    "duration": 10,
    "start_time": "2022-12-14T19:15:37.652Z"
   },
   {
    "duration": 5,
    "start_time": "2022-12-14T19:15:49.683Z"
   },
   {
    "duration": 10,
    "start_time": "2022-12-14T19:16:18.195Z"
   },
   {
    "duration": 114,
    "start_time": "2022-12-14T19:16:26.933Z"
   },
   {
    "duration": 18,
    "start_time": "2022-12-14T19:54:46.736Z"
   },
   {
    "duration": 24,
    "start_time": "2022-12-14T19:54:50.072Z"
   },
   {
    "duration": 26,
    "start_time": "2022-12-14T19:54:54.873Z"
   },
   {
    "duration": 51,
    "start_time": "2022-12-14T19:56:31.977Z"
   },
   {
    "duration": 45,
    "start_time": "2022-12-14T19:57:02.891Z"
   },
   {
    "duration": 14,
    "start_time": "2022-12-14T19:57:31.705Z"
   },
   {
    "duration": 15,
    "start_time": "2022-12-14T19:58:03.559Z"
   },
   {
    "duration": 57,
    "start_time": "2022-12-14T19:59:14.900Z"
   },
   {
    "duration": 5,
    "start_time": "2022-12-14T19:59:20.883Z"
   },
   {
    "duration": 9,
    "start_time": "2022-12-14T19:59:58.036Z"
   },
   {
    "duration": 9,
    "start_time": "2022-12-14T20:00:59.535Z"
   },
   {
    "duration": 9,
    "start_time": "2022-12-14T20:01:17.595Z"
   },
   {
    "duration": 9,
    "start_time": "2022-12-14T20:01:30.957Z"
   },
   {
    "duration": 9,
    "start_time": "2022-12-14T20:02:11.262Z"
   },
   {
    "duration": 9,
    "start_time": "2022-12-14T20:02:26.916Z"
   },
   {
    "duration": 9,
    "start_time": "2022-12-14T20:14:13.581Z"
   },
   {
    "duration": 8,
    "start_time": "2022-12-14T20:14:26.180Z"
   },
   {
    "duration": 43,
    "start_time": "2022-12-14T20:14:59.815Z"
   },
   {
    "duration": 12,
    "start_time": "2022-12-14T20:15:04.524Z"
   },
   {
    "duration": 8,
    "start_time": "2022-12-14T20:15:09.702Z"
   },
   {
    "duration": 6,
    "start_time": "2022-12-14T20:16:52.583Z"
   },
   {
    "duration": 8,
    "start_time": "2022-12-14T20:17:00.920Z"
   },
   {
    "duration": 43,
    "start_time": "2022-12-14T20:17:23.481Z"
   },
   {
    "duration": 45,
    "start_time": "2022-12-14T20:17:40.271Z"
   },
   {
    "duration": 12,
    "start_time": "2022-12-14T20:17:44.783Z"
   },
   {
    "duration": 9,
    "start_time": "2022-12-14T20:18:01.497Z"
   },
   {
    "duration": 42,
    "start_time": "2022-12-14T20:22:28.202Z"
   },
   {
    "duration": 9,
    "start_time": "2022-12-14T20:22:50.954Z"
   },
   {
    "duration": 10,
    "start_time": "2022-12-14T20:23:00.698Z"
   },
   {
    "duration": 24,
    "start_time": "2022-12-14T20:23:13.379Z"
   },
   {
    "duration": 26,
    "start_time": "2022-12-14T20:23:22.723Z"
   },
   {
    "duration": 31,
    "start_time": "2022-12-14T20:24:32.482Z"
   },
   {
    "duration": 22,
    "start_time": "2022-12-14T20:24:54.340Z"
   },
   {
    "duration": 23,
    "start_time": "2022-12-14T20:25:10.614Z"
   },
   {
    "duration": 23,
    "start_time": "2022-12-14T20:25:19.708Z"
   },
   {
    "duration": 26,
    "start_time": "2022-12-14T20:25:48.182Z"
   },
   {
    "duration": 24,
    "start_time": "2022-12-14T20:26:35.728Z"
   },
   {
    "duration": 23,
    "start_time": "2022-12-14T20:27:37.535Z"
   },
   {
    "duration": 22,
    "start_time": "2022-12-14T20:28:05.400Z"
   },
   {
    "duration": 23,
    "start_time": "2022-12-14T20:28:46.951Z"
   },
   {
    "duration": 25,
    "start_time": "2022-12-14T20:29:45.871Z"
   },
   {
    "duration": 22,
    "start_time": "2022-12-14T20:29:48.480Z"
   },
   {
    "duration": 23,
    "start_time": "2022-12-14T20:30:03.729Z"
   },
   {
    "duration": 25,
    "start_time": "2022-12-14T20:30:21.864Z"
   },
   {
    "duration": 26,
    "start_time": "2022-12-14T20:35:04.267Z"
   },
   {
    "duration": 23,
    "start_time": "2022-12-14T20:36:53.162Z"
   },
   {
    "duration": 23,
    "start_time": "2022-12-14T20:37:01.862Z"
   },
   {
    "duration": 26,
    "start_time": "2022-12-14T20:38:00.436Z"
   },
   {
    "duration": 31,
    "start_time": "2022-12-14T20:40:24.670Z"
   },
   {
    "duration": 24,
    "start_time": "2022-12-14T20:40:34.806Z"
   },
   {
    "duration": 6,
    "start_time": "2022-12-14T20:41:20.055Z"
   },
   {
    "duration": 846,
    "start_time": "2022-12-14T20:43:21.920Z"
   },
   {
    "duration": 11,
    "start_time": "2022-12-14T20:43:42.410Z"
   },
   {
    "duration": 636,
    "start_time": "2022-12-14T20:46:10.666Z"
   },
   {
    "duration": 712,
    "start_time": "2022-12-14T20:46:41.845Z"
   },
   {
    "duration": 7,
    "start_time": "2022-12-14T20:46:55.299Z"
   },
   {
    "duration": 729,
    "start_time": "2022-12-14T20:48:13.899Z"
   },
   {
    "duration": 6,
    "start_time": "2022-12-14T20:48:41.388Z"
   },
   {
    "duration": 15,
    "start_time": "2022-12-14T20:49:37.861Z"
   },
   {
    "duration": 57,
    "start_time": "2022-12-14T20:51:14.970Z"
   },
   {
    "duration": 34,
    "start_time": "2022-12-14T20:51:33.022Z"
   },
   {
    "duration": 76,
    "start_time": "2022-12-14T20:51:57.161Z"
   },
   {
    "duration": 29,
    "start_time": "2022-12-14T20:52:12.302Z"
   },
   {
    "duration": 24,
    "start_time": "2022-12-14T20:54:38.891Z"
   },
   {
    "duration": 25,
    "start_time": "2022-12-14T20:57:03.051Z"
   },
   {
    "duration": 25,
    "start_time": "2022-12-14T20:57:24.289Z"
   },
   {
    "duration": 8,
    "start_time": "2022-12-14T21:04:30.367Z"
   },
   {
    "duration": 24,
    "start_time": "2022-12-14T21:06:22.689Z"
   },
   {
    "duration": 18,
    "start_time": "2022-12-14T21:10:19.624Z"
   },
   {
    "duration": 12,
    "start_time": "2022-12-14T21:10:34.114Z"
   },
   {
    "duration": 16,
    "start_time": "2022-12-14T21:11:27.812Z"
   },
   {
    "duration": 18,
    "start_time": "2022-12-14T21:11:32.228Z"
   },
   {
    "duration": 11,
    "start_time": "2022-12-14T21:11:44.741Z"
   },
   {
    "duration": 12,
    "start_time": "2022-12-14T21:11:54.733Z"
   },
   {
    "duration": 11,
    "start_time": "2022-12-14T21:12:23.637Z"
   },
   {
    "duration": 10,
    "start_time": "2022-12-14T21:12:26.429Z"
   },
   {
    "duration": 1108,
    "start_time": "2022-12-14T21:12:36.373Z"
   },
   {
    "duration": 89,
    "start_time": "2022-12-14T21:12:37.483Z"
   },
   {
    "duration": 2,
    "start_time": "2022-12-14T21:12:37.574Z"
   },
   {
    "duration": 42,
    "start_time": "2022-12-14T21:12:37.578Z"
   },
   {
    "duration": 30,
    "start_time": "2022-12-14T21:12:37.621Z"
   },
   {
    "duration": 1781,
    "start_time": "2022-12-14T21:12:37.653Z"
   },
   {
    "duration": 9,
    "start_time": "2022-12-14T21:12:39.436Z"
   },
   {
    "duration": 7,
    "start_time": "2022-12-14T21:12:39.446Z"
   },
   {
    "duration": 8,
    "start_time": "2022-12-14T21:12:39.455Z"
   },
   {
    "duration": 5,
    "start_time": "2022-12-14T21:12:39.465Z"
   },
   {
    "duration": 8,
    "start_time": "2022-12-14T21:12:39.472Z"
   },
   {
    "duration": 19,
    "start_time": "2022-12-14T21:12:39.482Z"
   },
   {
    "duration": 7,
    "start_time": "2022-12-14T21:12:39.502Z"
   },
   {
    "duration": 14,
    "start_time": "2022-12-14T21:12:39.510Z"
   },
   {
    "duration": 5,
    "start_time": "2022-12-14T21:12:39.526Z"
   },
   {
    "duration": 10,
    "start_time": "2022-12-14T21:12:39.532Z"
   },
   {
    "duration": 19,
    "start_time": "2022-12-14T21:12:39.543Z"
   },
   {
    "duration": 8,
    "start_time": "2022-12-14T21:12:39.563Z"
   },
   {
    "duration": 29,
    "start_time": "2022-12-14T21:12:39.572Z"
   },
   {
    "duration": 7,
    "start_time": "2022-12-14T21:12:39.602Z"
   },
   {
    "duration": 9,
    "start_time": "2022-12-14T21:12:39.610Z"
   },
   {
    "duration": 7,
    "start_time": "2022-12-14T21:12:39.621Z"
   },
   {
    "duration": 15,
    "start_time": "2022-12-14T21:12:39.630Z"
   },
   {
    "duration": 7,
    "start_time": "2022-12-14T21:12:39.647Z"
   },
   {
    "duration": 585,
    "start_time": "2022-12-14T21:12:39.656Z"
   },
   {
    "duration": 8,
    "start_time": "2022-12-14T21:12:40.243Z"
   },
   {
    "duration": 28,
    "start_time": "2022-12-14T21:12:40.252Z"
   },
   {
    "duration": 15,
    "start_time": "2022-12-14T21:12:40.284Z"
   },
   {
    "duration": 13,
    "start_time": "2022-12-14T21:12:40.301Z"
   },
   {
    "duration": 24,
    "start_time": "2022-12-14T21:12:40.316Z"
   },
   {
    "duration": 6,
    "start_time": "2022-12-14T21:12:40.342Z"
   },
   {
    "duration": 17,
    "start_time": "2022-12-14T21:12:40.350Z"
   },
   {
    "duration": 4,
    "start_time": "2022-12-14T21:12:40.369Z"
   },
   {
    "duration": 12,
    "start_time": "2022-12-14T21:12:40.375Z"
   },
   {
    "duration": 22,
    "start_time": "2022-12-14T21:12:40.389Z"
   },
   {
    "duration": 322,
    "start_time": "2022-12-14T21:12:40.413Z"
   },
   {
    "duration": 7,
    "start_time": "2022-12-14T21:12:40.737Z"
   },
   {
    "duration": 13,
    "start_time": "2022-12-14T21:12:40.745Z"
   },
   {
    "duration": 359,
    "start_time": "2022-12-14T21:12:40.759Z"
   },
   {
    "duration": 9,
    "start_time": "2022-12-14T21:12:41.120Z"
   },
   {
    "duration": 319,
    "start_time": "2022-12-14T21:12:41.131Z"
   },
   {
    "duration": 9,
    "start_time": "2022-12-14T21:12:41.452Z"
   },
   {
    "duration": 231,
    "start_time": "2022-12-14T21:12:41.462Z"
   },
   {
    "duration": 10,
    "start_time": "2022-12-14T21:12:41.697Z"
   },
   {
    "duration": 1336,
    "start_time": "2022-12-14T21:12:41.708Z"
   },
   {
    "duration": 10,
    "start_time": "2022-12-14T21:12:43.046Z"
   },
   {
    "duration": 241,
    "start_time": "2022-12-14T21:12:43.057Z"
   },
   {
    "duration": 9,
    "start_time": "2022-12-14T21:12:43.300Z"
   },
   {
    "duration": 230,
    "start_time": "2022-12-14T21:12:43.310Z"
   },
   {
    "duration": 8,
    "start_time": "2022-12-14T21:12:43.541Z"
   },
   {
    "duration": 224,
    "start_time": "2022-12-14T21:12:43.551Z"
   },
   {
    "duration": 9,
    "start_time": "2022-12-14T21:12:43.777Z"
   },
   {
    "duration": 363,
    "start_time": "2022-12-14T21:12:43.796Z"
   },
   {
    "duration": 9,
    "start_time": "2022-12-14T21:12:44.161Z"
   },
   {
    "duration": 238,
    "start_time": "2022-12-14T21:12:44.172Z"
   },
   {
    "duration": 9,
    "start_time": "2022-12-14T21:12:44.413Z"
   },
   {
    "duration": 241,
    "start_time": "2022-12-14T21:12:44.424Z"
   },
   {
    "duration": 12,
    "start_time": "2022-12-14T21:12:44.667Z"
   },
   {
    "duration": 255,
    "start_time": "2022-12-14T21:12:44.681Z"
   },
   {
    "duration": 9,
    "start_time": "2022-12-14T21:12:44.938Z"
   },
   {
    "duration": 227,
    "start_time": "2022-12-14T21:12:44.949Z"
   },
   {
    "duration": 222,
    "start_time": "2022-12-14T21:12:45.178Z"
   },
   {
    "duration": 202,
    "start_time": "2022-12-14T21:12:45.401Z"
   },
   {
    "duration": 222,
    "start_time": "2022-12-14T21:12:45.605Z"
   },
   {
    "duration": 4,
    "start_time": "2022-12-14T21:12:45.828Z"
   },
   {
    "duration": 33,
    "start_time": "2022-12-14T21:12:45.834Z"
   },
   {
    "duration": 50,
    "start_time": "2022-12-14T21:12:45.869Z"
   },
   {
    "duration": 368,
    "start_time": "2022-12-14T21:12:45.921Z"
   },
   {
    "duration": 10,
    "start_time": "2022-12-14T21:12:46.290Z"
   },
   {
    "duration": 210,
    "start_time": "2022-12-14T21:12:46.301Z"
   },
   {
    "duration": 5,
    "start_time": "2022-12-14T21:12:46.513Z"
   },
   {
    "duration": 187,
    "start_time": "2022-12-14T21:12:46.519Z"
   },
   {
    "duration": 5,
    "start_time": "2022-12-14T21:12:46.707Z"
   },
   {
    "duration": 196,
    "start_time": "2022-12-14T21:12:46.713Z"
   },
   {
    "duration": 186,
    "start_time": "2022-12-14T21:12:46.911Z"
   },
   {
    "duration": 196,
    "start_time": "2022-12-14T21:12:47.099Z"
   },
   {
    "duration": 170,
    "start_time": "2022-12-14T21:12:47.296Z"
   },
   {
    "duration": 31,
    "start_time": "2022-12-14T21:12:47.468Z"
   },
   {
    "duration": 11,
    "start_time": "2022-12-14T21:12:47.500Z"
   },
   {
    "duration": 9,
    "start_time": "2022-12-14T21:12:47.512Z"
   },
   {
    "duration": 10,
    "start_time": "2022-12-14T21:14:00.722Z"
   },
   {
    "duration": 11,
    "start_time": "2022-12-14T21:14:07.521Z"
   },
   {
    "duration": 11,
    "start_time": "2022-12-14T21:14:10.433Z"
   },
   {
    "duration": 10,
    "start_time": "2022-12-14T21:14:14.846Z"
   },
   {
    "duration": 16,
    "start_time": "2022-12-14T21:14:20.605Z"
   },
   {
    "duration": 14,
    "start_time": "2022-12-14T21:14:28.262Z"
   },
   {
    "duration": 96,
    "start_time": "2022-12-14T21:15:15.514Z"
   },
   {
    "duration": 10,
    "start_time": "2022-12-14T21:15:36.717Z"
   },
   {
    "duration": 15,
    "start_time": "2022-12-14T21:15:42.736Z"
   },
   {
    "duration": 16,
    "start_time": "2022-12-14T21:16:44.948Z"
   },
   {
    "duration": 709,
    "start_time": "2022-12-14T21:16:58.446Z"
   },
   {
    "duration": 4,
    "start_time": "2022-12-14T21:17:39.005Z"
   },
   {
    "duration": 12,
    "start_time": "2022-12-14T21:17:45.834Z"
   },
   {
    "duration": 17,
    "start_time": "2022-12-14T21:17:53.642Z"
   },
   {
    "duration": 11,
    "start_time": "2022-12-14T21:19:31.472Z"
   },
   {
    "duration": 15,
    "start_time": "2022-12-14T21:19:36.521Z"
   },
   {
    "duration": 15,
    "start_time": "2022-12-14T21:20:17.522Z"
   },
   {
    "duration": 14,
    "start_time": "2022-12-14T21:20:32.563Z"
   },
   {
    "duration": 14,
    "start_time": "2022-12-14T21:20:52.035Z"
   },
   {
    "duration": 16,
    "start_time": "2022-12-14T21:21:12.029Z"
   },
   {
    "duration": 14,
    "start_time": "2022-12-14T21:22:50.618Z"
   },
   {
    "duration": 15,
    "start_time": "2022-12-14T21:22:57.798Z"
   },
   {
    "duration": 14,
    "start_time": "2022-12-14T21:23:02.967Z"
   },
   {
    "duration": 7,
    "start_time": "2022-12-14T21:23:21.710Z"
   },
   {
    "duration": 16,
    "start_time": "2022-12-14T21:24:45.227Z"
   },
   {
    "duration": 16,
    "start_time": "2022-12-14T21:25:28.159Z"
   },
   {
    "duration": 1391,
    "start_time": "2022-12-15T14:39:48.395Z"
   },
   {
    "duration": 146,
    "start_time": "2022-12-15T14:39:49.788Z"
   },
   {
    "duration": 3,
    "start_time": "2022-12-15T14:39:49.935Z"
   },
   {
    "duration": 34,
    "start_time": "2022-12-15T14:39:49.940Z"
   },
   {
    "duration": 13,
    "start_time": "2022-12-15T14:39:49.976Z"
   },
   {
    "duration": 1913,
    "start_time": "2022-12-15T14:39:49.991Z"
   },
   {
    "duration": 8,
    "start_time": "2022-12-15T14:39:51.906Z"
   },
   {
    "duration": 20,
    "start_time": "2022-12-15T14:39:51.916Z"
   },
   {
    "duration": 34,
    "start_time": "2022-12-15T14:39:51.938Z"
   },
   {
    "duration": 7,
    "start_time": "2022-12-15T14:39:51.975Z"
   },
   {
    "duration": 15,
    "start_time": "2022-12-15T14:39:51.983Z"
   },
   {
    "duration": 38,
    "start_time": "2022-12-15T14:39:52.000Z"
   },
   {
    "duration": 15,
    "start_time": "2022-12-15T14:39:52.039Z"
   },
   {
    "duration": 34,
    "start_time": "2022-12-15T14:39:52.055Z"
   },
   {
    "duration": 15,
    "start_time": "2022-12-15T14:39:52.090Z"
   },
   {
    "duration": 24,
    "start_time": "2022-12-15T14:39:52.107Z"
   },
   {
    "duration": 40,
    "start_time": "2022-12-15T14:39:52.132Z"
   },
   {
    "duration": 7,
    "start_time": "2022-12-15T14:39:52.174Z"
   },
   {
    "duration": 17,
    "start_time": "2022-12-15T14:39:52.183Z"
   },
   {
    "duration": 14,
    "start_time": "2022-12-15T14:39:52.201Z"
   },
   {
    "duration": 17,
    "start_time": "2022-12-15T14:39:52.217Z"
   },
   {
    "duration": 7,
    "start_time": "2022-12-15T14:39:52.236Z"
   },
   {
    "duration": 12,
    "start_time": "2022-12-15T14:39:52.245Z"
   },
   {
    "duration": 14,
    "start_time": "2022-12-15T14:39:52.259Z"
   },
   {
    "duration": 556,
    "start_time": "2022-12-15T14:39:52.274Z"
   },
   {
    "duration": 10,
    "start_time": "2022-12-15T14:39:52.832Z"
   },
   {
    "duration": 8,
    "start_time": "2022-12-15T14:39:52.844Z"
   },
   {
    "duration": 25,
    "start_time": "2022-12-15T14:39:52.855Z"
   },
   {
    "duration": 8,
    "start_time": "2022-12-15T14:39:52.881Z"
   },
   {
    "duration": 11,
    "start_time": "2022-12-15T14:39:52.890Z"
   },
   {
    "duration": 10,
    "start_time": "2022-12-15T14:39:52.903Z"
   },
   {
    "duration": 14,
    "start_time": "2022-12-15T14:39:52.914Z"
   },
   {
    "duration": 11,
    "start_time": "2022-12-15T14:39:52.929Z"
   },
   {
    "duration": 66,
    "start_time": "2022-12-15T14:39:52.942Z"
   },
   {
    "duration": 9,
    "start_time": "2022-12-15T14:39:53.009Z"
   },
   {
    "duration": 304,
    "start_time": "2022-12-15T14:39:53.020Z"
   },
   {
    "duration": 7,
    "start_time": "2022-12-15T14:39:53.326Z"
   },
   {
    "duration": 16,
    "start_time": "2022-12-15T14:39:53.334Z"
   },
   {
    "duration": 334,
    "start_time": "2022-12-15T14:39:53.352Z"
   },
   {
    "duration": 9,
    "start_time": "2022-12-15T14:39:53.688Z"
   },
   {
    "duration": 400,
    "start_time": "2022-12-15T14:39:53.698Z"
   },
   {
    "duration": 12,
    "start_time": "2022-12-15T14:39:54.101Z"
   },
   {
    "duration": 245,
    "start_time": "2022-12-15T14:39:54.116Z"
   },
   {
    "duration": 16,
    "start_time": "2022-12-15T14:39:54.363Z"
   },
   {
    "duration": 1489,
    "start_time": "2022-12-15T14:39:54.380Z"
   },
   {
    "duration": 14,
    "start_time": "2022-12-15T14:39:55.871Z"
   },
   {
    "duration": 261,
    "start_time": "2022-12-15T14:39:55.887Z"
   },
   {
    "duration": 9,
    "start_time": "2022-12-15T14:39:56.149Z"
   },
   {
    "duration": 262,
    "start_time": "2022-12-15T14:39:56.160Z"
   },
   {
    "duration": 10,
    "start_time": "2022-12-15T14:39:56.424Z"
   },
   {
    "duration": 254,
    "start_time": "2022-12-15T14:39:56.436Z"
   },
   {
    "duration": 8,
    "start_time": "2022-12-15T14:39:56.692Z"
   },
   {
    "duration": 390,
    "start_time": "2022-12-15T14:39:56.702Z"
   },
   {
    "duration": 10,
    "start_time": "2022-12-15T14:39:57.094Z"
   },
   {
    "duration": 261,
    "start_time": "2022-12-15T14:39:57.106Z"
   },
   {
    "duration": 17,
    "start_time": "2022-12-15T14:39:57.369Z"
   },
   {
    "duration": 238,
    "start_time": "2022-12-15T14:39:57.388Z"
   },
   {
    "duration": 9,
    "start_time": "2022-12-15T14:39:57.628Z"
   },
   {
    "duration": 243,
    "start_time": "2022-12-15T14:39:57.639Z"
   },
   {
    "duration": 10,
    "start_time": "2022-12-15T14:39:57.883Z"
   },
   {
    "duration": 240,
    "start_time": "2022-12-15T14:39:57.895Z"
   },
   {
    "duration": 267,
    "start_time": "2022-12-15T14:39:58.137Z"
   },
   {
    "duration": 231,
    "start_time": "2022-12-15T14:39:58.406Z"
   },
   {
    "duration": 261,
    "start_time": "2022-12-15T14:39:58.639Z"
   },
   {
    "duration": 6,
    "start_time": "2022-12-15T14:39:58.902Z"
   },
   {
    "duration": 53,
    "start_time": "2022-12-15T14:39:58.910Z"
   },
   {
    "duration": 44,
    "start_time": "2022-12-15T14:39:58.965Z"
   },
   {
    "duration": 380,
    "start_time": "2022-12-15T14:39:59.010Z"
   },
   {
    "duration": 6,
    "start_time": "2022-12-15T14:39:59.391Z"
   },
   {
    "duration": 219,
    "start_time": "2022-12-15T14:39:59.398Z"
   },
   {
    "duration": 6,
    "start_time": "2022-12-15T14:39:59.618Z"
   },
   {
    "duration": 205,
    "start_time": "2022-12-15T14:39:59.625Z"
   },
   {
    "duration": 5,
    "start_time": "2022-12-15T14:39:59.832Z"
   },
   {
    "duration": 219,
    "start_time": "2022-12-15T14:39:59.838Z"
   },
   {
    "duration": 271,
    "start_time": "2022-12-15T14:40:00.060Z"
   },
   {
    "duration": 241,
    "start_time": "2022-12-15T14:40:00.333Z"
   },
   {
    "duration": 205,
    "start_time": "2022-12-15T14:40:00.578Z"
   },
   {
    "duration": 30,
    "start_time": "2022-12-15T14:40:00.785Z"
   },
   {
    "duration": 157,
    "start_time": "2022-12-15T14:40:00.817Z"
   },
   {
    "duration": 17,
    "start_time": "2022-12-15T14:40:41.882Z"
   },
   {
    "duration": 14,
    "start_time": "2022-12-15T14:40:59.355Z"
   },
   {
    "duration": 45,
    "start_time": "2022-12-15T14:55:43.075Z"
   },
   {
    "duration": 13,
    "start_time": "2022-12-15T15:12:16.831Z"
   },
   {
    "duration": 1004,
    "start_time": "2022-12-15T15:12:29.503Z"
   },
   {
    "duration": 1013,
    "start_time": "2022-12-15T15:13:05.896Z"
   },
   {
    "duration": 1122,
    "start_time": "2022-12-15T15:14:20.577Z"
   },
   {
    "duration": 89,
    "start_time": "2022-12-15T15:14:21.701Z"
   },
   {
    "duration": 2,
    "start_time": "2022-12-15T15:14:21.792Z"
   },
   {
    "duration": 76,
    "start_time": "2022-12-15T15:14:21.797Z"
   },
   {
    "duration": 19,
    "start_time": "2022-12-15T15:14:21.874Z"
   },
   {
    "duration": 1945,
    "start_time": "2022-12-15T15:14:21.895Z"
   },
   {
    "duration": 11,
    "start_time": "2022-12-15T15:14:23.842Z"
   },
   {
    "duration": 8,
    "start_time": "2022-12-15T15:14:23.855Z"
   },
   {
    "duration": 7,
    "start_time": "2022-12-15T15:14:23.865Z"
   },
   {
    "duration": 11,
    "start_time": "2022-12-15T15:14:23.878Z"
   },
   {
    "duration": 17,
    "start_time": "2022-12-15T15:14:23.891Z"
   },
   {
    "duration": 33,
    "start_time": "2022-12-15T15:14:23.910Z"
   },
   {
    "duration": 10,
    "start_time": "2022-12-15T15:14:23.945Z"
   },
   {
    "duration": 27,
    "start_time": "2022-12-15T15:14:23.957Z"
   },
   {
    "duration": 13,
    "start_time": "2022-12-15T15:14:23.986Z"
   },
   {
    "duration": 7,
    "start_time": "2022-12-15T15:14:24.001Z"
   },
   {
    "duration": 30,
    "start_time": "2022-12-15T15:14:24.010Z"
   },
   {
    "duration": 6,
    "start_time": "2022-12-15T15:14:24.042Z"
   },
   {
    "duration": 15,
    "start_time": "2022-12-15T15:14:24.050Z"
   },
   {
    "duration": 7,
    "start_time": "2022-12-15T15:14:24.079Z"
   },
   {
    "duration": 18,
    "start_time": "2022-12-15T15:14:24.088Z"
   },
   {
    "duration": 7,
    "start_time": "2022-12-15T15:14:24.108Z"
   },
   {
    "duration": 21,
    "start_time": "2022-12-15T15:14:24.117Z"
   },
   {
    "duration": 16,
    "start_time": "2022-12-15T15:14:24.140Z"
   },
   {
    "duration": 587,
    "start_time": "2022-12-15T15:14:24.158Z"
   },
   {
    "duration": 8,
    "start_time": "2022-12-15T15:14:24.747Z"
   },
   {
    "duration": 21,
    "start_time": "2022-12-15T15:14:24.757Z"
   },
   {
    "duration": 13,
    "start_time": "2022-12-15T15:14:24.782Z"
   },
   {
    "duration": 16,
    "start_time": "2022-12-15T15:14:24.796Z"
   },
   {
    "duration": 10,
    "start_time": "2022-12-15T15:14:24.813Z"
   },
   {
    "duration": 7,
    "start_time": "2022-12-15T15:14:24.825Z"
   },
   {
    "duration": 24,
    "start_time": "2022-12-15T15:14:24.834Z"
   },
   {
    "duration": 5,
    "start_time": "2022-12-15T15:14:24.859Z"
   },
   {
    "duration": 23,
    "start_time": "2022-12-15T15:14:24.866Z"
   },
   {
    "duration": 11,
    "start_time": "2022-12-15T15:14:24.890Z"
   },
   {
    "duration": 319,
    "start_time": "2022-12-15T15:14:24.902Z"
   },
   {
    "duration": 8,
    "start_time": "2022-12-15T15:14:25.222Z"
   },
   {
    "duration": 15,
    "start_time": "2022-12-15T15:14:25.231Z"
   },
   {
    "duration": 343,
    "start_time": "2022-12-15T15:14:25.248Z"
   },
   {
    "duration": 9,
    "start_time": "2022-12-15T15:14:25.593Z"
   },
   {
    "duration": 360,
    "start_time": "2022-12-15T15:14:25.604Z"
   },
   {
    "duration": 21,
    "start_time": "2022-12-15T15:14:25.966Z"
   },
   {
    "duration": 256,
    "start_time": "2022-12-15T15:14:25.989Z"
   },
   {
    "duration": 9,
    "start_time": "2022-12-15T15:14:26.247Z"
   },
   {
    "duration": 1413,
    "start_time": "2022-12-15T15:14:26.258Z"
   },
   {
    "duration": 11,
    "start_time": "2022-12-15T15:14:27.672Z"
   },
   {
    "duration": 249,
    "start_time": "2022-12-15T15:14:27.685Z"
   },
   {
    "duration": 10,
    "start_time": "2022-12-15T15:14:27.935Z"
   },
   {
    "duration": 249,
    "start_time": "2022-12-15T15:14:27.946Z"
   },
   {
    "duration": 8,
    "start_time": "2022-12-15T15:14:28.196Z"
   },
   {
    "duration": 242,
    "start_time": "2022-12-15T15:14:28.206Z"
   },
   {
    "duration": 9,
    "start_time": "2022-12-15T15:14:28.449Z"
   },
   {
    "duration": 378,
    "start_time": "2022-12-15T15:14:28.460Z"
   },
   {
    "duration": 9,
    "start_time": "2022-12-15T15:14:28.839Z"
   },
   {
    "duration": 266,
    "start_time": "2022-12-15T15:14:28.850Z"
   },
   {
    "duration": 10,
    "start_time": "2022-12-15T15:14:29.117Z"
   },
   {
    "duration": 246,
    "start_time": "2022-12-15T15:14:29.129Z"
   },
   {
    "duration": 10,
    "start_time": "2022-12-15T15:14:29.378Z"
   },
   {
    "duration": 238,
    "start_time": "2022-12-15T15:14:29.389Z"
   },
   {
    "duration": 10,
    "start_time": "2022-12-15T15:14:29.629Z"
   },
   {
    "duration": 247,
    "start_time": "2022-12-15T15:14:29.641Z"
   },
   {
    "duration": 239,
    "start_time": "2022-12-15T15:14:29.890Z"
   },
   {
    "duration": 235,
    "start_time": "2022-12-15T15:14:30.130Z"
   },
   {
    "duration": 238,
    "start_time": "2022-12-15T15:14:30.367Z"
   },
   {
    "duration": 4,
    "start_time": "2022-12-15T15:14:30.607Z"
   },
   {
    "duration": 42,
    "start_time": "2022-12-15T15:14:30.613Z"
   },
   {
    "duration": 44,
    "start_time": "2022-12-15T15:14:30.657Z"
   },
   {
    "duration": 407,
    "start_time": "2022-12-15T15:14:30.703Z"
   },
   {
    "duration": 6,
    "start_time": "2022-12-15T15:14:31.112Z"
   },
   {
    "duration": 277,
    "start_time": "2022-12-15T15:14:31.119Z"
   },
   {
    "duration": 6,
    "start_time": "2022-12-15T15:14:31.398Z"
   },
   {
    "duration": 205,
    "start_time": "2022-12-15T15:14:31.406Z"
   },
   {
    "duration": 5,
    "start_time": "2022-12-15T15:14:31.614Z"
   },
   {
    "duration": 213,
    "start_time": "2022-12-15T15:14:31.620Z"
   },
   {
    "duration": 228,
    "start_time": "2022-12-15T15:14:31.835Z"
   },
   {
    "duration": 226,
    "start_time": "2022-12-15T15:14:32.065Z"
   },
   {
    "duration": 208,
    "start_time": "2022-12-15T15:14:32.292Z"
   },
   {
    "duration": 27,
    "start_time": "2022-12-15T15:14:32.502Z"
   },
   {
    "duration": 15,
    "start_time": "2022-12-15T15:14:32.530Z"
   },
   {
    "duration": 205,
    "start_time": "2022-12-15T15:14:32.547Z"
   },
   {
    "duration": 78,
    "start_time": "2022-12-15T15:15:25.041Z"
   },
   {
    "duration": 72,
    "start_time": "2022-12-15T15:15:32.632Z"
   },
   {
    "duration": 217,
    "start_time": "2022-12-15T15:15:41.424Z"
   },
   {
    "duration": 142,
    "start_time": "2022-12-15T15:15:46.585Z"
   },
   {
    "duration": 4,
    "start_time": "2022-12-15T15:20:16.420Z"
   },
   {
    "duration": 45,
    "start_time": "2022-12-15T15:20:26.317Z"
   },
   {
    "duration": 174,
    "start_time": "2022-12-15T15:20:52.682Z"
   },
   {
    "duration": 183,
    "start_time": "2022-12-15T15:21:36.486Z"
   },
   {
    "duration": 129,
    "start_time": "2022-12-15T15:23:39.472Z"
   },
   {
    "duration": 1026,
    "start_time": "2022-12-15T15:24:04.112Z"
   },
   {
    "duration": 22,
    "start_time": "2022-12-15T15:26:31.634Z"
   },
   {
    "duration": 171,
    "start_time": "2022-12-15T15:27:35.451Z"
   },
   {
    "duration": 263,
    "start_time": "2022-12-15T15:28:16.905Z"
   },
   {
    "duration": 129,
    "start_time": "2022-12-15T15:29:06.631Z"
   },
   {
    "duration": 146,
    "start_time": "2022-12-15T15:30:25.308Z"
   },
   {
    "duration": 143,
    "start_time": "2022-12-15T15:31:13.508Z"
   },
   {
    "duration": 485,
    "start_time": "2022-12-15T15:31:40.452Z"
   },
   {
    "duration": 46,
    "start_time": "2022-12-15T15:33:17.471Z"
   },
   {
    "duration": 12,
    "start_time": "2022-12-15T15:34:03.308Z"
   },
   {
    "duration": 9,
    "start_time": "2022-12-15T15:34:08.038Z"
   },
   {
    "duration": 8,
    "start_time": "2022-12-15T15:34:17.365Z"
   },
   {
    "duration": 8,
    "start_time": "2022-12-15T15:34:54.471Z"
   },
   {
    "duration": 7,
    "start_time": "2022-12-15T15:34:59.120Z"
   },
   {
    "duration": 114,
    "start_time": "2022-12-15T15:36:42.281Z"
   },
   {
    "duration": 101,
    "start_time": "2022-12-15T15:37:20.257Z"
   },
   {
    "duration": 14,
    "start_time": "2022-12-15T15:37:58.953Z"
   },
   {
    "duration": 70,
    "start_time": "2022-12-15T15:38:24.099Z"
   },
   {
    "duration": 14,
    "start_time": "2022-12-15T15:38:34.394Z"
   },
   {
    "duration": 85,
    "start_time": "2022-12-15T15:39:06.659Z"
   },
   {
    "duration": 71,
    "start_time": "2022-12-15T15:39:47.203Z"
   },
   {
    "duration": 24,
    "start_time": "2022-12-15T15:39:54.883Z"
   },
   {
    "duration": 24,
    "start_time": "2022-12-15T15:43:30.269Z"
   },
   {
    "duration": 85,
    "start_time": "2022-12-15T15:46:24.873Z"
   },
   {
    "duration": 8,
    "start_time": "2022-12-15T15:46:30.680Z"
   },
   {
    "duration": 8,
    "start_time": "2022-12-15T15:46:47.497Z"
   },
   {
    "duration": 9,
    "start_time": "2022-12-15T15:47:00.929Z"
   },
   {
    "duration": 150,
    "start_time": "2022-12-15T15:57:25.200Z"
   },
   {
    "duration": 19,
    "start_time": "2022-12-15T15:57:40.824Z"
   },
   {
    "duration": 13,
    "start_time": "2022-12-15T15:58:04.273Z"
   },
   {
    "duration": 21,
    "start_time": "2022-12-15T15:58:17.151Z"
   },
   {
    "duration": 19,
    "start_time": "2022-12-15T15:58:29.102Z"
   },
   {
    "duration": 134,
    "start_time": "2022-12-15T15:58:37.408Z"
   },
   {
    "duration": 143,
    "start_time": "2022-12-15T15:59:08.385Z"
   },
   {
    "duration": 6,
    "start_time": "2022-12-15T16:13:45.081Z"
   },
   {
    "duration": 13,
    "start_time": "2022-12-15T16:26:39.945Z"
   },
   {
    "duration": 1071,
    "start_time": "2022-12-15T16:36:08.899Z"
   },
   {
    "duration": 90,
    "start_time": "2022-12-15T16:36:09.972Z"
   },
   {
    "duration": 3,
    "start_time": "2022-12-15T16:36:10.063Z"
   },
   {
    "duration": 58,
    "start_time": "2022-12-15T16:36:10.067Z"
   },
   {
    "duration": 53,
    "start_time": "2022-12-15T16:36:10.127Z"
   },
   {
    "duration": 1902,
    "start_time": "2022-12-15T16:36:10.182Z"
   },
   {
    "duration": 9,
    "start_time": "2022-12-15T16:36:12.086Z"
   },
   {
    "duration": 9,
    "start_time": "2022-12-15T16:36:12.097Z"
   },
   {
    "duration": 10,
    "start_time": "2022-12-15T16:36:12.107Z"
   },
   {
    "duration": 11,
    "start_time": "2022-12-15T16:36:12.118Z"
   },
   {
    "duration": 10,
    "start_time": "2022-12-15T16:36:12.130Z"
   },
   {
    "duration": 22,
    "start_time": "2022-12-15T16:36:12.141Z"
   },
   {
    "duration": 7,
    "start_time": "2022-12-15T16:36:12.165Z"
   },
   {
    "duration": 14,
    "start_time": "2022-12-15T16:36:12.175Z"
   },
   {
    "duration": 6,
    "start_time": "2022-12-15T16:36:12.191Z"
   },
   {
    "duration": 7,
    "start_time": "2022-12-15T16:36:12.199Z"
   },
   {
    "duration": 22,
    "start_time": "2022-12-15T16:36:12.207Z"
   },
   {
    "duration": 15,
    "start_time": "2022-12-15T16:36:12.231Z"
   },
   {
    "duration": 17,
    "start_time": "2022-12-15T16:36:12.248Z"
   },
   {
    "duration": 11,
    "start_time": "2022-12-15T16:36:12.267Z"
   },
   {
    "duration": 6,
    "start_time": "2022-12-15T16:36:12.279Z"
   },
   {
    "duration": 8,
    "start_time": "2022-12-15T16:36:12.286Z"
   },
   {
    "duration": 10,
    "start_time": "2022-12-15T16:36:12.296Z"
   },
   {
    "duration": 12,
    "start_time": "2022-12-15T16:36:12.308Z"
   },
   {
    "duration": 579,
    "start_time": "2022-12-15T16:36:12.322Z"
   },
   {
    "duration": 8,
    "start_time": "2022-12-15T16:36:12.903Z"
   },
   {
    "duration": 23,
    "start_time": "2022-12-15T16:36:12.912Z"
   },
   {
    "duration": 12,
    "start_time": "2022-12-15T16:36:12.937Z"
   },
   {
    "duration": 11,
    "start_time": "2022-12-15T16:36:12.950Z"
   },
   {
    "duration": 16,
    "start_time": "2022-12-15T16:36:12.963Z"
   },
   {
    "duration": 6,
    "start_time": "2022-12-15T16:36:12.981Z"
   },
   {
    "duration": 28,
    "start_time": "2022-12-15T16:36:12.988Z"
   },
   {
    "duration": 5,
    "start_time": "2022-12-15T16:36:13.017Z"
   },
   {
    "duration": 11,
    "start_time": "2022-12-15T16:36:13.024Z"
   },
   {
    "duration": 18,
    "start_time": "2022-12-15T16:36:13.036Z"
   },
   {
    "duration": 323,
    "start_time": "2022-12-15T16:36:13.055Z"
   },
   {
    "duration": 8,
    "start_time": "2022-12-15T16:36:13.380Z"
   },
   {
    "duration": 9,
    "start_time": "2022-12-15T16:36:13.389Z"
   },
   {
    "duration": 384,
    "start_time": "2022-12-15T16:36:13.400Z"
   },
   {
    "duration": 9,
    "start_time": "2022-12-15T16:36:13.786Z"
   },
   {
    "duration": 394,
    "start_time": "2022-12-15T16:36:13.799Z"
   },
   {
    "duration": 9,
    "start_time": "2022-12-15T16:36:14.195Z"
   },
   {
    "duration": 259,
    "start_time": "2022-12-15T16:36:14.206Z"
   },
   {
    "duration": 17,
    "start_time": "2022-12-15T16:36:14.466Z"
   },
   {
    "duration": 1435,
    "start_time": "2022-12-15T16:36:14.484Z"
   },
   {
    "duration": 8,
    "start_time": "2022-12-15T16:36:15.921Z"
   },
   {
    "duration": 251,
    "start_time": "2022-12-15T16:36:15.931Z"
   },
   {
    "duration": 10,
    "start_time": "2022-12-15T16:36:16.183Z"
   },
   {
    "duration": 252,
    "start_time": "2022-12-15T16:36:16.194Z"
   },
   {
    "duration": 8,
    "start_time": "2022-12-15T16:36:16.448Z"
   },
   {
    "duration": 235,
    "start_time": "2022-12-15T16:36:16.457Z"
   },
   {
    "duration": 9,
    "start_time": "2022-12-15T16:36:16.694Z"
   },
   {
    "duration": 369,
    "start_time": "2022-12-15T16:36:16.704Z"
   },
   {
    "duration": 8,
    "start_time": "2022-12-15T16:36:17.078Z"
   },
   {
    "duration": 239,
    "start_time": "2022-12-15T16:36:17.088Z"
   },
   {
    "duration": 10,
    "start_time": "2022-12-15T16:36:17.329Z"
   },
   {
    "duration": 283,
    "start_time": "2022-12-15T16:36:17.340Z"
   },
   {
    "duration": 10,
    "start_time": "2022-12-15T16:36:17.624Z"
   },
   {
    "duration": 268,
    "start_time": "2022-12-15T16:36:17.636Z"
   },
   {
    "duration": 14,
    "start_time": "2022-12-15T16:36:17.906Z"
   },
   {
    "duration": 305,
    "start_time": "2022-12-15T16:36:17.922Z"
   },
   {
    "duration": 294,
    "start_time": "2022-12-15T16:36:18.229Z"
   },
   {
    "duration": 228,
    "start_time": "2022-12-15T16:36:18.524Z"
   },
   {
    "duration": 248,
    "start_time": "2022-12-15T16:36:18.753Z"
   },
   {
    "duration": 5,
    "start_time": "2022-12-15T16:36:19.002Z"
   },
   {
    "duration": 117,
    "start_time": "2022-12-15T16:36:19.008Z"
   },
   {
    "duration": 0,
    "start_time": "2022-12-15T16:36:19.127Z"
   },
   {
    "duration": 0,
    "start_time": "2022-12-15T16:36:19.128Z"
   },
   {
    "duration": 0,
    "start_time": "2022-12-15T16:36:19.130Z"
   },
   {
    "duration": 0,
    "start_time": "2022-12-15T16:36:19.131Z"
   },
   {
    "duration": 0,
    "start_time": "2022-12-15T16:36:19.132Z"
   },
   {
    "duration": 0,
    "start_time": "2022-12-15T16:36:19.133Z"
   },
   {
    "duration": 0,
    "start_time": "2022-12-15T16:36:19.134Z"
   },
   {
    "duration": 0,
    "start_time": "2022-12-15T16:36:19.135Z"
   },
   {
    "duration": 0,
    "start_time": "2022-12-15T16:36:19.137Z"
   },
   {
    "duration": 0,
    "start_time": "2022-12-15T16:36:19.138Z"
   },
   {
    "duration": 0,
    "start_time": "2022-12-15T16:36:19.139Z"
   },
   {
    "duration": 0,
    "start_time": "2022-12-15T16:36:19.140Z"
   },
   {
    "duration": 0,
    "start_time": "2022-12-15T16:36:19.141Z"
   },
   {
    "duration": 0,
    "start_time": "2022-12-15T16:36:19.142Z"
   },
   {
    "duration": 0,
    "start_time": "2022-12-15T16:36:19.143Z"
   },
   {
    "duration": 0,
    "start_time": "2022-12-15T16:36:19.144Z"
   },
   {
    "duration": 0,
    "start_time": "2022-12-15T16:36:19.145Z"
   },
   {
    "duration": 0,
    "start_time": "2022-12-15T16:36:19.178Z"
   },
   {
    "duration": 0,
    "start_time": "2022-12-15T16:36:19.180Z"
   },
   {
    "duration": 8,
    "start_time": "2022-12-15T16:42:50.601Z"
   },
   {
    "duration": 10,
    "start_time": "2022-12-15T16:47:56.435Z"
   },
   {
    "duration": 10,
    "start_time": "2022-12-15T16:48:01.533Z"
   },
   {
    "duration": 9,
    "start_time": "2022-12-15T16:48:40.597Z"
   },
   {
    "duration": 9,
    "start_time": "2022-12-15T16:48:47.620Z"
   },
   {
    "duration": 5,
    "start_time": "2022-12-15T16:49:32.374Z"
   },
   {
    "duration": 10,
    "start_time": "2022-12-15T16:49:33.470Z"
   },
   {
    "duration": 1132,
    "start_time": "2022-12-15T16:56:49.463Z"
   },
   {
    "duration": 97,
    "start_time": "2022-12-15T16:56:50.597Z"
   },
   {
    "duration": 2,
    "start_time": "2022-12-15T16:56:50.696Z"
   },
   {
    "duration": 39,
    "start_time": "2022-12-15T16:56:50.700Z"
   },
   {
    "duration": 15,
    "start_time": "2022-12-15T16:56:50.741Z"
   },
   {
    "duration": 1914,
    "start_time": "2022-12-15T16:56:50.758Z"
   },
   {
    "duration": 8,
    "start_time": "2022-12-15T16:56:52.674Z"
   },
   {
    "duration": 17,
    "start_time": "2022-12-15T16:56:52.684Z"
   },
   {
    "duration": 10,
    "start_time": "2022-12-15T16:56:52.702Z"
   },
   {
    "duration": 5,
    "start_time": "2022-12-15T16:56:52.713Z"
   },
   {
    "duration": 5,
    "start_time": "2022-12-15T16:56:52.720Z"
   },
   {
    "duration": 18,
    "start_time": "2022-12-15T16:56:52.727Z"
   },
   {
    "duration": 7,
    "start_time": "2022-12-15T16:56:52.747Z"
   },
   {
    "duration": 24,
    "start_time": "2022-12-15T16:56:52.757Z"
   },
   {
    "duration": 6,
    "start_time": "2022-12-15T16:56:52.782Z"
   },
   {
    "duration": 8,
    "start_time": "2022-12-15T16:56:52.789Z"
   },
   {
    "duration": 17,
    "start_time": "2022-12-15T16:56:52.798Z"
   },
   {
    "duration": 4,
    "start_time": "2022-12-15T16:56:52.816Z"
   },
   {
    "duration": 10,
    "start_time": "2022-12-15T16:56:52.822Z"
   },
   {
    "duration": 9,
    "start_time": "2022-12-15T16:56:52.833Z"
   },
   {
    "duration": 33,
    "start_time": "2022-12-15T16:56:52.843Z"
   },
   {
    "duration": 15,
    "start_time": "2022-12-15T16:56:52.878Z"
   },
   {
    "duration": 43,
    "start_time": "2022-12-15T16:56:52.895Z"
   },
   {
    "duration": 15,
    "start_time": "2022-12-15T16:56:52.940Z"
   },
   {
    "duration": 552,
    "start_time": "2022-12-15T16:56:52.956Z"
   },
   {
    "duration": 9,
    "start_time": "2022-12-15T16:56:53.510Z"
   },
   {
    "duration": 32,
    "start_time": "2022-12-15T16:56:53.520Z"
   },
   {
    "duration": 16,
    "start_time": "2022-12-15T16:56:53.554Z"
   },
   {
    "duration": 29,
    "start_time": "2022-12-15T16:56:53.572Z"
   },
   {
    "duration": 23,
    "start_time": "2022-12-15T16:56:53.602Z"
   },
   {
    "duration": 7,
    "start_time": "2022-12-15T16:56:53.627Z"
   },
   {
    "duration": 40,
    "start_time": "2022-12-15T16:56:53.636Z"
   },
   {
    "duration": 23,
    "start_time": "2022-12-15T16:56:53.678Z"
   },
   {
    "duration": 29,
    "start_time": "2022-12-15T16:56:53.703Z"
   },
   {
    "duration": 23,
    "start_time": "2022-12-15T16:56:53.734Z"
   },
   {
    "duration": 360,
    "start_time": "2022-12-15T16:56:53.759Z"
   },
   {
    "duration": 7,
    "start_time": "2022-12-15T16:56:54.120Z"
   },
   {
    "duration": 10,
    "start_time": "2022-12-15T16:56:54.129Z"
   },
   {
    "duration": 342,
    "start_time": "2022-12-15T16:56:54.140Z"
   },
   {
    "duration": 10,
    "start_time": "2022-12-15T16:56:54.483Z"
   },
   {
    "duration": 346,
    "start_time": "2022-12-15T16:56:54.498Z"
   },
   {
    "duration": 9,
    "start_time": "2022-12-15T16:56:54.845Z"
   },
   {
    "duration": 245,
    "start_time": "2022-12-15T16:56:54.856Z"
   },
   {
    "duration": 10,
    "start_time": "2022-12-15T16:56:55.102Z"
   },
   {
    "duration": 1424,
    "start_time": "2022-12-15T16:56:55.114Z"
   },
   {
    "duration": 9,
    "start_time": "2022-12-15T16:56:56.540Z"
   },
   {
    "duration": 254,
    "start_time": "2022-12-15T16:56:56.550Z"
   },
   {
    "duration": 9,
    "start_time": "2022-12-15T16:56:56.805Z"
   },
   {
    "duration": 270,
    "start_time": "2022-12-15T16:56:56.816Z"
   },
   {
    "duration": 8,
    "start_time": "2022-12-15T16:56:57.088Z"
   },
   {
    "duration": 240,
    "start_time": "2022-12-15T16:56:57.097Z"
   },
   {
    "duration": 9,
    "start_time": "2022-12-15T16:56:57.339Z"
   },
   {
    "duration": 400,
    "start_time": "2022-12-15T16:56:57.350Z"
   },
   {
    "duration": 10,
    "start_time": "2022-12-15T16:56:57.752Z"
   },
   {
    "duration": 257,
    "start_time": "2022-12-15T16:56:57.764Z"
   },
   {
    "duration": 10,
    "start_time": "2022-12-15T16:56:58.023Z"
   },
   {
    "duration": 270,
    "start_time": "2022-12-15T16:56:58.035Z"
   },
   {
    "duration": 10,
    "start_time": "2022-12-15T16:56:58.307Z"
   },
   {
    "duration": 248,
    "start_time": "2022-12-15T16:56:58.318Z"
   },
   {
    "duration": 13,
    "start_time": "2022-12-15T16:56:58.568Z"
   },
   {
    "duration": 228,
    "start_time": "2022-12-15T16:56:58.583Z"
   },
   {
    "duration": 239,
    "start_time": "2022-12-15T16:56:58.813Z"
   },
   {
    "duration": 224,
    "start_time": "2022-12-15T16:56:59.054Z"
   },
   {
    "duration": 240,
    "start_time": "2022-12-15T16:56:59.279Z"
   },
   {
    "duration": 5,
    "start_time": "2022-12-15T16:56:59.521Z"
   },
   {
    "duration": 15,
    "start_time": "2022-12-15T16:56:59.527Z"
   },
   {
    "duration": 11,
    "start_time": "2022-12-15T16:56:59.544Z"
   },
   {
    "duration": 32,
    "start_time": "2022-12-15T16:56:59.556Z"
   },
   {
    "duration": 368,
    "start_time": "2022-12-15T16:56:59.589Z"
   },
   {
    "duration": 6,
    "start_time": "2022-12-15T16:56:59.959Z"
   },
   {
    "duration": 217,
    "start_time": "2022-12-15T16:56:59.966Z"
   },
   {
    "duration": 5,
    "start_time": "2022-12-15T16:57:00.184Z"
   },
   {
    "duration": 208,
    "start_time": "2022-12-15T16:57:00.191Z"
   },
   {
    "duration": 7,
    "start_time": "2022-12-15T16:57:00.401Z"
   },
   {
    "duration": 241,
    "start_time": "2022-12-15T16:57:00.411Z"
   },
   {
    "duration": 224,
    "start_time": "2022-12-15T16:57:00.654Z"
   },
   {
    "duration": 240,
    "start_time": "2022-12-15T16:57:00.880Z"
   },
   {
    "duration": 204,
    "start_time": "2022-12-15T16:57:01.123Z"
   },
   {
    "duration": 29,
    "start_time": "2022-12-15T16:57:01.329Z"
   },
   {
    "duration": 38,
    "start_time": "2022-12-15T16:57:01.360Z"
   },
   {
    "duration": 40,
    "start_time": "2022-12-15T16:57:01.400Z"
   },
   {
    "duration": 225,
    "start_time": "2022-12-15T16:57:01.442Z"
   },
   {
    "duration": 19,
    "start_time": "2022-12-15T16:57:01.669Z"
   },
   {
    "duration": 121,
    "start_time": "2022-12-15T16:57:01.689Z"
   },
   {
    "duration": 30,
    "start_time": "2022-12-15T16:57:01.812Z"
   },
   {
    "duration": 58,
    "start_time": "2022-12-15T16:57:01.844Z"
   },
   {
    "duration": 49,
    "start_time": "2022-12-17T10:07:04.594Z"
   },
   {
    "duration": 1263,
    "start_time": "2022-12-17T10:07:19.758Z"
   },
   {
    "duration": 299,
    "start_time": "2022-12-17T10:07:21.023Z"
   },
   {
    "duration": 2,
    "start_time": "2022-12-17T10:07:21.324Z"
   },
   {
    "duration": 44,
    "start_time": "2022-12-17T10:07:21.328Z"
   },
   {
    "duration": 16,
    "start_time": "2022-12-17T10:07:21.375Z"
   },
   {
    "duration": 1874,
    "start_time": "2022-12-17T10:07:21.394Z"
   },
   {
    "duration": 9,
    "start_time": "2022-12-17T10:07:23.269Z"
   },
   {
    "duration": 13,
    "start_time": "2022-12-17T10:07:23.279Z"
   },
   {
    "duration": 10,
    "start_time": "2022-12-17T10:07:23.294Z"
   },
   {
    "duration": 15,
    "start_time": "2022-12-17T10:07:23.306Z"
   },
   {
    "duration": 9,
    "start_time": "2022-12-17T10:07:23.323Z"
   },
   {
    "duration": 10,
    "start_time": "2022-12-17T10:07:23.334Z"
   },
   {
    "duration": 15,
    "start_time": "2022-12-17T10:07:23.345Z"
   },
   {
    "duration": 7,
    "start_time": "2022-12-17T10:07:23.364Z"
   },
   {
    "duration": 19,
    "start_time": "2022-12-17T10:07:23.372Z"
   },
   {
    "duration": 7,
    "start_time": "2022-12-17T10:07:23.392Z"
   },
   {
    "duration": 21,
    "start_time": "2022-12-17T10:07:23.401Z"
   },
   {
    "duration": 17,
    "start_time": "2022-12-17T10:07:23.423Z"
   },
   {
    "duration": 11,
    "start_time": "2022-12-17T10:07:23.441Z"
   },
   {
    "duration": 20,
    "start_time": "2022-12-17T10:07:23.453Z"
   },
   {
    "duration": 5,
    "start_time": "2022-12-17T10:07:23.475Z"
   },
   {
    "duration": 10,
    "start_time": "2022-12-17T10:07:23.482Z"
   },
   {
    "duration": 9,
    "start_time": "2022-12-17T10:07:23.494Z"
   },
   {
    "duration": 35,
    "start_time": "2022-12-17T10:07:23.505Z"
   },
   {
    "duration": 66,
    "start_time": "2022-12-17T10:07:23.541Z"
   },
   {
    "duration": 551,
    "start_time": "2022-12-17T10:07:23.609Z"
   },
   {
    "duration": 8,
    "start_time": "2022-12-17T10:07:24.162Z"
   },
   {
    "duration": 9,
    "start_time": "2022-12-17T10:07:24.172Z"
   },
   {
    "duration": 8,
    "start_time": "2022-12-17T10:07:24.183Z"
   },
   {
    "duration": 31,
    "start_time": "2022-12-17T10:07:24.192Z"
   },
   {
    "duration": 11,
    "start_time": "2022-12-17T10:07:24.225Z"
   },
   {
    "duration": 14,
    "start_time": "2022-12-17T10:07:24.237Z"
   },
   {
    "duration": 16,
    "start_time": "2022-12-17T10:07:24.253Z"
   },
   {
    "duration": 5,
    "start_time": "2022-12-17T10:07:24.271Z"
   },
   {
    "duration": 16,
    "start_time": "2022-12-17T10:07:24.278Z"
   },
   {
    "duration": 30,
    "start_time": "2022-12-17T10:07:24.295Z"
   },
   {
    "duration": 401,
    "start_time": "2022-12-17T10:07:24.327Z"
   },
   {
    "duration": 9,
    "start_time": "2022-12-17T10:07:24.730Z"
   },
   {
    "duration": 19,
    "start_time": "2022-12-17T10:07:24.741Z"
   },
   {
    "duration": 339,
    "start_time": "2022-12-17T10:07:24.762Z"
   },
   {
    "duration": 16,
    "start_time": "2022-12-17T10:07:25.107Z"
   },
   {
    "duration": 384,
    "start_time": "2022-12-17T10:07:25.124Z"
   },
   {
    "duration": 16,
    "start_time": "2022-12-17T10:07:25.510Z"
   },
   {
    "duration": 225,
    "start_time": "2022-12-17T10:07:25.528Z"
   },
   {
    "duration": 9,
    "start_time": "2022-12-17T10:07:25.755Z"
   },
   {
    "duration": 1402,
    "start_time": "2022-12-17T10:07:25.765Z"
   },
   {
    "duration": 10,
    "start_time": "2022-12-17T10:07:27.169Z"
   },
   {
    "duration": 244,
    "start_time": "2022-12-17T10:07:27.180Z"
   },
   {
    "duration": 8,
    "start_time": "2022-12-17T10:07:27.426Z"
   },
   {
    "duration": 247,
    "start_time": "2022-12-17T10:07:27.436Z"
   },
   {
    "duration": 9,
    "start_time": "2022-12-17T10:07:27.685Z"
   },
   {
    "duration": 253,
    "start_time": "2022-12-17T10:07:27.696Z"
   },
   {
    "duration": 9,
    "start_time": "2022-12-17T10:07:27.951Z"
   },
   {
    "duration": 339,
    "start_time": "2022-12-17T10:07:27.961Z"
   },
   {
    "duration": 9,
    "start_time": "2022-12-17T10:07:28.301Z"
   },
   {
    "duration": 244,
    "start_time": "2022-12-17T10:07:28.311Z"
   },
   {
    "duration": 11,
    "start_time": "2022-12-17T10:07:28.556Z"
   },
   {
    "duration": 249,
    "start_time": "2022-12-17T10:07:28.569Z"
   },
   {
    "duration": 10,
    "start_time": "2022-12-17T10:07:28.820Z"
   },
   {
    "duration": 234,
    "start_time": "2022-12-17T10:07:28.831Z"
   },
   {
    "duration": 9,
    "start_time": "2022-12-17T10:07:29.067Z"
   },
   {
    "duration": 226,
    "start_time": "2022-12-17T10:07:29.077Z"
   },
   {
    "duration": 226,
    "start_time": "2022-12-17T10:07:29.305Z"
   },
   {
    "duration": 224,
    "start_time": "2022-12-17T10:07:29.533Z"
   },
   {
    "duration": 214,
    "start_time": "2022-12-17T10:07:29.758Z"
   },
   {
    "duration": 5,
    "start_time": "2022-12-17T10:07:29.973Z"
   },
   {
    "duration": 32,
    "start_time": "2022-12-17T10:07:29.979Z"
   },
   {
    "duration": 31,
    "start_time": "2022-12-17T10:07:30.013Z"
   },
   {
    "duration": 40,
    "start_time": "2022-12-17T10:07:30.046Z"
   },
   {
    "duration": 340,
    "start_time": "2022-12-17T10:07:30.088Z"
   },
   {
    "duration": 5,
    "start_time": "2022-12-17T10:07:30.430Z"
   },
   {
    "duration": 228,
    "start_time": "2022-12-17T10:07:30.437Z"
   },
   {
    "duration": 5,
    "start_time": "2022-12-17T10:07:30.667Z"
   },
   {
    "duration": 196,
    "start_time": "2022-12-17T10:07:30.674Z"
   },
   {
    "duration": 5,
    "start_time": "2022-12-17T10:07:30.872Z"
   },
   {
    "duration": 248,
    "start_time": "2022-12-17T10:07:30.879Z"
   },
   {
    "duration": 191,
    "start_time": "2022-12-17T10:07:31.129Z"
   },
   {
    "duration": 205,
    "start_time": "2022-12-17T10:07:31.322Z"
   },
   {
    "duration": 196,
    "start_time": "2022-12-17T10:07:31.529Z"
   },
   {
    "duration": 25,
    "start_time": "2022-12-17T10:07:31.726Z"
   },
   {
    "duration": 36,
    "start_time": "2022-12-17T10:07:31.753Z"
   },
   {
    "duration": 25,
    "start_time": "2022-12-17T10:07:31.791Z"
   },
   {
    "duration": 134,
    "start_time": "2022-12-17T10:07:31.818Z"
   },
   {
    "duration": 8,
    "start_time": "2022-12-17T10:07:31.954Z"
   },
   {
    "duration": 35,
    "start_time": "2022-12-17T10:07:31.963Z"
   },
   {
    "duration": 33,
    "start_time": "2022-12-17T10:07:32.000Z"
   },
   {
    "duration": 43,
    "start_time": "2022-12-17T10:07:32.035Z"
   },
   {
    "duration": 7,
    "start_time": "2022-12-17T10:15:40.300Z"
   },
   {
    "duration": 100,
    "start_time": "2022-12-17T10:32:08.360Z"
   },
   {
    "duration": 5,
    "start_time": "2022-12-17T10:32:27.692Z"
   },
   {
    "duration": 6,
    "start_time": "2022-12-17T10:32:29.259Z"
   },
   {
    "duration": 5,
    "start_time": "2022-12-17T10:33:06.157Z"
   },
   {
    "duration": 6,
    "start_time": "2022-12-17T10:33:22.434Z"
   },
   {
    "duration": 5,
    "start_time": "2022-12-17T10:33:52.959Z"
   },
   {
    "duration": 6,
    "start_time": "2022-12-17T10:34:07.437Z"
   },
   {
    "duration": 4,
    "start_time": "2022-12-17T10:34:35.287Z"
   },
   {
    "duration": 6,
    "start_time": "2022-12-17T10:34:47.787Z"
   },
   {
    "duration": 5,
    "start_time": "2022-12-17T10:35:02.850Z"
   },
   {
    "duration": 5,
    "start_time": "2022-12-17T10:40:31.300Z"
   },
   {
    "duration": 5,
    "start_time": "2022-12-17T10:41:31.081Z"
   },
   {
    "duration": 4,
    "start_time": "2022-12-17T10:41:47.109Z"
   },
   {
    "duration": 5,
    "start_time": "2022-12-17T10:41:49.596Z"
   },
   {
    "duration": 5,
    "start_time": "2022-12-17T10:42:13.433Z"
   },
   {
    "duration": 4,
    "start_time": "2022-12-17T10:42:14.116Z"
   },
   {
    "duration": 6,
    "start_time": "2022-12-17T10:42:14.552Z"
   },
   {
    "duration": 5,
    "start_time": "2022-12-17T10:42:45.650Z"
   },
   {
    "duration": 4,
    "start_time": "2022-12-17T10:42:46.027Z"
   },
   {
    "duration": 5,
    "start_time": "2022-12-17T10:42:46.320Z"
   },
   {
    "duration": 1106,
    "start_time": "2022-12-17T10:47:10.196Z"
   },
   {
    "duration": 87,
    "start_time": "2022-12-17T10:47:11.304Z"
   },
   {
    "duration": 3,
    "start_time": "2022-12-17T10:47:11.393Z"
   },
   {
    "duration": 36,
    "start_time": "2022-12-17T10:47:11.397Z"
   },
   {
    "duration": 15,
    "start_time": "2022-12-17T10:47:11.435Z"
   },
   {
    "duration": 1937,
    "start_time": "2022-12-17T10:47:11.451Z"
   },
   {
    "duration": 10,
    "start_time": "2022-12-17T10:47:13.389Z"
   },
   {
    "duration": 6,
    "start_time": "2022-12-17T10:47:13.400Z"
   },
   {
    "duration": 7,
    "start_time": "2022-12-17T10:47:13.408Z"
   },
   {
    "duration": 5,
    "start_time": "2022-12-17T10:47:13.417Z"
   },
   {
    "duration": 10,
    "start_time": "2022-12-17T10:47:13.423Z"
   },
   {
    "duration": 6,
    "start_time": "2022-12-17T10:47:13.434Z"
   },
   {
    "duration": 5,
    "start_time": "2022-12-17T10:47:13.441Z"
   },
   {
    "duration": 8,
    "start_time": "2022-12-17T10:47:13.448Z"
   },
   {
    "duration": 7,
    "start_time": "2022-12-17T10:47:13.457Z"
   },
   {
    "duration": 6,
    "start_time": "2022-12-17T10:47:13.466Z"
   },
   {
    "duration": 7,
    "start_time": "2022-12-17T10:47:13.473Z"
   },
   {
    "duration": 36,
    "start_time": "2022-12-17T10:47:13.481Z"
   },
   {
    "duration": 7,
    "start_time": "2022-12-17T10:47:13.520Z"
   },
   {
    "duration": 22,
    "start_time": "2022-12-17T10:47:13.529Z"
   },
   {
    "duration": 7,
    "start_time": "2022-12-17T10:47:13.552Z"
   },
   {
    "duration": 12,
    "start_time": "2022-12-17T10:47:13.561Z"
   },
   {
    "duration": 18,
    "start_time": "2022-12-17T10:47:13.575Z"
   },
   {
    "duration": 4,
    "start_time": "2022-12-17T10:47:13.595Z"
   },
   {
    "duration": 23,
    "start_time": "2022-12-17T10:47:13.600Z"
   },
   {
    "duration": 5,
    "start_time": "2022-12-17T10:47:13.625Z"
   },
   {
    "duration": 10,
    "start_time": "2022-12-17T10:47:13.632Z"
   },
   {
    "duration": 7,
    "start_time": "2022-12-17T10:47:13.644Z"
   },
   {
    "duration": 12,
    "start_time": "2022-12-17T10:47:13.653Z"
   },
   {
    "duration": 11,
    "start_time": "2022-12-17T10:47:13.666Z"
   },
   {
    "duration": 608,
    "start_time": "2022-12-17T10:47:13.679Z"
   },
   {
    "duration": 8,
    "start_time": "2022-12-17T10:47:14.289Z"
   },
   {
    "duration": 8,
    "start_time": "2022-12-17T10:47:14.299Z"
   },
   {
    "duration": 8,
    "start_time": "2022-12-17T10:47:14.322Z"
   },
   {
    "duration": 10,
    "start_time": "2022-12-17T10:47:14.331Z"
   },
   {
    "duration": 15,
    "start_time": "2022-12-17T10:47:14.342Z"
   },
   {
    "duration": 7,
    "start_time": "2022-12-17T10:47:14.358Z"
   },
   {
    "duration": 22,
    "start_time": "2022-12-17T10:47:14.366Z"
   },
   {
    "duration": 4,
    "start_time": "2022-12-17T10:47:14.390Z"
   },
   {
    "duration": 34,
    "start_time": "2022-12-17T10:47:14.396Z"
   },
   {
    "duration": 7,
    "start_time": "2022-12-17T10:47:14.435Z"
   },
   {
    "duration": 342,
    "start_time": "2022-12-17T10:47:14.445Z"
   },
   {
    "duration": 7,
    "start_time": "2022-12-17T10:47:14.788Z"
   },
   {
    "duration": 13,
    "start_time": "2022-12-17T10:47:14.797Z"
   },
   {
    "duration": 339,
    "start_time": "2022-12-17T10:47:14.811Z"
   },
   {
    "duration": 9,
    "start_time": "2022-12-17T10:47:15.152Z"
   },
   {
    "duration": 372,
    "start_time": "2022-12-17T10:47:15.163Z"
   },
   {
    "duration": 11,
    "start_time": "2022-12-17T10:47:15.537Z"
   },
   {
    "duration": 256,
    "start_time": "2022-12-17T10:47:15.550Z"
   },
   {
    "duration": 14,
    "start_time": "2022-12-17T10:47:15.807Z"
   },
   {
    "duration": 1378,
    "start_time": "2022-12-17T10:47:15.823Z"
   },
   {
    "duration": 8,
    "start_time": "2022-12-17T10:47:17.203Z"
   },
   {
    "duration": 234,
    "start_time": "2022-12-17T10:47:17.221Z"
   },
   {
    "duration": 9,
    "start_time": "2022-12-17T10:47:17.456Z"
   },
   {
    "duration": 254,
    "start_time": "2022-12-17T10:47:17.467Z"
   },
   {
    "duration": 9,
    "start_time": "2022-12-17T10:47:17.722Z"
   },
   {
    "duration": 244,
    "start_time": "2022-12-17T10:47:17.733Z"
   },
   {
    "duration": 8,
    "start_time": "2022-12-17T10:47:17.979Z"
   },
   {
    "duration": 360,
    "start_time": "2022-12-17T10:47:17.989Z"
   },
   {
    "duration": 8,
    "start_time": "2022-12-17T10:47:18.350Z"
   },
   {
    "duration": 245,
    "start_time": "2022-12-17T10:47:18.360Z"
   },
   {
    "duration": 20,
    "start_time": "2022-12-17T10:47:18.607Z"
   },
   {
    "duration": 261,
    "start_time": "2022-12-17T10:47:18.629Z"
   },
   {
    "duration": 9,
    "start_time": "2022-12-17T10:47:18.892Z"
   },
   {
    "duration": 265,
    "start_time": "2022-12-17T10:47:18.902Z"
   },
   {
    "duration": 11,
    "start_time": "2022-12-17T10:47:19.169Z"
   },
   {
    "duration": 272,
    "start_time": "2022-12-17T10:47:19.182Z"
   },
   {
    "duration": 226,
    "start_time": "2022-12-17T10:47:19.455Z"
   },
   {
    "duration": 222,
    "start_time": "2022-12-17T10:47:19.683Z"
   },
   {
    "duration": 224,
    "start_time": "2022-12-17T10:47:19.907Z"
   },
   {
    "duration": 4,
    "start_time": "2022-12-17T10:47:20.133Z"
   },
   {
    "duration": 7,
    "start_time": "2022-12-17T10:47:20.138Z"
   },
   {
    "duration": 9,
    "start_time": "2022-12-17T10:47:20.146Z"
   },
   {
    "duration": 24,
    "start_time": "2022-12-17T10:47:20.156Z"
   },
   {
    "duration": 378,
    "start_time": "2022-12-17T10:47:20.181Z"
   },
   {
    "duration": 7,
    "start_time": "2022-12-17T10:47:20.560Z"
   },
   {
    "duration": 232,
    "start_time": "2022-12-17T10:47:20.569Z"
   },
   {
    "duration": 18,
    "start_time": "2022-12-17T10:47:20.803Z"
   },
   {
    "duration": 210,
    "start_time": "2022-12-17T10:47:20.823Z"
   },
   {
    "duration": 6,
    "start_time": "2022-12-17T10:47:21.034Z"
   },
   {
    "duration": 210,
    "start_time": "2022-12-17T10:47:21.041Z"
   },
   {
    "duration": 187,
    "start_time": "2022-12-17T10:47:21.252Z"
   },
   {
    "duration": 217,
    "start_time": "2022-12-17T10:47:21.441Z"
   },
   {
    "duration": 185,
    "start_time": "2022-12-17T10:47:21.659Z"
   },
   {
    "duration": 29,
    "start_time": "2022-12-17T10:47:21.845Z"
   },
   {
    "duration": 15,
    "start_time": "2022-12-17T10:47:21.876Z"
   },
   {
    "duration": 33,
    "start_time": "2022-12-17T10:47:21.893Z"
   },
   {
    "duration": 150,
    "start_time": "2022-12-17T10:47:21.928Z"
   },
   {
    "duration": 9,
    "start_time": "2022-12-17T10:47:22.080Z"
   },
   {
    "duration": 42,
    "start_time": "2022-12-17T10:47:22.091Z"
   },
   {
    "duration": 8,
    "start_time": "2022-12-17T10:47:22.134Z"
   },
   {
    "duration": 39,
    "start_time": "2022-12-17T10:47:22.143Z"
   },
   {
    "duration": 61,
    "start_time": "2022-12-17T10:52:15.232Z"
   },
   {
    "duration": 282,
    "start_time": "2022-12-17T10:52:22.674Z"
   },
   {
    "duration": 265,
    "start_time": "2022-12-17T10:56:44.229Z"
   },
   {
    "duration": 388,
    "start_time": "2022-12-17T12:04:57.957Z"
   },
   {
    "duration": 462,
    "start_time": "2022-12-17T12:05:12.995Z"
   },
   {
    "duration": 14,
    "start_time": "2022-12-17T12:13:59.731Z"
   },
   {
    "duration": 36,
    "start_time": "2022-12-17T12:14:09.978Z"
   },
   {
    "duration": 15,
    "start_time": "2022-12-17T12:14:29.516Z"
   },
   {
    "duration": 52,
    "start_time": "2022-12-17T12:14:35.391Z"
   },
   {
    "duration": 37,
    "start_time": "2022-12-17T12:14:59.714Z"
   },
   {
    "duration": 15,
    "start_time": "2022-12-17T12:15:11.222Z"
   },
   {
    "duration": 15,
    "start_time": "2022-12-17T12:15:41.766Z"
   },
   {
    "duration": 16,
    "start_time": "2022-12-17T12:16:13.878Z"
   },
   {
    "duration": 15,
    "start_time": "2022-12-17T12:16:18.076Z"
   },
   {
    "duration": 46,
    "start_time": "2022-12-17T12:16:27.940Z"
   },
   {
    "duration": 35,
    "start_time": "2022-12-17T12:16:46.940Z"
   },
   {
    "duration": 845,
    "start_time": "2022-12-17T12:17:25.353Z"
   },
   {
    "duration": 621,
    "start_time": "2022-12-17T12:17:43.453Z"
   },
   {
    "duration": 36,
    "start_time": "2022-12-17T12:18:37.618Z"
   },
   {
    "duration": 712,
    "start_time": "2022-12-17T12:24:15.895Z"
   },
   {
    "duration": 505,
    "start_time": "2022-12-17T12:24:35.756Z"
   },
   {
    "duration": 20,
    "start_time": "2022-12-17T12:24:58.034Z"
   },
   {
    "duration": 863,
    "start_time": "2022-12-17T12:27:35.800Z"
   },
   {
    "duration": 49,
    "start_time": "2022-12-17T12:28:16.641Z"
   },
   {
    "duration": 8,
    "start_time": "2022-12-17T12:28:22.216Z"
   },
   {
    "duration": 19,
    "start_time": "2022-12-17T12:28:35.480Z"
   },
   {
    "duration": 19,
    "start_time": "2022-12-17T12:28:47.995Z"
   },
   {
    "duration": 15,
    "start_time": "2022-12-17T12:29:06.311Z"
   },
   {
    "duration": 42,
    "start_time": "2022-12-17T12:29:15.622Z"
   },
   {
    "duration": 11,
    "start_time": "2022-12-17T12:33:46.344Z"
   },
   {
    "duration": 12,
    "start_time": "2022-12-17T12:34:07.346Z"
   },
   {
    "duration": 15,
    "start_time": "2022-12-17T12:34:32.789Z"
   },
   {
    "duration": 10,
    "start_time": "2022-12-17T12:34:49.290Z"
   },
   {
    "duration": 8,
    "start_time": "2022-12-17T12:35:19.831Z"
   },
   {
    "duration": 9,
    "start_time": "2022-12-17T12:35:27.923Z"
   },
   {
    "duration": 8,
    "start_time": "2022-12-17T12:35:32.292Z"
   },
   {
    "duration": 8,
    "start_time": "2022-12-17T12:36:13.420Z"
   },
   {
    "duration": 1071,
    "start_time": "2022-12-17T12:36:47.444Z"
   },
   {
    "duration": 95,
    "start_time": "2022-12-17T12:36:48.517Z"
   },
   {
    "duration": 3,
    "start_time": "2022-12-17T12:36:48.613Z"
   },
   {
    "duration": 31,
    "start_time": "2022-12-17T12:36:48.618Z"
   },
   {
    "duration": 14,
    "start_time": "2022-12-17T12:36:48.651Z"
   },
   {
    "duration": 1918,
    "start_time": "2022-12-17T12:36:48.666Z"
   },
   {
    "duration": 9,
    "start_time": "2022-12-17T12:36:50.586Z"
   },
   {
    "duration": 7,
    "start_time": "2022-12-17T12:36:50.597Z"
   },
   {
    "duration": 13,
    "start_time": "2022-12-17T12:36:50.606Z"
   },
   {
    "duration": 4,
    "start_time": "2022-12-17T12:36:50.622Z"
   },
   {
    "duration": 6,
    "start_time": "2022-12-17T12:36:50.627Z"
   },
   {
    "duration": 7,
    "start_time": "2022-12-17T12:36:50.635Z"
   },
   {
    "duration": 8,
    "start_time": "2022-12-17T12:36:50.644Z"
   },
   {
    "duration": 7,
    "start_time": "2022-12-17T12:36:50.653Z"
   },
   {
    "duration": 6,
    "start_time": "2022-12-17T12:36:50.662Z"
   },
   {
    "duration": 8,
    "start_time": "2022-12-17T12:36:50.669Z"
   },
   {
    "duration": 13,
    "start_time": "2022-12-17T12:36:50.678Z"
   },
   {
    "duration": 28,
    "start_time": "2022-12-17T12:36:50.693Z"
   },
   {
    "duration": 7,
    "start_time": "2022-12-17T12:36:50.722Z"
   },
   {
    "duration": 14,
    "start_time": "2022-12-17T12:36:50.731Z"
   },
   {
    "duration": 7,
    "start_time": "2022-12-17T12:36:50.746Z"
   },
   {
    "duration": 10,
    "start_time": "2022-12-17T12:36:50.755Z"
   },
   {
    "duration": 23,
    "start_time": "2022-12-17T12:36:50.766Z"
   },
   {
    "duration": 4,
    "start_time": "2022-12-17T12:36:50.790Z"
   },
   {
    "duration": 26,
    "start_time": "2022-12-17T12:36:50.796Z"
   },
   {
    "duration": 5,
    "start_time": "2022-12-17T12:36:50.824Z"
   },
   {
    "duration": 8,
    "start_time": "2022-12-17T12:36:50.830Z"
   },
   {
    "duration": 6,
    "start_time": "2022-12-17T12:36:50.842Z"
   },
   {
    "duration": 15,
    "start_time": "2022-12-17T12:36:50.850Z"
   },
   {
    "duration": 8,
    "start_time": "2022-12-17T12:36:50.867Z"
   },
   {
    "duration": 625,
    "start_time": "2022-12-17T12:36:50.876Z"
   },
   {
    "duration": 18,
    "start_time": "2022-12-17T12:36:51.503Z"
   },
   {
    "duration": 9,
    "start_time": "2022-12-17T12:36:51.523Z"
   },
   {
    "duration": 8,
    "start_time": "2022-12-17T12:36:51.534Z"
   },
   {
    "duration": 33,
    "start_time": "2022-12-17T12:36:51.544Z"
   },
   {
    "duration": 10,
    "start_time": "2022-12-17T12:36:51.579Z"
   },
   {
    "duration": 6,
    "start_time": "2022-12-17T12:36:51.591Z"
   },
   {
    "duration": 26,
    "start_time": "2022-12-17T12:36:51.598Z"
   },
   {
    "duration": 6,
    "start_time": "2022-12-17T12:36:51.625Z"
   },
   {
    "duration": 13,
    "start_time": "2022-12-17T12:36:51.632Z"
   },
   {
    "duration": 17,
    "start_time": "2022-12-17T12:36:51.646Z"
   },
   {
    "duration": 330,
    "start_time": "2022-12-17T12:36:51.664Z"
   },
   {
    "duration": 7,
    "start_time": "2022-12-17T12:36:51.996Z"
   },
   {
    "duration": 17,
    "start_time": "2022-12-17T12:36:52.004Z"
   },
   {
    "duration": 331,
    "start_time": "2022-12-17T12:36:52.023Z"
   },
   {
    "duration": 9,
    "start_time": "2022-12-17T12:36:52.356Z"
   },
   {
    "duration": 337,
    "start_time": "2022-12-17T12:36:52.367Z"
   },
   {
    "duration": 8,
    "start_time": "2022-12-17T12:36:52.705Z"
   },
   {
    "duration": 291,
    "start_time": "2022-12-17T12:36:52.721Z"
   },
   {
    "duration": 13,
    "start_time": "2022-12-17T12:36:53.014Z"
   },
   {
    "duration": 1401,
    "start_time": "2022-12-17T12:36:53.029Z"
   },
   {
    "duration": 9,
    "start_time": "2022-12-17T12:36:54.432Z"
   },
   {
    "duration": 268,
    "start_time": "2022-12-17T12:36:54.442Z"
   },
   {
    "duration": 16,
    "start_time": "2022-12-17T12:36:54.713Z"
   },
   {
    "duration": 236,
    "start_time": "2022-12-17T12:36:54.730Z"
   },
   {
    "duration": 7,
    "start_time": "2022-12-17T12:36:54.968Z"
   },
   {
    "duration": 247,
    "start_time": "2022-12-17T12:36:54.977Z"
   },
   {
    "duration": 9,
    "start_time": "2022-12-17T12:36:55.225Z"
   },
   {
    "duration": 404,
    "start_time": "2022-12-17T12:36:55.236Z"
   },
   {
    "duration": 13,
    "start_time": "2022-12-17T12:36:55.643Z"
   },
   {
    "duration": 265,
    "start_time": "2022-12-17T12:36:55.658Z"
   },
   {
    "duration": 8,
    "start_time": "2022-12-17T12:36:55.925Z"
   },
   {
    "duration": 230,
    "start_time": "2022-12-17T12:36:55.935Z"
   },
   {
    "duration": 9,
    "start_time": "2022-12-17T12:36:56.166Z"
   },
   {
    "duration": 234,
    "start_time": "2022-12-17T12:36:56.176Z"
   },
   {
    "duration": 12,
    "start_time": "2022-12-17T12:36:56.412Z"
   },
   {
    "duration": 222,
    "start_time": "2022-12-17T12:36:56.426Z"
   },
   {
    "duration": 242,
    "start_time": "2022-12-17T12:36:56.650Z"
   },
   {
    "duration": 222,
    "start_time": "2022-12-17T12:36:56.893Z"
   },
   {
    "duration": 783,
    "start_time": "2022-12-17T12:36:57.120Z"
   },
   {
    "duration": 527,
    "start_time": "2022-12-17T12:36:57.904Z"
   },
   {
    "duration": 43,
    "start_time": "2022-12-17T12:36:58.433Z"
   },
   {
    "duration": 0,
    "start_time": "2022-12-17T12:36:58.478Z"
   },
   {
    "duration": 0,
    "start_time": "2022-12-17T12:36:58.479Z"
   },
   {
    "duration": 0,
    "start_time": "2022-12-17T12:36:58.480Z"
   },
   {
    "duration": 0,
    "start_time": "2022-12-17T12:36:58.481Z"
   },
   {
    "duration": 0,
    "start_time": "2022-12-17T12:36:58.482Z"
   },
   {
    "duration": 0,
    "start_time": "2022-12-17T12:36:58.483Z"
   },
   {
    "duration": 0,
    "start_time": "2022-12-17T12:36:58.484Z"
   },
   {
    "duration": 0,
    "start_time": "2022-12-17T12:36:58.485Z"
   },
   {
    "duration": 0,
    "start_time": "2022-12-17T12:36:58.487Z"
   },
   {
    "duration": 0,
    "start_time": "2022-12-17T12:36:58.488Z"
   },
   {
    "duration": 0,
    "start_time": "2022-12-17T12:36:58.489Z"
   },
   {
    "duration": 0,
    "start_time": "2022-12-17T12:36:58.490Z"
   },
   {
    "duration": 0,
    "start_time": "2022-12-17T12:36:58.491Z"
   },
   {
    "duration": 0,
    "start_time": "2022-12-17T12:36:58.492Z"
   },
   {
    "duration": 0,
    "start_time": "2022-12-17T12:36:58.493Z"
   },
   {
    "duration": 0,
    "start_time": "2022-12-17T12:36:58.494Z"
   },
   {
    "duration": 0,
    "start_time": "2022-12-17T12:36:58.495Z"
   },
   {
    "duration": 0,
    "start_time": "2022-12-17T12:36:58.496Z"
   },
   {
    "duration": 0,
    "start_time": "2022-12-17T12:36:58.497Z"
   },
   {
    "duration": 0,
    "start_time": "2022-12-17T12:36:58.498Z"
   },
   {
    "duration": 1,
    "start_time": "2022-12-17T12:36:58.499Z"
   },
   {
    "duration": 0,
    "start_time": "2022-12-17T12:36:58.501Z"
   },
   {
    "duration": 0,
    "start_time": "2022-12-17T12:36:58.502Z"
   },
   {
    "duration": 45,
    "start_time": "2022-12-17T12:37:29.742Z"
   },
   {
    "duration": 45,
    "start_time": "2022-12-17T12:37:38.349Z"
   },
   {
    "duration": 4,
    "start_time": "2022-12-17T12:37:45.702Z"
   },
   {
    "duration": 10,
    "start_time": "2022-12-17T12:37:51.125Z"
   },
   {
    "duration": 12,
    "start_time": "2022-12-17T12:40:45.224Z"
   },
   {
    "duration": 119,
    "start_time": "2022-12-17T12:41:12.277Z"
   },
   {
    "duration": 6,
    "start_time": "2022-12-17T12:41:30.159Z"
   },
   {
    "duration": 18,
    "start_time": "2022-12-17T12:42:29.943Z"
   },
   {
    "duration": 14,
    "start_time": "2022-12-17T12:42:46.171Z"
   },
   {
    "duration": 17,
    "start_time": "2022-12-17T12:42:52.794Z"
   },
   {
    "duration": 6,
    "start_time": "2022-12-17T12:43:13.223Z"
   },
   {
    "duration": 16,
    "start_time": "2022-12-17T12:44:04.064Z"
   },
   {
    "duration": 35,
    "start_time": "2022-12-17T12:44:20.952Z"
   },
   {
    "duration": 21,
    "start_time": "2022-12-17T12:45:40.861Z"
   },
   {
    "duration": 19,
    "start_time": "2022-12-17T12:45:48.542Z"
   },
   {
    "duration": 4,
    "start_time": "2022-12-17T12:51:28.091Z"
   },
   {
    "duration": 4,
    "start_time": "2022-12-17T12:51:45.395Z"
   },
   {
    "duration": 7,
    "start_time": "2022-12-17T12:51:57.636Z"
   },
   {
    "duration": 564,
    "start_time": "2022-12-17T12:52:23.173Z"
   },
   {
    "duration": 1140,
    "start_time": "2022-12-17T12:53:58.480Z"
   },
   {
    "duration": 94,
    "start_time": "2022-12-17T12:53:59.623Z"
   },
   {
    "duration": 2,
    "start_time": "2022-12-17T12:53:59.719Z"
   },
   {
    "duration": 35,
    "start_time": "2022-12-17T12:53:59.723Z"
   },
   {
    "duration": 14,
    "start_time": "2022-12-17T12:53:59.759Z"
   },
   {
    "duration": 1910,
    "start_time": "2022-12-17T12:53:59.774Z"
   },
   {
    "duration": 10,
    "start_time": "2022-12-17T12:54:01.685Z"
   },
   {
    "duration": 18,
    "start_time": "2022-12-17T12:54:01.697Z"
   },
   {
    "duration": 29,
    "start_time": "2022-12-17T12:54:01.717Z"
   },
   {
    "duration": 17,
    "start_time": "2022-12-17T12:54:01.750Z"
   },
   {
    "duration": 28,
    "start_time": "2022-12-17T12:54:01.769Z"
   },
   {
    "duration": 30,
    "start_time": "2022-12-17T12:54:01.799Z"
   },
   {
    "duration": 16,
    "start_time": "2022-12-17T12:54:01.830Z"
   },
   {
    "duration": 19,
    "start_time": "2022-12-17T12:54:01.848Z"
   },
   {
    "duration": 26,
    "start_time": "2022-12-17T12:54:01.868Z"
   },
   {
    "duration": 35,
    "start_time": "2022-12-17T12:54:01.896Z"
   },
   {
    "duration": 16,
    "start_time": "2022-12-17T12:54:01.933Z"
   },
   {
    "duration": 25,
    "start_time": "2022-12-17T12:54:01.951Z"
   },
   {
    "duration": 9,
    "start_time": "2022-12-17T12:54:01.978Z"
   },
   {
    "duration": 37,
    "start_time": "2022-12-17T12:54:01.989Z"
   },
   {
    "duration": 18,
    "start_time": "2022-12-17T12:54:02.028Z"
   },
   {
    "duration": 23,
    "start_time": "2022-12-17T12:54:02.047Z"
   },
   {
    "duration": 20,
    "start_time": "2022-12-17T12:54:02.072Z"
   },
   {
    "duration": 23,
    "start_time": "2022-12-17T12:54:02.093Z"
   },
   {
    "duration": 20,
    "start_time": "2022-12-17T12:54:02.118Z"
   },
   {
    "duration": 38,
    "start_time": "2022-12-17T12:54:02.140Z"
   },
   {
    "duration": 18,
    "start_time": "2022-12-17T12:54:02.180Z"
   },
   {
    "duration": 24,
    "start_time": "2022-12-17T12:54:02.202Z"
   },
   {
    "duration": 20,
    "start_time": "2022-12-17T12:54:02.227Z"
   },
   {
    "duration": 21,
    "start_time": "2022-12-17T12:54:02.249Z"
   },
   {
    "duration": 617,
    "start_time": "2022-12-17T12:54:02.272Z"
   },
   {
    "duration": 9,
    "start_time": "2022-12-17T12:54:02.890Z"
   },
   {
    "duration": 21,
    "start_time": "2022-12-17T12:54:02.900Z"
   },
   {
    "duration": 7,
    "start_time": "2022-12-17T12:54:02.923Z"
   },
   {
    "duration": 7,
    "start_time": "2022-12-17T12:54:02.932Z"
   },
   {
    "duration": 13,
    "start_time": "2022-12-17T12:54:02.940Z"
   },
   {
    "duration": 5,
    "start_time": "2022-12-17T12:54:02.954Z"
   },
   {
    "duration": 13,
    "start_time": "2022-12-17T12:54:02.961Z"
   },
   {
    "duration": 5,
    "start_time": "2022-12-17T12:54:02.975Z"
   },
   {
    "duration": 41,
    "start_time": "2022-12-17T12:54:02.982Z"
   },
   {
    "duration": 9,
    "start_time": "2022-12-17T12:54:03.025Z"
   },
   {
    "duration": 313,
    "start_time": "2022-12-17T12:54:03.036Z"
   },
   {
    "duration": 7,
    "start_time": "2022-12-17T12:54:03.351Z"
   },
   {
    "duration": 11,
    "start_time": "2022-12-17T12:54:03.360Z"
   },
   {
    "duration": 337,
    "start_time": "2022-12-17T12:54:03.373Z"
   },
   {
    "duration": 14,
    "start_time": "2022-12-17T12:54:03.712Z"
   },
   {
    "duration": 370,
    "start_time": "2022-12-17T12:54:03.727Z"
   },
   {
    "duration": 11,
    "start_time": "2022-12-17T12:54:04.098Z"
   },
   {
    "duration": 290,
    "start_time": "2022-12-17T12:54:04.111Z"
   },
   {
    "duration": 9,
    "start_time": "2022-12-17T12:54:04.403Z"
   },
   {
    "duration": 1482,
    "start_time": "2022-12-17T12:54:04.421Z"
   },
   {
    "duration": 9,
    "start_time": "2022-12-17T12:54:05.904Z"
   },
   {
    "duration": 242,
    "start_time": "2022-12-17T12:54:05.914Z"
   },
   {
    "duration": 10,
    "start_time": "2022-12-17T12:54:06.157Z"
   },
   {
    "duration": 241,
    "start_time": "2022-12-17T12:54:06.169Z"
   },
   {
    "duration": 14,
    "start_time": "2022-12-17T12:54:06.412Z"
   },
   {
    "duration": 242,
    "start_time": "2022-12-17T12:54:06.428Z"
   },
   {
    "duration": 9,
    "start_time": "2022-12-17T12:54:06.671Z"
   },
   {
    "duration": 357,
    "start_time": "2022-12-17T12:54:06.681Z"
   },
   {
    "duration": 8,
    "start_time": "2022-12-17T12:54:07.040Z"
   },
   {
    "duration": 229,
    "start_time": "2022-12-17T12:54:07.050Z"
   },
   {
    "duration": 9,
    "start_time": "2022-12-17T12:54:07.280Z"
   },
   {
    "duration": 233,
    "start_time": "2022-12-17T12:54:07.290Z"
   },
   {
    "duration": 9,
    "start_time": "2022-12-17T12:54:07.525Z"
   },
   {
    "duration": 218,
    "start_time": "2022-12-17T12:54:07.535Z"
   },
   {
    "duration": 9,
    "start_time": "2022-12-17T12:54:07.755Z"
   },
   {
    "duration": 215,
    "start_time": "2022-12-17T12:54:07.765Z"
   },
   {
    "duration": 222,
    "start_time": "2022-12-17T12:54:07.982Z"
   },
   {
    "duration": 218,
    "start_time": "2022-12-17T12:54:08.206Z"
   },
   {
    "duration": 832,
    "start_time": "2022-12-17T12:54:08.425Z"
   },
   {
    "duration": 516,
    "start_time": "2022-12-17T12:54:09.259Z"
   },
   {
    "duration": 9,
    "start_time": "2022-12-17T12:54:09.776Z"
   },
   {
    "duration": 529,
    "start_time": "2022-12-17T12:54:09.786Z"
   },
   {
    "duration": 21,
    "start_time": "2022-12-17T12:54:10.316Z"
   },
   {
    "duration": 9,
    "start_time": "2022-12-17T12:54:10.339Z"
   },
   {
    "duration": 11,
    "start_time": "2022-12-17T12:54:10.349Z"
   },
   {
    "duration": 9,
    "start_time": "2022-12-17T12:54:10.362Z"
   },
   {
    "duration": 18,
    "start_time": "2022-12-17T12:54:10.373Z"
   },
   {
    "duration": 210,
    "start_time": "2022-12-17T12:54:10.393Z"
   },
   {
    "duration": 7,
    "start_time": "2022-12-17T12:54:10.605Z"
   },
   {
    "duration": 205,
    "start_time": "2022-12-17T12:54:10.621Z"
   },
   {
    "duration": 5,
    "start_time": "2022-12-17T12:54:10.832Z"
   },
   {
    "duration": 208,
    "start_time": "2022-12-17T12:54:10.839Z"
   },
   {
    "duration": 5,
    "start_time": "2022-12-17T12:54:11.049Z"
   },
   {
    "duration": 193,
    "start_time": "2022-12-17T12:54:11.055Z"
   },
   {
    "duration": 185,
    "start_time": "2022-12-17T12:54:11.249Z"
   },
   {
    "duration": 202,
    "start_time": "2022-12-17T12:54:11.435Z"
   },
   {
    "duration": 180,
    "start_time": "2022-12-17T12:54:11.639Z"
   },
   {
    "duration": 24,
    "start_time": "2022-12-17T12:54:11.821Z"
   },
   {
    "duration": 15,
    "start_time": "2022-12-17T12:54:11.847Z"
   },
   {
    "duration": 18,
    "start_time": "2022-12-17T12:54:11.863Z"
   },
   {
    "duration": 177,
    "start_time": "2022-12-17T12:54:11.883Z"
   },
   {
    "duration": 8,
    "start_time": "2022-12-17T12:54:12.062Z"
   },
   {
    "duration": 27,
    "start_time": "2022-12-17T12:54:12.071Z"
   },
   {
    "duration": 23,
    "start_time": "2022-12-17T12:54:12.100Z"
   },
   {
    "duration": 234,
    "start_time": "2022-12-17T12:54:12.125Z"
   },
   {
    "duration": 16,
    "start_time": "2022-12-17T12:55:38.826Z"
   },
   {
    "duration": 65,
    "start_time": "2022-12-17T12:55:44.914Z"
   },
   {
    "duration": 41,
    "start_time": "2022-12-17T12:55:51.456Z"
   },
   {
    "duration": 15,
    "start_time": "2022-12-17T12:56:13.333Z"
   }
  ],
  "kernelspec": {
   "display_name": "Python 3 (ipykernel)",
   "language": "python",
   "name": "python3"
  },
  "language_info": {
   "codemirror_mode": {
    "name": "ipython",
    "version": 3
   },
   "file_extension": ".py",
   "mimetype": "text/x-python",
   "name": "python",
   "nbconvert_exporter": "python",
   "pygments_lexer": "ipython3",
   "version": "3.9.5"
  },
  "toc": {
   "base_numbering": 1,
   "nav_menu": {},
   "number_sections": true,
   "sideBar": true,
   "skip_h1_title": true,
   "title_cell": "Table of Contents",
   "title_sidebar": "Contents",
   "toc_cell": false,
   "toc_position": {},
   "toc_section_display": true,
   "toc_window_display": false
  }
 },
 "nbformat": 4,
 "nbformat_minor": 2
}
